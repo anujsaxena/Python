{
  "nbformat": 4,
  "nbformat_minor": 0,
  "metadata": {
    "colab": {
      "name": "Pandas_tut.ipynb",
      "provenance": [],
      "collapsed_sections": [],
      "authorship_tag": "ABX9TyMWpzBjrvhhcPkXHTJ0OT3K",
      "include_colab_link": true
    },
    "kernelspec": {
      "name": "python3",
      "display_name": "Python 3"
    },
    "language_info": {
      "name": "python"
    }
  },
  "cells": [
    {
      "cell_type": "markdown",
      "metadata": {
        "id": "view-in-github",
        "colab_type": "text"
      },
      "source": [
        "<a href=\"https://colab.research.google.com/github/anujsaxena/Python/blob/main/Pandas_tut.ipynb\" target=\"_parent\"><img src=\"https://colab.research.google.com/assets/colab-badge.svg\" alt=\"Open In Colab\"/></a>"
      ]
    },
    {
      "cell_type": "markdown",
      "metadata": {
        "id": "lqaFrRhzEygA"
      },
      "source": [
        "# **Pandas**\n",
        "Pandas is an open-source Python library that uses strong data structures to provide a high-performance data manipulation and analysis tool. Pandas gets its name from the term Panel Data, which is an Econometrics term for multidimensional data.\n",
        "\n",
        "When developer Wes McKinney needed a high-performance, versatile tool for data analysis, he started creating pandas in 2008.\n",
        "Python was formerly mostly used for data munging (the act of converting data to a different format) and preparation before Pandas. It made just a minor contribution to data analysis. This issue was fixed by pandas. Regardless of the data's origin, we may perform five common processes in data processing and analysis with Pandas:\n",
        "\n",
        "1. load\n",
        "2. prepare\n",
        "3. manipulate\n",
        "4. model\n",
        "5. analysis\n",
        "\n",
        "# **Key Features of Pandas**\n",
        "1. Fast and efficient DataFrame object with default and customized indexing.\n",
        "2. Tools for loading data into in-memory data objects from different file formats.\n",
        "3. Data alignment and integrated handling of missing data.\n",
        "4. Reshaping and pivoting of data sets.\n",
        "5. Label-based slicing, indexing and subsetting of large data sets.\n",
        "6. Columns from a data structure can be deleted or inserted.\n",
        "7. Group by data for aggregation and transformations.\n",
        "8. High performance merging and joining of data.\n",
        "9. Time Series functionality.\n",
        "\n",
        "# **Series**\n",
        "\n",
        "A pandas Series can be created using the following constructor −\n",
        "\n",
        "pandas.Series(data, index, dtype, copy)\n",
        "\n",
        "Description of parameters\n",
        "\n",
        "1. data\n",
        "\n",
        "data takes various forms like ndarray, list, constants\n",
        "2. Index\n",
        "\n",
        "Index values must be unique and hashable, same length as data. Default np.arrange(n) if no index is passed.\n",
        "3. dtype\n",
        "\n",
        "dtype is for data type. If None, data type will be inferred\n",
        "4. copy\n",
        "\n",
        "Copy data. Default False\n",
        "\n",
        "An empty series can be created or it can take following input:\n",
        "1. Array\n",
        "2. Dictionary\n",
        "3. Scalar Values or constants\n"
      ]
    },
    {
      "cell_type": "code",
      "metadata": {
        "colab": {
          "base_uri": "https://localhost:8080/"
        },
        "id": "vTzW9KU8HH__",
        "outputId": "2d940467-a24a-4350-d087-31e73291a5be"
      },
      "source": [
        "import pandas as pd\n",
        "s = pd.Series()\n",
        "print(s)"
      ],
      "execution_count": 2,
      "outputs": [
        {
          "output_type": "stream",
          "name": "stdout",
          "text": [
            "Series([], dtype: float64)\n"
          ]
        },
        {
          "output_type": "stream",
          "name": "stderr",
          "text": [
            "/usr/local/lib/python3.7/dist-packages/ipykernel_launcher.py:2: DeprecationWarning: The default dtype for empty Series will be 'object' instead of 'float64' in a future version. Specify a dtype explicitly to silence this warning.\n",
            "  \n"
          ]
        }
      ]
    },
    {
      "cell_type": "code",
      "metadata": {
        "colab": {
          "base_uri": "https://localhost:8080/"
        },
        "id": "ACGNibSRLhbL",
        "outputId": "0dc60aff-cbf0-40c8-c750-f2f400b2a8d0"
      },
      "source": [
        "import numpy as np\n",
        "import pandas as pd\n",
        "data = np.array(['a','e','i','o','u'])\n",
        "print(data)\n",
        "print(type(data))\n",
        "s= pd.Series(data)\n",
        "print(s)\n",
        "print(type(s))"
      ],
      "execution_count": 3,
      "outputs": [
        {
          "output_type": "stream",
          "name": "stdout",
          "text": [
            "['a' 'e' 'i' 'o' 'u']\n",
            "<class 'numpy.ndarray'>\n",
            "0    a\n",
            "1    e\n",
            "2    i\n",
            "3    o\n",
            "4    u\n",
            "dtype: object\n",
            "<class 'pandas.core.series.Series'>\n"
          ]
        }
      ]
    },
    {
      "cell_type": "code",
      "metadata": {
        "colab": {
          "base_uri": "https://localhost:8080/"
        },
        "id": "bgMbUz-1MHHr",
        "outputId": "465a7e7f-855d-4695-fa52-df9db0a9225a"
      },
      "source": [
        "data = np.array(['a','e','i','o','u'])\n",
        "print(data)\n",
        "print(type(data))\n",
        "s= pd.Series(data, index=[100,101,102, 103, 104])\n",
        "print(s)\n",
        "print(type(s))"
      ],
      "execution_count": 4,
      "outputs": [
        {
          "output_type": "stream",
          "name": "stdout",
          "text": [
            "['a' 'e' 'i' 'o' 'u']\n",
            "<class 'numpy.ndarray'>\n",
            "100    a\n",
            "101    e\n",
            "102    i\n",
            "103    o\n",
            "104    u\n",
            "dtype: object\n",
            "<class 'pandas.core.series.Series'>\n"
          ]
        }
      ]
    },
    {
      "cell_type": "code",
      "metadata": {
        "colab": {
          "base_uri": "https://localhost:8080/"
        },
        "id": "yXYNnP3YLg23",
        "outputId": "84aa9f9f-2d70-4f01-cfd0-d8bd3d887d0d"
      },
      "source": [
        "a = np.arange(100,105)\n",
        "s= pd.Series(data, a)\n",
        "print(s)\n",
        "print(type(s))"
      ],
      "execution_count": 6,
      "outputs": [
        {
          "output_type": "stream",
          "name": "stdout",
          "text": [
            "100    a\n",
            "101    e\n",
            "102    i\n",
            "103    o\n",
            "104    u\n",
            "dtype: object\n",
            "<class 'pandas.core.series.Series'>\n"
          ]
        }
      ]
    },
    {
      "cell_type": "markdown",
      "metadata": {
        "id": "7_YVrnWjM7Uv"
      },
      "source": [
        "# **From Dictionary**"
      ]
    },
    {
      "cell_type": "code",
      "metadata": {
        "colab": {
          "base_uri": "https://localhost:8080/"
        },
        "id": "4qM66ieZM4SH",
        "outputId": "9fbe1ca2-a849-4ba0-8e4c-572b78190653"
      },
      "source": [
        "import pandas as pd\n",
        "data = {'a' : 0., 'b' : 1., 'c' : 2.}\n",
        "print(type(data))\n",
        "s = pd.Series(data)\n",
        "print(s)\n",
        "print(type(s))\n"
      ],
      "execution_count": 7,
      "outputs": [
        {
          "output_type": "stream",
          "name": "stdout",
          "text": [
            "<class 'dict'>\n",
            "a    0.0\n",
            "b    1.0\n",
            "c    2.0\n",
            "dtype: float64\n",
            "<class 'pandas.core.series.Series'>\n"
          ]
        }
      ]
    },
    {
      "cell_type": "code",
      "metadata": {
        "colab": {
          "base_uri": "https://localhost:8080/"
        },
        "id": "GZtpGMQcNRzO",
        "outputId": "163433f9-77a0-4bc4-eef3-8a2061cada6c"
      },
      "source": [
        "import pandas as pd\n",
        "data = {'a' : 0., 'b' : 1., 'c' : 2.}\n",
        "s = pd.Series(data,index=['b','c','a'])\n",
        "print(s)\n"
      ],
      "execution_count": 8,
      "outputs": [
        {
          "output_type": "stream",
          "name": "stdout",
          "text": [
            "b    1.0\n",
            "c    2.0\n",
            "a    0.0\n",
            "dtype: float64\n"
          ]
        }
      ]
    },
    {
      "cell_type": "code",
      "metadata": {
        "colab": {
          "base_uri": "https://localhost:8080/"
        },
        "id": "bD8oqeWcNjpa",
        "outputId": "25aaefb5-f7cf-4641-dfc1-cc4789b3abc1"
      },
      "source": [
        "import pandas as pd\n",
        "data = {'a' : 0., 'b' : 1., 'c' : 2.}\n",
        "s = pd.Series(data,index=['b','c','d','a'])\n",
        "print(s)"
      ],
      "execution_count": 9,
      "outputs": [
        {
          "output_type": "stream",
          "name": "stdout",
          "text": [
            "b    1.0\n",
            "c    2.0\n",
            "d    NaN\n",
            "a    0.0\n",
            "dtype: float64\n"
          ]
        }
      ]
    },
    {
      "cell_type": "markdown",
      "metadata": {
        "id": "CqKIRfarNtIh"
      },
      "source": [
        "# **From Scalar**"
      ]
    },
    {
      "cell_type": "code",
      "metadata": {
        "colab": {
          "base_uri": "https://localhost:8080/"
        },
        "id": "SejYfgsfNspF",
        "outputId": "254f5725-8568-4252-ced5-51980712d479"
      },
      "source": [
        "import pandas as pd\n",
        "import numpy as np\n",
        "s = pd.Series(5, index=[0, 1, 2, 3])\n",
        "print(s)\n"
      ],
      "execution_count": 10,
      "outputs": [
        {
          "output_type": "stream",
          "name": "stdout",
          "text": [
            "0    5\n",
            "1    5\n",
            "2    5\n",
            "3    5\n",
            "dtype: int64\n"
          ]
        }
      ]
    },
    {
      "cell_type": "code",
      "metadata": {
        "colab": {
          "base_uri": "https://localhost:8080/"
        },
        "id": "pPCNDAY_N58h",
        "outputId": "98791cc9-b9cc-42a7-ae23-8f7e87aa38fd"
      },
      "source": [
        "import pandas as pd\n",
        "import numpy as np\n",
        "s = pd.Series('a', index=[0, 1, 2, 3])\n",
        "print(s)\n"
      ],
      "execution_count": 11,
      "outputs": [
        {
          "output_type": "stream",
          "name": "stdout",
          "text": [
            "0    a\n",
            "1    a\n",
            "2    a\n",
            "3    a\n",
            "dtype: object\n"
          ]
        }
      ]
    },
    {
      "cell_type": "markdown",
      "metadata": {
        "id": "ndH2Yx7iODA6"
      },
      "source": [
        "# **Access Series with position**"
      ]
    },
    {
      "cell_type": "code",
      "metadata": {
        "colab": {
          "base_uri": "https://localhost:8080/"
        },
        "id": "7OATnh39OBvx",
        "outputId": "50b543c1-6a24-4095-b3f8-3b0e37c83fbc"
      },
      "source": [
        "s = pd.Series([1,2,3,4,5],index = ['a','b','c','d','e'])\n",
        "print(s)\n",
        "#retrieve the first element\n",
        "print(s[0])\n"
      ],
      "execution_count": 12,
      "outputs": [
        {
          "output_type": "stream",
          "name": "stdout",
          "text": [
            "a    1\n",
            "b    2\n",
            "c    3\n",
            "d    4\n",
            "e    5\n",
            "dtype: int64\n",
            "1\n"
          ]
        }
      ]
    },
    {
      "cell_type": "code",
      "metadata": {
        "colab": {
          "base_uri": "https://localhost:8080/"
        },
        "id": "C9c9fuWrOYv_",
        "outputId": "009b6c72-6a72-432e-ab43-7b8763bde004"
      },
      "source": [
        "s = pd.Series([1,2,3,4,5],index = ['a','b','c','d','e'])\n",
        "print(s)\n",
        "#retrieve the first element\n",
        "print(s[2])"
      ],
      "execution_count": 13,
      "outputs": [
        {
          "output_type": "stream",
          "name": "stdout",
          "text": [
            "a    1\n",
            "b    2\n",
            "c    3\n",
            "d    4\n",
            "e    5\n",
            "dtype: int64\n",
            "3\n"
          ]
        }
      ]
    },
    {
      "cell_type": "code",
      "metadata": {
        "colab": {
          "base_uri": "https://localhost:8080/"
        },
        "id": "EfXKwtFxOhrM",
        "outputId": "258a09cc-4f33-4281-bb47-1b2803724589"
      },
      "source": [
        "import pandas as pd\n",
        "s = pd.Series([1,2,3,4,5],index = ['a','b','c','d','e'])\n",
        "print(s)\n",
        "#retrieve the elements\n",
        "print(s[0:])\n",
        "print(s[2:])\n",
        "print(s[:1])\n",
        "print(s[:3])\n",
        "print(s[-3:])\n",
        "print(s[:-3])\n"
      ],
      "execution_count": 14,
      "outputs": [
        {
          "output_type": "stream",
          "name": "stdout",
          "text": [
            "a    1\n",
            "b    2\n",
            "c    3\n",
            "d    4\n",
            "e    5\n",
            "dtype: int64\n",
            "a    1\n",
            "b    2\n",
            "c    3\n",
            "d    4\n",
            "e    5\n",
            "dtype: int64\n",
            "c    3\n",
            "d    4\n",
            "e    5\n",
            "dtype: int64\n",
            "a    1\n",
            "dtype: int64\n",
            "a    1\n",
            "b    2\n",
            "c    3\n",
            "dtype: int64\n",
            "c    3\n",
            "d    4\n",
            "e    5\n",
            "dtype: int64\n",
            "a    1\n",
            "b    2\n",
            "dtype: int64\n"
          ]
        }
      ]
    },
    {
      "cell_type": "markdown",
      "metadata": {
        "id": "jBicVLS0O82o"
      },
      "source": [
        "# **Retrieve index (labels)**"
      ]
    },
    {
      "cell_type": "code",
      "metadata": {
        "colab": {
          "base_uri": "https://localhost:8080/"
        },
        "id": "xEixrtCHPEbg",
        "outputId": "868d4042-77f5-49ae-b3cc-29783f6ccd70"
      },
      "source": [
        "s = pd.Series([1,2,3,4,5],index = ['a','b','c','d','e'])\n",
        "print(s)"
      ],
      "execution_count": 15,
      "outputs": [
        {
          "output_type": "stream",
          "name": "stdout",
          "text": [
            "a    1\n",
            "b    2\n",
            "c    3\n",
            "d    4\n",
            "e    5\n",
            "dtype: int64\n"
          ]
        }
      ]
    },
    {
      "cell_type": "code",
      "metadata": {
        "colab": {
          "base_uri": "https://localhost:8080/"
        },
        "id": "UUoWt2u6PKbI",
        "outputId": "a37ae0e5-b727-4f01-f40e-7105897a79ee"
      },
      "source": [
        "print(s['b'])"
      ],
      "execution_count": 16,
      "outputs": [
        {
          "output_type": "stream",
          "name": "stdout",
          "text": [
            "2\n"
          ]
        }
      ]
    },
    {
      "cell_type": "code",
      "metadata": {
        "colab": {
          "base_uri": "https://localhost:8080/"
        },
        "id": "Sp73cAByPWkG",
        "outputId": "d8e165a6-cc52-4ac6-a4a7-6a3813f09acf"
      },
      "source": [
        "import pandas as pd\n",
        "import numpy as np\n",
        "\n",
        "#Create a series with 4 random numbers\n",
        "s = pd.Series(np.random.randn(4))\n",
        "print(s)"
      ],
      "execution_count": 17,
      "outputs": [
        {
          "output_type": "stream",
          "name": "stdout",
          "text": [
            "0    1.444777\n",
            "1    0.109798\n",
            "2   -1.026567\n",
            "3   -0.639889\n",
            "dtype: float64\n"
          ]
        }
      ]
    },
    {
      "cell_type": "code",
      "metadata": {
        "colab": {
          "base_uri": "https://localhost:8080/"
        },
        "id": "uFx3-QFWPoiC",
        "outputId": "0c4af0a8-7470-4400-8421-525703a263ec"
      },
      "source": [
        "print(\"axes:\")\n",
        "print(s.axes)"
      ],
      "execution_count": 18,
      "outputs": [
        {
          "output_type": "stream",
          "name": "stdout",
          "text": [
            "axes:\n",
            "[RangeIndex(start=0, stop=4, step=1)]\n"
          ]
        }
      ]
    },
    {
      "cell_type": "code",
      "metadata": {
        "colab": {
          "base_uri": "https://localhost:8080/"
        },
        "id": "T04bcVGMP5gF",
        "outputId": "7fe50713-ec71-4426-bdf7-1cf38f9d064b"
      },
      "source": [
        "s = pd.Series(np.random.randn(4))\n",
        "print(s)\n",
        "print (\"Is the Object empty?\")\n",
        "print(s.empty)"
      ],
      "execution_count": 19,
      "outputs": [
        {
          "output_type": "stream",
          "name": "stdout",
          "text": [
            "0    1.159450\n",
            "1   -1.227221\n",
            "2   -0.438324\n",
            "3   -0.150246\n",
            "dtype: float64\n",
            "Is the Object empty?\n",
            "False\n"
          ]
        }
      ]
    },
    {
      "cell_type": "code",
      "metadata": {
        "colab": {
          "base_uri": "https://localhost:8080/"
        },
        "id": "2xgLx39IQGjr",
        "outputId": "6d3a3e4c-2c7c-4a4e-8011-7b2d4d28cdde"
      },
      "source": [
        "s = pd.Series(np.random.randn(10))\n",
        "print(s)\n",
        "print (\"The dimensions of the object:\")\n",
        "print(s.ndim)\n"
      ],
      "execution_count": 20,
      "outputs": [
        {
          "output_type": "stream",
          "name": "stdout",
          "text": [
            "0   -0.806750\n",
            "1   -0.066413\n",
            "2    0.229462\n",
            "3   -1.165203\n",
            "4    1.654997\n",
            "5   -1.009233\n",
            "6    0.526440\n",
            "7    0.171275\n",
            "8   -1.118827\n",
            "9    0.031204\n",
            "dtype: float64\n",
            "The dimensions of the object:\n",
            "1\n"
          ]
        }
      ]
    },
    {
      "cell_type": "code",
      "metadata": {
        "colab": {
          "base_uri": "https://localhost:8080/"
        },
        "id": "HiNIZ1ImQsI_",
        "outputId": "45d8bda7-d0cc-40e9-862e-d3d6bd0107e8"
      },
      "source": [
        "s = pd.Series(np.random.randn(10))\n",
        "print(s)\n",
        "print (\"The size of the object:\")\n",
        "print(s.size)\n"
      ],
      "execution_count": 22,
      "outputs": [
        {
          "output_type": "stream",
          "name": "stdout",
          "text": [
            "0   -0.012007\n",
            "1    0.151293\n",
            "2    0.887137\n",
            "3    0.159632\n",
            "4   -0.227553\n",
            "5   -1.097296\n",
            "6   -0.089453\n",
            "7   -0.499558\n",
            "8   -0.010527\n",
            "9   -0.349736\n",
            "dtype: float64\n",
            "The size of the object:\n",
            "10\n"
          ]
        }
      ]
    },
    {
      "cell_type": "code",
      "metadata": {
        "colab": {
          "base_uri": "https://localhost:8080/"
        },
        "id": "RX7iVLtgQ5Sz",
        "outputId": "f0bd7852-d632-4942-cca4-cb7523ebe63b"
      },
      "source": [
        "s = pd.Series(np.random.randn(4))\n",
        "print(s)\n",
        "print (\"The actual data series is:\")\n",
        "l = s.values\n",
        "print(l)\n",
        "print(type(l))\n"
      ],
      "execution_count": 24,
      "outputs": [
        {
          "output_type": "stream",
          "name": "stdout",
          "text": [
            "0    1.678780\n",
            "1    1.668988\n",
            "2   -2.270569\n",
            "3   -0.227429\n",
            "dtype: float64\n",
            "The actual data series is:\n",
            "[ 1.67878049  1.66898801 -2.2705694  -0.22742877]\n",
            "<class 'numpy.ndarray'>\n"
          ]
        }
      ]
    },
    {
      "cell_type": "markdown",
      "metadata": {
        "id": "Jsa8HK-sRW-G"
      },
      "source": [
        "# **Head and Tail**"
      ]
    },
    {
      "cell_type": "code",
      "metadata": {
        "colab": {
          "base_uri": "https://localhost:8080/"
        },
        "id": "DV-OEhivRf9x",
        "outputId": "509e02ff-7bde-48a3-fc60-fbc47fcaac80"
      },
      "source": [
        "s = pd.Series(np.random.randn(4))\n",
        "print (\"The original series is:\")\n",
        "print(s)\n",
        "print (\"The first two rows of the data series:\")\n",
        "print(s.head(2))\n"
      ],
      "execution_count": 25,
      "outputs": [
        {
          "output_type": "stream",
          "name": "stdout",
          "text": [
            "The original series is:\n",
            "0    1.912007\n",
            "1   -0.581676\n",
            "2    0.234244\n",
            "3    0.927728\n",
            "dtype: float64\n",
            "The first two rows of the data series:\n",
            "0    1.912007\n",
            "1   -0.581676\n",
            "dtype: float64\n"
          ]
        }
      ]
    },
    {
      "cell_type": "code",
      "metadata": {
        "colab": {
          "base_uri": "https://localhost:8080/"
        },
        "id": "kBa5v3RARkvV",
        "outputId": "6bc1b867-e536-47ed-eed1-f0ecb1e30182"
      },
      "source": [
        "s = pd.Series(np.random.randn(10))\n",
        "print (\"The first two rows of the data series:\")\n",
        "print(s.head())\n"
      ],
      "execution_count": 26,
      "outputs": [
        {
          "output_type": "stream",
          "name": "stdout",
          "text": [
            "The first two rows of the data series:\n",
            "0   -0.535387\n",
            "1   -0.795072\n",
            "2    1.018451\n",
            "3    0.999646\n",
            "4   -0.476918\n",
            "dtype: float64\n"
          ]
        }
      ]
    },
    {
      "cell_type": "code",
      "metadata": {
        "colab": {
          "base_uri": "https://localhost:8080/"
        },
        "id": "dIicSt6PR095",
        "outputId": "7a6d561e-ad7a-46fa-8748-ae379eacd11a"
      },
      "source": [
        "s = pd.Series(np.random.randn(10))\n",
        "print (\"The first two rows of the data series:\")\n",
        "print(s.head(3))"
      ],
      "execution_count": 27,
      "outputs": [
        {
          "output_type": "stream",
          "name": "stdout",
          "text": [
            "The first two rows of the data series:\n",
            "0   -0.316929\n",
            "1   -1.754089\n",
            "2    1.117887\n",
            "dtype: float64\n"
          ]
        }
      ]
    },
    {
      "cell_type": "code",
      "metadata": {
        "colab": {
          "base_uri": "https://localhost:8080/"
        },
        "id": "BL4SViMjR-th",
        "outputId": "2118cc74-0289-45ef-daa7-15047efa11be"
      },
      "source": [
        "s = pd.Series(np.random.randn(10))\n",
        "print (\"The first two rows of the data series:\")\n",
        "print(s.tail())"
      ],
      "execution_count": 28,
      "outputs": [
        {
          "output_type": "stream",
          "name": "stdout",
          "text": [
            "The first two rows of the data series:\n",
            "5    0.065244\n",
            "6   -0.009855\n",
            "7    1.851912\n",
            "8    0.019836\n",
            "9    1.441875\n",
            "dtype: float64\n"
          ]
        }
      ]
    },
    {
      "cell_type": "code",
      "metadata": {
        "colab": {
          "base_uri": "https://localhost:8080/"
        },
        "id": "dDX9mI3ZSMTZ",
        "outputId": "5ae1b7a8-312e-47ce-ff1a-2d615fbbe465"
      },
      "source": [
        "s = pd.Series(np.random.randn(10))\n",
        "print (\"The first two rows of the data series:\")\n",
        "print(s.tail(2))"
      ],
      "execution_count": 29,
      "outputs": [
        {
          "output_type": "stream",
          "name": "stdout",
          "text": [
            "The first two rows of the data series:\n",
            "8    1.558959\n",
            "9   -0.294727\n",
            "dtype: float64\n"
          ]
        }
      ]
    },
    {
      "cell_type": "markdown",
      "metadata": {
        "id": "ZcQdgV0xSQ7R"
      },
      "source": [
        "# **Data Frame**"
      ]
    },
    {
      "cell_type": "code",
      "metadata": {
        "colab": {
          "base_uri": "https://localhost:8080/"
        },
        "id": "oaHn1bLKSPDu",
        "outputId": "9d43e2ae-eb3f-43ae-a0d0-07e0534495c6"
      },
      "source": [
        "df = pd.DataFrame()\n",
        "print(df)\n",
        "print(type(df))"
      ],
      "execution_count": 30,
      "outputs": [
        {
          "output_type": "stream",
          "name": "stdout",
          "text": [
            "Empty DataFrame\n",
            "Columns: []\n",
            "Index: []\n",
            "<class 'pandas.core.frame.DataFrame'>\n"
          ]
        }
      ]
    },
    {
      "cell_type": "code",
      "metadata": {
        "colab": {
          "base_uri": "https://localhost:8080/"
        },
        "id": "MOuAmuYnSll2",
        "outputId": "562e47f3-c43c-48f1-b33d-6d44eed3c426"
      },
      "source": [
        "data = [['Alex',30],['Bob',42],['Clarke',33]]\n",
        "df = pd.DataFrame(data,columns=['Name','Age'])\n",
        "print(df)"
      ],
      "execution_count": 31,
      "outputs": [
        {
          "output_type": "stream",
          "name": "stdout",
          "text": [
            "     Name  Age\n",
            "0    Alex   30\n",
            "1     Bob   42\n",
            "2  Clarke   33\n"
          ]
        }
      ]
    },
    {
      "cell_type": "markdown",
      "metadata": {
        "id": "cgHgxtZgS4iT"
      },
      "source": [
        "# **Create** a DataFrame from Dict of ndarrays / Lists"
      ]
    },
    {
      "cell_type": "code",
      "metadata": {
        "colab": {
          "base_uri": "https://localhost:8080/"
        },
        "id": "lq269TyTS9Cj",
        "outputId": "04190903-5a7d-46b4-dc52-8f77fcc888b8"
      },
      "source": [
        "data = {'Name':['Tom', 'Jack', 'Steve', 'Ricky'],'Age':[28,34,29,42]}\n",
        "print(data)\n",
        "print(type(data))\n",
        "df = pd.DataFrame(data)\n",
        "print(df)\n",
        "print(type(df))\n"
      ],
      "execution_count": 32,
      "outputs": [
        {
          "output_type": "stream",
          "name": "stdout",
          "text": [
            "{'Name': ['Tom', 'Jack', 'Steve', 'Ricky'], 'Age': [28, 34, 29, 42]}\n",
            "<class 'dict'>\n",
            "    Name  Age\n",
            "0    Tom   28\n",
            "1   Jack   34\n",
            "2  Steve   29\n",
            "3  Ricky   42\n",
            "<class 'pandas.core.frame.DataFrame'>\n"
          ]
        }
      ]
    },
    {
      "cell_type": "code",
      "metadata": {
        "colab": {
          "base_uri": "https://localhost:8080/"
        },
        "id": "OoEpo76gTTu-",
        "outputId": "9c291c52-724d-4bce-fddb-f1627d7e9b5b"
      },
      "source": [
        "data = {'Name':['Tom', 'Jack', 'Steve', 'Ricky'],'Percentage':[98,97,96,95]}\n",
        "df = pd.DataFrame(data, index=['rank1','rank2','rank3','rank4'])\n",
        "print(df)"
      ],
      "execution_count": 34,
      "outputs": [
        {
          "output_type": "stream",
          "name": "stdout",
          "text": [
            "        Name  Percentage\n",
            "rank1    Tom          98\n",
            "rank2   Jack          97\n",
            "rank3  Steve          96\n",
            "rank4  Ricky          95\n"
          ]
        }
      ]
    },
    {
      "cell_type": "code",
      "metadata": {
        "colab": {
          "base_uri": "https://localhost:8080/"
        },
        "id": "PJyncVCZTtpX",
        "outputId": "22804e11-07e5-49e0-e56b-c59db565d0df"
      },
      "source": [
        "data = [{'a': 1, 'b': 2},{'a': 5, 'b': 10, 'c': 20}]\n",
        "print(data)\n",
        "print(type(data))\n",
        "df = pd.DataFrame(data)\n",
        "print(df)"
      ],
      "execution_count": 35,
      "outputs": [
        {
          "output_type": "stream",
          "name": "stdout",
          "text": [
            "[{'a': 1, 'b': 2}, {'a': 5, 'b': 10, 'c': 20}]\n",
            "<class 'list'>\n",
            "   a   b     c\n",
            "0  1   2   NaN\n",
            "1  5  10  20.0\n"
          ]
        }
      ]
    },
    {
      "cell_type": "code",
      "metadata": {
        "colab": {
          "base_uri": "https://localhost:8080/"
        },
        "id": "r3nj0BAiUJZ8",
        "outputId": "32c492f7-f03f-4c6d-eb47-cea1a5ad6891"
      },
      "source": [
        "data = [{'a': 1, 'b': 2},{'a': 5, 'b': 10, 'c': 20}]\n",
        "df = pd.DataFrame(data, index=['first', 'second'])\n",
        "print(df)"
      ],
      "execution_count": 36,
      "outputs": [
        {
          "output_type": "stream",
          "name": "stdout",
          "text": [
            "        a   b     c\n",
            "first   1   2   NaN\n",
            "second  5  10  20.0\n"
          ]
        }
      ]
    },
    {
      "cell_type": "code",
      "metadata": {
        "colab": {
          "base_uri": "https://localhost:8080/"
        },
        "id": "5EOAYLZzURg5",
        "outputId": "31f5ee95-9238-4731-c861-03d3a07baa5c"
      },
      "source": [
        "data = [{'a': 1, 'b': 2},{'a': 5, 'b': 10, 'c': 20}]\n",
        "df0 = pd.DataFrame(data, index=['first', 'second'], columns=['a', 'b','c'])\n",
        "print(df0)\n",
        "#With two column indices, values same as dictionary keys\n",
        "df1 = pd.DataFrame(data, index=['first', 'second'], columns=['a', 'b'])\n",
        "#With two column indices with one index with other name\n",
        "df2 = pd.DataFrame(data, index=['first', 'second'], columns=['a', 'b1'])\n",
        "print(df1)\n",
        "print(df2)"
      ],
      "execution_count": 38,
      "outputs": [
        {
          "output_type": "stream",
          "name": "stdout",
          "text": [
            "        a   b     c\n",
            "first   1   2   NaN\n",
            "second  5  10  20.0\n",
            "        a   b\n",
            "first   1   2\n",
            "second  5  10\n",
            "        a  b1\n",
            "first   1 NaN\n",
            "second  5 NaN\n"
          ]
        }
      ]
    },
    {
      "cell_type": "markdown",
      "metadata": {
        "id": "s0W8nuinU0Mt"
      },
      "source": [
        "# **Create a DataFrame from Dict of Series**"
      ]
    },
    {
      "cell_type": "code",
      "metadata": {
        "colab": {
          "base_uri": "https://localhost:8080/"
        },
        "id": "5jc0q26mU4N2",
        "outputId": "ce913ebb-6b4d-4f65-cd56-59d291a602c4"
      },
      "source": [
        "d = {'one' : pd.Series([1, 2, 3], index=['a', 'b', 'c']),\n",
        "   'two' : pd.Series([1, 2, 3, 4], index=['a', 'b', 'c', 'd'])}\n",
        "print(d)\n",
        "df = pd.DataFrame(d)\n",
        "print(df)\n"
      ],
      "execution_count": 39,
      "outputs": [
        {
          "output_type": "stream",
          "name": "stdout",
          "text": [
            "{'one': a    1\n",
            "b    2\n",
            "c    3\n",
            "dtype: int64, 'two': a    1\n",
            "b    2\n",
            "c    3\n",
            "d    4\n",
            "dtype: int64}\n",
            "   one  two\n",
            "a  1.0    1\n",
            "b  2.0    2\n",
            "c  3.0    3\n",
            "d  NaN    4\n"
          ]
        }
      ]
    },
    {
      "cell_type": "code",
      "metadata": {
        "colab": {
          "base_uri": "https://localhost:8080/"
        },
        "id": "e9z_F7MzVYFU",
        "outputId": "c28cc348-9ea3-41dc-ed16-0f9ff4108cdf"
      },
      "source": [
        "d = {'one' : pd.Series([1, 2, 3], index=['a', 'b', 'c']),\n",
        "   'two' : pd.Series([1, 2, 3, 4], index=['a', 'b', 'c', 'd'])}\n",
        "\n",
        "df = pd.DataFrame(d)\n",
        "print(df)\n",
        "print(df ['one'])\n"
      ],
      "execution_count": 41,
      "outputs": [
        {
          "output_type": "stream",
          "name": "stdout",
          "text": [
            "   one  two\n",
            "a  1.0    1\n",
            "b  2.0    2\n",
            "c  3.0    3\n",
            "d  NaN    4\n",
            "a    1.0\n",
            "b    2.0\n",
            "c    3.0\n",
            "d    NaN\n",
            "Name: one, dtype: float64\n"
          ]
        }
      ]
    },
    {
      "cell_type": "code",
      "metadata": {
        "colab": {
          "base_uri": "https://localhost:8080/"
        },
        "id": "UbDiZ8SAVl45",
        "outputId": "aa32ea4d-7ca8-4deb-bf48-748a4c95e141"
      },
      "source": [
        "print(df ['two'])"
      ],
      "execution_count": 42,
      "outputs": [
        {
          "output_type": "stream",
          "name": "stdout",
          "text": [
            "a    1\n",
            "b    2\n",
            "c    3\n",
            "d    4\n",
            "Name: two, dtype: int64\n"
          ]
        }
      ]
    }
  ]
}