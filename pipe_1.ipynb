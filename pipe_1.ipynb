{
  "nbformat": 4,
  "nbformat_minor": 0,
  "metadata": {
    "colab": {
      "name": "pipe_1.ipynb",
      "provenance": [],
      "collapsed_sections": [],
      "authorship_tag": "ABX9TyOgxDj2MX/BrzdqTauANzdJ",
      "include_colab_link": true
    },
    "kernelspec": {
      "name": "python3",
      "display_name": "Python 3"
    },
    "language_info": {
      "name": "python"
    }
  },
  "cells": [
    {
      "cell_type": "markdown",
      "metadata": {
        "id": "view-in-github",
        "colab_type": "text"
      },
      "source": [
        "<a href=\"https://colab.research.google.com/github/anujsaxena/Python/blob/main/pipe_1.ipynb\" target=\"_parent\"><img src=\"https://colab.research.google.com/assets/colab-badge.svg\" alt=\"Open In Colab\"/></a>"
      ]
    },
    {
      "cell_type": "markdown",
      "metadata": {
        "id": "HBsMZ4eL5qfU"
      },
      "source": [
        "# **Pipe in Python**\n",
        "\n",
        "Pipe is a Python library that enables you to use pipes in Python. A pipe (|) passes the results of one method to another method.\n",
        "\n",
        "In python we hgave map and filter functions also but pipe is cleaner. Let us look at lambda, map, and filter first.\n",
        "\n",
        "# **Lambda**\n",
        "Python Lambda Functions are anonymous function means that the function is without a name. As we already know that the def keyword is used to define a normal function in Python. Similarly, the lambda keyword is used to define an anonymous function in Python. \n",
        "\n",
        "**Syntax**\n",
        "lambda arguments: expression\n",
        "\n",
        "1. This function can have any number of arguments but only one expression, which is evaluated and returned.\n",
        "2. One is free to use lambda functions wherever function objects are required.\n",
        "3. You need to keep in your knowledge that lambda functions are syntactically restricted to a single expression.\n",
        "4. It has various uses in particular fields of programming besides other types of expressions in functions.\n",
        "\n",
        "Let us understand with examples"
      ]
    },
    {
      "cell_type": "code",
      "metadata": {
        "colab": {
          "base_uri": "https://localhost:8080/"
        },
        "id": "V14PCIYT6edK",
        "outputId": "c25c3de1-8eb6-4f7f-f254-fc1569186128"
      },
      "source": [
        "string ='Institute de informatica'\n",
        " \n",
        "# lambda returns a function object\n",
        "print(lambda string : string)"
      ],
      "execution_count": 6,
      "outputs": [
        {
          "output_type": "stream",
          "name": "stdout",
          "text": [
            "<function <lambda> at 0x7fca9c474ef0>\n"
          ]
        }
      ]
    },
    {
      "cell_type": "code",
      "metadata": {
        "colab": {
          "base_uri": "https://localhost:8080/"
        },
        "id": "chQVzPeJ7ssB",
        "outputId": "a89f3d28-17b4-46cd-a164-68ec948ea499"
      },
      "source": [
        "#we should call lambda to print the string\n",
        "\n",
        "x ='Institute de informatica'\n",
        " \n",
        "# lambda returns a function object\n",
        "(lambda x : print(x))(x)"
      ],
      "execution_count": 7,
      "outputs": [
        {
          "output_type": "stream",
          "name": "stdout",
          "text": [
            "Institute de informatica\n"
          ]
        }
      ]
    },
    {
      "cell_type": "code",
      "metadata": {
        "colab": {
          "base_uri": "https://localhost:8080/"
        },
        "id": "yXTkj_t-EutU",
        "outputId": "fe12ad97-ae14-4af0-ef5b-14a85a587066"
      },
      "source": [
        "def cube(n):\n",
        "  return n*n*n\n",
        "\n",
        "cube_lambda = lambda n:n*n*n\n",
        "\n",
        "print(cube(9))\n",
        "\n",
        "print(cube_lambda(9))"
      ],
      "execution_count": 8,
      "outputs": [
        {
          "output_type": "stream",
          "name": "stdout",
          "text": [
            "729\n",
            "729\n"
          ]
        }
      ]
    },
    {
      "cell_type": "code",
      "metadata": {
        "colab": {
          "base_uri": "https://localhost:8080/"
        },
        "id": "GPwm3xk2FOMX",
        "outputId": "633210c7-4955-4241-dce8-b986ac281ef6"
      },
      "source": [
        "tabl = [lambda n= n:n*9 for n in range(1,11)]\n",
        "print(tabl)\n",
        "\n",
        "for tb in tabl:\n",
        "  print(tb())"
      ],
      "execution_count": 13,
      "outputs": [
        {
          "output_type": "stream",
          "name": "stdout",
          "text": [
            "[<function <listcomp>.<lambda> at 0x7fca98334c20>, <function <listcomp>.<lambda> at 0x7fca98334a70>, <function <listcomp>.<lambda> at 0x7fca98334d40>, <function <listcomp>.<lambda> at 0x7fca98334b90>, <function <listcomp>.<lambda> at 0x7fca98334830>, <function <listcomp>.<lambda> at 0x7fca982c5050>, <function <listcomp>.<lambda> at 0x7fca982c50e0>, <function <listcomp>.<lambda> at 0x7fca982c5170>, <function <listcomp>.<lambda> at 0x7fca982c5200>, <function <listcomp>.<lambda> at 0x7fca982c5290>]\n",
            "9\n",
            "18\n",
            "27\n",
            "36\n",
            "45\n",
            "54\n",
            "63\n",
            "72\n",
            "81\n",
            "90\n"
          ]
        }
      ]
    },
    {
      "cell_type": "code",
      "metadata": {
        "colab": {
          "base_uri": "https://localhost:8080/"
        },
        "id": "_v_4hEW_GX4o",
        "outputId": "ce2c218f-89ae-4ef3-9321-b201d801e4b3"
      },
      "source": [
        "#List Comprehension\n",
        "S = [x**2 for x in range(10)]\n",
        "print(S)\n",
        "V = [2**i for i in range(13)]\n",
        "print(V)\n",
        "\n",
        "E = [x for x in S if x % 2 == 0]\n",
        "print(type(E))\n",
        "print(E)"
      ],
      "execution_count": 17,
      "outputs": [
        {
          "output_type": "stream",
          "name": "stdout",
          "text": [
            "[0, 1, 4, 9, 16, 25, 36, 49, 64, 81]\n",
            "[1, 2, 4, 8, 16, 32, 64, 128, 256, 512, 1024, 2048, 4096]\n",
            "<class 'list'>\n",
            "[0, 4, 16, 36, 64]\n"
          ]
        }
      ]
    },
    {
      "cell_type": "markdown",
      "metadata": {
        "id": "8qblcZd1Z3wI"
      },
      "source": [
        "Let us have a look at one more example to compare a normal loop and List comprehension"
      ]
    },
    {
      "cell_type": "code",
      "metadata": {
        "colab": {
          "base_uri": "https://localhost:8080/"
        },
        "id": "pmufubPoZ_5G",
        "outputId": "e8469073-7c33-4ec8-bd41-2fcca506489e"
      },
      "source": [
        "num =[1,3,2,6,5,11,14,13,12,17,6,18,20,54,65,78,98] #declare a list of numbers or take random numbers\n",
        "even_list =[] #create an empty list\n",
        "\n",
        "for n in num:\n",
        "  if n%2 ==0:\n",
        "    even_list.append(n)\n",
        "\n",
        "print(even_list)"
      ],
      "execution_count": 2,
      "outputs": [
        {
          "output_type": "stream",
          "name": "stdout",
          "text": [
            "[2, 6, 14, 12, 6, 18, 20, 54, 78, 98]\n"
          ]
        }
      ]
    },
    {
      "cell_type": "markdown",
      "metadata": {
        "id": "-1TGpPczapcN"
      },
      "source": [
        "Now use List comprehension to do the above"
      ]
    },
    {
      "cell_type": "code",
      "metadata": {
        "colab": {
          "base_uri": "https://localhost:8080/"
        },
        "id": "FlT4m3NZa77N",
        "outputId": "0fbbcd0b-6299-486b-8289-a93ec3e7f66e"
      },
      "source": [
        "even_list =[n for n in num if n%2==0]\n",
        "print(even_list)"
      ],
      "execution_count": 3,
      "outputs": [
        {
          "output_type": "stream",
          "name": "stdout",
          "text": [
            "[2, 6, 14, 12, 6, 18, 20, 54, 78, 98]\n"
          ]
        }
      ]
    },
    {
      "cell_type": "code",
      "metadata": {
        "colab": {
          "base_uri": "https://localhost:8080/"
        },
        "id": "vUzzazGSHNjx",
        "outputId": "6513a4e2-6330-4ebe-bd5e-8a579ed8cfa4"
      },
      "source": [
        "max = lambda a, b : a if(a > b) else b\n",
        "\n",
        "print(max(6,7))"
      ],
      "execution_count": 18,
      "outputs": [
        {
          "output_type": "stream",
          "name": "stdout",
          "text": [
            "7\n"
          ]
        }
      ]
    },
    {
      "cell_type": "markdown",
      "metadata": {
        "id": "iT8WEHu0HrNC"
      },
      "source": [
        "# **Map**\n",
        "\n",
        "map() function returns a map object(which is an iterator) of the results after applying the given function to each item of a given iterable (list, tuple etc.)\n",
        "\n",
        "**Syntax**:\n",
        "\n",
        "map(fun, iter)"
      ]
    },
    {
      "cell_type": "code",
      "metadata": {
        "colab": {
          "base_uri": "https://localhost:8080/"
        },
        "id": "oylP03rUG_kD",
        "outputId": "9a1bbe6e-97c3-473f-d41f-244018b4fbd3"
      },
      "source": [
        "def addition(n):\n",
        "  return n+n\n",
        "\n",
        "n =(2,4,6,8,10)\n",
        "r = map(addition, n)\n",
        "print(list(r))"
      ],
      "execution_count": 22,
      "outputs": [
        {
          "output_type": "stream",
          "name": "stdout",
          "text": [
            "[4, 8, 12, 16, 20]\n"
          ]
        }
      ]
    },
    {
      "cell_type": "code",
      "metadata": {
        "colab": {
          "base_uri": "https://localhost:8080/"
        },
        "id": "3_IChP61JCEG",
        "outputId": "2454a627-ac7b-425f-9f03-2e3a4289cc3b"
      },
      "source": [
        "n =(2,4,6,8,10)\n",
        "r = map(lambda n: n+n, n)\n",
        "print(list(r))"
      ],
      "execution_count": 23,
      "outputs": [
        {
          "output_type": "stream",
          "name": "stdout",
          "text": [
            "[4, 8, 12, 16, 20]\n"
          ]
        }
      ]
    },
    {
      "cell_type": "code",
      "metadata": {
        "colab": {
          "base_uri": "https://localhost:8080/"
        },
        "id": "VeFZnWndJkem",
        "outputId": "56748d21-6d8c-4f27-ad31-2309364ede80"
      },
      "source": [
        "n =(2,4,6,8,10)\n",
        "m = (1,2,3,4,5)\n",
        "r = map(lambda a,b: a+b, n,m)\n",
        "print(list(r))"
      ],
      "execution_count": 24,
      "outputs": [
        {
          "output_type": "stream",
          "name": "stdout",
          "text": [
            "[3, 6, 9, 12, 15]\n"
          ]
        }
      ]
    },
    {
      "cell_type": "code",
      "metadata": {
        "colab": {
          "base_uri": "https://localhost:8080/"
        },
        "id": "W7dbM6WyJ_qa",
        "outputId": "1a3cb04b-f040-44e0-c101-2234037cd5c8"
      },
      "source": [
        "l= [\"rat\", \"bat\", \"mat\", \"sat\"]\n",
        "t = list(map(list, l))\n",
        "print(t)"
      ],
      "execution_count": 26,
      "outputs": [
        {
          "output_type": "stream",
          "name": "stdout",
          "text": [
            "[['r', 'a', 't'], ['b', 'a', 't'], ['m', 'a', 't'], ['s', 'a', 't']]\n"
          ]
        }
      ]
    },
    {
      "cell_type": "markdown",
      "metadata": {
        "id": "Ri00j49oKx2z"
      },
      "source": [
        "# **filter**\n",
        "\n",
        "The filter() method filters the given sequence with the help of a function that tests each element in the sequence to be true or not.\n",
        "\n",
        "**Syntax**:\n",
        "\n",
        "filter(function, sequence)"
      ]
    },
    {
      "cell_type": "code",
      "metadata": {
        "colab": {
          "base_uri": "https://localhost:8080/"
        },
        "id": "txX374ACLKig",
        "outputId": "296a7698-796f-44a8-b0dd-30cbbf5e67be"
      },
      "source": [
        "def vo(n):\n",
        "  s = ['a','e','i','o','u']\n",
        "  if n in s:\n",
        "    return True\n",
        "  else :\n",
        "    return False\n",
        "\n",
        "sequence =['a','b','c','d','e','f','g','h','i','j']\n",
        "\n",
        "fil = filter(vo,sequence)\n",
        "\n",
        "print(fil)\n",
        "\n",
        "for t in fil:\n",
        "  print(t)\n"
      ],
      "execution_count": 29,
      "outputs": [
        {
          "output_type": "stream",
          "name": "stdout",
          "text": [
            "<filter object at 0x7fca982d9890>\n",
            "a\n",
            "e\n",
            "i\n"
          ]
        }
      ]
    },
    {
      "cell_type": "code",
      "metadata": {
        "colab": {
          "base_uri": "https://localhost:8080/"
        },
        "id": "0XxW9AJfMaSM",
        "outputId": "f1f077cb-7863-44b4-d280-48dfca5c0b9a"
      },
      "source": [
        "seq = [1,4,3,6,8,9,10,12]\n",
        "r = filter(lambda n:n%2 !=0, seq)\n",
        "print(list(r))"
      ],
      "execution_count": 31,
      "outputs": [
        {
          "output_type": "stream",
          "name": "stdout",
          "text": [
            "[1, 3, 9]\n"
          ]
        }
      ]
    },
    {
      "cell_type": "code",
      "metadata": {
        "colab": {
          "base_uri": "https://localhost:8080/"
        },
        "id": "psLB1okdM6Lh",
        "outputId": "e60435e4-8a8e-4ed4-d5c8-6a6625b17592"
      },
      "source": [
        "seq = [1,4,3,6,8,9,10,12]\n",
        "r = filter(lambda n:n%2 ==0, seq)\n",
        "print(list(r))"
      ],
      "execution_count": 32,
      "outputs": [
        {
          "output_type": "stream",
          "name": "stdout",
          "text": [
            "[4, 6, 8, 10, 12]\n"
          ]
        }
      ]
    }
  ]
}