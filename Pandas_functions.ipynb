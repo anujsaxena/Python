{
  "nbformat": 4,
  "nbformat_minor": 0,
  "metadata": {
    "colab": {
      "name": "Pandas_functions.ipynb",
      "provenance": [],
      "collapsed_sections": [],
      "authorship_tag": "ABX9TyMRL8A5u8hBWF+8jPc+1e4y",
      "include_colab_link": true
    },
    "kernelspec": {
      "name": "python3",
      "display_name": "Python 3"
    },
    "language_info": {
      "name": "python"
    }
  },
  "cells": [
    {
      "cell_type": "markdown",
      "metadata": {
        "id": "view-in-github",
        "colab_type": "text"
      },
      "source": [
        "<a href=\"https://colab.research.google.com/github/anujsaxena/Python/blob/main/Pandas_functions.ipynb\" target=\"_parent\"><img src=\"https://colab.research.google.com/assets/colab-badge.svg\" alt=\"Open In Colab\"/></a>"
      ]
    },
    {
      "cell_type": "markdown",
      "metadata": {
        "id": "cXNkP7yQd6vq"
      },
      "source": [
        "# **Functions & Description**\n",
        "Let us now understand the functions under Descriptive Statistics in Python Pandas. The following table list down the important functions −\n",
        "\n",
        "1.\tcount()\t:Number of non-null observations\n",
        "2.\tsum()\t:Sum of values\n",
        "3.\tmean()\t:Mean of Values\n",
        "4.\tmedian()\t:Median of Values\n",
        "5.\tmode()\t:Mode of values\n",
        "6.\tstd()\t:Standard Deviation of the Values\n",
        "7.\tmin()\t:Minimum Value\n",
        "8.\tmax()\t:Maximum Value\n",
        "9.\tabs()\t:Absolute Value\n",
        "10.\tprod()\t:Product of Values\n",
        "11.\tcumsum()\t:Cumulative Sum\n",
        "12.\tcumprod()\t:Cumulative Product\n",
        "\n",
        "Note − Since DataFrame is a Heterogeneous data structure. Generic operations don’t work with all functions.\n",
        "\n",
        "•\tFunctions like sum(), cumsum() work with both numeric and character (or) string data elements without any error. Though npractice, character aggregations are never used generally, these functions do not throw any exception.\n",
        "\n",
        "•\tFunctions like abs(), cumprod() throw exception when the DataFrame contains character or string data because such operations cannot be performed.\n"
      ]
    },
    {
      "cell_type": "code",
      "metadata": {
        "colab": {
          "base_uri": "https://localhost:8080/"
        },
        "id": "omzPPit8esSj",
        "outputId": "1ab9d2d8-2cf0-4b22-ab01-a8e045951768"
      },
      "source": [
        "#max()\n",
        "import pandas as pd\n",
        "df = pd.DataFrame({\"A\":[12, 4, 5, 44, 1], \n",
        "                   \"B\":[5, 2, 54, 3, 2], \n",
        "                   \"C\":[20, 16, 7, 3, 8],  \n",
        "                   \"D\":[14, 3, 17, 2, 6]}) \n",
        "print(df)\n",
        "print(df.max())\n"
      ],
      "execution_count": 1,
      "outputs": [
        {
          "output_type": "stream",
          "name": "stdout",
          "text": [
            "    A   B   C   D\n",
            "0  12   5  20  14\n",
            "1   4   2  16   3\n",
            "2   5  54   7  17\n",
            "3  44   3   3   2\n",
            "4   1   2   8   6\n",
            "A    44\n",
            "B    54\n",
            "C    20\n",
            "D    17\n",
            "dtype: int64\n"
          ]
        }
      ]
    },
    {
      "cell_type": "code",
      "metadata": {
        "colab": {
          "base_uri": "https://localhost:8080/"
        },
        "id": "SmeDO-_dgMWI",
        "outputId": "3daf8993-27db-4f2a-9180-d99531ff256d"
      },
      "source": [
        "print(df.max(axis=0)) #gets max of each column"
      ],
      "execution_count": 2,
      "outputs": [
        {
          "output_type": "stream",
          "name": "stdout",
          "text": [
            "A    44\n",
            "B    54\n",
            "C    20\n",
            "D    17\n",
            "dtype: int64\n"
          ]
        }
      ]
    },
    {
      "cell_type": "code",
      "metadata": {
        "colab": {
          "base_uri": "https://localhost:8080/"
        },
        "id": "OFm07xFsgL3r",
        "outputId": "cd95de85-cdbe-478e-a60a-76242db7dc31"
      },
      "source": [
        "print(df.max(axis=1)) #gets maximum of each row"
      ],
      "execution_count": 3,
      "outputs": [
        {
          "output_type": "stream",
          "name": "stdout",
          "text": [
            "0    20\n",
            "1    16\n",
            "2    54\n",
            "3    44\n",
            "4     8\n",
            "dtype: int64\n"
          ]
        }
      ]
    },
    {
      "cell_type": "code",
      "metadata": {
        "colab": {
          "base_uri": "https://localhost:8080/"
        },
        "id": "Q3nDPac1gfdd",
        "outputId": "e0ce0430-5d8b-45f7-98d6-19eda9e0e58a"
      },
      "source": [
        "df = pd.DataFrame({\"A\":[12, 4, 5, None, 1],  \n",
        "                   \"B\":[7, 2, 54, 3, None], \n",
        "                   \"C\":[20, 16, 11, 3, 8], \n",
        "                   \"D\":[14, 3, None, 2, 6]}) \n",
        "\n",
        "df.max()"
      ],
      "execution_count": 4,
      "outputs": [
        {
          "output_type": "execute_result",
          "data": {
            "text/plain": [
              "A    12.0\n",
              "B    54.0\n",
              "C    20.0\n",
              "D    14.0\n",
              "dtype: float64"
            ]
          },
          "metadata": {},
          "execution_count": 4
        }
      ]
    },
    {
      "cell_type": "code",
      "metadata": {
        "colab": {
          "base_uri": "https://localhost:8080/"
        },
        "id": "QgTCwX5VhOXG",
        "outputId": "1381dc03-0bdc-4585-a0c2-dc5e263f561f"
      },
      "source": [
        "df = pd.DataFrame({\"A\":[12, 4, 5, None, 1],  \n",
        "                   \"B\":[7, 2, 54, None, 3], \n",
        "                   \"C\":[20, 16, 11, None, 8], \n",
        "                   \"D\":[14, 3, 2, None, 6]}) \n",
        "\n",
        "df.max()"
      ],
      "execution_count": 5,
      "outputs": [
        {
          "output_type": "execute_result",
          "data": {
            "text/plain": [
              "A    12.0\n",
              "B    54.0\n",
              "C    20.0\n",
              "D    14.0\n",
              "dtype: float64"
            ]
          },
          "metadata": {},
          "execution_count": 5
        }
      ]
    },
    {
      "cell_type": "code",
      "metadata": {
        "colab": {
          "base_uri": "https://localhost:8080/"
        },
        "id": "Eu4lH6ezg-IG",
        "outputId": "5e706bdd-a129-4897-931d-a8341c40d3cf"
      },
      "source": [
        "df.max(axis=1)"
      ],
      "execution_count": 6,
      "outputs": [
        {
          "output_type": "execute_result",
          "data": {
            "text/plain": [
              "0    20.0\n",
              "1    16.0\n",
              "2    54.0\n",
              "3     NaN\n",
              "4     8.0\n",
              "dtype: float64"
            ]
          },
          "metadata": {},
          "execution_count": 6
        }
      ]
    },
    {
      "cell_type": "code",
      "metadata": {
        "colab": {
          "base_uri": "https://localhost:8080/"
        },
        "id": "7jPTA9FVgjXq",
        "outputId": "821b1d11-eb26-40fe-a8f1-90059a3cb10a"
      },
      "source": [
        "# skip the NaN values while finding the maximum \n",
        "df.max(axis = 0, skipna = True)"
      ],
      "execution_count": 7,
      "outputs": [
        {
          "output_type": "execute_result",
          "data": {
            "text/plain": [
              "A    12.0\n",
              "B    54.0\n",
              "C    20.0\n",
              "D    14.0\n",
              "dtype: float64"
            ]
          },
          "metadata": {},
          "execution_count": 7
        }
      ]
    },
    {
      "cell_type": "code",
      "metadata": {
        "colab": {
          "base_uri": "https://localhost:8080/"
        },
        "id": "fL3CFiIKecMc",
        "outputId": "45df6e00-f5b5-4a28-c1fd-9a84f6d5b13c"
      },
      "source": [
        "#std\n",
        "import pandas as pd\n",
        "import numpy as np\n",
        "\n",
        "#Create a Dictionary of series\n",
        "d = {'Name':pd.Series(['Tom','James','Ricky','Vin','Steve','Smith','Jack',\n",
        "   'Lee','David','Gasper','Betina','Andres']),\n",
        "   'Age':pd.Series([25,26,25,23,30,29,23,34,40,30,51,46]),\n",
        "   'Rating':pd.Series([4.23,3.24,3.98,2.56,3.20,4.6,3.8,3.78,2.98,4.80,4.10,3.65])\n",
        "}\n",
        "print(df)\n",
        "#Create a DataFrame\n",
        "df = pd.DataFrame(d)\n",
        "print(df.std())\n"
      ],
      "execution_count": 9,
      "outputs": [
        {
          "output_type": "stream",
          "name": "stdout",
          "text": [
            "      Name  Age  Rating\n",
            "0      Tom   25    4.23\n",
            "1    James   26    3.24\n",
            "2    Ricky   25    3.98\n",
            "3      Vin   23    2.56\n",
            "4    Steve   30    3.20\n",
            "5    Smith   29    4.60\n",
            "6     Jack   23    3.80\n",
            "7      Lee   34    3.78\n",
            "8    David   40    2.98\n",
            "9   Gasper   30    4.80\n",
            "10  Betina   51    4.10\n",
            "11  Andres   46    3.65\n",
            "Age       9.232682\n",
            "Rating    0.661628\n",
            "dtype: float64\n"
          ]
        }
      ]
    },
    {
      "cell_type": "markdown",
      "metadata": {
        "id": "6BSy_L4Rk_KG"
      },
      "source": [
        "# **Summarizing Data**\n",
        "\n",
        "describe() computes the statistics of a data frame.\n"
      ]
    },
    {
      "cell_type": "code",
      "metadata": {
        "colab": {
          "base_uri": "https://localhost:8080/"
        },
        "id": "gyuvYI9YfwUK",
        "outputId": "40750314-1540-4fb2-f785-ea00acb48b7a"
      },
      "source": [
        "#Create a Dictionary of series\n",
        "d = {'Name':pd.Series(['Tina','Ria','Amit','Sumit','Manish','Mayank','Vishal','Vardan','Rahul,','Vikesh','Priyank','Bhavesh']),\n",
        "   'Age':pd.Series([25,26,25,23,30,29,23,34,40,30,51,46]),\n",
        "   'Rating':pd.Series([4.23,3.24,3.98,2.56,3.20,4.6,3.8,3.78,2.98,4.80,4.10,3.65])\n",
        "}\n",
        "\n",
        "#Create a DataFrame\n",
        "df = pd.DataFrame(d)\n",
        "print(df.describe())\n"
      ],
      "execution_count": 10,
      "outputs": [
        {
          "output_type": "stream",
          "name": "stdout",
          "text": [
            "             Age     Rating\n",
            "count  12.000000  12.000000\n",
            "mean   31.833333   3.743333\n",
            "std     9.232682   0.661628\n",
            "min    23.000000   2.560000\n",
            "25%    25.000000   3.230000\n",
            "50%    29.500000   3.790000\n",
            "75%    35.500000   4.132500\n",
            "max    51.000000   4.800000\n"
          ]
        }
      ]
    },
    {
      "cell_type": "code",
      "metadata": {
        "colab": {
          "base_uri": "https://localhost:8080/"
        },
        "id": "xBAm1MynlpnZ",
        "outputId": "d8745df9-d53e-4788-e8bd-9770d7902434"
      },
      "source": [
        "\n",
        "print(df.describe(include=['object']))"
      ],
      "execution_count": 11,
      "outputs": [
        {
          "output_type": "stream",
          "name": "stdout",
          "text": [
            "           Name\n",
            "count        12\n",
            "unique       12\n",
            "top     Bhavesh\n",
            "freq          1\n"
          ]
        }
      ]
    },
    {
      "cell_type": "code",
      "metadata": {
        "colab": {
          "base_uri": "https://localhost:8080/"
        },
        "id": "SdQjKUpFjgAt",
        "outputId": "c9972c95-bfd4-43a9-f930-304e1701d0c6"
      },
      "source": [
        "#Create a Dictionary of series\n",
        "d = {'Name':pd.Series(['Tina','Ria','Amit','Sumit','Bhavesh','Mayank','Vishal','Vardan','Rahul,','Vikesh','Priyank','Bhavesh']),\n",
        "   'Age':pd.Series([25,26,25,23,30,29,23,34,40,30,51,46]),\n",
        "   'Rating':pd.Series([4.23,3.24,3.98,2.56,3.20,4.6,3.8,3.78,2.98,4.80,4.10,3.65])\n",
        "}\n",
        "\n",
        "#Create a DataFrame\n",
        "df = pd.DataFrame(d)\n",
        "print(df.describe(include=['object']))"
      ],
      "execution_count": 12,
      "outputs": [
        {
          "output_type": "stream",
          "name": "stdout",
          "text": [
            "           Name\n",
            "count        12\n",
            "unique       11\n",
            "top     Bhavesh\n",
            "freq          2\n"
          ]
        }
      ]
    },
    {
      "cell_type": "code",
      "metadata": {
        "colab": {
          "base_uri": "https://localhost:8080/"
        },
        "id": "TL8eq1ZDly8Q",
        "outputId": "8f8f1bc8-07e6-40a9-d4b8-becc52529c93"
      },
      "source": [
        "print(df.describe(include='all'))"
      ],
      "execution_count": 13,
      "outputs": [
        {
          "output_type": "stream",
          "name": "stdout",
          "text": [
            "           Name        Age     Rating\n",
            "count        12  12.000000  12.000000\n",
            "unique       11        NaN        NaN\n",
            "top     Bhavesh        NaN        NaN\n",
            "freq          2        NaN        NaN\n",
            "mean        NaN  31.833333   3.743333\n",
            "std         NaN   9.232682   0.661628\n",
            "min         NaN  23.000000   2.560000\n",
            "25%         NaN  25.000000   3.230000\n",
            "50%         NaN  29.500000   3.790000\n",
            "75%         NaN  35.500000   4.132500\n",
            "max         NaN  51.000000   4.800000\n"
          ]
        }
      ]
    },
    {
      "cell_type": "markdown",
      "metadata": {
        "id": "SJgu9M_AmJq8"
      },
      "source": [
        "# **Quantile**\n",
        "\n",
        "The word “quantile” comes from the word quantity. In simple terms, a quantile is where a sample is divided into equal-sized, adjacent, subgroups (that’s why it’s sometimes called a “fractile“). It can also refer to dividing a probability distribution into areas of equal probability."
      ]
    },
    {
      "cell_type": "code",
      "metadata": {
        "colab": {
          "base_uri": "https://localhost:8080/"
        },
        "id": "QCC3EuugmVV7",
        "outputId": "449618fe-6304-4c6d-8c4d-bf7892642352"
      },
      "source": [
        "#Create a Dictionary of series\n",
        "d = {'Name':pd.Series(['Tina','Ria','Amit','Sumit','Manish','Mayank','Vishal','Vardan','Rahul,','Vikesh','Priyank','Bhavesh']),\n",
        "   'Age':pd.Series([25,26,25,23,30,29,23,34,40,30,51,46]),\n",
        "   'Rating':pd.Series([4.23,3.24,3.98,2.56,3.20,4.6,3.8,3.78,2.98,4.80,4.10,3.65])\n",
        "}\n",
        "\n",
        "#Create a DataFrame\n",
        "df = pd.DataFrame(d)\n",
        "#quantile of 0.2 for each column\n",
        "\n",
        "df.quantile(.2, axis = 0)\n"
      ],
      "execution_count": 14,
      "outputs": [
        {
          "output_type": "execute_result",
          "data": {
            "text/plain": [
              "Age       25.000\n",
              "Rating     3.208\n",
              "Name: 0.2, dtype: float64"
            ]
          },
          "metadata": {},
          "execution_count": 14
        }
      ]
    },
    {
      "cell_type": "code",
      "metadata": {
        "colab": {
          "base_uri": "https://localhost:8080/",
          "height": 400
        },
        "id": "jS1SghqMnBlz",
        "outputId": "a25ccbe1-88e3-4a25-eb43-8b9d5bc81737"
      },
      "source": [
        "# find (0.1 0.25 0.5 0.75) quantiles along the index axis.\n",
        "print(df)\n",
        "df.quantile([.1, .25, .5, .75], axis = 0)\n"
      ],
      "execution_count": 16,
      "outputs": [
        {
          "output_type": "stream",
          "name": "stdout",
          "text": [
            "       Name  Age  Rating\n",
            "0      Tina   25    4.23\n",
            "1       Ria   26    3.24\n",
            "2      Amit   25    3.98\n",
            "3     Sumit   23    2.56\n",
            "4    Manish   30    3.20\n",
            "5    Mayank   29    4.60\n",
            "6    Vishal   23    3.80\n",
            "7    Vardan   34    3.78\n",
            "8    Rahul,   40    2.98\n",
            "9    Vikesh   30    4.80\n",
            "10  Priyank   51    4.10\n",
            "11  Bhavesh   46    3.65\n"
          ]
        },
        {
          "output_type": "execute_result",
          "data": {
            "text/html": [
              "<div>\n",
              "<style scoped>\n",
              "    .dataframe tbody tr th:only-of-type {\n",
              "        vertical-align: middle;\n",
              "    }\n",
              "\n",
              "    .dataframe tbody tr th {\n",
              "        vertical-align: top;\n",
              "    }\n",
              "\n",
              "    .dataframe thead th {\n",
              "        text-align: right;\n",
              "    }\n",
              "</style>\n",
              "<table border=\"1\" class=\"dataframe\">\n",
              "  <thead>\n",
              "    <tr style=\"text-align: right;\">\n",
              "      <th></th>\n",
              "      <th>Age</th>\n",
              "      <th>Rating</th>\n",
              "    </tr>\n",
              "  </thead>\n",
              "  <tbody>\n",
              "    <tr>\n",
              "      <th>0.10</th>\n",
              "      <td>23.2</td>\n",
              "      <td>3.0020</td>\n",
              "    </tr>\n",
              "    <tr>\n",
              "      <th>0.25</th>\n",
              "      <td>25.0</td>\n",
              "      <td>3.2300</td>\n",
              "    </tr>\n",
              "    <tr>\n",
              "      <th>0.50</th>\n",
              "      <td>29.5</td>\n",
              "      <td>3.7900</td>\n",
              "    </tr>\n",
              "    <tr>\n",
              "      <th>0.75</th>\n",
              "      <td>35.5</td>\n",
              "      <td>4.1325</td>\n",
              "    </tr>\n",
              "  </tbody>\n",
              "</table>\n",
              "</div>"
            ],
            "text/plain": [
              "       Age  Rating\n",
              "0.10  23.2  3.0020\n",
              "0.25  25.0  3.2300\n",
              "0.50  29.5  3.7900\n",
              "0.75  35.5  4.1325"
            ]
          },
          "metadata": {},
          "execution_count": 16
        }
      ]
    },
    {
      "cell_type": "markdown",
      "metadata": {
        "id": "im5FfsNcncyp"
      },
      "source": [
        "# **Pivot**\n",
        "\n",
        "Return reshaped DataFrame organized by given index / column values.\n",
        "Reshape data (produce a “pivot” table) based on column values. Uses unique values from specified index / columns to form axes of the resulting DataFrame. This function does not support data aggregation, multiple values will result in a MultiIndex in the columns.\n",
        "\n",
        "#**Parameters:**\t\n",
        "index : string or object, optional column to use to make new frame’s index. If None, uses existing index.\n",
        "\n",
        "columns : string or object\n",
        "Column to use to make new frame’s columns.\n",
        "\n",
        "values : string, object or a list of the previous, optional\n",
        "Column(s) to use for populating new frame’s values. If not specified, all remaining columns will be used and the result will have hierarchically indexed columns.\n",
        "\n",
        "Changed in version 0.23.0: Also accept list of column names.\n",
        "\n",
        "#**Returns:**\t\n",
        "DataFrame\n",
        "Returns reshaped DataFrame.\n",
        "\n",
        "#**Raises:**\t\n",
        "ValueError: When there are any index, columns combinations with multiple values. DataFrame.pivot_table when you need to aggregate.\n",
        "\n"
      ]
    },
    {
      "cell_type": "code",
      "metadata": {
        "colab": {
          "base_uri": "https://localhost:8080/"
        },
        "id": "6rqr1k0TnbBX",
        "outputId": "285fc69a-97c9-4e7e-88b1-9e2b54e07afe"
      },
      "source": [
        "#Create a Dictionary of series\n",
        "d = {'Name':pd.Series(['Tina','Ria','Amit','Sumit','Manish','Mayank','Vishal','Vardan','Rahul,','Vikesh','Priyank','Bhavesh']),\n",
        "   'Age':pd.Series([25,26,25,23,30,29,23,34,40,30,51,46]),\n",
        "   'Rating':pd.Series([4.23,3.24,3.98,2.56,3.20,4.6,3.8,3.78,2.98,4.80,4.10,3.65])\n",
        "}\n",
        "\n",
        "#Create a DataFrame\n",
        "df = pd.DataFrame(d)\n",
        "p = df.pivot('Name','Age','Rating')\n",
        "print(p)\n",
        "print(type(p))"
      ],
      "execution_count": 19,
      "outputs": [
        {
          "output_type": "stream",
          "name": "stdout",
          "text": [
            "Age        23    25    26   29   30    34    40    46   51\n",
            "Name                                                      \n",
            "Amit      NaN  3.98   NaN  NaN  NaN   NaN   NaN   NaN  NaN\n",
            "Bhavesh   NaN   NaN   NaN  NaN  NaN   NaN   NaN  3.65  NaN\n",
            "Manish    NaN   NaN   NaN  NaN  3.2   NaN   NaN   NaN  NaN\n",
            "Mayank    NaN   NaN   NaN  4.6  NaN   NaN   NaN   NaN  NaN\n",
            "Priyank   NaN   NaN   NaN  NaN  NaN   NaN   NaN   NaN  4.1\n",
            "Rahul,    NaN   NaN   NaN  NaN  NaN   NaN  2.98   NaN  NaN\n",
            "Ria       NaN   NaN  3.24  NaN  NaN   NaN   NaN   NaN  NaN\n",
            "Sumit    2.56   NaN   NaN  NaN  NaN   NaN   NaN   NaN  NaN\n",
            "Tina      NaN  4.23   NaN  NaN  NaN   NaN   NaN   NaN  NaN\n",
            "Vardan    NaN   NaN   NaN  NaN  NaN  3.78   NaN   NaN  NaN\n",
            "Vikesh    NaN   NaN   NaN  NaN  4.8   NaN   NaN   NaN  NaN\n",
            "Vishal   3.80   NaN   NaN  NaN  NaN   NaN   NaN   NaN  NaN\n",
            "<class 'pandas.core.frame.DataFrame'>\n"
          ]
        }
      ]
    },
    {
      "cell_type": "code",
      "metadata": {
        "colab": {
          "base_uri": "https://localhost:8080/"
        },
        "id": "tVlym3u0mB0W",
        "outputId": "14393dce-f5e9-4526-decf-2a8d78936a26"
      },
      "source": [
        "df = pd.DataFrame({'A': ['John', 'Boby', 'Mina'], \n",
        "      'B': ['Masters', 'Graduate', 'Graduate'], \n",
        "      'C': [27, 23, 21]}) \n",
        "print(df)"
      ],
      "execution_count": 20,
      "outputs": [
        {
          "output_type": "stream",
          "name": "stdout",
          "text": [
            "      A         B   C\n",
            "0  John   Masters  27\n",
            "1  Boby  Graduate  23\n",
            "2  Mina  Graduate  21\n"
          ]
        }
      ]
    },
    {
      "cell_type": "code",
      "metadata": {
        "colab": {
          "base_uri": "https://localhost:8080/"
        },
        "id": "5N95ARtumZs0",
        "outputId": "c4ecaec2-2076-4a8d-c53e-31797ecffa94"
      },
      "source": [
        "p=df.pivot('A', 'B', 'C')\n",
        "print(p)"
      ],
      "execution_count": 21,
      "outputs": [
        {
          "output_type": "stream",
          "name": "stdout",
          "text": [
            "B     Graduate  Masters\n",
            "A                      \n",
            "Boby      23.0      NaN\n",
            "John       NaN     27.0\n",
            "Mina      21.0      NaN\n"
          ]
        }
      ]
    },
    {
      "cell_type": "code",
      "metadata": {
        "colab": {
          "base_uri": "https://localhost:8080/"
        },
        "id": "l4IHGaq9nXCN",
        "outputId": "fa249c3e-06a1-4725-bdab-33ce79aeec50"
      },
      "source": [
        "print(type(p))"
      ],
      "execution_count": 22,
      "outputs": [
        {
          "output_type": "stream",
          "name": "stdout",
          "text": [
            "<class 'pandas.core.frame.DataFrame'>\n"
          ]
        }
      ]
    },
    {
      "cell_type": "code",
      "metadata": {
        "colab": {
          "base_uri": "https://localhost:8080/"
        },
        "id": "Mgy0LLj1m-en",
        "outputId": "75969058-fecc-42dd-c3f6-24af87f96b09"
      },
      "source": [
        "p=df.pivot(index ='A', columns ='B', values =['C', 'A'])\n",
        "print(p)"
      ],
      "execution_count": 23,
      "outputs": [
        {
          "output_type": "stream",
          "name": "stdout",
          "text": [
            "            C                A        \n",
            "B    Graduate Masters Graduate Masters\n",
            "A                                     \n",
            "Boby       23     NaN     Boby     NaN\n",
            "John      NaN      27      NaN    John\n",
            "Mina       21     NaN     Mina     NaN\n"
          ]
        }
      ]
    },
    {
      "cell_type": "code",
      "metadata": {
        "colab": {
          "base_uri": "https://localhost:8080/"
        },
        "id": "bQKlHAdlngN_",
        "outputId": "6ba30306-4718-40fa-d9c7-d41a35af9402"
      },
      "source": [
        "df = pd.DataFrame({'foo': ['one', 'one', 'one', 'two', 'two','two'],\n",
        "                    'bar': ['A', 'B', 'C', 'A', 'B', 'C'],\n",
        "                    'baz': [1, 2, 3, 4, 5, 6],\n",
        "                    'zoo': ['x', 'y', 'z', 'q', 'w', 't']})\n",
        "\n",
        "print(df)\n"
      ],
      "execution_count": 25,
      "outputs": [
        {
          "output_type": "stream",
          "name": "stdout",
          "text": [
            "   foo bar  baz zoo\n",
            "0  one   A    1   x\n",
            "1  one   B    2   y\n",
            "2  one   C    3   z\n",
            "3  two   A    4   q\n",
            "4  two   B    5   w\n",
            "5  two   C    6   t\n"
          ]
        }
      ]
    },
    {
      "cell_type": "code",
      "metadata": {
        "colab": {
          "base_uri": "https://localhost:8080/",
          "height": 143
        },
        "id": "Zu46KXsen-wK",
        "outputId": "b0fdf8e4-ae88-4b1e-87fe-75c6c573b0d9"
      },
      "source": [
        "df.pivot(index='foo', columns='bar', values='baz')"
      ],
      "execution_count": 26,
      "outputs": [
        {
          "output_type": "execute_result",
          "data": {
            "text/html": [
              "<div>\n",
              "<style scoped>\n",
              "    .dataframe tbody tr th:only-of-type {\n",
              "        vertical-align: middle;\n",
              "    }\n",
              "\n",
              "    .dataframe tbody tr th {\n",
              "        vertical-align: top;\n",
              "    }\n",
              "\n",
              "    .dataframe thead th {\n",
              "        text-align: right;\n",
              "    }\n",
              "</style>\n",
              "<table border=\"1\" class=\"dataframe\">\n",
              "  <thead>\n",
              "    <tr style=\"text-align: right;\">\n",
              "      <th>bar</th>\n",
              "      <th>A</th>\n",
              "      <th>B</th>\n",
              "      <th>C</th>\n",
              "    </tr>\n",
              "    <tr>\n",
              "      <th>foo</th>\n",
              "      <th></th>\n",
              "      <th></th>\n",
              "      <th></th>\n",
              "    </tr>\n",
              "  </thead>\n",
              "  <tbody>\n",
              "    <tr>\n",
              "      <th>one</th>\n",
              "      <td>1</td>\n",
              "      <td>2</td>\n",
              "      <td>3</td>\n",
              "    </tr>\n",
              "    <tr>\n",
              "      <th>two</th>\n",
              "      <td>4</td>\n",
              "      <td>5</td>\n",
              "      <td>6</td>\n",
              "    </tr>\n",
              "  </tbody>\n",
              "</table>\n",
              "</div>"
            ],
            "text/plain": [
              "bar  A  B  C\n",
              "foo         \n",
              "one  1  2  3\n",
              "two  4  5  6"
            ]
          },
          "metadata": {},
          "execution_count": 26
        }
      ]
    },
    {
      "cell_type": "code",
      "metadata": {
        "colab": {
          "base_uri": "https://localhost:8080/"
        },
        "id": "rc1DP0FkoXaz",
        "outputId": "327a42af-4aff-4d6f-88a4-382b81bce189"
      },
      "source": [
        "df.pivot(index='foo', columns='bar')['baz']\n",
        "print(df)"
      ],
      "execution_count": 27,
      "outputs": [
        {
          "output_type": "stream",
          "name": "stdout",
          "text": [
            "   foo bar  baz zoo\n",
            "0  one   A    1   x\n",
            "1  one   B    2   y\n",
            "2  one   C    3   z\n",
            "3  two   A    4   q\n",
            "4  two   B    5   w\n",
            "5  two   C    6   t\n"
          ]
        }
      ]
    },
    {
      "cell_type": "code",
      "metadata": {
        "colab": {
          "base_uri": "https://localhost:8080/"
        },
        "id": "LTpFpFxjo0Ju",
        "outputId": "bc1d2d64-88f2-4e46-e1ff-07f30ee9e5bd"
      },
      "source": [
        "df.pivot(index='foo', columns='bar', values=['baz', 'zoo'])\n",
        "print(df)"
      ],
      "execution_count": 28,
      "outputs": [
        {
          "output_type": "stream",
          "name": "stdout",
          "text": [
            "   foo bar  baz zoo\n",
            "0  one   A    1   x\n",
            "1  one   B    2   y\n",
            "2  one   C    3   z\n",
            "3  two   A    4   q\n",
            "4  two   B    5   w\n",
            "5  two   C    6   t\n"
          ]
        }
      ]
    },
    {
      "cell_type": "code",
      "metadata": {
        "colab": {
          "base_uri": "https://localhost:8080/"
        },
        "id": "wnW38loUpEQB",
        "outputId": "1d2da822-4cb6-47be-b891-71fd861ea599"
      },
      "source": [
        "df = pd.DataFrame({\"foo\": ['one', 'one', 'two', 'two'], \"bar\": ['A', 'A', 'B', 'C'], \"baz\": [1, 2, 3, 4]})\n",
        "print(df)"
      ],
      "execution_count": 30,
      "outputs": [
        {
          "output_type": "stream",
          "name": "stdout",
          "text": [
            "   foo bar  baz\n",
            "0  one   A    1\n",
            "1  one   A    2\n",
            "2  two   B    3\n",
            "3  two   C    4\n"
          ]
        }
      ]
    },
    {
      "cell_type": "code",
      "metadata": {
        "colab": {
          "base_uri": "https://localhost:8080/",
          "height": 557
        },
        "id": "ebVcQ-slpY-c",
        "outputId": "a36a61ea-e776-4e48-f513-6405ab0549e6"
      },
      "source": [
        "d = {'Age':pd.Series([25,26,25,23,30,29,23,34,40,30,51,46]),\n",
        "   'Rating':pd.Series([4.23,3.24,3.98,2.56,3.20,4.6,3.8,3.78,2.98,4.80,4.10,3.65])\n",
        "}\n",
        "df = pd.DataFrame(d)\n",
        "print(df)\n",
        "df.pivot(index='Age', columns='Rating')"
      ],
      "execution_count": 39,
      "outputs": [
        {
          "output_type": "stream",
          "name": "stdout",
          "text": [
            "    Age  Rating\n",
            "0    25    4.23\n",
            "1    26    3.24\n",
            "2    25    3.98\n",
            "3    23    2.56\n",
            "4    30    3.20\n",
            "5    29    4.60\n",
            "6    23    3.80\n",
            "7    34    3.78\n",
            "8    40    2.98\n",
            "9    30    4.80\n",
            "10   51    4.10\n",
            "11   46    3.65\n"
          ]
        },
        {
          "output_type": "execute_result",
          "data": {
            "text/html": [
              "<div>\n",
              "<style scoped>\n",
              "    .dataframe tbody tr th:only-of-type {\n",
              "        vertical-align: middle;\n",
              "    }\n",
              "\n",
              "    .dataframe tbody tr th {\n",
              "        vertical-align: top;\n",
              "    }\n",
              "\n",
              "    .dataframe thead tr th {\n",
              "        text-align: left;\n",
              "    }\n",
              "\n",
              "    .dataframe thead tr:last-of-type th {\n",
              "        text-align: right;\n",
              "    }\n",
              "</style>\n",
              "<table border=\"1\" class=\"dataframe\">\n",
              "  <thead>\n",
              "    <tr>\n",
              "      <th>Age</th>\n",
              "    </tr>\n",
              "  </thead>\n",
              "  <tbody>\n",
              "    <tr>\n",
              "      <th>23</th>\n",
              "    </tr>\n",
              "    <tr>\n",
              "      <th>25</th>\n",
              "    </tr>\n",
              "    <tr>\n",
              "      <th>26</th>\n",
              "    </tr>\n",
              "    <tr>\n",
              "      <th>29</th>\n",
              "    </tr>\n",
              "    <tr>\n",
              "      <th>30</th>\n",
              "    </tr>\n",
              "    <tr>\n",
              "      <th>34</th>\n",
              "    </tr>\n",
              "    <tr>\n",
              "      <th>40</th>\n",
              "    </tr>\n",
              "    <tr>\n",
              "      <th>46</th>\n",
              "    </tr>\n",
              "    <tr>\n",
              "      <th>51</th>\n",
              "    </tr>\n",
              "  </tbody>\n",
              "</table>\n",
              "</div>"
            ],
            "text/plain": [
              "Empty DataFrame\n",
              "Columns: []\n",
              "Index: [23, 25, 26, 29, 30, 34, 40, 46, 51]"
            ]
          },
          "metadata": {},
          "execution_count": 39
        }
      ]
    },
    {
      "cell_type": "code",
      "metadata": {
        "colab": {
          "base_uri": "https://localhost:8080/"
        },
        "id": "qo1dvqByppl0",
        "outputId": "b432b849-0f2f-4ab1-facc-ca431adc4b63"
      },
      "source": [
        "df = pd.DataFrame({'foo': ['one', 'one', 'one', 'two', 'two','two'],\n",
        "                    'bar': ['A', 'B', 'C', 'A', 'B', 'C'],\n",
        "                    'baz': [1, 2, 3, 4, 5, 6],\n",
        "                    'zoo': ['x', 'y', 'z', 'q', 'w', 't']})\n",
        "\n",
        "print(df)"
      ],
      "execution_count": 32,
      "outputs": [
        {
          "output_type": "stream",
          "name": "stdout",
          "text": [
            "   foo bar  baz zoo\n",
            "0  one   A    1   x\n",
            "1  one   B    2   y\n",
            "2  one   C    3   z\n",
            "3  two   A    4   q\n",
            "4  two   B    5   w\n",
            "5  two   C    6   t\n"
          ]
        }
      ]
    },
    {
      "cell_type": "code",
      "metadata": {
        "colab": {
          "base_uri": "https://localhost:8080/"
        },
        "id": "fn_LfFNGp-yH",
        "outputId": "6ea5a7d7-fdd3-4e21-faf2-b86f04278180"
      },
      "source": [
        "m = df.min()\n",
        "print(m)"
      ],
      "execution_count": 33,
      "outputs": [
        {
          "output_type": "stream",
          "name": "stdout",
          "text": [
            "foo    one\n",
            "bar      A\n",
            "baz      1\n",
            "zoo      q\n",
            "dtype: object\n"
          ]
        }
      ]
    },
    {
      "cell_type": "code",
      "metadata": {
        "colab": {
          "base_uri": "https://localhost:8080/"
        },
        "id": "fDhv9nE_qS7V",
        "outputId": "8205c776-1c7f-431b-b63a-f2f68148a5a0"
      },
      "source": [
        "d = {'Age':pd.Series([25,26,25,23,30,29,23,34,40,30,51,46]),\n",
        "   'Rating':pd.Series([4.23,3.24,3.98,2.56,3.20,4.6,3.8,3.78,2.98,4.80,4.10,3.65])\n",
        "}\n",
        "df = pd.DataFrame(d)\n",
        "p = df.abs()\n",
        "print(p)"
      ],
      "execution_count": 40,
      "outputs": [
        {
          "output_type": "stream",
          "name": "stdout",
          "text": [
            "     Age  Rating\n",
            "0   25.0    4.23\n",
            "1   26.0    3.24\n",
            "2   25.0    3.98\n",
            "3   23.0    2.56\n",
            "4   30.0    3.20\n",
            "5   29.0    4.60\n",
            "6   23.0    3.80\n",
            "7   34.0    3.78\n",
            "8   40.0    2.98\n",
            "9   30.0    4.80\n",
            "10  51.0    4.10\n",
            "11  46.0    3.65\n"
          ]
        }
      ]
    },
    {
      "cell_type": "code",
      "metadata": {
        "colab": {
          "base_uri": "https://localhost:8080/"
        },
        "id": "efkR1oNZqf9g",
        "outputId": "e727fc3e-1b11-4acb-aad9-686b303ce11b"
      },
      "source": [
        "pr = df.prod()\n",
        "print(pr)"
      ],
      "execution_count": 41,
      "outputs": [
        {
          "output_type": "stream",
          "name": "stdout",
          "text": [
            "Age       7.158408e+17\n",
            "Rating    6.320128e+06\n",
            "dtype: float64\n"
          ]
        }
      ]
    },
    {
      "cell_type": "code",
      "metadata": {
        "colab": {
          "base_uri": "https://localhost:8080/"
        },
        "id": "cEhHSjYWqvgh",
        "outputId": "8788d35a-27bd-4b92-edc5-74a64a090234"
      },
      "source": [
        "cpr = df.cumprod()\n",
        "print(cpr)"
      ],
      "execution_count": 42,
      "outputs": [
        {
          "output_type": "stream",
          "name": "stdout",
          "text": [
            "                   Age        Rating\n",
            "0                   25  4.230000e+00\n",
            "1                  650  1.370520e+01\n",
            "2                16250  5.454670e+01\n",
            "3               373750  1.396395e+02\n",
            "4             11212500  4.468465e+02\n",
            "5            325162500  2.055494e+03\n",
            "6           7478737500  7.810877e+03\n",
            "7         254277075000  2.952512e+04\n",
            "8       10171083000000  8.798485e+04\n",
            "9      305132490000000  4.223273e+05\n",
            "10   15561756990000000  1.731542e+06\n",
            "11  715840821540000000  6.320128e+06\n"
          ]
        }
      ]
    },
    {
      "cell_type": "code",
      "metadata": {
        "colab": {
          "base_uri": "https://localhost:8080/"
        },
        "id": "7UN962RRsOhy",
        "outputId": "502f9c9e-b0f8-4504-a585-995feac3688c"
      },
      "source": [
        "cs = df.cumsum()\n",
        "print(cs)"
      ],
      "execution_count": 43,
      "outputs": [
        {
          "output_type": "stream",
          "name": "stdout",
          "text": [
            "    Age  Rating\n",
            "0    25    4.23\n",
            "1    51    7.47\n",
            "2    76   11.45\n",
            "3    99   14.01\n",
            "4   129   17.21\n",
            "5   158   21.81\n",
            "6   181   25.61\n",
            "7   215   29.39\n",
            "8   255   32.37\n",
            "9   285   37.17\n",
            "10  336   41.27\n",
            "11  382   44.92\n"
          ]
        }
      ]
    },
    {
      "cell_type": "code",
      "metadata": {
        "colab": {
          "base_uri": "https://localhost:8080/"
        },
        "id": "7EJmN2v0sZXA",
        "outputId": "6762f996-9e31-44c8-d8e2-3de8c7c17112"
      },
      "source": [
        "m = df.mean()\n",
        "print(m)"
      ],
      "execution_count": 44,
      "outputs": [
        {
          "output_type": "stream",
          "name": "stdout",
          "text": [
            "Age       31.833333\n",
            "Rating     3.743333\n",
            "dtype: float64\n"
          ]
        }
      ]
    },
    {
      "cell_type": "code",
      "metadata": {
        "colab": {
          "base_uri": "https://localhost:8080/"
        },
        "id": "-AXFYL9asl_W",
        "outputId": "f3358ce9-ed90-4845-ec8c-34a0b20dfb69"
      },
      "source": [
        "md = df.median()\n",
        "print(md)"
      ],
      "execution_count": 45,
      "outputs": [
        {
          "output_type": "stream",
          "name": "stdout",
          "text": [
            "Age       29.50\n",
            "Rating     3.79\n",
            "dtype: float64\n"
          ]
        }
      ]
    },
    {
      "cell_type": "code",
      "metadata": {
        "colab": {
          "base_uri": "https://localhost:8080/"
        },
        "id": "U9Nh_ek_svTc",
        "outputId": "8333c5f6-b444-4e09-b1f2-cc4cad7e53f1"
      },
      "source": [
        "m = df.mode()\n",
        "print(m)"
      ],
      "execution_count": 46,
      "outputs": [
        {
          "output_type": "stream",
          "name": "stdout",
          "text": [
            "     Age  Rating\n",
            "0   23.0    2.56\n",
            "1   25.0    2.98\n",
            "2   30.0    3.20\n",
            "3    NaN    3.24\n",
            "4    NaN    3.65\n",
            "5    NaN    3.78\n",
            "6    NaN    3.80\n",
            "7    NaN    3.98\n",
            "8    NaN    4.10\n",
            "9    NaN    4.23\n",
            "10   NaN    4.60\n",
            "11   NaN    4.80\n"
          ]
        }
      ]
    }
  ]
}