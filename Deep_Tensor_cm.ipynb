{
  "nbformat": 4,
  "nbformat_minor": 0,
  "metadata": {
    "colab": {
      "name": "Deep_Tensor_cm.ipynb",
      "provenance": [],
      "collapsed_sections": [],
      "authorship_tag": "ABX9TyNYj7K0rSfRer0Wg5uA4VXd",
      "include_colab_link": true
    },
    "kernelspec": {
      "name": "python3",
      "display_name": "Python 3"
    },
    "language_info": {
      "name": "python"
    }
  },
  "cells": [
    {
      "cell_type": "markdown",
      "metadata": {
        "id": "view-in-github",
        "colab_type": "text"
      },
      "source": [
        "<a href=\"https://colab.research.google.com/github/anujsaxena/Python/blob/main/Deep_Tensor_cm.ipynb\" target=\"_parent\"><img src=\"https://colab.research.google.com/assets/colab-badge.svg\" alt=\"Open In Colab\"/></a>"
      ]
    },
    {
      "cell_type": "markdown",
      "source": [
        "# **Tensorflow - Confusion Matrix**\n",
        "\n",
        "Syntax:\n",
        "\n",
        "tf.math.confusion_matrix(\n",
        "  \n",
        "    labels, predictions, num_classes=None, weights=None, dtype=tf.dtypes.int32,\n",
        "    name=None\n",
        ")"
      ],
      "metadata": {
        "id": "wH3c-dDgGg5V"
      }
    },
    {
      "cell_type": "code",
      "execution_count": 1,
      "metadata": {
        "colab": {
          "base_uri": "https://localhost:8080/"
        },
        "id": "WOs0s8SYGedl",
        "outputId": "adcd4d36-6169-47cc-ea09-e06c0a061dd0"
      },
      "outputs": [
        {
          "output_type": "execute_result",
          "data": {
            "text/plain": [
              "<tf.Tensor: shape=(5, 5), dtype=int32, numpy=\n",
              "array([[0, 0, 0, 0, 0],\n",
              "       [0, 0, 1, 0, 0],\n",
              "       [0, 0, 1, 0, 0],\n",
              "       [0, 0, 0, 1, 0],\n",
              "       [0, 0, 0, 0, 1]], dtype=int32)>"
            ]
          },
          "metadata": {},
          "execution_count": 1
        }
      ],
      "source": [
        "import tensorflow as tf\n",
        "tf.math.confusion_matrix([1,2,3,4], [2,2,3,4])"
      ]
    },
    {
      "cell_type": "code",
      "source": [
        "tf.math.confusion_matrix([1,2,4], [2,3,4])"
      ],
      "metadata": {
        "colab": {
          "base_uri": "https://localhost:8080/"
        },
        "id": "auqCo_b_NQ5E",
        "outputId": "f6f1fe54-b981-493a-ebdb-07a3626ca06c"
      },
      "execution_count": 2,
      "outputs": [
        {
          "output_type": "execute_result",
          "data": {
            "text/plain": [
              "<tf.Tensor: shape=(5, 5), dtype=int32, numpy=\n",
              "array([[0, 0, 0, 0, 0],\n",
              "       [0, 0, 1, 0, 0],\n",
              "       [0, 0, 0, 1, 0],\n",
              "       [0, 0, 0, 0, 0],\n",
              "       [0, 0, 0, 0, 1]], dtype=int32)>"
            ]
          },
          "metadata": {},
          "execution_count": 2
        }
      ]
    },
    {
      "cell_type": "code",
      "source": [
        "tf.math.confusion_matrix([1,2,4], [2,2,4])"
      ],
      "metadata": {
        "colab": {
          "base_uri": "https://localhost:8080/"
        },
        "id": "_0qzl0IoNc-8",
        "outputId": "32403b78-4513-48f9-b6ab-23eb33f287c4"
      },
      "execution_count": 3,
      "outputs": [
        {
          "output_type": "execute_result",
          "data": {
            "text/plain": [
              "<tf.Tensor: shape=(5, 5), dtype=int32, numpy=\n",
              "array([[0, 0, 0, 0, 0],\n",
              "       [0, 0, 1, 0, 0],\n",
              "       [0, 0, 1, 0, 0],\n",
              "       [0, 0, 0, 0, 0],\n",
              "       [0, 0, 0, 0, 1]], dtype=int32)>"
            ]
          },
          "metadata": {},
          "execution_count": 3
        }
      ]
    },
    {
      "cell_type": "code",
      "source": [
        "tf.math.confusion_matrix([1,2,4], [1,2,4])"
      ],
      "metadata": {
        "colab": {
          "base_uri": "https://localhost:8080/"
        },
        "id": "pJhJxqhiNgVv",
        "outputId": "fbeebcfd-e1f6-47d2-9053-826d6d3a5c0c"
      },
      "execution_count": 4,
      "outputs": [
        {
          "output_type": "execute_result",
          "data": {
            "text/plain": [
              "<tf.Tensor: shape=(5, 5), dtype=int32, numpy=\n",
              "array([[0, 0, 0, 0, 0],\n",
              "       [0, 1, 0, 0, 0],\n",
              "       [0, 0, 1, 0, 0],\n",
              "       [0, 0, 0, 0, 0],\n",
              "       [0, 0, 0, 0, 1]], dtype=int32)>"
            ]
          },
          "metadata": {},
          "execution_count": 4
        }
      ]
    },
    {
      "cell_type": "code",
      "source": [
        "labels = tf.constant([0,1,2,4,5,6,8,9,10], dtype=tf.int32)\n",
        "predictions = tf.constant([0,1,2,3,4,5,6,7,8], dtype=tf.int32)\n",
        "print(predictions)\n",
        "print(labels)"
      ],
      "metadata": {
        "colab": {
          "base_uri": "https://localhost:8080/"
        },
        "id": "M9u3M-eYNnAR",
        "outputId": "33db13b0-86d1-473e-c3fe-03e4cf5e3ace"
      },
      "execution_count": 8,
      "outputs": [
        {
          "output_type": "stream",
          "name": "stdout",
          "text": [
            "tf.Tensor([0 1 2 3 4 5 6 7 8], shape=(9,), dtype=int32)\n",
            "tf.Tensor([ 0  1  2  4  5  6  8  9 10], shape=(9,), dtype=int32)\n"
          ]
        }
      ]
    },
    {
      "cell_type": "code",
      "source": [
        "cf = tf.math.confusion_matrix(labels,predictions)\n",
        "print(cf)"
      ],
      "metadata": {
        "colab": {
          "base_uri": "https://localhost:8080/"
        },
        "id": "haWhBQmnOkhN",
        "outputId": "649c00f5-eed0-4787-b6ac-6413e1fe3fc3"
      },
      "execution_count": 9,
      "outputs": [
        {
          "output_type": "stream",
          "name": "stdout",
          "text": [
            "tf.Tensor(\n",
            "[[1 0 0 0 0 0 0 0 0 0 0]\n",
            " [0 1 0 0 0 0 0 0 0 0 0]\n",
            " [0 0 1 0 0 0 0 0 0 0 0]\n",
            " [0 0 0 0 0 0 0 0 0 0 0]\n",
            " [0 0 0 1 0 0 0 0 0 0 0]\n",
            " [0 0 0 0 1 0 0 0 0 0 0]\n",
            " [0 0 0 0 0 1 0 0 0 0 0]\n",
            " [0 0 0 0 0 0 0 0 0 0 0]\n",
            " [0 0 0 0 0 0 1 0 0 0 0]\n",
            " [0 0 0 0 0 0 0 1 0 0 0]\n",
            " [0 0 0 0 0 0 0 0 1 0 0]], shape=(11, 11), dtype=int32)\n"
          ]
        }
      ]
    },
    {
      "cell_type": "code",
      "source": [
        "labels = tf.constant([0,1,2,3,4,5,6,7,8], dtype=tf.int32)\n",
        "predictions = tf.constant([0,1,2,3,4,5,6,7,8], dtype=tf.int32)\n",
        "cf = tf.math.confusion_matrix(labels,predictions)\n",
        "print(cf)"
      ],
      "metadata": {
        "colab": {
          "base_uri": "https://localhost:8080/"
        },
        "id": "VORV1y-zPHbA",
        "outputId": "b3c392cd-89d6-4ea1-99f4-f5c557d0c3b6"
      },
      "execution_count": 10,
      "outputs": [
        {
          "output_type": "stream",
          "name": "stdout",
          "text": [
            "tf.Tensor(\n",
            "[[1 0 0 0 0 0 0 0 0]\n",
            " [0 1 0 0 0 0 0 0 0]\n",
            " [0 0 1 0 0 0 0 0 0]\n",
            " [0 0 0 1 0 0 0 0 0]\n",
            " [0 0 0 0 1 0 0 0 0]\n",
            " [0 0 0 0 0 1 0 0 0]\n",
            " [0 0 0 0 0 0 1 0 0]\n",
            " [0 0 0 0 0 0 0 1 0]\n",
            " [0 0 0 0 0 0 0 0 1]], shape=(9, 9), dtype=int32)\n"
          ]
        }
      ]
    },
    {
      "cell_type": "code",
      "source": [
        "labels = tf.constant([0,1,2,4,5,6,8,9,10], dtype=tf.int32)\n",
        "predictions = tf.constant([0,1,2,3,4,5,6,7,8], dtype=tf.int32)\n",
        "wt = tf.constant([1,2,2,1,4,5,5,6,7], dtype=tf.int32)\n",
        "cf = tf.math.confusion_matrix(labels,predictions,weights=wt)\n",
        "print('confusion matrix')\n",
        "print(cf)"
      ],
      "metadata": {
        "colab": {
          "base_uri": "https://localhost:8080/"
        },
        "id": "9L5KgjFfPYLb",
        "outputId": "7bde7230-ac3d-46bb-88d7-c0ce3f864540"
      },
      "execution_count": 11,
      "outputs": [
        {
          "output_type": "stream",
          "name": "stdout",
          "text": [
            "confusion matrix\n",
            "tf.Tensor(\n",
            "[[1 0 0 0 0 0 0 0 0 0 0]\n",
            " [0 2 0 0 0 0 0 0 0 0 0]\n",
            " [0 0 2 0 0 0 0 0 0 0 0]\n",
            " [0 0 0 0 0 0 0 0 0 0 0]\n",
            " [0 0 0 1 0 0 0 0 0 0 0]\n",
            " [0 0 0 0 4 0 0 0 0 0 0]\n",
            " [0 0 0 0 0 5 0 0 0 0 0]\n",
            " [0 0 0 0 0 0 0 0 0 0 0]\n",
            " [0 0 0 0 0 0 5 0 0 0 0]\n",
            " [0 0 0 0 0 0 0 6 0 0 0]\n",
            " [0 0 0 0 0 0 0 0 7 0 0]], shape=(11, 11), dtype=int32)\n"
          ]
        }
      ]
    },
    {
      "cell_type": "code",
      "source": [
        "labels = tf.constant([0,1,2,3,4,5,6,7,8], dtype=tf.int32)\n",
        "predictions = tf.constant([0,1,2,3,4,5,6,7,8], dtype=tf.int32)\n",
        "wt = tf.constant([1,2,2,1,4,5,5,6,7], dtype=tf.int32)\n",
        "cf = tf.math.confusion_matrix(labels,predictions,weights=wt)\n",
        "print('confusion matrix')\n",
        "print(cf)"
      ],
      "metadata": {
        "colab": {
          "base_uri": "https://localhost:8080/"
        },
        "id": "k4jHLxt8Qiti",
        "outputId": "01164fb3-31b1-4fca-f8e1-ff223f9887de"
      },
      "execution_count": 12,
      "outputs": [
        {
          "output_type": "stream",
          "name": "stdout",
          "text": [
            "confusion matrix\n",
            "tf.Tensor(\n",
            "[[1 0 0 0 0 0 0 0 0]\n",
            " [0 2 0 0 0 0 0 0 0]\n",
            " [0 0 2 0 0 0 0 0 0]\n",
            " [0 0 0 1 0 0 0 0 0]\n",
            " [0 0 0 0 4 0 0 0 0]\n",
            " [0 0 0 0 0 5 0 0 0]\n",
            " [0 0 0 0 0 0 5 0 0]\n",
            " [0 0 0 0 0 0 0 6 0]\n",
            " [0 0 0 0 0 0 0 0 7]], shape=(9, 9), dtype=int32)\n"
          ]
        }
      ]
    },
    {
      "cell_type": "code",
      "source": [
        "from tensorflow.keras import datasets, layers, models\n",
        "import matplotlib.pyplot as plt\n",
        "import tensorflow as tf\n",
        "import numpy as np\n",
        "import pandas as pd\n",
        "import seaborn as sns\n",
        "%load_ext tensorboard\n",
        "logdir='log'\n",
        "(train_images, train_labels), (test_images, test_labels) = datasets.mnist.load_data()\n",
        "train_images = train_images.reshape((60000,28,28,1))\n",
        "test_images = test_images.reshape((10000, 28,28,1))\n",
        "\n",
        "train_images = train_images/255.0\n",
        "test_images = test_images/255.0\n",
        "\n",
        "classes=[0,1,2,3,4,5,6,7,8,9]\n",
        "model = models.Sequential()\n",
        "model.add(layers.Conv2D(32, (3, 3), activation='relu', input_shape=(28, 28, 1)))\n",
        "model.add(layers.MaxPooling2D((2, 2)))\n",
        "model.add(layers.Conv2D(64, (3, 3), activation='relu'))\n",
        "model.add(layers.MaxPooling2D((2, 2)))\n",
        "model.add(layers.Conv2D(64, (3, 3), activation='relu'))\n",
        "\n",
        "model.add(layers.Flatten())\n",
        "model.add(layers.Dense(64, activation='relu'))\n",
        "model.add(layers.Dense(64, activation='softmax'))\n",
        "\n",
        "tensorboard_rollback = tf.keras.callbacks.TensorBoard(logdir, histogram_freq=1)\n",
        "\n",
        "model.compile(optimizer='adam',\n",
        "              loss='sparse_categorical_crossentropy',\n",
        "              metrics=['accuracy'])\n",
        "\n",
        "model.fit(x =train_images, y=train_labels, epochs=5, validation_data=(test_images, test_labels))\n",
        "\n"
      ],
      "metadata": {
        "colab": {
          "base_uri": "https://localhost:8080/"
        },
        "id": "sN_ItLZKQ8Xw",
        "outputId": "336ecdfa-35ca-4a3e-c0c6-a409d4620f38"
      },
      "execution_count": 15,
      "outputs": [
        {
          "output_type": "stream",
          "name": "stdout",
          "text": [
            "The tensorboard extension is already loaded. To reload it, use:\n",
            "  %reload_ext tensorboard\n",
            "Epoch 1/5\n",
            "1875/1875 [==============================] - 67s 35ms/step - loss: 0.1825 - accuracy: 0.9461 - val_loss: 0.0517 - val_accuracy: 0.9834\n",
            "Epoch 2/5\n",
            "1875/1875 [==============================] - 68s 36ms/step - loss: 0.0516 - accuracy: 0.9837 - val_loss: 0.0383 - val_accuracy: 0.9882\n",
            "Epoch 3/5\n",
            "1875/1875 [==============================] - 65s 35ms/step - loss: 0.0370 - accuracy: 0.9886 - val_loss: 0.0432 - val_accuracy: 0.9861\n",
            "Epoch 4/5\n",
            "1875/1875 [==============================] - 64s 34ms/step - loss: 0.0288 - accuracy: 0.9911 - val_loss: 0.0299 - val_accuracy: 0.9910\n",
            "Epoch 5/5\n",
            "1875/1875 [==============================] - 64s 34ms/step - loss: 0.0225 - accuracy: 0.9926 - val_loss: 0.0297 - val_accuracy: 0.9906\n"
          ]
        },
        {
          "output_type": "execute_result",
          "data": {
            "text/plain": [
              "<keras.callbacks.History at 0x7f47db9d7590>"
            ]
          },
          "metadata": {},
          "execution_count": 15
        }
      ]
    },
    {
      "cell_type": "code",
      "source": [
        "y_pred = model.predict(test_images)\n",
        "yy=y_pred[:,:1]\n",
        "print(yy.shape)\n",
        "y_true=test_labels\n",
        "print(y_true.shape)\n",
        "#y_pred=model.predict_classes(test_images)\n",
        "classes=[0,1,2,3,4,5,6,7,8,9]\n",
        "con_mat = tf.math.confusion_matrix(labels=y_true, predictions=yy, num_classes=len(classes)).numpy()\n",
        "con_mat_norm = np.around(con_mat.astype('float') / con_mat.sum(axis=1)[:, np.newaxis], decimals=2)\n",
        "\n",
        "con_mat_df = pd.DataFrame(con_mat_norm,\n",
        "                     index = classes, \n",
        "                     columns = classes)\n",
        "print(con_mat_df)"
      ],
      "metadata": {
        "colab": {
          "base_uri": "https://localhost:8080/"
        },
        "id": "2iUR5kz7XBfs",
        "outputId": "c37ad073-621c-4aaa-ca5e-406febe2e5b3"
      },
      "execution_count": 16,
      "outputs": [
        {
          "output_type": "stream",
          "name": "stdout",
          "text": [
            "(10000, 1)\n",
            "(10000,)\n",
            "      0     1    2    3    4    5    6    7    8    9\n",
            "0  0.95  0.05  0.0  0.0  0.0  0.0  0.0  0.0  0.0  0.0\n",
            "1  1.00  0.00  0.0  0.0  0.0  0.0  0.0  0.0  0.0  0.0\n",
            "2  1.00  0.00  0.0  0.0  0.0  0.0  0.0  0.0  0.0  0.0\n",
            "3  1.00  0.00  0.0  0.0  0.0  0.0  0.0  0.0  0.0  0.0\n",
            "4  1.00  0.00  0.0  0.0  0.0  0.0  0.0  0.0  0.0  0.0\n",
            "5  1.00  0.00  0.0  0.0  0.0  0.0  0.0  0.0  0.0  0.0\n",
            "6  1.00  0.00  0.0  0.0  0.0  0.0  0.0  0.0  0.0  0.0\n",
            "7  1.00  0.00  0.0  0.0  0.0  0.0  0.0  0.0  0.0  0.0\n",
            "8  1.00  0.00  0.0  0.0  0.0  0.0  0.0  0.0  0.0  0.0\n",
            "9  1.00  0.00  0.0  0.0  0.0  0.0  0.0  0.0  0.0  0.0\n"
          ]
        }
      ]
    },
    {
      "cell_type": "code",
      "source": [
        "figure = plt.figure(figsize=(8, 8))\n",
        "sns.heatmap(con_mat_df, annot=True,cmap=plt.cm.Blues)\n",
        "plt.tight_layout()\n",
        "plt.ylabel('True label')\n",
        "plt.xlabel('Predicted label')\n",
        "plt.show()"
      ],
      "metadata": {
        "colab": {
          "base_uri": "https://localhost:8080/",
          "height": 599
        },
        "id": "Ci0XZCQsXVSH",
        "outputId": "248de0e8-1418-414d-8d55-89a5c3c29848"
      },
      "execution_count": 17,
      "outputs": [
        {
          "output_type": "display_data",
          "data": {
            "image/png": "[encoded data removed]",
            "text/plain": [
              "<Figure size 576x576 with 2 Axes>"
            ]
          },
          "metadata": {
            "needs_background": "light"
          }
        }
      ]
    }
  ]
}