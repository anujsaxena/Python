{
  "nbformat": 4,
  "nbformat_minor": 0,
  "metadata": {
    "colab": {
      "name": "Class_python.ipynb",
      "provenance": [],
      "authorship_tag": "ABX9TyPdqCPU3b9r4LFfeBTTUrqU",
      "include_colab_link": true
    },
    "kernelspec": {
      "name": "python3",
      "display_name": "Python 3"
    },
    "language_info": {
      "name": "python"
    }
  },
  "cells": [
    {
      "cell_type": "markdown",
      "metadata": {
        "id": "view-in-github",
        "colab_type": "text"
      },
      "source": [
        "<a href=\"https://colab.research.google.com/github/anujsaxena/Python/blob/main/Class_python.ipynb\" target=\"_parent\"><img src=\"https://colab.research.google.com/assets/colab-badge.svg\" alt=\"Open In Colab\"/></a>"
      ]
    },
    {
      "cell_type": "markdown",
      "metadata": {
        "id": "NWzTBJyQSynk"
      },
      "source": [
        "# **Python classes**\n",
        "\n",
        "Class is a collection of similar entities.\n",
        "To access a class we need an object.\n",
        "\n",
        "class name:\n",
        "\n",
        "     <statement/code -1>\n",
        "\n",
        "     <statement/code -2>\n",
        "\n",
        "     ..\n",
        "\n",
        "     ..\n",
        "\n",
        "     ..\n",
        "\n",
        "     <statement/code -n?\n"
      ]
    },
    {
      "cell_type": "code",
      "metadata": {
        "id": "9Xe7GTTyl_B6"
      },
      "source": [
        "class myclass:\n",
        "  n=5"
      ],
      "execution_count": null,
      "outputs": []
    },
    {
      "cell_type": "code",
      "metadata": {
        "colab": {
          "base_uri": "https://localhost:8080/"
        },
        "id": "BbMtXjhjnD3k",
        "outputId": "f76cf3e1-2586-4fd6-e9f1-96cd19a4fac9"
      },
      "source": [
        "#create an object of the class\n",
        "\n",
        "m = myclass()\n",
        "print(m.n) "
      ],
      "execution_count": null,
      "outputs": [
        {
          "output_type": "stream",
          "name": "stdout",
          "text": [
            "5\n"
          ]
        }
      ]
    },
    {
      "cell_type": "code",
      "metadata": {
        "colab": {
          "base_uri": "https://localhost:8080/"
        },
        "id": "n9qpjPiDoCtu",
        "outputId": "b824e57a-bbbd-40a1-acac-46de06947f70"
      },
      "source": [
        "class myclass:\n",
        "  a=10\n",
        "  b=21\n",
        "  c=a+b\n",
        "  print(c)"
      ],
      "execution_count": null,
      "outputs": [
        {
          "output_type": "stream",
          "name": "stdout",
          "text": [
            "31\n"
          ]
        }
      ]
    },
    {
      "cell_type": "markdown",
      "metadata": {
        "id": "jN6mMy0Do35O"
      },
      "source": [
        "\n",
        "```\n",
        "__init__() function\n",
        "```\n",
        "\n"
      ]
    },
    {
      "cell_type": "code",
      "metadata": {
        "colab": {
          "base_uri": "https://localhost:8080/"
        },
        "id": "z183cudyoXDz",
        "outputId": "915f36b7-55d3-44ff-d3e6-ffc8dc5331db"
      },
      "source": [
        "class mysum:\n",
        "  def __init__(self, a,b):\n",
        "    self.a=a\n",
        "    self.b=b\n",
        "s = mysum(10,20)\n",
        "sum = s.a + s.b\n",
        "print(sum)"
      ],
      "execution_count": null,
      "outputs": [
        {
          "output_type": "stream",
          "name": "stdout",
          "text": [
            "30\n"
          ]
        }
      ]
    },
    {
      "cell_type": "code",
      "metadata": {
        "colab": {
          "base_uri": "https://localhost:8080/"
        },
        "id": "Q3LIROb8pyMS",
        "outputId": "e766b119-5aa4-46c7-89dc-28215611ec15"
      },
      "source": [
        "class myComples():\n",
        "  def __init__(self, real,img):\n",
        "    self.r = real\n",
        "    self.i = img\n",
        "c = myComples(3.0, -4.0)\n",
        "print(c.r)\n",
        "print(c.i)"
      ],
      "execution_count": null,
      "outputs": [
        {
          "output_type": "stream",
          "name": "stdout",
          "text": [
            "3.0\n",
            "-4.0\n"
          ]
        }
      ]
    },
    {
      "cell_type": "markdown",
      "metadata": {
        "id": "IJkXbNM4qf_j"
      },
      "source": [
        "# Object Methods\n",
        "\n",
        "Objects can have methods also."
      ]
    },
    {
      "cell_type": "code",
      "metadata": {
        "colab": {
          "base_uri": "https://localhost:8080/"
        },
        "id": "GPa7U2qmqY5R",
        "outputId": "f8dfde80-368b-46bc-9114-40d0d1d11529"
      },
      "source": [
        "class mysum:\n",
        "  def __init__(self, a, b):\n",
        "    self.a = a\n",
        "    self.b= b\n",
        "  def myfn(self):\n",
        "     print(\"Sum = \", (self.a+self.b))\n",
        "s = mysum(56,76)\n",
        "s.myfn()"
      ],
      "execution_count": null,
      "outputs": [
        {
          "output_type": "stream",
          "name": "stdout",
          "text": [
            "Sum =  132\n"
          ]
        }
      ]
    },
    {
      "cell_type": "markdown",
      "metadata": {
        "id": "Ti9HCfdQrp9E"
      },
      "source": [
        "# **self parameter**\n",
        "\n",
        "It refers to the current instance of a class. It is not necessary to name it self. "
      ]
    },
    {
      "cell_type": "code",
      "metadata": {
        "colab": {
          "base_uri": "https://localhost:8080/"
        },
        "id": "R3Vx7WierpZU",
        "outputId": "d88da6c6-0232-42bf-9cc4-525f56bb82c3"
      },
      "source": [
        "class mysum:\n",
        "  def __init__(myself, a, b):\n",
        "    myself.a =a \n",
        "    myself.b =b\n",
        "  def myfn(myself):\n",
        "    print(\"sum = \", (myself.a+myself.b))\n",
        "s = mysum(32,21)\n",
        "s.myfn()"
      ],
      "execution_count": null,
      "outputs": [
        {
          "output_type": "stream",
          "name": "stdout",
          "text": [
            "sum =  53\n"
          ]
        }
      ]
    },
    {
      "cell_type": "code",
      "metadata": {
        "colab": {
          "base_uri": "https://localhost:8080/"
        },
        "id": "hdUOSnzIseDc",
        "outputId": "4a3effa1-22b7-4ce0-a9b4-a2ef94f522b7"
      },
      "source": [
        "class mysum:\n",
        "  def __init__(this, a, b):\n",
        "    this.a =a \n",
        "    this.b =b\n",
        "  def myfn(this):\n",
        "    print(\"sum = \", (this.a+this.b))\n",
        "s = mysum(32,21)\n",
        "s.myfn()"
      ],
      "execution_count": null,
      "outputs": [
        {
          "output_type": "stream",
          "name": "stdout",
          "text": [
            "sum =  53\n"
          ]
        }
      ]
    },
    {
      "cell_type": "code",
      "metadata": {
        "colab": {
          "base_uri": "https://localhost:8080/"
        },
        "id": "-fJ7PQK0st3u",
        "outputId": "ce7b8f94-ea32-48b2-890b-30dc79176b42"
      },
      "source": [
        "s.a=76\n",
        "s.myfn()"
      ],
      "execution_count": null,
      "outputs": [
        {
          "output_type": "stream",
          "name": "stdout",
          "text": [
            "sum =  97\n"
          ]
        }
      ]
    },
    {
      "cell_type": "code",
      "metadata": {
        "colab": {
          "base_uri": "https://localhost:8080/"
        },
        "id": "4G8_6L9HtA_x",
        "outputId": "80d276dd-c251-4d39-8270-99016f531e76"
      },
      "source": [
        "x = int(input(\"enter a number \"))\n",
        "y = int(input(\"Second number\"))\n",
        "s.a=x\n",
        "s.b=y\n",
        "s.myfn()"
      ],
      "execution_count": null,
      "outputs": [
        {
          "output_type": "stream",
          "name": "stdout",
          "text": [
            "enter a number 44\n",
            "Second number76\n",
            "sum =  120\n"
          ]
        }
      ]
    },
    {
      "cell_type": "markdown",
      "metadata": {
        "id": "ycxmYXIstq5v"
      },
      "source": [
        "# **delete object properties**"
      ]
    },
    {
      "cell_type": "code",
      "metadata": {
        "id": "5TjycDQotpRv"
      },
      "source": [
        "del s.a"
      ],
      "execution_count": null,
      "outputs": []
    },
    {
      "cell_type": "code",
      "metadata": {
        "colab": {
          "base_uri": "https://localhost:8080/",
          "height": 287
        },
        "id": "-EwOv1qFt5Ra",
        "outputId": "b8bfb620-de6b-433a-8746-91da34fa8919"
      },
      "source": [
        "s.myfn()"
      ],
      "execution_count": null,
      "outputs": [
        {
          "output_type": "error",
          "ename": "AttributeError",
          "evalue": "ignored",
          "traceback": [
            "\u001b[0;31m---------------------------------------------------------------------------\u001b[0m",
            "\u001b[0;31mAttributeError\u001b[0m                            Traceback (most recent call last)",
            "\u001b[0;32m<ipython-input-16-33a7fcba913a>\u001b[0m in \u001b[0;36m<module>\u001b[0;34m()\u001b[0m\n\u001b[0;32m----> 1\u001b[0;31m \u001b[0ms\u001b[0m\u001b[0;34m.\u001b[0m\u001b[0mmyfn\u001b[0m\u001b[0;34m(\u001b[0m\u001b[0;34m)\u001b[0m\u001b[0;34m\u001b[0m\u001b[0;34m\u001b[0m\u001b[0m\n\u001b[0m",
            "\u001b[0;32m<ipython-input-11-fcce8864971e>\u001b[0m in \u001b[0;36mmyfn\u001b[0;34m(this)\u001b[0m\n\u001b[1;32m      4\u001b[0m     \u001b[0mthis\u001b[0m\u001b[0;34m.\u001b[0m\u001b[0mb\u001b[0m \u001b[0;34m=\u001b[0m\u001b[0mb\u001b[0m\u001b[0;34m\u001b[0m\u001b[0;34m\u001b[0m\u001b[0m\n\u001b[1;32m      5\u001b[0m   \u001b[0;32mdef\u001b[0m \u001b[0mmyfn\u001b[0m\u001b[0;34m(\u001b[0m\u001b[0mthis\u001b[0m\u001b[0;34m)\u001b[0m\u001b[0;34m:\u001b[0m\u001b[0;34m\u001b[0m\u001b[0;34m\u001b[0m\u001b[0m\n\u001b[0;32m----> 6\u001b[0;31m     \u001b[0mprint\u001b[0m\u001b[0;34m(\u001b[0m\u001b[0;34m\"sum = \"\u001b[0m\u001b[0;34m,\u001b[0m \u001b[0;34m(\u001b[0m\u001b[0mthis\u001b[0m\u001b[0;34m.\u001b[0m\u001b[0ma\u001b[0m\u001b[0;34m+\u001b[0m\u001b[0mthis\u001b[0m\u001b[0;34m.\u001b[0m\u001b[0mb\u001b[0m\u001b[0;34m)\u001b[0m\u001b[0;34m)\u001b[0m\u001b[0;34m\u001b[0m\u001b[0;34m\u001b[0m\u001b[0m\n\u001b[0m\u001b[1;32m      7\u001b[0m \u001b[0ms\u001b[0m \u001b[0;34m=\u001b[0m \u001b[0mmysum\u001b[0m\u001b[0;34m(\u001b[0m\u001b[0;36m32\u001b[0m\u001b[0;34m,\u001b[0m\u001b[0;36m21\u001b[0m\u001b[0;34m)\u001b[0m\u001b[0;34m\u001b[0m\u001b[0;34m\u001b[0m\u001b[0m\n\u001b[1;32m      8\u001b[0m \u001b[0ms\u001b[0m\u001b[0;34m.\u001b[0m\u001b[0mmyfn\u001b[0m\u001b[0;34m(\u001b[0m\u001b[0;34m)\u001b[0m\u001b[0;34m\u001b[0m\u001b[0;34m\u001b[0m\u001b[0m\n",
            "\u001b[0;31mAttributeError\u001b[0m: 'mysum' object has no attribute 'a'"
          ]
        }
      ]
    },
    {
      "cell_type": "markdown",
      "metadata": {
        "id": "6ecZ2erEk_6n"
      },
      "source": [
        "# **Class variable and instance variable**\n"
      ]
    },
    {
      "cell_type": "code",
      "metadata": {
        "colab": {
          "base_uri": "https://localhost:8080/"
        },
        "id": "8y-Y82b2lFKi",
        "outputId": "1c23119d-1fb9-404f-b701-4a14e05e9343"
      },
      "source": [
        "class Dog:\n",
        "    breed = 'canine'         # class variable shared by all instances\n",
        "    def __init__(self, nm):\n",
        "        self.nm = nm    # instance variable unique to each instance\n",
        "\n",
        "a = Dog('Buddy')\n",
        "print(\"Class variable \",a.breed)\n",
        "print(\"Instance Variable \", a.nm)\n",
        "b = Dog('Tuffy')\n",
        "print(\"Class variable \",b.breed)\n",
        "print(\"Instance Variable \",b.nm)\n"
      ],
      "execution_count": 5,
      "outputs": [
        {
          "output_type": "stream",
          "name": "stdout",
          "text": [
            "Class variable  canine\n",
            "Instance Variable  Buddy\n",
            "Class variable  canine\n",
            "Instance Variable  Tuffy\n"
          ]
        }
      ]
    },
    {
      "cell_type": "code",
      "metadata": {
        "colab": {
          "base_uri": "https://localhost:8080/"
        },
        "id": "gZzUhtLFwIgy",
        "outputId": "a145ee6f-17eb-498e-93ea-e93174c2ada2"
      },
      "source": [
        "class Dog:\n",
        "    trick =[]\n",
        "    def __init__(self, nm):\n",
        "        self.nm = nm    # instance variable unique to each instance\n",
        "\n",
        "    def add_trick(self,trick):\n",
        "      self.trick.append(trick)\n",
        "\n",
        "a = Dog('Buddy')\n",
        "print(\"Class variable \",a.trick)\n",
        "print(\"Instance Variable \", a.nm)\n",
        "b = Dog('Tuffy')\n",
        "print(\"Class variable \",b.trick)\n",
        "print(\"Instance Variable \",b.nm)\n",
        "a.add_trick('Shake Hand')\n",
        "b.add_trick('Roll over')\n",
        "print(a.trick)\n"
      ],
      "execution_count": 8,
      "outputs": [
        {
          "output_type": "stream",
          "name": "stdout",
          "text": [
            "Class variable  []\n",
            "Instance Variable  Buddy\n",
            "Class variable  []\n",
            "Instance Variable  Tuffy\n",
            "['Shake Hand', 'Roll over']\n"
          ]
        }
      ]
    },
    {
      "cell_type": "code",
      "metadata": {
        "colab": {
          "base_uri": "https://localhost:8080/"
        },
        "id": "spdsB7R0xs5L",
        "outputId": "d6c5140a-2027-4b96-e9f5-3749ff12a576"
      },
      "source": [
        "class Dog:\n",
        "    def __init__(self, nm):\n",
        "        self.nm = nm\n",
        "        self.tricks = []    # creates a new empty list for each dog\n",
        "\n",
        "    def add_trick(self, trick):\n",
        "        self.tricks.append(trick)\n",
        "\n",
        "a = Dog('Buddy')\n",
        "print(\"Class variable \",a.tricks)\n",
        "b = Dog('Tuffy')\n",
        "print(\"Class variable \",b.tricks)\n",
        "print(\"Instance Variable \",b.nm)\n",
        "a.add_trick('Shake Hand')\n",
        "b.add_trick('Roll over')\n",
        "print(a.tricks)\n",
        "print(b.tricks)\n"
      ],
      "execution_count": 11,
      "outputs": [
        {
          "output_type": "stream",
          "name": "stdout",
          "text": [
            "Class variable  []\n",
            "Class variable  []\n",
            "Instance Variable  Tuffy\n",
            "['Shake Hand']\n",
            "['Roll over']\n"
          ]
        }
      ]
    },
    {
      "cell_type": "markdown",
      "metadata": {
        "id": "eW54XXhUzi6_"
      },
      "source": [
        "# **Random Remarks**"
      ]
    },
    {
      "cell_type": "code",
      "metadata": {
        "colab": {
          "base_uri": "https://localhost:8080/"
        },
        "id": "bD92fbovziEp",
        "outputId": "ad78b879-f4c3-496f-e524-a996142b7039"
      },
      "source": [
        "class Warehouse:\n",
        "        purpose = 'storage'\n",
        "        region = 'west'\n",
        "\n",
        "w = Warehouse()\n",
        "print(w.purpose)\n",
        "print(w.region)\n",
        "w1 = Warehouse()\n",
        "w1.region=\"North\"\n",
        "print(w1.purpose)\n",
        "print(w1.region)\n",
        "\n"
      ],
      "execution_count": 13,
      "outputs": [
        {
          "output_type": "stream",
          "name": "stdout",
          "text": [
            "storage\n",
            "west\n",
            "storage\n",
            "North\n"
          ]
        }
      ]
    },
    {
      "cell_type": "markdown",
      "metadata": {
        "id": "BcOAgLMk0Mmv"
      },
      "source": [
        "# **Function defined outside the class**"
      ]
    },
    {
      "cell_type": "code",
      "metadata": {
        "colab": {
          "base_uri": "https://localhost:8080/"
        },
        "id": "1AHQTIXA0I0Z",
        "outputId": "aab79f81-3d54-4e2a-9903-c7ef5694ac8a"
      },
      "source": [
        "def myfn(self, a,b):\n",
        "  return min(a,b)\n",
        "\n",
        "class small:\n",
        "  mf = myfn\n",
        "\n",
        "  def xyz(self):\n",
        "    return \"welcome\"\n",
        "  x = xyz\n",
        "\n",
        "sm = small()\n",
        "print(sm.mf(4,6))\n",
        "print(sm.x())\n",
        "print(sm.xyz())"
      ],
      "execution_count": 22,
      "outputs": [
        {
          "output_type": "stream",
          "name": "stdout",
          "text": [
            "4\n",
            "welcome\n",
            "welcome\n"
          ]
        }
      ]
    },
    {
      "cell_type": "markdown",
      "metadata": {
        "id": "7OJKnvuE1t2I"
      },
      "source": [
        "# **Inheritance**\n",
        "\n",
        "\n",
        "\n",
        "```\n",
        "class DerivedClassName(BaseClassName):\n",
        "    <statement-1>\n",
        "    .\n",
        "    .\n",
        "    .\n",
        "    <statement-N>\n",
        "```\n",
        "\n",
        "# **Multiple Inheritance**\n",
        "\n",
        "\n",
        "\n",
        "```\n",
        "class DerivedClassName(Base1, Base2, Base3):\n",
        "    <statement-1>\n",
        "    .\n",
        "    .\n",
        "    .\n",
        "    <statement-N>\n",
        "```\n",
        "\n",
        "\n",
        "\n",
        "\n"
      ]
    },
    {
      "cell_type": "code",
      "metadata": {
        "colab": {
          "base_uri": "https://localhost:8080/"
        },
        "id": "60-jwdVz1pqp",
        "outputId": "96280402-8289-4e80-e55d-a381347f9a88"
      },
      "source": [
        "class Parent:\n",
        "    def __init__(self):\n",
        "        self.parent_attribute = 'I am a parent'\n",
        "\n",
        "    def parent_method(self):\n",
        "        print('Back in my day...')\n",
        "\n",
        "\n",
        "# Create a child class that inherits from Parent\n",
        "class Child(Parent):\n",
        "    def __init__(self):\n",
        "        Parent.__init__(self)\n",
        "        self.child_attribute = 'I am a child'\n",
        "\n",
        "\n",
        "# Create instance of child\n",
        "child = Child()\n",
        "\n",
        "# Show attributes and methods of child class\n",
        "print(child.child_attribute)\n",
        "print(child.parent_attribute)\n",
        "child.parent_method()\n"
      ],
      "execution_count": 20,
      "outputs": [
        {
          "output_type": "stream",
          "name": "stdout",
          "text": [
            "I am a child\n",
            "I am a parent\n",
            "Back in my day...\n"
          ]
        }
      ]
    },
    {
      "cell_type": "code",
      "metadata": {
        "colab": {
          "base_uri": "https://localhost:8080/"
        },
        "id": "fgznV_613OTh",
        "outputId": "40716d2b-d741-43df-9e72-6f31c722d211"
      },
      "source": [
        "class Parent:\n",
        "    def __init__(self):\n",
        "        self.parent_attribute = 'I am a parent'\n",
        "\n",
        "    def parent_method(self):\n",
        "        print('Back in my day...')\n",
        "\n",
        "\n",
        "# Create a child class that inherits from Parent\n",
        "class Child(Parent):\n",
        "    def __init__(self):\n",
        "        super().__init__()\n",
        "        self.child_attribute = 'I am a child'\n",
        "\n",
        "\n",
        "# Create instance of child\n",
        "child = Child()\n",
        "\n",
        "# Show attributes and methods of child class\n",
        "print(child.child_attribute)\n",
        "print(child.parent_attribute)\n",
        "child.parent_method()\n"
      ],
      "execution_count": 25,
      "outputs": [
        {
          "output_type": "stream",
          "name": "stdout",
          "text": [
            "I am a child\n",
            "I am a parent\n",
            "Back in my day...\n"
          ]
        }
      ]
    },
    {
      "cell_type": "code",
      "metadata": {
        "colab": {
          "base_uri": "https://localhost:8080/"
        },
        "id": "-w0gpq4p3tIy",
        "outputId": "d9ee8700-b545-4403-bda9-699fb43f728a"
      },
      "source": [
        "class B:\n",
        "    def b(self):\n",
        "        print('b')\n",
        "\n",
        "\n",
        "class C:\n",
        "    def c(self):\n",
        "        print('c')\n",
        "\n",
        "\n",
        "class D(B, C):\n",
        "    def d(self):\n",
        "        print('d')\n",
        "\n",
        "d = D()\n",
        "d.b()\n",
        "d.c()\n",
        "d.d()\n"
      ],
      "execution_count": 27,
      "outputs": [
        {
          "output_type": "stream",
          "name": "stdout",
          "text": [
            "b\n",
            "c\n",
            "d\n"
          ]
        }
      ]
    }
  ]
}