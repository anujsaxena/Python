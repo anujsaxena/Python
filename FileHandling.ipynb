{
  "nbformat": 4,
  "nbformat_minor": 0,
  "metadata": {
    "colab": {
      "name": "FileHandling.ipynb",
      "provenance": [],
      "collapsed_sections": [],
      "authorship_tag": "ABX9TyM+GThbJKG67kqE/5POVoLl",
      "include_colab_link": true
    },
    "kernelspec": {
      "name": "python3",
      "display_name": "Python 3"
    },
    "language_info": {
      "name": "python"
    }
  },
  "cells": [
    {
      "cell_type": "markdown",
      "metadata": {
        "id": "view-in-github",
        "colab_type": "text"
      },
      "source": [
        "<a href=\"https://colab.research.google.com/github/anujsaxena/Python/blob/main/FileHandling.ipynb\" target=\"_parent\"><img src=\"https://colab.research.google.com/assets/colab-badge.svg\" alt=\"Open In Colab\"/></a>"
      ]
    },
    {
      "cell_type": "markdown",
      "metadata": {
        "id": "zSxAc9Y5yaFD"
      },
      "source": [
        "# **File Handling**\n",
        "\n",
        "When you’re working with Python, you don’t need to import a library in order to read and write files. It’s handled natively in the language, albeit in a unique manner.\n",
        "\n",
        "The first thing you’ll need to do is use Python’s built-in open function to get a file object. \n",
        "\n",
        "The open function opens a file. It’s simple. \n",
        "\n",
        "When you use the open function, it returns something called a file object. File objects contain methods and attributes that can be used to collect information about the file you opened. They can also be used to manipulate said file.\n",
        "\n",
        "For example, the mode attribute of a file object tells you which mode a file was opened in. And the name attribute tells you the name of the file that the file object has opened. \n",
        "\n",
        "You must understand that a file and file object are two wholly separate – yet related – things.\n",
        " \n",
        "**File Types**\n",
        "\n",
        "What you may know as a file is slightly different in Python. \n",
        "In Windows, for example, a file can be any item manipulated, edited or created by the user/OS. That means files can be images, text documents, executables, and much more. Most files are organized by keeping them in individual folders. \n",
        "In Python, a file is categorized as either text or binary, and the difference between the two file types is important. \n",
        "Text files are structured as a sequence of lines, where each line includes a sequence of characters. This is what you know as code or syntax. \n",
        "Each line is terminated with a special character, called the EOL or End of Line character. There are several types, but the most common is the comma {,} or newline character. It ends the current line and tells the interpreter a new one has begun. \n",
        "A backslash character can also be used, and it tells the interpreter that the next character – following the slash – should be treated as a new line. This character is useful when you don’t want to start a new line in the text itself but in the code. \n",
        "A binary file is any type of file that is not a text file. Because of their nature, binary files can only be processed by an application that know or understand the file’s structure. In other words, they must be applications that can read and interpret binary.\n",
        "\n",
        "**Open ( ) Function**\n",
        "\n",
        "In order to open a file for writing or use in Python, you must rely on the built-in open () function. \n",
        "As explained above, open ( ) will return a file object, so it is most commonly used with two arguments.  \n",
        "An argument is nothing more than a value that has been provided to a function, which is relayed when you call it. So, for instance, if we declare the name of a file as “Test File,” that name would be considered an argument. \n",
        "The syntax to open a file object in Python is:\n",
        "\n",
        "*File_object = open(\"filename\",\"mode\")*\n",
        "\n",
        "**Mode**\n",
        "\n",
        "Including a mode argument is optional because a default value of ‘r’ will be assumed if it is omitted. The ‘r’ value stands for read mode, which is just one of many. \n",
        "The modes are: \n",
        "1.\t‘r’ – Read mode which is used when the file is only being read \n",
        "2. ‘w’ – Write mode which is used to edit and write new information to the file (any existing files with the same name will be erased when this mode is activated) \n",
        "3.\t‘a’ – Appending mode, which is used to add new data to the end of the file; that is new information is automatically appended to the end \n",
        "4.\t‘r+’ – Special read and write mode, which is used to handle both actions when working with a file \n",
        "\n"
      ]
    },
    {
      "cell_type": "code",
      "metadata": {
        "id": "j4-nIo3tzAbZ"
      },
      "source": [
        "#write to a text file\n",
        "\n",
        "f = open(\"test.txt\",\"w\")\n",
        "f.write(\"Hello\")\n",
        "f.write(\"Welcome to Python class\")\n",
        "f.write(\"Python is fun\")\n",
        "f.write(\"Python is easy\")\n",
        "f.close()"
      ],
      "execution_count": null,
      "outputs": []
    },
    {
      "cell_type": "code",
      "metadata": {
        "id": "0tQZjxdZ5lVW"
      },
      "source": [
        "f = open(\"test1.txt\",\"w\")\n",
        "f.write(\"Hello \\n\")\n",
        "f.write(\"Welcome to Python class \\n\")\n",
        "f.write(\"Python is fun \\n\")\n",
        "f.write(\"Python is easy\")\n",
        "f.close()"
      ],
      "execution_count": null,
      "outputs": []
    },
    {
      "cell_type": "code",
      "metadata": {
        "colab": {
          "base_uri": "https://localhost:8080/"
        },
        "id": "3JG2a7N556RS",
        "outputId": "d2d0a36a-526b-4fa4-8bf6-109ad3eb4b40"
      },
      "source": [
        "#read from a text file\n",
        "f = open(\"test1.txt\",\"r\")\n",
        "d = f.read()\n",
        "print(d)"
      ],
      "execution_count": null,
      "outputs": [
        {
          "output_type": "stream",
          "name": "stdout",
          "text": [
            "Hello \n",
            "Welcome to Python class \n",
            "Python is fun \n",
            "Python is easy\n"
          ]
        }
      ]
    },
    {
      "cell_type": "code",
      "metadata": {
        "colab": {
          "base_uri": "https://localhost:8080/"
        },
        "id": "dWqzy2cW6X_O",
        "outputId": "8265adaf-2505-4398-f0b2-e252b3d6863c"
      },
      "source": [
        "f = open(\"test1.txt\",\"r\")\n",
        "d = f.read(5)\n",
        "print(d)"
      ],
      "execution_count": null,
      "outputs": [
        {
          "output_type": "stream",
          "name": "stdout",
          "text": [
            "Hello\n"
          ]
        }
      ]
    },
    {
      "cell_type": "code",
      "metadata": {
        "colab": {
          "base_uri": "https://localhost:8080/"
        },
        "id": "xNaq-2Yz6nbr",
        "outputId": "5dacd9de-f1ec-445b-ee4f-5e76948f0b88"
      },
      "source": [
        "f = open(\"test1.txt\",\"r\")\n",
        "d = f.readline()\n",
        "print(d)"
      ],
      "execution_count": null,
      "outputs": [
        {
          "output_type": "stream",
          "name": "stdout",
          "text": [
            "Hello \n",
            "\n"
          ]
        }
      ]
    },
    {
      "cell_type": "code",
      "metadata": {
        "colab": {
          "base_uri": "https://localhost:8080/"
        },
        "id": "P69HTKs06w-S",
        "outputId": "e951f102-074d-43a2-8ffa-5548be74c9d8"
      },
      "source": [
        "f1 = open(\"test.txt\",\"r\")\n",
        "d1 = f1.readlines()\n",
        "print(d1)"
      ],
      "execution_count": null,
      "outputs": [
        {
          "output_type": "stream",
          "name": "stdout",
          "text": [
            "['HelloWelcome to Python classPython is funPython is easy']\n"
          ]
        }
      ]
    },
    {
      "cell_type": "code",
      "metadata": {
        "colab": {
          "base_uri": "https://localhost:8080/"
        },
        "id": "c4L5SOG67Kox",
        "outputId": "8e40acc8-377c-4e9a-d0c8-4a3ec6fc0e23"
      },
      "source": [
        "f1 = open(\"test1.txt\",\"r\")\n",
        "d1 = f1.readlines(1)\n",
        "print(d1)"
      ],
      "execution_count": null,
      "outputs": [
        {
          "output_type": "stream",
          "name": "stdout",
          "text": [
            "['Hello \\n']\n"
          ]
        }
      ]
    },
    {
      "cell_type": "code",
      "metadata": {
        "id": "qS7WYoAL7YM6"
      },
      "source": [
        "f = open(\"test2.txt\",\"a\")\n",
        "f.writelines([\"Hello \\n\", \"Welcome to Python class\\n\",\"Python is fun\\n\", \"Python is easy\\n\"])\n",
        "f.close()"
      ],
      "execution_count": null,
      "outputs": []
    },
    {
      "cell_type": "code",
      "metadata": {
        "colab": {
          "base_uri": "https://localhost:8080/"
        },
        "id": "ZEBIF9bq9DgT",
        "outputId": "282358dc-9fca-4fe1-afef-bf8e585a349c"
      },
      "source": [
        "f1 = open(\"test2.txt\",\"r\")\n",
        "d1 = f1.readlines()\n",
        "print(d1)"
      ],
      "execution_count": null,
      "outputs": [
        {
          "output_type": "stream",
          "name": "stdout",
          "text": [
            "['Hello \\n', 'Welcome to Python class\\n', 'Python is fun\\n', 'Python is easy\\n']\n"
          ]
        }
      ]
    },
    {
      "cell_type": "code",
      "metadata": {
        "colab": {
          "base_uri": "https://localhost:8080/"
        },
        "id": "77WweoW59Jns",
        "outputId": "3bf68952-bfac-4225-cbfe-f3a675f61207"
      },
      "source": [
        "f=open(\"test2.txt\",\"r\")\n",
        "for txt in f:\n",
        "\tprint(txt)\n"
      ],
      "execution_count": null,
      "outputs": [
        {
          "output_type": "stream",
          "name": "stdout",
          "text": [
            "Hello \n",
            "\n",
            "Welcome to Python class\n",
            "\n",
            "Python is fun\n",
            "\n",
            "Python is easy\n",
            "\n"
          ]
        }
      ]
    },
    {
      "cell_type": "code",
      "metadata": {
        "colab": {
          "base_uri": "https://localhost:8080/"
        },
        "id": "WwZe1b5I93Kq",
        "outputId": "9077575f-56fa-4ac6-f0be-a6d1fcc8d5ab"
      },
      "source": [
        "f=open(\"test2.txt\",\"r\")\n",
        "for txt in f:\n",
        "  wrd = txt.split()\n",
        "  print(wrd)"
      ],
      "execution_count": null,
      "outputs": [
        {
          "output_type": "stream",
          "name": "stdout",
          "text": [
            "['Hello']\n",
            "['Welcome', 'to', 'Python', 'class']\n",
            "['Python', 'is', 'fun']\n",
            "['Python', 'is', 'easy']\n"
          ]
        }
      ]
    },
    {
      "cell_type": "code",
      "metadata": {
        "id": "BZQ0Z1pn-U6I"
      },
      "source": [
        "with open(\"test3.txt\",'w') as f:\n",
        "  f.write(\"Welocme to my python online classes !!!\")\n",
        "  f.write(\"\\n institue de informatica !!!\")"
      ],
      "execution_count": null,
      "outputs": []
    },
    {
      "cell_type": "code",
      "metadata": {
        "colab": {
          "base_uri": "https://localhost:8080/"
        },
        "id": "zM-ll1rl-zaN",
        "outputId": "64e8f290-9138-4876-80da-c5f5fb18abfd"
      },
      "source": [
        "with open(\"test3.txt\",'r') as f:\n",
        "  d=f.readlines()\n",
        "  print(d)\n",
        "for txt in d:\n",
        "  wrd = txt.split()\n",
        "  print(wrd)"
      ],
      "execution_count": null,
      "outputs": [
        {
          "output_type": "stream",
          "name": "stdout",
          "text": [
            "['Welocme to my python online classes !!!\\n', ' institue de informatica !!!']\n",
            "['Welocme', 'to', 'my', 'python', 'online', 'classes', '!!!']\n",
            "['institue', 'de', 'informatica', '!!!']\n"
          ]
        }
      ]
    },
    {
      "cell_type": "markdown",
      "metadata": {
        "id": "twg6TIVB_3Yi"
      },
      "source": [
        "# **CSV files**\n",
        "\n",
        "**Module**\n",
        "\n",
        "CSV\n",
        "\n",
        "In CSV module documentation you can find following functions:\n",
        "1. csv.field_size_limit – return maximum field size\n",
        "2. csv.get_dialect – get the dialect which is associated with the name\n",
        "3.\tcsv.list_dialects – show all registered dialects\n",
        "4.\tcsv.reader – read data from a csv file\n",
        "4.\tcsv.register_dialect - associate dialect with name\n",
        "5.\tcsv.writer – write data to a csv file\n",
        "6.\tcsv.unregister_dialect - delete the dialect associated with the name the dialect registry\n",
        "7.\tcsv.QUOTE_ALL - Quote everything, regardless of type.\n",
        "8.\tcsv.QUOTE_MINIMAL - Quote fields with special characters\n",
        "9.\tcsv.QUOTE_NONNUMERIC - Quote all fields that aren't numbers value\n",
        "10.\tcsv.QUOTE_NONE – Don't quote anything in output\n",
        "\n",
        "\n"
      ]
    },
    {
      "cell_type": "code",
      "metadata": {
        "id": "71dYHvvx_uiG"
      },
      "source": [
        "# importing the csv module \n",
        "import csv \n",
        "  \n",
        "# field names \n",
        "fields = ['Name', 'Branch', 'Year', 'CGPA'] \n",
        "  \n",
        "# data rows of csv file \n",
        "rows = [ ['Nikhil', 'COE', '2021', '9.0'], \n",
        "         ['Sanchit', 'COE', '2020', '9.1'], \n",
        "         ['Aditya', 'IT', '2021', '9.3'], \n",
        "         ['Sagar', 'SE', '2021', '9.5'], \n",
        "         ['Prateek', 'MCE', '2020', '7.8'], \n",
        "         ['Sahil', 'EP', '2019', '9.1']] \n",
        "  \n",
        "# name of csv file \n",
        "filename = \"university_records.csv\"\n",
        "  \n",
        "# writing to csv file \n",
        "with open(filename, 'w') as csvfile: \n",
        "    # creating a csv writer object \n",
        "    csvwriter = csv.writer(csvfile)      \n",
        "    # writing the headers \n",
        "    csvwriter.writerow(fields) \n",
        "    # writing the data rows \n",
        "    csvwriter.writerows(rows)\n"
      ],
      "execution_count": 12,
      "outputs": []
    },
    {
      "cell_type": "code",
      "metadata": {
        "id": "rZZVj9vkBM0C"
      },
      "source": [
        "#from a dictionary\n",
        "\n",
        "import csv\n",
        "\n",
        "# my data rows as dictionary objects \n",
        "mydict =[{'branch': 'COE', 'cgpa': '9.0', 'name': 'Nikhil', 'year': '2020'}, \n",
        "         {'branch': 'COE', 'cgpa': '9.1', 'name': 'Sanchit', 'year': '2021'}, \n",
        "         {'branch': 'IT', 'cgpa': '9.3', 'name': 'Aditya', 'year': '2020'}, \n",
        "         {'branch': 'SE', 'cgpa': '9.5', 'name': 'Sagar', 'year': '2021'}, \n",
        "         {'branch': 'MCE', 'cgpa': '7.8', 'name': 'Prateek', 'year': '2021'}, \n",
        "         {'branch': 'EP', 'cgpa': '9.1', 'name': 'Sahil', 'year': '2019'}] \n",
        "  \n",
        "# field names \n",
        "fields = ['name', 'branch', 'year', 'cgpa'] \n",
        "  \n",
        "# name of csv file \n",
        "filename = \"university_dict.csv\"\n",
        "# writing to csv file \n",
        "with open(filename, 'w') as csvfile: \n",
        "    # creating a csv dict writer object \n",
        "    writer = csv.DictWriter(csvfile, fieldnames = fields)  \n",
        "    # writing headers (field names) \n",
        "    writer.writeheader() \n",
        "    # writing data rows \n",
        "    writer.writerows(mydict) \n",
        "\n"
      ],
      "execution_count": 3,
      "outputs": []
    },
    {
      "cell_type": "code",
      "metadata": {
        "colab": {
          "base_uri": "https://localhost:8080/"
        },
        "id": "_ewnEQ6GB68v",
        "outputId": "3c6ae172-66ad-402a-f9a8-9d0b80b4abe5"
      },
      "source": [
        "#Read CSV file\n",
        "\n",
        "import csv\n",
        "with open( \"university_records.csv\") as f:\n",
        "\tdata = csv.reader(f)\n",
        "\tfor row in data:\n",
        "\t\tprint(row)\n",
        "\n"
      ],
      "execution_count": 4,
      "outputs": [
        {
          "output_type": "stream",
          "name": "stdout",
          "text": [
            "['Name', 'Branch', 'Year', 'CGPA']\n",
            "['Nikhil', 'COE', '2021', '9.0']\n",
            "['Sanchit', 'COE', '2020', '9.1']\n",
            "['Aditya', 'IT', '2021', '9.3']\n",
            "['Sagar', 'SE', '2021', '9.5']\n",
            "['Prateek', 'MCE', '2020', '7.8']\n",
            "['Sahil', 'EP', '2019', '9.1']\n"
          ]
        }
      ]
    },
    {
      "cell_type": "code",
      "metadata": {
        "colab": {
          "base_uri": "https://localhost:8080/"
        },
        "id": "44CieARFCJcS",
        "outputId": "46611030-8d6e-4ebb-b4ef-3cd12e8e0326"
      },
      "source": [
        "import csv \n",
        "  \n",
        "# csv file name \n",
        "filename = \"university_records.csv\"\n",
        "  \n",
        "# initializing the headers and rows list \n",
        "fields = [] \n",
        "rows = [] \n",
        "  \n",
        "# reading csv file \n",
        "with open(filename, 'r') as csvfile: \n",
        "    # creating a csv reader object \n",
        "    csvreader = csv.reader(csvfile) \n",
        "      \n",
        "    # extracting field names through first row \n",
        "    #fields = csvreader.next() \n",
        "  \n",
        "    # extracting each data row one by one \n",
        "    for row in csvreader: \n",
        "        rows.append(row) \n",
        "  \n",
        "    # get total number of rows \n",
        "    print(\"Total no. of rows: %d\"%(csvreader.line_num)) \n",
        "  \n",
        "# printing the field names \n",
        "print('Header names are:' + ', '.join(field for field in fields)) \n",
        "  \n",
        "#  printing first 5 rows \n",
        "print('\\nFirst 5 rows are:\\n') \n",
        "for row in rows[1:5]: \n",
        "    # parsing each column of a row \n",
        "    for col in row: \n",
        "        print(\"%10s\"%col), \n",
        "    print('\\n') \n"
      ],
      "execution_count": 5,
      "outputs": [
        {
          "output_type": "stream",
          "name": "stdout",
          "text": [
            "Total no. of rows: 7\n",
            "Header names are:\n",
            "\n",
            "First 5 rows are:\n",
            "\n",
            "    Nikhil\n",
            "       COE\n",
            "      2021\n",
            "       9.0\n",
            "\n",
            "\n",
            "   Sanchit\n",
            "       COE\n",
            "      2020\n",
            "       9.1\n",
            "\n",
            "\n",
            "    Aditya\n",
            "        IT\n",
            "      2021\n",
            "       9.3\n",
            "\n",
            "\n",
            "     Sagar\n",
            "        SE\n",
            "      2021\n",
            "       9.5\n",
            "\n",
            "\n"
          ]
        }
      ]
    },
    {
      "cell_type": "code",
      "metadata": {
        "colab": {
          "base_uri": "https://localhost:8080/"
        },
        "id": "x8HGzeoVC_iX",
        "outputId": "33765d65-7ea2-4861-c743-76e09b930ed1"
      },
      "source": [
        "import csv\n",
        "reader = csv.DictReader(open(\"university_records.csv\"))\n",
        "\n",
        "for txt in reader:\n",
        "\tprint(txt)\n"
      ],
      "execution_count": 6,
      "outputs": [
        {
          "output_type": "stream",
          "name": "stdout",
          "text": [
            "OrderedDict([('Name', 'Nikhil'), ('Branch', 'COE'), ('Year', '2021'), ('CGPA', '9.0')])\n",
            "OrderedDict([('Name', 'Sanchit'), ('Branch', 'COE'), ('Year', '2020'), ('CGPA', '9.1')])\n",
            "OrderedDict([('Name', 'Aditya'), ('Branch', 'IT'), ('Year', '2021'), ('CGPA', '9.3')])\n",
            "OrderedDict([('Name', 'Sagar'), ('Branch', 'SE'), ('Year', '2021'), ('CGPA', '9.5')])\n",
            "OrderedDict([('Name', 'Prateek'), ('Branch', 'MCE'), ('Year', '2020'), ('CGPA', '7.8')])\n",
            "OrderedDict([('Name', 'Sahil'), ('Branch', 'EP'), ('Year', '2019'), ('CGPA', '9.1')])\n"
          ]
        }
      ]
    },
    {
      "cell_type": "markdown",
      "metadata": {
        "id": "QsC6OHBJDSiC"
      },
      "source": [
        "# **Pandas for CSV files**"
      ]
    },
    {
      "cell_type": "code",
      "metadata": {
        "colab": {
          "base_uri": "https://localhost:8080/"
        },
        "id": "2ZWEkB4vDWfd",
        "outputId": "c527d102-72b4-43f7-e59e-b8314c4b13d4"
      },
      "source": [
        "import pandas as pd\n",
        "data=pd.read_csv(\"university_records.csv\", header=0)\n",
        "print(data)\n",
        "print(\"---First row taken as header--------\")\n",
        "data=pd.read_csv(\"university_records.csv\", header=1)\n",
        "print(data)\n",
        "#get the shape of the matrix(data)\n",
        "print(data.shape)\n",
        "print(data.columns)\n",
        "print(data.dtypes)\n",
        "\n"
      ],
      "execution_count": 7,
      "outputs": [
        {
          "output_type": "stream",
          "name": "stdout",
          "text": [
            "      Name Branch  Year  CGPA\n",
            "0   Nikhil    COE  2021   9.0\n",
            "1  Sanchit    COE  2020   9.1\n",
            "2   Aditya     IT  2021   9.3\n",
            "3    Sagar     SE  2021   9.5\n",
            "4  Prateek    MCE  2020   7.8\n",
            "5    Sahil     EP  2019   9.1\n",
            "---First row taken as header--------\n",
            "    Nikhil  COE  2021  9.0\n",
            "0  Sanchit  COE  2020  9.1\n",
            "1   Aditya   IT  2021  9.3\n",
            "2    Sagar   SE  2021  9.5\n",
            "3  Prateek  MCE  2020  7.8\n",
            "4    Sahil   EP  2019  9.1\n",
            "(5, 4)\n",
            "Index(['Nikhil', 'COE', '2021', '9.0'], dtype='object')\n",
            "Nikhil     object\n",
            "COE        object\n",
            "2021        int64\n",
            "9.0       float64\n",
            "dtype: object\n"
          ]
        }
      ]
    },
    {
      "cell_type": "markdown",
      "metadata": {
        "id": "zD5agaHvVRf3"
      },
      "source": [
        "# **Add own headers**"
      ]
    },
    {
      "cell_type": "code",
      "metadata": {
        "colab": {
          "base_uri": "https://localhost:8080/"
        },
        "id": "PoZrE1AoTLsE",
        "outputId": "01db9aa6-d2e8-40c6-8378-42292cbecbf8"
      },
      "source": [
        "import pandas as pd \n",
        "data=pd.read_csv(\"university_records.csv\",skiprows=1, names=['SName', 'Course', 'Duration', 'Score']) \n",
        "print(data) "
      ],
      "execution_count": 8,
      "outputs": [
        {
          "output_type": "stream",
          "name": "stdout",
          "text": [
            "     SName Course  Duration  Score\n",
            "0   Nikhil    COE      2021    9.0\n",
            "1  Sanchit    COE      2020    9.1\n",
            "2   Aditya     IT      2021    9.3\n",
            "3    Sagar     SE      2021    9.5\n",
            "4  Prateek    MCE      2020    7.8\n",
            "5    Sahil     EP      2019    9.1\n"
          ]
        }
      ]
    },
    {
      "cell_type": "code",
      "metadata": {
        "colab": {
          "base_uri": "https://localhost:8080/"
        },
        "id": "s1_X549OXTNz",
        "outputId": "0598141f-f9d0-41c9-e1cd-2df268a22d4e"
      },
      "source": [
        "data=pd.read_csv(\"university_records.csv\", names=['SName', 'Course', 'Duration', 'Score']) \n",
        "print(data) "
      ],
      "execution_count": 13,
      "outputs": [
        {
          "output_type": "stream",
          "name": "stdout",
          "text": [
            "     SName  Course Duration Score\n",
            "0     Name  Branch     Year  CGPA\n",
            "1   Nikhil     COE     2021   9.0\n",
            "2  Sanchit     COE     2020   9.1\n",
            "3   Aditya      IT     2021   9.3\n",
            "4    Sagar      SE     2021   9.5\n",
            "5  Prateek     MCE     2020   7.8\n",
            "6    Sahil      EP     2019   9.1\n"
          ]
        }
      ]
    },
    {
      "cell_type": "markdown",
      "metadata": {
        "id": "2TIKdzkpXmhR"
      },
      "source": [
        "# **Skip rows and retain headers**"
      ]
    },
    {
      "cell_type": "code",
      "metadata": {
        "colab": {
          "base_uri": "https://localhost:8080/"
        },
        "id": "tyCv6UvSXhwS",
        "outputId": "06d1beef-bff6-4c7e-aaad-d66831d21ff4"
      },
      "source": [
        "data=pd.read_csv(\"university_records.csv\",skiprows=[1,2]) \n",
        "print(data) "
      ],
      "execution_count": 14,
      "outputs": [
        {
          "output_type": "stream",
          "name": "stdout",
          "text": [
            "      Name Branch  Year  CGPA\n",
            "0   Aditya     IT  2021   9.3\n",
            "1    Sagar     SE  2021   9.5\n",
            "2  Prateek    MCE  2020   7.8\n",
            "3    Sahil     EP  2019   9.1\n"
          ]
        }
      ]
    },
    {
      "cell_type": "code",
      "metadata": {
        "colab": {
          "base_uri": "https://localhost:8080/"
        },
        "id": "pgEMWiX9XxiH",
        "outputId": "ae064019-0d7a-453c-a096-57e3d8d11346"
      },
      "source": [
        "data=pd.read_csv(\"university_records.csv\",header=None) \n",
        "print(data) "
      ],
      "execution_count": 15,
      "outputs": [
        {
          "output_type": "stream",
          "name": "stdout",
          "text": [
            "         0       1     2     3\n",
            "0     Name  Branch  Year  CGPA\n",
            "1   Nikhil     COE  2021   9.0\n",
            "2  Sanchit     COE  2020   9.1\n",
            "3   Aditya      IT  2021   9.3\n",
            "4    Sagar      SE  2021   9.5\n",
            "5  Prateek     MCE  2020   7.8\n",
            "6    Sahil      EP  2019   9.1\n"
          ]
        }
      ]
    },
    {
      "cell_type": "markdown",
      "metadata": {
        "id": "ppP40lk2YBEQ"
      },
      "source": [
        "# **Add Prefix to column name **"
      ]
    },
    {
      "cell_type": "code",
      "metadata": {
        "colab": {
          "base_uri": "https://localhost:8080/"
        },
        "id": "2UPIfxueX9Qn",
        "outputId": "217eade5-26be-4424-a278-713a181e58d4"
      },
      "source": [
        "data=pd.read_csv(\"university_records.csv\",header=None, prefix=\"var\") \n",
        "print(data) "
      ],
      "execution_count": 16,
      "outputs": [
        {
          "output_type": "stream",
          "name": "stdout",
          "text": [
            "      var0    var1  var2  var3\n",
            "0     Name  Branch  Year  CGPA\n",
            "1   Nikhil     COE  2021   9.0\n",
            "2  Sanchit     COE  2020   9.1\n",
            "3   Aditya      IT  2021   9.3\n",
            "4    Sagar      SE  2021   9.5\n",
            "5  Prateek     MCE  2020   7.8\n",
            "6    Sahil      EP  2019   9.1\n"
          ]
        }
      ]
    },
    {
      "cell_type": "code",
      "metadata": {
        "id": "s9G05UoHZRzj"
      },
      "source": [
        "# importing the csv module \n",
        "import csv \n",
        "  \n",
        "# field names \n",
        "fields = ['Name', 'Branch', 'Year', 'CGPA'] \n",
        "  \n",
        "# data rows of csv file \n",
        "rows = [ ['Nikhil', 'COE', '2021', '9.0'], \n",
        "         ['Sanchit', 'COE', '2020', '9.1'], \n",
        "         ['Aditya', 'IT', '2021', ' '], \n",
        "         ['Sagar', 'SE', '2021', '9.5'], \n",
        "         ['Prateek', 'MCE', ' ', '7.8'], \n",
        "         ['Sahil', 'EP', '2019', '9.1']] \n",
        "  \n",
        "# name of csv file \n",
        "filename = \"university_records2.csv\"\n",
        "  \n",
        "# writing to csv file \n",
        "with open(filename, 'w') as csvfile: \n",
        "    # creating a csv writer object \n",
        "    csvwriter = csv.writer(csvfile)      \n",
        "    # writing the headers \n",
        "    csvwriter.writerow(fields) \n",
        "    # writing the data rows \n",
        "    csvwriter.writerows(rows)"
      ],
      "execution_count": 20,
      "outputs": []
    },
    {
      "cell_type": "code",
      "metadata": {
        "colab": {
          "base_uri": "https://localhost:8080/"
        },
        "id": "hz2u6VVgYbMQ",
        "outputId": "4d565d52-e791-49f7-f72d-5ccef629cb6e"
      },
      "source": [
        "data=pd.read_csv(\"university_records2.csv\",header=None, na_values=\".\") \n",
        "print(data)"
      ],
      "execution_count": 22,
      "outputs": [
        {
          "output_type": "stream",
          "name": "stdout",
          "text": [
            "         0       1     2     3\n",
            "0     Name  Branch  Year  CGPA\n",
            "1   Nikhil     COE  2021   9.0\n",
            "2  Sanchit     COE  2020   9.1\n",
            "3   Aditya      IT  2021      \n",
            "4    Sagar      SE  2021   9.5\n",
            "5  Prateek     MCE         7.8\n",
            "6    Sahil      EP  2019   9.1\n"
          ]
        }
      ]
    },
    {
      "cell_type": "markdown",
      "metadata": {
        "id": "tG7s77SoadoR"
      },
      "source": [
        "# **CSV file from a URL**"
      ]
    },
    {
      "cell_type": "code",
      "metadata": {
        "colab": {
          "base_uri": "https://localhost:8080/"
        },
        "id": "vZ29-08bZjpr",
        "outputId": "b4f75b39-2e95-4076-e78d-6fdd25be3453"
      },
      "source": [
        "medals = pd.read_csv(\"http://winterolympicsmedals.com/medals.csv\") \n",
        "print(medals) "
      ],
      "execution_count": 23,
      "outputs": [
        {
          "output_type": "stream",
          "name": "stdout",
          "text": [
            "      Year      City       Sport  ...            Event Event gender   Medal\n",
            "0     1924  Chamonix     Skating  ...       individual            M  Silver\n",
            "1     1924  Chamonix     Skating  ...       individual            W    Gold\n",
            "2     1924  Chamonix     Skating  ...            pairs            X    Gold\n",
            "3     1924  Chamonix   Bobsleigh  ...         four-man            M  Bronze\n",
            "4     1924  Chamonix  Ice Hockey  ...       ice hockey            M    Gold\n",
            "...    ...       ...         ...  ...              ...          ...     ...\n",
            "2306  2006     Turin      Skiing  ...        Half-pipe            M  Silver\n",
            "2307  2006     Turin      Skiing  ...        Half-pipe            W    Gold\n",
            "2308  2006     Turin      Skiing  ...        Half-pipe            W  Silver\n",
            "2309  2006     Turin      Skiing  ...  Snowboard Cross            M    Gold\n",
            "2310  2006     Turin      Skiing  ...  Snowboard Cross            W  Silver\n",
            "\n",
            "[2311 rows x 8 columns]\n"
          ]
        }
      ]
    },
    {
      "cell_type": "markdown",
      "metadata": {
        "id": "2UmoqtTGapOz"
      },
      "source": [
        "# **Skip Last few lines**"
      ]
    },
    {
      "cell_type": "code",
      "metadata": {
        "colab": {
          "base_uri": "https://localhost:8080/"
        },
        "id": "ZubfLZIoaljy",
        "outputId": "4ddb092f-afa7-458b-b37d-554a4c58f91f"
      },
      "source": [
        "medals = pd.read_csv(\"http://winterolympicsmedals.com/medals.csv\", skipfooter=5) \n",
        "print(medals) "
      ],
      "execution_count": 24,
      "outputs": [
        {
          "output_type": "stream",
          "name": "stdout",
          "text": [
            "      Year      City       Sport  ...                  Event Event gender   Medal\n",
            "0     1924  Chamonix     Skating  ...             individual            M  Silver\n",
            "1     1924  Chamonix     Skating  ...             individual            W    Gold\n",
            "2     1924  Chamonix     Skating  ...                  pairs            X    Gold\n",
            "3     1924  Chamonix   Bobsleigh  ...               four-man            M  Bronze\n",
            "4     1924  Chamonix  Ice Hockey  ...             ice hockey            M    Gold\n",
            "...    ...       ...         ...  ...                    ...          ...     ...\n",
            "2301  2006     Turin      Skiing  ...        Alpine combined            M    Gold\n",
            "2302  2006     Turin      Skiing  ...           giant slalom            W    Gold\n",
            "2303  2006     Turin      Skiing  ...                 moguls            M  Bronze\n",
            "2304  2006     Turin      Skiing  ...  Giant parallel slalom            W  Bronze\n",
            "2305  2006     Turin      Skiing  ...              Half-pipe            M    Gold\n",
            "\n",
            "[2306 rows x 8 columns]\n"
          ]
        },
        {
          "output_type": "stream",
          "name": "stderr",
          "text": [
            "/usr/local/lib/python3.7/dist-packages/ipykernel_launcher.py:1: ParserWarning: Falling back to the 'python' engine because the 'c' engine does not support skipfooter; you can avoid this warning by specifying engine='python'.\n",
            "  \"\"\"Entry point for launching an IPython kernel.\n"
          ]
        }
      ]
    },
    {
      "cell_type": "markdown",
      "metadata": {
        "id": "YSftyBVEa9Ws"
      },
      "source": [
        "# **Read few rows**"
      ]
    },
    {
      "cell_type": "code",
      "metadata": {
        "colab": {
          "base_uri": "https://localhost:8080/"
        },
        "id": "0JvHOUXca49O",
        "outputId": "a0ca540f-6af5-4887-ba67-60fc77ef168e"
      },
      "source": [
        "medals = pd.read_csv(\"http://winterolympicsmedals.com/medals.csv\", nrows=5) \n",
        "print(medals) "
      ],
      "execution_count": 25,
      "outputs": [
        {
          "output_type": "stream",
          "name": "stdout",
          "text": [
            "   Year      City       Sport  ...       Event Event gender   Medal\n",
            "0  1924  Chamonix     Skating  ...  individual            M  Silver\n",
            "1  1924  Chamonix     Skating  ...  individual            W    Gold\n",
            "2  1924  Chamonix     Skating  ...       pairs            X    Gold\n",
            "3  1924  Chamonix   Bobsleigh  ...    four-man            M  Bronze\n",
            "4  1924  Chamonix  Ice Hockey  ...  ice hockey            M    Gold\n",
            "\n",
            "[5 rows x 8 columns]\n"
          ]
        }
      ]
    },
    {
      "cell_type": "markdown",
      "metadata": {
        "id": "B1DXXokcbKvF"
      },
      "source": [
        "# **Interpret \",\" as thousand **"
      ]
    },
    {
      "cell_type": "code",
      "metadata": {
        "colab": {
          "base_uri": "https://localhost:8080/"
        },
        "id": "S8Tzgl_bbFNc",
        "outputId": "f3ddc29f-ed84-4928-a5f6-cec12f3a9246"
      },
      "source": [
        "medals = pd.read_csv(\"http://winterolympicsmedals.com/medals.csv\", nrows=5, thousands=\",\") \n",
        "print(medals) \n",
        "\n",
        " "
      ],
      "execution_count": 26,
      "outputs": [
        {
          "output_type": "stream",
          "name": "stdout",
          "text": [
            "   Year      City       Sport  ...       Event Event gender   Medal\n",
            "0  1924  Chamonix     Skating  ...  individual            M  Silver\n",
            "1  1924  Chamonix     Skating  ...  individual            W    Gold\n",
            "2  1924  Chamonix     Skating  ...       pairs            X    Gold\n",
            "3  1924  Chamonix   Bobsleigh  ...    four-man            M  Bronze\n",
            "4  1924  Chamonix  Ice Hockey  ...  ice hockey            M    Gold\n",
            "\n",
            "[5 rows x 8 columns]\n"
          ]
        }
      ]
    },
    {
      "cell_type": "markdown",
      "metadata": {
        "id": "5CLsShEsbgAM"
      },
      "source": [
        "# **Read specific Columns**"
      ]
    },
    {
      "cell_type": "code",
      "metadata": {
        "colab": {
          "base_uri": "https://localhost:8080/"
        },
        "id": "8Z3p89SfbbdT",
        "outputId": "e24220a3-c998-4340-aedb-7e48f3ffe67a"
      },
      "source": [
        "medals = pd.read_csv(\"http://winterolympicsmedals.com/medals.csv\", usecols=[1,5,7]) \n",
        "print(medals) "
      ],
      "execution_count": 27,
      "outputs": [
        {
          "output_type": "stream",
          "name": "stdout",
          "text": [
            "          City            Event   Medal\n",
            "0     Chamonix       individual  Silver\n",
            "1     Chamonix       individual    Gold\n",
            "2     Chamonix            pairs    Gold\n",
            "3     Chamonix         four-man  Bronze\n",
            "4     Chamonix       ice hockey    Gold\n",
            "...        ...              ...     ...\n",
            "2306     Turin        Half-pipe  Silver\n",
            "2307     Turin        Half-pipe    Gold\n",
            "2308     Turin        Half-pipe  Silver\n",
            "2309     Turin  Snowboard Cross    Gold\n",
            "2310     Turin  Snowboard Cross  Silver\n",
            "\n",
            "[2311 rows x 3 columns]\n"
          ]
        }
      ]
    },
    {
      "cell_type": "markdown",
      "metadata": {
        "id": "riTB8Z7Qbzkf"
      },
      "source": [
        "# **Time taken to read the file**"
      ]
    },
    {
      "cell_type": "code",
      "metadata": {
        "colab": {
          "base_uri": "https://localhost:8080/"
        },
        "id": "52-2cWl_bum6",
        "outputId": "b31f3a8f-5307-4a0e-d72a-224bdb4e26dc"
      },
      "source": [
        "medals = pd.read_csv(\"http://winterolympicsmedals.com/medals.csv\", verbose=True) \n",
        "print(medals) "
      ],
      "execution_count": 28,
      "outputs": [
        {
          "output_type": "stream",
          "name": "stdout",
          "text": [
            "Tokenization took: 0.76 ms\n",
            "Type conversion took: 1.05 ms\n",
            "Parser memory cleanup took: 0.04 ms\n",
            "      Year      City       Sport  ...            Event Event gender   Medal\n",
            "0     1924  Chamonix     Skating  ...       individual            M  Silver\n",
            "1     1924  Chamonix     Skating  ...       individual            W    Gold\n",
            "2     1924  Chamonix     Skating  ...            pairs            X    Gold\n",
            "3     1924  Chamonix   Bobsleigh  ...         four-man            M  Bronze\n",
            "4     1924  Chamonix  Ice Hockey  ...       ice hockey            M    Gold\n",
            "...    ...       ...         ...  ...              ...          ...     ...\n",
            "2306  2006     Turin      Skiing  ...        Half-pipe            M  Silver\n",
            "2307  2006     Turin      Skiing  ...        Half-pipe            W    Gold\n",
            "2308  2006     Turin      Skiing  ...        Half-pipe            W  Silver\n",
            "2309  2006     Turin      Skiing  ...  Snowboard Cross            M    Gold\n",
            "2310  2006     Turin      Skiing  ...  Snowboard Cross            W  Silver\n",
            "\n",
            "[2311 rows x 8 columns]\n"
          ]
        }
      ]
    },
    {
      "cell_type": "markdown",
      "metadata": {
        "id": "ylglJUnvcDBe"
      },
      "source": [
        "# **Read file with delimiters**"
      ]
    },
    {
      "cell_type": "code",
      "metadata": {
        "colab": {
          "base_uri": "https://localhost:8080/"
        },
        "id": "q4BUaoa_b-2u",
        "outputId": "b143b804-a52f-4b0e-e8f8-3d17dfd1ae91"
      },
      "source": [
        "medals = pd.read_csv(\"university_dict.csv\", sep=\":\") \n",
        "print(medals) "
      ],
      "execution_count": 29,
      "outputs": [
        {
          "output_type": "stream",
          "name": "stdout",
          "text": [
            "  name,branch,year,cgpa\n",
            "0   Nikhil,COE,2020,9.0\n",
            "1  Sanchit,COE,2021,9.1\n",
            "2    Aditya,IT,2020,9.3\n",
            "3     Sagar,SE,2021,9.5\n",
            "4  Prateek,MCE,2021,7.8\n",
            "5     Sahil,EP,2019,9.1\n"
          ]
        }
      ]
    },
    {
      "cell_type": "markdown",
      "metadata": {
        "id": "yHkiq6CccXyY"
      },
      "source": [
        "# **Change Column type while importing **"
      ]
    },
    {
      "cell_type": "code",
      "metadata": {
        "colab": {
          "base_uri": "https://localhost:8080/"
        },
        "id": "xET8MS0QcbKl",
        "outputId": "7cce7207-936d-42eb-c969-5c13b16fbeca"
      },
      "source": [
        "medals = pd.read_csv(\"university_dict.csv\", dtype = {\"year\" : \"float64\"}) \n",
        "print(medals) "
      ],
      "execution_count": 30,
      "outputs": [
        {
          "output_type": "stream",
          "name": "stdout",
          "text": [
            "      name branch    year  cgpa\n",
            "0   Nikhil    COE  2020.0   9.0\n",
            "1  Sanchit    COE  2021.0   9.1\n",
            "2   Aditya     IT  2020.0   9.3\n",
            "3    Sagar     SE  2021.0   9.5\n",
            "4  Prateek    MCE  2021.0   7.8\n",
            "5    Sahil     EP  2019.0   9.1\n"
          ]
        }
      ]
    },
    {
      "cell_type": "code",
      "metadata": {
        "colab": {
          "base_uri": "https://localhost:8080/"
        },
        "id": "R6Qel_jGcov7",
        "outputId": "68a7cba8-a133-48a7-8a1c-0229c5c103a3"
      },
      "source": [
        "!pip install PyPDF2"
      ],
      "execution_count": 33,
      "outputs": [
        {
          "output_type": "stream",
          "name": "stdout",
          "text": [
            "Collecting PyPDF2\n",
            "  Downloading PyPDF2-1.26.0.tar.gz (77 kB)\n",
            "\u001b[?25l\r\u001b[K     |████▎                           | 10 kB 25.5 MB/s eta 0:00:01\r\u001b[K     |████████▌                       | 20 kB 28.0 MB/s eta 0:00:01\r\u001b[K     |████████████▊                   | 30 kB 19.8 MB/s eta 0:00:01\r\u001b[K     |█████████████████               | 40 kB 15.5 MB/s eta 0:00:01\r\u001b[K     |█████████████████████▏          | 51 kB 5.5 MB/s eta 0:00:01\r\u001b[K     |█████████████████████████▍      | 61 kB 5.9 MB/s eta 0:00:01\r\u001b[K     |█████████████████████████████▋  | 71 kB 5.8 MB/s eta 0:00:01\r\u001b[K     |████████████████████████████████| 77 kB 3.4 MB/s \n",
            "\u001b[?25hBuilding wheels for collected packages: PyPDF2\n",
            "  Building wheel for PyPDF2 (setup.py) ... \u001b[?25l\u001b[?25hdone\n",
            "  Created wheel for PyPDF2: filename=PyPDF2-1.26.0-py3-none-any.whl size=61101 sha256=be2a9ea5df472f4311eca522ef3e048b66ea7ca7923ec10dba7a9e05ed133731\n",
            "  Stored in directory: /root/.cache/pip/wheels/80/1a/24/648467ade3a77ed20f35cfd2badd32134e96dd25ca811e64b3\n",
            "Successfully built PyPDF2\n",
            "Installing collected packages: PyPDF2\n",
            "Successfully installed PyPDF2-1.26.0\n"
          ]
        }
      ]
    },
    {
      "cell_type": "code",
      "metadata": {
        "colab": {
          "base_uri": "https://localhost:8080/"
        },
        "id": "60hpAz8dc_9d",
        "outputId": "704755ab-dc3f-4b24-b87b-53a50e6f8f1b"
      },
      "source": [
        "import PyPDF2\n",
        "pdfName = 'Numpy.pdf' \n",
        "read_pdf = PyPDF2.PdfFileReader(pdfName) \n",
        "page = read_pdf.getPage(0) \n",
        "page_content = page.extractText() \n",
        "print(page_content) \n",
        "\n",
        " "
      ],
      "execution_count": 35,
      "outputs": [
        {
          "output_type": "stream",
          "name": "stdout",
          "text": [
            "Numpy\n",
            " \n",
            "Nump\n",
            "y\n",
            " \n",
            "is a Python package. It stands for 'Numerical Python'. It is a library consisting of \n",
            "multidimensional array objects and a collection of routines for processing of array. \n",
            " \n",
            " \n",
            "Numeric\n",
            ", the ancestor of NumPy, was developed by Jim Hugunin. Another package Numar\n",
            "ray \n",
            "was also developed, having some additional functionalities. In 2005, Travis Oliphant created \n",
            "NumPy package by incorporating the features of Num\n",
            " \n",
            "array into Numeric package. There are \n",
            "many contributors to this open source project.\n",
            " \n",
            " \n",
            "Operations using NumPy\n",
            " \n",
            " \n",
            "Using NumPy, a developer can perform the following operations: \n",
            " \n",
            " \n",
            "1.\n",
            " \n",
            "Mathematical and logical operations on arrays. \n",
            " \n",
            "2.\n",
            " \n",
            "Fourier transforms and routines for shape manipulation. \n",
            " \n",
            "3.\n",
            " \n",
            "Operations related to linear algebra. NumPy has in\n",
            "-\n",
            "built functions for linear algebr\n",
            "a and \n",
            "random number generation. \n",
            " \n",
            " \n",
            "How to use\n",
            " \n",
            "It creates an ndarray from any object exposing array interface, or from any method that returns \n",
            "an array.\n",
            " \n",
            " \n",
            "numpy.array(object, dtype=None, copy=True, order=None, subok=False, ndmin=0)\n",
            " \n",
            " \n",
            "The above \n",
            "constructor takes the following parameters:\n",
            " \n",
            " \n",
            "object \n",
            " \n",
            "Any object exposing the array interface \n",
            "method returns an array, or any (nested) \n",
            "sequence \n",
            " \n",
            "dtype \n",
            " \n",
            "Desired data type of array, optional \n",
            " \n",
            "copy \n",
            " \n",
            "Optional. By default (true), the object is \n",
            "copied \n",
            " \n",
            "order \n",
            " \n",
            "C (row major) or F (column major) or A \n",
            "(any) (default) \n",
            " \n",
            "subok \n",
            " \n",
            "By default, returned array forced to be a \n",
            "base class array. If true, sub\n",
            "-\n",
            "classes \n",
            "passed through \n",
            " \n",
            "ndimin \n",
            " \n",
            "Specifies minimum dimensions of \n",
            "resultant array \n",
            " \n",
            " \n",
            " \n",
            "Install the module\n",
            " \n",
            " \n",
            "!pip install numpy\n",
            " \n",
            " \n",
            "Example 1\n",
            " \n",
            "import numpy as np\n",
            " \n",
            "a= np.array([1,2,3,4,5,6,7])\n",
            " \n",
            "print(a)\n",
            " \n",
            "print(a[0])\n",
            " \n",
            "print(a[\n",
            "-\n",
            "1])\n",
            " \n",
            "\n"
          ]
        }
      ]
    },
    {
      "cell_type": "code",
      "metadata": {
        "colab": {
          "base_uri": "https://localhost:8080/"
        },
        "id": "iXGe7xTfd-D1",
        "outputId": "1cfa928a-a543-489a-e33e-199958fce746"
      },
      "source": [
        "for i in range(read_pdf.getNumPages()): \n",
        "    page = read_pdf.getPage(i) \n",
        "    print('Page No - ' + str(1+read_pdf.getPageNumber(page))) \n",
        "    page_content = page.extractText() \n",
        "    print(page_content) "
      ],
      "execution_count": 36,
      "outputs": [
        {
          "output_type": "stream",
          "name": "stdout",
          "text": [
            "Page No - 1\n",
            "Numpy\n",
            " \n",
            "Nump\n",
            "y\n",
            " \n",
            "is a Python package. It stands for 'Numerical Python'. It is a library consisting of \n",
            "multidimensional array objects and a collection of routines for processing of array. \n",
            " \n",
            " \n",
            "Numeric\n",
            ", the ancestor of NumPy, was developed by Jim Hugunin. Another package Numar\n",
            "ray \n",
            "was also developed, having some additional functionalities. In 2005, Travis Oliphant created \n",
            "NumPy package by incorporating the features of Num\n",
            " \n",
            "array into Numeric package. There are \n",
            "many contributors to this open source project.\n",
            " \n",
            " \n",
            "Operations using NumPy\n",
            " \n",
            " \n",
            "Using NumPy, a developer can perform the following operations: \n",
            " \n",
            " \n",
            "1.\n",
            " \n",
            "Mathematical and logical operations on arrays. \n",
            " \n",
            "2.\n",
            " \n",
            "Fourier transforms and routines for shape manipulation. \n",
            " \n",
            "3.\n",
            " \n",
            "Operations related to linear algebra. NumPy has in\n",
            "-\n",
            "built functions for linear algebr\n",
            "a and \n",
            "random number generation. \n",
            " \n",
            " \n",
            "How to use\n",
            " \n",
            "It creates an ndarray from any object exposing array interface, or from any method that returns \n",
            "an array.\n",
            " \n",
            " \n",
            "numpy.array(object, dtype=None, copy=True, order=None, subok=False, ndmin=0)\n",
            " \n",
            " \n",
            "The above \n",
            "constructor takes the following parameters:\n",
            " \n",
            " \n",
            "object \n",
            " \n",
            "Any object exposing the array interface \n",
            "method returns an array, or any (nested) \n",
            "sequence \n",
            " \n",
            "dtype \n",
            " \n",
            "Desired data type of array, optional \n",
            " \n",
            "copy \n",
            " \n",
            "Optional. By default (true), the object is \n",
            "copied \n",
            " \n",
            "order \n",
            " \n",
            "C (row major) or F (column major) or A \n",
            "(any) (default) \n",
            " \n",
            "subok \n",
            " \n",
            "By default, returned array forced to be a \n",
            "base class array. If true, sub\n",
            "-\n",
            "classes \n",
            "passed through \n",
            " \n",
            "ndimin \n",
            " \n",
            "Specifies minimum dimensions of \n",
            "resultant array \n",
            " \n",
            " \n",
            " \n",
            "Install the module\n",
            " \n",
            " \n",
            "!pip install numpy\n",
            " \n",
            " \n",
            "Example 1\n",
            " \n",
            "import numpy as np\n",
            " \n",
            "a= np.array([1,2,3,4,5,6,7])\n",
            " \n",
            "print(a)\n",
            " \n",
            "print(a[0])\n",
            " \n",
            "print(a[\n",
            "-\n",
            "1])\n",
            " \n",
            "\n",
            "Page No - 2\n",
            " \n",
            "#Two dimensional\n",
            " \n",
            " \n",
            "Example 2\n",
            " \n",
            "import numpy as np\n",
            " \n",
            "a = np.array([[1, 2], \n",
            "[3, 4]])\n",
            " \n",
            "print(a)\n",
            " \n",
            "print(a[1][0])\n",
            " \n",
            " \n",
            "#Define the dimension\n",
            " \n",
            "Example 3\n",
            " \n",
            "import numpy as np\n",
            " \n",
            "a=np.array([[1, 2], [3,4],[5,6]], ndmin=2)\n",
            " \n",
            "print(a)\n",
            " \n",
            " \n",
            " \n",
            "\n"
          ]
        }
      ]
    },
    {
      "cell_type": "markdown",
      "metadata": {
        "id": "W_KranMQewHj"
      },
      "source": [
        "# **Read a PDF file and display information **"
      ]
    },
    {
      "cell_type": "code",
      "metadata": {
        "colab": {
          "base_uri": "https://localhost:8080/"
        },
        "id": "U9TKVF3QeraC",
        "outputId": "f5bf6a13-684a-4387-8534-6f6f9b08c432"
      },
      "source": [
        "with open(pdfName, 'rb') as f: \n",
        "        pdf = PyPDF2.PdfFileReader(f) \n",
        "        info = pdf.getDocumentInfo() \n",
        "        number_of_pages = pdf.getNumPages() \n",
        "\n",
        "print(info) \n",
        "author = info.author \n",
        "creator = info.creator \n",
        "producer = info.producer \n",
        "subject = info.subject \n",
        "title = info.title \n",
        "print(author)\n",
        "print(creator)\n",
        "print(producer)\n",
        "print(subject)\n",
        "print(title)"
      ],
      "execution_count": 38,
      "outputs": [
        {
          "output_type": "stream",
          "name": "stdout",
          "text": [
            "{'/Author': 'anuj saxena', '/Creator': 'Microsoft® Word for Microsoft 365', '/CreationDate': \"D:20200713165335+05'30'\", '/ModDate': \"D:20200713165335+05'30'\", '/Producer': 'Microsoft® Word for Microsoft 365'}\n",
            "anuj saxena\n",
            "Microsoft® Word for Microsoft 365\n",
            "Microsoft® Word for Microsoft 365\n",
            "None\n",
            "None\n"
          ]
        }
      ]
    },
    {
      "cell_type": "code",
      "metadata": {
        "colab": {
          "base_uri": "https://localhost:8080/"
        },
        "id": "ey5KQmBjfitb",
        "outputId": "d1f2a7be-803e-4231-d9b4-43e4185f9031"
      },
      "source": [
        "import os \n",
        "from PyPDF2 import PdfFileReader, PdfFileWriter  \n",
        "\n",
        "pdfName = 'Numpy.pdf' \n",
        "fname = os.path.splitext(os.path.basename(pdfName))[0] \n",
        "pdf = PdfFileReader(pdfName) \n",
        "for page in range(pdf.getNumPages()): \n",
        "        pdf_writer = PdfFileWriter() \n",
        "        pdf_writer.addPage(pdf.getPage(page)) \n",
        "        output_filename = '{}_page_{}.pdf'.format(fname, page+1) \n",
        "\n",
        "        with open(output_filename, 'wb') as out: \n",
        "            pdf_writer.write(out) \n",
        "        print('Created: {}'.format(output_filename)) \n",
        "\n",
        " "
      ],
      "execution_count": 39,
      "outputs": [
        {
          "output_type": "stream",
          "name": "stdout",
          "text": [
            "Created: Numpy_page_1.pdf\n",
            "Created: Numpy_page_2.pdf\n"
          ]
        }
      ]
    },
    {
      "cell_type": "code",
      "metadata": {
        "id": "4z0enDxigSyX"
      },
      "source": [
        ""
      ],
      "execution_count": null,
      "outputs": []
    }
  ]
}