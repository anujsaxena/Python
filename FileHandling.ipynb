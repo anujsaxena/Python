{
  "nbformat": 4,
  "nbformat_minor": 0,
  "metadata": {
    "colab": {
      "name": "FileHandling.ipynb",
      "provenance": [],
      "collapsed_sections": [],
      "authorship_tag": "ABX9TyOJMI7pJyPlDN4/PhtR/Pxx",
      "include_colab_link": true
    },
    "kernelspec": {
      "name": "python3",
      "display_name": "Python 3"
    },
    "language_info": {
      "name": "python"
    }
  },
  "cells": [
    {
      "cell_type": "markdown",
      "metadata": {
        "id": "view-in-github",
        "colab_type": "text"
      },
      "source": [
        "<a href=\"https://colab.research.google.com/github/anujsaxena/Python/blob/main/FileHandling.ipynb\" target=\"_parent\"><img src=\"https://colab.research.google.com/assets/colab-badge.svg\" alt=\"Open In Colab\"/></a>"
      ]
    },
    {
      "cell_type": "markdown",
      "metadata": {
        "id": "zSxAc9Y5yaFD"
      },
      "source": [
        "# **File Handling**\n",
        "\n",
        "When you’re working with Python, you don’t need to import a library in order to read and write files. It’s handled natively in the language, albeit in a unique manner.\n",
        "\n",
        "The first thing you’ll need to do is use Python’s built-in open function to get a file object. \n",
        "\n",
        "The open function opens a file. It’s simple. \n",
        "\n",
        "When you use the open function, it returns something called a file object. File objects contain methods and attributes that can be used to collect information about the file you opened. They can also be used to manipulate said file.\n",
        "\n",
        "For example, the mode attribute of a file object tells you which mode a file was opened in. And the name attribute tells you the name of the file that the file object has opened. \n",
        "\n",
        "You must understand that a file and file object are two wholly separate – yet related – things.\n",
        " \n",
        "**File Types**\n",
        "\n",
        "What you may know as a file is slightly different in Python. \n",
        "In Windows, for example, a file can be any item manipulated, edited or created by the user/OS. That means files can be images, text documents, executables, and much more. Most files are organized by keeping them in individual folders. \n",
        "In Python, a file is categorized as either text or binary, and the difference between the two file types is important. \n",
        "Text files are structured as a sequence of lines, where each line includes a sequence of characters. This is what you know as code or syntax. \n",
        "Each line is terminated with a special character, called the EOL or End of Line character. There are several types, but the most common is the comma {,} or newline character. It ends the current line and tells the interpreter a new one has begun. \n",
        "A backslash character can also be used, and it tells the interpreter that the next character – following the slash – should be treated as a new line. This character is useful when you don’t want to start a new line in the text itself but in the code. \n",
        "A binary file is any type of file that is not a text file. Because of their nature, binary files can only be processed by an application that know or understand the file’s structure. In other words, they must be applications that can read and interpret binary.\n",
        "\n",
        "**Open ( ) Function**\n",
        "\n",
        "In order to open a file for writing or use in Python, you must rely on the built-in open () function. \n",
        "As explained above, open ( ) will return a file object, so it is most commonly used with two arguments.  \n",
        "An argument is nothing more than a value that has been provided to a function, which is relayed when you call it. So, for instance, if we declare the name of a file as “Test File,” that name would be considered an argument. \n",
        "The syntax to open a file object in Python is:\n",
        "\n",
        "*File_object = open(\"filename\",\"mode\")*\n",
        "\n",
        "**Mode**\n",
        "\n",
        "Including a mode argument is optional because a default value of ‘r’ will be assumed if it is omitted. The ‘r’ value stands for read mode, which is just one of many. \n",
        "The modes are: \n",
        "1.\t‘r’ – Read mode which is used when the file is only being read \n",
        "2. ‘w’ – Write mode which is used to edit and write new information to the file (any existing files with the same name will be erased when this mode is activated) \n",
        "3.\t‘a’ – Appending mode, which is used to add new data to the end of the file; that is new information is automatically appended to the end \n",
        "4.\t‘r+’ – Special read and write mode, which is used to handle both actions when working with a file \n",
        "\n"
      ]
    },
    {
      "cell_type": "code",
      "metadata": {
        "id": "j4-nIo3tzAbZ"
      },
      "source": [
        "#write to a text file\n",
        "\n",
        "f = open(\"test.txt\",\"w\")\n",
        "f.write(\"Hello\")\n",
        "f.write(\"Welcome to Python class\")\n",
        "f.write(\"Python is fun\")\n",
        "f.write(\"Python is easy\")\n",
        "f.close()"
      ],
      "execution_count": 1,
      "outputs": []
    },
    {
      "cell_type": "code",
      "metadata": {
        "id": "0tQZjxdZ5lVW"
      },
      "source": [
        "f = open(\"test1.txt\",\"w\")\n",
        "f.write(\"Hello \\n\")\n",
        "f.write(\"Welcome to Python class \\n\")\n",
        "f.write(\"Python is fun \\n\")\n",
        "f.write(\"Python is easy\")\n",
        "f.close()"
      ],
      "execution_count": 2,
      "outputs": []
    },
    {
      "cell_type": "code",
      "metadata": {
        "colab": {
          "base_uri": "https://localhost:8080/"
        },
        "id": "3JG2a7N556RS",
        "outputId": "d2d0a36a-526b-4fa4-8bf6-109ad3eb4b40"
      },
      "source": [
        "#read from a text file\n",
        "f = open(\"test1.txt\",\"r\")\n",
        "d = f.read()\n",
        "print(d)"
      ],
      "execution_count": 3,
      "outputs": [
        {
          "output_type": "stream",
          "name": "stdout",
          "text": [
            "Hello \n",
            "Welcome to Python class \n",
            "Python is fun \n",
            "Python is easy\n"
          ]
        }
      ]
    },
    {
      "cell_type": "code",
      "metadata": {
        "colab": {
          "base_uri": "https://localhost:8080/"
        },
        "id": "dWqzy2cW6X_O",
        "outputId": "8265adaf-2505-4398-f0b2-e252b3d6863c"
      },
      "source": [
        "f = open(\"test1.txt\",\"r\")\n",
        "d = f.read(5)\n",
        "print(d)"
      ],
      "execution_count": 5,
      "outputs": [
        {
          "output_type": "stream",
          "name": "stdout",
          "text": [
            "Hello\n"
          ]
        }
      ]
    },
    {
      "cell_type": "code",
      "metadata": {
        "colab": {
          "base_uri": "https://localhost:8080/"
        },
        "id": "xNaq-2Yz6nbr",
        "outputId": "5dacd9de-f1ec-445b-ee4f-5e76948f0b88"
      },
      "source": [
        "f = open(\"test1.txt\",\"r\")\n",
        "d = f.readline()\n",
        "print(d)"
      ],
      "execution_count": 6,
      "outputs": [
        {
          "output_type": "stream",
          "name": "stdout",
          "text": [
            "Hello \n",
            "\n"
          ]
        }
      ]
    },
    {
      "cell_type": "code",
      "metadata": {
        "colab": {
          "base_uri": "https://localhost:8080/"
        },
        "id": "P69HTKs06w-S",
        "outputId": "e951f102-074d-43a2-8ffa-5548be74c9d8"
      },
      "source": [
        "f1 = open(\"test.txt\",\"r\")\n",
        "d1 = f1.readlines()\n",
        "print(d1)"
      ],
      "execution_count": 14,
      "outputs": [
        {
          "output_type": "stream",
          "name": "stdout",
          "text": [
            "['HelloWelcome to Python classPython is funPython is easy']\n"
          ]
        }
      ]
    },
    {
      "cell_type": "code",
      "metadata": {
        "colab": {
          "base_uri": "https://localhost:8080/"
        },
        "id": "c4L5SOG67Kox",
        "outputId": "8e40acc8-377c-4e9a-d0c8-4a3ec6fc0e23"
      },
      "source": [
        "f1 = open(\"test1.txt\",\"r\")\n",
        "d1 = f1.readlines(1)\n",
        "print(d1)"
      ],
      "execution_count": 13,
      "outputs": [
        {
          "output_type": "stream",
          "name": "stdout",
          "text": [
            "['Hello \\n']\n"
          ]
        }
      ]
    },
    {
      "cell_type": "code",
      "metadata": {
        "id": "qS7WYoAL7YM6"
      },
      "source": [
        "f = open(\"test2.txt\",\"a\")\n",
        "f.writelines([\"Hello \\n\", \"Welcome to Python class\\n\",\"Python is fun\\n\", \"Python is easy\\n\"])\n",
        "f.close()"
      ],
      "execution_count": 20,
      "outputs": []
    },
    {
      "cell_type": "code",
      "metadata": {
        "colab": {
          "base_uri": "https://localhost:8080/"
        },
        "id": "ZEBIF9bq9DgT",
        "outputId": "282358dc-9fca-4fe1-afef-bf8e585a349c"
      },
      "source": [
        "f1 = open(\"test2.txt\",\"r\")\n",
        "d1 = f1.readlines()\n",
        "print(d1)"
      ],
      "execution_count": 21,
      "outputs": [
        {
          "output_type": "stream",
          "name": "stdout",
          "text": [
            "['Hello \\n', 'Welcome to Python class\\n', 'Python is fun\\n', 'Python is easy\\n']\n"
          ]
        }
      ]
    },
    {
      "cell_type": "code",
      "metadata": {
        "colab": {
          "base_uri": "https://localhost:8080/"
        },
        "id": "77WweoW59Jns",
        "outputId": "3bf68952-bfac-4225-cbfe-f3a675f61207"
      },
      "source": [
        "f=open(\"test2.txt\",\"r\")\n",
        "for txt in f:\n",
        "\tprint(txt)\n"
      ],
      "execution_count": 23,
      "outputs": [
        {
          "output_type": "stream",
          "name": "stdout",
          "text": [
            "Hello \n",
            "\n",
            "Welcome to Python class\n",
            "\n",
            "Python is fun\n",
            "\n",
            "Python is easy\n",
            "\n"
          ]
        }
      ]
    },
    {
      "cell_type": "code",
      "metadata": {
        "colab": {
          "base_uri": "https://localhost:8080/"
        },
        "id": "WwZe1b5I93Kq",
        "outputId": "9077575f-56fa-4ac6-f0be-a6d1fcc8d5ab"
      },
      "source": [
        "f=open(\"test2.txt\",\"r\")\n",
        "for txt in f:\n",
        "  wrd = txt.split()\n",
        "  print(wrd)"
      ],
      "execution_count": 25,
      "outputs": [
        {
          "output_type": "stream",
          "name": "stdout",
          "text": [
            "['Hello']\n",
            "['Welcome', 'to', 'Python', 'class']\n",
            "['Python', 'is', 'fun']\n",
            "['Python', 'is', 'easy']\n"
          ]
        }
      ]
    },
    {
      "cell_type": "code",
      "metadata": {
        "id": "BZQ0Z1pn-U6I"
      },
      "source": [
        "with open(\"test3.txt\",'w') as f:\n",
        "  f.write(\"Welocme to my python online classes !!!\")\n",
        "  f.write(\"\\n institue de informatica !!!\")"
      ],
      "execution_count": 29,
      "outputs": []
    },
    {
      "cell_type": "code",
      "metadata": {
        "colab": {
          "base_uri": "https://localhost:8080/"
        },
        "id": "zM-ll1rl-zaN",
        "outputId": "64e8f290-9138-4876-80da-c5f5fb18abfd"
      },
      "source": [
        "with open(\"test3.txt\",'r') as f:\n",
        "  d=f.readlines()\n",
        "  print(d)\n",
        "for txt in d:\n",
        "  wrd = txt.split()\n",
        "  print(wrd)"
      ],
      "execution_count": 32,
      "outputs": [
        {
          "output_type": "stream",
          "name": "stdout",
          "text": [
            "['Welocme to my python online classes !!!\\n', ' institue de informatica !!!']\n",
            "['Welocme', 'to', 'my', 'python', 'online', 'classes', '!!!']\n",
            "['institue', 'de', 'informatica', '!!!']\n"
          ]
        }
      ]
    },
    {
      "cell_type": "markdown",
      "metadata": {
        "id": "twg6TIVB_3Yi"
      },
      "source": [
        "# **CSV files**\n",
        "\n",
        "**Module**\n",
        "\n",
        "CSV\n",
        "\n",
        "In CSV module documentation you can find following functions:\n",
        "1. csv.field_size_limit – return maximum field size\n",
        "2. csv.get_dialect – get the dialect which is associated with the name\n",
        "3.\tcsv.list_dialects – show all registered dialects\n",
        "4.\tcsv.reader – read data from a csv file\n",
        "4.\tcsv.register_dialect - associate dialect with name\n",
        "5.\tcsv.writer – write data to a csv file\n",
        "6.\tcsv.unregister_dialect - delete the dialect associated with the name the dialect registry\n",
        "7.\tcsv.QUOTE_ALL - Quote everything, regardless of type.\n",
        "8.\tcsv.QUOTE_MINIMAL - Quote fields with special characters\n",
        "9.\tcsv.QUOTE_NONNUMERIC - Quote all fields that aren't numbers value\n",
        "10.\tcsv.QUOTE_NONE – Don't quote anything in output\n",
        "\n",
        "\n"
      ]
    },
    {
      "cell_type": "code",
      "metadata": {
        "id": "71dYHvvx_uiG"
      },
      "source": [
        "# importing the csv module \n",
        "import csv \n",
        "  \n",
        "# field names \n",
        "fields = ['Name', 'Branch', 'Year', 'CGPA'] \n",
        "  \n",
        "# data rows of csv file \n",
        "rows = [ ['Nikhil', 'COE', '2021', '9.0'], \n",
        "         ['Sanchit', 'COE', '2020', '9.1'], \n",
        "         ['Aditya', 'IT', '2021', '9.3'], \n",
        "         ['Sagar', 'SE', '2021', '9.5'], \n",
        "         ['Prateek', 'MCE', '2020', '7.8'], \n",
        "         ['Sahil', 'EP', '2019', '9.1']] \n",
        "  \n",
        "# name of csv file \n",
        "filename = \"university_records.csv\"\n",
        "  \n",
        "# writing to csv file \n",
        "with open(filename, 'w') as csvfile: \n",
        "    # creating a csv writer object \n",
        "    csvwriter = csv.writer(csvfile)      \n",
        "    # writing the headers \n",
        "    csvwriter.writerow(fields) \n",
        "    # writing the data rows \n",
        "    csvwriter.writerows(rows)\n"
      ],
      "execution_count": 33,
      "outputs": []
    },
    {
      "cell_type": "code",
      "metadata": {
        "id": "rZZVj9vkBM0C"
      },
      "source": [
        "#from a dictionary\n",
        "\n",
        "import csv\n",
        "\n",
        "# my data rows as dictionary objects \n",
        "mydict =[{'branch': 'COE', 'cgpa': '9.0', 'name': 'Nikhil', 'year': '2020'}, \n",
        "         {'branch': 'COE', 'cgpa': '9.1', 'name': 'Sanchit', 'year': '2021'}, \n",
        "         {'branch': 'IT', 'cgpa': '9.3', 'name': 'Aditya', 'year': '2020'}, \n",
        "         {'branch': 'SE', 'cgpa': '9.5', 'name': 'Sagar', 'year': '2021'}, \n",
        "         {'branch': 'MCE', 'cgpa': '7.8', 'name': 'Prateek', 'year': '2021'}, \n",
        "         {'branch': 'EP', 'cgpa': '9.1', 'name': 'Sahil', 'year': '2019'}] \n",
        "  \n",
        "# field names \n",
        "fields = ['name', 'branch', 'year', 'cgpa'] \n",
        "  \n",
        "# name of csv file \n",
        "filename = \"university_dict.csv\"\n",
        "# writing to csv file \n",
        "with open(filename, 'w') as csvfile: \n",
        "    # creating a csv dict writer object \n",
        "    writer = csv.DictWriter(csvfile, fieldnames = fields)  \n",
        "    # writing headers (field names) \n",
        "    writer.writeheader() \n",
        "    # writing data rows \n",
        "    writer.writerows(mydict) \n",
        "\n"
      ],
      "execution_count": 34,
      "outputs": []
    },
    {
      "cell_type": "code",
      "metadata": {
        "colab": {
          "base_uri": "https://localhost:8080/"
        },
        "id": "_ewnEQ6GB68v",
        "outputId": "97ee3397-ebd8-4b2b-88a9-737f0bd5d36f"
      },
      "source": [
        "#Read CSV file\n",
        "\n",
        "import csv\n",
        "with open( \"university_records.csv\") as f:\n",
        "\tdata = csv.reader(f)\n",
        "\tfor row in data:\n",
        "\t\tprint(row)\n",
        "\n"
      ],
      "execution_count": 35,
      "outputs": [
        {
          "output_type": "stream",
          "name": "stdout",
          "text": [
            "['Name', 'Branch', 'Year', 'CGPA']\n",
            "['Nikhil', 'COE', '2021', '9.0']\n",
            "['Sanchit', 'COE', '2020', '9.1']\n",
            "['Aditya', 'IT', '2021', '9.3']\n",
            "['Sagar', 'SE', '2021', '9.5']\n",
            "['Prateek', 'MCE', '2020', '7.8']\n",
            "['Sahil', 'EP', '2019', '9.1']\n"
          ]
        }
      ]
    },
    {
      "cell_type": "code",
      "metadata": {
        "colab": {
          "base_uri": "https://localhost:8080/"
        },
        "id": "44CieARFCJcS",
        "outputId": "ea2085d3-4ac2-4e06-a16c-9c1191043867"
      },
      "source": [
        "import csv \n",
        "  \n",
        "# csv file name \n",
        "filename = \"university_records.csv\"\n",
        "  \n",
        "# initializing the headers and rows list \n",
        "fields = [] \n",
        "rows = [] \n",
        "  \n",
        "# reading csv file \n",
        "with open(filename, 'r') as csvfile: \n",
        "    # creating a csv reader object \n",
        "    csvreader = csv.reader(csvfile) \n",
        "      \n",
        "    # extracting field names through first row \n",
        "    #fields = csvreader.next() \n",
        "  \n",
        "    # extracting each data row one by one \n",
        "    for row in csvreader: \n",
        "        rows.append(row) \n",
        "  \n",
        "    # get total number of rows \n",
        "    print(\"Total no. of rows: %d\"%(csvreader.line_num)) \n",
        "  \n",
        "# printing the field names \n",
        "print('Header names are:' + ', '.join(field for field in fields)) \n",
        "  \n",
        "#  printing first 5 rows \n",
        "print('\\nFirst 5 rows are:\\n') \n",
        "for row in rows[1:5]: \n",
        "    # parsing each column of a row \n",
        "    for col in row: \n",
        "        print(\"%10s\"%col), \n",
        "    print('\\n') \n"
      ],
      "execution_count": 38,
      "outputs": [
        {
          "output_type": "stream",
          "name": "stdout",
          "text": [
            "Total no. of rows: 7\n",
            "Header names are:\n",
            "\n",
            "First 5 rows are:\n",
            "\n",
            "    Nikhil\n",
            "       COE\n",
            "      2021\n",
            "       9.0\n",
            "\n",
            "\n",
            "   Sanchit\n",
            "       COE\n",
            "      2020\n",
            "       9.1\n",
            "\n",
            "\n",
            "    Aditya\n",
            "        IT\n",
            "      2021\n",
            "       9.3\n",
            "\n",
            "\n",
            "     Sagar\n",
            "        SE\n",
            "      2021\n",
            "       9.5\n",
            "\n",
            "\n"
          ]
        }
      ]
    },
    {
      "cell_type": "code",
      "metadata": {
        "colab": {
          "base_uri": "https://localhost:8080/"
        },
        "id": "x8HGzeoVC_iX",
        "outputId": "871900d5-90d1-4bce-9368-a66e9de28aca"
      },
      "source": [
        "import csv\n",
        "reader = csv.DictReader(open(\"university_records.csv\"))\n",
        "\n",
        "for txt in reader:\n",
        "\tprint(txt)\n"
      ],
      "execution_count": 40,
      "outputs": [
        {
          "output_type": "stream",
          "name": "stdout",
          "text": [
            "OrderedDict([('Name', 'Nikhil'), ('Branch', 'COE'), ('Year', '2021'), ('CGPA', '9.0')])\n",
            "OrderedDict([('Name', 'Sanchit'), ('Branch', 'COE'), ('Year', '2020'), ('CGPA', '9.1')])\n",
            "OrderedDict([('Name', 'Aditya'), ('Branch', 'IT'), ('Year', '2021'), ('CGPA', '9.3')])\n",
            "OrderedDict([('Name', 'Sagar'), ('Branch', 'SE'), ('Year', '2021'), ('CGPA', '9.5')])\n",
            "OrderedDict([('Name', 'Prateek'), ('Branch', 'MCE'), ('Year', '2020'), ('CGPA', '7.8')])\n",
            "OrderedDict([('Name', 'Sahil'), ('Branch', 'EP'), ('Year', '2019'), ('CGPA', '9.1')])\n"
          ]
        }
      ]
    },
    {
      "cell_type": "markdown",
      "metadata": {
        "id": "QsC6OHBJDSiC"
      },
      "source": [
        "# **Pandas for CSV files**"
      ]
    },
    {
      "cell_type": "code",
      "metadata": {
        "colab": {
          "base_uri": "https://localhost:8080/"
        },
        "id": "2ZWEkB4vDWfd",
        "outputId": "1da44406-de9f-4131-eaf6-257668ce5c2d"
      },
      "source": [
        "import pandas as pd\n",
        "data=pd.read_csv(\"university_records.csv\", header=0)\n",
        "print(data)\n",
        "print(\"---First row taken as header--------\")\n",
        "data=pd.read_csv(\"university_records.csv\", header=1)\n",
        "print(data)\n",
        "#get the shape of the matrix(data)\n",
        "print(data.shape)\n",
        "print(data.columns)\n",
        "print(data.dtypes)\n",
        "\n"
      ],
      "execution_count": 41,
      "outputs": [
        {
          "output_type": "stream",
          "name": "stdout",
          "text": [
            "      Name Branch  Year  CGPA\n",
            "0   Nikhil    COE  2021   9.0\n",
            "1  Sanchit    COE  2020   9.1\n",
            "2   Aditya     IT  2021   9.3\n",
            "3    Sagar     SE  2021   9.5\n",
            "4  Prateek    MCE  2020   7.8\n",
            "5    Sahil     EP  2019   9.1\n",
            "---First row taken as header--------\n",
            "    Nikhil  COE  2021  9.0\n",
            "0  Sanchit  COE  2020  9.1\n",
            "1   Aditya   IT  2021  9.3\n",
            "2    Sagar   SE  2021  9.5\n",
            "3  Prateek  MCE  2020  7.8\n",
            "4    Sahil   EP  2019  9.1\n",
            "(5, 4)\n",
            "Index(['Nikhil', 'COE', '2021', '9.0'], dtype='object')\n",
            "Nikhil     object\n",
            "COE        object\n",
            "2021        int64\n",
            "9.0       float64\n",
            "dtype: object\n"
          ]
        }
      ]
    }
  ]
}