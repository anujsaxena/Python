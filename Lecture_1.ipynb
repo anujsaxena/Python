{
  "nbformat": 4,
  "nbformat_minor": 0,
  "metadata": {
    "colab": {
      "name": "Lecture_1.ipynb",
      "provenance": [],
      "collapsed_sections": []
    },
    "kernelspec": {
      "name": "python3",
      "display_name": "Python 3"
    },
    "language_info": {
      "name": "python"
    }
  },
  "cells": [
    {
      "cell_type": "markdown",
      "metadata": {
        "id": "E2uPq8Ek1u7X"
      },
      "source": [
        "# **Basics of Python**\n",
        "Python is both a programming language (with syntax rules for writing what is considered valid Python code) and interpreter software that reads and executes source code written in the Python language. Python is not named after the snake, but after the strange British comedy troupe Monty Python. \n",
        "\n",
        "# **What is programming?**\n",
        "Programming is the process of systematically organising activities in order to obtain useful information. There are two important things in programming code and the data.\n",
        "\n",
        "#**Hello World**\n",
        "The famous output to start all the languages"
      ]
    },
    {
      "cell_type": "code",
      "metadata": {
        "id": "jJvGxIin1qa_"
      },
      "source": [
        "print(\"Hello World\")"
      ],
      "execution_count": null,
      "outputs": []
    },
    {
      "cell_type": "code",
      "metadata": {
        "id": "aN-Psd16A9yM"
      },
      "source": [
        "print(\"welcome\",\"to\",\"python\")"
      ],
      "execution_count": null,
      "outputs": []
    },
    {
      "cell_type": "code",
      "metadata": {
        "id": "vbwSDD3xBpTW"
      },
      "source": [
        "print(\"welcome\",\"to\",\"python\" ,sep=\"\\n\")"
      ],
      "execution_count": null,
      "outputs": []
    },
    {
      "cell_type": "code",
      "metadata": {
        "id": "CNS3nt1uhbvz"
      },
      "source": [
        "print(\"welcome to python\" ,sep=\"\\n\")"
      ],
      "execution_count": null,
      "outputs": []
    },
    {
      "cell_type": "code",
      "metadata": {
        "id": "4TEoo6TtBKhk"
      },
      "source": [
        "print(\"welcome\",3+4,\"to\",11*2)"
      ],
      "execution_count": null,
      "outputs": []
    },
    {
      "cell_type": "code",
      "metadata": {
        "id": "CrkXc8uxBkXj"
      },
      "source": [
        "print(\"welcome\")\n",
        "print(\"\")\n",
        "print(\"to Python\")"
      ],
      "execution_count": null,
      "outputs": []
    },
    {
      "cell_type": "code",
      "metadata": {
        "id": "gCPc-2niCOJz"
      },
      "source": [
        "print(\"Welocme \\n to IDI\")"
      ],
      "execution_count": null,
      "outputs": []
    },
    {
      "cell_type": "code",
      "metadata": {
        "id": "tcZskG6dC6-2"
      },
      "source": [
        "print(\"Welocme \\t to IDI\")"
      ],
      "execution_count": null,
      "outputs": []
    },
    {
      "cell_type": "code",
      "metadata": {
        "id": "vv5jYoehC-gl"
      },
      "source": [
        "\n",
        "print(\"Welcome\")\n",
        "print(\"To IDI\")"
      ],
      "execution_count": null,
      "outputs": []
    },
    {
      "cell_type": "markdown",
      "metadata": {
        "id": "7Kv3lZLXDBLk"
      },
      "source": [
        "#output on the same line"
      ]
    },
    {
      "cell_type": "code",
      "metadata": {
        "id": "AQaQ0f2kDhMj"
      },
      "source": [
        "print(\"Welcome\", end=\"\")\n",
        "print(\"To IDI\")"
      ],
      "execution_count": null,
      "outputs": []
    },
    {
      "cell_type": "code",
      "metadata": {
        "id": "dEqRjjsREA02"
      },
      "source": [
        "print(\"Welcome\", end=\" \")\n",
        "print(\"To IDI\")"
      ],
      "execution_count": null,
      "outputs": []
    },
    {
      "cell_type": "code",
      "metadata": {
        "id": "SYhiTQfgKgVL"
      },
      "source": [
        "s=5+6\n",
        "p=5*6\n",
        "d=5/6\n",
        "print(\"Sum =%d \\n Product=%d \\n Division = %d\",s,p,d)"
      ],
      "execution_count": null,
      "outputs": []
    },
    {
      "cell_type": "code",
      "metadata": {
        "id": "fJJnTv7sLG1v"
      },
      "source": [
        "s=5+6\n",
        "p=5*6\n",
        "d=5/6\n",
        "print(\"Sum =%d \\n Product=%d \\n Division = %d\" % (s,p,d))"
      ],
      "execution_count": null,
      "outputs": []
    },
    {
      "cell_type": "code",
      "metadata": {
        "id": "y1r-NLkFLT7a"
      },
      "source": [
        "s=5+6\n",
        "p=5*6\n",
        "d=5/6\n",
        "print(\"Sum =%d \\n Product=%d \\n Division = %f\" % (s,p,d))"
      ],
      "execution_count": null,
      "outputs": []
    },
    {
      "cell_type": "code",
      "metadata": {
        "id": "_YzCFYNxLZr5"
      },
      "source": [
        "s=5000+60\n",
        "p=5000*60\n",
        "d=5/6\n",
        "print(\"Sum =%d \\n Product=%d \\n Division = %f\" % (s,p,d))"
      ],
      "execution_count": null,
      "outputs": []
    },
    {
      "cell_type": "code",
      "metadata": {
        "id": "f35r7Z9tLib4"
      },
      "source": [
        "s=5000+60\n",
        "p=5000*60\n",
        "d=5/6\n",
        "print(\"Sum =%d \\n Product=%d \\n Division = %2.2f\" % (s,p,d))"
      ],
      "execution_count": null,
      "outputs": []
    },
    {
      "cell_type": "code",
      "metadata": {
        "id": "5e6fXcwBMAia"
      },
      "source": [
        "s=5000+60\n",
        "p=5000*60\n",
        "d=5/6\n",
        "print(\"Sum ={0:d} \\n Product={1:d} \\n Division = {2:2.2f}\".format(s,p,d))"
      ],
      "execution_count": null,
      "outputs": []
    },
    {
      "cell_type": "code",
      "metadata": {
        "id": "ZJbS35LWjrV8"
      },
      "source": [
        "s=5000+60\n",
        "p=5000*60\n",
        "d=5/6\n",
        "print(\"Sum ={0:d} \\n Product={2:f} \\n Division = {1:2.2f}\".format(s,p,d))"
      ],
      "execution_count": null,
      "outputs": []
    },
    {
      "cell_type": "markdown",
      "metadata": {
        "id": "efKlgexQModL"
      },
      "source": [
        "# **Input**"
      ]
    },
    {
      "cell_type": "code",
      "metadata": {
        "id": "iyCqTpD8MsPv"
      },
      "source": [
        "a=input(\"Enter your name \")\n",
        "print(a)"
      ],
      "execution_count": null,
      "outputs": []
    },
    {
      "cell_type": "code",
      "metadata": {
        "id": "q_aHzOlxM3eD"
      },
      "source": [
        "a=input(\"Enter a number\")\n",
        "b=input(\"Enter second number\")\n",
        "s=a+b\n",
        "print(\"{0:s}\".format(s))"
      ],
      "execution_count": null,
      "outputs": []
    },
    {
      "cell_type": "code",
      "metadata": {
        "id": "zm9c6UfwNIa3"
      },
      "source": [
        "a=input(\"Enter a number\")\n",
        "b=input(\"Enter second number\")\n",
        "s=int(a)+int(b)\n",
        "print(s)"
      ],
      "execution_count": null,
      "outputs": []
    },
    {
      "cell_type": "code",
      "metadata": {
        "id": "m0Sv-dCONfHV"
      },
      "source": [
        "2+2"
      ],
      "execution_count": null,
      "outputs": []
    },
    {
      "cell_type": "markdown",
      "metadata": {
        "id": "JA-Iq_63NtSE"
      },
      "source": [
        "# **Operator Precendence**\n",
        "\n",
        "1. Exponent 2 ** 3= 8\n",
        "2. Modulus/remainder 22 % 8 = 6\n",
        "3. Integer division/floored quotient 22 // 8 = 2\n",
        "4. Division 22 / 8 = 2.75\n",
        "5. Multiplication 3 * 5 15\n",
        "6. Subtraction 5 - 2 3\n",
        "7. Addition 2 + 2 4\n"
      ]
    },
    {
      "cell_type": "code",
      "metadata": {
        "id": "_yXwT8ljNhLX"
      },
      "source": [
        " (5 - 1) * ((7 + 1) / (3 - 1)) "
      ],
      "execution_count": null,
      "outputs": []
    },
    {
      "cell_type": "markdown",
      "metadata": {
        "id": "fhbYiqmgWAIG"
      },
      "source": [
        "# **Functions**\n",
        "\n",
        "**len()**\n",
        "\n",
        "Returns number of characters in a string"
      ]
    },
    {
      "cell_type": "code",
      "metadata": {
        "id": "J32mhvH6WSaz"
      },
      "source": [
        "txt=\"Hi! what are you doing?\"\n",
        "l = len(txt)\n",
        "print(l)"
      ],
      "execution_count": null,
      "outputs": []
    },
    {
      "cell_type": "markdown",
      "metadata": {
        "id": "8ioJNzwkXBPQ"
      },
      "source": [
        "# **Concatenating two strings**\n",
        "\n",
        "You can add string joins by simply using a + sign \n",
        "\n",
        "You can use .join also to join the strings"
      ]
    },
    {
      "cell_type": "code",
      "metadata": {
        "id": "qeBj0eMAW-Bi"
      },
      "source": [
        "S1=\"The parrots are lovely\"\n",
        "S2=\"We must have them\"\n",
        "S3=S1+S2\n",
        "print(S3)\n"
      ],
      "execution_count": null,
      "outputs": []
    },
    {
      "cell_type": "code",
      "metadata": {
        "id": "vhqvVX8ml7Ze"
      },
      "source": [
        "S1=\"The parrots are lovely\"\n",
        "S2=\"We must have them\"\n",
        "S3=S1+\" \"+S2\n",
        "print(S3)"
      ],
      "execution_count": null,
      "outputs": []
    },
    {
      "cell_type": "code",
      "metadata": {
        "id": "z38DAgtXYXsS"
      },
      "source": [
        "S3=S1.join(S2)\n",
        "print(S3)"
      ],
      "execution_count": null,
      "outputs": []
    },
    {
      "cell_type": "code",
      "metadata": {
        "id": "fWmhwU-cYYo_"
      },
      "source": [
        "S3=(S1,S2)\n",
        "S4 = \"\".join(S3)\n",
        "print(S4)"
      ],
      "execution_count": null,
      "outputs": []
    },
    {
      "cell_type": "code",
      "metadata": {
        "id": "JYZiVgtMmjrZ"
      },
      "source": [
        "S3=(S1,S2)\n",
        "S4 = \" \".join(S3)\n",
        "print(S4)"
      ],
      "execution_count": null,
      "outputs": []
    },
    {
      "cell_type": "code",
      "metadata": {
        "id": "E1x-PMMqmyAP"
      },
      "source": [
        "S3=(S1,S2)\n",
        "S4 = \" # \".join(S3)\n",
        "print(S4)"
      ],
      "execution_count": null,
      "outputs": []
    },
    {
      "cell_type": "code",
      "metadata": {
        "id": "LgWaR352nDTd"
      },
      "source": [
        "print(type(S3))"
      ],
      "execution_count": null,
      "outputs": []
    },
    {
      "cell_type": "markdown",
      "metadata": {
        "id": "RyagL84pniFD"
      },
      "source": [
        "# **Conditional Statements**\n",
        "\n",
        "If, else, elif\n",
        "\n",
        "# **Comparitive operators**\n",
        "Opeartor\n",
        "1. '=='\t(a == b)\tEqual to\n",
        "2. '!='\t(a != b)\tNot equal to\n",
        "3. '<'\t(a < b)\tLess than\n",
        "4. '<='\t(a <= b)\tLess than or equal to\n",
        "5. '>'\t(a > b)\tGreater than\n",
        "6. '>='\t(a >= b)\tGreater than or equal to\n",
        "\n",
        "# **Logical Expressions**\n",
        "Operator   Example\n",
        "not\t       not x\n",
        "\n",
        "or\t       x or y\n",
        "\n",
        "and\t       x and y\n",
        "\n",
        "\n",
        "\n"
      ]
    },
    {
      "cell_type": "code",
      "metadata": {
        "id": "oViGH5ransKi"
      },
      "source": [
        "a= int(input(\"enter a number\"))\n",
        "b=int(input(\"enter second number\"))\n",
        "if a>b:\n",
        "  print(a, \"is greater\")\n",
        "else:\n",
        "  print(b, \"is greater\")\n"
      ],
      "execution_count": null,
      "outputs": []
    },
    {
      "cell_type": "markdown",
      "metadata": {
        "id": "wCeSdiI_ohz6"
      },
      "source": [
        "# **Logical Operators**\n",
        "\n",
        "and\n",
        "or\n",
        "not\n",
        "\n",
        "# **Conditional Opeartors**\n",
        "\n",
        "> greater than\n",
        "< less than\n",
        ">= greater than equal to\n",
        "<= less than equal to\n",
        "== equal to\n"
      ]
    },
    {
      "cell_type": "code",
      "metadata": {
        "id": "6x8iWzNdoe_Q"
      },
      "source": [
        "a= int(input(\"enter a number\"))\n",
        "b=int(input(\"enter second number\"))\n",
        "c=int(input(\"Enter third number\"))\n",
        "if a>b and b>c:\n",
        "  print(a, \"is greater\")\n",
        "elif b>c:\n",
        "  print(b, \"is greater\")\n",
        "else:\n",
        "    print(c, \"is greater\")"
      ],
      "execution_count": null,
      "outputs": []
    },
    {
      "cell_type": "code",
      "metadata": {
        "id": "vwWsf_xxqJab"
      },
      "source": [
        "import keyword\n",
        "print(keyword.kwlist)"
      ],
      "execution_count": null,
      "outputs": []
    },
    {
      "cell_type": "markdown",
      "metadata": {
        "id": "e-JbOWcWqzv7"
      },
      "source": [
        "# **Data and their Types**\n",
        "\n",
        "![dataTypes.jpeg](data:image/jpeg;base64,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)\n",
        "\n",
        "**Number**\n",
        "\n",
        "Integers, floating point numbers and complex numbers falls under Python numbers category. They are defined as int, float and complex class in Python.\n",
        "\n",
        "\n",
        "You can use the type() function to know which class a variable or a value belongs to and the isinstance() function to check if an object belongs to a particular class.\n",
        "\n",
        "\n",
        "Integers can be of any length, it is only limited by the memory available.\n",
        "\n",
        "\n",
        "**List**\n",
        "List is an ordered sequence of items. It is one of the most used datatype in Python and is very flexible. All the items in a list do not need to be of the same type. Declaring a list is pretty straight forward. Items separated by commas are enclosed within brackets [ ].\n"
      ]
    },
    {
      "cell_type": "code",
      "metadata": {
        "id": "3Rvohy3brJli"
      },
      "source": [
        "n=[22,21,\"Hello\"]\n",
        "print(n)"
      ],
      "execution_count": null,
      "outputs": []
    },
    {
      "cell_type": "code",
      "metadata": {
        "id": "8ClMQKN2rQqO"
      },
      "source": [
        "print(type(n))"
      ],
      "execution_count": null,
      "outputs": []
    },
    {
      "cell_type": "code",
      "metadata": {
        "id": "ZvfOu60JrsVS"
      },
      "source": [
        "print(n[0])"
      ],
      "execution_count": null,
      "outputs": []
    },
    {
      "cell_type": "markdown",
      "metadata": {
        "id": "YVv9Kedwr0Nw"
      },
      "source": [
        "**Tuple**\n",
        "\n",
        "Tuple is an ordered sequence of items same as list. The only difference is that tuples are immutable. Tuples once created cannot be modified.\n",
        "Tuples are used to write-protect data and are usually faster than list as it cannot change dynamically. It is defined within parentheses () where items are separated by commas.\n"
      ]
    },
    {
      "cell_type": "code",
      "metadata": {
        "id": "4yRJeMf1r3HI",
        "colab": {
          "base_uri": "https://localhost:8080/"
        },
        "outputId": "a54a76e2-2ae2-4b9e-a0d8-69470a7f21ca"
      },
      "source": [
        "t=(1,'Hello!',3j)\n",
        "print(t)"
      ],
      "execution_count": null,
      "outputs": [
        {
          "output_type": "stream",
          "name": "stdout",
          "text": [
            "(1, 'Hello!', 3j)\n"
          ]
        }
      ]
    },
    {
      "cell_type": "code",
      "metadata": {
        "id": "PXRbk2OXsDoX",
        "colab": {
          "base_uri": "https://localhost:8080/"
        },
        "outputId": "74829b38-8a84-4dad-9dc9-3bb9e0db9c76"
      },
      "source": [
        "print(type(t))"
      ],
      "execution_count": null,
      "outputs": [
        {
          "output_type": "stream",
          "name": "stdout",
          "text": [
            "<class 'tuple'>\n"
          ]
        }
      ]
    },
    {
      "cell_type": "code",
      "metadata": {
        "id": "7OHgqYrOsM1h",
        "colab": {
          "base_uri": "https://localhost:8080/"
        },
        "outputId": "3b61b322-09a6-47b3-afa9-26d0c3d9e9ff"
      },
      "source": [
        "print(t[2])"
      ],
      "execution_count": null,
      "outputs": [
        {
          "output_type": "stream",
          "name": "stdout",
          "text": [
            "3j\n"
          ]
        }
      ]
    },
    {
      "cell_type": "code",
      "metadata": {
        "id": "uDc4rSHFsRRk",
        "colab": {
          "base_uri": "https://localhost:8080/"
        },
        "outputId": "2021c64d-0c28-4344-e26c-e234dc37bf1b"
      },
      "source": [
        "tt=t[2]\n",
        "print(type(tt))"
      ],
      "execution_count": null,
      "outputs": [
        {
          "output_type": "stream",
          "name": "stdout",
          "text": [
            "<class 'complex'>\n"
          ]
        }
      ]
    },
    {
      "cell_type": "code",
      "metadata": {
        "colab": {
          "base_uri": "https://localhost:8080/"
        },
        "id": "CzDh7LJJAz_w",
        "outputId": "0ee5b61a-4883-46a3-cad8-187fbdc03f6f"
      },
      "source": [
        "tt=t[0]\n",
        "print(type(tt))"
      ],
      "execution_count": null,
      "outputs": [
        {
          "output_type": "stream",
          "name": "stdout",
          "text": [
            "<class 'int'>\n"
          ]
        }
      ]
    },
    {
      "cell_type": "code",
      "metadata": {
        "colab": {
          "base_uri": "https://localhost:8080/"
        },
        "id": "YHZYFHJwBAEZ",
        "outputId": "b76db725-4c6a-40bd-afb4-f676cc9d26ec"
      },
      "source": [
        "tt=t[1]\n",
        "print(type(tt))"
      ],
      "execution_count": null,
      "outputs": [
        {
          "output_type": "stream",
          "name": "stdout",
          "text": [
            "<class 'str'>\n"
          ]
        }
      ]
    },
    {
      "cell_type": "code",
      "metadata": {
        "colab": {
          "base_uri": "https://localhost:8080/"
        },
        "id": "2Gp32RpTBR-N",
        "outputId": "85b42bc2-d769-44a3-dcff-507a3c40f582"
      },
      "source": [
        "n=2.678\n",
        "print(n)\n",
        "print(type(n))"
      ],
      "execution_count": null,
      "outputs": [
        {
          "output_type": "stream",
          "name": "stdout",
          "text": [
            "2.678\n",
            "<class 'float'>\n"
          ]
        }
      ]
    },
    {
      "cell_type": "code",
      "metadata": {
        "colab": {
          "base_uri": "https://localhost:8080/"
        },
        "id": "W8nTfCPjBZrG",
        "outputId": "d4a1d392-462e-4857-839f-3bf95121c3ee"
      },
      "source": [
        "n=int(n)\n",
        "print(n)\n",
        "print(type(n))"
      ],
      "execution_count": null,
      "outputs": [
        {
          "output_type": "stream",
          "name": "stdout",
          "text": [
            "2\n",
            "<class 'int'>\n"
          ]
        }
      ]
    },
    {
      "cell_type": "markdown",
      "metadata": {
        "id": "5nSWQIWtf8-J"
      },
      "source": [
        "# **Strings**\n",
        "\n",
        "String is sequence of Unicode characters. We can use single quotes or double quotes to represent strings. Multi-line strings can be denoted using triple quotes, ''' or \"\"\".\n",
        "\n",
        "# **Set**\n",
        "Set is an unordered collection of unique items. Set is defined by values separated by comma inside braces { }. Items in a set are not ordered.\n"
      ]
    },
    {
      "cell_type": "code",
      "metadata": {
        "colab": {
          "base_uri": "https://localhost:8080/"
        },
        "id": "f3F3pSp5gJ7d",
        "outputId": "2da4b30d-ef6f-4a1a-9b1d-6bb7c363d674"
      },
      "source": [
        "s=\"Hello\"\n",
        "print(s)\n",
        "print(type(s))\n",
        "n= {2,4,5,6,7,8,9}\n",
        "print(n)\n",
        "print(type(n))"
      ],
      "execution_count": null,
      "outputs": [
        {
          "output_type": "stream",
          "name": "stdout",
          "text": [
            "Hello\n",
            "<class 'str'>\n",
            "{2, 4, 5, 6, 7, 8, 9}\n",
            "<class 'set'>\n"
          ]
        }
      ]
    },
    {
      "cell_type": "markdown",
      "metadata": {
        "id": "SmovR2Pkg2Xp"
      },
      "source": [
        "Duplicates are automatically removed in a set."
      ]
    },
    {
      "cell_type": "code",
      "metadata": {
        "colab": {
          "base_uri": "https://localhost:8080/"
        },
        "id": "C7WCAtLCgumg",
        "outputId": "1ec0275b-886b-4b3f-913b-ecf66a33a1a4"
      },
      "source": [
        "n = {1,2,3,4,5,6,4,5,6,8}\n",
        "print(n)"
      ],
      "execution_count": null,
      "outputs": [
        {
          "output_type": "stream",
          "name": "stdout",
          "text": [
            "{1, 2, 3, 4, 5, 6, 8}\n"
          ]
        }
      ]
    },
    {
      "cell_type": "markdown",
      "metadata": {
        "id": "eUGBVx_ggkoU"
      },
      "source": [
        "# **Dictionary**\n",
        "\n",
        "Dictionary is an unordered collection of key-value pairs.It is generally used when we have a huge amount of data. Dictionaries are optimized for retrieving data. We must know the key to retrieve the value. In Python, dictionaries are defined within braces {} with each item being a pair in the form key:value. Key and value can be of any type.\n"
      ]
    },
    {
      "cell_type": "code",
      "metadata": {
        "colab": {
          "base_uri": "https://localhost:8080/"
        },
        "id": "Ddi5pQo_hJGk",
        "outputId": "c43fa38c-c0b3-408c-8e1b-71129ee9b51f"
      },
      "source": [
        "n = {1: 'value' ,'key':2}\n",
        "print(n)\n",
        "print(type(n))"
      ],
      "execution_count": null,
      "outputs": [
        {
          "output_type": "stream",
          "name": "stdout",
          "text": [
            "{1: 'value', 'key': 2}\n",
            "<class 'dict'>\n"
          ]
        }
      ]
    },
    {
      "cell_type": "markdown",
      "metadata": {
        "id": "GtgRAG5xhbpz"
      },
      "source": [
        "# **Mutable and Immutable Types **\n",
        "When you have a variable that cannot be changed after it has been created it is called immutable, while in the opposite case, that variable is called mutable. Let's explore what that means.\n",
        "\n",
        "\n",
        "I would be using id function of python to make you understand the concept more. Let us walk through some examples and observe.\n",
        "\n",
        "# **1. Immutable data type:**\n",
        " \n",
        "The variables which cannot be changed are termed as immutable data types. So, variable for which we can not change the values are immutable variables/data types/objects. \n"
      ]
    },
    {
      "cell_type": "code",
      "metadata": {
        "colab": {
          "base_uri": "https://localhost:8080/"
        },
        "id": "McKwRd0KhkNB",
        "outputId": "9ae05b31-73ac-42c8-aa72-c724b56d19d8"
      },
      "source": [
        "V1 =[2, 6, 3]\t#list \n",
        "V2=(5, 7, 8)\t#tuple\n",
        "print(id(V1))\t#displays memory address of V1\n",
        "print(id(V2))\t#displays memory address of V2\n"
      ],
      "execution_count": null,
      "outputs": [
        {
          "output_type": "stream",
          "name": "stdout",
          "text": [
            "140279711963568\n",
            "140279659151760\n"
          ]
        }
      ]
    },
    {
      "cell_type": "code",
      "metadata": {
        "colab": {
          "base_uri": "https://localhost:8080/"
        },
        "id": "1jK7OwJBiAkf",
        "outputId": "a955657c-f689-4289-b4fd-6c88a7eee56a"
      },
      "source": [
        "print(V1[0])"
      ],
      "execution_count": null,
      "outputs": [
        {
          "output_type": "stream",
          "name": "stdout",
          "text": [
            "2\n"
          ]
        }
      ]
    },
    {
      "cell_type": "code",
      "metadata": {
        "colab": {
          "base_uri": "https://localhost:8080/"
        },
        "id": "UevpxtQ2iGLV",
        "outputId": "eecd154a-13a3-481f-ab02-e803dc8449d3"
      },
      "source": [
        "V1[0]=9\n",
        "print(V1)"
      ],
      "execution_count": null,
      "outputs": [
        {
          "output_type": "stream",
          "name": "stdout",
          "text": [
            "[9, 6, 3]\n"
          ]
        }
      ]
    },
    {
      "cell_type": "code",
      "metadata": {
        "colab": {
          "base_uri": "https://localhost:8080/"
        },
        "id": "Z-7zZxKaiQC9",
        "outputId": "911735d3-ad03-45a0-874d-97c28a056367"
      },
      "source": [
        "print(id(V1))"
      ],
      "execution_count": null,
      "outputs": [
        {
          "output_type": "stream",
          "name": "stdout",
          "text": [
            "140279711963568\n"
          ]
        }
      ]
    },
    {
      "cell_type": "code",
      "metadata": {
        "colab": {
          "base_uri": "https://localhost:8080/"
        },
        "id": "MGGBBjbiideT",
        "outputId": "1c14f1f6-c633-49fd-fc6b-a36a65e16a70"
      },
      "source": [
        "V1 +=[2, 6, 3] \n",
        "V2 +=(12, 10, 9)\n",
        "print(V1)\n",
        "print(V2)\n",
        "print(id(V1))\t#displays memory address of V1\n",
        "print(id(V2))\t#displays memory address of V2"
      ],
      "execution_count": null,
      "outputs": [
        {
          "output_type": "stream",
          "name": "stdout",
          "text": [
            "[9, 6, 3, 2, 6, 3]\n",
            "(5, 7, 8, 12, 10, 9)\n",
            "140279711963568\n",
            "140279720483088\n"
          ]
        }
      ]
    },
    {
      "cell_type": "markdown",
      "metadata": {
        "id": "3HlYVUG6iiSV"
      },
      "source": [
        "What did you observe? In the above code a set of numbers are added both in V1 and V2 but address of V1 remains the same, V2 changes. Why? The memory management of list is more robust, more efficient than of a tuple. The memory address (identity) of immutable datatypes changes that means that a new copy is created. The address of list remains the same but of tuple(V2) changes. "
      ]
    },
    {
      "cell_type": "code",
      "metadata": {
        "colab": {
          "base_uri": "https://localhost:8080/"
        },
        "id": "ZiM6gvZrpk7n",
        "outputId": "214831fc-aadf-4729-bb0a-da61b8ccea67"
      },
      "source": [
        "V2=(10,12,14,15)\n",
        "print(V2)\n",
        "print(type(V2))\n",
        "print(id(V2))"
      ],
      "execution_count": null,
      "outputs": [
        {
          "output_type": "stream",
          "name": "stdout",
          "text": [
            "(10, 12, 14, 15)\n",
            "<class 'tuple'>\n",
            "140279658559248\n"
          ]
        }
      ]
    },
    {
      "cell_type": "code",
      "metadata": {
        "colab": {
          "base_uri": "https://localhost:8080/"
        },
        "id": "-KwDHww-p02D",
        "outputId": "0fe13d68-d416-4baa-8210-0fa2b90d9772"
      },
      "source": [
        "print(V2[0])"
      ],
      "execution_count": null,
      "outputs": [
        {
          "output_type": "stream",
          "name": "stdout",
          "text": [
            "10\n"
          ]
        }
      ]
    },
    {
      "cell_type": "code",
      "metadata": {
        "colab": {
          "base_uri": "https://localhost:8080/",
          "height": 166
        },
        "id": "rUrthTXMqOSt",
        "outputId": "c1feca04-3493-4b13-e2e8-e147c783fb7c"
      },
      "source": [
        "V2[0]=9"
      ],
      "execution_count": null,
      "outputs": [
        {
          "output_type": "error",
          "ename": "TypeError",
          "evalue": "ignored",
          "traceback": [
            "\u001b[0;31m---------------------------------------------------------------------------\u001b[0m",
            "\u001b[0;31mTypeError\u001b[0m                                 Traceback (most recent call last)",
            "\u001b[0;32m<ipython-input-18-626da244274b>\u001b[0m in \u001b[0;36m<module>\u001b[0;34m()\u001b[0m\n\u001b[0;32m----> 1\u001b[0;31m \u001b[0mV2\u001b[0m\u001b[0;34m[\u001b[0m\u001b[0;36m0\u001b[0m\u001b[0;34m]\u001b[0m\u001b[0;34m=\u001b[0m\u001b[0;36m9\u001b[0m\u001b[0;34m\u001b[0m\u001b[0;34m\u001b[0m\u001b[0m\n\u001b[0m",
            "\u001b[0;31mTypeError\u001b[0m: 'tuple' object does not support item assignment"
          ]
        }
      ]
    },
    {
      "cell_type": "code",
      "metadata": {
        "colab": {
          "base_uri": "https://localhost:8080/"
        },
        "id": "01htH8v7sihY",
        "outputId": "8a2e6c5b-93de-4774-e89c-9ff7c731c9f0"
      },
      "source": [
        "V=[2,3,4,5,6,9]\n",
        "if 4 in V:\n",
        "  print(\"found\")"
      ],
      "execution_count": null,
      "outputs": [
        {
          "output_type": "stream",
          "name": "stdout",
          "text": [
            "found\n"
          ]
        }
      ]
    },
    {
      "cell_type": "code",
      "metadata": {
        "colab": {
          "base_uri": "https://localhost:8080/"
        },
        "id": "R8oIJB_9s0Zz",
        "outputId": "88022244-2e10-43f3-8169-56104746c5d7"
      },
      "source": [
        "if 7 not in V:\n",
        "  print(\"True\")\n",
        "else:\n",
        "  print(\"false\")"
      ],
      "execution_count": null,
      "outputs": [
        {
          "output_type": "stream",
          "name": "stdout",
          "text": [
            "True\n"
          ]
        }
      ]
    },
    {
      "cell_type": "code",
      "metadata": {
        "colab": {
          "base_uri": "https://localhost:8080/"
        },
        "id": "A3_NG0cAtLMZ",
        "outputId": "40c6fb6a-b896-4426-993f-e57a23270e14"
      },
      "source": [
        "V=[1,2,3,4,5,6,7,8,9]\n",
        "for i in V:\n",
        "  print(i)"
      ],
      "execution_count": null,
      "outputs": [
        {
          "output_type": "stream",
          "name": "stdout",
          "text": [
            "1\n",
            "2\n",
            "3\n",
            "4\n",
            "5\n",
            "6\n",
            "7\n",
            "8\n",
            "9\n"
          ]
        }
      ]
    },
    {
      "cell_type": "code",
      "metadata": {
        "colab": {
          "base_uri": "https://localhost:8080/"
        },
        "id": "SsgTqH3XtXhH",
        "outputId": "654a3c24-e277-423a-c831-ad6a7ca96f01"
      },
      "source": [
        "print(V[0])"
      ],
      "execution_count": null,
      "outputs": [
        {
          "output_type": "stream",
          "name": "stdout",
          "text": [
            "1\n"
          ]
        }
      ]
    },
    {
      "cell_type": "code",
      "metadata": {
        "colab": {
          "base_uri": "https://localhost:8080/"
        },
        "id": "wnnzfVk-tbab",
        "outputId": "afcc7fcf-db09-4a95-dbdb-62b799319332"
      },
      "source": [
        "print(V[-1])"
      ],
      "execution_count": null,
      "outputs": [
        {
          "output_type": "stream",
          "name": "stdout",
          "text": [
            "9\n"
          ]
        }
      ]
    },
    {
      "cell_type": "code",
      "metadata": {
        "colab": {
          "base_uri": "https://localhost:8080/"
        },
        "id": "q1C03qL3tjCW",
        "outputId": "8acb2124-324f-4be4-eb26-ce2bb6c999f4"
      },
      "source": [
        "print(V[-2])"
      ],
      "execution_count": null,
      "outputs": [
        {
          "output_type": "stream",
          "name": "stdout",
          "text": [
            "8\n"
          ]
        }
      ]
    },
    {
      "cell_type": "code",
      "metadata": {
        "colab": {
          "base_uri": "https://localhost:8080/"
        },
        "id": "0jKKuktbtttH",
        "outputId": "444e84ee-aee7-4b2b-b67d-ffa11fd149f2"
      },
      "source": [
        "print(V[6])"
      ],
      "execution_count": null,
      "outputs": [
        {
          "output_type": "stream",
          "name": "stdout",
          "text": [
            "7\n"
          ]
        }
      ]
    },
    {
      "cell_type": "code",
      "metadata": {
        "colab": {
          "base_uri": "https://localhost:8080/"
        },
        "id": "Z8-OQ1qYtyWQ",
        "outputId": "58bceedf-2494-4c72-94b8-b52105a1e10a"
      },
      "source": [
        "print(V[-3])"
      ],
      "execution_count": null,
      "outputs": [
        {
          "output_type": "stream",
          "name": "stdout",
          "text": [
            "7\n"
          ]
        }
      ]
    },
    {
      "cell_type": "code",
      "metadata": {
        "colab": {
          "base_uri": "https://localhost:8080/"
        },
        "id": "tZeSfr9YuC53",
        "outputId": "c345926c-0439-4d21-dadc-3a7949ce3c51"
      },
      "source": [
        "V=[1,2,4.5,3.21,\"Hello\",\"##\",9]\n",
        "print(V)"
      ],
      "execution_count": null,
      "outputs": [
        {
          "output_type": "stream",
          "name": "stdout",
          "text": [
            "[1, 2, 4.5, 3.21, 'Hello', '##', 9]\n"
          ]
        }
      ]
    },
    {
      "cell_type": "code",
      "metadata": {
        "colab": {
          "base_uri": "https://localhost:8080/"
        },
        "id": "e_wML72BuNnb",
        "outputId": "9ee6440e-babf-4a0e-d848-15dadcf43293"
      },
      "source": [
        "for i in V:\n",
        "  print(i)"
      ],
      "execution_count": null,
      "outputs": [
        {
          "output_type": "stream",
          "name": "stdout",
          "text": [
            "1\n",
            "2\n",
            "4.5\n",
            "3.21\n",
            "Hello\n",
            "##\n",
            "9\n"
          ]
        }
      ]
    },
    {
      "cell_type": "code",
      "metadata": {
        "colab": {
          "base_uri": "https://localhost:8080/"
        },
        "id": "r-kjDVHFuWMD",
        "outputId": "0a871dd4-3dc6-4373-d222-5bc71ac43836"
      },
      "source": [
        "for i in V:\n",
        "  print(i, end=\",\")"
      ],
      "execution_count": null,
      "outputs": [
        {
          "output_type": "stream",
          "name": "stdout",
          "text": [
            "1,2,4.5,3.21,Hello,##,9,"
          ]
        }
      ]
    },
    {
      "cell_type": "code",
      "metadata": {
        "colab": {
          "base_uri": "https://localhost:8080/"
        },
        "id": "Oh9--js4unaX",
        "outputId": "a3e1b857-e32f-4433-a666-bfc93edfcac9"
      },
      "source": [
        "for i in V:\n",
        "  print(i, type(i))"
      ],
      "execution_count": null,
      "outputs": [
        {
          "output_type": "stream",
          "name": "stdout",
          "text": [
            "1 <class 'int'>\n",
            "2 <class 'int'>\n",
            "4.5 <class 'float'>\n",
            "3.21 <class 'float'>\n",
            "Hello <class 'str'>\n",
            "## <class 'str'>\n",
            "9 <class 'int'>\n"
          ]
        }
      ]
    },
    {
      "cell_type": "code",
      "metadata": {
        "colab": {
          "base_uri": "https://localhost:8080/"
        },
        "id": "kKcIb1GmvG9V",
        "outputId": "9a070945-60e0-4f8a-a6fc-6e4136f08cca"
      },
      "source": [
        "print(\"hello\")\n",
        "print(\"Hi!\")"
      ],
      "execution_count": null,
      "outputs": [
        {
          "output_type": "stream",
          "name": "stdout",
          "text": [
            "hello\n",
            "Hi!\n"
          ]
        }
      ]
    },
    {
      "cell_type": "code",
      "metadata": {
        "colab": {
          "base_uri": "https://localhost:8080/"
        },
        "id": "Mp2qk8iFvVo6",
        "outputId": "a31a1c61-60d9-4c8e-86ae-4700f00d7cc8"
      },
      "source": [
        "V=range(0,100,1)\n",
        "print(V)"
      ],
      "execution_count": null,
      "outputs": [
        {
          "output_type": "stream",
          "name": "stdout",
          "text": [
            "range(0, 100)\n"
          ]
        }
      ]
    },
    {
      "cell_type": "code",
      "metadata": {
        "colab": {
          "base_uri": "https://localhost:8080/"
        },
        "id": "0Q70JQWLvf8n",
        "outputId": "aca86c7c-1fe3-4fa0-df08-55b1acd34e47"
      },
      "source": [
        "for i in V:\n",
        "  print(i)"
      ],
      "execution_count": null,
      "outputs": [
        {
          "output_type": "stream",
          "name": "stdout",
          "text": [
            "0\n",
            "1\n",
            "2\n",
            "3\n",
            "4\n",
            "5\n",
            "6\n",
            "7\n",
            "8\n",
            "9\n",
            "10\n",
            "11\n",
            "12\n",
            "13\n",
            "14\n",
            "15\n",
            "16\n",
            "17\n",
            "18\n",
            "19\n",
            "20\n",
            "21\n",
            "22\n",
            "23\n",
            "24\n",
            "25\n",
            "26\n",
            "27\n",
            "28\n",
            "29\n",
            "30\n",
            "31\n",
            "32\n",
            "33\n",
            "34\n",
            "35\n",
            "36\n",
            "37\n",
            "38\n",
            "39\n",
            "40\n",
            "41\n",
            "42\n",
            "43\n",
            "44\n",
            "45\n",
            "46\n",
            "47\n",
            "48\n",
            "49\n",
            "50\n",
            "51\n",
            "52\n",
            "53\n",
            "54\n",
            "55\n",
            "56\n",
            "57\n",
            "58\n",
            "59\n",
            "60\n",
            "61\n",
            "62\n",
            "63\n",
            "64\n",
            "65\n",
            "66\n",
            "67\n",
            "68\n",
            "69\n",
            "70\n",
            "71\n",
            "72\n",
            "73\n",
            "74\n",
            "75\n",
            "76\n",
            "77\n",
            "78\n",
            "79\n",
            "80\n",
            "81\n",
            "82\n",
            "83\n",
            "84\n",
            "85\n",
            "86\n",
            "87\n",
            "88\n",
            "89\n",
            "90\n",
            "91\n",
            "92\n",
            "93\n",
            "94\n",
            "95\n",
            "96\n",
            "97\n",
            "98\n",
            "99\n"
          ]
        }
      ]
    },
    {
      "cell_type": "code",
      "metadata": {
        "colab": {
          "base_uri": "https://localhost:8080/"
        },
        "id": "UcrWeithvrj7",
        "outputId": "6f89d461-e5f0-47e9-9aa4-1c36c337d033"
      },
      "source": [
        "for i in range(0,100,2):\n",
        "  print(i)"
      ],
      "execution_count": null,
      "outputs": [
        {
          "output_type": "stream",
          "name": "stdout",
          "text": [
            "0\n",
            "2\n",
            "4\n",
            "6\n",
            "8\n",
            "10\n",
            "12\n",
            "14\n",
            "16\n",
            "18\n",
            "20\n",
            "22\n",
            "24\n",
            "26\n",
            "28\n",
            "30\n",
            "32\n",
            "34\n",
            "36\n",
            "38\n",
            "40\n",
            "42\n",
            "44\n",
            "46\n",
            "48\n",
            "50\n",
            "52\n",
            "54\n",
            "56\n",
            "58\n",
            "60\n",
            "62\n",
            "64\n",
            "66\n",
            "68\n",
            "70\n",
            "72\n",
            "74\n",
            "76\n",
            "78\n",
            "80\n",
            "82\n",
            "84\n",
            "86\n",
            "88\n",
            "90\n",
            "92\n",
            "94\n",
            "96\n",
            "98\n"
          ]
        }
      ]
    },
    {
      "cell_type": "code",
      "metadata": {
        "colab": {
          "base_uri": "https://localhost:8080/"
        },
        "id": "RybW9NSwv6AY",
        "outputId": "961cf806-9370-4b23-85ea-c2af7089ee64"
      },
      "source": [
        "for i in range(100,0,-2):\n",
        "  print(i)"
      ],
      "execution_count": null,
      "outputs": [
        {
          "output_type": "stream",
          "name": "stdout",
          "text": [
            "100\n",
            "98\n",
            "96\n",
            "94\n",
            "92\n",
            "90\n",
            "88\n",
            "86\n",
            "84\n",
            "82\n",
            "80\n",
            "78\n",
            "76\n",
            "74\n",
            "72\n",
            "70\n",
            "68\n",
            "66\n",
            "64\n",
            "62\n",
            "60\n",
            "58\n",
            "56\n",
            "54\n",
            "52\n",
            "50\n",
            "48\n",
            "46\n",
            "44\n",
            "42\n",
            "40\n",
            "38\n",
            "36\n",
            "34\n",
            "32\n",
            "30\n",
            "28\n",
            "26\n",
            "24\n",
            "22\n",
            "20\n",
            "18\n",
            "16\n",
            "14\n",
            "12\n",
            "10\n",
            "8\n",
            "6\n",
            "4\n",
            "2\n"
          ]
        }
      ]
    },
    {
      "cell_type": "code",
      "metadata": {
        "colab": {
          "base_uri": "https://localhost:8080/"
        },
        "id": "_xfieLSmwLvO",
        "outputId": "2bf24905-0cc1-4442-c7fd-3274a79738ff"
      },
      "source": [
        "V=[3,4,5,6,7,8,9,10,12,13,14]\n",
        "n=int(input(\"Enter a number \"))\n",
        "flag=0\n",
        "for i in V:\n",
        "  if i==n:\n",
        "    print(\"found\")\n",
        "    flag=1\n",
        "    break\n",
        "if flag==0:\n",
        "  print(\"Not found\")\n",
        "\n",
        "\n",
        "  "
      ],
      "execution_count": null,
      "outputs": [
        {
          "output_type": "stream",
          "name": "stdout",
          "text": [
            "Enter a number 10\n",
            "found\n"
          ]
        }
      ]
    },
    {
      "cell_type": "code",
      "metadata": {
        "colab": {
          "base_uri": "https://localhost:8080/"
        },
        "id": "u7nfhKaRxVHB",
        "outputId": "bc73187b-936d-48b3-b2ed-068bce565033"
      },
      "source": [
        "A=0\n",
        "B=1\n",
        "C=20\n",
        "\n",
        "if A:\n",
        "  print(A)\n",
        "if B:\n",
        "  print(B)\n",
        "if C:\n",
        "  print(C)"
      ],
      "execution_count": null,
      "outputs": [
        {
          "output_type": "stream",
          "name": "stdout",
          "text": [
            "1\n",
            "20\n"
          ]
        }
      ]
    },
    {
      "cell_type": "code",
      "metadata": {
        "colab": {
          "base_uri": "https://localhost:8080/"
        },
        "id": "o_TP43UDx-1Z",
        "outputId": "50a320f2-592a-442e-e503-95d3a3875f36"
      },
      "source": [
        "print(A)"
      ],
      "execution_count": null,
      "outputs": [
        {
          "output_type": "stream",
          "name": "stdout",
          "text": [
            "0\n"
          ]
        }
      ]
    },
    {
      "cell_type": "code",
      "metadata": {
        "colab": {
          "base_uri": "https://localhost:8080/"
        },
        "id": "BXqfp5rsyVJw",
        "outputId": "c5727f41-15ce-4d26-e954-2285cfa98e34"
      },
      "source": [
        "s=['foot','ball','cricket','ticket','wicket']\n",
        "print(s)"
      ],
      "execution_count": null,
      "outputs": [
        {
          "output_type": "stream",
          "name": "stdout",
          "text": [
            "['foot', 'ball', 'cricket', 'ticket', 'wicket']\n"
          ]
        }
      ]
    },
    {
      "cell_type": "code",
      "metadata": {
        "colab": {
          "base_uri": "https://localhost:8080/"
        },
        "id": "nMv3dZptyicr",
        "outputId": "26cdc184-f4fc-4a67-fc94-b79658ff1eaf"
      },
      "source": [
        "if 'ball' in s:\n",
        "  print(\"Found\")\n",
        "  print(\"done\")"
      ],
      "execution_count": null,
      "outputs": [
        {
          "output_type": "stream",
          "name": "stdout",
          "text": [
            "Found\n",
            "done\n"
          ]
        }
      ]
    },
    {
      "cell_type": "code",
      "metadata": {
        "colab": {
          "base_uri": "https://localhost:8080/"
        },
        "id": "LjuJumO8FiaW",
        "outputId": "7ffe0120-7876-469e-942f-d123bc0394f7"
      },
      "source": [
        "c='a'\n",
        "print(c)\n",
        "print(type(c))"
      ],
      "execution_count": null,
      "outputs": [
        {
          "output_type": "stream",
          "name": "stdout",
          "text": [
            "a\n",
            "<class 'str'>\n"
          ]
        }
      ]
    },
    {
      "cell_type": "markdown",
      "metadata": {
        "id": "mhvxgFW1zn51"
      },
      "source": [
        "#1. WAP to find the quotient and remainder of x divided by y where, x=15, y=6."
      ]
    },
    {
      "cell_type": "code",
      "metadata": {
        "colab": {
          "base_uri": "https://localhost:8080/"
        },
        "id": "5JbpirrKzfbK",
        "outputId": "1bcb1fea-668b-43b9-a704-072e2668db6f"
      },
      "source": [
        "x=15\n",
        "y=6\n",
        "r=x%y\n",
        "print(r)\n",
        "q=x/y\n",
        "print(int(q))"
      ],
      "execution_count": null,
      "outputs": [
        {
          "output_type": "stream",
          "name": "stdout",
          "text": [
            "3\n",
            "2\n"
          ]
        }
      ]
    }
  ]
}
