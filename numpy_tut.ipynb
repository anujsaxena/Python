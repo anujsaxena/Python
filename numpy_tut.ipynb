{
  "nbformat": 4,
  "nbformat_minor": 0,
  "metadata": {
    "colab": {
      "name": "numpy_tut.ipynb",
      "provenance": [],
      "collapsed_sections": [],
      "authorship_tag": "ABX9TyOLZGqB9lm5EjgiE8geikAz",
      "include_colab_link": true
    },
    "kernelspec": {
      "name": "python3",
      "display_name": "Python 3"
    },
    "language_info": {
      "name": "python"
    }
  },
  "cells": [
    {
      "cell_type": "markdown",
      "metadata": {
        "id": "view-in-github",
        "colab_type": "text"
      },
      "source": [
        "<a href=\"https://colab.research.google.com/github/anujsaxena/Python/blob/main/numpy_tut.ipynb\" target=\"_parent\"><img src=\"https://colab.research.google.com/assets/colab-badge.svg\" alt=\"Open In Colab\"/></a>"
      ]
    },
    {
      "cell_type": "markdown",
      "metadata": {
        "id": "SyS22UEKkN9j"
      },
      "source": [
        "# **Numpy**\n",
        "\n",
        "Numpy is a Python package. It stands for 'Numerical Python'. It is a library consisting of multidimensional array objects and a collection of routines for processing of array. \n",
        "\n",
        "Numeric, the ancestor of NumPy, was developed by Jim Hugunin. Another package Numarray was also developed, having some additional functionalities. In 2005, Travis Oliphant created NumPy package by incorporating the features of Num array into Numeric package. There are many contributors to this open source project.\n",
        "\n",
        "Operations using NumPy \n",
        "Using NumPy, a developer can perform the following operations: \n",
        "\n",
        "1.\tMathematical and logical operations on arrays. \n",
        "2.\tFourier transforms and routines for shape manipulation. \n",
        "3.\tOperations related to linear algebra. NumPy has in-built functions for linear algebra and random number generation. \n",
        "\n",
        "# **Syntax**\n",
        "\n",
        "It creates an ndarray from any object exposing array interface, or from any method that returns an array.\n",
        "\n",
        "# **numpy.array(object, dtype=None, copy=True, order=None, subok=False, ndmin=0)**\n",
        "\n",
        "The above constructor takes the following parameters:\n",
        "\n",
        "object: \tAny object exposing the array interface method returns an array, or any (nested) sequence \n",
        "\n",
        "dtype: \tDesired data type of array, optional \n",
        "\n",
        "copy: \tOptional. By default (true), the object is copied \n",
        "\n",
        "order: \tC (row major) or F (column major) or A (any) (default) \n",
        "\n",
        "subok: \tBy default, returned array forced to be a base class array. If true, sub-classes passed through \n",
        "\n",
        "ndimin: \tSpecifies minimum dimensions of resultant array \n",
        "\n"
      ]
    },
    {
      "cell_type": "code",
      "metadata": {
        "colab": {
          "base_uri": "https://localhost:8080/"
        },
        "id": "rmfoJg5roV1h",
        "outputId": "c46c6dc4-e285-4f54-8848-5b42136c5581"
      },
      "source": [
        "import numpy as np\n",
        "a= np.array([1,2,3,4,5,6,7])\n",
        "print(a)\n",
        "print(a[0]) \n",
        "print(a[-1])"
      ],
      "execution_count": 1,
      "outputs": [
        {
          "output_type": "stream",
          "name": "stdout",
          "text": [
            "[1 2 3 4 5 6 7]\n",
            "1\n",
            "7\n"
          ]
        }
      ]
    },
    {
      "cell_type": "code",
      "metadata": {
        "colab": {
          "base_uri": "https://localhost:8080/"
        },
        "id": "xs26-izapm1w",
        "outputId": "f9cec504-ab7b-463b-ca48-db486924a38b"
      },
      "source": [
        "#Two dimensional\n",
        "import numpy as np\n",
        "a = np.array([[1, 2], [3, 4]])\n",
        "print(a)\n",
        "print(a[1][0])\n"
      ],
      "execution_count": 2,
      "outputs": [
        {
          "output_type": "stream",
          "name": "stdout",
          "text": [
            "[[1 2]\n",
            " [3 4]]\n",
            "3\n"
          ]
        }
      ]
    },
    {
      "cell_type": "code",
      "metadata": {
        "colab": {
          "base_uri": "https://localhost:8080/"
        },
        "id": "5FsEayKhpvkq",
        "outputId": "aaa3e2c8-2ccb-49b2-96ed-5edbcc5a7d85"
      },
      "source": [
        "#Two dimensional\n",
        "a = np.array([[1, 2, 6], [3, 4]])\n",
        "print(a)\n",
        "print(a[1][0])\n"
      ],
      "execution_count": 3,
      "outputs": [
        {
          "output_type": "stream",
          "name": "stdout",
          "text": [
            "[list([1, 2, 6]) list([3, 4])]\n",
            "3\n"
          ]
        },
        {
          "output_type": "stream",
          "name": "stderr",
          "text": [
            "/usr/local/lib/python3.7/dist-packages/ipykernel_launcher.py:2: VisibleDeprecationWarning: Creating an ndarray from ragged nested sequences (which is a list-or-tuple of lists-or-tuples-or ndarrays with different lengths or shapes) is deprecated. If you meant to do this, you must specify 'dtype=object' when creating the ndarray\n",
            "  \n"
          ]
        }
      ]
    },
    {
      "cell_type": "code",
      "metadata": {
        "colab": {
          "base_uri": "https://localhost:8080/"
        },
        "id": "3SQHVm3yqCPK",
        "outputId": "99c2b2a1-7de5-451c-96cb-e3b7e8b04201"
      },
      "source": [
        "import numpy as np\n",
        "a=np.array([[1, 2], [3,4],[5,6]], ndmin=2)\n",
        "print(a)\n"
      ],
      "execution_count": 4,
      "outputs": [
        {
          "output_type": "stream",
          "name": "stdout",
          "text": [
            "[[1 2]\n",
            " [3 4]\n",
            " [5 6]]\n"
          ]
        }
      ]
    },
    {
      "cell_type": "code",
      "metadata": {
        "colab": {
          "base_uri": "https://localhost:8080/"
        },
        "id": "7PfxEZRGqJaW",
        "outputId": "8339bf7b-1030-4322-ee36-3bb80a76ea47"
      },
      "source": [
        "import numpy as np\n",
        "a=np.array([[1, 2], [3,4],[5,6]])\n",
        "print(a)"
      ],
      "execution_count": 5,
      "outputs": [
        {
          "output_type": "stream",
          "name": "stdout",
          "text": [
            "[[1 2]\n",
            " [3 4]\n",
            " [5 6]]\n"
          ]
        }
      ]
    },
    {
      "cell_type": "code",
      "metadata": {
        "colab": {
          "base_uri": "https://localhost:8080/"
        },
        "id": "XsvTtijUqMlj",
        "outputId": "c212cbf1-b9fe-4bf9-cd70-9bd23cc7bd3a"
      },
      "source": [
        "import numpy as np\n",
        "a=np.array([[1, 2, 8], [3,4],[5,6]], ndmin=2)\n",
        "print(a)"
      ],
      "execution_count": 6,
      "outputs": [
        {
          "output_type": "stream",
          "name": "stdout",
          "text": [
            "[[list([1, 2, 8]) list([3, 4]) list([5, 6])]]\n"
          ]
        },
        {
          "output_type": "stream",
          "name": "stderr",
          "text": [
            "/usr/local/lib/python3.7/dist-packages/ipykernel_launcher.py:2: VisibleDeprecationWarning: Creating an ndarray from ragged nested sequences (which is a list-or-tuple of lists-or-tuples-or ndarrays with different lengths or shapes) is deprecated. If you meant to do this, you must specify 'dtype=object' when creating the ndarray\n",
            "  \n"
          ]
        }
      ]
    },
    {
      "cell_type": "code",
      "metadata": {
        "colab": {
          "base_uri": "https://localhost:8080/"
        },
        "id": "l4moFCeNqY29",
        "outputId": "ce88a287-1155-4cd3-8c43-76d1e17e50b6"
      },
      "source": [
        "# dtype parameter\n",
        "import numpy as np\n",
        "a = np.array([1, 2, 3], dtype=complex)\n",
        "print(a)"
      ],
      "execution_count": 7,
      "outputs": [
        {
          "output_type": "stream",
          "name": "stdout",
          "text": [
            "[1.+0.j 2.+0.j 3.+0.j]\n"
          ]
        }
      ]
    },
    {
      "cell_type": "code",
      "metadata": {
        "colab": {
          "base_uri": "https://localhost:8080/"
        },
        "id": "iLPk-izDqh04",
        "outputId": "de8c3fb0-2591-4a29-ae40-1e4e83922d57"
      },
      "source": [
        "dt = np.dtype([('age',np.int8)])\n",
        "print(dt)\n",
        "a = np.array([(10,),(20,),(30,)], dtype=dt)\n",
        "print(a)\n"
      ],
      "execution_count": 9,
      "outputs": [
        {
          "output_type": "stream",
          "name": "stdout",
          "text": [
            "[('age', 'i1')]\n",
            "[(10,) (20,) (30,)]\n"
          ]
        }
      ]
    },
    {
      "cell_type": "code",
      "metadata": {
        "colab": {
          "base_uri": "https://localhost:8080/"
        },
        "id": "s7FdCs0hq1eW",
        "outputId": "46953074-4ce8-447b-bdc4-90fb0d61844f"
      },
      "source": [
        "#reshape array\n",
        "a=np.array([[1,2,3],[4,5,6]])\n",
        "print(a)\n",
        "print(np.shape(a))\n",
        "a.shape=(3,2)\n",
        "print('\\nSecond\\n')\n",
        "print(a)"
      ],
      "execution_count": 10,
      "outputs": [
        {
          "output_type": "stream",
          "name": "stdout",
          "text": [
            "[[1 2 3]\n",
            " [4 5 6]]\n",
            "(2, 3)\n",
            "\n",
            "Second\n",
            "\n",
            "[[1 2]\n",
            " [3 4]\n",
            " [5 6]]\n"
          ]
        }
      ]
    },
    {
      "cell_type": "code",
      "metadata": {
        "colab": {
          "base_uri": "https://localhost:8080/"
        },
        "id": "dlDV92NArL1I",
        "outputId": "525dd059-61c6-4c4c-accc-8ac0f77a156f"
      },
      "source": [
        "a.shape=(1,6)\n",
        "print('\\nSecond\\n')\n",
        "print(a)"
      ],
      "execution_count": 11,
      "outputs": [
        {
          "output_type": "stream",
          "name": "stdout",
          "text": [
            "\n",
            "Second\n",
            "\n",
            "[[1 2 3 4 5 6]]\n"
          ]
        }
      ]
    },
    {
      "cell_type": "code",
      "metadata": {
        "colab": {
          "base_uri": "https://localhost:8080/"
        },
        "id": "3UpCOHoarR8d",
        "outputId": "f64eab00-c953-4d5e-de53-5ad3a9df2251"
      },
      "source": [
        "a.shape=(6,1)\n",
        "print('\\nSecond\\n')\n",
        "print(a)"
      ],
      "execution_count": 12,
      "outputs": [
        {
          "output_type": "stream",
          "name": "stdout",
          "text": [
            "\n",
            "Second\n",
            "\n",
            "[[1]\n",
            " [2]\n",
            " [3]\n",
            " [4]\n",
            " [5]\n",
            " [6]]\n"
          ]
        }
      ]
    },
    {
      "cell_type": "code",
      "metadata": {
        "colab": {
          "base_uri": "https://localhost:8080/"
        },
        "id": "ko3EyPN6rY57",
        "outputId": "9588b31b-a7d9-4f8f-8cf8-2a1877fbc039"
      },
      "source": [
        "print(np.shape(a))"
      ],
      "execution_count": 13,
      "outputs": [
        {
          "output_type": "stream",
          "name": "stdout",
          "text": [
            "(6, 1)\n"
          ]
        }
      ]
    },
    {
      "cell_type": "code",
      "metadata": {
        "colab": {
          "base_uri": "https://localhost:8080/"
        },
        "id": "KorkCwIxre6b",
        "outputId": "7a8aa57a-91e9-4388-d7bf-a2ca8c05794d"
      },
      "source": [
        "a = np.arange(24)\n",
        "print(a)"
      ],
      "execution_count": 14,
      "outputs": [
        {
          "output_type": "stream",
          "name": "stdout",
          "text": [
            "[ 0  1  2  3  4  5  6  7  8  9 10 11 12 13 14 15 16 17 18 19 20 21 22 23]\n"
          ]
        }
      ]
    },
    {
      "cell_type": "code",
      "metadata": {
        "colab": {
          "base_uri": "https://localhost:8080/"
        },
        "id": "y-sJ7wBHrr6T",
        "outputId": "02da9e5d-5b96-4c07-a6c3-84d028e79ac2"
      },
      "source": [
        "print(a.ndim)\n",
        "print(np.shape(a))"
      ],
      "execution_count": 16,
      "outputs": [
        {
          "output_type": "stream",
          "name": "stdout",
          "text": [
            "1\n",
            "(24,)\n"
          ]
        }
      ]
    },
    {
      "cell_type": "code",
      "metadata": {
        "colab": {
          "base_uri": "https://localhost:8080/"
        },
        "id": "NpWeIfrXr5tV",
        "outputId": "44dd0cc5-b547-4973-e598-e0c6a5b652d4"
      },
      "source": [
        "print('second')\n",
        "# now reshape it\n",
        "b = a.reshape(2,4,3)\n",
        "print(b)"
      ],
      "execution_count": 17,
      "outputs": [
        {
          "output_type": "stream",
          "name": "stdout",
          "text": [
            "second\n",
            "[[[ 0  1  2]\n",
            "  [ 3  4  5]\n",
            "  [ 6  7  8]\n",
            "  [ 9 10 11]]\n",
            "\n",
            " [[12 13 14]\n",
            "  [15 16 17]\n",
            "  [18 19 20]\n",
            "  [21 22 23]]]\n"
          ]
        }
      ]
    },
    {
      "cell_type": "code",
      "metadata": {
        "colab": {
          "base_uri": "https://localhost:8080/"
        },
        "id": "4exbyGIYsVxN",
        "outputId": "9f37827c-bdaf-4fa5-ff24-20c6033c9bd2"
      },
      "source": [
        "print('second')\n",
        "# now reshape it\n",
        "b = a.reshape(2,3,4)\n",
        "print(b)"
      ],
      "execution_count": 18,
      "outputs": [
        {
          "output_type": "stream",
          "name": "stdout",
          "text": [
            "second\n",
            "[[[ 0  1  2  3]\n",
            "  [ 4  5  6  7]\n",
            "  [ 8  9 10 11]]\n",
            "\n",
            " [[12 13 14 15]\n",
            "  [16 17 18 19]\n",
            "  [20 21 22 23]]]\n"
          ]
        }
      ]
    },
    {
      "cell_type": "code",
      "metadata": {
        "colab": {
          "base_uri": "https://localhost:8080/"
        },
        "id": "bcpAnwIysa8l",
        "outputId": "ac1de52c-8ce4-4b47-f8e6-23dfdb69dbd2"
      },
      "source": [
        "print('second')\n",
        "# now reshape it\n",
        "b = a.reshape(3,2,4)\n",
        "print(b)"
      ],
      "execution_count": 19,
      "outputs": [
        {
          "output_type": "stream",
          "name": "stdout",
          "text": [
            "second\n",
            "[[[ 0  1  2  3]\n",
            "  [ 4  5  6  7]]\n",
            "\n",
            " [[ 8  9 10 11]\n",
            "  [12 13 14 15]]\n",
            "\n",
            " [[16 17 18 19]\n",
            "  [20 21 22 23]]]\n"
          ]
        }
      ]
    },
    {
      "cell_type": "code",
      "metadata": {
        "colab": {
          "base_uri": "https://localhost:8080/"
        },
        "id": "4-YqQ7rNs0qB",
        "outputId": "292a0c05-7bbb-4579-a786-b22c99dd11b8"
      },
      "source": [
        "\n",
        "a = np.empty([4,2], dtype=float)\n",
        "print(a)\n"
      ],
      "execution_count": 20,
      "outputs": [
        {
          "output_type": "stream",
          "name": "stdout",
          "text": [
            "[[4.67299614e-310 1.38338381e-322]\n",
            " [2.12199579e-314 3.44620186e-085]\n",
            " [3.63460077e+185 1.57230356e+108]\n",
            " [8.40995713e-315 0.00000000e+000]]\n"
          ]
        }
      ]
    },
    {
      "cell_type": "code",
      "metadata": {
        "colab": {
          "base_uri": "https://localhost:8080/"
        },
        "id": "ra-72ugRs72Z",
        "outputId": "b5ab98d5-0131-48ac-b368-1d9662a20546"
      },
      "source": [
        "# Create array having zero values \n",
        "a= np.zeros(5, dtype=int)\n",
        "print(a)\n"
      ],
      "execution_count": 21,
      "outputs": [
        {
          "output_type": "stream",
          "name": "stdout",
          "text": [
            "[0 0 0 0 0]\n"
          ]
        }
      ]
    },
    {
      "cell_type": "code",
      "metadata": {
        "colab": {
          "base_uri": "https://localhost:8080/"
        },
        "id": "nSBXaLJ0tGX7",
        "outputId": "65e66786-e2d5-4875-e8dd-4a5112ad4156"
      },
      "source": [
        "# Create array having zero values \n",
        "a= np.zeros(5, dtype=float)\n",
        "print(a)"
      ],
      "execution_count": 22,
      "outputs": [
        {
          "output_type": "stream",
          "name": "stdout",
          "text": [
            "[0. 0. 0. 0. 0.]\n"
          ]
        }
      ]
    },
    {
      "cell_type": "code",
      "metadata": {
        "colab": {
          "base_uri": "https://localhost:8080/"
        },
        "id": "__1IEI1WtN9T",
        "outputId": "fceb161f-5810-47cb-f04f-ac8b32285830"
      },
      "source": [
        "import numpy as np\n",
        "x = np.zeros((3,4), dtype=[('x', 'i4'), ('y', 'i4')])\n",
        "print(x)"
      ],
      "execution_count": 23,
      "outputs": [
        {
          "output_type": "stream",
          "name": "stdout",
          "text": [
            "[[(0, 0) (0, 0) (0, 0) (0, 0)]\n",
            " [(0, 0) (0, 0) (0, 0) (0, 0)]\n",
            " [(0, 0) (0, 0) (0, 0) (0, 0)]]\n"
          ]
        }
      ]
    },
    {
      "cell_type": "code",
      "metadata": {
        "colab": {
          "base_uri": "https://localhost:8080/"
        },
        "id": "pqWaJBAGtvjV",
        "outputId": "fcbf2ed2-2e97-4f04-a640-a103ab2071fb"
      },
      "source": [
        "#Array of ones\n",
        "x = np.ones((2,2), dtype=int)\n",
        "print(x)"
      ],
      "execution_count": 24,
      "outputs": [
        {
          "output_type": "stream",
          "name": "stdout",
          "text": [
            "[[1 1]\n",
            " [1 1]]\n"
          ]
        }
      ]
    },
    {
      "cell_type": "code",
      "metadata": {
        "colab": {
          "base_uri": "https://localhost:8080/"
        },
        "id": "lCzZQM-uuD55",
        "outputId": "75be1a8d-0fe9-474a-e83c-4d331056139d"
      },
      "source": [
        "import numpy as np\n",
        "x = [1,2,3]\n",
        "print(type(x))\n",
        "a = np.asarray(x)\n",
        "print(a)\n",
        "print(type(a))"
      ],
      "execution_count": 26,
      "outputs": [
        {
          "output_type": "stream",
          "name": "stdout",
          "text": [
            "<class 'list'>\n",
            "[1 2 3]\n",
            "<class 'numpy.ndarray'>\n"
          ]
        }
      ]
    },
    {
      "cell_type": "code",
      "metadata": {
        "colab": {
          "base_uri": "https://localhost:8080/"
        },
        "id": "lpeHIeaKuOm0",
        "outputId": "140f95a8-e1b2-444f-a5b8-09500f0d2fbb"
      },
      "source": [
        "x = [(1,2,3),(4,5)]\n",
        "print(x)\n",
        "print(type(x))\n",
        "a = np.asarray(x,dtype=object)\n",
        "print(a)\n",
        "print(type(a))"
      ],
      "execution_count": 28,
      "outputs": [
        {
          "output_type": "stream",
          "name": "stdout",
          "text": [
            "[(1, 2, 3), (4, 5)]\n",
            "<class 'list'>\n",
            "[(1, 2, 3) (4, 5)]\n",
            "<class 'numpy.ndarray'>\n"
          ]
        }
      ]
    },
    {
      "cell_type": "code",
      "metadata": {
        "colab": {
          "base_uri": "https://localhost:8080/"
        },
        "id": "pJiQfiy3uqX-",
        "outputId": "a38f39ca-47d7-4a15-c972-5d354597b9ca"
      },
      "source": [
        "x= np.arange(10, dtype=int)\n",
        "print(x)\n"
      ],
      "execution_count": 29,
      "outputs": [
        {
          "output_type": "stream",
          "name": "stdout",
          "text": [
            "[0 1 2 3 4 5 6 7 8 9]\n"
          ]
        }
      ]
    },
    {
      "cell_type": "code",
      "metadata": {
        "colab": {
          "base_uri": "https://localhost:8080/"
        },
        "id": "RyLlILMFuzTa",
        "outputId": "db457107-5364-4a7d-c588-47072e187d6c"
      },
      "source": [
        "a = np.array([[1, 2, 3],[4, 5, 6]], float)\n",
        "print(a)\n",
        "a=np.zeros((2,3))\n",
        "print(\"zeros\")\n",
        "print(a)\n",
        "a=np.identity(3)\n",
        "print(\"identity\")\n",
        "print(a)\n",
        "a=np.arange(10)\n",
        "print(\"arange\")\n",
        "print(a)\n",
        "print(\"arange (rows and columns)\")\n",
        "a=np.arange(2,10)\n",
        "print(a)\n",
        "print(\"arange\")\n",
        "a=np.arange(2,3,0.1)\n",
        "print(a)\n",
        "print(\"linspace\")\n",
        "a=np.linspace(1., 4., 6)\n",
        "print(a)\n",
        "np.indices((3,3))\n",
        "print(\"indices\")\n",
        "print(a)\n"
      ],
      "execution_count": 31,
      "outputs": [
        {
          "output_type": "stream",
          "name": "stdout",
          "text": [
            "[[1. 2. 3.]\n",
            " [4. 5. 6.]]\n",
            "zeros\n",
            "[[0. 0. 0.]\n",
            " [0. 0. 0.]]\n",
            "identity\n",
            "[[1. 0. 0.]\n",
            " [0. 1. 0.]\n",
            " [0. 0. 1.]]\n",
            "arange\n",
            "[0 1 2 3 4 5 6 7 8 9]\n",
            "arange (rows and columns)\n",
            "[2 3 4 5 6 7 8 9]\n",
            "arange\n",
            "[2.  2.1 2.2 2.3 2.4 2.5 2.6 2.7 2.8 2.9]\n",
            "linspace\n",
            "[1.  1.6 2.2 2.8 3.4 4. ]\n",
            "indices\n",
            "[1.  1.6 2.2 2.8 3.4 4. ]\n"
          ]
        }
      ]
    },
    {
      "cell_type": "code",
      "metadata": {
        "colab": {
          "base_uri": "https://localhost:8080/"
        },
        "id": "cK253Fu3vvlu",
        "outputId": "367b1257-16f7-4eaa-a214-dc5a80146e98"
      },
      "source": [
        "c = np.full_like((3,3), 7)\n",
        "print(c)\n",
        "print(type(c))"
      ],
      "execution_count": 34,
      "outputs": [
        {
          "output_type": "stream",
          "name": "stdout",
          "text": [
            "[7 7]\n",
            "<class 'numpy.ndarray'>\n"
          ]
        }
      ]
    },
    {
      "cell_type": "code",
      "metadata": {
        "colab": {
          "base_uri": "https://localhost:8080/"
        },
        "id": "nVjtNiG7wb5H",
        "outputId": "2881ea94-e9dc-4bd4-96f2-8f17be127a91"
      },
      "source": [
        "e = np.eye(2)\n",
        "print(e)  "
      ],
      "execution_count": 35,
      "outputs": [
        {
          "output_type": "stream",
          "name": "stdout",
          "text": [
            "[[1. 0.]\n",
            " [0. 1.]]\n"
          ]
        }
      ]
    },
    {
      "cell_type": "code",
      "metadata": {
        "colab": {
          "base_uri": "https://localhost:8080/"
        },
        "id": "C-9ErPrgwoBD",
        "outputId": "9d555f46-dde8-49ae-974b-1e1e40697fe3"
      },
      "source": [
        "a = np.array([[1,2,3,4], [5,6,7,8], [9,10,11,12]])\n",
        "print(a)"
      ],
      "execution_count": 36,
      "outputs": [
        {
          "output_type": "stream",
          "name": "stdout",
          "text": [
            "[[ 1  2  3  4]\n",
            " [ 5  6  7  8]\n",
            " [ 9 10 11 12]]\n"
          ]
        }
      ]
    },
    {
      "cell_type": "code",
      "metadata": {
        "colab": {
          "base_uri": "https://localhost:8080/"
        },
        "id": "FA7e8eqpwq9c",
        "outputId": "dcf15dc5-70de-4798-d069-6f21877e7814"
      },
      "source": [
        "b =a[:2,1:3]\n",
        "print(b)"
      ],
      "execution_count": 38,
      "outputs": [
        {
          "output_type": "stream",
          "name": "stdout",
          "text": [
            "[[2 3]\n",
            " [6 7]]\n"
          ]
        }
      ]
    },
    {
      "cell_type": "code",
      "metadata": {
        "colab": {
          "base_uri": "https://localhost:8080/"
        },
        "id": "i66oir9qxFJ3",
        "outputId": "eb9e210d-b6cf-445d-c9ef-f82925da594e"
      },
      "source": [
        "b[0,0]=7\n",
        "print(b)"
      ],
      "execution_count": 40,
      "outputs": [
        {
          "output_type": "stream",
          "name": "stdout",
          "text": [
            "[[7 3]\n",
            " [6 7]]\n"
          ]
        }
      ]
    },
    {
      "cell_type": "code",
      "metadata": {
        "colab": {
          "base_uri": "https://localhost:8080/"
        },
        "id": "1xvBkwPExE4J",
        "outputId": "29f10e33-fbae-4bcd-f51a-3ebca9c3e482"
      },
      "source": [
        "a = np.array([[1,2,3], [4,5,6], [7,8,9], [10, 11, 12]])\n",
        "print(a)"
      ],
      "execution_count": 41,
      "outputs": [
        {
          "output_type": "stream",
          "name": "stdout",
          "text": [
            "[[ 1  2  3]\n",
            " [ 4  5  6]\n",
            " [ 7  8  9]\n",
            " [10 11 12]]\n"
          ]
        }
      ]
    },
    {
      "cell_type": "code",
      "metadata": {
        "colab": {
          "base_uri": "https://localhost:8080/"
        },
        "id": "ZCUdwxkZxhdI",
        "outputId": "c79fef25-a566-4e41-8d6f-728c3d4297a0"
      },
      "source": [
        "b = np.array([0, 2, 0, 1])\n",
        "print(b)"
      ],
      "execution_count": 42,
      "outputs": [
        {
          "output_type": "stream",
          "name": "stdout",
          "text": [
            "[0 2 0 1]\n"
          ]
        }
      ]
    },
    {
      "cell_type": "code",
      "metadata": {
        "colab": {
          "base_uri": "https://localhost:8080/"
        },
        "id": "zgWM0PDGxr6n",
        "outputId": "3f144d99-ecfc-4c43-8c03-bbcd15abcb5f"
      },
      "source": [
        "c = np.arange(4)\n",
        "print(c)\n",
        "print(a[np.arange(4), b])"
      ],
      "execution_count": 46,
      "outputs": [
        {
          "output_type": "stream",
          "name": "stdout",
          "text": [
            "[0 1 2 3]\n",
            "[ 1  6  7 11]\n"
          ]
        }
      ]
    },
    {
      "cell_type": "code",
      "metadata": {
        "colab": {
          "base_uri": "https://localhost:8080/"
        },
        "id": "48De2zk4ymdV",
        "outputId": "eb3176c8-7918-4501-c1bd-ffd92ac80894"
      },
      "source": [
        "a[np.arange(4), b] += 10\n",
        "print(a)\n"
      ],
      "execution_count": 48,
      "outputs": [
        {
          "output_type": "stream",
          "name": "stdout",
          "text": [
            "[[21  2  3]\n",
            " [ 4  5 26]\n",
            " [27  8  9]\n",
            " [10 31 12]]\n"
          ]
        }
      ]
    },
    {
      "cell_type": "code",
      "metadata": {
        "colab": {
          "base_uri": "https://localhost:8080/"
        },
        "id": "7D5UTazXy_mY",
        "outputId": "9e9f332b-0770-47a8-ad2d-42e2ad9d4773"
      },
      "source": [
        "print(a)\n",
        "d = (a>2)\n",
        "print(d)"
      ],
      "execution_count": 50,
      "outputs": [
        {
          "output_type": "stream",
          "name": "stdout",
          "text": [
            "[[21  2  3]\n",
            " [ 4  5 26]\n",
            " [27  8  9]\n",
            " [10 31 12]]\n",
            "[[ True False  True]\n",
            " [ True  True  True]\n",
            " [ True  True  True]\n",
            " [ True  True  True]]\n"
          ]
        }
      ]
    },
    {
      "cell_type": "markdown",
      "metadata": {
        "id": "85w2qQvNzZwz"
      },
      "source": [
        "# **Mathematical operations**"
      ]
    },
    {
      "cell_type": "code",
      "metadata": {
        "colab": {
          "base_uri": "https://localhost:8080/"
        },
        "id": "USPphv7CzZFa",
        "outputId": "137b75ce-9509-4f86-8180-e5bb218e0a98"
      },
      "source": [
        "x = np.array([[1,2],[3,4]], dtype=np.float64)\n",
        "y = np.array([[5,6],[7,8]], dtype=np.float64)\n",
        "print(x)\n",
        "print(y)"
      ],
      "execution_count": 53,
      "outputs": [
        {
          "output_type": "stream",
          "name": "stdout",
          "text": [
            "[[1. 2.]\n",
            " [3. 4.]]\n",
            "[[5. 6.]\n",
            " [7. 8.]]\n"
          ]
        }
      ]
    },
    {
      "cell_type": "code",
      "metadata": {
        "colab": {
          "base_uri": "https://localhost:8080/"
        },
        "id": "cwIVeLo7z0xV",
        "outputId": "17b61427-2678-4ace-dbb2-decc6b97b9f5"
      },
      "source": [
        "a =x+y\n",
        "print(a)"
      ],
      "execution_count": 52,
      "outputs": [
        {
          "output_type": "stream",
          "name": "stdout",
          "text": [
            "[[ 6.  8.]\n",
            " [10. 12.]]\n"
          ]
        }
      ]
    },
    {
      "cell_type": "code",
      "metadata": {
        "colab": {
          "base_uri": "https://localhost:8080/"
        },
        "id": "EdVOygqv0Ea0",
        "outputId": "47266e39-a949-4fe7-bea9-84f2c2207f74"
      },
      "source": [
        "a = np.add(x,y)\n",
        "print(a)"
      ],
      "execution_count": 54,
      "outputs": [
        {
          "output_type": "stream",
          "name": "stdout",
          "text": [
            "[[ 6.  8.]\n",
            " [10. 12.]]\n"
          ]
        }
      ]
    },
    {
      "cell_type": "code",
      "metadata": {
        "colab": {
          "base_uri": "https://localhost:8080/"
        },
        "id": "-9qBd51Q0SRy",
        "outputId": "77fac63a-4ce7-44af-b184-4d6fc5b00c8b"
      },
      "source": [
        "s = x-y\n",
        "print(x)\n",
        "s = np.subtract(x,y)\n",
        "\n",
        "print(\"mulitply\")\n",
        "m = x*y\n",
        "print(m)\n",
        "m = np.multiply(x,y)\n",
        "print(m)\n",
        "print(\"divide\")\n",
        "d = x/y\n",
        "print(d)\n",
        "d = np.divide(x,y)\n",
        "print(d)"
      ],
      "execution_count": 56,
      "outputs": [
        {
          "output_type": "stream",
          "name": "stdout",
          "text": [
            "[[1. 2.]\n",
            " [3. 4.]]\n",
            "mulitply\n",
            "[[ 5. 12.]\n",
            " [21. 32.]]\n",
            "[[ 5. 12.]\n",
            " [21. 32.]]\n",
            "divide\n",
            "[[0.2        0.33333333]\n",
            " [0.42857143 0.5       ]]\n",
            "[[0.2        0.33333333]\n",
            " [0.42857143 0.5       ]]\n"
          ]
        }
      ]
    }
  ]
}