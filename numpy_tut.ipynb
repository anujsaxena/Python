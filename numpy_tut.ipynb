{
  "nbformat": 4,
  "nbformat_minor": 0,
  "metadata": {
    "colab": {
      "name": "numpy_tut.ipynb",
      "provenance": [],
      "collapsed_sections": [],
      "authorship_tag": "ABX9TyORZclNEEJCLhRLnvoKZbZ1",
      "include_colab_link": true
    },
    "kernelspec": {
      "name": "python3",
      "display_name": "Python 3"
    },
    "language_info": {
      "name": "python"
    }
  },
  "cells": [
    {
      "cell_type": "markdown",
      "metadata": {
        "id": "view-in-github",
        "colab_type": "text"
      },
      "source": [
        "<a href=\"https://colab.research.google.com/github/anujsaxena/Python/blob/main/numpy_tut.ipynb\" target=\"_parent\"><img src=\"https://colab.research.google.com/assets/colab-badge.svg\" alt=\"Open In Colab\"/></a>"
      ]
    },
    {
      "cell_type": "markdown",
      "metadata": {
        "id": "SyS22UEKkN9j"
      },
      "source": [
        "# **Numpy**\n",
        "\n",
        "Numpy is a Python package. It stands for 'Numerical Python'. It is a library consisting of multidimensional array objects and a collection of routines for processing of array. \n",
        "\n",
        "Numeric, the ancestor of NumPy, was developed by Jim Hugunin. Another package Numarray was also developed, having some additional functionalities. In 2005, Travis Oliphant created NumPy package by incorporating the features of Num array into Numeric package. There are many contributors to this open source project.\n",
        "\n",
        "Operations using NumPy \n",
        "Using NumPy, a developer can perform the following operations: \n",
        "\n",
        "1.\tMathematical and logical operations on arrays. \n",
        "2.\tFourier transforms and routines for shape manipulation. \n",
        "3.\tOperations related to linear algebra. NumPy has in-built functions for linear algebra and random number generation. \n",
        "\n",
        "# **Syntax**\n",
        "\n",
        "It creates an ndarray from any object exposing array interface, or from any method that returns an array.\n",
        "\n",
        "# **numpy.array(object, dtype=None, copy=True, order=None, subok=False, ndmin=0)**\n",
        "\n",
        "The above constructor takes the following parameters:\n",
        "\n",
        "object: \tAny object exposing the array interface method returns an array, or any (nested) sequence \n",
        "\n",
        "dtype: \tDesired data type of array, optional \n",
        "\n",
        "copy: \tOptional. By default (true), the object is copied \n",
        "\n",
        "order: \tC (row major) or F (column major) or A (any) (default) \n",
        "\n",
        "subok: \tBy default, returned array forced to be a base class array. If true, sub-classes passed through \n",
        "\n",
        "ndimin: \tSpecifies minimum dimensions of resultant array \n",
        "\n"
      ]
    },
    {
      "cell_type": "code",
      "metadata": {
        "colab": {
          "base_uri": "https://localhost:8080/"
        },
        "id": "rmfoJg5roV1h",
        "outputId": "c46c6dc4-e285-4f54-8848-5b42136c5581"
      },
      "source": [
        "import numpy as np\n",
        "a= np.array([1,2,3,4,5,6,7])\n",
        "print(a)\n",
        "print(a[0]) \n",
        "print(a[-1])"
      ],
      "execution_count": null,
      "outputs": [
        {
          "output_type": "stream",
          "name": "stdout",
          "text": [
            "[1 2 3 4 5 6 7]\n",
            "1\n",
            "7\n"
          ]
        }
      ]
    },
    {
      "cell_type": "code",
      "metadata": {
        "colab": {
          "base_uri": "https://localhost:8080/"
        },
        "id": "xs26-izapm1w",
        "outputId": "f9cec504-ab7b-463b-ca48-db486924a38b"
      },
      "source": [
        "#Two dimensional\n",
        "import numpy as np\n",
        "a = np.array([[1, 2], [3, 4]])\n",
        "print(a)\n",
        "print(a[1][0])\n"
      ],
      "execution_count": null,
      "outputs": [
        {
          "output_type": "stream",
          "name": "stdout",
          "text": [
            "[[1 2]\n",
            " [3 4]]\n",
            "3\n"
          ]
        }
      ]
    },
    {
      "cell_type": "code",
      "metadata": {
        "colab": {
          "base_uri": "https://localhost:8080/"
        },
        "id": "5FsEayKhpvkq",
        "outputId": "aaa3e2c8-2ccb-49b2-96ed-5edbcc5a7d85"
      },
      "source": [
        "#Two dimensional\n",
        "a = np.array([[1, 2, 6], [3, 4]])\n",
        "print(a)\n",
        "print(a[1][0])\n"
      ],
      "execution_count": null,
      "outputs": [
        {
          "output_type": "stream",
          "name": "stdout",
          "text": [
            "[list([1, 2, 6]) list([3, 4])]\n",
            "3\n"
          ]
        },
        {
          "output_type": "stream",
          "name": "stderr",
          "text": [
            "/usr/local/lib/python3.7/dist-packages/ipykernel_launcher.py:2: VisibleDeprecationWarning: Creating an ndarray from ragged nested sequences (which is a list-or-tuple of lists-or-tuples-or ndarrays with different lengths or shapes) is deprecated. If you meant to do this, you must specify 'dtype=object' when creating the ndarray\n",
            "  \n"
          ]
        }
      ]
    },
    {
      "cell_type": "code",
      "metadata": {
        "colab": {
          "base_uri": "https://localhost:8080/"
        },
        "id": "3SQHVm3yqCPK",
        "outputId": "99c2b2a1-7de5-451c-96cb-e3b7e8b04201"
      },
      "source": [
        "import numpy as np\n",
        "a=np.array([[1, 2], [3,4],[5,6]], ndmin=2)\n",
        "print(a)\n"
      ],
      "execution_count": null,
      "outputs": [
        {
          "output_type": "stream",
          "name": "stdout",
          "text": [
            "[[1 2]\n",
            " [3 4]\n",
            " [5 6]]\n"
          ]
        }
      ]
    },
    {
      "cell_type": "code",
      "metadata": {
        "colab": {
          "base_uri": "https://localhost:8080/"
        },
        "id": "7PfxEZRGqJaW",
        "outputId": "8339bf7b-1030-4322-ee36-3bb80a76ea47"
      },
      "source": [
        "import numpy as np\n",
        "a=np.array([[1, 2], [3,4],[5,6]])\n",
        "print(a)"
      ],
      "execution_count": null,
      "outputs": [
        {
          "output_type": "stream",
          "name": "stdout",
          "text": [
            "[[1 2]\n",
            " [3 4]\n",
            " [5 6]]\n"
          ]
        }
      ]
    },
    {
      "cell_type": "code",
      "metadata": {
        "colab": {
          "base_uri": "https://localhost:8080/"
        },
        "id": "XsvTtijUqMlj",
        "outputId": "c212cbf1-b9fe-4bf9-cd70-9bd23cc7bd3a"
      },
      "source": [
        "import numpy as np\n",
        "a=np.array([[1, 2, 8], [3,4],[5,6]], ndmin=2)\n",
        "print(a)"
      ],
      "execution_count": null,
      "outputs": [
        {
          "output_type": "stream",
          "name": "stdout",
          "text": [
            "[[list([1, 2, 8]) list([3, 4]) list([5, 6])]]\n"
          ]
        },
        {
          "output_type": "stream",
          "name": "stderr",
          "text": [
            "/usr/local/lib/python3.7/dist-packages/ipykernel_launcher.py:2: VisibleDeprecationWarning: Creating an ndarray from ragged nested sequences (which is a list-or-tuple of lists-or-tuples-or ndarrays with different lengths or shapes) is deprecated. If you meant to do this, you must specify 'dtype=object' when creating the ndarray\n",
            "  \n"
          ]
        }
      ]
    },
    {
      "cell_type": "code",
      "metadata": {
        "colab": {
          "base_uri": "https://localhost:8080/"
        },
        "id": "l4moFCeNqY29",
        "outputId": "ce88a287-1155-4cd3-8c43-76d1e17e50b6"
      },
      "source": [
        "# dtype parameter\n",
        "import numpy as np\n",
        "a = np.array([1, 2, 3], dtype=complex)\n",
        "print(a)"
      ],
      "execution_count": null,
      "outputs": [
        {
          "output_type": "stream",
          "name": "stdout",
          "text": [
            "[1.+0.j 2.+0.j 3.+0.j]\n"
          ]
        }
      ]
    },
    {
      "cell_type": "code",
      "metadata": {
        "colab": {
          "base_uri": "https://localhost:8080/"
        },
        "id": "iLPk-izDqh04",
        "outputId": "de8c3fb0-2591-4a29-ae40-1e4e83922d57"
      },
      "source": [
        "dt = np.dtype([('age',np.int8)])\n",
        "print(dt)\n",
        "a = np.array([(10,),(20,),(30,)], dtype=dt)\n",
        "print(a)\n"
      ],
      "execution_count": null,
      "outputs": [
        {
          "output_type": "stream",
          "name": "stdout",
          "text": [
            "[('age', 'i1')]\n",
            "[(10,) (20,) (30,)]\n"
          ]
        }
      ]
    },
    {
      "cell_type": "code",
      "metadata": {
        "colab": {
          "base_uri": "https://localhost:8080/"
        },
        "id": "s7FdCs0hq1eW",
        "outputId": "46953074-4ce8-447b-bdc4-90fb0d61844f"
      },
      "source": [
        "#reshape array\n",
        "a=np.array([[1,2,3],[4,5,6]])\n",
        "print(a)\n",
        "print(np.shape(a))\n",
        "a.shape=(3,2)\n",
        "print('\\nSecond\\n')\n",
        "print(a)"
      ],
      "execution_count": null,
      "outputs": [
        {
          "output_type": "stream",
          "name": "stdout",
          "text": [
            "[[1 2 3]\n",
            " [4 5 6]]\n",
            "(2, 3)\n",
            "\n",
            "Second\n",
            "\n",
            "[[1 2]\n",
            " [3 4]\n",
            " [5 6]]\n"
          ]
        }
      ]
    },
    {
      "cell_type": "code",
      "metadata": {
        "colab": {
          "base_uri": "https://localhost:8080/"
        },
        "id": "dlDV92NArL1I",
        "outputId": "525dd059-61c6-4c4c-accc-8ac0f77a156f"
      },
      "source": [
        "a.shape=(1,6)\n",
        "print('\\nSecond\\n')\n",
        "print(a)"
      ],
      "execution_count": null,
      "outputs": [
        {
          "output_type": "stream",
          "name": "stdout",
          "text": [
            "\n",
            "Second\n",
            "\n",
            "[[1 2 3 4 5 6]]\n"
          ]
        }
      ]
    },
    {
      "cell_type": "code",
      "metadata": {
        "colab": {
          "base_uri": "https://localhost:8080/"
        },
        "id": "3UpCOHoarR8d",
        "outputId": "f64eab00-c953-4d5e-de53-5ad3a9df2251"
      },
      "source": [
        "a.shape=(6,1)\n",
        "print('\\nSecond\\n')\n",
        "print(a)"
      ],
      "execution_count": null,
      "outputs": [
        {
          "output_type": "stream",
          "name": "stdout",
          "text": [
            "\n",
            "Second\n",
            "\n",
            "[[1]\n",
            " [2]\n",
            " [3]\n",
            " [4]\n",
            " [5]\n",
            " [6]]\n"
          ]
        }
      ]
    },
    {
      "cell_type": "code",
      "metadata": {
        "colab": {
          "base_uri": "https://localhost:8080/"
        },
        "id": "ko3EyPN6rY57",
        "outputId": "9588b31b-a7d9-4f8f-8cf8-2a1877fbc039"
      },
      "source": [
        "print(np.shape(a))"
      ],
      "execution_count": null,
      "outputs": [
        {
          "output_type": "stream",
          "name": "stdout",
          "text": [
            "(6, 1)\n"
          ]
        }
      ]
    },
    {
      "cell_type": "code",
      "metadata": {
        "colab": {
          "base_uri": "https://localhost:8080/"
        },
        "id": "KorkCwIxre6b",
        "outputId": "7a8aa57a-91e9-4388-d7bf-a2ca8c05794d"
      },
      "source": [
        "a = np.arange(24)\n",
        "print(a)"
      ],
      "execution_count": null,
      "outputs": [
        {
          "output_type": "stream",
          "name": "stdout",
          "text": [
            "[ 0  1  2  3  4  5  6  7  8  9 10 11 12 13 14 15 16 17 18 19 20 21 22 23]\n"
          ]
        }
      ]
    },
    {
      "cell_type": "code",
      "metadata": {
        "colab": {
          "base_uri": "https://localhost:8080/"
        },
        "id": "y-sJ7wBHrr6T",
        "outputId": "02da9e5d-5b96-4c07-a6c3-84d028e79ac2"
      },
      "source": [
        "print(a.ndim)\n",
        "print(np.shape(a))"
      ],
      "execution_count": null,
      "outputs": [
        {
          "output_type": "stream",
          "name": "stdout",
          "text": [
            "1\n",
            "(24,)\n"
          ]
        }
      ]
    },
    {
      "cell_type": "code",
      "metadata": {
        "colab": {
          "base_uri": "https://localhost:8080/"
        },
        "id": "NpWeIfrXr5tV",
        "outputId": "44dd0cc5-b547-4973-e598-e0c6a5b652d4"
      },
      "source": [
        "print('second')\n",
        "# now reshape it\n",
        "b = a.reshape(2,4,3)\n",
        "print(b)"
      ],
      "execution_count": null,
      "outputs": [
        {
          "output_type": "stream",
          "name": "stdout",
          "text": [
            "second\n",
            "[[[ 0  1  2]\n",
            "  [ 3  4  5]\n",
            "  [ 6  7  8]\n",
            "  [ 9 10 11]]\n",
            "\n",
            " [[12 13 14]\n",
            "  [15 16 17]\n",
            "  [18 19 20]\n",
            "  [21 22 23]]]\n"
          ]
        }
      ]
    },
    {
      "cell_type": "code",
      "metadata": {
        "colab": {
          "base_uri": "https://localhost:8080/"
        },
        "id": "4exbyGIYsVxN",
        "outputId": "9f37827c-bdaf-4fa5-ff24-20c6033c9bd2"
      },
      "source": [
        "print('second')\n",
        "# now reshape it\n",
        "b = a.reshape(2,3,4)\n",
        "print(b)"
      ],
      "execution_count": null,
      "outputs": [
        {
          "output_type": "stream",
          "name": "stdout",
          "text": [
            "second\n",
            "[[[ 0  1  2  3]\n",
            "  [ 4  5  6  7]\n",
            "  [ 8  9 10 11]]\n",
            "\n",
            " [[12 13 14 15]\n",
            "  [16 17 18 19]\n",
            "  [20 21 22 23]]]\n"
          ]
        }
      ]
    },
    {
      "cell_type": "code",
      "metadata": {
        "colab": {
          "base_uri": "https://localhost:8080/"
        },
        "id": "bcpAnwIysa8l",
        "outputId": "ac1de52c-8ce4-4b47-f8e6-23dfdb69dbd2"
      },
      "source": [
        "print('second')\n",
        "# now reshape it\n",
        "b = a.reshape(3,2,4)\n",
        "print(b)"
      ],
      "execution_count": null,
      "outputs": [
        {
          "output_type": "stream",
          "name": "stdout",
          "text": [
            "second\n",
            "[[[ 0  1  2  3]\n",
            "  [ 4  5  6  7]]\n",
            "\n",
            " [[ 8  9 10 11]\n",
            "  [12 13 14 15]]\n",
            "\n",
            " [[16 17 18 19]\n",
            "  [20 21 22 23]]]\n"
          ]
        }
      ]
    },
    {
      "cell_type": "code",
      "metadata": {
        "colab": {
          "base_uri": "https://localhost:8080/"
        },
        "id": "4-YqQ7rNs0qB",
        "outputId": "292a0c05-7bbb-4579-a786-b22c99dd11b8"
      },
      "source": [
        "\n",
        "a = np.empty([4,2], dtype=float)\n",
        "print(a)\n"
      ],
      "execution_count": null,
      "outputs": [
        {
          "output_type": "stream",
          "name": "stdout",
          "text": [
            "[[4.67299614e-310 1.38338381e-322]\n",
            " [2.12199579e-314 3.44620186e-085]\n",
            " [3.63460077e+185 1.57230356e+108]\n",
            " [8.40995713e-315 0.00000000e+000]]\n"
          ]
        }
      ]
    },
    {
      "cell_type": "code",
      "metadata": {
        "colab": {
          "base_uri": "https://localhost:8080/"
        },
        "id": "ra-72ugRs72Z",
        "outputId": "b5ab98d5-0131-48ac-b368-1d9662a20546"
      },
      "source": [
        "# Create array having zero values \n",
        "a= np.zeros(5, dtype=int)\n",
        "print(a)\n"
      ],
      "execution_count": null,
      "outputs": [
        {
          "output_type": "stream",
          "name": "stdout",
          "text": [
            "[0 0 0 0 0]\n"
          ]
        }
      ]
    },
    {
      "cell_type": "code",
      "metadata": {
        "colab": {
          "base_uri": "https://localhost:8080/"
        },
        "id": "nSBXaLJ0tGX7",
        "outputId": "65e66786-e2d5-4875-e8dd-4a5112ad4156"
      },
      "source": [
        "# Create array having zero values \n",
        "a= np.zeros(5, dtype=float)\n",
        "print(a)"
      ],
      "execution_count": null,
      "outputs": [
        {
          "output_type": "stream",
          "name": "stdout",
          "text": [
            "[0. 0. 0. 0. 0.]\n"
          ]
        }
      ]
    },
    {
      "cell_type": "code",
      "metadata": {
        "colab": {
          "base_uri": "https://localhost:8080/"
        },
        "id": "__1IEI1WtN9T",
        "outputId": "fceb161f-5810-47cb-f04f-ac8b32285830"
      },
      "source": [
        "import numpy as np\n",
        "x = np.zeros((3,4), dtype=[('x', 'i4'), ('y', 'i4')])\n",
        "print(x)"
      ],
      "execution_count": null,
      "outputs": [
        {
          "output_type": "stream",
          "name": "stdout",
          "text": [
            "[[(0, 0) (0, 0) (0, 0) (0, 0)]\n",
            " [(0, 0) (0, 0) (0, 0) (0, 0)]\n",
            " [(0, 0) (0, 0) (0, 0) (0, 0)]]\n"
          ]
        }
      ]
    },
    {
      "cell_type": "code",
      "metadata": {
        "colab": {
          "base_uri": "https://localhost:8080/"
        },
        "id": "pqWaJBAGtvjV",
        "outputId": "fcbf2ed2-2e97-4f04-a640-a103ab2071fb"
      },
      "source": [
        "#Array of ones\n",
        "x = np.ones((2,2), dtype=int)\n",
        "print(x)"
      ],
      "execution_count": null,
      "outputs": [
        {
          "output_type": "stream",
          "name": "stdout",
          "text": [
            "[[1 1]\n",
            " [1 1]]\n"
          ]
        }
      ]
    },
    {
      "cell_type": "code",
      "metadata": {
        "colab": {
          "base_uri": "https://localhost:8080/"
        },
        "id": "lCzZQM-uuD55",
        "outputId": "75be1a8d-0fe9-474a-e83c-4d331056139d"
      },
      "source": [
        "import numpy as np\n",
        "x = [1,2,3]\n",
        "print(type(x))\n",
        "a = np.asarray(x)\n",
        "print(a)\n",
        "print(type(a))"
      ],
      "execution_count": null,
      "outputs": [
        {
          "output_type": "stream",
          "name": "stdout",
          "text": [
            "<class 'list'>\n",
            "[1 2 3]\n",
            "<class 'numpy.ndarray'>\n"
          ]
        }
      ]
    },
    {
      "cell_type": "code",
      "metadata": {
        "colab": {
          "base_uri": "https://localhost:8080/"
        },
        "id": "lpeHIeaKuOm0",
        "outputId": "140f95a8-e1b2-444f-a5b8-09500f0d2fbb"
      },
      "source": [
        "x = [(1,2,3),(4,5)]\n",
        "print(x)\n",
        "print(type(x))\n",
        "a = np.asarray(x,dtype=object)\n",
        "print(a)\n",
        "print(type(a))"
      ],
      "execution_count": null,
      "outputs": [
        {
          "output_type": "stream",
          "name": "stdout",
          "text": [
            "[(1, 2, 3), (4, 5)]\n",
            "<class 'list'>\n",
            "[(1, 2, 3) (4, 5)]\n",
            "<class 'numpy.ndarray'>\n"
          ]
        }
      ]
    },
    {
      "cell_type": "code",
      "metadata": {
        "colab": {
          "base_uri": "https://localhost:8080/"
        },
        "id": "pJiQfiy3uqX-",
        "outputId": "a38f39ca-47d7-4a15-c972-5d354597b9ca"
      },
      "source": [
        "x= np.arange(10, dtype=int)\n",
        "print(x)\n"
      ],
      "execution_count": null,
      "outputs": [
        {
          "output_type": "stream",
          "name": "stdout",
          "text": [
            "[0 1 2 3 4 5 6 7 8 9]\n"
          ]
        }
      ]
    },
    {
      "cell_type": "code",
      "metadata": {
        "colab": {
          "base_uri": "https://localhost:8080/"
        },
        "id": "RyLlILMFuzTa",
        "outputId": "db457107-5364-4a7d-c588-47072e187d6c"
      },
      "source": [
        "a = np.array([[1, 2, 3],[4, 5, 6]], float)\n",
        "print(a)\n",
        "a=np.zeros((2,3))\n",
        "print(\"zeros\")\n",
        "print(a)\n",
        "a=np.identity(3)\n",
        "print(\"identity\")\n",
        "print(a)\n",
        "a=np.arange(10)\n",
        "print(\"arange\")\n",
        "print(a)\n",
        "print(\"arange (rows and columns)\")\n",
        "a=np.arange(2,10)\n",
        "print(a)\n",
        "print(\"arange\")\n",
        "a=np.arange(2,3,0.1)\n",
        "print(a)\n",
        "print(\"linspace\")\n",
        "a=np.linspace(1., 4., 6)\n",
        "print(a)\n",
        "np.indices((3,3))\n",
        "print(\"indices\")\n",
        "print(a)\n"
      ],
      "execution_count": null,
      "outputs": [
        {
          "output_type": "stream",
          "name": "stdout",
          "text": [
            "[[1. 2. 3.]\n",
            " [4. 5. 6.]]\n",
            "zeros\n",
            "[[0. 0. 0.]\n",
            " [0. 0. 0.]]\n",
            "identity\n",
            "[[1. 0. 0.]\n",
            " [0. 1. 0.]\n",
            " [0. 0. 1.]]\n",
            "arange\n",
            "[0 1 2 3 4 5 6 7 8 9]\n",
            "arange (rows and columns)\n",
            "[2 3 4 5 6 7 8 9]\n",
            "arange\n",
            "[2.  2.1 2.2 2.3 2.4 2.5 2.6 2.7 2.8 2.9]\n",
            "linspace\n",
            "[1.  1.6 2.2 2.8 3.4 4. ]\n",
            "indices\n",
            "[1.  1.6 2.2 2.8 3.4 4. ]\n"
          ]
        }
      ]
    },
    {
      "cell_type": "code",
      "metadata": {
        "colab": {
          "base_uri": "https://localhost:8080/"
        },
        "id": "cK253Fu3vvlu",
        "outputId": "367b1257-16f7-4eaa-a214-dc5a80146e98"
      },
      "source": [
        "c = np.full_like((3,3), 7)\n",
        "print(c)\n",
        "print(type(c))"
      ],
      "execution_count": null,
      "outputs": [
        {
          "output_type": "stream",
          "name": "stdout",
          "text": [
            "[7 7]\n",
            "<class 'numpy.ndarray'>\n"
          ]
        }
      ]
    },
    {
      "cell_type": "code",
      "metadata": {
        "colab": {
          "base_uri": "https://localhost:8080/"
        },
        "id": "nVjtNiG7wb5H",
        "outputId": "2881ea94-e9dc-4bd4-96f2-8f17be127a91"
      },
      "source": [
        "e = np.eye(2)\n",
        "print(e)  "
      ],
      "execution_count": null,
      "outputs": [
        {
          "output_type": "stream",
          "name": "stdout",
          "text": [
            "[[1. 0.]\n",
            " [0. 1.]]\n"
          ]
        }
      ]
    },
    {
      "cell_type": "code",
      "metadata": {
        "colab": {
          "base_uri": "https://localhost:8080/"
        },
        "id": "C-9ErPrgwoBD",
        "outputId": "9d555f46-dde8-49ae-974b-1e1e40697fe3"
      },
      "source": [
        "a = np.array([[1,2,3,4], [5,6,7,8], [9,10,11,12]])\n",
        "print(a)"
      ],
      "execution_count": null,
      "outputs": [
        {
          "output_type": "stream",
          "name": "stdout",
          "text": [
            "[[ 1  2  3  4]\n",
            " [ 5  6  7  8]\n",
            " [ 9 10 11 12]]\n"
          ]
        }
      ]
    },
    {
      "cell_type": "code",
      "metadata": {
        "colab": {
          "base_uri": "https://localhost:8080/"
        },
        "id": "FA7e8eqpwq9c",
        "outputId": "dcf15dc5-70de-4798-d069-6f21877e7814"
      },
      "source": [
        "b =a[:2,1:3]\n",
        "print(b)"
      ],
      "execution_count": null,
      "outputs": [
        {
          "output_type": "stream",
          "name": "stdout",
          "text": [
            "[[2 3]\n",
            " [6 7]]\n"
          ]
        }
      ]
    },
    {
      "cell_type": "code",
      "metadata": {
        "colab": {
          "base_uri": "https://localhost:8080/"
        },
        "id": "i66oir9qxFJ3",
        "outputId": "eb9e210d-b6cf-445d-c9ef-f82925da594e"
      },
      "source": [
        "b[0,0]=7\n",
        "print(b)"
      ],
      "execution_count": null,
      "outputs": [
        {
          "output_type": "stream",
          "name": "stdout",
          "text": [
            "[[7 3]\n",
            " [6 7]]\n"
          ]
        }
      ]
    },
    {
      "cell_type": "code",
      "metadata": {
        "colab": {
          "base_uri": "https://localhost:8080/"
        },
        "id": "1xvBkwPExE4J",
        "outputId": "29f10e33-fbae-4bcd-f51a-3ebca9c3e482"
      },
      "source": [
        "a = np.array([[1,2,3], [4,5,6], [7,8,9], [10, 11, 12]])\n",
        "print(a)"
      ],
      "execution_count": null,
      "outputs": [
        {
          "output_type": "stream",
          "name": "stdout",
          "text": [
            "[[ 1  2  3]\n",
            " [ 4  5  6]\n",
            " [ 7  8  9]\n",
            " [10 11 12]]\n"
          ]
        }
      ]
    },
    {
      "cell_type": "code",
      "metadata": {
        "colab": {
          "base_uri": "https://localhost:8080/"
        },
        "id": "ZCUdwxkZxhdI",
        "outputId": "c79fef25-a566-4e41-8d6f-728c3d4297a0"
      },
      "source": [
        "b = np.array([0, 2, 0, 1])\n",
        "print(b)"
      ],
      "execution_count": null,
      "outputs": [
        {
          "output_type": "stream",
          "name": "stdout",
          "text": [
            "[0 2 0 1]\n"
          ]
        }
      ]
    },
    {
      "cell_type": "code",
      "metadata": {
        "colab": {
          "base_uri": "https://localhost:8080/"
        },
        "id": "zgWM0PDGxr6n",
        "outputId": "3f144d99-ecfc-4c43-8c03-bbcd15abcb5f"
      },
      "source": [
        "c = np.arange(4)\n",
        "print(c)\n",
        "print(a[np.arange(4), b])"
      ],
      "execution_count": null,
      "outputs": [
        {
          "output_type": "stream",
          "name": "stdout",
          "text": [
            "[0 1 2 3]\n",
            "[ 1  6  7 11]\n"
          ]
        }
      ]
    },
    {
      "cell_type": "code",
      "metadata": {
        "colab": {
          "base_uri": "https://localhost:8080/"
        },
        "id": "48De2zk4ymdV",
        "outputId": "eb3176c8-7918-4501-c1bd-ffd92ac80894"
      },
      "source": [
        "a[np.arange(4), b] += 10\n",
        "print(a)\n"
      ],
      "execution_count": null,
      "outputs": [
        {
          "output_type": "stream",
          "name": "stdout",
          "text": [
            "[[21  2  3]\n",
            " [ 4  5 26]\n",
            " [27  8  9]\n",
            " [10 31 12]]\n"
          ]
        }
      ]
    },
    {
      "cell_type": "code",
      "metadata": {
        "colab": {
          "base_uri": "https://localhost:8080/"
        },
        "id": "7D5UTazXy_mY",
        "outputId": "9e9f332b-0770-47a8-ad2d-42e2ad9d4773"
      },
      "source": [
        "print(a)\n",
        "d = (a>2)\n",
        "print(d)"
      ],
      "execution_count": null,
      "outputs": [
        {
          "output_type": "stream",
          "name": "stdout",
          "text": [
            "[[21  2  3]\n",
            " [ 4  5 26]\n",
            " [27  8  9]\n",
            " [10 31 12]]\n",
            "[[ True False  True]\n",
            " [ True  True  True]\n",
            " [ True  True  True]\n",
            " [ True  True  True]]\n"
          ]
        }
      ]
    },
    {
      "cell_type": "markdown",
      "metadata": {
        "id": "85w2qQvNzZwz"
      },
      "source": [
        "# **Mathematical operations**"
      ]
    },
    {
      "cell_type": "code",
      "metadata": {
        "colab": {
          "base_uri": "https://localhost:8080/"
        },
        "id": "USPphv7CzZFa",
        "outputId": "137b75ce-9509-4f86-8180-e5bb218e0a98"
      },
      "source": [
        "x = np.array([[1,2],[3,4]], dtype=np.float64)\n",
        "y = np.array([[5,6],[7,8]], dtype=np.float64)\n",
        "print(x)\n",
        "print(y)"
      ],
      "execution_count": null,
      "outputs": [
        {
          "output_type": "stream",
          "name": "stdout",
          "text": [
            "[[1. 2.]\n",
            " [3. 4.]]\n",
            "[[5. 6.]\n",
            " [7. 8.]]\n"
          ]
        }
      ]
    },
    {
      "cell_type": "code",
      "metadata": {
        "colab": {
          "base_uri": "https://localhost:8080/"
        },
        "id": "cwIVeLo7z0xV",
        "outputId": "17b61427-2678-4ace-dbb2-decc6b97b9f5"
      },
      "source": [
        "a =x+y\n",
        "print(a)"
      ],
      "execution_count": null,
      "outputs": [
        {
          "output_type": "stream",
          "name": "stdout",
          "text": [
            "[[ 6.  8.]\n",
            " [10. 12.]]\n"
          ]
        }
      ]
    },
    {
      "cell_type": "code",
      "metadata": {
        "colab": {
          "base_uri": "https://localhost:8080/"
        },
        "id": "EdVOygqv0Ea0",
        "outputId": "47266e39-a949-4fe7-bea9-84f2c2207f74"
      },
      "source": [
        "a = np.add(x,y)\n",
        "print(a)"
      ],
      "execution_count": null,
      "outputs": [
        {
          "output_type": "stream",
          "name": "stdout",
          "text": [
            "[[ 6.  8.]\n",
            " [10. 12.]]\n"
          ]
        }
      ]
    },
    {
      "cell_type": "code",
      "metadata": {
        "colab": {
          "base_uri": "https://localhost:8080/"
        },
        "id": "-9qBd51Q0SRy",
        "outputId": "77fac63a-4ce7-44af-b184-4d6fc5b00c8b"
      },
      "source": [
        "s = x-y\n",
        "print(x)\n",
        "s = np.subtract(x,y)\n",
        "\n",
        "print(\"mulitply\")\n",
        "m = x*y\n",
        "print(m)\n",
        "m = np.multiply(x,y)\n",
        "print(m)\n",
        "print(\"divide\")\n",
        "d = x/y\n",
        "print(d)\n",
        "d = np.divide(x,y)\n",
        "print(d)"
      ],
      "execution_count": null,
      "outputs": [
        {
          "output_type": "stream",
          "name": "stdout",
          "text": [
            "[[1. 2.]\n",
            " [3. 4.]]\n",
            "mulitply\n",
            "[[ 5. 12.]\n",
            " [21. 32.]]\n",
            "[[ 5. 12.]\n",
            " [21. 32.]]\n",
            "divide\n",
            "[[0.2        0.33333333]\n",
            " [0.42857143 0.5       ]]\n",
            "[[0.2        0.33333333]\n",
            " [0.42857143 0.5       ]]\n"
          ]
        }
      ]
    },
    {
      "cell_type": "markdown",
      "metadata": {
        "id": "2bZ2Yrmv18jV"
      },
      "source": [
        "# **asarray**\n",
        "\n",
        "numpy.asarray(x, dtype = None, order = None)"
      ]
    },
    {
      "cell_type": "code",
      "metadata": {
        "id": "U6Ug9Ttd2OEb",
        "colab": {
          "base_uri": "https://localhost:8080/"
        },
        "outputId": "2c0e50b0-ba00-4e92-9de6-bded548c98a3"
      },
      "source": [
        "import numpy as np\n",
        "x = [4,2,1,6,7,8]\n",
        "a = np.asarray(x)\n",
        "print(a)"
      ],
      "execution_count": null,
      "outputs": [
        {
          "output_type": "stream",
          "name": "stdout",
          "text": [
            "[4 2 1 6 7 8]\n"
          ]
        }
      ]
    },
    {
      "cell_type": "code",
      "metadata": {
        "colab": {
          "base_uri": "https://localhost:8080/"
        },
        "id": "AzGzyvBp4mjq",
        "outputId": "f02b6efb-9eef-4f3b-ccf6-e57f3420c839"
      },
      "source": [
        "print(type(a))"
      ],
      "execution_count": null,
      "outputs": [
        {
          "output_type": "stream",
          "name": "stdout",
          "text": [
            "<class 'numpy.ndarray'>\n"
          ]
        }
      ]
    },
    {
      "cell_type": "code",
      "metadata": {
        "colab": {
          "base_uri": "https://localhost:8080/"
        },
        "id": "MxEDhzmk4rRu",
        "outputId": "b7d34741-d87c-48b3-97fa-a4ca8a871ba1"
      },
      "source": [
        "a = np.asarray(x, dtype=float)\n",
        "print(a)"
      ],
      "execution_count": null,
      "outputs": [
        {
          "output_type": "stream",
          "name": "stdout",
          "text": [
            "[4. 2. 1. 6. 7. 8.]\n"
          ]
        }
      ]
    },
    {
      "cell_type": "code",
      "metadata": {
        "colab": {
          "base_uri": "https://localhost:8080/"
        },
        "id": "j4xBq8w444Ed",
        "outputId": "f4525c16-72f3-4d8c-bb16-57c375b86958"
      },
      "source": [
        "x =[(2,3,4),(3,4)]\n",
        "a = np.asarray(x,dtype=object)\n",
        "print(x)"
      ],
      "execution_count": null,
      "outputs": [
        {
          "output_type": "stream",
          "name": "stdout",
          "text": [
            "[(2, 3, 4), (3, 4)]\n"
          ]
        }
      ]
    },
    {
      "cell_type": "markdown",
      "metadata": {
        "id": "R1NI_AXU5Tgq"
      },
      "source": [
        "# **frombuffer**\n",
        "\n",
        "numpy.frombuffer(x, dtype = float, count = -1, offset = 0)"
      ]
    },
    {
      "cell_type": "code",
      "metadata": {
        "colab": {
          "base_uri": "https://localhost:8080/"
        },
        "id": "gNn0pBtz5OfJ",
        "outputId": "24af1998-5140-494a-e036-b2b851b2019e"
      },
      "source": [
        "import numpy as np\n",
        "s = b'Welcome to Python' \n",
        "a = np.frombuffer(s, dtype = 'S1') \n",
        "print(a)"
      ],
      "execution_count": null,
      "outputs": [
        {
          "output_type": "stream",
          "name": "stdout",
          "text": [
            "[b'W' b'e' b'l' b'c' b'o' b'm' b'e' b' ' b't' b'o' b' ' b'P' b'y' b't'\n",
            " b'h' b'o' b'n']\n"
          ]
        }
      ]
    },
    {
      "cell_type": "markdown",
      "metadata": {
        "id": "uQQilMlHMTot"
      },
      "source": [
        "# **Prefix b**\n",
        "\n",
        "Prefix b in python 3.x stand for bytes. The main difference between bytes and string is that bytes is machine redable and string is human readable and eventually string is also converted into bytes for processing. When we create a bytes datatype object in python that is directly stored on the disk while a string object is first encoded and then stored on disk."
      ]
    },
    {
      "cell_type": "code",
      "metadata": {
        "colab": {
          "base_uri": "https://localhost:8080/"
        },
        "id": "JAcgGgVWnUYQ",
        "outputId": "301bafc9-35f6-4821-d38d-fe8ec9a692cd"
      },
      "source": [
        "s = b'Welcome to Python ' \n",
        "a = np.frombuffer(s, dtype = 'S2') \n",
        "print(a)"
      ],
      "execution_count": null,
      "outputs": [
        {
          "output_type": "stream",
          "name": "stdout",
          "text": [
            "[b'We' b'lc' b'om' b'e ' b'to' b' P' b'yt' b'ho' b'n ']\n"
          ]
        }
      ]
    },
    {
      "cell_type": "markdown",
      "metadata": {
        "id": "ieC6sNXjnjDd"
      },
      "source": [
        "# **S1/S2**\n",
        "\n",
        "S1 and S2 in the above two examples represent data type descriptors. S1 means that array holds strings of lenght one and S2 means array holds strings of lenght 2. One should note that the lenght is taken in multiple of the number given with S. This means that the array should be exact multiple of the lenght given. If we give lenght 2 then the array should be either 4,6,8,10 that is multiple of 2.  "
      ]
    },
    {
      "cell_type": "code",
      "metadata": {
        "colab": {
          "base_uri": "https://localhost:8080/",
          "height": 201
        },
        "id": "W933HZ_bofnR",
        "outputId": "a0b57a81-cc60-4927-8f9a-a898b229e824"
      },
      "source": [
        "s = b'Welcome to Python ' \n",
        "a = np.frombuffer(s, dtype = 'S4') \n",
        "print(a)"
      ],
      "execution_count": null,
      "outputs": [
        {
          "output_type": "error",
          "ename": "ValueError",
          "evalue": "ignored",
          "traceback": [
            "\u001b[0;31m---------------------------------------------------------------------------\u001b[0m",
            "\u001b[0;31mValueError\u001b[0m                                Traceback (most recent call last)",
            "\u001b[0;32m<ipython-input-5-2247cea6ffb2>\u001b[0m in \u001b[0;36m<module>\u001b[0;34m()\u001b[0m\n\u001b[1;32m      1\u001b[0m \u001b[0ms\u001b[0m \u001b[0;34m=\u001b[0m \u001b[0;34mb'Welcome to Python '\u001b[0m\u001b[0;34m\u001b[0m\u001b[0;34m\u001b[0m\u001b[0m\n\u001b[0;32m----> 2\u001b[0;31m \u001b[0ma\u001b[0m \u001b[0;34m=\u001b[0m \u001b[0mnp\u001b[0m\u001b[0;34m.\u001b[0m\u001b[0mfrombuffer\u001b[0m\u001b[0;34m(\u001b[0m\u001b[0ms\u001b[0m\u001b[0;34m,\u001b[0m \u001b[0mdtype\u001b[0m \u001b[0;34m=\u001b[0m \u001b[0;34m'S4'\u001b[0m\u001b[0;34m)\u001b[0m\u001b[0;34m\u001b[0m\u001b[0;34m\u001b[0m\u001b[0m\n\u001b[0m\u001b[1;32m      3\u001b[0m \u001b[0mprint\u001b[0m\u001b[0;34m(\u001b[0m\u001b[0ma\u001b[0m\u001b[0;34m)\u001b[0m\u001b[0;34m\u001b[0m\u001b[0;34m\u001b[0m\u001b[0m\n",
            "\u001b[0;31mValueError\u001b[0m: buffer size must be a multiple of element size"
          ]
        }
      ]
    },
    {
      "cell_type": "markdown",
      "metadata": {
        "id": "sza_eHvisAlA"
      },
      "source": [
        "The above example would give an error as the given string is not a multiple of 4"
      ]
    },
    {
      "cell_type": "code",
      "metadata": {
        "colab": {
          "base_uri": "https://localhost:8080/"
        },
        "id": "Nsnq12dDsKGJ",
        "outputId": "db6f0828-5f55-4c0e-db6c-9ee7994a75bb"
      },
      "source": [
        "s = b'We love pythons ' \n",
        "print(len(s))\n",
        "a = np.frombuffer(s, dtype = 'S4') \n",
        "print(a)"
      ],
      "execution_count": null,
      "outputs": [
        {
          "output_type": "stream",
          "name": "stdout",
          "text": [
            "16\n",
            "[b'We l' b'ove ' b'pyth' b'ons ']\n"
          ]
        }
      ]
    },
    {
      "cell_type": "code",
      "metadata": {
        "colab": {
          "base_uri": "https://localhost:8080/"
        },
        "id": "ARsEFcah7TCb",
        "outputId": "e8b7446c-6ed6-412e-b424-51be07acd4a9"
      },
      "source": [
        "a=np.frombuffer(b'\\x01\\x02', dtype=np.uint8)\n",
        "print(a)"
      ],
      "execution_count": null,
      "outputs": [
        {
          "output_type": "stream",
          "name": "stdout",
          "text": [
            "[1 2]\n"
          ]
        }
      ]
    },
    {
      "cell_type": "code",
      "metadata": {
        "colab": {
          "base_uri": "https://localhost:8080/"
        },
        "id": "v_IFF_eK7hTo",
        "outputId": "2c87b630-f911-4715-e4a8-5a58725e42ab"
      },
      "source": [
        "a=np.frombuffer(b'\\x01\\x02\\x03\\x04\\x05', dtype=np.uint8, count=3)\n",
        "print(a)"
      ],
      "execution_count": null,
      "outputs": [
        {
          "output_type": "stream",
          "name": "stdout",
          "text": [
            "[1 2 3]\n"
          ]
        }
      ]
    },
    {
      "cell_type": "code",
      "metadata": {
        "colab": {
          "base_uri": "https://localhost:8080/"
        },
        "id": "PDBjeI8N7s06",
        "outputId": "38949e77-0f98-4625-e3e1-21503797d13d"
      },
      "source": [
        "a=np.frombuffer(b'\\x65\\x66\\x67\\x68\\x69', dtype=np.uint8, count=5)\n",
        "print(a)"
      ],
      "execution_count": null,
      "outputs": [
        {
          "output_type": "stream",
          "name": "stdout",
          "text": [
            "[101 102 103 104 105]\n"
          ]
        }
      ]
    },
    {
      "cell_type": "code",
      "metadata": {
        "colab": {
          "base_uri": "https://localhost:8080/",
          "height": 183
        },
        "id": "5bpX6iQe7z-Q",
        "outputId": "e14e1b72-0a36-4837-c4c9-ad350fa63cdf"
      },
      "source": [
        "a=np.frombuffer(b'\\x01\\x02\\x03\\x04\\x05', dtype=np.uint8, count=6)\n",
        "print(a)"
      ],
      "execution_count": null,
      "outputs": [
        {
          "output_type": "error",
          "ename": "ValueError",
          "evalue": "ignored",
          "traceback": [
            "\u001b[0;31m---------------------------------------------------------------------------\u001b[0m",
            "\u001b[0;31mValueError\u001b[0m                                Traceback (most recent call last)",
            "\u001b[0;32m<ipython-input-20-bb10a11d493a>\u001b[0m in \u001b[0;36m<module>\u001b[0;34m()\u001b[0m\n\u001b[0;32m----> 1\u001b[0;31m \u001b[0ma\u001b[0m\u001b[0;34m=\u001b[0m\u001b[0mnp\u001b[0m\u001b[0;34m.\u001b[0m\u001b[0mfrombuffer\u001b[0m\u001b[0;34m(\u001b[0m\u001b[0;34mb'\\x01\\x02\\x03\\x04\\x05'\u001b[0m\u001b[0;34m,\u001b[0m \u001b[0mdtype\u001b[0m\u001b[0;34m=\u001b[0m\u001b[0mnp\u001b[0m\u001b[0;34m.\u001b[0m\u001b[0muint8\u001b[0m\u001b[0;34m,\u001b[0m \u001b[0mcount\u001b[0m\u001b[0;34m=\u001b[0m\u001b[0;36m6\u001b[0m\u001b[0;34m)\u001b[0m\u001b[0;34m\u001b[0m\u001b[0;34m\u001b[0m\u001b[0m\n\u001b[0m\u001b[1;32m      2\u001b[0m \u001b[0mprint\u001b[0m\u001b[0;34m(\u001b[0m\u001b[0ma\u001b[0m\u001b[0;34m)\u001b[0m\u001b[0;34m\u001b[0m\u001b[0;34m\u001b[0m\u001b[0m\n",
            "\u001b[0;31mValueError\u001b[0m: buffer is smaller than requested size"
          ]
        }
      ]
    },
    {
      "cell_type": "markdown",
      "metadata": {
        "id": "3GkSze1g8MAg"
      },
      "source": [
        "# **fromiter**\n",
        "\n",
        "numpy.fromiter(iterable, dtype, count = -1)"
      ]
    },
    {
      "cell_type": "code",
      "metadata": {
        "colab": {
          "base_uri": "https://localhost:8080/"
        },
        "id": "_YTZIjcz77zl",
        "outputId": "3d91d863-f4ab-4579-cbad-e7a3898ef1a1"
      },
      "source": [
        "l= range(8)\n",
        "a = np.fromiter(l, dtype='int')\n",
        "print(a)"
      ],
      "execution_count": null,
      "outputs": [
        {
          "output_type": "stream",
          "name": "stdout",
          "text": [
            "[0 1 2 3 4 5 6 7]\n"
          ]
        }
      ]
    },
    {
      "cell_type": "code",
      "metadata": {
        "colab": {
          "base_uri": "https://localhost:8080/"
        },
        "id": "Tm0D5YPe8swj",
        "outputId": "0c8461be-3508-49a2-ff7c-7d219fde9a00"
      },
      "source": [
        "l = range(8)\n",
        "i = iter(l)\n",
        "print(i)\n",
        "a = np.fromiter(i, dtype='float')\n",
        "print(a)"
      ],
      "execution_count": null,
      "outputs": [
        {
          "output_type": "stream",
          "name": "stdout",
          "text": [
            "<range_iterator object at 0x7ff3a4677120>\n",
            "[0. 1. 2. 3. 4. 5. 6. 7.]\n"
          ]
        }
      ]
    },
    {
      "cell_type": "markdown",
      "metadata": {
        "id": "pXibEyv19S49"
      },
      "source": [
        "# **Broadcasting**"
      ]
    },
    {
      "cell_type": "code",
      "metadata": {
        "colab": {
          "base_uri": "https://localhost:8080/"
        },
        "id": "vn7evPc89H04",
        "outputId": "65ede537-28b8-4c20-8c05-6bfc59485f28"
      },
      "source": [
        "a = np.array([[0.0,0.0,0.0],[10.0,10.0,10.0],[20.0,20.0,20.0],[30.0,30.0,30.0]]) \n",
        "b = np.array([1.0,2.0,3.0]) \n",
        "s = a+b\n",
        "print(a)\n",
        "print()\n",
        "print(b)\n",
        "print()\n",
        "print(s)"
      ],
      "execution_count": null,
      "outputs": [
        {
          "output_type": "stream",
          "name": "stdout",
          "text": [
            "[[ 0.  0.  0.]\n",
            " [10. 10. 10.]\n",
            " [20. 20. 20.]\n",
            " [30. 30. 30.]]\n",
            "\n",
            "[1. 2. 3.]\n",
            "\n",
            "[[ 1.  2.  3.]\n",
            " [11. 12. 13.]\n",
            " [21. 22. 23.]\n",
            " [31. 32. 33.]]\n"
          ]
        }
      ]
    },
    {
      "cell_type": "code",
      "metadata": {
        "colab": {
          "base_uri": "https://localhost:8080/"
        },
        "id": "1YbFuZv39vEu",
        "outputId": "54b417bd-af50-41a2-c8bf-12c497d7b863"
      },
      "source": [
        "x = [1,2,3,5,4,6,8,7,9,10]\n",
        "print(x)\n",
        "print()\n",
        "print(id(x))\n",
        "a = np.array(x)\n",
        "print(a)\n",
        "print()\n",
        "print(id(a))"
      ],
      "execution_count": null,
      "outputs": [
        {
          "output_type": "stream",
          "name": "stdout",
          "text": [
            "[1, 2, 3, 5, 4, 6, 8, 7, 9, 10]\n",
            "\n",
            "140684413050064\n",
            "[ 1  2  3  5  4  6  8  7  9 10]\n",
            "\n",
            "140684413217488\n"
          ]
        }
      ]
    },
    {
      "cell_type": "code",
      "metadata": {
        "colab": {
          "base_uri": "https://localhost:8080/"
        },
        "id": "ZIXx8Tmh-gcA",
        "outputId": "b8559fe1-d5b9-4440-8cc4-f460d0f5cc7b"
      },
      "source": [
        "v = a.view()\n",
        "print(a)\n",
        "print(type(a))\n",
        "print(v)\n",
        "print(type(v))"
      ],
      "execution_count": null,
      "outputs": [
        {
          "output_type": "stream",
          "name": "stdout",
          "text": [
            "[ 1  2  3  5  4  6  8  7  9 10]\n",
            "<class 'numpy.ndarray'>\n",
            "[ 1  2  3  5  4  6  8  7  9 10]\n",
            "<class 'numpy.ndarray'>\n"
          ]
        }
      ]
    },
    {
      "cell_type": "code",
      "metadata": {
        "colab": {
          "base_uri": "https://localhost:8080/"
        },
        "id": "FeW6l8Ui-zgY",
        "outputId": "248e8d28-3dcf-454d-bcbd-e66fada1bcf9"
      },
      "source": [
        "a=np.arange(6)\n",
        "print(a)\n",
        "print()\n",
        "x = a.reshape(2,3)\n",
        "print(x)\n",
        "print()\n",
        "v = x.view()\n",
        "print(v)\n"
      ],
      "execution_count": null,
      "outputs": [
        {
          "output_type": "stream",
          "name": "stdout",
          "text": [
            "[0 1 2 3 4 5]\n",
            "\n",
            "[[0 1 2]\n",
            " [3 4 5]]\n",
            "\n",
            "[[0 1 2]\n",
            " [3 4 5]]\n"
          ]
        }
      ]
    },
    {
      "cell_type": "code",
      "metadata": {
        "colab": {
          "base_uri": "https://localhost:8080/"
        },
        "id": "gZoyYIcU_OrM",
        "outputId": "a36a91cc-d9b6-4579-9e46-362000c70133"
      },
      "source": [
        "print(id(a))\n",
        "print()\n",
        "print(id(x))\n",
        "print()\n",
        "print(id(v))"
      ],
      "execution_count": null,
      "outputs": [
        {
          "output_type": "stream",
          "name": "stdout",
          "text": [
            "140684412058800\n",
            "\n",
            "140684412056000\n",
            "\n",
            "140684412057360\n"
          ]
        }
      ]
    },
    {
      "cell_type": "markdown",
      "metadata": {
        "id": "LtZ8E96F_k4k"
      },
      "source": [
        "# **copy**"
      ]
    },
    {
      "cell_type": "code",
      "metadata": {
        "colab": {
          "base_uri": "https://localhost:8080/"
        },
        "id": "IS8btQTd_kRp",
        "outputId": "38873739-e274-4ec2-edaa-86cebea2ae38"
      },
      "source": [
        "a = np.array([[10,10], [2,3], [4,5]])\n",
        "print(a)\n",
        "print(id(a))\n",
        "print()\n",
        "x = a.copy()\n",
        "print(x)\n",
        "print(id(x))\n",
        "\n"
      ],
      "execution_count": null,
      "outputs": [
        {
          "output_type": "stream",
          "name": "stdout",
          "text": [
            "[[10 10]\n",
            " [ 2  3]\n",
            " [ 4  5]]\n",
            "140684414915168\n",
            "\n",
            "[[10 10]\n",
            " [ 2  3]\n",
            " [ 4  5]]\n",
            "140684414916928\n"
          ]
        }
      ]
    },
    {
      "cell_type": "code",
      "metadata": {
        "colab": {
          "base_uri": "https://localhost:8080/"
        },
        "id": "l1Kdu9Wm_7qy",
        "outputId": "efb30f5d-71ea-4138-d901-9c52ed50b020"
      },
      "source": [
        "print(x is a)"
      ],
      "execution_count": null,
      "outputs": [
        {
          "output_type": "stream",
          "name": "stdout",
          "text": [
            "False\n"
          ]
        }
      ]
    },
    {
      "cell_type": "code",
      "metadata": {
        "colab": {
          "base_uri": "https://localhost:8080/"
        },
        "id": "doI4CdLNAMPi",
        "outputId": "8f82b34e-f482-4271-bf4a-d359dd45a6cb"
      },
      "source": [
        "x[0,0]=100\n",
        "print(x)\n",
        "print()\n",
        "print(a)"
      ],
      "execution_count": null,
      "outputs": [
        {
          "output_type": "stream",
          "name": "stdout",
          "text": [
            "[[100  10]\n",
            " [  2   3]\n",
            " [  4   5]]\n",
            "\n",
            "[[10 10]\n",
            " [ 2  3]\n",
            " [ 4  5]]\n"
          ]
        }
      ]
    },
    {
      "cell_type": "markdown",
      "metadata": {
        "id": "w0wqXBxcAbjb"
      },
      "source": [
        "# **Matrix**\n",
        "Syntax\n",
        "numpy.matlib.empty(shape, dtype, order)"
      ]
    },
    {
      "cell_type": "code",
      "metadata": {
        "colab": {
          "base_uri": "https://localhost:8080/"
        },
        "id": "NRA5MW6FAenc",
        "outputId": "9dd485f4-a096-4dfd-edc1-7b160b0ce882"
      },
      "source": [
        "import numpy as np\n",
        "import numpy.matlib\n",
        "x= np.matlib.empty((2,2))\n",
        "print(x)"
      ],
      "execution_count": null,
      "outputs": [
        {
          "output_type": "stream",
          "name": "stdout",
          "text": [
            "[[5.e-324 5.e-324]\n",
            " [5.e-324 0.e+000]]\n"
          ]
        }
      ]
    },
    {
      "cell_type": "code",
      "metadata": {
        "colab": {
          "base_uri": "https://localhost:8080/"
        },
        "id": "8d2EBU9fBNvn",
        "outputId": "0f67f73c-5f22-43a8-8265-2d4dbfdc5210"
      },
      "source": [
        "x= np.matlib.zeros((4,4))\n",
        "print(x)"
      ],
      "execution_count": null,
      "outputs": [
        {
          "output_type": "stream",
          "name": "stdout",
          "text": [
            "[[0. 0. 0. 0.]\n",
            " [0. 0. 0. 0.]\n",
            " [0. 0. 0. 0.]\n",
            " [0. 0. 0. 0.]]\n"
          ]
        }
      ]
    },
    {
      "cell_type": "code",
      "metadata": {
        "colab": {
          "base_uri": "https://localhost:8080/"
        },
        "id": "LxhwFj_MBZh6",
        "outputId": "888c6794-a3aa-47ee-f8e7-d41c297381ad"
      },
      "source": [
        "x= np.matlib.ones((4,4))\n",
        "print(x)\n",
        "print(type(x))"
      ],
      "execution_count": null,
      "outputs": [
        {
          "output_type": "stream",
          "name": "stdout",
          "text": [
            "[[1. 1. 1. 1.]\n",
            " [1. 1. 1. 1.]\n",
            " [1. 1. 1. 1.]\n",
            " [1. 1. 1. 1.]]\n",
            "<class 'numpy.matrix'>\n"
          ]
        }
      ]
    },
    {
      "cell_type": "markdown",
      "metadata": {
        "id": "AhVphMc_Bk4J"
      },
      "source": [
        "# **Eye**\n",
        "numpy.matlib.eye(n, M,k, dtype)"
      ]
    },
    {
      "cell_type": "code",
      "metadata": {
        "colab": {
          "base_uri": "https://localhost:8080/"
        },
        "id": "9O8f6aBhBne6",
        "outputId": "b610107e-1468-4987-fe82-6914fdf96f1c"
      },
      "source": [
        "x= np.matlib.eye(n = 3, M = 4, k = 0, dtype = float)\n",
        "print(x)\n",
        "print(type(x))"
      ],
      "execution_count": null,
      "outputs": [
        {
          "output_type": "stream",
          "name": "stdout",
          "text": [
            "[[1. 0. 0. 0.]\n",
            " [0. 1. 0. 0.]\n",
            " [0. 0. 1. 0.]]\n",
            "<class 'numpy.matrix'>\n"
          ]
        }
      ]
    },
    {
      "cell_type": "code",
      "metadata": {
        "colab": {
          "base_uri": "https://localhost:8080/"
        },
        "id": "HSGJKOExCGcC",
        "outputId": "4f74cc4e-d33b-434c-eeb2-addee8ec1d28"
      },
      "source": [
        "x= np.matlib.identity(5, dtype=float)\n",
        "print(x)\n",
        "print(type(x))"
      ],
      "execution_count": null,
      "outputs": [
        {
          "output_type": "stream",
          "name": "stdout",
          "text": [
            "[[1. 0. 0. 0. 0.]\n",
            " [0. 1. 0. 0. 0.]\n",
            " [0. 0. 1. 0. 0.]\n",
            " [0. 0. 0. 1. 0.]\n",
            " [0. 0. 0. 0. 1.]]\n",
            "<class 'numpy.matrix'>\n"
          ]
        }
      ]
    },
    {
      "cell_type": "code",
      "metadata": {
        "colab": {
          "base_uri": "https://localhost:8080/"
        },
        "id": "J3yETIKWCXtW",
        "outputId": "cd74a719-8752-48fe-d667-1dd004ba6083"
      },
      "source": [
        "x= np.matlib.identity(4, dtype=float)\n",
        "print(x)\n",
        "print(type(x))"
      ],
      "execution_count": null,
      "outputs": [
        {
          "output_type": "stream",
          "name": "stdout",
          "text": [
            "[[1. 0. 0. 0.]\n",
            " [0. 1. 0. 0.]\n",
            " [0. 0. 1. 0.]\n",
            " [0. 0. 0. 1.]]\n",
            "<class 'numpy.matrix'>\n"
          ]
        }
      ]
    },
    {
      "cell_type": "markdown",
      "metadata": {
        "id": "T0adQy_iCwLn"
      },
      "source": [
        "Random"
      ]
    },
    {
      "cell_type": "code",
      "metadata": {
        "colab": {
          "base_uri": "https://localhost:8080/"
        },
        "id": "6kqEaMGcCffX",
        "outputId": "dbdda223-4db3-478f-e997-c5b745e9f8b3"
      },
      "source": [
        "x = np.matlib.rand(4,4)\n",
        "print(x)"
      ],
      "execution_count": null,
      "outputs": [
        {
          "output_type": "stream",
          "name": "stdout",
          "text": [
            "[[0.47329786 0.53464501 0.31775176 0.04824689]\n",
            " [0.69556995 0.72285076 0.30624014 0.04851652]\n",
            " [0.67136504 0.27055344 0.45637737 0.11659703]\n",
            " [0.73539475 0.60575511 0.92555443 0.48951537]]\n"
          ]
        }
      ]
    },
    {
      "cell_type": "code",
      "metadata": {
        "colab": {
          "base_uri": "https://localhost:8080/"
        },
        "id": "t6RK40seC1KE",
        "outputId": "a3abf0f9-603b-46fd-d917-03810d4c06a1"
      },
      "source": [
        "x = np.matrix('1,2,3,4')\n",
        "print(x)"
      ],
      "execution_count": null,
      "outputs": [
        {
          "output_type": "stream",
          "name": "stdout",
          "text": [
            "[[1 2 3 4]]\n"
          ]
        }
      ]
    },
    {
      "cell_type": "code",
      "metadata": {
        "colab": {
          "base_uri": "https://localhost:8080/"
        },
        "id": "4WFkmAwmC_Hk",
        "outputId": "569eee23-8d7a-4eb6-ba64-b1d1fd73f54c"
      },
      "source": [
        "x = np.matrix('1,2,3;4,5,6')\n",
        "print(x)"
      ],
      "execution_count": null,
      "outputs": [
        {
          "output_type": "stream",
          "name": "stdout",
          "text": [
            "[[1 2 3]\n",
            " [4 5 6]]\n"
          ]
        }
      ]
    },
    {
      "cell_type": "code",
      "metadata": {
        "colab": {
          "base_uri": "https://localhost:8080/"
        },
        "id": "HeQNudanDO1h",
        "outputId": "713224f3-182b-4ac4-c3c4-01f04725b534"
      },
      "source": [
        "print(type(x))\n",
        "print()\n",
        "a = np.asarray(x)\n",
        "print(a)\n",
        "print(type(a))"
      ],
      "execution_count": null,
      "outputs": [
        {
          "output_type": "stream",
          "name": "stdout",
          "text": [
            "<class 'numpy.matrix'>\n",
            "\n",
            "[[1 2 3]\n",
            " [4 5 6]]\n",
            "<class 'numpy.ndarray'>\n"
          ]
        }
      ]
    },
    {
      "cell_type": "code",
      "metadata": {
        "colab": {
          "base_uri": "https://localhost:8080/"
        },
        "id": "Lbt-NAQuDZEY",
        "outputId": "efdb9dfc-bd61-4b92-fc56-1f99e1ff0d30"
      },
      "source": [
        "b = np.asmatrix(a)\n",
        "print(b)\n",
        "print(type(b))"
      ],
      "execution_count": null,
      "outputs": [
        {
          "output_type": "stream",
          "name": "stdout",
          "text": [
            "[[1 2 3]\n",
            " [4 5 6]]\n",
            "<class 'numpy.matrix'>\n"
          ]
        }
      ]
    },
    {
      "cell_type": "markdown",
      "metadata": {
        "id": "focUTtIoXuty"
      },
      "source": [
        "# **Joining**"
      ]
    },
    {
      "cell_type": "markdown",
      "metadata": {
        "id": "vCBQnDNAXuSm"
      },
      "source": [
        "J"
      ]
    },
    {
      "cell_type": "code",
      "metadata": {
        "colab": {
          "base_uri": "https://localhost:8080/"
        },
        "id": "c8bSLCXUXRZ1",
        "outputId": "85844f10-e0ee-4a2a-9d7d-9ce2a9e033d3"
      },
      "source": [
        "import numpy as np\n",
        "a = np.array([1, 2, 3])\n",
        "b = np.array([4, 5, 6])\n",
        "c = np.concatenate((a, b))\n",
        "print(a)\n",
        "print()\n",
        "print(b)\n",
        "print()\n",
        "print(c)"
      ],
      "execution_count": null,
      "outputs": [
        {
          "output_type": "stream",
          "name": "stdout",
          "text": [
            "[1 2 3]\n",
            "\n",
            "[4 5 6]\n",
            "\n",
            "[1 2 3 4 5 6]\n"
          ]
        }
      ]
    },
    {
      "cell_type": "code",
      "metadata": {
        "colab": {
          "base_uri": "https://localhost:8080/"
        },
        "id": "BpFc33pvXmrz",
        "outputId": "62ecbb77-99e2-4047-b28c-86e2356ae5ab"
      },
      "source": [
        "a = np.array([1, 2, 3])\n",
        "b = np.array([4, 5, 6])\n",
        "c = a+b\n",
        "print(a)\n",
        "print()\n",
        "print(b)\n",
        "print()\n",
        "print(c)"
      ],
      "execution_count": null,
      "outputs": [
        {
          "output_type": "stream",
          "name": "stdout",
          "text": [
            "[1 2 3]\n",
            "\n",
            "[4 5 6]\n",
            "\n",
            "[5 7 9]\n"
          ]
        }
      ]
    },
    {
      "cell_type": "code",
      "metadata": {
        "colab": {
          "base_uri": "https://localhost:8080/"
        },
        "id": "NTj18qpCXrMa",
        "outputId": "283ed9c5-2b66-4ad9-bfe4-13dfb7ddce95"
      },
      "source": [
        "a = np.array([[1, 2],[3,4]])\n",
        "b = np.array([[5, 6],[7,8]])\n",
        "c = np.concatenate((a, b), axis=1)\n",
        "print(a)\n",
        "print()\n",
        "print(b)\n",
        "print()\n",
        "print(c)"
      ],
      "execution_count": null,
      "outputs": [
        {
          "output_type": "stream",
          "name": "stdout",
          "text": [
            "[[1 2]\n",
            " [3 4]]\n",
            "\n",
            "[[5 6]\n",
            " [7 8]]\n",
            "\n",
            "[[1 2 5 6]\n",
            " [3 4 7 8]]\n"
          ]
        }
      ]
    },
    {
      "cell_type": "code",
      "metadata": {
        "colab": {
          "base_uri": "https://localhost:8080/"
        },
        "id": "mPHvFn-HYX41",
        "outputId": "21d7bccc-0a4e-4ff4-d6a5-b273bd4dbf0f"
      },
      "source": [
        "a = np.array([[1, 2],[3,4]])\n",
        "b = np.array([[5, 6],[7,8]])\n",
        "c = np.concatenate((a, b), axis=0)\n",
        "print(a)\n",
        "print()\n",
        "print(b)\n",
        "print()\n",
        "print(c)"
      ],
      "execution_count": null,
      "outputs": [
        {
          "output_type": "stream",
          "name": "stdout",
          "text": [
            "[[1 2]\n",
            " [3 4]]\n",
            "\n",
            "[[5 6]\n",
            " [7 8]]\n",
            "\n",
            "[[1 2]\n",
            " [3 4]\n",
            " [5 6]\n",
            " [7 8]]\n"
          ]
        }
      ]
    },
    {
      "cell_type": "code",
      "metadata": {
        "colab": {
          "base_uri": "https://localhost:8080/"
        },
        "id": "3r-BNnWMYcW3",
        "outputId": "ffd7fb41-8860-4687-ed6b-d5375a6f4ec5"
      },
      "source": [
        "import numpy as np\n",
        "a = np.array([1, 2, 3])\n",
        "b = np.array([4, 5, 6])\n",
        "c = np.stack((a, b))\n",
        "print(a)\n",
        "print()\n",
        "print(b)\n",
        "print()\n",
        "print(c)"
      ],
      "execution_count": null,
      "outputs": [
        {
          "output_type": "stream",
          "name": "stdout",
          "text": [
            "[1 2 3]\n",
            "\n",
            "[4 5 6]\n",
            "\n",
            "[[1 2 3]\n",
            " [4 5 6]]\n"
          ]
        }
      ]
    },
    {
      "cell_type": "code",
      "metadata": {
        "colab": {
          "base_uri": "https://localhost:8080/"
        },
        "id": "6gUL3CW0YyDB",
        "outputId": "e761ca1c-b55b-4196-f0ba-1527d3f623d3"
      },
      "source": [
        "import numpy as np\n",
        "a = np.array([1, 2, 3])\n",
        "b = np.array([4, 5, 6])\n",
        "c = np.hstack((a, b))\n",
        "print(a)\n",
        "print()\n",
        "print(b)\n",
        "print()\n",
        "print(c)"
      ],
      "execution_count": null,
      "outputs": [
        {
          "output_type": "stream",
          "name": "stdout",
          "text": [
            "[1 2 3]\n",
            "\n",
            "[4 5 6]\n",
            "\n",
            "[1 2 3 4 5 6]\n"
          ]
        }
      ]
    },
    {
      "cell_type": "code",
      "metadata": {
        "colab": {
          "base_uri": "https://localhost:8080/"
        },
        "id": "-0apP8vjY2Lk",
        "outputId": "ed8fd1a6-aa95-484c-d0cc-a60cc89cbf5b"
      },
      "source": [
        "import numpy as np\n",
        "a = np.array([1, 2, 3])\n",
        "b = np.array([4, 5, 6])\n",
        "c = np.vstack((a, b))\n",
        "print(a)\n",
        "print()\n",
        "print(b)\n",
        "print()\n",
        "print(c)"
      ],
      "execution_count": null,
      "outputs": [
        {
          "output_type": "stream",
          "name": "stdout",
          "text": [
            "[1 2 3]\n",
            "\n",
            "[4 5 6]\n",
            "\n",
            "[[1 2 3]\n",
            " [4 5 6]]\n"
          ]
        }
      ]
    },
    {
      "cell_type": "code",
      "metadata": {
        "colab": {
          "base_uri": "https://localhost:8080/"
        },
        "id": "uvrpiHhFZEW8",
        "outputId": "4190b3bf-bcdb-4d32-8d6f-592f51008463"
      },
      "source": [
        "import numpy as np\n",
        "a = np.array([1, 2, 3])\n",
        "b = np.array([4, 5, 6])\n",
        "c = np.dstack((a, b))\n",
        "print(a)\n",
        "print()\n",
        "print(b)\n",
        "print()\n",
        "print(c)"
      ],
      "execution_count": null,
      "outputs": [
        {
          "output_type": "stream",
          "name": "stdout",
          "text": [
            "[1 2 3]\n",
            "\n",
            "[4 5 6]\n",
            "\n",
            "[[[1 4]\n",
            "  [2 5]\n",
            "  [3 6]]]\n"
          ]
        }
      ]
    },
    {
      "cell_type": "markdown",
      "metadata": {
        "id": "JpjGLpvqZVN9"
      },
      "source": [
        "# **Splitting**"
      ]
    },
    {
      "cell_type": "code",
      "metadata": {
        "colab": {
          "base_uri": "https://localhost:8080/"
        },
        "id": "JbdorGeCZOaS",
        "outputId": "e66e0fc3-0ac1-4ac0-ccb9-37c512910b2b"
      },
      "source": [
        "import numpy as np\n",
        "a = np.array([1, 2, 3, 4,5,6,7,8,9])\n",
        "b = np.array_split(a,3)\n",
        "print(a)\n",
        "print()\n",
        "print(b)\n"
      ],
      "execution_count": null,
      "outputs": [
        {
          "output_type": "stream",
          "name": "stdout",
          "text": [
            "[1 2 3 4 5 6 7 8 9]\n",
            "\n",
            "[array([1, 2, 3]), array([4, 5, 6]), array([7, 8, 9])]\n"
          ]
        }
      ]
    },
    {
      "cell_type": "code",
      "metadata": {
        "colab": {
          "base_uri": "https://localhost:8080/"
        },
        "id": "0M59dmHKZEG6",
        "outputId": "2542cd71-ced7-4134-8e6e-af7ab2d0e802"
      },
      "source": [
        "import numpy as np\n",
        "a = np.array([1, 2, 3, 4,5,6,7,8,9])\n",
        "b = np.array_split(a,2)\n",
        "print(a)\n",
        "print()\n",
        "print(b)"
      ],
      "execution_count": null,
      "outputs": [
        {
          "output_type": "stream",
          "name": "stdout",
          "text": [
            "[1 2 3 4 5 6 7 8 9]\n",
            "\n",
            "[array([1, 2, 3, 4, 5]), array([6, 7, 8, 9])]\n"
          ]
        }
      ]
    },
    {
      "cell_type": "code",
      "metadata": {
        "colab": {
          "base_uri": "https://localhost:8080/"
        },
        "id": "0OdS1xytaL0L",
        "outputId": "e43fe4f0-959e-4f60-bb07-c2330e3f040a"
      },
      "source": [
        "print(b[1])"
      ],
      "execution_count": null,
      "outputs": [
        {
          "output_type": "stream",
          "name": "stdout",
          "text": [
            "[6 7 8 9]\n"
          ]
        }
      ]
    },
    {
      "cell_type": "code",
      "metadata": {
        "colab": {
          "base_uri": "https://localhost:8080/"
        },
        "id": "3gU_xoq9Z2Vm",
        "outputId": "1a57652b-b241-4d02-c02e-a79e2fffc71c"
      },
      "source": [
        "import numpy as np\n",
        "a = np.array([1, 2, 3, 4,5,6,7,8,9])\n",
        "b = np.array_split(a,7)\n",
        "print(a)\n",
        "print()\n",
        "print(b)"
      ],
      "execution_count": null,
      "outputs": [
        {
          "output_type": "stream",
          "name": "stdout",
          "text": [
            "[1 2 3 4 5 6 7 8 9]\n",
            "\n",
            "[array([1, 2]), array([3, 4]), array([5]), array([6]), array([7]), array([8]), array([9])]\n"
          ]
        }
      ]
    },
    {
      "cell_type": "code",
      "metadata": {
        "colab": {
          "base_uri": "https://localhost:8080/"
        },
        "id": "hhQ2qzLdZ82f",
        "outputId": "f81c4f20-88e6-4808-cba0-4ab3ed4b9ad4"
      },
      "source": [
        "print(b[0][0])\n",
        "c=b[0]\n",
        "print(c)\n",
        "print(c[0])\n",
        "print(c[1])"
      ],
      "execution_count": null,
      "outputs": [
        {
          "output_type": "stream",
          "name": "stdout",
          "text": [
            "1\n",
            "[1 2]\n",
            "1\n",
            "2\n"
          ]
        }
      ]
    },
    {
      "cell_type": "code",
      "metadata": {
        "colab": {
          "base_uri": "https://localhost:8080/"
        },
        "id": "ccbraOC3ap0V",
        "outputId": "41f21507-3781-4cbe-fe87-98fb9bdb9230"
      },
      "source": [
        "print(len(b))"
      ],
      "execution_count": null,
      "outputs": [
        {
          "output_type": "stream",
          "name": "stdout",
          "text": [
            "7\n"
          ]
        }
      ]
    },
    {
      "cell_type": "code",
      "metadata": {
        "colab": {
          "base_uri": "https://localhost:8080/"
        },
        "id": "2fEPc7flatNR",
        "outputId": "6dcdd5bd-b121-4b3d-888f-ec82967ee365"
      },
      "source": [
        "for i in range(len(b)):\n",
        "  for j in range(len(b[i])):\n",
        "    print(b[i][j])"
      ],
      "execution_count": null,
      "outputs": [
        {
          "output_type": "stream",
          "name": "stdout",
          "text": [
            "1\n",
            "2\n",
            "3\n",
            "4\n",
            "5\n",
            "6\n",
            "7\n",
            "8\n",
            "9\n"
          ]
        }
      ]
    },
    {
      "cell_type": "markdown",
      "metadata": {
        "id": "P1Oy2wPwSPWB"
      },
      "source": [
        "# **split n-dimensional array**"
      ]
    },
    {
      "cell_type": "code",
      "metadata": {
        "colab": {
          "base_uri": "https://localhost:8080/"
        },
        "id": "70jb29rdbIv-",
        "outputId": "75b94b9d-8700-498a-d713-225402e1da87"
      },
      "source": [
        "a=np.array([[1, 2], [3, 4], [5, 6], [7, 8], [9, 10], [11, 12]])\n",
        "print(a)"
      ],
      "execution_count": null,
      "outputs": [
        {
          "output_type": "stream",
          "name": "stdout",
          "text": [
            "[[ 1  2]\n",
            " [ 3  4]\n",
            " [ 5  6]\n",
            " [ 7  8]\n",
            " [ 9 10]\n",
            " [11 12]]\n"
          ]
        }
      ]
    },
    {
      "cell_type": "code",
      "metadata": {
        "colab": {
          "base_uri": "https://localhost:8080/"
        },
        "id": "UcSw3CEfbQyx",
        "outputId": "c26659d8-5482-453b-a0f0-7878f0064c64"
      },
      "source": [
        "b = np.array_split(a,3)\n",
        "print(b)"
      ],
      "execution_count": null,
      "outputs": [
        {
          "output_type": "stream",
          "name": "stdout",
          "text": [
            "[array([[1, 2],\n",
            "       [3, 4]]), array([[5, 6],\n",
            "       [7, 8]]), array([[ 9, 10],\n",
            "       [11, 12]])]\n"
          ]
        }
      ]
    },
    {
      "cell_type": "code",
      "metadata": {
        "colab": {
          "base_uri": "https://localhost:8080/"
        },
        "id": "aBssdgpFSkyM",
        "outputId": "503a1869-31fb-47e0-f7f4-6c8871004224"
      },
      "source": [
        "b = np.array_split(a,4)\n",
        "print(b)"
      ],
      "execution_count": null,
      "outputs": [
        {
          "output_type": "stream",
          "name": "stdout",
          "text": [
            "[array([[1, 2],\n",
            "       [3, 4]]), array([[5, 6],\n",
            "       [7, 8]]), array([[ 9, 10]]), array([[11, 12]])]\n"
          ]
        }
      ]
    },
    {
      "cell_type": "code",
      "metadata": {
        "colab": {
          "base_uri": "https://localhost:8080/"
        },
        "id": "S7qvEqG7blUR",
        "outputId": "fa1db2ef-f63f-4d5e-e6b6-bb404c82a290"
      },
      "source": [
        "a = np.array([[1, 2, 3], [4, 5, 6], [7, 8, 9], [10, 11, 12], [13, 14, 15], [16, 17, 18]])\n",
        "b = np.array_split(a,3, axis=1)\n",
        "print(a)\n",
        "print()\n",
        "print(b)"
      ],
      "execution_count": null,
      "outputs": [
        {
          "output_type": "stream",
          "name": "stdout",
          "text": [
            "[[ 1  2  3]\n",
            " [ 4  5  6]\n",
            " [ 7  8  9]\n",
            " [10 11 12]\n",
            " [13 14 15]\n",
            " [16 17 18]]\n",
            "\n",
            "[array([[ 1],\n",
            "       [ 4],\n",
            "       [ 7],\n",
            "       [10],\n",
            "       [13],\n",
            "       [16]]), array([[ 2],\n",
            "       [ 5],\n",
            "       [ 8],\n",
            "       [11],\n",
            "       [14],\n",
            "       [17]]), array([[ 3],\n",
            "       [ 6],\n",
            "       [ 9],\n",
            "       [12],\n",
            "       [15],\n",
            "       [18]])]\n"
          ]
        }
      ]
    },
    {
      "cell_type": "code",
      "metadata": {
        "colab": {
          "base_uri": "https://localhost:8080/"
        },
        "id": "MmmTL5rJb2rY",
        "outputId": "821d1ff0-35fc-4fad-f8e1-c7cdb0dfab49"
      },
      "source": [
        "a = np.array([[1, 2, 3], [4, 5, 6], [7, 8, 9], [10, 11, 12], [13, 14, 15], [16, 17, 18]])\n",
        "b = np.array_split(a,3, axis=0)\n",
        "print(a)\n",
        "print()\n",
        "print(b)"
      ],
      "execution_count": null,
      "outputs": [
        {
          "output_type": "stream",
          "name": "stdout",
          "text": [
            "[[ 1  2  3]\n",
            " [ 4  5  6]\n",
            " [ 7  8  9]\n",
            " [10 11 12]\n",
            " [13 14 15]\n",
            " [16 17 18]]\n",
            "\n",
            "[array([[1, 2, 3],\n",
            "       [4, 5, 6]]), array([[ 7,  8,  9],\n",
            "       [10, 11, 12]]), array([[13, 14, 15],\n",
            "       [16, 17, 18]])]\n"
          ]
        }
      ]
    },
    {
      "cell_type": "code",
      "metadata": {
        "colab": {
          "base_uri": "https://localhost:8080/"
        },
        "id": "U6noh6Bgb6ME",
        "outputId": "c325120e-ed37-4ef9-aedd-c5b53f40e47b"
      },
      "source": [
        "h = np.hsplit(a,3)\n",
        "print(h)"
      ],
      "execution_count": null,
      "outputs": [
        {
          "output_type": "stream",
          "name": "stdout",
          "text": [
            "[array([[ 1],\n",
            "       [ 4],\n",
            "       [ 7],\n",
            "       [10],\n",
            "       [13],\n",
            "       [16]]), array([[ 2],\n",
            "       [ 5],\n",
            "       [ 8],\n",
            "       [11],\n",
            "       [14],\n",
            "       [17]]), array([[ 3],\n",
            "       [ 6],\n",
            "       [ 9],\n",
            "       [12],\n",
            "       [15],\n",
            "       [18]])]\n"
          ]
        }
      ]
    },
    {
      "cell_type": "markdown",
      "metadata": {
        "id": "y27B_WiZcNKW"
      },
      "source": [
        "# **Search**"
      ]
    },
    {
      "cell_type": "code",
      "metadata": {
        "colab": {
          "base_uri": "https://localhost:8080/"
        },
        "id": "r0gL7VFmcQY3",
        "outputId": "18781d38-ad8a-42cc-82c7-d9b93a635e79"
      },
      "source": [
        "a =  np.array([1, 2, 3, 4, 5, 4, 4])\n",
        "b = np.where(a==4)\n",
        "print(b)"
      ],
      "execution_count": null,
      "outputs": [
        {
          "output_type": "stream",
          "name": "stdout",
          "text": [
            "(array([3, 5, 6]),)\n"
          ]
        }
      ]
    },
    {
      "cell_type": "code",
      "metadata": {
        "colab": {
          "base_uri": "https://localhost:8080/"
        },
        "id": "mbU70lAoUDd4",
        "outputId": "5df53dd9-676c-43f5-bbe2-c1782f47a429"
      },
      "source": [
        "a =  np.array([1, 2, 3, 4, 5, 4, 4])\n",
        "b = np.where(a==7)\n",
        "print(b)"
      ],
      "execution_count": null,
      "outputs": [
        {
          "output_type": "stream",
          "name": "stdout",
          "text": [
            "(array([], dtype=int64),)\n"
          ]
        }
      ]
    },
    {
      "cell_type": "code",
      "metadata": {
        "colab": {
          "base_uri": "https://localhost:8080/"
        },
        "id": "RHJg_VIJcmQP",
        "outputId": "332cd480-b5a2-498a-9071-694ebe897b19"
      },
      "source": [
        "#find even numbers\n",
        "a =  np.array([1, 2, 3, 4, 5, 4, 4,9,8,10,12,11,11,12,14,10])\n",
        "b = np.where(a%2==0)\n",
        "print(b)"
      ],
      "execution_count": null,
      "outputs": [
        {
          "output_type": "stream",
          "name": "stdout",
          "text": [
            "(array([ 1,  3,  5,  6,  8,  9, 10, 13, 14, 15]),)\n"
          ]
        }
      ]
    },
    {
      "cell_type": "code",
      "metadata": {
        "colab": {
          "base_uri": "https://localhost:8080/"
        },
        "id": "7J3Humt3c6XY",
        "outputId": "26aab8e8-15f3-4ce4-fd80-dba0c1006f75"
      },
      "source": [
        "#odd even numbers\n",
        "a =  np.array([1, 2, 3, 4, 5, 4, 4,9,8,10,12,11,11,12,14,10])\n",
        "b = np.where(a%2!=0)\n",
        "print(b)"
      ],
      "execution_count": null,
      "outputs": [
        {
          "output_type": "stream",
          "name": "stdout",
          "text": [
            "(array([ 0,  2,  4,  7, 11, 12]),)\n"
          ]
        }
      ]
    },
    {
      "cell_type": "markdown",
      "metadata": {
        "id": "exjSNGvhdTOx"
      },
      "source": [
        "# **searchsorted**"
      ]
    },
    {
      "cell_type": "code",
      "metadata": {
        "colab": {
          "base_uri": "https://localhost:8080/"
        },
        "id": "9qLSGBwTc_IL",
        "outputId": "67560b21-1b9d-4000-adf1-62f1bb68c7e8"
      },
      "source": [
        "#search in sorted arrays\n",
        "a = np.array([2,3,4,6,7,8,9,10,12,14,15,16])\n",
        "b = np.searchsorted(a,7)\n",
        "print(b)"
      ],
      "execution_count": null,
      "outputs": [
        {
          "output_type": "stream",
          "name": "stdout",
          "text": [
            "4\n"
          ]
        }
      ]
    },
    {
      "cell_type": "code",
      "metadata": {
        "colab": {
          "base_uri": "https://localhost:8080/"
        },
        "id": "t3F6mI-hUmyR",
        "outputId": "8fe2c4bb-c8ca-47bf-b7b0-4032b312f1c7"
      },
      "source": [
        "a = np.array([2,3,4,6,7,8,9,10,12,14,15,16])\n",
        "b = np.searchsorted(a,7)\n",
        "print(b)\n",
        "print(a[b])"
      ],
      "execution_count": null,
      "outputs": [
        {
          "output_type": "stream",
          "name": "stdout",
          "text": [
            "4\n",
            "7\n"
          ]
        }
      ]
    },
    {
      "cell_type": "code",
      "metadata": {
        "colab": {
          "base_uri": "https://localhost:8080/"
        },
        "id": "Eaeu1V09dks8",
        "outputId": "eb03e458-e15e-4848-c8cd-c7cd45cc6125"
      },
      "source": [
        "#search in sorted arrays\n",
        "a = np.array([2,3,4,6,7,8,9,10,12,14,15,16])\n",
        "b = np.searchsorted(a,1)\n",
        "print(b)"
      ],
      "execution_count": null,
      "outputs": [
        {
          "output_type": "stream",
          "name": "stdout",
          "text": [
            "0\n"
          ]
        }
      ]
    },
    {
      "cell_type": "code",
      "metadata": {
        "colab": {
          "base_uri": "https://localhost:8080/"
        },
        "id": "AafP0MkudqVH",
        "outputId": "47a7fc89-bda7-41a9-d21e-776e6b2858a5"
      },
      "source": [
        "#search in sorted arrays\n",
        "a = np.array([2,3,4,6,7,8,9,10,12,14,15,16])\n",
        "b = np.searchsorted(a,4,side='right')\n",
        "print(b)"
      ],
      "execution_count": null,
      "outputs": [
        {
          "output_type": "stream",
          "name": "stdout",
          "text": [
            "3\n"
          ]
        }
      ]
    },
    {
      "cell_type": "code",
      "metadata": {
        "colab": {
          "base_uri": "https://localhost:8080/"
        },
        "id": "DGdHz58veKS9",
        "outputId": "3dbac285-9e85-436a-887b-01cdba26d70b"
      },
      "source": [
        "#search in sorted arrays\n",
        "a = np.array([2,3,4,6,7,8,9,10,12,14,15,16])\n",
        "b = np.searchsorted(a,[3,4,7,15])\n",
        "print(b)"
      ],
      "execution_count": null,
      "outputs": [
        {
          "output_type": "stream",
          "name": "stdout",
          "text": [
            "[ 1  2  4 10]\n"
          ]
        }
      ]
    },
    {
      "cell_type": "markdown",
      "metadata": {
        "id": "f2lJxpxAeVr5"
      },
      "source": [
        "# **sorting**"
      ]
    },
    {
      "cell_type": "code",
      "metadata": {
        "colab": {
          "base_uri": "https://localhost:8080/"
        },
        "id": "pTUHbXEKeVLN",
        "outputId": "60a082dd-6986-48bb-d5ed-bb3a8e08f409"
      },
      "source": [
        "a = np.array([9,3,1,2,6,5,8,7,5,1,10,1])\n",
        "print(a)\n",
        "b = np.sort(a)\n",
        "print()\n",
        "print(b)"
      ],
      "execution_count": null,
      "outputs": [
        {
          "output_type": "stream",
          "name": "stdout",
          "text": [
            "[ 9  3  1  2  6  5  8  7  5  1 10  1]\n",
            "\n",
            "[ 1  1  1  2  3  5  5  6  7  8  9 10]\n"
          ]
        }
      ]
    },
    {
      "cell_type": "code",
      "metadata": {
        "colab": {
          "base_uri": "https://localhost:8080/"
        },
        "id": "ZUdMMSouexCI",
        "outputId": "da799504-3d30-4ded-f636-d7d967e85c3d"
      },
      "source": [
        "a = np.array([\"grapes\",\"Lion\",\"Peas\",\"Car\",\"Kapoor\",\"Kapour\"])\n",
        "b = np.sort(a)\n",
        "print(a)\n",
        "print()\n",
        "print(b)"
      ],
      "execution_count": null,
      "outputs": [
        {
          "output_type": "stream",
          "name": "stdout",
          "text": [
            "['grapes' 'Lion' 'Peas' 'Car' 'Kapoor' 'Kapour']\n",
            "\n",
            "['Car' 'Kapoor' 'Kapour' 'Lion' 'Peas' 'grapes']\n"
          ]
        }
      ]
    },
    {
      "cell_type": "code",
      "metadata": {
        "colab": {
          "base_uri": "https://localhost:8080/"
        },
        "id": "jiJ-bR4pfDmG",
        "outputId": "e865599e-caf0-4923-8198-5b4e9bde91cc"
      },
      "source": [
        "a =  np.array([True, False, True])\n",
        "b= np.sort(a)\n",
        "print(b)"
      ],
      "execution_count": null,
      "outputs": [
        {
          "output_type": "stream",
          "name": "stdout",
          "text": [
            "[False  True  True]\n"
          ]
        }
      ]
    },
    {
      "cell_type": "code",
      "metadata": {
        "colab": {
          "base_uri": "https://localhost:8080/"
        },
        "id": "jMOaNrZtfMg0",
        "outputId": "5638975a-efac-4136-a799-0d64f001d535"
      },
      "source": [
        "a = np.array([[4,2,3],[8,10,7]])\n",
        "print(a)\n",
        "print()\n",
        "b = np.sort(a)\n",
        "print(b)"
      ],
      "execution_count": null,
      "outputs": [
        {
          "output_type": "stream",
          "name": "stdout",
          "text": [
            "[[ 4  2  3]\n",
            " [ 8 10  7]]\n",
            "\n",
            "[[ 2  3  4]\n",
            " [ 7  8 10]]\n"
          ]
        }
      ]
    },
    {
      "cell_type": "code",
      "metadata": {
        "colab": {
          "base_uri": "https://localhost:8080/"
        },
        "id": "T4qznZPrflUU",
        "outputId": "b69dac94-890b-4c6d-8cae-85b13ff0382d"
      },
      "source": [
        "a = np.array([[4,10,3],[8,2,7]])\n",
        "print(a)\n",
        "print()\n",
        "b = np.sort(a)\n",
        "print(b)"
      ],
      "execution_count": null,
      "outputs": [
        {
          "output_type": "stream",
          "name": "stdout",
          "text": [
            "[[ 4 10  3]\n",
            " [ 8  2  7]]\n",
            "\n",
            "[[ 3  4 10]\n",
            " [ 2  7  8]]\n"
          ]
        }
      ]
    },
    {
      "cell_type": "markdown",
      "metadata": {
        "id": "sTdH3CKAfyBV"
      },
      "source": [
        "# **Filter**"
      ]
    },
    {
      "cell_type": "code",
      "metadata": {
        "colab": {
          "base_uri": "https://localhost:8080/"
        },
        "id": "Hiccpy-5fxE2",
        "outputId": "99cb2954-5770-4527-e617-512abe2f3f1e"
      },
      "source": [
        "a = np.array([1,4,2,3])\n",
        "b= [True,False,True,False]\n",
        "c = a[b]\n",
        "print(c)"
      ],
      "execution_count": null,
      "outputs": [
        {
          "output_type": "stream",
          "name": "stdout",
          "text": [
            "[1 2]\n"
          ]
        }
      ]
    },
    {
      "cell_type": "code",
      "metadata": {
        "colab": {
          "base_uri": "https://localhost:8080/"
        },
        "id": "Y9q2GmjMgSud",
        "outputId": "108651ab-7bd9-4eaf-94b0-83834589f14b"
      },
      "source": [
        "a = np.array([1,4,2,3])\n",
        "# Create an empty list\n",
        "b = []\n",
        "\n",
        "# go through each element in arr\n",
        "for element in a:\n",
        "  # if the element is higher than 2, set the value to True, otherwise False:\n",
        "  if element > 2:\n",
        "    b.append(True)\n",
        "  else:\n",
        "    b.append(False)\n",
        "\n",
        "c = a[b]\n",
        "print(a)\n",
        "print()\n",
        "print(b)\n",
        "print()\n",
        "print(c)"
      ],
      "execution_count": null,
      "outputs": [
        {
          "output_type": "stream",
          "name": "stdout",
          "text": [
            "[1 4 2 3]\n",
            "\n",
            "[False, True, False, True]\n",
            "\n",
            "[4 3]\n"
          ]
        }
      ]
    },
    {
      "cell_type": "code",
      "metadata": {
        "colab": {
          "base_uri": "https://localhost:8080/"
        },
        "id": "icYeAl6yhOgr",
        "outputId": "3f705c2c-4eee-43fb-b4c7-ab909c14c2b5"
      },
      "source": [
        "b=a>2\n",
        "print(b)"
      ],
      "execution_count": null,
      "outputs": [
        {
          "output_type": "stream",
          "name": "stdout",
          "text": [
            "[False  True False  True]\n"
          ]
        }
      ]
    },
    {
      "cell_type": "code",
      "metadata": {
        "colab": {
          "base_uri": "https://localhost:8080/"
        },
        "id": "PCtWG-EChTcF",
        "outputId": "b97b4803-b8bb-4154-b496-b07aad901c76"
      },
      "source": [
        "c = a[b]\n",
        "print(c)"
      ],
      "execution_count": null,
      "outputs": [
        {
          "output_type": "stream",
          "name": "stdout",
          "text": [
            "[4 3]\n"
          ]
        }
      ]
    },
    {
      "cell_type": "markdown",
      "metadata": {
        "id": "ADpbAlXYX2wy"
      },
      "source": [
        "# **Random Arrays**\n",
        "\n",
        "Syntax:\n",
        "\n",
        "random.randint(start, stop)"
      ]
    },
    {
      "cell_type": "code",
      "metadata": {
        "colab": {
          "base_uri": "https://localhost:8080/"
        },
        "id": "iERsDRCDX-xz",
        "outputId": "79a68ad7-0e06-4cd3-a5f5-b698c8ee89cd"
      },
      "source": [
        "import numpy as np\n",
        "import random\n",
        "a = random.randint(10,40)\n",
        "print(a)"
      ],
      "execution_count": null,
      "outputs": [
        {
          "output_type": "stream",
          "name": "stdout",
          "text": [
            "11\n"
          ]
        }
      ]
    },
    {
      "cell_type": "code",
      "metadata": {
        "colab": {
          "base_uri": "https://localhost:8080/"
        },
        "id": "MblY7IaHXeTf",
        "outputId": "30acd91e-39ba-43d5-bd2c-8892a06bf661"
      },
      "source": [
        "from numpy import random\n",
        "\n",
        "x=random.randint(100, size=(5))\n",
        "\n",
        "print(x)"
      ],
      "execution_count": null,
      "outputs": [
        {
          "output_type": "stream",
          "name": "stdout",
          "text": [
            "[91 29 18 26  9]\n"
          ]
        }
      ]
    },
    {
      "cell_type": "code",
      "metadata": {
        "colab": {
          "base_uri": "https://localhost:8080/"
        },
        "id": "kneigOggX3sA",
        "outputId": "3d9052e8-efe9-4ab7-9e91-bc5e3e90a984"
      },
      "source": [
        "a=random.randint(100, size=(15))\n",
        "\n",
        "print(a)"
      ],
      "execution_count": null,
      "outputs": [
        {
          "output_type": "stream",
          "name": "stdout",
          "text": [
            "[63 46  5 92 48 69 74  5 31 33 10 69 51 40 35]\n"
          ]
        }
      ]
    },
    {
      "cell_type": "code",
      "metadata": {
        "colab": {
          "base_uri": "https://localhost:8080/"
        },
        "id": "qSWrPX2mX_ki",
        "outputId": "4d1ed286-b209-4678-8856-f6b70a9105b7"
      },
      "source": [
        "a=random.randint(100, size=(3,5))\n",
        "\n",
        "print(a)"
      ],
      "execution_count": null,
      "outputs": [
        {
          "output_type": "stream",
          "name": "stdout",
          "text": [
            "[[76 27 55 14 97]\n",
            " [35 61 65 61 20]\n",
            " [99 74 30 45  7]]\n"
          ]
        }
      ]
    },
    {
      "cell_type": "code",
      "metadata": {
        "colab": {
          "base_uri": "https://localhost:8080/"
        },
        "id": "EmlR4b2ZYFfo",
        "outputId": "febbc1f1-8942-429a-a122-dc6d0300a791"
      },
      "source": [
        "a=random.randint(100, size=(2,2))\n",
        "\n",
        "print(a)"
      ],
      "execution_count": null,
      "outputs": [
        {
          "output_type": "stream",
          "name": "stdout",
          "text": [
            "[[42 86]\n",
            " [35 68]]\n"
          ]
        }
      ]
    },
    {
      "cell_type": "code",
      "metadata": {
        "colab": {
          "base_uri": "https://localhost:8080/"
        },
        "id": "0H6HiEYuYJrW",
        "outputId": "7e15f1f0-6beb-4929-bd2a-09ae471668a4"
      },
      "source": [
        "a = random.rand(4)\n",
        "print(a)"
      ],
      "execution_count": null,
      "outputs": [
        {
          "output_type": "stream",
          "name": "stdout",
          "text": [
            "[0.14796397 0.87282417 0.39605845 0.02904943]\n"
          ]
        }
      ]
    },
    {
      "cell_type": "code",
      "metadata": {
        "colab": {
          "base_uri": "https://localhost:8080/"
        },
        "id": "vTcwJfHsYXYc",
        "outputId": "5fb58c19-0016-4ae3-ce05-a62395545fde"
      },
      "source": [
        "a = random.rand(4,3)\n",
        "print(a)"
      ],
      "execution_count": null,
      "outputs": [
        {
          "output_type": "stream",
          "name": "stdout",
          "text": [
            "[[3.29030367e-01 5.83612728e-02 9.57566827e-01]\n",
            " [2.54590013e-01 8.88419786e-01 2.87989238e-01]\n",
            " [4.53530403e-02 8.24984141e-04 3.15640431e-01]\n",
            " [7.68620813e-01 8.70672116e-01 6.71647466e-01]]\n"
          ]
        }
      ]
    },
    {
      "cell_type": "markdown",
      "metadata": {
        "id": "bZBMIs8LYmcY"
      },
      "source": [
        "# **Choice**\n",
        "\n",
        "Generate random numbers from an array"
      ]
    },
    {
      "cell_type": "code",
      "metadata": {
        "colab": {
          "base_uri": "https://localhost:8080/"
        },
        "id": "sgsBku9IYfg3",
        "outputId": "c4ad4aee-59e9-438c-c687-041da9e16a44"
      },
      "source": [
        "a = random.choice([3,6,8,10])\n",
        "print(a)"
      ],
      "execution_count": null,
      "outputs": [
        {
          "output_type": "stream",
          "name": "stdout",
          "text": [
            "8\n"
          ]
        }
      ]
    },
    {
      "cell_type": "code",
      "metadata": {
        "colab": {
          "base_uri": "https://localhost:8080/"
        },
        "id": "XUuu1wenY31k",
        "outputId": "50b7ee84-6261-44fc-8c2e-bb1eadf2a309"
      },
      "source": [
        "a = random.randint(100, size=15)\n",
        "print(a)\n",
        "b = random.choice(a)\n",
        "print(b)"
      ],
      "execution_count": null,
      "outputs": [
        {
          "output_type": "stream",
          "name": "stdout",
          "text": [
            "[31 89 28 31 47 60 51 88 84 86 44 42 57 94 89]\n",
            "84\n"
          ]
        }
      ]
    },
    {
      "cell_type": "code",
      "metadata": {
        "colab": {
          "base_uri": "https://localhost:8080/"
        },
        "id": "h0W-MQJRZLjs",
        "outputId": "d8f03071-cb7b-41a6-fb1b-00fb65148dbc"
      },
      "source": [
        "a = random.choice([1,2,3,4,5,6])\n",
        "print(a)"
      ],
      "execution_count": null,
      "outputs": [
        {
          "output_type": "stream",
          "name": "stdout",
          "text": [
            "2\n"
          ]
        }
      ]
    },
    {
      "cell_type": "code",
      "metadata": {
        "colab": {
          "base_uri": "https://localhost:8080/"
        },
        "id": "2RzKcMfMZYRu",
        "outputId": "39858ef9-62cd-4c0f-8f5f-7fadac033ef3"
      },
      "source": [
        "a = random.choice([1,2,3,4,5,6], size=([2,3]))\n",
        "\n",
        "print(a)\n"
      ],
      "execution_count": null,
      "outputs": [
        {
          "output_type": "stream",
          "name": "stdout",
          "text": [
            "[[2 2 3]\n",
            " [3 5 6]]\n"
          ]
        }
      ]
    },
    {
      "cell_type": "code",
      "metadata": {
        "colab": {
          "base_uri": "https://localhost:8080/"
        },
        "id": "Z1fDN-cwZv9R",
        "outputId": "f32de6da-79f6-4bda-ec01-28deb1619200"
      },
      "source": [
        "a = random.choice([1,2,3,4,5,6], size=([2,2]))\n",
        "print(a)\n"
      ],
      "execution_count": null,
      "outputs": [
        {
          "output_type": "stream",
          "name": "stdout",
          "text": [
            "[[3 6]\n",
            " [3 5]]\n"
          ]
        }
      ]
    },
    {
      "cell_type": "code",
      "metadata": {
        "colab": {
          "base_uri": "https://localhost:8080/"
        },
        "id": "1fORDnbcZ7fb",
        "outputId": "0541279d-4bbb-4688-aa2d-488fed3c535e"
      },
      "source": [
        "a = random.choice([3, 5, 7, 9], p=[0.1, 0.3, 0.6, 0.0], size=(100))\n",
        "print(a)"
      ],
      "execution_count": null,
      "outputs": [
        {
          "output_type": "stream",
          "name": "stdout",
          "text": [
            "[7 5 7 7 7 7 7 7 7 7 5 7 7 7 7 5 7 7 3 5 7 5 7 7 7 7 7 7 7 5 3 5 5 7 5 7 7\n",
            " 7 7 7 7 3 7 3 5 3 5 5 7 7 7 7 3 3 7 5 7 5 7 3 5 5 5 7 5 3 7 7 5 7 7 7 5 5\n",
            " 5 5 7 5 7 3 7 5 7 7 7 7 5 7 7 5 7 7 7 5 5 7 7 7 7 5]\n"
          ]
        }
      ]
    },
    {
      "cell_type": "code",
      "metadata": {
        "colab": {
          "base_uri": "https://localhost:8080/"
        },
        "id": "BY3cyUvPaZlZ",
        "outputId": "1534d285-36e2-4aaa-adba-5daa7404b91e"
      },
      "source": [
        "a =[12, 15, 7, 19]\n",
        "print(a)\n",
        "b = random.choice(a, p=[0.1, 0.3, 0.6, 0.0], size=(8))\n",
        "print(b)"
      ],
      "execution_count": null,
      "outputs": [
        {
          "output_type": "stream",
          "name": "stdout",
          "text": [
            "[12, 15, 7, 19]\n",
            "[ 7 15 12  7 15  7  7  7]\n"
          ]
        }
      ]
    },
    {
      "cell_type": "code",
      "metadata": {
        "colab": {
          "base_uri": "https://localhost:8080/"
        },
        "id": "ufK9iEa7avVU",
        "outputId": "6fb369ce-2e26-4697-9d59-6722f070dc78"
      },
      "source": [
        "a =[12, 5, 15, 19]\n",
        "print(a)\n",
        "b = random.choice(a, p=[0.1, 0.3, 0.6, 0.0], size=(3,3))\n",
        "print()\n",
        "print(b)"
      ],
      "execution_count": null,
      "outputs": [
        {
          "output_type": "stream",
          "name": "stdout",
          "text": [
            "[12, 5, 15, 19]\n",
            "\n",
            "[[15 15 15]\n",
            " [15 15  5]\n",
            " [ 5 15  5]]\n"
          ]
        }
      ]
    },
    {
      "cell_type": "code",
      "metadata": {
        "colab": {
          "base_uri": "https://localhost:8080/"
        },
        "id": "R3NZYeYmbPm0",
        "outputId": "943bbb5e-98cc-49ba-ac1c-c9deac7d7211"
      },
      "source": [
        "a =[12, 5, 15, 19]\n",
        "print(a)\n",
        "b = random.choice(a, p=[0.1, 0.3, 0.2, 0.4], size=(3,3))\n",
        "print()\n",
        "print(b)"
      ],
      "execution_count": null,
      "outputs": [
        {
          "output_type": "stream",
          "name": "stdout",
          "text": [
            "[12, 5, 15, 19]\n",
            "\n",
            "[[15 19  5]\n",
            " [ 5 19  5]\n",
            " [ 5 19 19]]\n"
          ]
        }
      ]
    },
    {
      "cell_type": "code",
      "metadata": {
        "colab": {
          "base_uri": "https://localhost:8080/"
        },
        "id": "i_85W-otbvjB",
        "outputId": "d3d88a12-dbac-47fc-aacc-3a8a2cd5b8cf"
      },
      "source": [
        "a =[12, 5, 15, 19]\n",
        "print(a)\n",
        "b = random.choice(a, p=[0.1, 0.3, 0.2, 0.4], size=(5,3))\n",
        "print()\n",
        "print(b)"
      ],
      "execution_count": null,
      "outputs": [
        {
          "output_type": "stream",
          "name": "stdout",
          "text": [
            "[12, 5, 15, 19]\n",
            "\n",
            "[[15 19  5]\n",
            " [15 15 19]\n",
            " [15  5 19]\n",
            " [ 5 19  5]\n",
            " [19 19 12]]\n"
          ]
        }
      ]
    },
    {
      "cell_type": "markdown",
      "metadata": {
        "id": "ognLU5tOb-9E"
      },
      "source": [
        "## **Shuffle Array**"
      ]
    },
    {
      "cell_type": "code",
      "metadata": {
        "colab": {
          "base_uri": "https://localhost:8080/"
        },
        "id": "o5YftjvOcDZk",
        "outputId": "06d34f6b-9574-45a5-be16-5ce3303ff304"
      },
      "source": [
        "a = np.array([1,3,5,6,7])\n",
        "print(a)\n",
        "random.shuffle(a)\n",
        "print(a)"
      ],
      "execution_count": null,
      "outputs": [
        {
          "output_type": "stream",
          "name": "stdout",
          "text": [
            "[1 3 5 6 7]\n",
            "[6 3 7 5 1]\n"
          ]
        }
      ]
    },
    {
      "cell_type": "markdown",
      "metadata": {
        "id": "HGqTa2bQcklB"
      },
      "source": [
        "# **Permutation Array**"
      ]
    },
    {
      "cell_type": "code",
      "metadata": {
        "colab": {
          "base_uri": "https://localhost:8080/"
        },
        "id": "Z52fHUDucgl6",
        "outputId": "1846505a-fefe-48e7-ec1b-bfad9f089c29"
      },
      "source": [
        "a = np.array([1,3,5,6,7])\n",
        "print(a)\n",
        "random.permutation(a)\n",
        "print(a)"
      ],
      "execution_count": null,
      "outputs": [
        {
          "output_type": "stream",
          "name": "stdout",
          "text": [
            "[1 3 5 6 7]\n",
            "[1 3 5 6 7]\n"
          ]
        }
      ]
    }
  ]
}