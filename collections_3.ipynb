{
  "nbformat": 4,
  "nbformat_minor": 0,
  "metadata": {
    "colab": {
      "name": "collections_3.ipynb",
      "provenance": [],
      "collapsed_sections": [],
      "authorship_tag": "ABX9TyP8XZqHjBCcSKRlIkwInxoV",
      "include_colab_link": true
    },
    "kernelspec": {
      "name": "python3",
      "display_name": "Python 3"
    },
    "language_info": {
      "name": "python"
    }
  },
  "cells": [
    {
      "cell_type": "markdown",
      "metadata": {
        "id": "view-in-github",
        "colab_type": "text"
      },
      "source": [
        "<a href=\"https://colab.research.google.com/github/anujsaxena/Python/blob/main/collections_3.ipynb\" target=\"_parent\"><img src=\"https://colab.research.google.com/assets/colab-badge.svg\" alt=\"Open In Colab\"/></a>"
      ]
    },
    {
      "cell_type": "markdown",
      "metadata": {
        "id": "T4X6pDcsCnQ7"
      },
      "source": [
        "# **Collections continued ...**\n",
        "\n",
        "# **Set**\n",
        "\n",
        "Sets are a collection of unordered unique values. Sets are mutable."
      ]
    },
    {
      "cell_type": "code",
      "metadata": {
        "colab": {
          "base_uri": "https://localhost:8080/"
        },
        "id": "Qo2dZ2vgI1Jh",
        "outputId": "dd292b9c-2e51-457b-8764-159325b2d429"
      },
      "source": [
        "#intialize sets\n",
        "\n",
        "s = set()\n",
        "print(s)\n",
        "print(type(s))"
      ],
      "execution_count": null,
      "outputs": [
        {
          "output_type": "stream",
          "name": "stdout",
          "text": [
            "set()\n",
            "<class 'set'>\n"
          ]
        }
      ]
    },
    {
      "cell_type": "markdown",
      "metadata": {
        "id": "6U-Zt0pKKAn3"
      },
      "source": [
        "# **Initialize set from a list**"
      ]
    },
    {
      "cell_type": "code",
      "metadata": {
        "colab": {
          "base_uri": "https://localhost:8080/"
        },
        "id": "ocgopuPEJJ7S",
        "outputId": "261aed07-b59f-48c9-cf51-f10fafab1771"
      },
      "source": [
        "languages =[\"Java\",\"C++\",\"Python\",\"R\",\"Jython\"]\n",
        "sl = set(languages)\n",
        "print(sl)\n",
        "print(type(sl))"
      ],
      "execution_count": null,
      "outputs": [
        {
          "output_type": "stream",
          "name": "stdout",
          "text": [
            "{'Java', 'Python', 'R', 'Jython', 'C++'}\n",
            "<class 'set'>\n"
          ]
        }
      ]
    },
    {
      "cell_type": "markdown",
      "metadata": {
        "id": "MWM1UhUnKI43"
      },
      "source": [
        "# **Create a set using {}**"
      ]
    },
    {
      "cell_type": "code",
      "metadata": {
        "colab": {
          "base_uri": "https://localhost:8080/"
        },
        "id": "ImrU-xk_Jv-Z",
        "outputId": "443d7466-65c0-4ce3-b0b2-1cf0cfcc8963"
      },
      "source": [
        "sl ={\"Java\",\"C++\",\"Python\",\"Ruby\",\"Jython\",\"R\"}\n",
        "print(sl)\n",
        "print(type(sl))"
      ],
      "execution_count": null,
      "outputs": [
        {
          "output_type": "stream",
          "name": "stdout",
          "text": [
            "{'Java', 'Python', 'R', 'Jython', 'Ruby', 'C++'}\n",
            "<class 'set'>\n"
          ]
        }
      ]
    },
    {
      "cell_type": "markdown",
      "metadata": {
        "id": "PvZ_-1QCNWOd"
      },
      "source": [
        "The data in a set is not ordered. It is possible that each time we run the code the order could be different. We can say that the data is randomly arranged."
      ]
    },
    {
      "cell_type": "code",
      "metadata": {
        "colab": {
          "base_uri": "https://localhost:8080/"
        },
        "id": "shMoImlLKYVh",
        "outputId": "573df322-60bf-485d-eb70-0c8966bb5a53"
      },
      "source": [
        "sl ={2,1,5,4,6,3,8,7,9}\n",
        "print(sl)\n",
        "print(type(sl))"
      ],
      "execution_count": null,
      "outputs": [
        {
          "output_type": "stream",
          "name": "stdout",
          "text": [
            "{1, 2, 3, 4, 5, 6, 7, 8, 9}\n",
            "<class 'set'>\n"
          ]
        }
      ]
    },
    {
      "cell_type": "markdown",
      "metadata": {
        "id": "_9w3rRJrLFhm"
      },
      "source": [
        "# **Set takes unique values**"
      ]
    },
    {
      "cell_type": "code",
      "metadata": {
        "colab": {
          "base_uri": "https://localhost:8080/"
        },
        "id": "nIgCTtAQKqXb",
        "outputId": "f36a39d6-4018-477d-fde7-1f1929bf7bb4"
      },
      "source": [
        "sl ={2,1,5,4,6,3,8,7,9,2,1,3}\n",
        "print(sl)\n",
        "print(type(sl))"
      ],
      "execution_count": null,
      "outputs": [
        {
          "output_type": "stream",
          "name": "stdout",
          "text": [
            "{1, 2, 3, 4, 5, 6, 7, 8, 9}\n",
            "<class 'set'>\n"
          ]
        }
      ]
    },
    {
      "cell_type": "code",
      "metadata": {
        "colab": {
          "base_uri": "https://localhost:8080/"
        },
        "id": "Nsd4MBgkKggi",
        "outputId": "7e01ed6d-69b4-4b46-e4eb-2bfbc9825413"
      },
      "source": [
        "sl ={True, False, True, True, False, False}\n",
        "print(sl)\n",
        "print(type(sl))"
      ],
      "execution_count": null,
      "outputs": [
        {
          "output_type": "stream",
          "name": "stdout",
          "text": [
            "{False, True}\n",
            "<class 'set'>\n"
          ]
        }
      ]
    },
    {
      "cell_type": "code",
      "metadata": {
        "colab": {
          "base_uri": "https://localhost:8080/"
        },
        "id": "Q1T7Sq5pNpiT",
        "outputId": "60c2f379-fc0f-4c16-979d-d9ffa373ba7d"
      },
      "source": [
        "sl={1,4,2,3,\"Python\", \"Java\", True, False, True}\n",
        "print(sl)"
      ],
      "execution_count": null,
      "outputs": [
        {
          "output_type": "stream",
          "name": "stdout",
          "text": [
            "{'Java', 1, 2, 3, 4, 'Python', False}\n"
          ]
        }
      ]
    },
    {
      "cell_type": "markdown",
      "metadata": {
        "id": "42LK_QqiOMxk"
      },
      "source": [
        "# **Accesing values**"
      ]
    },
    {
      "cell_type": "code",
      "metadata": {
        "colab": {
          "base_uri": "https://localhost:8080/"
        },
        "id": "lcnoDLOKOQkA",
        "outputId": "0f3200e9-6f7c-45c1-d8de-f68a64abc2d0"
      },
      "source": [
        "sl ={\"Java\",\"C++\",\"Python\",\"Ruby\",\"Jython\",\"R\"}\n",
        "for s in sl:\n",
        "  print(s)"
      ],
      "execution_count": null,
      "outputs": [
        {
          "output_type": "stream",
          "name": "stdout",
          "text": [
            "Java\n",
            "Python\n",
            "R\n",
            "Jython\n",
            "Ruby\n",
            "C++\n"
          ]
        }
      ]
    },
    {
      "cell_type": "code",
      "metadata": {
        "colab": {
          "base_uri": "https://localhost:8080/"
        },
        "id": "IVEwGRsiOWgr",
        "outputId": "956b9ab2-27cf-4203-a55c-d2d9c38fe441"
      },
      "source": [
        "sl ={\"Java\",\"C++\",\"Python\",\"Ruby\",\"Jython\",\"R\"}\n",
        "if \"C++\" in sl:\n",
        "  print(\"C++ found\")\n",
        "else:\n",
        "  print(\"C++ not found\")"
      ],
      "execution_count": null,
      "outputs": [
        {
          "output_type": "stream",
          "name": "stdout",
          "text": [
            "C++ found\n"
          ]
        }
      ]
    },
    {
      "cell_type": "code",
      "metadata": {
        "colab": {
          "base_uri": "https://localhost:8080/",
          "height": 183
        },
        "id": "LeTOR6RdQFjS",
        "outputId": "cce12fb5-9ac6-4da0-8775-d53afdd2cfce"
      },
      "source": [
        "sl ={\"Java\",\"C++\",\"Python\",\"Ruby\",\"Jython\",\"R\"}\n",
        "print(sl[0])"
      ],
      "execution_count": null,
      "outputs": [
        {
          "output_type": "error",
          "ename": "TypeError",
          "evalue": "ignored",
          "traceback": [
            "\u001b[0;31m---------------------------------------------------------------------------\u001b[0m",
            "\u001b[0;31mTypeError\u001b[0m                                 Traceback (most recent call last)",
            "\u001b[0;32m<ipython-input-11-add25a7c9f35>\u001b[0m in \u001b[0;36m<module>\u001b[0;34m()\u001b[0m\n\u001b[1;32m      1\u001b[0m \u001b[0msl\u001b[0m \u001b[0;34m=\u001b[0m\u001b[0;34m{\u001b[0m\u001b[0;34m\"Java\"\u001b[0m\u001b[0;34m,\u001b[0m\u001b[0;34m\"C++\"\u001b[0m\u001b[0;34m,\u001b[0m\u001b[0;34m\"Python\"\u001b[0m\u001b[0;34m,\u001b[0m\u001b[0;34m\"Ruby\"\u001b[0m\u001b[0;34m,\u001b[0m\u001b[0;34m\"Jython\"\u001b[0m\u001b[0;34m,\u001b[0m\u001b[0;34m\"R\"\u001b[0m\u001b[0;34m}\u001b[0m\u001b[0;34m\u001b[0m\u001b[0;34m\u001b[0m\u001b[0m\n\u001b[0;32m----> 2\u001b[0;31m \u001b[0mprint\u001b[0m\u001b[0;34m(\u001b[0m\u001b[0msl\u001b[0m\u001b[0;34m[\u001b[0m\u001b[0;36m0\u001b[0m\u001b[0;34m]\u001b[0m\u001b[0;34m)\u001b[0m\u001b[0;34m\u001b[0m\u001b[0;34m\u001b[0m\u001b[0m\n\u001b[0m",
            "\u001b[0;31mTypeError\u001b[0m: 'set' object is not subscriptable"
          ]
        }
      ]
    },
    {
      "cell_type": "code",
      "metadata": {
        "colab": {
          "base_uri": "https://localhost:8080/"
        },
        "id": "xy7Ft47svxXN",
        "outputId": "9db9bdf1-f50e-49e7-f13c-0480ea0b355e"
      },
      "source": [
        "sl ={\"Java\",\"C++\",\"Python\",\"Ruby\",\"Jython\",\"R\"}\n",
        "l = list(sl)\n",
        "print(l)\n",
        "print(l[0])"
      ],
      "execution_count": null,
      "outputs": [
        {
          "output_type": "stream",
          "name": "stdout",
          "text": [
            "['Java', 'Python', 'R', 'Jython', 'Ruby', 'C++']\n",
            "Java\n"
          ]
        }
      ]
    },
    {
      "cell_type": "markdown",
      "metadata": {
        "id": "JUklh04gLU0h"
      },
      "source": [
        "# **Add values**"
      ]
    },
    {
      "cell_type": "code",
      "metadata": {
        "colab": {
          "base_uri": "https://localhost:8080/"
        },
        "id": "Jag_ph0SLT26",
        "outputId": "f52410bc-42a3-4d16-b7ce-2f8d9e2df5bf"
      },
      "source": [
        "sl ={\"Java\",\"C++\",\"Python\",\"R\",\"Jython\"}\n",
        "print(sl)\n",
        "sl.add(\"Angular JS\")\n",
        "print(sl)"
      ],
      "execution_count": null,
      "outputs": [
        {
          "output_type": "stream",
          "name": "stdout",
          "text": [
            "{'Java', 'Python', 'R', 'Jython', 'C++'}\n",
            "{'Java', 'Angular JS', 'Python', 'R', 'Jython', 'C++'}\n"
          ]
        }
      ]
    },
    {
      "cell_type": "code",
      "metadata": {
        "colab": {
          "base_uri": "https://localhost:8080/",
          "height": 235
        },
        "id": "dgUAmxFqwNiX",
        "outputId": "487602b4-0175-4f0b-dee1-266b6fe27a90"
      },
      "source": [
        "sl ={\"Java\",\"C++\",\"Python\",\"R\",\"Jython\"}\n",
        "print(sl)\n",
        "sl.add({\"Angular JS\",\"Go\"})\n",
        "print(sl)"
      ],
      "execution_count": null,
      "outputs": [
        {
          "output_type": "stream",
          "name": "stdout",
          "text": [
            "{'Java', 'Python', 'R', 'Jython', 'C++'}\n"
          ]
        },
        {
          "output_type": "error",
          "ename": "TypeError",
          "evalue": "ignored",
          "traceback": [
            "\u001b[0;31m---------------------------------------------------------------------------\u001b[0m",
            "\u001b[0;31mTypeError\u001b[0m                                 Traceback (most recent call last)",
            "\u001b[0;32m<ipython-input-16-ef549f427001>\u001b[0m in \u001b[0;36m<module>\u001b[0;34m()\u001b[0m\n\u001b[1;32m      1\u001b[0m \u001b[0msl\u001b[0m \u001b[0;34m=\u001b[0m\u001b[0;34m{\u001b[0m\u001b[0;34m\"Java\"\u001b[0m\u001b[0;34m,\u001b[0m\u001b[0;34m\"C++\"\u001b[0m\u001b[0;34m,\u001b[0m\u001b[0;34m\"Python\"\u001b[0m\u001b[0;34m,\u001b[0m\u001b[0;34m\"R\"\u001b[0m\u001b[0;34m,\u001b[0m\u001b[0;34m\"Jython\"\u001b[0m\u001b[0;34m}\u001b[0m\u001b[0;34m\u001b[0m\u001b[0;34m\u001b[0m\u001b[0m\n\u001b[1;32m      2\u001b[0m \u001b[0mprint\u001b[0m\u001b[0;34m(\u001b[0m\u001b[0msl\u001b[0m\u001b[0;34m)\u001b[0m\u001b[0;34m\u001b[0m\u001b[0;34m\u001b[0m\u001b[0m\n\u001b[0;32m----> 3\u001b[0;31m \u001b[0msl\u001b[0m\u001b[0;34m.\u001b[0m\u001b[0madd\u001b[0m\u001b[0;34m(\u001b[0m\u001b[0;34m{\u001b[0m\u001b[0;34m\"Angular JS\"\u001b[0m\u001b[0;34m,\u001b[0m\u001b[0;34m\"Go\"\u001b[0m\u001b[0;34m}\u001b[0m\u001b[0;34m)\u001b[0m\u001b[0;34m\u001b[0m\u001b[0;34m\u001b[0m\u001b[0m\n\u001b[0m\u001b[1;32m      4\u001b[0m \u001b[0mprint\u001b[0m\u001b[0;34m(\u001b[0m\u001b[0msl\u001b[0m\u001b[0;34m)\u001b[0m\u001b[0;34m\u001b[0m\u001b[0;34m\u001b[0m\u001b[0m\n",
            "\u001b[0;31mTypeError\u001b[0m: unhashable type: 'set'"
          ]
        }
      ]
    },
    {
      "cell_type": "markdown",
      "metadata": {
        "id": "RIcj43IqRCaJ"
      },
      "source": [
        "# **Remove value**"
      ]
    },
    {
      "cell_type": "code",
      "metadata": {
        "colab": {
          "base_uri": "https://localhost:8080/"
        },
        "id": "PihVYcnIRGit",
        "outputId": "aa8deeec-0f7f-4c98-cadc-a80bf1cadd74"
      },
      "source": [
        "sl ={\"Java\",\"C++\",\"Python\",\"R\",\"Jython\"}\n",
        "print(sl)\n",
        "sl.remove(\"C++\")\n",
        "print(sl)"
      ],
      "execution_count": null,
      "outputs": [
        {
          "output_type": "stream",
          "name": "stdout",
          "text": [
            "{'Java', 'Python', 'R', 'Jython', 'C++'}\n",
            "{'Java', 'Python', 'R', 'Jython'}\n"
          ]
        }
      ]
    },
    {
      "cell_type": "code",
      "metadata": {
        "colab": {
          "base_uri": "https://localhost:8080/"
        },
        "id": "M8_w2onqRyeB",
        "outputId": "a2b60384-ece3-4791-a38c-0c2345cffbde"
      },
      "source": [
        "sl={'Java', 'Jython', 'R', 'Python', 'C++'}\n",
        "sl.discard(\"R\")\n",
        "print(sl)"
      ],
      "execution_count": null,
      "outputs": [
        {
          "output_type": "stream",
          "name": "stdout",
          "text": [
            "{'Java', 'Python', 'Jython', 'C++'}\n"
          ]
        }
      ]
    },
    {
      "cell_type": "markdown",
      "metadata": {
        "id": "3KnL9Dw0R651"
      },
      "source": [
        "If a value to be removed from the set is not present, discard does not throw an err."
      ]
    },
    {
      "cell_type": "code",
      "metadata": {
        "colab": {
          "base_uri": "https://localhost:8080/"
        },
        "id": "SQw3m2DpSQj6",
        "outputId": "84f56714-fb88-4ed9-ab37-787e56adb5ea"
      },
      "source": [
        "sl={'Java', 'Jython', 'R', 'Python', 'C++'}\n",
        "sl.discard(\"Ruby\")\n",
        "print(sl)"
      ],
      "execution_count": null,
      "outputs": [
        {
          "output_type": "stream",
          "name": "stdout",
          "text": [
            "{'Java', 'Python', 'R', 'Jython', 'C++'}\n"
          ]
        }
      ]
    },
    {
      "cell_type": "code",
      "metadata": {
        "colab": {
          "base_uri": "https://localhost:8080/",
          "height": 201
        },
        "id": "FPWkOEw8SePo",
        "outputId": "7a0c70f1-d20b-4681-fea1-264925364203"
      },
      "source": [
        "sl={'Java', 'Jython', 'R', 'Python', 'C++'}\n",
        "sl.remove(\"Ruby\")\n",
        "print(sl)"
      ],
      "execution_count": null,
      "outputs": [
        {
          "output_type": "error",
          "ename": "KeyError",
          "evalue": "ignored",
          "traceback": [
            "\u001b[0;31m---------------------------------------------------------------------------\u001b[0m",
            "\u001b[0;31mKeyError\u001b[0m                                  Traceback (most recent call last)",
            "\u001b[0;32m<ipython-input-20-0102567cf019>\u001b[0m in \u001b[0;36m<module>\u001b[0;34m()\u001b[0m\n\u001b[1;32m      1\u001b[0m \u001b[0msl\u001b[0m\u001b[0;34m=\u001b[0m\u001b[0;34m{\u001b[0m\u001b[0;34m'Java'\u001b[0m\u001b[0;34m,\u001b[0m \u001b[0;34m'Jython'\u001b[0m\u001b[0;34m,\u001b[0m \u001b[0;34m'R'\u001b[0m\u001b[0;34m,\u001b[0m \u001b[0;34m'Python'\u001b[0m\u001b[0;34m,\u001b[0m \u001b[0;34m'C++'\u001b[0m\u001b[0;34m}\u001b[0m\u001b[0;34m\u001b[0m\u001b[0;34m\u001b[0m\u001b[0m\n\u001b[0;32m----> 2\u001b[0;31m \u001b[0msl\u001b[0m\u001b[0;34m.\u001b[0m\u001b[0mremove\u001b[0m\u001b[0;34m(\u001b[0m\u001b[0;34m\"Ruby\"\u001b[0m\u001b[0;34m)\u001b[0m\u001b[0;34m\u001b[0m\u001b[0;34m\u001b[0m\u001b[0m\n\u001b[0m\u001b[1;32m      3\u001b[0m \u001b[0mprint\u001b[0m\u001b[0;34m(\u001b[0m\u001b[0msl\u001b[0m\u001b[0;34m)\u001b[0m\u001b[0;34m\u001b[0m\u001b[0;34m\u001b[0m\u001b[0m\n",
            "\u001b[0;31mKeyError\u001b[0m: 'Ruby'"
          ]
        }
      ]
    },
    {
      "cell_type": "markdown",
      "metadata": {
        "id": "3XML8X5KStOt"
      },
      "source": [
        "# **Clear all the values**"
      ]
    },
    {
      "cell_type": "code",
      "metadata": {
        "colab": {
          "base_uri": "https://localhost:8080/"
        },
        "id": "rlBOiiwHSi2H",
        "outputId": "b5e109dc-e5a6-4d77-89ed-4860da27f1e1"
      },
      "source": [
        "sl={'Java', 'Jython', 'R', 'Python', 'C++'}\n",
        "sl.clear()\n",
        "print(sl)"
      ],
      "execution_count": null,
      "outputs": [
        {
          "output_type": "stream",
          "name": "stdout",
          "text": [
            "set()\n"
          ]
        }
      ]
    },
    {
      "cell_type": "markdown",
      "metadata": {
        "id": "Fu5PJ4LFTAFa"
      },
      "source": [
        "# **Sort  a set**"
      ]
    },
    {
      "cell_type": "code",
      "metadata": {
        "colab": {
          "base_uri": "https://localhost:8080/"
        },
        "id": "uHMQlCfyTFW6",
        "outputId": "216e4358-7e58-43a2-a77e-0eda89b0264f"
      },
      "source": [
        "sl={'Java', 'Jython', 'R', 'Python', 'C++'}\n",
        "print(sl)\n",
        "s = sorted(sl)\n",
        "print(s)\n",
        "print(type(sl))\n",
        "print(type(s))"
      ],
      "execution_count": null,
      "outputs": [
        {
          "output_type": "stream",
          "name": "stdout",
          "text": [
            "{'Java', 'Python', 'R', 'Jython', 'C++'}\n",
            "['C++', 'Java', 'Jython', 'Python', 'R']\n",
            "<class 'set'>\n",
            "<class 'list'>\n"
          ]
        }
      ]
    },
    {
      "cell_type": "code",
      "metadata": {
        "colab": {
          "base_uri": "https://localhost:8080/"
        },
        "id": "7-_drkeoTUhP",
        "outputId": "8fa24102-3f3c-4a27-be85-8606e65789bf"
      },
      "source": [
        "sl={'Java', 'Jython', 'R', 'Python', 'C++'}\n",
        "s = sorted(sl, reverse=True)\n",
        "print(s)\n",
        "print(type(sl))"
      ],
      "execution_count": null,
      "outputs": [
        {
          "output_type": "stream",
          "name": "stdout",
          "text": [
            "['R', 'Python', 'Jython', 'Java', 'C++']\n",
            "<class 'set'>\n"
          ]
        }
      ]
    },
    {
      "cell_type": "markdown",
      "metadata": {
        "id": "XJa6ZO8-T0Ir"
      },
      "source": [
        "# **Union / Intersection / Difference**"
      ]
    },
    {
      "cell_type": "code",
      "metadata": {
        "colab": {
          "base_uri": "https://localhost:8080/"
        },
        "id": "VdDyfHdZT5KM",
        "outputId": "90815725-3732-436b-c996-671657a9f4e2"
      },
      "source": [
        "sl={'Java', 'Jython', 'R', 'Python', 'C++'}\n",
        "s ={\"Cobol\", \"Dbase\", \"C+\", \"SQL\", \"Python\"}\n",
        "su = sl.union(s)\n",
        "print(su)"
      ],
      "execution_count": null,
      "outputs": [
        {
          "output_type": "stream",
          "name": "stdout",
          "text": [
            "{'Java', 'Python', 'R', 'Cobol', 'Jython', 'C++', 'C+', 'Dbase', 'SQL'}\n"
          ]
        }
      ]
    },
    {
      "cell_type": "code",
      "metadata": {
        "colab": {
          "base_uri": "https://localhost:8080/"
        },
        "id": "BSEzsECZUaSN",
        "outputId": "f87f2279-79f8-4b85-f89d-19cd5a055840"
      },
      "source": [
        "sl={'Java', 'Jython', 'R', 'Python', 'C++'}\n",
        "s ={\"Cobol\", \"Dbase\", \"C+\", \"SQL\", \"Python\"}\n",
        "su = sl.intersection(s)\n",
        "print(su)"
      ],
      "execution_count": null,
      "outputs": [
        {
          "output_type": "stream",
          "name": "stdout",
          "text": [
            "{'Python'}\n"
          ]
        }
      ]
    },
    {
      "cell_type": "markdown",
      "metadata": {
        "id": "be3nihqUUwed"
      },
      "source": [
        "difference\n",
        "Finds the values which are in sl and not s"
      ]
    },
    {
      "cell_type": "code",
      "metadata": {
        "colab": {
          "base_uri": "https://localhost:8080/"
        },
        "id": "XlEACmXJUfFQ",
        "outputId": "33f9ab02-8455-4e76-a74f-811f276eac9b"
      },
      "source": [
        "sl={'Java', 'Jython', 'R', 'Python', 'C++'}\n",
        "s ={\"Cobol\", \"Dbase\", \"C+\", \"SQL\", \"Python\"}\n",
        "su = sl.difference(s)\n",
        "print(su)"
      ],
      "execution_count": null,
      "outputs": [
        {
          "output_type": "stream",
          "name": "stdout",
          "text": [
            "{'Java', 'C++', 'R', 'Jython'}\n"
          ]
        }
      ]
    },
    {
      "cell_type": "code",
      "metadata": {
        "colab": {
          "base_uri": "https://localhost:8080/"
        },
        "id": "I_R6OYn9x7q8",
        "outputId": "f6fb6be8-94aa-407f-e896-0095840ed91a"
      },
      "source": [
        "sl={'Java', 'Jython', 'R', 'Python', 'C++'}\n",
        "s ={\"Cobol\", \"Dbase\", \"C+\", \"SQL\", \"Python\"}\n",
        "su = s.difference(sl)\n",
        "print(su)"
      ],
      "execution_count": null,
      "outputs": [
        {
          "output_type": "stream",
          "name": "stdout",
          "text": [
            "{'C+', 'Dbase', 'SQL', 'Cobol'}\n"
          ]
        }
      ]
    },
    {
      "cell_type": "markdown",
      "metadata": {
        "id": "7FPq6my2VKS0"
      },
      "source": [
        "# **Symmetric difference**"
      ]
    },
    {
      "cell_type": "code",
      "metadata": {
        "colab": {
          "base_uri": "https://localhost:8080/"
        },
        "id": "cpDbulxDVMnF",
        "outputId": "8d6defa3-54cb-4b25-8b93-8bc6b5825f7f"
      },
      "source": [
        "sl={'Java', 'Jython', 'R', 'Python', 'C++'}\n",
        "s ={\"Cobol\", \"Dbase\", \"C+\", \"SQL\", \"Python\"}\n",
        "su = sl.symmetric_difference(s)\n",
        "print(su)"
      ],
      "execution_count": null,
      "outputs": [
        {
          "output_type": "stream",
          "name": "stdout",
          "text": [
            "{'Java', 'C+', 'Dbase', 'C++', 'R', 'Cobol', 'Jython', 'SQL'}\n"
          ]
        }
      ]
    },
    {
      "cell_type": "markdown",
      "metadata": {
        "id": "S4kunTuyWwoI"
      },
      "source": [
        "# **Comprehension**"
      ]
    },
    {
      "cell_type": "code",
      "metadata": {
        "colab": {
          "base_uri": "https://localhost:8080/"
        },
        "id": "OcHzhWEXVz3j",
        "outputId": "8ff26b7e-1ba2-4e8d-c1ed-d7315df4eedc"
      },
      "source": [
        "sl={s for s in [\"Python\", \"Ruby\", \"Java\", \"R\"]}\n",
        "print(sl)\n",
        "print(type(sl))"
      ],
      "execution_count": null,
      "outputs": [
        {
          "output_type": "stream",
          "name": "stdout",
          "text": [
            "{'Java', 'Python', 'Ruby', 'R'}\n",
            "<class 'set'>\n"
          ]
        }
      ]
    },
    {
      "cell_type": "code",
      "metadata": {
        "colab": {
          "base_uri": "https://localhost:8080/"
        },
        "id": "9X0r1sZfW1cn",
        "outputId": "093c92c5-7269-4577-fd4b-8fef3cd1a74c"
      },
      "source": [
        "sl={s for s in [\"Python\", \"Ruby\", \"Java\", \"R\"] if s not in [\"Python\",\"Ruby\",\"R\"]}\n",
        "print(sl)"
      ],
      "execution_count": null,
      "outputs": [
        {
          "output_type": "stream",
          "name": "stdout",
          "text": [
            "{'Java'}\n"
          ]
        }
      ]
    },
    {
      "cell_type": "markdown",
      "metadata": {
        "id": "fqZqOEFLsHcy"
      },
      "source": [
        "# **Frozen sets**"
      ]
    },
    {
      "cell_type": "code",
      "metadata": {
        "id": "Gsfbuy1iXDRd",
        "colab": {
          "base_uri": "https://localhost:8080/"
        },
        "outputId": "5eb86328-6d62-48c0-d2b2-fb3111b37f56"
      },
      "source": [
        "l =[['one',1],['two',2],['three',3]]\n",
        "print(l)\n",
        "t =(('four',4),('five',5),('six',6))\n",
        "print(t)"
      ],
      "execution_count": null,
      "outputs": [
        {
          "output_type": "stream",
          "name": "stdout",
          "text": [
            "[['one', 1], ['two', 2], ['three', 3]]\n",
            "(('four', 4), ('five', 5), ('six', 6))\n"
          ]
        }
      ]
    },
    {
      "cell_type": "code",
      "metadata": {
        "colab": {
          "base_uri": "https://localhost:8080/",
          "height": 166
        },
        "id": "YxS3Zxq41ZIQ",
        "outputId": "a4d655b3-0e07-4fe0-ba83-aeb23e00bea7"
      },
      "source": [
        "s = set([set()])"
      ],
      "execution_count": null,
      "outputs": [
        {
          "output_type": "error",
          "ename": "TypeError",
          "evalue": "ignored",
          "traceback": [
            "\u001b[0;31m---------------------------------------------------------------------------\u001b[0m",
            "\u001b[0;31mTypeError\u001b[0m                                 Traceback (most recent call last)",
            "\u001b[0;32m<ipython-input-36-acaf30460a15>\u001b[0m in \u001b[0;36m<module>\u001b[0;34m()\u001b[0m\n\u001b[0;32m----> 1\u001b[0;31m \u001b[0ms\u001b[0m \u001b[0;34m=\u001b[0m \u001b[0mset\u001b[0m\u001b[0;34m(\u001b[0m\u001b[0;34m[\u001b[0m\u001b[0mset\u001b[0m\u001b[0;34m(\u001b[0m\u001b[0;34m)\u001b[0m\u001b[0;34m]\u001b[0m\u001b[0;34m)\u001b[0m\u001b[0;34m\u001b[0m\u001b[0;34m\u001b[0m\u001b[0m\n\u001b[0m",
            "\u001b[0;31mTypeError\u001b[0m: unhashable type: 'set'"
          ]
        }
      ]
    },
    {
      "cell_type": "code",
      "metadata": {
        "colab": {
          "base_uri": "https://localhost:8080/"
        },
        "id": "xQ0KyusC1kjC",
        "outputId": "c040c234-734d-46a0-8b45-5c37ec04c768"
      },
      "source": [
        "f = frozenset()\n",
        "print(f)"
      ],
      "execution_count": null,
      "outputs": [
        {
          "output_type": "stream",
          "name": "stdout",
          "text": [
            "frozenset()\n"
          ]
        }
      ]
    },
    {
      "cell_type": "code",
      "metadata": {
        "colab": {
          "base_uri": "https://localhost:8080/"
        },
        "id": "bR1WSoRj1t2z",
        "outputId": "815f1113-d8e9-41a8-88de-efc6b40239b8"
      },
      "source": [
        "s = set([frozenset()])\n",
        "print(s)"
      ],
      "execution_count": null,
      "outputs": [
        {
          "output_type": "stream",
          "name": "stdout",
          "text": [
            "{frozenset()}\n"
          ]
        }
      ]
    },
    {
      "cell_type": "code",
      "metadata": {
        "colab": {
          "base_uri": "https://localhost:8080/"
        },
        "id": "N-iaAvdW2DE1",
        "outputId": "0663a9f8-f9cb-47f0-c34f-b88abc5fc3db"
      },
      "source": [
        "t =('a','b','c','d')\n",
        "print(t)\n",
        "print(type(t))\n",
        "f = frozenset(t)\n",
        "print(f)\n",
        "print(type(f))"
      ],
      "execution_count": null,
      "outputs": [
        {
          "output_type": "stream",
          "name": "stdout",
          "text": [
            "('a', 'b', 'c', 'd')\n",
            "<class 'tuple'>\n",
            "frozenset({'c', 'a', 'b', 'd'})\n",
            "<class 'frozenset'>\n"
          ]
        }
      ]
    },
    {
      "cell_type": "markdown",
      "metadata": {
        "id": "87TR5MPD2YVf"
      },
      "source": [
        "# **Add value**\n",
        "You cannot add the values as they are immutable"
      ]
    },
    {
      "cell_type": "code",
      "metadata": {
        "colab": {
          "base_uri": "https://localhost:8080/",
          "height": 183
        },
        "id": "lC4FhQKk2X0L",
        "outputId": "ade54d28-a0d1-49e0-a33a-8b9b0b18221a"
      },
      "source": [
        "f.add('e')\n",
        "print(f)"
      ],
      "execution_count": null,
      "outputs": [
        {
          "output_type": "error",
          "ename": "AttributeError",
          "evalue": "ignored",
          "traceback": [
            "\u001b[0;31m---------------------------------------------------------------------------\u001b[0m",
            "\u001b[0;31mAttributeError\u001b[0m                            Traceback (most recent call last)",
            "\u001b[0;32m<ipython-input-40-3daa0b983d81>\u001b[0m in \u001b[0;36m<module>\u001b[0;34m()\u001b[0m\n\u001b[0;32m----> 1\u001b[0;31m \u001b[0mf\u001b[0m\u001b[0;34m.\u001b[0m\u001b[0madd\u001b[0m\u001b[0;34m(\u001b[0m\u001b[0;34m'e'\u001b[0m\u001b[0;34m)\u001b[0m\u001b[0;34m\u001b[0m\u001b[0;34m\u001b[0m\u001b[0m\n\u001b[0m\u001b[1;32m      2\u001b[0m \u001b[0mprint\u001b[0m\u001b[0;34m(\u001b[0m\u001b[0mf\u001b[0m\u001b[0;34m)\u001b[0m\u001b[0;34m\u001b[0m\u001b[0;34m\u001b[0m\u001b[0m\n",
            "\u001b[0;31mAttributeError\u001b[0m: 'frozenset' object has no attribute 'add'"
          ]
        }
      ]
    },
    {
      "cell_type": "markdown",
      "metadata": {
        "id": "acJV-NtX2xQB"
      },
      "source": [
        "# **Dictionary**\n",
        "\n",
        "It is mutable. It has a key and a value"
      ]
    },
    {
      "cell_type": "code",
      "metadata": {
        "colab": {
          "base_uri": "https://localhost:8080/"
        },
        "id": "rDmUrf0H3EpT",
        "outputId": "43da9e58-a50d-46c9-ceff-61f7144d9300"
      },
      "source": [
        "d ={\"a\":\"apple\",\"b\":\"ball\",\"c\":\"cat\"}\n",
        "print(d)\n",
        "print(type(d))"
      ],
      "execution_count": null,
      "outputs": [
        {
          "output_type": "stream",
          "name": "stdout",
          "text": [
            "{'a': 'apple', 'b': 'ball', 'c': 'cat'}\n",
            "<class 'dict'>\n"
          ]
        }
      ]
    },
    {
      "cell_type": "code",
      "metadata": {
        "colab": {
          "base_uri": "https://localhost:8080/",
          "height": 183
        },
        "id": "IReSZiEg3ZbS",
        "outputId": "a9609edb-acff-4088-df4a-e1e266ff7d2d"
      },
      "source": [
        "d ={[\"a\",\"b\",\"c\",\"d\"]:\"apple\",\"b\":\"ball\",\"c\":\"cat\"}\n",
        "print(d)"
      ],
      "execution_count": null,
      "outputs": [
        {
          "output_type": "error",
          "ename": "TypeError",
          "evalue": "ignored",
          "traceback": [
            "\u001b[0;31m---------------------------------------------------------------------------\u001b[0m",
            "\u001b[0;31mTypeError\u001b[0m                                 Traceback (most recent call last)",
            "\u001b[0;32m<ipython-input-42-9d9e3f2462a0>\u001b[0m in \u001b[0;36m<module>\u001b[0;34m()\u001b[0m\n\u001b[0;32m----> 1\u001b[0;31m \u001b[0md\u001b[0m \u001b[0;34m=\u001b[0m\u001b[0;34m{\u001b[0m\u001b[0;34m[\u001b[0m\u001b[0;34m\"a\"\u001b[0m\u001b[0;34m,\u001b[0m\u001b[0;34m\"b\"\u001b[0m\u001b[0;34m,\u001b[0m\u001b[0;34m\"c\"\u001b[0m\u001b[0;34m,\u001b[0m\u001b[0;34m\"d\"\u001b[0m\u001b[0;34m]\u001b[0m\u001b[0;34m:\u001b[0m\u001b[0;34m\"apple\"\u001b[0m\u001b[0;34m,\u001b[0m\u001b[0;34m\"b\"\u001b[0m\u001b[0;34m:\u001b[0m\u001b[0;34m\"ball\"\u001b[0m\u001b[0;34m,\u001b[0m\u001b[0;34m\"c\"\u001b[0m\u001b[0;34m:\u001b[0m\u001b[0;34m\"cat\"\u001b[0m\u001b[0;34m}\u001b[0m\u001b[0;34m\u001b[0m\u001b[0;34m\u001b[0m\u001b[0m\n\u001b[0m\u001b[1;32m      2\u001b[0m \u001b[0mprint\u001b[0m\u001b[0;34m(\u001b[0m\u001b[0md\u001b[0m\u001b[0;34m)\u001b[0m\u001b[0;34m\u001b[0m\u001b[0;34m\u001b[0m\u001b[0m\n",
            "\u001b[0;31mTypeError\u001b[0m: unhashable type: 'list'"
          ]
        }
      ]
    },
    {
      "cell_type": "code",
      "metadata": {
        "colab": {
          "base_uri": "https://localhost:8080/"
        },
        "id": "ktgd_Dhe3sdH",
        "outputId": "664dfa7a-5dfe-4b9e-f351-406d3ea7640a"
      },
      "source": [
        "d ={(\"a\",\"b\",\"c\",\"d\"):\"apple\",\"b\":\"ball\",\"c\":\"cat\"}\n",
        "print(d)"
      ],
      "execution_count": null,
      "outputs": [
        {
          "output_type": "stream",
          "name": "stdout",
          "text": [
            "{('a', 'b', 'c', 'd'): 'apple', 'b': 'ball', 'c': 'cat'}\n"
          ]
        }
      ]
    },
    {
      "cell_type": "markdown",
      "metadata": {
        "id": "KweGMkzH3_D3"
      },
      "source": [
        "# **Accessing a dictionary**"
      ]
    },
    {
      "cell_type": "code",
      "metadata": {
        "colab": {
          "base_uri": "https://localhost:8080/"
        },
        "id": "IzOQCVes33T4",
        "outputId": "9f37d6c5-fa72-4e36-963b-2b0bf23607d8"
      },
      "source": [
        "d.items()"
      ],
      "execution_count": null,
      "outputs": [
        {
          "output_type": "execute_result",
          "data": {
            "text/plain": [
              "dict_items([(('a', 'b', 'c', 'd'), 'apple'), ('b', 'ball'), ('c', 'cat')])"
            ]
          },
          "metadata": {},
          "execution_count": 44
        }
      ]
    },
    {
      "cell_type": "code",
      "metadata": {
        "colab": {
          "base_uri": "https://localhost:8080/"
        },
        "id": "FTjawtxQ4DJC",
        "outputId": "7abd3f14-e9b2-4ab3-b2e9-76605c719bdf"
      },
      "source": [
        "d ={\"a\":\"apple\",\"b\":\"ball\",\"c\":\"cat\"}\n",
        "for key, value in d.items():\n",
        "  print(key,end=',')"
      ],
      "execution_count": null,
      "outputs": [
        {
          "output_type": "stream",
          "name": "stdout",
          "text": [
            "a,b,c,"
          ]
        }
      ]
    },
    {
      "cell_type": "code",
      "metadata": {
        "colab": {
          "base_uri": "https://localhost:8080/"
        },
        "id": "xZoaVrQS4WFv",
        "outputId": "a6e30e5d-dc20-428d-9baf-aea29185749f"
      },
      "source": [
        "d ={\"a\":\"apple\",\"b\":\"ball\",\"c\":\"cat\"}\n",
        "for key, value in d.items():\n",
        "  print(value,end=',')"
      ],
      "execution_count": null,
      "outputs": [
        {
          "output_type": "stream",
          "name": "stdout",
          "text": [
            "apple,ball,cat,"
          ]
        }
      ]
    },
    {
      "cell_type": "code",
      "metadata": {
        "colab": {
          "base_uri": "https://localhost:8080/"
        },
        "id": "KwI0oGNZ4f10",
        "outputId": "83e54c3d-07f8-4adc-f3dd-85d0b5489b51"
      },
      "source": [
        "d ={\"a\":\"apple\",\"b\":\"ball\",\"c\":\"cat\"}\n",
        "print(d.values())"
      ],
      "execution_count": null,
      "outputs": [
        {
          "output_type": "stream",
          "name": "stdout",
          "text": [
            "dict_values(['apple', 'ball', 'cat'])\n"
          ]
        }
      ]
    },
    {
      "cell_type": "code",
      "metadata": {
        "colab": {
          "base_uri": "https://localhost:8080/"
        },
        "id": "UHCPXlY04m0M",
        "outputId": "cbe69801-2fca-4da7-d7ce-297ea5e05178"
      },
      "source": [
        "print(d['b'])"
      ],
      "execution_count": null,
      "outputs": [
        {
          "output_type": "stream",
          "name": "stdout",
          "text": [
            "ball\n"
          ]
        }
      ]
    },
    {
      "cell_type": "code",
      "metadata": {
        "colab": {
          "base_uri": "https://localhost:8080/"
        },
        "id": "uPustV0r42F9",
        "outputId": "7e95d1d2-d626-4dd0-ce35-d19bbcff7fc6"
      },
      "source": [
        "nd = {\"institute\":{\"course\":\"python\",\"ML\":\"Machine Learning\",\"DL\":\"Deep Learning\"}}\n",
        "print(nd)"
      ],
      "execution_count": null,
      "outputs": [
        {
          "output_type": "stream",
          "name": "stdout",
          "text": [
            "{'institute': {'course': 'python', 'ML': 'Machine Learning', 'DL': 'Deep Learning'}}\n"
          ]
        }
      ]
    },
    {
      "cell_type": "code",
      "metadata": {
        "colab": {
          "base_uri": "https://localhost:8080/"
        },
        "id": "XBpcI-D_5Ust",
        "outputId": "88103c1e-ef12-4090-9ce7-9d78e383ecfe"
      },
      "source": [
        "print(nd['institute']['course'])"
      ],
      "execution_count": null,
      "outputs": [
        {
          "output_type": "stream",
          "name": "stdout",
          "text": [
            "python\n"
          ]
        }
      ]
    },
    {
      "cell_type": "code",
      "metadata": {
        "colab": {
          "base_uri": "https://localhost:8080/"
        },
        "id": "E5iFU7-R570R",
        "outputId": "ed50197a-c40e-4bd6-a69b-84c0f05424c2"
      },
      "source": [
        "print(nd['institute'])"
      ],
      "execution_count": null,
      "outputs": [
        {
          "output_type": "stream",
          "name": "stdout",
          "text": [
            "{'course': 'python', 'ML': 'Machine Learning', 'DL': 'Deep Learning'}\n"
          ]
        }
      ]
    },
    {
      "cell_type": "code",
      "metadata": {
        "colab": {
          "base_uri": "https://localhost:8080/"
        },
        "id": "vYD25BvD5UT7",
        "outputId": "aa2153c6-f755-47f5-cd62-770b564b44e9"
      },
      "source": [
        "print(nd['institute']['DL'])"
      ],
      "execution_count": null,
      "outputs": [
        {
          "output_type": "stream",
          "name": "stdout",
          "text": [
            "Deep Learning\n"
          ]
        }
      ]
    },
    {
      "cell_type": "code",
      "metadata": {
        "colab": {
          "base_uri": "https://localhost:8080/"
        },
        "id": "uZBZPyq16HiI",
        "outputId": "3235cee6-73a6-4950-99d7-4411d3dda32a"
      },
      "source": [
        "nd = {\"institute\":{\"course\":\"python\",\"ML\":\"Machine Learning\",\"DL\":\"Deep Learning\"},\"jobs\":\"DA\",\"HP\":\"hardware\"}\n",
        "print(nd)"
      ],
      "execution_count": null,
      "outputs": [
        {
          "output_type": "stream",
          "name": "stdout",
          "text": [
            "{'institute': {'course': 'python', 'ML': 'Machine Learning', 'DL': 'Deep Learning'}, 'jobs': 'DA', 'HP': 'hardware'}\n"
          ]
        }
      ]
    },
    {
      "cell_type": "code",
      "metadata": {
        "colab": {
          "base_uri": "https://localhost:8080/",
          "height": 35
        },
        "id": "kcEXiEsc6hH6",
        "outputId": "7d451db8-abca-40f7-9403-b25ab0e73370"
      },
      "source": [
        "nd[\"HP\"]"
      ],
      "execution_count": null,
      "outputs": [
        {
          "output_type": "execute_result",
          "data": {
            "application/vnd.google.colaboratory.intrinsic+json": {
              "type": "string"
            },
            "text/plain": [
              "'hardware'"
            ]
          },
          "metadata": {},
          "execution_count": 61
        }
      ]
    },
    {
      "cell_type": "markdown",
      "metadata": {
        "id": "580PeZdD8old"
      },
      "source": [
        "# **Example**\n",
        "\n",
        "Find frequency of words in a string"
      ]
    },
    {
      "cell_type": "code",
      "metadata": {
        "id": "MQ9xyTjq8Vzb",
        "colab": {
          "base_uri": "https://localhost:8080/"
        },
        "outputId": "4b9cb996-ca08-447e-970b-565bc79b368d"
      },
      "source": [
        "data='''The recent controversy of FB and WhatsApp compromising our data prompted me to write this. \n",
        "First things we need to understand what data is. \n",
        "Our personal information is data, our financial details is data, our location is data, our like and dislike is data, our opinion is data. \n",
        "In this digital world our data is everywhere. \n",
        "The moment someone says that our data would be compromised, and we start panicking. \n",
        "Let us see first what we share on the social media. \n",
        "When we create an account, we give our personal details like Date of Birth, e-mail id, mobile no (optional), Address (optional), Work, education things like this.\n",
        "On e-commerce site we give little more like our credit/debit card details. \n",
        "Creating a wallet, we give even the bank details. \n",
        "Why we trust some companies but not others? \n",
        "Apple stores all our details even our credit card details also. \n",
        "Why we trust it? Why we let people play with our minds? \n",
        "Someone comes up with an opinion because the person has grudges against a company. \n",
        "We just fall into the trap and raise hue and cry. \n",
        "When would we start using or own brains? FB and WhatsApp are now one. \n",
        "WhatsApp has a business app which can be linked with an FB page. \n",
        "Now if I want a WhatsApp button on my page it is obvious that data would be shared. \n",
        "Millions of sites share our data with FB and other social networking sites. The sites ask you to create and account. \n",
        "This data is shared with FB and other social networking sites. \n",
        "You can always shut them off. \n",
        "FB would show us advertisements of the sites we visited.\n",
        "What one shares on WhatsApp’s business account can be accessed by FB. \n",
        "There is still end-to-end encryption on WhatsApp. \n",
        "On a business account data which has something to do with the market would be of interest to the companies. \n",
        "FB would not be flashing anything you share on WhatsApp on FB. \n",
        "Images shared on WhatsApp would be of no interest to any company unless they are advertisements. \n",
        "A company would retain only the relevant keywords, who would be interested in keeping the articles, prepositions, adverbs, verbs? \n",
        "It is purely and purely for advertisement purpose. Otherwise, why would a company bother to invest in our data?'''\n",
        "\n",
        "words = dict()\n",
        "data_wrds = str(data).split()\n",
        "print(data_wrds)\n",
        "for i in range(len(data_wrds)):\n",
        "  if data_wrds[i] not in words:\n",
        "    words[data_wrds[i]] =1\n",
        "  else:\n",
        "    words[data_wrds[i]] +=1\n"
      ],
      "execution_count": null,
      "outputs": [
        {
          "output_type": "stream",
          "name": "stdout",
          "text": [
            "['The', 'recent', 'controversy', 'of', 'FB', 'and', 'WhatsApp', 'compromising', 'our', 'data', 'prompted', 'me', 'to', 'write', 'this.', 'First', 'things', 'we', 'need', 'to', 'understand', 'what', 'data', 'is.', 'Our', 'personal', 'information', 'is', 'data,', 'our', 'financial', 'details', 'is', 'data,', 'our', 'location', 'is', 'data,', 'our', 'like', 'and', 'dislike', 'is', 'data,', 'our', 'opinion', 'is', 'data.', 'In', 'this', 'digital', 'world', 'our', 'data', 'is', 'everywhere.', 'The', 'moment', 'someone', 'says', 'that', 'our', 'data', 'would', 'be', 'compromised,', 'and', 'we', 'start', 'panicking.', 'Let', 'us', 'see', 'first', 'what', 'we', 'share', 'on', 'the', 'social', 'media.', 'When', 'we', 'create', 'an', 'account,', 'we', 'give', 'our', 'personal', 'details', 'like', 'Date', 'of', 'Birth,', 'e-mail', 'id,', 'mobile', 'no', '(optional),', 'Address', '(optional),', 'Work,', 'education', 'things', 'like', 'this.', 'On', 'e-commerce', 'site', 'we', 'give', 'little', 'more', 'like', 'our', 'credit/debit', 'card', 'details.', 'Creating', 'a', 'wallet,', 'we', 'give', 'even', 'the', 'bank', 'details.', 'Why', 'we', 'trust', 'some', 'companies', 'but', 'not', 'others?', 'Apple', 'stores', 'all', 'our', 'details', 'even', 'our', 'credit', 'card', 'details', 'also.', 'Why', 'we', 'trust', 'it?', 'Why', 'we', 'let', 'people', 'play', 'with', 'our', 'minds?', 'Someone', 'comes', 'up', 'with', 'an', 'opinion', 'because', 'the', 'person', 'has', 'grudges', 'against', 'a', 'company.', 'We', 'just', 'fall', 'into', 'the', 'trap', 'and', 'raise', 'hue', 'and', 'cry.', 'When', 'would', 'we', 'start', 'using', 'or', 'own', 'brains?', 'FB', 'and', 'WhatsApp', 'are', 'now', 'one.', 'WhatsApp', 'has', 'a', 'business', 'app', 'which', 'can', 'be', 'linked', 'with', 'an', 'FB', 'page.', 'Now', 'if', 'I', 'want', 'a', 'WhatsApp', 'button', 'on', 'my', 'page', 'it', 'is', 'obvious', 'that', 'data', 'would', 'be', 'shared.', 'Millions', 'of', 'sites', 'share', 'our', 'data', 'with', 'FB', 'and', 'other', 'social', 'networking', 'sites.', 'The', 'sites', 'ask', 'you', 'to', 'create', 'and', 'account.', 'This', 'data', 'is', 'shared', 'with', 'FB', 'and', 'other', 'social', 'networking', 'sites.', 'You', 'can', 'always', 'shut', 'them', 'off.', 'FB', 'would', 'show', 'us', 'advertisements', 'of', 'the', 'sites', 'we', 'visited.', 'What', 'one', 'shares', 'on', 'WhatsApp’s', 'business', 'account', 'can', 'be', 'accessed', 'by', 'FB.', 'There', 'is', 'still', 'end-to-end', 'encryption', 'on', 'WhatsApp.', 'On', 'a', 'business', 'account', 'data', 'which', 'has', 'something', 'to', 'do', 'with', 'the', 'market', 'would', 'be', 'of', 'interest', 'to', 'the', 'companies.', 'FB', 'would', 'not', 'be', 'flashing', 'anything', 'you', 'share', 'on', 'WhatsApp', 'on', 'FB.', 'Images', 'shared', 'on', 'WhatsApp', 'would', 'be', 'of', 'no', 'interest', 'to', 'any', 'company', 'unless', 'they', 'are', 'advertisements.', 'A', 'company', 'would', 'retain', 'only', 'the', 'relevant', 'keywords,', 'who', 'would', 'be', 'interested', 'in', 'keeping', 'the', 'articles,', 'prepositions,', 'adverbs,', 'verbs?', 'It', 'is', 'purely', 'and', 'purely', 'for', 'advertisement', 'purpose.', 'Otherwise,', 'why', 'would', 'a', 'company', 'bother', 'to', 'invest', 'in', 'our', 'data?']\n"
          ]
        }
      ]
    },
    {
      "cell_type": "markdown",
      "metadata": {
        "id": "C8uJ0uarDDU2"
      },
      "source": [
        "The coode creates an empty dictionary then splits the original data and stores in data_wrds. The code then iterates from 0 to the lenght data_wrds. If the word is not present in the dictionary it is added in the dictionary otherwise the frequency is incremented by 1. In the dictionary created word is the key and value is the fequency."
      ]
    },
    {
      "cell_type": "code",
      "metadata": {
        "colab": {
          "base_uri": "https://localhost:8080/"
        },
        "id": "8XIs5NL5C1Vr",
        "outputId": "46199189-9d41-431e-c3c8-39bf9b97b6cb"
      },
      "source": [
        "words"
      ],
      "execution_count": null,
      "outputs": [
        {
          "output_type": "execute_result",
          "data": {
            "text/plain": [
              "{'(optional),': 2,\n",
              " 'A': 1,\n",
              " 'Address': 1,\n",
              " 'Apple': 1,\n",
              " 'Birth,': 1,\n",
              " 'Creating': 1,\n",
              " 'Date': 1,\n",
              " 'FB': 7,\n",
              " 'FB.': 2,\n",
              " 'First': 1,\n",
              " 'I': 1,\n",
              " 'Images': 1,\n",
              " 'In': 1,\n",
              " 'It': 1,\n",
              " 'Let': 1,\n",
              " 'Millions': 1,\n",
              " 'Now': 1,\n",
              " 'On': 2,\n",
              " 'Otherwise,': 1,\n",
              " 'Our': 1,\n",
              " 'Someone': 1,\n",
              " 'The': 3,\n",
              " 'There': 1,\n",
              " 'This': 1,\n",
              " 'We': 1,\n",
              " 'What': 1,\n",
              " 'WhatsApp': 6,\n",
              " 'WhatsApp.': 1,\n",
              " 'WhatsApp’s': 1,\n",
              " 'When': 2,\n",
              " 'Why': 3,\n",
              " 'Work,': 1,\n",
              " 'You': 1,\n",
              " 'a': 6,\n",
              " 'accessed': 1,\n",
              " 'account': 2,\n",
              " 'account,': 1,\n",
              " 'account.': 1,\n",
              " 'adverbs,': 1,\n",
              " 'advertisement': 1,\n",
              " 'advertisements': 1,\n",
              " 'advertisements.': 1,\n",
              " 'against': 1,\n",
              " 'all': 1,\n",
              " 'also.': 1,\n",
              " 'always': 1,\n",
              " 'an': 3,\n",
              " 'and': 10,\n",
              " 'any': 1,\n",
              " 'anything': 1,\n",
              " 'app': 1,\n",
              " 'are': 2,\n",
              " 'articles,': 1,\n",
              " 'ask': 1,\n",
              " 'bank': 1,\n",
              " 'be': 8,\n",
              " 'because': 1,\n",
              " 'bother': 1,\n",
              " 'brains?': 1,\n",
              " 'business': 3,\n",
              " 'but': 1,\n",
              " 'button': 1,\n",
              " 'by': 1,\n",
              " 'can': 3,\n",
              " 'card': 2,\n",
              " 'comes': 1,\n",
              " 'companies': 1,\n",
              " 'companies.': 1,\n",
              " 'company': 3,\n",
              " 'company.': 1,\n",
              " 'compromised,': 1,\n",
              " 'compromising': 1,\n",
              " 'controversy': 1,\n",
              " 'create': 2,\n",
              " 'credit': 1,\n",
              " 'credit/debit': 1,\n",
              " 'cry.': 1,\n",
              " 'data': 8,\n",
              " 'data,': 4,\n",
              " 'data.': 1,\n",
              " 'data?': 1,\n",
              " 'details': 4,\n",
              " 'details.': 2,\n",
              " 'digital': 1,\n",
              " 'dislike': 1,\n",
              " 'do': 1,\n",
              " 'e-commerce': 1,\n",
              " 'e-mail': 1,\n",
              " 'education': 1,\n",
              " 'encryption': 1,\n",
              " 'end-to-end': 1,\n",
              " 'even': 2,\n",
              " 'everywhere.': 1,\n",
              " 'fall': 1,\n",
              " 'financial': 1,\n",
              " 'first': 1,\n",
              " 'flashing': 1,\n",
              " 'for': 1,\n",
              " 'give': 3,\n",
              " 'grudges': 1,\n",
              " 'has': 3,\n",
              " 'hue': 1,\n",
              " 'id,': 1,\n",
              " 'if': 1,\n",
              " 'in': 2,\n",
              " 'information': 1,\n",
              " 'interest': 2,\n",
              " 'interested': 1,\n",
              " 'into': 1,\n",
              " 'invest': 1,\n",
              " 'is': 10,\n",
              " 'is.': 1,\n",
              " 'it': 1,\n",
              " 'it?': 1,\n",
              " 'just': 1,\n",
              " 'keeping': 1,\n",
              " 'keywords,': 1,\n",
              " 'let': 1,\n",
              " 'like': 4,\n",
              " 'linked': 1,\n",
              " 'little': 1,\n",
              " 'location': 1,\n",
              " 'market': 1,\n",
              " 'me': 1,\n",
              " 'media.': 1,\n",
              " 'minds?': 1,\n",
              " 'mobile': 1,\n",
              " 'moment': 1,\n",
              " 'more': 1,\n",
              " 'my': 1,\n",
              " 'need': 1,\n",
              " 'networking': 2,\n",
              " 'no': 2,\n",
              " 'not': 2,\n",
              " 'now': 1,\n",
              " 'obvious': 1,\n",
              " 'of': 6,\n",
              " 'off.': 1,\n",
              " 'on': 7,\n",
              " 'one': 1,\n",
              " 'one.': 1,\n",
              " 'only': 1,\n",
              " 'opinion': 2,\n",
              " 'or': 1,\n",
              " 'other': 2,\n",
              " 'others?': 1,\n",
              " 'our': 14,\n",
              " 'own': 1,\n",
              " 'page': 1,\n",
              " 'page.': 1,\n",
              " 'panicking.': 1,\n",
              " 'people': 1,\n",
              " 'person': 1,\n",
              " 'personal': 2,\n",
              " 'play': 1,\n",
              " 'prepositions,': 1,\n",
              " 'prompted': 1,\n",
              " 'purely': 2,\n",
              " 'purpose.': 1,\n",
              " 'raise': 1,\n",
              " 'recent': 1,\n",
              " 'relevant': 1,\n",
              " 'retain': 1,\n",
              " 'says': 1,\n",
              " 'see': 1,\n",
              " 'share': 3,\n",
              " 'shared': 2,\n",
              " 'shared.': 1,\n",
              " 'shares': 1,\n",
              " 'show': 1,\n",
              " 'shut': 1,\n",
              " 'site': 1,\n",
              " 'sites': 3,\n",
              " 'sites.': 2,\n",
              " 'social': 3,\n",
              " 'some': 1,\n",
              " 'someone': 1,\n",
              " 'something': 1,\n",
              " 'start': 2,\n",
              " 'still': 1,\n",
              " 'stores': 1,\n",
              " 'that': 2,\n",
              " 'the': 9,\n",
              " 'them': 1,\n",
              " 'they': 1,\n",
              " 'things': 2,\n",
              " 'this': 1,\n",
              " 'this.': 2,\n",
              " 'to': 7,\n",
              " 'trap': 1,\n",
              " 'trust': 2,\n",
              " 'understand': 1,\n",
              " 'unless': 1,\n",
              " 'up': 1,\n",
              " 'us': 2,\n",
              " 'using': 1,\n",
              " 'verbs?': 1,\n",
              " 'visited.': 1,\n",
              " 'wallet,': 1,\n",
              " 'want': 1,\n",
              " 'we': 12,\n",
              " 'what': 2,\n",
              " 'which': 2,\n",
              " 'who': 1,\n",
              " 'why': 1,\n",
              " 'with': 6,\n",
              " 'world': 1,\n",
              " 'would': 10,\n",
              " 'write': 1,\n",
              " 'you': 2}"
            ]
          },
          "metadata": {},
          "execution_count": 66
        }
      ]
    },
    {
      "cell_type": "markdown",
      "metadata": {
        "id": "10nbxnsfE1dm"
      },
      "source": [
        "To understand the working better look at the code given below. I created an empty dictionary. Now when I write d['python]=1 then it adds python as the key and 1 as its value. now python will have 1 as its value. Now when I give \n",
        "d['python'] +=1 then the value is incremented by 1. "
      ]
    },
    {
      "cell_type": "code",
      "metadata": {
        "colab": {
          "base_uri": "https://localhost:8080/"
        },
        "id": "L2rgBAcjEj7N",
        "outputId": "d6d3fba0-390d-4d50-9ac7-9f38184ef117"
      },
      "source": [
        "d =dict()\n",
        "d['python']=1\n",
        "print(d)\n",
        "d['python'] +=1\n",
        "print(d)"
      ],
      "execution_count": null,
      "outputs": [
        {
          "output_type": "stream",
          "name": "stdout",
          "text": [
            "{'python': 1}\n",
            "{'python': 2}\n"
          ]
        }
      ]
    }
  ]
}