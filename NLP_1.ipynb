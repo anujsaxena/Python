{
  "nbformat": 4,
  "nbformat_minor": 0,
  "metadata": {
    "colab": {
      "name": "NLP_1.ipynb",
      "provenance": [],
      "collapsed_sections": [],
      "authorship_tag": "ABX9TyOp0ITmQu/c07veiQ26WZAT",
      "include_colab_link": true
    },
    "kernelspec": {
      "name": "python3",
      "display_name": "Python 3"
    },
    "language_info": {
      "name": "python"
    }
  },
  "cells": [
    {
      "cell_type": "markdown",
      "metadata": {
        "id": "view-in-github",
        "colab_type": "text"
      },
      "source": [
        "<a href=\"https://colab.research.google.com/github/anujsaxena/Python/blob/main/NLP_1.ipynb\" target=\"_parent\"><img src=\"https://colab.research.google.com/assets/colab-badge.svg\" alt=\"Open In Colab\"/></a>"
      ]
    },
    {
      "cell_type": "markdown",
      "metadata": {
        "id": "FA5MOrcpxCfC"
      },
      "source": [
        "# **Natural Language processing (NLP)**\n",
        "\n",
        "**Text Analytics and NLP**\n",
        "\n",
        "One of the most common kinds of day-to-day conversion is text communication. In our everyday routine, we talk, message, tweet, post status, email, create blogs, and offer opinions and criticism. All of these actions result in a substantial volume of unstructured text being produced. It is critical to examine enormous amounts of data in this sector of the internet marketplace and social media to comprehend people's opinions.\n",
        "\n",
        "\n",
        "NLP allows a computer to communicate with people in a natural way. It assists the computer with comprehending and deriving meaning from human words. NLP may be used to solve a variety of problems, including speech recognition, language translation, document classification, and information extraction. Analyzing movie reviews is a famous example of using a simple NLP Bag-of-words model to show a simple NLP Bag-of-words model.\n",
        "\n",
        "**Compare Text Analytics, NLP and Text Mining**\n",
        "\n",
        "Text mining also referred to as text analytics. Text mining is a process of exploring sizeable textual data and find patterns. Text Mining process the text itself, while NLP process with the underlying metadata. Finding frequency counts of words, length of the sentence, presence/absence of specific words is known as text mining. Natural language processing is one of the components of text mining. NLP helps identified sentiment, finding entities in the sentence, and category of blog/article. Text mining is preprocessed data for text analytics. In Text Analytics, statistical and machine learning algorithm used to classify information.\n",
        "\n",
        "**Text Analysis Operations using NLTK**\n",
        "\n",
        "NLTK is a powerful Python package that provides a set of diverse natural languages algorithms. It is free, opensource, easy to use, large community, and well documented. NLTK consists of the most common algorithms such as tokenizing, part-of-speech tagging, stemming, sentiment analysis, topic segmentation, and named entity recognition. NLTK helps the computer to analysis, preprocess, and understand the written text.\n",
        "\n"
      ]
    },
    {
      "cell_type": "code",
      "metadata": {
        "id": "Olx93KHfz9nh"
      },
      "source": [
        "\n",
        "import nltk\n"
      ],
      "execution_count": 1,
      "outputs": []
    },
    {
      "cell_type": "markdown",
      "metadata": {
        "id": "kdI0tWbN1WmT"
      },
      "source": [
        "# **Tokenization**\n",
        "\n",
        "Tokenization is the first step in text analytics. The process of breaking down a text paragraph into smaller chunks such as words or sentence is called Tokenization. Token is a single entity that is building blocks for sentence or paragraph.\n"
      ]
    },
    {
      "cell_type": "code",
      "metadata": {
        "colab": {
          "base_uri": "https://localhost:8080/"
        },
        "id": "6E7HXlpu2Ip9",
        "outputId": "fefcf426-cfef-48dc-febc-b8257a50452d"
      },
      "source": [
        "nltk.download('punkt')"
      ],
      "execution_count": 3,
      "outputs": [
        {
          "output_type": "stream",
          "name": "stdout",
          "text": [
            "[nltk_data] Downloading package punkt to /root/nltk_data...\n",
            "[nltk_data]   Unzipping tokenizers/punkt.zip.\n"
          ]
        },
        {
          "output_type": "execute_result",
          "data": {
            "text/plain": [
              "True"
            ]
          },
          "metadata": {},
          "execution_count": 3
        }
      ]
    },
    {
      "cell_type": "code",
      "metadata": {
        "colab": {
          "base_uri": "https://localhost:8080/"
        },
        "id": "lFn7ikFU1aT8",
        "outputId": "9591c006-831d-462f-c25f-a304d58a72c6"
      },
      "source": [
        "from nltk.tokenize import sent_tokenize\n",
        "\n",
        "text=\"We are having lot of fun with Python. It is very easy and user friendly. Will be exploring NLP from today\"\n",
        "tks = sent_tokenize(text)\n",
        "print(tks)"
      ],
      "execution_count": 14,
      "outputs": [
        {
          "output_type": "stream",
          "name": "stdout",
          "text": [
            "['We are having lot of fun with Python.', 'It is very easy and user friendly.', 'Will be exploring NLP from today']\n"
          ]
        }
      ]
    },
    {
      "cell_type": "markdown",
      "metadata": {
        "id": "3lCF_Jp72dcB"
      },
      "source": [
        "# **Tokenize words**\n",
        "\n",
        "Word tokenizer breaks text paragraph into words."
      ]
    },
    {
      "cell_type": "code",
      "metadata": {
        "colab": {
          "base_uri": "https://localhost:8080/"
        },
        "id": "DZw6vd532kVc",
        "outputId": "b1929d05-90ad-4732-a3e5-dd4c9b42d4ac"
      },
      "source": [
        "from nltk.tokenize import word_tokenize\n",
        "\n",
        "text=\"We are having lot of fun with Python. It is very easy and user friendly. Will be exploring NLP from today\"\n",
        "tk = word_tokenize(text)\n",
        "print(tk)"
      ],
      "execution_count": 5,
      "outputs": [
        {
          "output_type": "stream",
          "name": "stdout",
          "text": [
            "['We', 'are', 'having', 'lot', 'of', 'fun', 'with', 'Python', '.', 'It', 'is', 'very', 'easy', 'and', 'user', 'friendly', '.', 'Will', 'be', 'exploring', 'NLP', 'from', 'today']\n"
          ]
        }
      ]
    },
    {
      "cell_type": "markdown",
      "metadata": {
        "id": "2LiEWLTY25DC"
      },
      "source": [
        "# **Frequency**"
      ]
    },
    {
      "cell_type": "code",
      "metadata": {
        "colab": {
          "base_uri": "https://localhost:8080/"
        },
        "id": "faSqFboj2-OG",
        "outputId": "61883723-046d-4fb4-fbb1-01ab9d48bb62"
      },
      "source": [
        "from nltk.probability import FreqDist\n",
        "fdist = FreqDist(tk)\n",
        "print(fdist)\n"
      ],
      "execution_count": 6,
      "outputs": [
        {
          "output_type": "stream",
          "name": "stdout",
          "text": [
            "<FreqDist with 22 samples and 23 outcomes>\n"
          ]
        }
      ]
    },
    {
      "cell_type": "code",
      "metadata": {
        "colab": {
          "base_uri": "https://localhost:8080/"
        },
        "id": "dj3aWRj_3NHO",
        "outputId": "a9496714-fbaa-4e5b-cf88-1aac6ea130d8"
      },
      "source": [
        "print(fdist.most_common(2))"
      ],
      "execution_count": 7,
      "outputs": [
        {
          "output_type": "stream",
          "name": "stdout",
          "text": [
            "[('.', 2), ('We', 1)]\n"
          ]
        }
      ]
    },
    {
      "cell_type": "code",
      "metadata": {
        "colab": {
          "base_uri": "https://localhost:8080/",
          "height": 316
        },
        "id": "NzedDZZw3f_B",
        "outputId": "cdf20362-bf2d-40c0-afa6-6006a07533c3"
      },
      "source": [
        "import matplotlib.pyplot as plt\n",
        "fdist.plot(30,cumulative=False)\n",
        "plt.show()"
      ],
      "execution_count": 8,
      "outputs": [
        {
          "output_type": "display_data",
          "data": {
            "image/png": "[encoded data removed]",
            "text/plain": [
              "<Figure size 432x288 with 1 Axes>"
            ]
          },
          "metadata": {
            "needs_background": "light"
          }
        }
      ]
    },
    {
      "cell_type": "markdown",
      "metadata": {
        "id": "enliNx6i4M-N"
      },
      "source": [
        "# **Stop words**\n",
        "\n",
        "Stopwords considered as noise in the text. Text may contain stop words such as is, am, are, this, a, an, the, etc.\n",
        "\n",
        "In NLTK for removing stopwords, you need to create a list of stopwords and filter out your list of tokens from these words.\n"
      ]
    },
    {
      "cell_type": "code",
      "metadata": {
        "colab": {
          "base_uri": "https://localhost:8080/"
        },
        "id": "Kn4-of9Q4jbR",
        "outputId": "f59dd74a-11dc-424c-9be6-f00a648ba001"
      },
      "source": [
        "nltk.download('stopwords')"
      ],
      "execution_count": 10,
      "outputs": [
        {
          "output_type": "stream",
          "name": "stdout",
          "text": [
            "[nltk_data] Downloading package stopwords to /root/nltk_data...\n",
            "[nltk_data]   Unzipping corpora/stopwords.zip.\n"
          ]
        },
        {
          "output_type": "execute_result",
          "data": {
            "text/plain": [
              "True"
            ]
          },
          "metadata": {},
          "execution_count": 10
        }
      ]
    },
    {
      "cell_type": "code",
      "metadata": {
        "colab": {
          "base_uri": "https://localhost:8080/"
        },
        "id": "ri-pRaU74XpK",
        "outputId": "b4fbde5e-0a9f-4a8b-d4f3-0907cd68523c"
      },
      "source": [
        "from nltk.corpus import stopwords\n",
        "stop_words=set(stopwords.words(\"english\"))\n",
        "print(stop_words)"
      ],
      "execution_count": 16,
      "outputs": [
        {
          "output_type": "stream",
          "name": "stdout",
          "text": [
            "{'be', 'do', 'where', 'doing', 'i', 'didn', 'doesn', 'all', \"doesn't\", 're', 'were', 'for', 'and', 'then', 'at', 'been', 'too', \"hasn't\", 'that', 'after', 'under', 'weren', 'during', 'had', 'has', 'wouldn', 'above', 'why', 'before', 'the', 'himself', 'each', 'our', 'we', 'a', 'while', \"you're\", 'you', 'my', 'are', 'when', 'into', 'not', 'again', 'hadn', 'only', \"mightn't\", \"wouldn't\", \"should've\", 'such', 'they', 'but', 'over', 'am', 'she', 'is', 'about', 'below', 'ma', \"weren't\", 'some', 'herself', \"shouldn't\", 'aren', 'mustn', 'as', 'should', \"don't\", 'hers', 'of', 'against', 'other', 'to', 'this', 'who', \"you've\", 'which', 'does', 'up', \"she's\", 'through', \"it's\", 'being', 'just', 'them', 'between', 'shan', \"needn't\", 'whom', 'm', 'these', 'off', \"isn't\", 'hasn', 'from', 'having', \"couldn't\", 'me', 'or', 'mightn', 'down', 'than', 'needn', 'any', 'so', 'their', 'shouldn', 'ourselves', 'd', 'will', \"you'd\", 'ours', 'myself', 'how', 'did', 'own', \"shan't\", 'most', 'out', 'those', \"wasn't\", 'themselves', 'because', 'o', 'it', 've', \"aren't\", 'both', 'no', 'couldn', 'on', 'same', 'very', 'itself', \"that'll\", 'don', 'him', 'here', 'more', \"haven't\", \"you'll\", 'an', 'isn', 'wasn', 'once', \"won't\", 'have', 'its', 'theirs', 'what', 'with', 's', 'yours', 'by', 'few', 'y', \"hadn't\", \"didn't\", 'your', 'was', 'nor', 'there', 't', 'now', 'further', 'won', 'her', 'ain', 'll', 'in', 'haven', 'if', \"mustn't\", 'until', 'he', 'his', 'yourselves', 'can', 'yourself'}\n"
          ]
        }
      ]
    },
    {
      "cell_type": "code",
      "metadata": {
        "colab": {
          "base_uri": "https://localhost:8080/"
        },
        "id": "HPNNkHAY4uuR",
        "outputId": "84666b9c-b01a-4f00-e7b0-6d9b3d60dbd9"
      },
      "source": [
        "from nltk.corpus import stopwords\n",
        "stop_wordsf=set(stopwords.words(\"french\"))\n",
        "print(stop_words)"
      ],
      "execution_count": 15,
      "outputs": [
        {
          "output_type": "stream",
          "name": "stdout",
          "text": [
            "{'aurez', 'même', 'sera', 'eûtes', 'était', 'auront', 'c', 'pas', 'soyons', 'ayante', 'ayant', 'j', 'fusse', 'elle', 'aie', 'votre', 'soit', 'avais', 'mon', 'étaient', 'eux', 'sont', 'avait', 'eues', 'ou', 'eurent', 'aient', 'étants', 'la', 'eussent', 'moi', 'dans', 'aurait', 'ayons', 'fut', 'eussions', 'avions', 'du', 'l', 'aurais', 'aies', 'étée', 'leur', 'ses', 'un', 'es', 'étantes', 'eue', 'été', 'qui', 'en', 'sois', 'ma', 'sur', 'serez', 'pour', 'étiez', 'as', 'avez', 'aviez', 'il', 'mais', 'ayez', 'ces', 'mes', 'ait', 'étions', 'fûmes', 'au', 'serons', 'fus', 'fusses', 'm', 'fût', 'eus', 'que', 'me', 'serais', 'ont', 'sa', 'auras', 'eusse', 'auraient', 'aurai', 'étant', 'eûmes', 'étais', 'ayantes', 'eusses', 'd', 'ils', 'aurons', 'ayants', 'tu', 'son', 'est', 'fussions', 'te', 'suis', 'étante', 'furent', 'notre', 'seriez', 'avec', 'ton', 'ne', 'toi', 'par', 'soient', 'le', 'serai', 'lui', 'aux', 'ta', 'vos', 'ce', 'seraient', 'sommes', 'serait', 'qu', 'on', 'seras', 'et', 'aura', 'une', 'avons', 'des', 'fûtes', 'à', 's', 'se', 'fussiez', 'avaient', 'eût', 'y', 'serions', 'n', 'eussiez', 'eu', 'tes', 't', 'les', 'soyez', 'de', 'êtes', 'vous', 'nous', 'eut', 'auriez', 'nos', 'fussent', 'ai', 'je', 'étées', 'seront', 'aurions', 'étés'}\n"
          ]
        }
      ]
    },
    {
      "cell_type": "markdown",
      "metadata": {
        "id": "GudYkm7W47dO"
      },
      "source": [
        "# **Remove Stop words**"
      ]
    },
    {
      "cell_type": "code",
      "metadata": {
        "colab": {
          "base_uri": "https://localhost:8080/"
        },
        "id": "v7u5ropC42t-",
        "outputId": "72254694-bc51-4ee3-b4a5-19464d008704"
      },
      "source": [
        "filtered_sent =[]\n",
        "for w in tk:\n",
        "    if w.lower() not in stop_words:\n",
        "        filtered_sent.append(w)\n",
        "print(\"Tokenized Sentence:\",tks)\n",
        "print(\"Filterd Sentence:\",filtered_sent)\n"
      ],
      "execution_count": 25,
      "outputs": [
        {
          "output_type": "stream",
          "name": "stdout",
          "text": [
            "Tokenized Sentence: ['We are having lot of fun with Python.', 'It is very easy and user friendly.', 'Will be exploring NLP from today']\n",
            "Filterd Sentence: ['lot', 'fun', 'Python', '.', 'easy', 'user', 'friendly', '.', 'exploring', 'NLP', 'today']\n"
          ]
        }
      ]
    },
    {
      "cell_type": "markdown",
      "metadata": {
        "id": "gxZO0Pmi7IHf"
      },
      "source": [
        "# **Lexicon Normalization**\n",
        "Lexicon normalization considers another type of noise in the text. For example, connection, connected, connecting word reduce to a common word \"connect\". It reduces derivationally related forms of a word to a common root word.\n",
        "\n",
        "# **Stemming**\n",
        "Stemming is a process of linguistic normalization, which reduces words to their word root word or chops off the derivational affixes. For example, connection, connected, connecting word reduce to a common word \"connect\".\n"
      ]
    },
    {
      "cell_type": "code",
      "metadata": {
        "colab": {
          "base_uri": "https://localhost:8080/"
        },
        "id": "mmtXnHTH7P4t",
        "outputId": "73bea131-57f7-4fb6-b0b9-f6d808427a3a"
      },
      "source": [
        "from nltk.stem import PorterStemmer\n",
        "from nltk.tokenize import sent_tokenize, word_tokenize\n",
        "ps = PorterStemmer()\n",
        "stemmed_words=[]\n",
        "for w in filtered_sent:\n",
        "  stemmed_words.append(ps.stem(w))\n",
        "\n",
        "print(\"Filtered Sentence:\",filtered_sent)\n",
        "print(\"Stemmed Sentence:\",stemmed_words)\n"
      ],
      "execution_count": 26,
      "outputs": [
        {
          "output_type": "stream",
          "name": "stdout",
          "text": [
            "Filtered Sentence: ['lot', 'fun', 'Python', '.', 'easy', 'user', 'friendly', '.', 'exploring', 'NLP', 'today']\n",
            "Stemmed Sentence: ['lot', 'fun', 'python', '.', 'easi', 'user', 'friendli', '.', 'explor', 'nlp', 'today']\n"
          ]
        }
      ]
    },
    {
      "cell_type": "markdown",
      "metadata": {
        "id": "RmIATiWk7_WV"
      },
      "source": [
        "# **Lemmatization**\n",
        "Lemmatization reduces words to their base word, which is linguistically correct lemmas. It transforms root word with the use of vocabulary and morphological analysis. Lemmatization is usually more sophisticated than stemming. Stemmer works on an individual word without knowledge of the context. For example, The word \"better\" has \"good\" as its lemma. This thing will miss by stemming because it requires a dictionary look-up.\n"
      ]
    },
    {
      "cell_type": "code",
      "metadata": {
        "colab": {
          "base_uri": "https://localhost:8080/"
        },
        "id": "_AGkFkMk73XV",
        "outputId": "995d5b93-95c5-4a96-937d-b5e6fd029339"
      },
      "source": [
        "#Lexicon Normalization\n",
        "#performing stemming and Lemmatization\n",
        "nltk.download('wordnet')\n",
        "from nltk.stem.wordnet import WordNetLemmatizer\n",
        "lem = WordNetLemmatizer()\n",
        "\n",
        "from nltk.stem.porter import PorterStemmer\n",
        "stem = PorterStemmer()\n",
        "\n",
        "word = \"flying\"\n",
        "print(\"Lemmatized Word:\",lem.lemmatize(word,\"v\"))\n",
        "print(\"Stemmed Word:\",stem.stem(word))\n"
      ],
      "execution_count": 28,
      "outputs": [
        {
          "output_type": "stream",
          "name": "stdout",
          "text": [
            "[nltk_data] Downloading package wordnet to /root/nltk_data...\n",
            "[nltk_data]   Unzipping corpora/wordnet.zip.\n",
            "Lemmatized Word: fly\n",
            "Stemmed Word: fli\n"
          ]
        }
      ]
    },
    {
      "cell_type": "markdown",
      "metadata": {
        "id": "Vv5QYde68jf3"
      },
      "source": [
        "# **Part of Speech (POS)**\n",
        "\n",
        "The primary target of Part-of-Speech(POS) tagging is to identify the grammatical group of a given word. Whether it is a NOUN, PRONOUN, ADJECTIVE, VERB, ADVERBS, etc. based on the context. POS Tagging looks for relationships within the sentence and assigns a corresponding tag to the word."
      ]
    },
    {
      "cell_type": "code",
      "metadata": {
        "colab": {
          "base_uri": "https://localhost:8080/"
        },
        "id": "a_i3i0ZG8jAs",
        "outputId": "09a492c4-4c77-406d-95dc-9881734b2d36"
      },
      "source": [
        "sent =\"Ravi Shastri was a great cricketer of India. He played for Maharstra in domestic cricket. He had a record of htting 6 fours in an over.\"\n",
        "tokens=nltk.word_tokenize(sent)\n",
        "print(tokens)\n"
      ],
      "execution_count": 29,
      "outputs": [
        {
          "output_type": "stream",
          "name": "stdout",
          "text": [
            "['Ravi', 'Shastri', 'was', 'a', 'great', 'cricketer', 'of', 'India', '.', 'He', 'played', 'for', 'Maharstra', 'in', 'domestic', 'cricket', '.', 'He', 'had', 'a', 'record', 'of', 'htting', '6', 'fours', 'in', 'an', 'over', '.']\n"
          ]
        }
      ]
    },
    {
      "cell_type": "code",
      "metadata": {
        "colab": {
          "base_uri": "https://localhost:8080/"
        },
        "id": "4qXIDrqj9LIm",
        "outputId": "9e57b6d8-15d2-4d9b-ca8e-1491a9c265af"
      },
      "source": [
        "nltk.download('averaged_perceptron_tagger')\n",
        "ps = nltk.pos_tag(tokens)\n",
        "print(ps)"
      ],
      "execution_count": 31,
      "outputs": [
        {
          "output_type": "stream",
          "name": "stdout",
          "text": [
            "[nltk_data] Downloading package averaged_perceptron_tagger to\n",
            "[nltk_data]     /root/nltk_data...\n",
            "[nltk_data]   Unzipping taggers/averaged_perceptron_tagger.zip.\n",
            "[('Ravi', 'NNP'), ('Shastri', 'NNP'), ('was', 'VBD'), ('a', 'DT'), ('great', 'JJ'), ('cricketer', 'NN'), ('of', 'IN'), ('India', 'NNP'), ('.', '.'), ('He', 'PRP'), ('played', 'VBD'), ('for', 'IN'), ('Maharstra', 'NNP'), ('in', 'IN'), ('domestic', 'JJ'), ('cricket', 'NN'), ('.', '.'), ('He', 'PRP'), ('had', 'VBD'), ('a', 'DT'), ('record', 'NN'), ('of', 'IN'), ('htting', 'VBG'), ('6', 'CD'), ('fours', 'NNS'), ('in', 'IN'), ('an', 'DT'), ('over', 'NN'), ('.', '.')]\n"
          ]
        }
      ]
    },
    {
      "cell_type": "markdown",
      "metadata": {
        "id": "JPeTrFjo9pwa"
      },
      "source": [
        "\n",
        "\n",
        "```\n",
        "POS tag list:\n",
        "CC\tcoordinating conjunction\n",
        "CD\tcardinal digit\n",
        "DT\tdeterminer\n",
        "EX\texistential there (like: \"there is\" ... think of it like \"there exists\")\n",
        "FW\tforeign word\n",
        "IN\tpreposition/subordinating conjunction\n",
        "JJ\tadjective\t'big'\n",
        "JJR\tadjective, comparative\t'bigger'\n",
        "JJS\tadjective, superlative\t'biggest'\n",
        "LS\tlist marker\t1)\n",
        "MD\tmodal\tcould, will\n",
        "NN\tnoun, singular 'desk'\n",
        "NNS\tnoun plural\t'desks'\n",
        "NNP\tproper noun, singular\t'Harrison'\n",
        "NNPS\tproper noun, plural\t'Americans'\n",
        "PDT\tpredeterminer\t'all the kids'\n",
        "POS\tpossessive ending\tparent\\'s\n",
        "PRP\tpersonal pronoun\tI, he, she\n",
        "PRP$\tpossessive pronoun\tmy, his, hers\n",
        "RB\tadverb\tvery, silently,\n",
        "RBR\tadverb, comparative\tbetter\n",
        "RBS\tadverb, superlative\tbest\n",
        "RP\tparticle\tgive up\n",
        "TO\tto\tgo 'to' the store.\n",
        "UH\tinterjection\terrrrrrrrm\n",
        "VB\tverb, base form\ttake\n",
        "VBD\tverb, past tense\ttook\n",
        "VBG\tverb, gerund/present participle\ttaking\n",
        "VBN\tverb, past participle\ttaken\n",
        "VBP\tverb, sing. present, non-3d\ttake\n",
        "VBZ\tverb, 3rd person sing. present\ttakes\n",
        "WDT\twh-determiner\twhich\n",
        "WP\twh-pronoun\twho, what\n",
        "WP$\tpossessive wh-pronoun\twhose\n",
        "WRB\twh-abverb\twhere, when\n",
        "\n",
        "```\n",
        "\n"
      ]
    },
    {
      "cell_type": "code",
      "metadata": {
        "id": "bH8Jok9Z9ijs"
      },
      "source": [
        ""
      ],
      "execution_count": null,
      "outputs": []
    }
  ]
}