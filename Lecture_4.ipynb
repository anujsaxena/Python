{
  "nbformat": 4,
  "nbformat_minor": 0,
  "metadata": {
    "colab": {
      "name": "Lecture_4.ipynb",
      "provenance": [],
      "collapsed_sections": [],
      "authorship_tag": "ABX9TyPVlTtbX60sCCFJO3dgFA7w",
      "include_colab_link": true
    },
    "kernelspec": {
      "name": "python3",
      "display_name": "Python 3"
    },
    "language_info": {
      "name": "python"
    }
  },
  "cells": [
    {
      "cell_type": "markdown",
      "metadata": {
        "id": "view-in-github",
        "colab_type": "text"
      },
      "source": [
        "<a href=\"https://colab.research.google.com/github/anujsaxena/Python/blob/main/numpy_tut.ipynb\" target=\"_parent\"><img src=\"https://colab.research.google.com/assets/colab-badge.svg\" alt=\"Open In Colab\"/></a>"
      ]
    },
    {
      "cell_type": "markdown",
      "metadata": {
        "id": "SyS22UEKkN9j"
      },
      "source": [
        "# **Numpy**\n",
        "\n",
        "Numpy is a Python package. It stands for 'Numerical Python'. It is a library consisting of multidimensional array objects and a collection of routines for processing of array. \n",
        "\n",
        "Numeric, the ancestor of NumPy, was developed by Jim Hugunin. Another package Numarray was also developed, having some additional functionalities. In 2005, Travis Oliphant created NumPy package by incorporating the features of Num array into Numeric package. There are many contributors to this open source project.\n",
        "\n",
        "Operations using NumPy \n",
        "Using NumPy, a developer can perform the following operations: \n",
        "\n",
        "1.\tMathematical and logical operations on arrays. \n",
        "2.\tFourier transforms and routines for shape manipulation. \n",
        "3.\tOperations related to linear algebra. NumPy has in-built functions for linear algebra and random number generation. \n",
        "\n",
        "# **Syntax**\n",
        "\n",
        "It creates an ndarray from any object exposing array interface, or from any method that returns an array.\n",
        "\n",
        "# **numpy.array(object, dtype=None, copy=True, order=None, subok=False, ndmin=0)**\n",
        "\n",
        "The above constructor takes the following parameters:\n",
        "\n",
        "object: \tAny object exposing the array interface method returns an array, or any (nested) sequence \n",
        "\n",
        "dtype: \tDesired data type of array, optional \n",
        "\n",
        "copy: \tOptional. By default (true), the object is copied \n",
        "\n",
        "order: \tC (row major) or F (column major) or A (any) (default) \n",
        "\n",
        "subok: \tBy default, returned array forced to be a base class array. If true, sub-classes passed through \n",
        "\n",
        "ndimin: \tSpecifies minimum dimensions of resultant array \n",
        "\n"
      ]
    },
    {
      "cell_type": "code",
      "metadata": {
        "colab": {
          "base_uri": "https://localhost:8080/"
        },
        "id": "rmfoJg5roV1h",
        "outputId": "c46c6dc4-e285-4f54-8848-5b42136c5581"
      },
      "source": [
        "import numpy as np\n",
        "a= np.array([1,2,3,4,5,6,7])\n",
        "print(a)\n",
        "print(a[0]) \n",
        "print(a[-1])"
      ],
      "execution_count": null,
      "outputs": [
        {
          "output_type": "stream",
          "name": "stdout",
          "text": [
            "[1 2 3 4 5 6 7]\n",
            "1\n",
            "7\n"
          ]
        }
      ]
    },
    {
      "cell_type": "code",
      "metadata": {
        "colab": {
          "base_uri": "https://localhost:8080/"
        },
        "id": "xs26-izapm1w",
        "outputId": "f9cec504-ab7b-463b-ca48-db486924a38b"
      },
      "source": [
        "#Two dimensional\n",
        "import numpy as np\n",
        "a = np.array([[1, 2], [3, 4]])\n",
        "print(a)\n",
        "print(a[1][0])\n"
      ],
      "execution_count": null,
      "outputs": [
        {
          "output_type": "stream",
          "name": "stdout",
          "text": [
            "[[1 2]\n",
            " [3 4]]\n",
            "3\n"
          ]
        }
      ]
    },
    {
      "cell_type": "code",
      "metadata": {
        "colab": {
          "base_uri": "https://localhost:8080/"
        },
        "id": "5FsEayKhpvkq",
        "outputId": "aaa3e2c8-2ccb-49b2-96ed-5edbcc5a7d85"
      },
      "source": [
        "#Two dimensional\n",
        "a = np.array([[1, 2, 6], [3, 4]])\n",
        "print(a)\n",
        "print(a[1][0])\n"
      ],
      "execution_count": null,
      "outputs": [
        {
          "output_type": "stream",
          "name": "stdout",
          "text": [
            "[list([1, 2, 6]) list([3, 4])]\n",
            "3\n"
          ]
        },
        {
          "output_type": "stream",
          "name": "stderr",
          "text": [
            "/usr/local/lib/python3.7/dist-packages/ipykernel_launcher.py:2: VisibleDeprecationWarning: Creating an ndarray from ragged nested sequences (which is a list-or-tuple of lists-or-tuples-or ndarrays with different lengths or shapes) is deprecated. If you meant to do this, you must specify 'dtype=object' when creating the ndarray\n",
            "  \n"
          ]
        }
      ]
    },
    {
      "cell_type": "code",
      "metadata": {
        "colab": {
          "base_uri": "https://localhost:8080/"
        },
        "id": "3SQHVm3yqCPK",
        "outputId": "99c2b2a1-7de5-451c-96cb-e3b7e8b04201"
      },
      "source": [
        "import numpy as np\n",
        "a=np.array([[1, 2], [3,4],[5,6]], ndmin=2)\n",
        "print(a)\n"
      ],
      "execution_count": null,
      "outputs": [
        {
          "output_type": "stream",
          "name": "stdout",
          "text": [
            "[[1 2]\n",
            " [3 4]\n",
            " [5 6]]\n"
          ]
        }
      ]
    },
    {
      "cell_type": "code",
      "metadata": {
        "colab": {
          "base_uri": "https://localhost:8080/"
        },
        "id": "7PfxEZRGqJaW",
        "outputId": "8339bf7b-1030-4322-ee36-3bb80a76ea47"
      },
      "source": [
        "import numpy as np\n",
        "a=np.array([[1, 2], [3,4],[5,6]])\n",
        "print(a)"
      ],
      "execution_count": null,
      "outputs": [
        {
          "output_type": "stream",
          "name": "stdout",
          "text": [
            "[[1 2]\n",
            " [3 4]\n",
            " [5 6]]\n"
          ]
        }
      ]
    },
    {
      "cell_type": "code",
      "metadata": {
        "colab": {
          "base_uri": "https://localhost:8080/"
        },
        "id": "XsvTtijUqMlj",
        "outputId": "c212cbf1-b9fe-4bf9-cd70-9bd23cc7bd3a"
      },
      "source": [
        "import numpy as np\n",
        "a=np.array([[1, 2, 8], [3,4],[5,6]], ndmin=2)\n",
        "print(a)"
      ],
      "execution_count": null,
      "outputs": [
        {
          "output_type": "stream",
          "name": "stdout",
          "text": [
            "[[list([1, 2, 8]) list([3, 4]) list([5, 6])]]\n"
          ]
        },
        {
          "output_type": "stream",
          "name": "stderr",
          "text": [
            "/usr/local/lib/python3.7/dist-packages/ipykernel_launcher.py:2: VisibleDeprecationWarning: Creating an ndarray from ragged nested sequences (which is a list-or-tuple of lists-or-tuples-or ndarrays with different lengths or shapes) is deprecated. If you meant to do this, you must specify 'dtype=object' when creating the ndarray\n",
            "  \n"
          ]
        }
      ]
    },
    {
      "cell_type": "code",
      "metadata": {
        "colab": {
          "base_uri": "https://localhost:8080/"
        },
        "id": "l4moFCeNqY29",
        "outputId": "ce88a287-1155-4cd3-8c43-76d1e17e50b6"
      },
      "source": [
        "# dtype parameter\n",
        "import numpy as np\n",
        "a = np.array([1, 2, 3], dtype=complex)\n",
        "print(a)"
      ],
      "execution_count": null,
      "outputs": [
        {
          "output_type": "stream",
          "name": "stdout",
          "text": [
            "[1.+0.j 2.+0.j 3.+0.j]\n"
          ]
        }
      ]
    },
    {
      "cell_type": "code",
      "metadata": {
        "colab": {
          "base_uri": "https://localhost:8080/"
        },
        "id": "iLPk-izDqh04",
        "outputId": "de8c3fb0-2591-4a29-ae40-1e4e83922d57"
      },
      "source": [
        "dt = np.dtype([('age',np.int8)])\n",
        "print(dt)\n",
        "a = np.array([(10,),(20,),(30,)], dtype=dt)\n",
        "print(a)\n"
      ],
      "execution_count": null,
      "outputs": [
        {
          "output_type": "stream",
          "name": "stdout",
          "text": [
            "[('age', 'i1')]\n",
            "[(10,) (20,) (30,)]\n"
          ]
        }
      ]
    },
    {
      "cell_type": "code",
      "metadata": {
        "colab": {
          "base_uri": "https://localhost:8080/"
        },
        "id": "s7FdCs0hq1eW",
        "outputId": "46953074-4ce8-447b-bdc4-90fb0d61844f"
      },
      "source": [
        "#reshape array\n",
        "a=np.array([[1,2,3],[4,5,6]])\n",
        "print(a)\n",
        "print(np.shape(a))\n",
        "a.shape=(3,2)\n",
        "print('\\nSecond\\n')\n",
        "print(a)"
      ],
      "execution_count": null,
      "outputs": [
        {
          "output_type": "stream",
          "name": "stdout",
          "text": [
            "[[1 2 3]\n",
            " [4 5 6]]\n",
            "(2, 3)\n",
            "\n",
            "Second\n",
            "\n",
            "[[1 2]\n",
            " [3 4]\n",
            " [5 6]]\n"
          ]
        }
      ]
    },
    {
      "cell_type": "code",
      "metadata": {
        "colab": {
          "base_uri": "https://localhost:8080/"
        },
        "id": "dlDV92NArL1I",
        "outputId": "525dd059-61c6-4c4c-accc-8ac0f77a156f"
      },
      "source": [
        "a.shape=(1,6)\n",
        "print('\\nSecond\\n')\n",
        "print(a)"
      ],
      "execution_count": null,
      "outputs": [
        {
          "output_type": "stream",
          "name": "stdout",
          "text": [
            "\n",
            "Second\n",
            "\n",
            "[[1 2 3 4 5 6]]\n"
          ]
        }
      ]
    },
    {
      "cell_type": "code",
      "metadata": {
        "colab": {
          "base_uri": "https://localhost:8080/"
        },
        "id": "3UpCOHoarR8d",
        "outputId": "f64eab00-c953-4d5e-de53-5ad3a9df2251"
      },
      "source": [
        "a.shape=(6,1)\n",
        "print('\\nSecond\\n')\n",
        "print(a)"
      ],
      "execution_count": null,
      "outputs": [
        {
          "output_type": "stream",
          "name": "stdout",
          "text": [
            "\n",
            "Second\n",
            "\n",
            "[[1]\n",
            " [2]\n",
            " [3]\n",
            " [4]\n",
            " [5]\n",
            " [6]]\n"
          ]
        }
      ]
    },
    {
      "cell_type": "code",
      "metadata": {
        "colab": {
          "base_uri": "https://localhost:8080/"
        },
        "id": "ko3EyPN6rY57",
        "outputId": "9588b31b-a7d9-4f8f-8cf8-2a1877fbc039"
      },
      "source": [
        "print(np.shape(a))"
      ],
      "execution_count": null,
      "outputs": [
        {
          "output_type": "stream",
          "name": "stdout",
          "text": [
            "(6, 1)\n"
          ]
        }
      ]
    },
    {
      "cell_type": "code",
      "metadata": {
        "colab": {
          "base_uri": "https://localhost:8080/"
        },
        "id": "KorkCwIxre6b",
        "outputId": "7a8aa57a-91e9-4388-d7bf-a2ca8c05794d"
      },
      "source": [
        "a = np.arange(24)\n",
        "print(a)"
      ],
      "execution_count": null,
      "outputs": [
        {
          "output_type": "stream",
          "name": "stdout",
          "text": [
            "[ 0  1  2  3  4  5  6  7  8  9 10 11 12 13 14 15 16 17 18 19 20 21 22 23]\n"
          ]
        }
      ]
    },
    {
      "cell_type": "code",
      "metadata": {
        "colab": {
          "base_uri": "https://localhost:8080/"
        },
        "id": "y-sJ7wBHrr6T",
        "outputId": "02da9e5d-5b96-4c07-a6c3-84d028e79ac2"
      },
      "source": [
        "print(a.ndim)\n",
        "print(np.shape(a))"
      ],
      "execution_count": null,
      "outputs": [
        {
          "output_type": "stream",
          "name": "stdout",
          "text": [
            "1\n",
            "(24,)\n"
          ]
        }
      ]
    },
    {
      "cell_type": "code",
      "metadata": {
        "colab": {
          "base_uri": "https://localhost:8080/"
        },
        "id": "NpWeIfrXr5tV",
        "outputId": "44dd0cc5-b547-4973-e598-e0c6a5b652d4"
      },
      "source": [
        "print('second')\n",
        "# now reshape it\n",
        "b = a.reshape(2,4,3)\n",
        "print(b)"
      ],
      "execution_count": null,
      "outputs": [
        {
          "output_type": "stream",
          "name": "stdout",
          "text": [
            "second\n",
            "[[[ 0  1  2]\n",
            "  [ 3  4  5]\n",
            "  [ 6  7  8]\n",
            "  [ 9 10 11]]\n",
            "\n",
            " [[12 13 14]\n",
            "  [15 16 17]\n",
            "  [18 19 20]\n",
            "  [21 22 23]]]\n"
          ]
        }
      ]
    },
    {
      "cell_type": "code",
      "metadata": {
        "colab": {
          "base_uri": "https://localhost:8080/"
        },
        "id": "4exbyGIYsVxN",
        "outputId": "9f37827c-bdaf-4fa5-ff24-20c6033c9bd2"
      },
      "source": [
        "print('second')\n",
        "# now reshape it\n",
        "b = a.reshape(2,3,4)\n",
        "print(b)"
      ],
      "execution_count": null,
      "outputs": [
        {
          "output_type": "stream",
          "name": "stdout",
          "text": [
            "second\n",
            "[[[ 0  1  2  3]\n",
            "  [ 4  5  6  7]\n",
            "  [ 8  9 10 11]]\n",
            "\n",
            " [[12 13 14 15]\n",
            "  [16 17 18 19]\n",
            "  [20 21 22 23]]]\n"
          ]
        }
      ]
    },
    {
      "cell_type": "code",
      "metadata": {
        "colab": {
          "base_uri": "https://localhost:8080/"
        },
        "id": "bcpAnwIysa8l",
        "outputId": "ac1de52c-8ce4-4b47-f8e6-23dfdb69dbd2"
      },
      "source": [
        "print('second')\n",
        "# now reshape it\n",
        "b = a.reshape(3,2,4)\n",
        "print(b)"
      ],
      "execution_count": null,
      "outputs": [
        {
          "output_type": "stream",
          "name": "stdout",
          "text": [
            "second\n",
            "[[[ 0  1  2  3]\n",
            "  [ 4  5  6  7]]\n",
            "\n",
            " [[ 8  9 10 11]\n",
            "  [12 13 14 15]]\n",
            "\n",
            " [[16 17 18 19]\n",
            "  [20 21 22 23]]]\n"
          ]
        }
      ]
    },
    {
      "cell_type": "code",
      "metadata": {
        "colab": {
          "base_uri": "https://localhost:8080/"
        },
        "id": "4-YqQ7rNs0qB",
        "outputId": "292a0c05-7bbb-4579-a786-b22c99dd11b8"
      },
      "source": [
        "\n",
        "a = np.empty([4,2], dtype=float)\n",
        "print(a)\n"
      ],
      "execution_count": null,
      "outputs": [
        {
          "output_type": "stream",
          "name": "stdout",
          "text": [
            "[[4.67299614e-310 1.38338381e-322]\n",
            " [2.12199579e-314 3.44620186e-085]\n",
            " [3.63460077e+185 1.57230356e+108]\n",
            " [8.40995713e-315 0.00000000e+000]]\n"
          ]
        }
      ]
    },
    {
      "cell_type": "code",
      "metadata": {
        "colab": {
          "base_uri": "https://localhost:8080/"
        },
        "id": "ra-72ugRs72Z",
        "outputId": "b5ab98d5-0131-48ac-b368-1d9662a20546"
      },
      "source": [
        "# Create array having zero values \n",
        "a= np.zeros(5, dtype=int)\n",
        "print(a)\n"
      ],
      "execution_count": null,
      "outputs": [
        {
          "output_type": "stream",
          "name": "stdout",
          "text": [
            "[0 0 0 0 0]\n"
          ]
        }
      ]
    },
    {
      "cell_type": "code",
      "metadata": {
        "colab": {
          "base_uri": "https://localhost:8080/"
        },
        "id": "nSBXaLJ0tGX7",
        "outputId": "65e66786-e2d5-4875-e8dd-4a5112ad4156"
      },
      "source": [
        "# Create array having zero values \n",
        "a= np.zeros(5, dtype=float)\n",
        "print(a)"
      ],
      "execution_count": null,
      "outputs": [
        {
          "output_type": "stream",
          "name": "stdout",
          "text": [
            "[0. 0. 0. 0. 0.]\n"
          ]
        }
      ]
    },
    {
      "cell_type": "code",
      "metadata": {
        "colab": {
          "base_uri": "https://localhost:8080/"
        },
        "id": "__1IEI1WtN9T",
        "outputId": "fceb161f-5810-47cb-f04f-ac8b32285830"
      },
      "source": [
        "import numpy as np\n",
        "x = np.zeros((3,4), dtype=[('x', 'i4'), ('y', 'i4')])\n",
        "print(x)"
      ],
      "execution_count": null,
      "outputs": [
        {
          "output_type": "stream",
          "name": "stdout",
          "text": [
            "[[(0, 0) (0, 0) (0, 0) (0, 0)]\n",
            " [(0, 0) (0, 0) (0, 0) (0, 0)]\n",
            " [(0, 0) (0, 0) (0, 0) (0, 0)]]\n"
          ]
        }
      ]
    },
    {
      "cell_type": "code",
      "metadata": {
        "colab": {
          "base_uri": "https://localhost:8080/"
        },
        "id": "pqWaJBAGtvjV",
        "outputId": "fcbf2ed2-2e97-4f04-a640-a103ab2071fb"
      },
      "source": [
        "#Array of ones\n",
        "x = np.ones((2,2), dtype=int)\n",
        "print(x)"
      ],
      "execution_count": null,
      "outputs": [
        {
          "output_type": "stream",
          "name": "stdout",
          "text": [
            "[[1 1]\n",
            " [1 1]]\n"
          ]
        }
      ]
    },
    {
      "cell_type": "code",
      "metadata": {
        "colab": {
          "base_uri": "https://localhost:8080/"
        },
        "id": "lCzZQM-uuD55",
        "outputId": "75be1a8d-0fe9-474a-e83c-4d331056139d"
      },
      "source": [
        "import numpy as np\n",
        "x = [1,2,3]\n",
        "print(type(x))\n",
        "a = np.asarray(x)\n",
        "print(a)\n",
        "print(type(a))"
      ],
      "execution_count": null,
      "outputs": [
        {
          "output_type": "stream",
          "name": "stdout",
          "text": [
            "<class 'list'>\n",
            "[1 2 3]\n",
            "<class 'numpy.ndarray'>\n"
          ]
        }
      ]
    },
    {
      "cell_type": "code",
      "metadata": {
        "colab": {
          "base_uri": "https://localhost:8080/"
        },
        "id": "lpeHIeaKuOm0",
        "outputId": "140f95a8-e1b2-444f-a5b8-09500f0d2fbb"
      },
      "source": [
        "x = [(1,2,3),(4,5)]\n",
        "print(x)\n",
        "print(type(x))\n",
        "a = np.asarray(x,dtype=object)\n",
        "print(a)\n",
        "print(type(a))"
      ],
      "execution_count": null,
      "outputs": [
        {
          "output_type": "stream",
          "name": "stdout",
          "text": [
            "[(1, 2, 3), (4, 5)]\n",
            "<class 'list'>\n",
            "[(1, 2, 3) (4, 5)]\n",
            "<class 'numpy.ndarray'>\n"
          ]
        }
      ]
    },
    {
      "cell_type": "code",
      "metadata": {
        "colab": {
          "base_uri": "https://localhost:8080/"
        },
        "id": "pJiQfiy3uqX-",
        "outputId": "a38f39ca-47d7-4a15-c972-5d354597b9ca"
      },
      "source": [
        "x= np.arange(10, dtype=int)\n",
        "print(x)\n"
      ],
      "execution_count": null,
      "outputs": [
        {
          "output_type": "stream",
          "name": "stdout",
          "text": [
            "[0 1 2 3 4 5 6 7 8 9]\n"
          ]
        }
      ]
    },
    {
      "cell_type": "code",
      "metadata": {
        "colab": {
          "base_uri": "https://localhost:8080/"
        },
        "id": "RyLlILMFuzTa",
        "outputId": "db457107-5364-4a7d-c588-47072e187d6c"
      },
      "source": [
        "a = np.array([[1, 2, 3],[4, 5, 6]], float)\n",
        "print(a)\n",
        "a=np.zeros((2,3))\n",
        "print(\"zeros\")\n",
        "print(a)\n",
        "a=np.identity(3)\n",
        "print(\"identity\")\n",
        "print(a)\n",
        "a=np.arange(10)\n",
        "print(\"arange\")\n",
        "print(a)\n",
        "print(\"arange (rows and columns)\")\n",
        "a=np.arange(2,10)\n",
        "print(a)\n",
        "print(\"arange\")\n",
        "a=np.arange(2,3,0.1)\n",
        "print(a)\n",
        "print(\"linspace\")\n",
        "a=np.linspace(1., 4., 6)\n",
        "print(a)\n",
        "np.indices((3,3))\n",
        "print(\"indices\")\n",
        "print(a)\n"
      ],
      "execution_count": null,
      "outputs": [
        {
          "output_type": "stream",
          "name": "stdout",
          "text": [
            "[[1. 2. 3.]\n",
            " [4. 5. 6.]]\n",
            "zeros\n",
            "[[0. 0. 0.]\n",
            " [0. 0. 0.]]\n",
            "identity\n",
            "[[1. 0. 0.]\n",
            " [0. 1. 0.]\n",
            " [0. 0. 1.]]\n",
            "arange\n",
            "[0 1 2 3 4 5 6 7 8 9]\n",
            "arange (rows and columns)\n",
            "[2 3 4 5 6 7 8 9]\n",
            "arange\n",
            "[2.  2.1 2.2 2.3 2.4 2.5 2.6 2.7 2.8 2.9]\n",
            "linspace\n",
            "[1.  1.6 2.2 2.8 3.4 4. ]\n",
            "indices\n",
            "[1.  1.6 2.2 2.8 3.4 4. ]\n"
          ]
        }
      ]
    },
    {
      "cell_type": "code",
      "metadata": {
        "colab": {
          "base_uri": "https://localhost:8080/"
        },
        "id": "cK253Fu3vvlu",
        "outputId": "367b1257-16f7-4eaa-a214-dc5a80146e98"
      },
      "source": [
        "c = np.full_like((3,3), 7)\n",
        "print(c)\n",
        "print(type(c))"
      ],
      "execution_count": null,
      "outputs": [
        {
          "output_type": "stream",
          "name": "stdout",
          "text": [
            "[7 7]\n",
            "<class 'numpy.ndarray'>\n"
          ]
        }
      ]
    },
    {
      "cell_type": "code",
      "metadata": {
        "colab": {
          "base_uri": "https://localhost:8080/"
        },
        "id": "nVjtNiG7wb5H",
        "outputId": "2881ea94-e9dc-4bd4-96f2-8f17be127a91"
      },
      "source": [
        "e = np.eye(2)\n",
        "print(e)  "
      ],
      "execution_count": null,
      "outputs": [
        {
          "output_type": "stream",
          "name": "stdout",
          "text": [
            "[[1. 0.]\n",
            " [0. 1.]]\n"
          ]
        }
      ]
    },
    {
      "cell_type": "code",
      "metadata": {
        "colab": {
          "base_uri": "https://localhost:8080/"
        },
        "id": "C-9ErPrgwoBD",
        "outputId": "9d555f46-dde8-49ae-974b-1e1e40697fe3"
      },
      "source": [
        "a = np.array([[1,2,3,4], [5,6,7,8], [9,10,11,12]])\n",
        "print(a)"
      ],
      "execution_count": null,
      "outputs": [
        {
          "output_type": "stream",
          "name": "stdout",
          "text": [
            "[[ 1  2  3  4]\n",
            " [ 5  6  7  8]\n",
            " [ 9 10 11 12]]\n"
          ]
        }
      ]
    },
    {
      "cell_type": "code",
      "metadata": {
        "colab": {
          "base_uri": "https://localhost:8080/"
        },
        "id": "FA7e8eqpwq9c",
        "outputId": "dcf15dc5-70de-4798-d069-6f21877e7814"
      },
      "source": [
        "b =a[:2,1:3]\n",
        "print(b)"
      ],
      "execution_count": null,
      "outputs": [
        {
          "output_type": "stream",
          "name": "stdout",
          "text": [
            "[[2 3]\n",
            " [6 7]]\n"
          ]
        }
      ]
    },
    {
      "cell_type": "code",
      "metadata": {
        "colab": {
          "base_uri": "https://localhost:8080/"
        },
        "id": "i66oir9qxFJ3",
        "outputId": "eb9e210d-b6cf-445d-c9ef-f82925da594e"
      },
      "source": [
        "b[0,0]=7\n",
        "print(b)"
      ],
      "execution_count": null,
      "outputs": [
        {
          "output_type": "stream",
          "name": "stdout",
          "text": [
            "[[7 3]\n",
            " [6 7]]\n"
          ]
        }
      ]
    },
    {
      "cell_type": "code",
      "metadata": {
        "colab": {
          "base_uri": "https://localhost:8080/"
        },
        "id": "1xvBkwPExE4J",
        "outputId": "29f10e33-fbae-4bcd-f51a-3ebca9c3e482"
      },
      "source": [
        "a = np.array([[1,2,3], [4,5,6], [7,8,9], [10, 11, 12]])\n",
        "print(a)"
      ],
      "execution_count": null,
      "outputs": [
        {
          "output_type": "stream",
          "name": "stdout",
          "text": [
            "[[ 1  2  3]\n",
            " [ 4  5  6]\n",
            " [ 7  8  9]\n",
            " [10 11 12]]\n"
          ]
        }
      ]
    },
    {
      "cell_type": "code",
      "metadata": {
        "colab": {
          "base_uri": "https://localhost:8080/"
        },
        "id": "ZCUdwxkZxhdI",
        "outputId": "c79fef25-a566-4e41-8d6f-728c3d4297a0"
      },
      "source": [
        "b = np.array([0, 2, 0, 1])\n",
        "print(b)"
      ],
      "execution_count": null,
      "outputs": [
        {
          "output_type": "stream",
          "name": "stdout",
          "text": [
            "[0 2 0 1]\n"
          ]
        }
      ]
    },
    {
      "cell_type": "code",
      "metadata": {
        "colab": {
          "base_uri": "https://localhost:8080/"
        },
        "id": "zgWM0PDGxr6n",
        "outputId": "3f144d99-ecfc-4c43-8c03-bbcd15abcb5f"
      },
      "source": [
        "c = np.arange(4)\n",
        "print(c)\n",
        "print(a[np.arange(4), b])"
      ],
      "execution_count": null,
      "outputs": [
        {
          "output_type": "stream",
          "name": "stdout",
          "text": [
            "[0 1 2 3]\n",
            "[ 1  6  7 11]\n"
          ]
        }
      ]
    },
    {
      "cell_type": "code",
      "metadata": {
        "colab": {
          "base_uri": "https://localhost:8080/"
        },
        "id": "48De2zk4ymdV",
        "outputId": "eb3176c8-7918-4501-c1bd-ffd92ac80894"
      },
      "source": [
        "a[np.arange(4), b] += 10\n",
        "print(a)\n"
      ],
      "execution_count": null,
      "outputs": [
        {
          "output_type": "stream",
          "name": "stdout",
          "text": [
            "[[21  2  3]\n",
            " [ 4  5 26]\n",
            " [27  8  9]\n",
            " [10 31 12]]\n"
          ]
        }
      ]
    },
    {
      "cell_type": "code",
      "metadata": {
        "colab": {
          "base_uri": "https://localhost:8080/"
        },
        "id": "7D5UTazXy_mY",
        "outputId": "9e9f332b-0770-47a8-ad2d-42e2ad9d4773"
      },
      "source": [
        "print(a)\n",
        "d = (a>2)\n",
        "print(d)"
      ],
      "execution_count": null,
      "outputs": [
        {
          "output_type": "stream",
          "name": "stdout",
          "text": [
            "[[21  2  3]\n",
            " [ 4  5 26]\n",
            " [27  8  9]\n",
            " [10 31 12]]\n",
            "[[ True False  True]\n",
            " [ True  True  True]\n",
            " [ True  True  True]\n",
            " [ True  True  True]]\n"
          ]
        }
      ]
    },
    {
      "cell_type": "markdown",
      "metadata": {
        "id": "85w2qQvNzZwz"
      },
      "source": [
        "# **Mathematical operations**"
      ]
    },
    {
      "cell_type": "code",
      "metadata": {
        "colab": {
          "base_uri": "https://localhost:8080/"
        },
        "id": "USPphv7CzZFa",
        "outputId": "137b75ce-9509-4f86-8180-e5bb218e0a98"
      },
      "source": [
        "x = np.array([[1,2],[3,4]], dtype=np.float64)\n",
        "y = np.array([[5,6],[7,8]], dtype=np.float64)\n",
        "print(x)\n",
        "print(y)"
      ],
      "execution_count": null,
      "outputs": [
        {
          "output_type": "stream",
          "name": "stdout",
          "text": [
            "[[1. 2.]\n",
            " [3. 4.]]\n",
            "[[5. 6.]\n",
            " [7. 8.]]\n"
          ]
        }
      ]
    },
    {
      "cell_type": "code",
      "metadata": {
        "colab": {
          "base_uri": "https://localhost:8080/"
        },
        "id": "cwIVeLo7z0xV",
        "outputId": "17b61427-2678-4ace-dbb2-decc6b97b9f5"
      },
      "source": [
        "a =x+y\n",
        "print(a)"
      ],
      "execution_count": null,
      "outputs": [
        {
          "output_type": "stream",
          "name": "stdout",
          "text": [
            "[[ 6.  8.]\n",
            " [10. 12.]]\n"
          ]
        }
      ]
    },
    {
      "cell_type": "code",
      "metadata": {
        "colab": {
          "base_uri": "https://localhost:8080/"
        },
        "id": "EdVOygqv0Ea0",
        "outputId": "47266e39-a949-4fe7-bea9-84f2c2207f74"
      },
      "source": [
        "a = np.add(x,y)\n",
        "print(a)"
      ],
      "execution_count": null,
      "outputs": [
        {
          "output_type": "stream",
          "name": "stdout",
          "text": [
            "[[ 6.  8.]\n",
            " [10. 12.]]\n"
          ]
        }
      ]
    },
    {
      "cell_type": "code",
      "metadata": {
        "colab": {
          "base_uri": "https://localhost:8080/"
        },
        "id": "-9qBd51Q0SRy",
        "outputId": "77fac63a-4ce7-44af-b184-4d6fc5b00c8b"
      },
      "source": [
        "s = x-y\n",
        "print(x)\n",
        "s = np.subtract(x,y)\n",
        "\n",
        "print(\"mulitply\")\n",
        "m = x*y\n",
        "print(m)\n",
        "m = np.multiply(x,y)\n",
        "print(m)\n",
        "print(\"divide\")\n",
        "d = x/y\n",
        "print(d)\n",
        "d = np.divide(x,y)\n",
        "print(d)"
      ],
      "execution_count": null,
      "outputs": [
        {
          "output_type": "stream",
          "name": "stdout",
          "text": [
            "[[1. 2.]\n",
            " [3. 4.]]\n",
            "mulitply\n",
            "[[ 5. 12.]\n",
            " [21. 32.]]\n",
            "[[ 5. 12.]\n",
            " [21. 32.]]\n",
            "divide\n",
            "[[0.2        0.33333333]\n",
            " [0.42857143 0.5       ]]\n",
            "[[0.2        0.33333333]\n",
            " [0.42857143 0.5       ]]\n"
          ]
        }
      ]
    },
    {
      "cell_type": "markdown",
      "metadata": {
        "id": "2bZ2Yrmv18jV"
      },
      "source": [
        "# **asarray**\n",
        "\n",
        "numpy.asarray(x, dtype = None, order = None)"
      ]
    },
    {
      "cell_type": "code",
      "metadata": {
        "id": "U6Ug9Ttd2OEb",
        "colab": {
          "base_uri": "https://localhost:8080/"
        },
        "outputId": "2c0e50b0-ba00-4e92-9de6-bded548c98a3"
      },
      "source": [
        "import numpy as np\n",
        "x = [4,2,1,6,7,8]\n",
        "a = np.asarray(x)\n",
        "print(a)"
      ],
      "execution_count": null,
      "outputs": [
        {
          "output_type": "stream",
          "name": "stdout",
          "text": [
            "[4 2 1 6 7 8]\n"
          ]
        }
      ]
    },
    {
      "cell_type": "code",
      "metadata": {
        "colab": {
          "base_uri": "https://localhost:8080/"
        },
        "id": "AzGzyvBp4mjq",
        "outputId": "f02b6efb-9eef-4f3b-ccf6-e57f3420c839"
      },
      "source": [
        "print(type(a))"
      ],
      "execution_count": null,
      "outputs": [
        {
          "output_type": "stream",
          "name": "stdout",
          "text": [
            "<class 'numpy.ndarray'>\n"
          ]
        }
      ]
    },
    {
      "cell_type": "code",
      "metadata": {
        "colab": {
          "base_uri": "https://localhost:8080/"
        },
        "id": "MxEDhzmk4rRu",
        "outputId": "b7d34741-d87c-48b3-97fa-a4ca8a871ba1"
      },
      "source": [
        "a = np.asarray(x, dtype=float)\n",
        "print(a)"
      ],
      "execution_count": null,
      "outputs": [
        {
          "output_type": "stream",
          "name": "stdout",
          "text": [
            "[4. 2. 1. 6. 7. 8.]\n"
          ]
        }
      ]
    },
    {
      "cell_type": "code",
      "metadata": {
        "colab": {
          "base_uri": "https://localhost:8080/"
        },
        "id": "j4xBq8w444Ed",
        "outputId": "f4525c16-72f3-4d8c-bb16-57c375b86958"
      },
      "source": [
        "x =[(2,3,4),(3,4)]\n",
        "a = np.asarray(x,dtype=object)\n",
        "print(x)"
      ],
      "execution_count": null,
      "outputs": [
        {
          "output_type": "stream",
          "name": "stdout",
          "text": [
            "[(2, 3, 4), (3, 4)]\n"
          ]
        }
      ]
    },
    {
      "cell_type": "markdown",
      "metadata": {
        "id": "R1NI_AXU5Tgq"
      },
      "source": [
        "# **frombuffer**\n",
        "\n",
        "numpy.frombuffer(x, dtype = float, count = -1, offset = 0)"
      ]
    },
    {
      "cell_type": "code",
      "metadata": {
        "colab": {
          "base_uri": "https://localhost:8080/"
        },
        "id": "gNn0pBtz5OfJ",
        "outputId": "f3938f29-6f28-4619-8096-7b3b0751f0b7"
      },
      "source": [
        "import numpy as np\n",
        "s = b'Welcome to Python' \n",
        "a = np.frombuffer(s, dtype = 'S1') \n",
        "print(a)"
      ],
      "execution_count": null,
      "outputs": [
        {
          "output_type": "stream",
          "name": "stdout",
          "text": [
            "[b'W' b'e' b'l' b'c' b'o' b'm' b'e' b' ' b't' b'o' b' ' b'P' b'y' b't'\n",
            " b'h' b'o' b'n']\n"
          ]
        }
      ]
    },
    {
      "cell_type": "code",
      "metadata": {
        "colab": {
          "base_uri": "https://localhost:8080/"
        },
        "id": "ARsEFcah7TCb",
        "outputId": "e8b7446c-6ed6-412e-b424-51be07acd4a9"
      },
      "source": [
        "a=np.frombuffer(b'\\x01\\x02', dtype=np.uint8)\n",
        "print(a)"
      ],
      "execution_count": null,
      "outputs": [
        {
          "output_type": "stream",
          "name": "stdout",
          "text": [
            "[1 2]\n"
          ]
        }
      ]
    },
    {
      "cell_type": "code",
      "metadata": {
        "colab": {
          "base_uri": "https://localhost:8080/"
        },
        "id": "v_IFF_eK7hTo",
        "outputId": "2c87b630-f911-4715-e4a8-5a58725e42ab"
      },
      "source": [
        "a=np.frombuffer(b'\\x01\\x02\\x03\\x04\\x05', dtype=np.uint8, count=3)\n",
        "print(a)"
      ],
      "execution_count": null,
      "outputs": [
        {
          "output_type": "stream",
          "name": "stdout",
          "text": [
            "[1 2 3]\n"
          ]
        }
      ]
    },
    {
      "cell_type": "code",
      "metadata": {
        "colab": {
          "base_uri": "https://localhost:8080/"
        },
        "id": "PDBjeI8N7s06",
        "outputId": "9c9a050e-9433-45ba-be9c-6e27d2ae29d9"
      },
      "source": [
        "a=np.frombuffer(b'\\x01\\x02\\x03\\x04\\x05', dtype=np.uint8, count=5)\n",
        "print(a)"
      ],
      "execution_count": null,
      "outputs": [
        {
          "output_type": "stream",
          "name": "stdout",
          "text": [
            "[1 2 3 4 5]\n"
          ]
        }
      ]
    },
    {
      "cell_type": "code",
      "metadata": {
        "colab": {
          "base_uri": "https://localhost:8080/",
          "height": 183
        },
        "id": "5bpX6iQe7z-Q",
        "outputId": "e14e1b72-0a36-4837-c4c9-ad350fa63cdf"
      },
      "source": [
        "a=np.frombuffer(b'\\x01\\x02\\x03\\x04\\x05', dtype=np.uint8, count=6)\n",
        "print(a)"
      ],
      "execution_count": null,
      "outputs": [
        {
          "output_type": "error",
          "ename": "ValueError",
          "evalue": "ignored",
          "traceback": [
            "\u001b[0;31m---------------------------------------------------------------------------\u001b[0m",
            "\u001b[0;31mValueError\u001b[0m                                Traceback (most recent call last)",
            "\u001b[0;32m<ipython-input-20-bb10a11d493a>\u001b[0m in \u001b[0;36m<module>\u001b[0;34m()\u001b[0m\n\u001b[0;32m----> 1\u001b[0;31m \u001b[0ma\u001b[0m\u001b[0;34m=\u001b[0m\u001b[0mnp\u001b[0m\u001b[0;34m.\u001b[0m\u001b[0mfrombuffer\u001b[0m\u001b[0;34m(\u001b[0m\u001b[0;34mb'\\x01\\x02\\x03\\x04\\x05'\u001b[0m\u001b[0;34m,\u001b[0m \u001b[0mdtype\u001b[0m\u001b[0;34m=\u001b[0m\u001b[0mnp\u001b[0m\u001b[0;34m.\u001b[0m\u001b[0muint8\u001b[0m\u001b[0;34m,\u001b[0m \u001b[0mcount\u001b[0m\u001b[0;34m=\u001b[0m\u001b[0;36m6\u001b[0m\u001b[0;34m)\u001b[0m\u001b[0;34m\u001b[0m\u001b[0;34m\u001b[0m\u001b[0m\n\u001b[0m\u001b[1;32m      2\u001b[0m \u001b[0mprint\u001b[0m\u001b[0;34m(\u001b[0m\u001b[0ma\u001b[0m\u001b[0;34m)\u001b[0m\u001b[0;34m\u001b[0m\u001b[0;34m\u001b[0m\u001b[0m\n",
            "\u001b[0;31mValueError\u001b[0m: buffer is smaller than requested size"
          ]
        }
      ]
    },
    {
      "cell_type": "markdown",
      "metadata": {
        "id": "3GkSze1g8MAg"
      },
      "source": [
        "# **fromiter**\n",
        "\n",
        "numpy.fromiter(iterable, dtype, count = -1)"
      ]
    },
    {
      "cell_type": "code",
      "metadata": {
        "colab": {
          "base_uri": "https://localhost:8080/"
        },
        "id": "_YTZIjcz77zl",
        "outputId": "3d91d863-f4ab-4579-cbad-e7a3898ef1a1"
      },
      "source": [
        "l= range(8)\n",
        "a = np.fromiter(l, dtype='int')\n",
        "print(a)"
      ],
      "execution_count": null,
      "outputs": [
        {
          "output_type": "stream",
          "name": "stdout",
          "text": [
            "[0 1 2 3 4 5 6 7]\n"
          ]
        }
      ]
    },
    {
      "cell_type": "code",
      "metadata": {
        "colab": {
          "base_uri": "https://localhost:8080/"
        },
        "id": "Tm0D5YPe8swj",
        "outputId": "0c8461be-3508-49a2-ff7c-7d219fde9a00"
      },
      "source": [
        "l = range(8)\n",
        "i = iter(l)\n",
        "print(i)\n",
        "a = np.fromiter(i, dtype='float')\n",
        "print(a)"
      ],
      "execution_count": null,
      "outputs": [
        {
          "output_type": "stream",
          "name": "stdout",
          "text": [
            "<range_iterator object at 0x7ff3a4677120>\n",
            "[0. 1. 2. 3. 4. 5. 6. 7.]\n"
          ]
        }
      ]
    },
    {
      "cell_type": "markdown",
      "metadata": {
        "id": "pXibEyv19S49"
      },
      "source": [
        "# **Broadcasting**"
      ]
    },
    {
      "cell_type": "code",
      "metadata": {
        "colab": {
          "base_uri": "https://localhost:8080/"
        },
        "id": "vn7evPc89H04",
        "outputId": "65ede537-28b8-4c20-8c05-6bfc59485f28"
      },
      "source": [
        "a = np.array([[0.0,0.0,0.0],[10.0,10.0,10.0],[20.0,20.0,20.0],[30.0,30.0,30.0]]) \n",
        "b = np.array([1.0,2.0,3.0]) \n",
        "s = a+b\n",
        "print(a)\n",
        "print()\n",
        "print(b)\n",
        "print()\n",
        "print(s)"
      ],
      "execution_count": null,
      "outputs": [
        {
          "output_type": "stream",
          "name": "stdout",
          "text": [
            "[[ 0.  0.  0.]\n",
            " [10. 10. 10.]\n",
            " [20. 20. 20.]\n",
            " [30. 30. 30.]]\n",
            "\n",
            "[1. 2. 3.]\n",
            "\n",
            "[[ 1.  2.  3.]\n",
            " [11. 12. 13.]\n",
            " [21. 22. 23.]\n",
            " [31. 32. 33.]]\n"
          ]
        }
      ]
    },
    {
      "cell_type": "code",
      "metadata": {
        "colab": {
          "base_uri": "https://localhost:8080/"
        },
        "id": "1YbFuZv39vEu",
        "outputId": "54b417bd-af50-41a2-c8bf-12c497d7b863"
      },
      "source": [
        "x = [1,2,3,5,4,6,8,7,9,10]\n",
        "print(x)\n",
        "print()\n",
        "print(id(x))\n",
        "a = np.array(x)\n",
        "print(a)\n",
        "print()\n",
        "print(id(a))"
      ],
      "execution_count": null,
      "outputs": [
        {
          "output_type": "stream",
          "name": "stdout",
          "text": [
            "[1, 2, 3, 5, 4, 6, 8, 7, 9, 10]\n",
            "\n",
            "140684413050064\n",
            "[ 1  2  3  5  4  6  8  7  9 10]\n",
            "\n",
            "140684413217488\n"
          ]
        }
      ]
    },
    {
      "cell_type": "code",
      "metadata": {
        "colab": {
          "base_uri": "https://localhost:8080/"
        },
        "id": "ZIXx8Tmh-gcA",
        "outputId": "b8559fe1-d5b9-4440-8cc4-f460d0f5cc7b"
      },
      "source": [
        "v = a.view()\n",
        "print(a)\n",
        "print(type(a))\n",
        "print(v)\n",
        "print(type(v))"
      ],
      "execution_count": null,
      "outputs": [
        {
          "output_type": "stream",
          "name": "stdout",
          "text": [
            "[ 1  2  3  5  4  6  8  7  9 10]\n",
            "<class 'numpy.ndarray'>\n",
            "[ 1  2  3  5  4  6  8  7  9 10]\n",
            "<class 'numpy.ndarray'>\n"
          ]
        }
      ]
    },
    {
      "cell_type": "code",
      "metadata": {
        "colab": {
          "base_uri": "https://localhost:8080/"
        },
        "id": "FeW6l8Ui-zgY",
        "outputId": "248e8d28-3dcf-454d-bcbd-e66fada1bcf9"
      },
      "source": [
        "a=np.arange(6)\n",
        "print(a)\n",
        "print()\n",
        "x = a.reshape(2,3)\n",
        "print(x)\n",
        "print()\n",
        "v = x.view()\n",
        "print(v)\n"
      ],
      "execution_count": null,
      "outputs": [
        {
          "output_type": "stream",
          "name": "stdout",
          "text": [
            "[0 1 2 3 4 5]\n",
            "\n",
            "[[0 1 2]\n",
            " [3 4 5]]\n",
            "\n",
            "[[0 1 2]\n",
            " [3 4 5]]\n"
          ]
        }
      ]
    },
    {
      "cell_type": "code",
      "metadata": {
        "colab": {
          "base_uri": "https://localhost:8080/"
        },
        "id": "gZoyYIcU_OrM",
        "outputId": "a36a91cc-d9b6-4579-9e46-362000c70133"
      },
      "source": [
        "print(id(a))\n",
        "print()\n",
        "print(id(x))\n",
        "print()\n",
        "print(id(v))"
      ],
      "execution_count": null,
      "outputs": [
        {
          "output_type": "stream",
          "name": "stdout",
          "text": [
            "140684412058800\n",
            "\n",
            "140684412056000\n",
            "\n",
            "140684412057360\n"
          ]
        }
      ]
    },
    {
      "cell_type": "markdown",
      "metadata": {
        "id": "LtZ8E96F_k4k"
      },
      "source": [
        "# **copy**"
      ]
    },
    {
      "cell_type": "code",
      "metadata": {
        "colab": {
          "base_uri": "https://localhost:8080/"
        },
        "id": "IS8btQTd_kRp",
        "outputId": "38873739-e274-4ec2-edaa-86cebea2ae38"
      },
      "source": [
        "a = np.array([[10,10], [2,3], [4,5]])\n",
        "print(a)\n",
        "print(id(a))\n",
        "print()\n",
        "x = a.copy()\n",
        "print(x)\n",
        "print(id(x))\n",
        "\n"
      ],
      "execution_count": null,
      "outputs": [
        {
          "output_type": "stream",
          "name": "stdout",
          "text": [
            "[[10 10]\n",
            " [ 2  3]\n",
            " [ 4  5]]\n",
            "140684414915168\n",
            "\n",
            "[[10 10]\n",
            " [ 2  3]\n",
            " [ 4  5]]\n",
            "140684414916928\n"
          ]
        }
      ]
    },
    {
      "cell_type": "code",
      "metadata": {
        "colab": {
          "base_uri": "https://localhost:8080/"
        },
        "id": "l1Kdu9Wm_7qy",
        "outputId": "efb30f5d-71ea-4138-d901-9c52ed50b020"
      },
      "source": [
        "print(x is a)"
      ],
      "execution_count": null,
      "outputs": [
        {
          "output_type": "stream",
          "name": "stdout",
          "text": [
            "False\n"
          ]
        }
      ]
    },
    {
      "cell_type": "code",
      "metadata": {
        "colab": {
          "base_uri": "https://localhost:8080/"
        },
        "id": "doI4CdLNAMPi",
        "outputId": "8f82b34e-f482-4271-bf4a-d359dd45a6cb"
      },
      "source": [
        "x[0,0]=100\n",
        "print(x)\n",
        "print()\n",
        "print(a)"
      ],
      "execution_count": null,
      "outputs": [
        {
          "output_type": "stream",
          "name": "stdout",
          "text": [
            "[[100  10]\n",
            " [  2   3]\n",
            " [  4   5]]\n",
            "\n",
            "[[10 10]\n",
            " [ 2  3]\n",
            " [ 4  5]]\n"
          ]
        }
      ]
    },
    {
      "cell_type": "markdown",
      "metadata": {
        "id": "w0wqXBxcAbjb"
      },
      "source": [
        "# **Matrix**\n",
        "Syntax\n",
        "numpy.matlib.empty(shape, dtype, order)"
      ]
    },
    {
      "cell_type": "code",
      "metadata": {
        "colab": {
          "base_uri": "https://localhost:8080/"
        },
        "id": "NRA5MW6FAenc",
        "outputId": "9dd485f4-a096-4dfd-edc1-7b160b0ce882"
      },
      "source": [
        "import numpy as np\n",
        "import numpy.matlib\n",
        "x= np.matlib.empty((2,2))\n",
        "print(x)"
      ],
      "execution_count": null,
      "outputs": [
        {
          "output_type": "stream",
          "name": "stdout",
          "text": [
            "[[5.e-324 5.e-324]\n",
            " [5.e-324 0.e+000]]\n"
          ]
        }
      ]
    },
    {
      "cell_type": "code",
      "metadata": {
        "colab": {
          "base_uri": "https://localhost:8080/"
        },
        "id": "8d2EBU9fBNvn",
        "outputId": "0f67f73c-5f22-43a8-8265-2d4dbfdc5210"
      },
      "source": [
        "x= np.matlib.zeros((4,4))\n",
        "print(x)"
      ],
      "execution_count": null,
      "outputs": [
        {
          "output_type": "stream",
          "name": "stdout",
          "text": [
            "[[0. 0. 0. 0.]\n",
            " [0. 0. 0. 0.]\n",
            " [0. 0. 0. 0.]\n",
            " [0. 0. 0. 0.]]\n"
          ]
        }
      ]
    },
    {
      "cell_type": "code",
      "metadata": {
        "colab": {
          "base_uri": "https://localhost:8080/"
        },
        "id": "LxhwFj_MBZh6",
        "outputId": "888c6794-a3aa-47ee-f8e7-d41c297381ad"
      },
      "source": [
        "x= np.matlib.ones((4,4))\n",
        "print(x)\n",
        "print(type(x))"
      ],
      "execution_count": null,
      "outputs": [
        {
          "output_type": "stream",
          "name": "stdout",
          "text": [
            "[[1. 1. 1. 1.]\n",
            " [1. 1. 1. 1.]\n",
            " [1. 1. 1. 1.]\n",
            " [1. 1. 1. 1.]]\n",
            "<class 'numpy.matrix'>\n"
          ]
        }
      ]
    },
    {
      "cell_type": "markdown",
      "metadata": {
        "id": "AhVphMc_Bk4J"
      },
      "source": [
        "# **Eye**\n",
        "numpy.matlib.eye(n, M,k, dtype)"
      ]
    },
    {
      "cell_type": "code",
      "metadata": {
        "colab": {
          "base_uri": "https://localhost:8080/"
        },
        "id": "9O8f6aBhBne6",
        "outputId": "b610107e-1468-4987-fe82-6914fdf96f1c"
      },
      "source": [
        "x= np.matlib.eye(n = 3, M = 4, k = 0, dtype = float)\n",
        "print(x)\n",
        "print(type(x))"
      ],
      "execution_count": null,
      "outputs": [
        {
          "output_type": "stream",
          "name": "stdout",
          "text": [
            "[[1. 0. 0. 0.]\n",
            " [0. 1. 0. 0.]\n",
            " [0. 0. 1. 0.]]\n",
            "<class 'numpy.matrix'>\n"
          ]
        }
      ]
    },
    {
      "cell_type": "code",
      "metadata": {
        "colab": {
          "base_uri": "https://localhost:8080/"
        },
        "id": "HSGJKOExCGcC",
        "outputId": "4f74cc4e-d33b-434c-eeb2-addee8ec1d28"
      },
      "source": [
        "x= np.matlib.identity(5, dtype=float)\n",
        "print(x)\n",
        "print(type(x))"
      ],
      "execution_count": null,
      "outputs": [
        {
          "output_type": "stream",
          "name": "stdout",
          "text": [
            "[[1. 0. 0. 0. 0.]\n",
            " [0. 1. 0. 0. 0.]\n",
            " [0. 0. 1. 0. 0.]\n",
            " [0. 0. 0. 1. 0.]\n",
            " [0. 0. 0. 0. 1.]]\n",
            "<class 'numpy.matrix'>\n"
          ]
        }
      ]
    },
    {
      "cell_type": "code",
      "metadata": {
        "colab": {
          "base_uri": "https://localhost:8080/"
        },
        "id": "J3yETIKWCXtW",
        "outputId": "cd74a719-8752-48fe-d667-1dd004ba6083"
      },
      "source": [
        "x= np.matlib.identity(4, dtype=float)\n",
        "print(x)\n",
        "print(type(x))"
      ],
      "execution_count": null,
      "outputs": [
        {
          "output_type": "stream",
          "name": "stdout",
          "text": [
            "[[1. 0. 0. 0.]\n",
            " [0. 1. 0. 0.]\n",
            " [0. 0. 1. 0.]\n",
            " [0. 0. 0. 1.]]\n",
            "<class 'numpy.matrix'>\n"
          ]
        }
      ]
    },
    {
      "cell_type": "markdown",
      "metadata": {
        "id": "T0adQy_iCwLn"
      },
      "source": [
        "Random"
      ]
    },
    {
      "cell_type": "code",
      "metadata": {
        "colab": {
          "base_uri": "https://localhost:8080/"
        },
        "id": "6kqEaMGcCffX",
        "outputId": "dbdda223-4db3-478f-e997-c5b745e9f8b3"
      },
      "source": [
        "x = np.matlib.rand(4,4)\n",
        "print(x)"
      ],
      "execution_count": null,
      "outputs": [
        {
          "output_type": "stream",
          "name": "stdout",
          "text": [
            "[[0.47329786 0.53464501 0.31775176 0.04824689]\n",
            " [0.69556995 0.72285076 0.30624014 0.04851652]\n",
            " [0.67136504 0.27055344 0.45637737 0.11659703]\n",
            " [0.73539475 0.60575511 0.92555443 0.48951537]]\n"
          ]
        }
      ]
    },
    {
      "cell_type": "code",
      "metadata": {
        "colab": {
          "base_uri": "https://localhost:8080/"
        },
        "id": "t6RK40seC1KE",
        "outputId": "a3abf0f9-603b-46fd-d917-03810d4c06a1"
      },
      "source": [
        "x = np.matrix('1,2,3,4')\n",
        "print(x)"
      ],
      "execution_count": null,
      "outputs": [
        {
          "output_type": "stream",
          "name": "stdout",
          "text": [
            "[[1 2 3 4]]\n"
          ]
        }
      ]
    },
    {
      "cell_type": "code",
      "metadata": {
        "colab": {
          "base_uri": "https://localhost:8080/"
        },
        "id": "4WFkmAwmC_Hk",
        "outputId": "569eee23-8d7a-4eb6-ba64-b1d1fd73f54c"
      },
      "source": [
        "x = np.matrix('1,2,3;4,5,6')\n",
        "print(x)"
      ],
      "execution_count": null,
      "outputs": [
        {
          "output_type": "stream",
          "name": "stdout",
          "text": [
            "[[1 2 3]\n",
            " [4 5 6]]\n"
          ]
        }
      ]
    },
    {
      "cell_type": "code",
      "metadata": {
        "colab": {
          "base_uri": "https://localhost:8080/"
        },
        "id": "HeQNudanDO1h",
        "outputId": "713224f3-182b-4ac4-c3c4-01f04725b534"
      },
      "source": [
        "print(type(x))\n",
        "print()\n",
        "a = np.asarray(x)\n",
        "print(a)\n",
        "print(type(a))"
      ],
      "execution_count": null,
      "outputs": [
        {
          "output_type": "stream",
          "name": "stdout",
          "text": [
            "<class 'numpy.matrix'>\n",
            "\n",
            "[[1 2 3]\n",
            " [4 5 6]]\n",
            "<class 'numpy.ndarray'>\n"
          ]
        }
      ]
    },
    {
      "cell_type": "code",
      "metadata": {
        "colab": {
          "base_uri": "https://localhost:8080/"
        },
        "id": "Lbt-NAQuDZEY",
        "outputId": "efdb9dfc-bd61-4b92-fc56-1f99e1ff0d30"
      },
      "source": [
        "b = np.asmatrix(a)\n",
        "print(b)\n",
        "print(type(b))"
      ],
      "execution_count": null,
      "outputs": [
        {
          "output_type": "stream",
          "name": "stdout",
          "text": [
            "[[1 2 3]\n",
            " [4 5 6]]\n",
            "<class 'numpy.matrix'>\n"
          ]
        }
      ]
    },
    {
      "cell_type": "markdown",
      "metadata": {
        "id": "focUTtIoXuty"
      },
      "source": [
        "# **Joining**"
      ]
    },
    {
      "cell_type": "markdown",
      "metadata": {
        "id": "vCBQnDNAXuSm"
      },
      "source": [
        "J"
      ]
    },
    {
      "cell_type": "code",
      "metadata": {
        "colab": {
          "base_uri": "https://localhost:8080/"
        },
        "id": "c8bSLCXUXRZ1",
        "outputId": "85844f10-e0ee-4a2a-9d7d-9ce2a9e033d3"
      },
      "source": [
        "import numpy as np\n",
        "a = np.array([1, 2, 3])\n",
        "b = np.array([4, 5, 6])\n",
        "c = np.concatenate((a, b))\n",
        "print(a)\n",
        "print()\n",
        "print(b)\n",
        "print()\n",
        "print(c)"
      ],
      "execution_count": 1,
      "outputs": [
        {
          "output_type": "stream",
          "name": "stdout",
          "text": [
            "[1 2 3]\n",
            "\n",
            "[4 5 6]\n",
            "\n",
            "[1 2 3 4 5 6]\n"
          ]
        }
      ]
    },
    {
      "cell_type": "code",
      "metadata": {
        "colab": {
          "base_uri": "https://localhost:8080/"
        },
        "id": "BpFc33pvXmrz",
        "outputId": "62ecbb77-99e2-4047-b28c-86e2356ae5ab"
      },
      "source": [
        "a = np.array([1, 2, 3])\n",
        "b = np.array([4, 5, 6])\n",
        "c = a+b\n",
        "print(a)\n",
        "print()\n",
        "print(b)\n",
        "print()\n",
        "print(c)"
      ],
      "execution_count": 2,
      "outputs": [
        {
          "output_type": "stream",
          "name": "stdout",
          "text": [
            "[1 2 3]\n",
            "\n",
            "[4 5 6]\n",
            "\n",
            "[5 7 9]\n"
          ]
        }
      ]
    },
    {
      "cell_type": "code",
      "metadata": {
        "colab": {
          "base_uri": "https://localhost:8080/"
        },
        "id": "NTj18qpCXrMa",
        "outputId": "283ed9c5-2b66-4ad9-bfe4-13dfb7ddce95"
      },
      "source": [
        "a = np.array([[1, 2],[3,4]])\n",
        "b = np.array([[5, 6],[7,8]])\n",
        "c = np.concatenate((a, b), axis=1)\n",
        "print(a)\n",
        "print()\n",
        "print(b)\n",
        "print()\n",
        "print(c)"
      ],
      "execution_count": 5,
      "outputs": [
        {
          "output_type": "stream",
          "name": "stdout",
          "text": [
            "[[1 2]\n",
            " [3 4]]\n",
            "\n",
            "[[5 6]\n",
            " [7 8]]\n",
            "\n",
            "[[1 2 5 6]\n",
            " [3 4 7 8]]\n"
          ]
        }
      ]
    },
    {
      "cell_type": "code",
      "metadata": {
        "colab": {
          "base_uri": "https://localhost:8080/"
        },
        "id": "mPHvFn-HYX41",
        "outputId": "21d7bccc-0a4e-4ff4-d6a5-b273bd4dbf0f"
      },
      "source": [
        "a = np.array([[1, 2],[3,4]])\n",
        "b = np.array([[5, 6],[7,8]])\n",
        "c = np.concatenate((a, b), axis=0)\n",
        "print(a)\n",
        "print()\n",
        "print(b)\n",
        "print()\n",
        "print(c)"
      ],
      "execution_count": 6,
      "outputs": [
        {
          "output_type": "stream",
          "name": "stdout",
          "text": [
            "[[1 2]\n",
            " [3 4]]\n",
            "\n",
            "[[5 6]\n",
            " [7 8]]\n",
            "\n",
            "[[1 2]\n",
            " [3 4]\n",
            " [5 6]\n",
            " [7 8]]\n"
          ]
        }
      ]
    },
    {
      "cell_type": "code",
      "metadata": {
        "colab": {
          "base_uri": "https://localhost:8080/"
        },
        "id": "3r-BNnWMYcW3",
        "outputId": "ffd7fb41-8860-4687-ed6b-d5375a6f4ec5"
      },
      "source": [
        "import numpy as np\n",
        "a = np.array([1, 2, 3])\n",
        "b = np.array([4, 5, 6])\n",
        "c = np.stack((a, b))\n",
        "print(a)\n",
        "print()\n",
        "print(b)\n",
        "print()\n",
        "print(c)"
      ],
      "execution_count": 9,
      "outputs": [
        {
          "output_type": "stream",
          "name": "stdout",
          "text": [
            "[1 2 3]\n",
            "\n",
            "[4 5 6]\n",
            "\n",
            "[[1 2 3]\n",
            " [4 5 6]]\n"
          ]
        }
      ]
    },
    {
      "cell_type": "code",
      "metadata": {
        "colab": {
          "base_uri": "https://localhost:8080/"
        },
        "id": "6gUL3CW0YyDB",
        "outputId": "e761ca1c-b55b-4196-f0ba-1527d3f623d3"
      },
      "source": [
        "import numpy as np\n",
        "a = np.array([1, 2, 3])\n",
        "b = np.array([4, 5, 6])\n",
        "c = np.hstack((a, b))\n",
        "print(a)\n",
        "print()\n",
        "print(b)\n",
        "print()\n",
        "print(c)"
      ],
      "execution_count": 10,
      "outputs": [
        {
          "output_type": "stream",
          "name": "stdout",
          "text": [
            "[1 2 3]\n",
            "\n",
            "[4 5 6]\n",
            "\n",
            "[1 2 3 4 5 6]\n"
          ]
        }
      ]
    },
    {
      "cell_type": "code",
      "metadata": {
        "colab": {
          "base_uri": "https://localhost:8080/"
        },
        "id": "-0apP8vjY2Lk",
        "outputId": "ed8fd1a6-aa95-484c-d0cc-a60cc89cbf5b"
      },
      "source": [
        "import numpy as np\n",
        "a = np.array([1, 2, 3])\n",
        "b = np.array([4, 5, 6])\n",
        "c = np.vstack((a, b))\n",
        "print(a)\n",
        "print()\n",
        "print(b)\n",
        "print()\n",
        "print(c)"
      ],
      "execution_count": 11,
      "outputs": [
        {
          "output_type": "stream",
          "name": "stdout",
          "text": [
            "[1 2 3]\n",
            "\n",
            "[4 5 6]\n",
            "\n",
            "[[1 2 3]\n",
            " [4 5 6]]\n"
          ]
        }
      ]
    },
    {
      "cell_type": "code",
      "metadata": {
        "colab": {
          "base_uri": "https://localhost:8080/"
        },
        "id": "uvrpiHhFZEW8",
        "outputId": "4190b3bf-bcdb-4d32-8d6f-592f51008463"
      },
      "source": [
        "import numpy as np\n",
        "a = np.array([1, 2, 3])\n",
        "b = np.array([4, 5, 6])\n",
        "c = np.dstack((a, b))\n",
        "print(a)\n",
        "print()\n",
        "print(b)\n",
        "print()\n",
        "print(c)"
      ],
      "execution_count": 12,
      "outputs": [
        {
          "output_type": "stream",
          "name": "stdout",
          "text": [
            "[1 2 3]\n",
            "\n",
            "[4 5 6]\n",
            "\n",
            "[[[1 4]\n",
            "  [2 5]\n",
            "  [3 6]]]\n"
          ]
        }
      ]
    },
    {
      "cell_type": "markdown",
      "metadata": {
        "id": "JpjGLpvqZVN9"
      },
      "source": [
        "# **Splitting**"
      ]
    },
    {
      "cell_type": "code",
      "metadata": {
        "colab": {
          "base_uri": "https://localhost:8080/"
        },
        "id": "JbdorGeCZOaS",
        "outputId": "1f4b8f25-ac57-48a5-eb9e-99177cf43e98"
      },
      "source": [
        "import numpy as np\n",
        "a = np.array([1, 2, 3, 4,5,6,7,8,9])\n",
        "b = np.array_split(a,3)\n",
        "print(a)\n",
        "print()\n",
        "print(b)\n"
      ],
      "execution_count": 14,
      "outputs": [
        {
          "output_type": "stream",
          "name": "stdout",
          "text": [
            "[1 2 3 4 5 6 7 8 9]\n",
            "\n",
            "[array([1, 2, 3]), array([4, 5, 6]), array([7, 8, 9])]\n"
          ]
        }
      ]
    },
    {
      "cell_type": "code",
      "metadata": {
        "colab": {
          "base_uri": "https://localhost:8080/"
        },
        "id": "0M59dmHKZEG6",
        "outputId": "25f7bbbc-7b3f-4f82-8f0a-7da2cd0cf7cf"
      },
      "source": [
        "import numpy as np\n",
        "a = np.array([1, 2, 3, 4,5,6,7,8,9])\n",
        "b = np.array_split(a,2)\n",
        "print(a)\n",
        "print()\n",
        "print(b)"
      ],
      "execution_count": 19,
      "outputs": [
        {
          "output_type": "stream",
          "name": "stdout",
          "text": [
            "[1 2 3 4 5 6 7 8 9]\n",
            "\n",
            "[array([1, 2, 3, 4, 5]), array([6, 7, 8, 9])]\n"
          ]
        }
      ]
    },
    {
      "cell_type": "code",
      "metadata": {
        "colab": {
          "base_uri": "https://localhost:8080/"
        },
        "id": "0OdS1xytaL0L",
        "outputId": "9ff7285c-2996-4692-cc76-920ff946b708"
      },
      "source": [
        "print(b[1])"
      ],
      "execution_count": 20,
      "outputs": [
        {
          "output_type": "stream",
          "name": "stdout",
          "text": [
            "[6 7 8 9]\n"
          ]
        }
      ]
    },
    {
      "cell_type": "code",
      "metadata": {
        "colab": {
          "base_uri": "https://localhost:8080/"
        },
        "id": "3gU_xoq9Z2Vm",
        "outputId": "ffa2bd50-c8e0-4819-cad3-c25a2f72c89f"
      },
      "source": [
        "import numpy as np\n",
        "a = np.array([1, 2, 3, 4,5,6,7,8,9])\n",
        "b = np.array_split(a,7)\n",
        "print(a)\n",
        "print()\n",
        "print(b)"
      ],
      "execution_count": 22,
      "outputs": [
        {
          "output_type": "stream",
          "name": "stdout",
          "text": [
            "[1 2 3 4 5 6 7 8 9]\n",
            "\n",
            "[array([1, 2]), array([3, 4]), array([5]), array([6]), array([7]), array([8]), array([9])]\n"
          ]
        }
      ]
    },
    {
      "cell_type": "code",
      "metadata": {
        "colab": {
          "base_uri": "https://localhost:8080/"
        },
        "id": "hhQ2qzLdZ82f",
        "outputId": "a6b1b47f-fbcd-4cb1-fa72-16bd6ca5b218"
      },
      "source": [
        "print(b[0][0])\n",
        "c=b[0]\n",
        "print(c)\n",
        "print(c[0])"
      ],
      "execution_count": 25,
      "outputs": [
        {
          "output_type": "stream",
          "name": "stdout",
          "text": [
            "1\n",
            "[1 2]\n",
            "1\n"
          ]
        }
      ]
    },
    {
      "cell_type": "code",
      "metadata": {
        "colab": {
          "base_uri": "https://localhost:8080/"
        },
        "id": "ccbraOC3ap0V",
        "outputId": "968992a8-019a-4df7-cecc-21894dbc92a3"
      },
      "source": [
        "print(len(b))"
      ],
      "execution_count": 26,
      "outputs": [
        {
          "output_type": "stream",
          "name": "stdout",
          "text": [
            "7\n"
          ]
        }
      ]
    },
    {
      "cell_type": "code",
      "metadata": {
        "colab": {
          "base_uri": "https://localhost:8080/"
        },
        "id": "2fEPc7flatNR",
        "outputId": "da3850df-5b02-4ab1-bb6d-499929c5d9d0"
      },
      "source": [
        "for i in range(len(b)):\n",
        "  for j in range(len(b[i])):\n",
        "    print(b[i][j])"
      ],
      "execution_count": 28,
      "outputs": [
        {
          "output_type": "stream",
          "name": "stdout",
          "text": [
            "1\n",
            "2\n",
            "3\n",
            "4\n",
            "5\n",
            "6\n",
            "7\n",
            "8\n",
            "9\n"
          ]
        }
      ]
    },
    {
      "cell_type": "code",
      "metadata": {
        "colab": {
          "base_uri": "https://localhost:8080/"
        },
        "id": "70jb29rdbIv-",
        "outputId": "eb54e98c-96e7-47b7-eab3-56a4b734ae27"
      },
      "source": [
        "a=np.array([[1, 2], [3, 4], [5, 6], [7, 8], [9, 10], [11, 12]])\n",
        "print(a)"
      ],
      "execution_count": 29,
      "outputs": [
        {
          "output_type": "stream",
          "name": "stdout",
          "text": [
            "[[ 1  2]\n",
            " [ 3  4]\n",
            " [ 5  6]\n",
            " [ 7  8]\n",
            " [ 9 10]\n",
            " [11 12]]\n"
          ]
        }
      ]
    },
    {
      "cell_type": "code",
      "metadata": {
        "colab": {
          "base_uri": "https://localhost:8080/"
        },
        "id": "UcSw3CEfbQyx",
        "outputId": "04f436a8-31d6-44c5-9844-60003461d929"
      },
      "source": [
        "b = np.array_split(a,3)\n",
        "print(b)"
      ],
      "execution_count": 31,
      "outputs": [
        {
          "output_type": "stream",
          "name": "stdout",
          "text": [
            "[array([[1, 2],\n",
            "       [3, 4]]), array([[5, 6],\n",
            "       [7, 8]]), array([[ 9, 10],\n",
            "       [11, 12]])]\n"
          ]
        }
      ]
    },
    {
      "cell_type": "code",
      "metadata": {
        "colab": {
          "base_uri": "https://localhost:8080/"
        },
        "id": "S7qvEqG7blUR",
        "outputId": "524c7e01-fe8f-4553-d2ba-0c40e6174956"
      },
      "source": [
        "a = np.array([[1, 2, 3], [4, 5, 6], [7, 8, 9], [10, 11, 12], [13, 14, 15], [16, 17, 18]])\n",
        "b = np.array_split(a,3, axis=1)\n",
        "print(a)\n",
        "print()\n",
        "print(b)"
      ],
      "execution_count": 32,
      "outputs": [
        {
          "output_type": "stream",
          "name": "stdout",
          "text": [
            "[[ 1  2  3]\n",
            " [ 4  5  6]\n",
            " [ 7  8  9]\n",
            " [10 11 12]\n",
            " [13 14 15]\n",
            " [16 17 18]]\n",
            "\n",
            "[array([[ 1],\n",
            "       [ 4],\n",
            "       [ 7],\n",
            "       [10],\n",
            "       [13],\n",
            "       [16]]), array([[ 2],\n",
            "       [ 5],\n",
            "       [ 8],\n",
            "       [11],\n",
            "       [14],\n",
            "       [17]]), array([[ 3],\n",
            "       [ 6],\n",
            "       [ 9],\n",
            "       [12],\n",
            "       [15],\n",
            "       [18]])]\n"
          ]
        }
      ]
    },
    {
      "cell_type": "code",
      "metadata": {
        "colab": {
          "base_uri": "https://localhost:8080/"
        },
        "id": "MmmTL5rJb2rY",
        "outputId": "712fe463-91f5-44ce-d4fb-c8f46ebdbe81"
      },
      "source": [
        "a = np.array([[1, 2, 3], [4, 5, 6], [7, 8, 9], [10, 11, 12], [13, 14, 15], [16, 17, 18]])\n",
        "b = np.array_split(a,3, axis=0)\n",
        "print(a)\n",
        "print()\n",
        "print(b)"
      ],
      "execution_count": 33,
      "outputs": [
        {
          "output_type": "stream",
          "name": "stdout",
          "text": [
            "[[ 1  2  3]\n",
            " [ 4  5  6]\n",
            " [ 7  8  9]\n",
            " [10 11 12]\n",
            " [13 14 15]\n",
            " [16 17 18]]\n",
            "\n",
            "[array([[1, 2, 3],\n",
            "       [4, 5, 6]]), array([[ 7,  8,  9],\n",
            "       [10, 11, 12]]), array([[13, 14, 15],\n",
            "       [16, 17, 18]])]\n"
          ]
        }
      ]
    },
    {
      "cell_type": "code",
      "metadata": {
        "colab": {
          "base_uri": "https://localhost:8080/"
        },
        "id": "U6noh6Bgb6ME",
        "outputId": "6ae1a1f7-6e32-469a-e43e-85bb1afd6985"
      },
      "source": [
        "h = np.hsplit(a,3)\n",
        "print(h)"
      ],
      "execution_count": 34,
      "outputs": [
        {
          "output_type": "stream",
          "name": "stdout",
          "text": [
            "[array([[ 1],\n",
            "       [ 4],\n",
            "       [ 7],\n",
            "       [10],\n",
            "       [13],\n",
            "       [16]]), array([[ 2],\n",
            "       [ 5],\n",
            "       [ 8],\n",
            "       [11],\n",
            "       [14],\n",
            "       [17]]), array([[ 3],\n",
            "       [ 6],\n",
            "       [ 9],\n",
            "       [12],\n",
            "       [15],\n",
            "       [18]])]\n"
          ]
        }
      ]
    },
    {
      "cell_type": "markdown",
      "metadata": {
        "id": "y27B_WiZcNKW"
      },
      "source": [
        "# **Search**"
      ]
    },
    {
      "cell_type": "code",
      "metadata": {
        "colab": {
          "base_uri": "https://localhost:8080/"
        },
        "id": "r0gL7VFmcQY3",
        "outputId": "8028c30f-1307-442b-e4f5-5c2a51faafc2"
      },
      "source": [
        "a =  np.array([1, 2, 3, 4, 5, 4, 4])\n",
        "b = np.where(a==4)\n",
        "print(b)"
      ],
      "execution_count": 35,
      "outputs": [
        {
          "output_type": "stream",
          "name": "stdout",
          "text": [
            "(array([3, 5, 6]),)\n"
          ]
        }
      ]
    },
    {
      "cell_type": "code",
      "metadata": {
        "colab": {
          "base_uri": "https://localhost:8080/"
        },
        "id": "RHJg_VIJcmQP",
        "outputId": "1294639e-5da1-42cd-85d1-30513596d245"
      },
      "source": [
        "#find even numbers\n",
        "a =  np.array([1, 2, 3, 4, 5, 4, 4,9,8,10,12,11,11,12,14,10])\n",
        "b = np.where(a%2==0)\n",
        "print(b)"
      ],
      "execution_count": 37,
      "outputs": [
        {
          "output_type": "stream",
          "name": "stdout",
          "text": [
            "(array([ 1,  3,  5,  6,  8,  9, 10, 13, 14, 15]),)\n"
          ]
        }
      ]
    },
    {
      "cell_type": "code",
      "metadata": {
        "colab": {
          "base_uri": "https://localhost:8080/"
        },
        "id": "7J3Humt3c6XY",
        "outputId": "27d53c34-6b7b-4abf-99d5-000afda5729b"
      },
      "source": [
        "#odd even numbers\n",
        "a =  np.array([1, 2, 3, 4, 5, 4, 4,9,8,10,12,11,11,12,14,10])\n",
        "b = np.where(a%2!=0)\n",
        "print(b)"
      ],
      "execution_count": 38,
      "outputs": [
        {
          "output_type": "stream",
          "name": "stdout",
          "text": [
            "(array([ 0,  2,  4,  7, 11, 12]),)\n"
          ]
        }
      ]
    },
    {
      "cell_type": "markdown",
      "metadata": {
        "id": "exjSNGvhdTOx"
      },
      "source": [
        "# **searchsorted**"
      ]
    },
    {
      "cell_type": "code",
      "metadata": {
        "colab": {
          "base_uri": "https://localhost:8080/"
        },
        "id": "9qLSGBwTc_IL",
        "outputId": "2cbafd43-5875-43c7-bde7-fc2bdd77fc84"
      },
      "source": [
        "#search in sorted arrays\n",
        "a = np.array([2,3,4,6,7,8,9,10,12,14,15,16])\n",
        "b = np.searchsorted(a,7)\n",
        "print(b)"
      ],
      "execution_count": 40,
      "outputs": [
        {
          "output_type": "stream",
          "name": "stdout",
          "text": [
            "4\n"
          ]
        }
      ]
    },
    {
      "cell_type": "code",
      "metadata": {
        "colab": {
          "base_uri": "https://localhost:8080/"
        },
        "id": "Eaeu1V09dks8",
        "outputId": "acc2a418-ec79-40eb-abc1-d7b394c9bab1"
      },
      "source": [
        "#search in sorted arrays\n",
        "a = np.array([2,3,4,6,7,8,9,10,12,14,15,16])\n",
        "b = np.searchsorted(a,1)\n",
        "print(b)"
      ],
      "execution_count": 41,
      "outputs": [
        {
          "output_type": "stream",
          "name": "stdout",
          "text": [
            "0\n"
          ]
        }
      ]
    },
    {
      "cell_type": "code",
      "metadata": {
        "colab": {
          "base_uri": "https://localhost:8080/"
        },
        "id": "AafP0MkudqVH",
        "outputId": "7f184d8c-4cbf-4191-e836-77e2058d8388"
      },
      "source": [
        "#search in sorted arrays\n",
        "a = np.array([2,3,4,6,7,8,9,10,12,14,15,16])\n",
        "b = np.searchsorted(a,4,side='right')\n",
        "print(b)"
      ],
      "execution_count": 42,
      "outputs": [
        {
          "output_type": "stream",
          "name": "stdout",
          "text": [
            "3\n"
          ]
        }
      ]
    },
    {
      "cell_type": "code",
      "metadata": {
        "colab": {
          "base_uri": "https://localhost:8080/"
        },
        "id": "DGdHz58veKS9",
        "outputId": "b5e64cd5-8b33-4092-ed64-17bb5eea7166"
      },
      "source": [
        "#search in sorted arrays\n",
        "a = np.array([2,3,4,6,7,8,9,10,12,14,15,16])\n",
        "b = np.searchsorted(a,[3,4,7])\n",
        "print(b)"
      ],
      "execution_count": 43,
      "outputs": [
        {
          "output_type": "stream",
          "name": "stdout",
          "text": [
            "[1 2 4]\n"
          ]
        }
      ]
    },
    {
      "cell_type": "markdown",
      "metadata": {
        "id": "f2lJxpxAeVr5"
      },
      "source": [
        "# **sorting**"
      ]
    },
    {
      "cell_type": "code",
      "metadata": {
        "colab": {
          "base_uri": "https://localhost:8080/"
        },
        "id": "pTUHbXEKeVLN",
        "outputId": "1da60ea7-1921-40be-90d4-aed438c3cae6"
      },
      "source": [
        "a = np.array([9,3,1,2,6,5,8,7])\n",
        "print(a)\n",
        "b = np.sort(a)\n",
        "print()\n",
        "print(b)"
      ],
      "execution_count": 45,
      "outputs": [
        {
          "output_type": "stream",
          "name": "stdout",
          "text": [
            "[9 3 1 2 6 5 8 7]\n",
            "\n",
            "[1 2 3 5 6 7 8 9]\n"
          ]
        }
      ]
    },
    {
      "cell_type": "code",
      "metadata": {
        "colab": {
          "base_uri": "https://localhost:8080/"
        },
        "id": "ZUdMMSouexCI",
        "outputId": "5386b046-a5c6-4953-808b-1b373cc3f74e"
      },
      "source": [
        "a = np.array([\"grapes\",\"Lion\",\"Peas\",\"Car\"])\n",
        "b = np.sort(a)\n",
        "print(a)\n",
        "print()\n",
        "print(b)"
      ],
      "execution_count": 46,
      "outputs": [
        {
          "output_type": "stream",
          "name": "stdout",
          "text": [
            "['grapes' 'Lion' 'Peas' 'Car']\n",
            "\n",
            "['Car' 'Lion' 'Peas' 'grapes']\n"
          ]
        }
      ]
    },
    {
      "cell_type": "code",
      "metadata": {
        "colab": {
          "base_uri": "https://localhost:8080/"
        },
        "id": "jiJ-bR4pfDmG",
        "outputId": "06b06595-3c38-4655-9ff4-174d1bdd30c0"
      },
      "source": [
        "a =  np.array([True, False, True])\n",
        "b= np.sort(a)\n",
        "print(b)"
      ],
      "execution_count": 48,
      "outputs": [
        {
          "output_type": "stream",
          "name": "stdout",
          "text": [
            "[False  True  True]\n"
          ]
        }
      ]
    },
    {
      "cell_type": "code",
      "metadata": {
        "colab": {
          "base_uri": "https://localhost:8080/"
        },
        "id": "jMOaNrZtfMg0",
        "outputId": "a4e5bbeb-f8e6-4eaa-d56e-7fdb90951efc"
      },
      "source": [
        "a = np.array([[4,2,3],[8,10,7]])\n",
        "print(a)\n",
        "print()\n",
        "b = np.sort(a)\n",
        "print(b)"
      ],
      "execution_count": 50,
      "outputs": [
        {
          "output_type": "stream",
          "name": "stdout",
          "text": [
            "[[ 4  2  3]\n",
            " [ 8 10  7]]\n",
            "\n",
            "[[ 2  3  4]\n",
            " [ 7  8 10]]\n"
          ]
        }
      ]
    },
    {
      "cell_type": "code",
      "metadata": {
        "colab": {
          "base_uri": "https://localhost:8080/"
        },
        "id": "T4qznZPrflUU",
        "outputId": "e3043c83-b084-4296-8304-82218aa9d49f"
      },
      "source": [
        "a = np.array([[4,10,3],[8,2,7]])\n",
        "print(a)\n",
        "print()\n",
        "b = np.sort(a)\n",
        "print(b)"
      ],
      "execution_count": 51,
      "outputs": [
        {
          "output_type": "stream",
          "name": "stdout",
          "text": [
            "[[ 4 10  3]\n",
            " [ 8  2  7]]\n",
            "\n",
            "[[ 3  4 10]\n",
            " [ 2  7  8]]\n"
          ]
        }
      ]
    },
    {
      "cell_type": "markdown",
      "metadata": {
        "id": "sTdH3CKAfyBV"
      },
      "source": [
        "# **Filter**"
      ]
    },
    {
      "cell_type": "code",
      "metadata": {
        "colab": {
          "base_uri": "https://localhost:8080/"
        },
        "id": "Hiccpy-5fxE2",
        "outputId": "716ce4ee-4812-4348-d599-424a1453b8c1"
      },
      "source": [
        "a = np.array([1,4,2,3])\n",
        "b= [True,False,True,False]\n",
        "c = a[b]\n",
        "print(c)"
      ],
      "execution_count": 52,
      "outputs": [
        {
          "output_type": "stream",
          "name": "stdout",
          "text": [
            "[1 2]\n"
          ]
        }
      ]
    },
    {
      "cell_type": "code",
      "metadata": {
        "colab": {
          "base_uri": "https://localhost:8080/"
        },
        "id": "Y9q2GmjMgSud",
        "outputId": "fe72d359-77f0-4fe2-9092-dd6b796913cd"
      },
      "source": [
        "# Create an empty list\n",
        "b = []\n",
        "\n",
        "# go through each element in arr\n",
        "for element in a:\n",
        "  # if the element is higher than 42, set the value to True, otherwise False:\n",
        "  if element > 2:\n",
        "    b.append(True)\n",
        "  else:\n",
        "    b.append(False)\n",
        "\n",
        "c = a[b]\n",
        "print(a)\n",
        "print()\n",
        "print(b)\n",
        "print()\n",
        "print(c)"
      ],
      "execution_count": 56,
      "outputs": [
        {
          "output_type": "stream",
          "name": "stdout",
          "text": [
            "[1 4 2 3]\n",
            "\n",
            "[False, True, False, True]\n",
            "\n",
            "[4 3]\n"
          ]
        }
      ]
    },
    {
      "cell_type": "code",
      "metadata": {
        "colab": {
          "base_uri": "https://localhost:8080/"
        },
        "id": "icYeAl6yhOgr",
        "outputId": "62a30daf-e2d6-4e15-9cd8-15b51001162c"
      },
      "source": [
        "b=a>2\n",
        "print(b)"
      ],
      "execution_count": 57,
      "outputs": [
        {
          "output_type": "stream",
          "name": "stdout",
          "text": [
            "[False  True False  True]\n"
          ]
        }
      ]
    },
    {
      "cell_type": "code",
      "metadata": {
        "colab": {
          "base_uri": "https://localhost:8080/"
        },
        "id": "PCtWG-EChTcF",
        "outputId": "4c402f56-8991-4b88-b6de-374a572629e3"
      },
      "source": [
        "c = a[b]\n",
        "print(c)"
      ],
      "execution_count": 58,
      "outputs": [
        {
          "output_type": "stream",
          "name": "stdout",
          "text": [
            "[4 3]\n"
          ]
        }
      ]
    }
  ]
}
