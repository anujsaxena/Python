{
  "nbformat": 4,
  "nbformat_minor": 0,
  "metadata": {
    "colab": {
      "name": "pipe_2.ipynb",
      "provenance": [],
      "collapsed_sections": [],
      "authorship_tag": "ABX9TyOH1ROP1mekj3Xj7dfJDptD",
      "include_colab_link": true
    },
    "kernelspec": {
      "name": "python3",
      "display_name": "Python 3"
    },
    "language_info": {
      "name": "python"
    }
  },
  "cells": [
    {
      "cell_type": "markdown",
      "metadata": {
        "id": "view-in-github",
        "colab_type": "text"
      },
      "source": [
        "<a href=\"https://colab.research.google.com/github/anujsaxena/Python/blob/main/pipe_2.ipynb\" target=\"_parent\"><img src=\"https://colab.research.google.com/assets/colab-badge.svg\" alt=\"Open In Colab\"/></a>"
      ]
    },
    {
      "cell_type": "markdown",
      "metadata": {
        "id": "Jy1qvGOT_I34"
      },
      "source": [
        "# **Pipes**\n",
        "\n",
        "Pipe is a Python library that enables you to use pipes in Python. A pipe (|) passes the results of one method to another method."
      ]
    },
    {
      "cell_type": "code",
      "metadata": {
        "colab": {
          "base_uri": "https://localhost:8080/"
        },
        "id": "YIDmZtAnIxyC",
        "outputId": "2508072c-cb09-4e0b-e04a-99a5f82a7c05"
      },
      "source": [
        "ar = [1,3,4,5,6,7,8,19,22,21,23,34]\n",
        "l = list(map(lambda x:x*2, filter(lambda x:x%2==0, ar)))\n",
        "print(l)"
      ],
      "execution_count": 1,
      "outputs": [
        {
          "output_type": "stream",
          "name": "stdout",
          "text": [
            "[8, 12, 16, 44, 68]\n"
          ]
        }
      ]
    },
    {
      "cell_type": "code",
      "metadata": {
        "colab": {
          "base_uri": "https://localhost:8080/"
        },
        "id": "007vokkfPMHJ",
        "outputId": "18b7e3d1-3499-40f7-c656-1806c95a8c3d"
      },
      "source": [
        "!pip install pipe"
      ],
      "execution_count": 3,
      "outputs": [
        {
          "output_type": "stream",
          "name": "stdout",
          "text": [
            "Collecting pipe\n",
            "  Downloading pipe-1.6.0-py2.py3-none-any.whl (6.8 kB)\n",
            "Installing collected packages: pipe\n",
            "Successfully installed pipe-1.6.0\n"
          ]
        }
      ]
    },
    {
      "cell_type": "code",
      "metadata": {
        "colab": {
          "base_uri": "https://localhost:8080/"
        },
        "id": "a820FevKOset",
        "outputId": "b63f04e7-ee92-4e87-915e-406936cc0ea7"
      },
      "source": [
        "from pipe import select, where\n",
        "ar = [1,3,4,5,6,7,8,19,22,21,23,34]\n",
        "l = list(ar | where(lambda x:x%2==0)\n",
        "| select(lambda x:x*2))\n",
        "print(l)"
      ],
      "execution_count": 5,
      "outputs": [
        {
          "output_type": "stream",
          "name": "stdout",
          "text": [
            "[8, 12, 16, 44, 68]\n"
          ]
        }
      ]
    },
    {
      "cell_type": "markdown",
      "metadata": {
        "id": "gUiEQziWPrgN"
      },
      "source": [
        "# **where**\n",
        "Pipe’s where method can also be used to filter elements in an iterable."
      ]
    },
    {
      "cell_type": "code",
      "metadata": {
        "colab": {
          "base_uri": "https://localhost:8080/"
        },
        "id": "6Go6Cdt3PeTv",
        "outputId": "3d136775-941a-41de-9454-32bbf7bddc9f"
      },
      "source": [
        "ar = [1,3,4,5,6,7,8,19,22,21,23,34]\n",
        "l = list(ar | where(lambda x:x%2==0))\n",
        "print(l)"
      ],
      "execution_count": 6,
      "outputs": [
        {
          "output_type": "stream",
          "name": "stdout",
          "text": [
            "[4, 6, 8, 22, 34]\n"
          ]
        }
      ]
    },
    {
      "cell_type": "markdown",
      "metadata": {
        "id": "C3x0w06LP_mA"
      },
      "source": [
        "# **select**\n",
        "The select method is similar to the map method. select applies a method to each element of an iterable."
      ]
    },
    {
      "cell_type": "code",
      "metadata": {
        "colab": {
          "base_uri": "https://localhost:8080/"
        },
        "id": "5HKpTjshPw3t",
        "outputId": "cd79f59c-c800-441f-bcbc-2f25dcb06ba9"
      },
      "source": [
        "ar = [1,3,4,5,6,7,8,19,22,21,23,34]\n",
        "l = list(ar | select(lambda x:x*2))\n",
        "print(l)"
      ],
      "execution_count": 7,
      "outputs": [
        {
          "output_type": "stream",
          "name": "stdout",
          "text": [
            "[2, 6, 8, 10, 12, 14, 16, 38, 44, 42, 46, 68]\n"
          ]
        }
      ]
    },
    {
      "cell_type": "markdown",
      "metadata": {
        "id": "eva5D4IwQKA2"
      },
      "source": [
        "# **Why we need where/select**\n",
        "\n",
        "It is because you can insert one method after another method using pipes. As a result, using pipes removes nested parentheses and makes the code more readable."
      ]
    },
    {
      "cell_type": "markdown",
      "metadata": {
        "id": "Z8p4WJFjQafF"
      },
      "source": [
        "# **Unfold Iterables**\n",
        "\n",
        "chain — Chain a Sequence of Iterables\n",
        "It can be a pain to work with a nested iterable. Luckily, you can use chain to chain a sequence of iterables."
      ]
    },
    {
      "cell_type": "code",
      "metadata": {
        "colab": {
          "base_uri": "https://localhost:8080/"
        },
        "id": "tADo9SI8QDxn",
        "outputId": "36f7eea9-2b69-42b6-bfda-5ec55b6de3fb"
      },
      "source": [
        "ar = [[1,2,[3]],[4,5]]\n",
        "print(ar)"
      ],
      "execution_count": 8,
      "outputs": [
        {
          "output_type": "stream",
          "name": "stdout",
          "text": [
            "[[1, 2, [3]], [4, 5]]\n"
          ]
        }
      ]
    },
    {
      "cell_type": "code",
      "metadata": {
        "colab": {
          "base_uri": "https://localhost:8080/"
        },
        "id": "gqKK-c0nQwRQ",
        "outputId": "b3813a51-6b1a-4ba5-8b51-caeb835815fb"
      },
      "source": [
        "from pipe import chain\n",
        "\n",
        "l= list(ar|chain)\n",
        "print(l)"
      ],
      "execution_count": 9,
      "outputs": [
        {
          "output_type": "stream",
          "name": "stdout",
          "text": [
            "[1, 2, [3], 4, 5]\n"
          ]
        }
      ]
    },
    {
      "cell_type": "markdown",
      "metadata": {
        "id": "f0EFrS3XRDHM"
      },
      "source": [
        "# **Traverse — Recursively Unfold Iterables**\n",
        "The traverse method can be used to recursively unfold iterables. Thus, you can use this method to turn a deeply nested list into a flat list.\n"
      ]
    },
    {
      "cell_type": "code",
      "metadata": {
        "colab": {
          "base_uri": "https://localhost:8080/"
        },
        "id": "DzDzDLgyRChY",
        "outputId": "f7822336-36a4-4581-99fa-f0555cc568f4"
      },
      "source": [
        "from pipe import traverse \n",
        "ar = [[1,2,[3]],[4,5]]\n",
        "l= list(ar|traverse)\n",
        "print(l)"
      ],
      "execution_count": 10,
      "outputs": [
        {
          "output_type": "stream",
          "name": "stdout",
          "text": [
            "[1, 2, 3, 4, 5]\n"
          ]
        }
      ]
    },
    {
      "cell_type": "markdown",
      "metadata": {
        "id": "aKakFGE9Ried"
      },
      "source": [
        "# **select**"
      ]
    },
    {
      "cell_type": "code",
      "metadata": {
        "colab": {
          "base_uri": "https://localhost:8080/"
        },
        "id": "dNZM1VTXRiC6",
        "outputId": "0fd1b910-9999-462b-bbee-319ddd0f9d2e"
      },
      "source": [
        "from pipe import traverse, select\n",
        "\n",
        "f = [{\"fname\":\"Mango\",\"price\":[30,60]},\n",
        "     {\"fname\":\"Apple\",\"price\":180},\n",
        "     {\"fname\":\"Oranges\",\"price\": 60}]\n",
        "print(f)"
      ],
      "execution_count": 11,
      "outputs": [
        {
          "output_type": "stream",
          "name": "stdout",
          "text": [
            "[{'fname': 'Mango', 'price': [30, 60]}, {'fname': 'Apple', 'price': 180}, {'fname': 'Oranges', 'price': 60}]\n"
          ]
        }
      ]
    },
    {
      "cell_type": "code",
      "metadata": {
        "colab": {
          "base_uri": "https://localhost:8080/"
        },
        "id": "j00sqtoySTw-",
        "outputId": "28166b55-4d98-4d5e-8d0e-f733b69be104"
      },
      "source": [
        "l = list(f |select(lambda f: f[\"price\"])\n",
        "|traverse)\n",
        "print(l)"
      ],
      "execution_count": 13,
      "outputs": [
        {
          "output_type": "stream",
          "name": "stdout",
          "text": [
            "[30, 60, 180, 60]\n"
          ]
        }
      ]
    },
    {
      "cell_type": "code",
      "metadata": {
        "colab": {
          "base_uri": "https://localhost:8080/"
        },
        "id": "OikQzS2pSrne",
        "outputId": "073994ff-07d5-4f10-e895-86b97df1e6fe"
      },
      "source": [
        "l = list(f |select(lambda f: f[\"price\"]))\n",
        "print(l)"
      ],
      "execution_count": 14,
      "outputs": [
        {
          "output_type": "stream",
          "name": "stdout",
          "text": [
            "[[30, 60], 180, 60]\n"
          ]
        }
      ]
    },
    {
      "cell_type": "markdown",
      "metadata": {
        "id": "_w1R3afASy-9"
      },
      "source": [
        "# **Group elements in a list**\n",
        "\n",
        "Sometimes, it might be useful to group elements in a list using a certain function. That could be easily done with the groupby method."
      ]
    },
    {
      "cell_type": "code",
      "metadata": {
        "colab": {
          "base_uri": "https://localhost:8080/"
        },
        "id": "TPz8wDrsSyZO",
        "outputId": "d2ce1303-6e71-4b3a-f4af-7cee224c6443"
      },
      "source": [
        "from pipe import groupby, select\n",
        "\n",
        "l = list(\n",
        "    (2,1,3,4,5,6,7,8,6,3,2,9,10)\n",
        "    | groupby(lambda x:\"even\" if x%2==0 else \"odd\")\n",
        "    | select(lambda x:{x[0]:list(x[1])})\n",
        ")\n",
        "\n",
        "print(l)"
      ],
      "execution_count": 16,
      "outputs": [
        {
          "output_type": "stream",
          "name": "stdout",
          "text": [
            "[{'even': [2, 4, 6, 8, 6, 2, 10]}, {'odd': [1, 3, 5, 7, 3, 9]}]\n"
          ]
        }
      ]
    },
    {
      "cell_type": "code",
      "metadata": {
        "colab": {
          "base_uri": "https://localhost:8080/"
        },
        "id": "PwCZEBTKUZGD",
        "outputId": "a44712f9-e688-4691-e5ba-7f1d657c7e9e"
      },
      "source": [
        "from pipe import groupby, select, where\n",
        "\n",
        "l = list(\n",
        "    (2,1,3,4,5,6,7,8,6,3,2,9,10)\n",
        "    | groupby(lambda x:\"even\" if x%2==0 else \"odd\")\n",
        "    | select(lambda x:{x[0]:list(x[1] | where(lambda x:x>2))}\n",
        "    )\n",
        ")\n",
        "\n",
        "print(l)"
      ],
      "execution_count": 17,
      "outputs": [
        {
          "output_type": "stream",
          "name": "stdout",
          "text": [
            "[{'even': [4, 6, 8, 6, 10]}, {'odd': [3, 5, 7, 3, 9]}]\n"
          ]
        }
      ]
    },
    {
      "cell_type": "code",
      "metadata": {
        "colab": {
          "base_uri": "https://localhost:8080/"
        },
        "id": "A3g8kO5vU1Yo",
        "outputId": "b7b682be-ac22-42fc-e59d-dcfc9015382f"
      },
      "source": [
        "from pipe import groupby, select, where\n",
        "\n",
        "l = list(\n",
        "    (2,1,3,4,5,6,7,8,6,3,2,9,10)\n",
        "    | groupby(lambda x:\"even\" if x%2==0 else \"odd\")\n",
        "    | select(lambda x:{x[0]:list(x[1] | where(lambda x:x>3))}\n",
        "    )\n",
        ")\n",
        "\n",
        "print(l)"
      ],
      "execution_count": 18,
      "outputs": [
        {
          "output_type": "stream",
          "name": "stdout",
          "text": [
            "[{'even': [4, 6, 8, 6, 10]}, {'odd': [5, 7, 9]}]\n"
          ]
        }
      ]
    },
    {
      "cell_type": "code",
      "metadata": {
        "colab": {
          "base_uri": "https://localhost:8080/"
        },
        "id": "_0H_mtXTVIbb",
        "outputId": "db37d00c-086e-4f82-f407-c90149a356b0"
      },
      "source": [
        "from pipe import groupby, select, where\n",
        "\n",
        "l = list(\n",
        "    (2,1,3,4,5,6,7,8,6,3,2,9,10)\n",
        "    | groupby(lambda x:\"even\" if x%2==0 else \"odd\")\n",
        "    | select(lambda x:{x[0]:list(x[1] | where(lambda x:x!=6))}\n",
        "    )\n",
        ")\n",
        "\n",
        "print(l)"
      ],
      "execution_count": 20,
      "outputs": [
        {
          "output_type": "stream",
          "name": "stdout",
          "text": [
            "[{'even': [2, 4, 8, 2, 10]}, {'odd': [1, 3, 5, 7, 3, 9]}]\n"
          ]
        }
      ]
    },
    {
      "cell_type": "markdown",
      "metadata": {
        "id": "H-YILJTNVXxZ"
      },
      "source": [
        "# **dedup — Deduplicate Values Using a Key**\n",
        "The dedup method removes duplicates in a list."
      ]
    },
    {
      "cell_type": "code",
      "metadata": {
        "colab": {
          "base_uri": "https://localhost:8080/"
        },
        "id": "CnYwFjkdVbLe",
        "outputId": "46fe4221-8724-4b22-b3e9-5cfd9c588a7e"
      },
      "source": [
        "from pipe import dedup\n",
        "ar = [1,3,4,5,6,7,8,1,2,4,34,19,22,21,23,34]\n",
        "l = list(ar|dedup)\n",
        "print(l)"
      ],
      "execution_count": 22,
      "outputs": [
        {
          "output_type": "stream",
          "name": "stdout",
          "text": [
            "[1, 3, 4, 5, 6, 7, 8, 2, 34, 19, 22, 21, 23]\n"
          ]
        }
      ]
    },
    {
      "cell_type": "code",
      "metadata": {
        "colab": {
          "base_uri": "https://localhost:8080/"
        },
        "id": "oIqissfKV5AW",
        "outputId": "07622ba3-91f3-4714-eef9-f8c4aed7a508"
      },
      "source": [
        "from pipe import dedup\n",
        "ar = [1,3,4,5,6,7,8,1,2,4,34,19,22,21,23,34]\n",
        "l = list(ar|dedup(lambda x:x>5))\n",
        "print(l)"
      ],
      "execution_count": 23,
      "outputs": [
        {
          "output_type": "stream",
          "name": "stdout",
          "text": [
            "[1, 6]\n"
          ]
        }
      ]
    },
    {
      "cell_type": "code",
      "metadata": {
        "colab": {
          "base_uri": "https://localhost:8080/"
        },
        "id": "tL4YxCycWMaG",
        "outputId": "6e2c0243-b724-4b6c-d111-1c5b792ddc5d"
      },
      "source": [
        "from pipe import dedup\n",
        "ar = [1,3,4,5,6,7,8,1,2,4,34,19,22,21,23,34]\n",
        "l = list(ar|dedup(lambda x:x<5))\n",
        "print(l)"
      ],
      "execution_count": 24,
      "outputs": [
        {
          "output_type": "stream",
          "name": "stdout",
          "text": [
            "[1, 5]\n"
          ]
        }
      ]
    },
    {
      "cell_type": "code",
      "metadata": {
        "colab": {
          "base_uri": "https://localhost:8080/"
        },
        "id": "DBH1zPDjWu89",
        "outputId": "e9a7d937-bf54-4c03-f860-dc6f70516400"
      },
      "source": [
        "from pipe import dedup, select, where\n",
        "\n",
        "f = [{\"fname\":\"Mango\",\"price\":None},\n",
        "     {\"fname\":\"Apple\",\"price\":180},\n",
        "     {\"fname\":\"Oranges\",\"price\": 60},\n",
        "     {\"fname\":\"Oranges\",\"price\": 160},\n",
        "     {\"fname\":\"Apple\",\"price\":80}]\n",
        "l = list(f \n",
        "         | dedup(key=lambda f:f[\"fname\"])\n",
        "         | select(lambda f:f[\"price\"])\n",
        "         | where(lambda price: isinstance(price, int))\n",
        "         )\n",
        "print(l)"
      ],
      "execution_count": 32,
      "outputs": [
        {
          "output_type": "stream",
          "name": "stdout",
          "text": [
            "[180, 60]\n"
          ]
        }
      ]
    }
  ]
}