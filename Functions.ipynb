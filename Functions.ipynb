{
  "nbformat": 4,
  "nbformat_minor": 0,
  "metadata": {
    "colab": {
      "name": "Functions.ipynb",
      "provenance": [],
      "collapsed_sections": [],
      "authorship_tag": "ABX9TyPy/NBZhmpeVDv+smSH18OR",
      "include_colab_link": true
    },
    "kernelspec": {
      "name": "python3",
      "display_name": "Python 3"
    },
    "language_info": {
      "name": "python"
    }
  },
  "cells": [
    {
      "cell_type": "markdown",
      "metadata": {
        "id": "view-in-github",
        "colab_type": "text"
      },
      "source": [
        "<a href=\"https://colab.research.google.com/github/anujsaxena/Python/blob/main/Functions.ipynb\" target=\"_parent\"><img src=\"https://colab.research.google.com/assets/colab-badge.svg\" alt=\"Open In Colab\"/></a>"
      ]
    },
    {
      "cell_type": "markdown",
      "metadata": {
        "id": "P5v-gjQIrYl_"
      },
      "source": [
        "# **Python Functions**\n"
      ]
    },
    {
      "cell_type": "code",
      "metadata": {
        "colab": {
          "base_uri": "https://localhost:8080/"
        },
        "id": "To22TeJErd1e",
        "outputId": "871b13fc-65b2-4a0b-d544-93e637e5d6f6"
      },
      "source": [
        "def example():\n",
        "  print(\"Welcome to python functions\")\n",
        "\n",
        "example()"
      ],
      "execution_count": null,
      "outputs": [
        {
          "output_type": "stream",
          "name": "stdout",
          "text": [
            "Welcome to python functions\n"
          ]
        }
      ]
    },
    {
      "cell_type": "code",
      "metadata": {
        "colab": {
          "base_uri": "https://localhost:8080/"
        },
        "id": "xzuR2vn1sIKL",
        "outputId": "81449e51-a9ab-4198-8244-9cb3b0af06d8"
      },
      "source": [
        "def fn(str):\n",
        "  print(str)\n",
        "\n",
        "fn(\"IDI\")\n",
        "fn(\"Anuj Saxena\")\n",
        "fn(\"CEO\")"
      ],
      "execution_count": null,
      "outputs": [
        {
          "output_type": "stream",
          "name": "stdout",
          "text": [
            "IDI\n",
            "Anuj Saxena\n",
            "CEO\n"
          ]
        }
      ]
    },
    {
      "cell_type": "code",
      "metadata": {
        "colab": {
          "base_uri": "https://localhost:8080/"
        },
        "id": "nxPT1z6RsdO6",
        "outputId": "65a29a89-d8e0-4394-fecc-1c8086a9470b"
      },
      "source": [
        "def sum(a,b):\n",
        "  s=a+b\n",
        "  print(s)\n",
        "\n",
        "a=int(input('Enter a number'))\n",
        "b = int(input('Enter second number'))\n",
        "sum(a,b)"
      ],
      "execution_count": null,
      "outputs": [
        {
          "output_type": "stream",
          "name": "stdout",
          "text": [
            "Enter a number33\n",
            "Enter second number54\n",
            "87\n"
          ]
        }
      ]
    },
    {
      "cell_type": "code",
      "metadata": {
        "colab": {
          "base_uri": "https://localhost:8080/"
        },
        "id": "IzM9T2uQs-ps",
        "outputId": "edfa2053-ffd6-46c0-e575-87e5f3d2fc9d"
      },
      "source": [
        "#return\n",
        "\n",
        "def sum(a,b):\n",
        "  s=a+b\n",
        "  return s\n",
        "\n",
        "a=int(input('Enter a number'))\n",
        "b = int(input('Enter second number'))\n",
        "s=sum(a,b)\n",
        "print(s)"
      ],
      "execution_count": null,
      "outputs": [
        {
          "output_type": "stream",
          "name": "stdout",
          "text": [
            "Enter a number32\n",
            "Enter second number54\n",
            "86\n"
          ]
        }
      ]
    },
    {
      "cell_type": "code",
      "metadata": {
        "colab": {
          "base_uri": "https://localhost:8080/",
          "height": 253
        },
        "id": "xo7B_VEmtMmI",
        "outputId": "6dbbe7dc-a80e-44f4-e016-4841ba038758"
      },
      "source": [
        "#only one argument is passed\n",
        "\n",
        "def sum(a,b):\n",
        "  s=a+b\n",
        "  return s\n",
        "\n",
        "a=int(input('Enter a number'))\n",
        "b = int(input('Enter second number'))\n",
        "s=sum(a)\n",
        "print(s)"
      ],
      "execution_count": null,
      "outputs": [
        {
          "name": "stdout",
          "output_type": "stream",
          "text": [
            "Enter a number33\n",
            "Enter second number65\n"
          ]
        },
        {
          "output_type": "error",
          "ename": "TypeError",
          "evalue": "ignored",
          "traceback": [
            "\u001b[0;31m---------------------------------------------------------------------------\u001b[0m",
            "\u001b[0;31mTypeError\u001b[0m                                 Traceback (most recent call last)",
            "\u001b[0;32m<ipython-input-6-b35ea3b05a08>\u001b[0m in \u001b[0;36m<module>\u001b[0;34m()\u001b[0m\n\u001b[1;32m      7\u001b[0m \u001b[0ma\u001b[0m\u001b[0;34m=\u001b[0m\u001b[0mint\u001b[0m\u001b[0;34m(\u001b[0m\u001b[0minput\u001b[0m\u001b[0;34m(\u001b[0m\u001b[0;34m'Enter a number'\u001b[0m\u001b[0;34m)\u001b[0m\u001b[0;34m)\u001b[0m\u001b[0;34m\u001b[0m\u001b[0;34m\u001b[0m\u001b[0m\n\u001b[1;32m      8\u001b[0m \u001b[0mb\u001b[0m \u001b[0;34m=\u001b[0m \u001b[0mint\u001b[0m\u001b[0;34m(\u001b[0m\u001b[0minput\u001b[0m\u001b[0;34m(\u001b[0m\u001b[0;34m'Enter second number'\u001b[0m\u001b[0;34m)\u001b[0m\u001b[0;34m)\u001b[0m\u001b[0;34m\u001b[0m\u001b[0;34m\u001b[0m\u001b[0m\n\u001b[0;32m----> 9\u001b[0;31m \u001b[0ms\u001b[0m\u001b[0;34m=\u001b[0m\u001b[0msum\u001b[0m\u001b[0;34m(\u001b[0m\u001b[0ma\u001b[0m\u001b[0;34m)\u001b[0m\u001b[0;34m\u001b[0m\u001b[0;34m\u001b[0m\u001b[0m\n\u001b[0m\u001b[1;32m     10\u001b[0m \u001b[0mprint\u001b[0m\u001b[0;34m(\u001b[0m\u001b[0ms\u001b[0m\u001b[0;34m)\u001b[0m\u001b[0;34m\u001b[0m\u001b[0;34m\u001b[0m\u001b[0m\n",
            "\u001b[0;31mTypeError\u001b[0m: sum() missing 1 required positional argument: 'b'"
          ]
        }
      ]
    },
    {
      "cell_type": "code",
      "metadata": {
        "colab": {
          "base_uri": "https://localhost:8080/"
        },
        "id": "f89U8HFithrx",
        "outputId": "c6ec930a-28c5-4e21-e2d0-0a685874fd80"
      },
      "source": [
        "# n number of arguments can be passed\n",
        "def my(*arg):\n",
        "  print(arg[4], \"is eldest\")\n",
        "\n",
        "my(\"Rajeev\", \"Ria\",\"Vivek\", \"Vikas\", \"Priya\")"
      ],
      "execution_count": null,
      "outputs": [
        {
          "output_type": "stream",
          "name": "stdout",
          "text": [
            "Priya is eldest\n"
          ]
        }
      ]
    },
    {
      "cell_type": "code",
      "metadata": {
        "colab": {
          "base_uri": "https://localhost:8080/"
        },
        "id": "rTlgTJguuD4C",
        "outputId": "7367dd70-921c-4d44-c01b-ee8e5106751c"
      },
      "source": [
        "def my(child1, child2, child3, child4, child5):\n",
        "  print(child1, \"is eldest\")\n",
        "\n",
        "my(child1=\"Rajeev\", child2=\"Ria\", child3=\"Vivek\", child4=\"Vikas\", child5=\"Priya\")"
      ],
      "execution_count": null,
      "outputs": [
        {
          "output_type": "stream",
          "name": "stdout",
          "text": [
            "Rajeev is eldest\n"
          ]
        }
      ]
    },
    {
      "cell_type": "markdown",
      "metadata": {
        "id": "g_GYYxk4uxn3"
      },
      "source": [
        "# **Unknown number of arguments**\n",
        "\n",
        "You can use ** with the parameter name"
      ]
    },
    {
      "cell_type": "code",
      "metadata": {
        "colab": {
          "base_uri": "https://localhost:8080/"
        },
        "id": "ZWXI6Bz2u5qk",
        "outputId": "696868f2-c8cf-412d-b2e2-f4c235e550c5"
      },
      "source": [
        "def fn(**nm):\n",
        "  print(\"Last name of the kid is \", nm[\"lname\"])\n",
        "\n",
        "fn(fname=\"Anuj\", lname=\"saxena\")"
      ],
      "execution_count": null,
      "outputs": [
        {
          "output_type": "stream",
          "name": "stdout",
          "text": [
            "Last name of the kid is  saxena\n"
          ]
        }
      ]
    },
    {
      "cell_type": "markdown",
      "metadata": {
        "id": "qKpVP_Kiqr2y"
      },
      "source": [
        "One more example with variable number of arguments"
      ]
    },
    {
      "cell_type": "code",
      "metadata": {
        "colab": {
          "base_uri": "https://localhost:8080/"
        },
        "id": "GAQnV5aQqvFv",
        "outputId": "895b27c5-8a0d-447a-d54c-7ee897a4614e"
      },
      "source": [
        "def my(**kw):\n",
        "  for key, value in kw.items():\n",
        "    print(\"%s = %s\" % (key, value))\n",
        "\n",
        "my(first=\"Arvind\", mid=\"Kumar\", last=\"Srivastava\")"
      ],
      "execution_count": null,
      "outputs": [
        {
          "output_type": "stream",
          "name": "stdout",
          "text": [
            "first = Arvind\n",
            "mid = Kumar\n",
            "last = Srivastava\n"
          ]
        }
      ]
    },
    {
      "cell_type": "markdown",
      "metadata": {
        "id": "496Ond89vkog"
      },
      "source": [
        "# **Default Parameter Value**"
      ]
    },
    {
      "cell_type": "code",
      "metadata": {
        "colab": {
          "base_uri": "https://localhost:8080/"
        },
        "id": "7OzxjhA2vps8",
        "outputId": "51f28132-4abf-456a-ca2b-4b9c8652e16d"
      },
      "source": [
        "def my(country=\"India\"):\n",
        "  print(\"I belong to \", country)\n",
        "\n",
        "my()\n"
      ],
      "execution_count": null,
      "outputs": [
        {
          "output_type": "stream",
          "name": "stdout",
          "text": [
            "I belong to  India\n"
          ]
        }
      ]
    },
    {
      "cell_type": "code",
      "metadata": {
        "colab": {
          "base_uri": "https://localhost:8080/"
        },
        "id": "WCcytcFSv9vR",
        "outputId": "25278410-5e71-4138-f8f6-cd5b8fc56c2f"
      },
      "source": [
        "def my(country=\"India\"):\n",
        "  print(\"I belong to \", country)\n",
        "\n",
        "my(\"Punjab\")\n",
        "my(\"Uttarakhand\")\n",
        "my()\n",
        "my(\"Delhi\")\n",
        "my(\"Rajasthan\")"
      ],
      "execution_count": null,
      "outputs": [
        {
          "output_type": "stream",
          "name": "stdout",
          "text": [
            "I belong to  Punjab\n",
            "I belong to  Uttarakhand\n",
            "I belong to  India\n",
            "I belong to  Delhi\n",
            "I belong to  Rajasthan\n"
          ]
        }
      ]
    },
    {
      "cell_type": "code",
      "metadata": {
        "colab": {
          "base_uri": "https://localhost:8080/"
        },
        "id": "JvQlzjQOwVs5",
        "outputId": "a0ffab42-9d2f-490c-83d4-989ce7b7d446"
      },
      "source": [
        "def my(food):\n",
        "  for item in food:\n",
        "    print(item)  \n",
        "\n",
        "food=[\"Rice\", \"Pulses\", \"Banana\", \"Orange\"]\n",
        "my(food)"
      ],
      "execution_count": null,
      "outputs": [
        {
          "output_type": "stream",
          "name": "stdout",
          "text": [
            "Rice\n",
            "Pulses\n",
            "Banana\n",
            "Orange\n"
          ]
        }
      ]
    },
    {
      "cell_type": "code",
      "metadata": {
        "colab": {
          "base_uri": "https://localhost:8080/"
        },
        "id": "I_zcqmBaxEfv",
        "outputId": "6cca7fe1-b96d-4cf9-d2f2-06120f5d9e47"
      },
      "source": [
        "#return values\n",
        "\n",
        "def mult(n):\n",
        "  return 4*n\n",
        "\n",
        "print(mult(6))\n",
        "print(mult(90))\n",
        "print(mult(120))\n",
        "print(mult(324))"
      ],
      "execution_count": null,
      "outputs": [
        {
          "output_type": "stream",
          "name": "stdout",
          "text": [
            "24\n",
            "360\n",
            "480\n",
            "1296\n"
          ]
        }
      ]
    },
    {
      "cell_type": "code",
      "metadata": {
        "colab": {
          "base_uri": "https://localhost:8080/"
        },
        "id": "ZoHziUHpxlv5",
        "outputId": "0216b8bc-310e-482e-f2a2-4dbf65dea50d"
      },
      "source": [
        "#recursive\n",
        "\n",
        "def rec(n):\n",
        "  print(n,end=\"\\t\")\n",
        "  if n>0:\n",
        "    r = n + rec(n-1)\n",
        "    print(r)\n",
        "  else:\n",
        "    r=0\n",
        "  return(r)\n",
        "\n",
        "print(\"Recursive function output\")\n",
        "rec(6)\n"
      ],
      "execution_count": null,
      "outputs": [
        {
          "output_type": "stream",
          "name": "stdout",
          "text": [
            "Recursive function output\n",
            "6\t5\t4\t3\t2\t1\t0\t1\n",
            "3\n",
            "6\n",
            "10\n",
            "15\n",
            "21\n"
          ]
        },
        {
          "output_type": "execute_result",
          "data": {
            "text/plain": [
              "21"
            ]
          },
          "metadata": {},
          "execution_count": 29
        }
      ]
    },
    {
      "cell_type": "markdown",
      "metadata": {
        "id": "VVUqo-vzrYPz"
      },
      "source": [
        "# **Main function**\n",
        "\n",
        "The main function is the entry point of a programme. The Python interpreter, on the other hand, starts running the code from the first line. The code is executed one line at a time, beginning with the first line. It makes no difference whether the main function is present or not.\n",
        "\n",
        "Since there is no main() function in Python, when the command to run a Python program is given to the interpreter, the code that is at level 0 indentation is to be executed. However, before doing that, it will define a few special variables. \n",
        "\n",
        "```\n",
        "# __name__ is one such special variable. If the source file is executed as the main program, the interpreter sets the __name__ variable to \n",
        "have a value __main__. If this file is being imported from another module, __name__ will be set to the module’s name. \n",
        "__name__ is a built-in variable which evaluates to the name of the current module.\n",
        "```\n",
        "\n"
      ]
    },
    {
      "cell_type": "code",
      "metadata": {
        "colab": {
          "base_uri": "https://localhost:8080/"
        },
        "id": "RYqcW7jZtM0L",
        "outputId": "5e2c7bf7-fbbe-4c67-8ec4-b120ea1faf38"
      },
      "source": [
        "def main():\n",
        "  print(\"Welcome to my code\")\n",
        "\n",
        "if __name__ == \"__main__\" :\n",
        "  main()"
      ],
      "execution_count": null,
      "outputs": [
        {
          "output_type": "stream",
          "name": "stdout",
          "text": [
            "Welcome to my code\n"
          ]
        }
      ]
    },
    {
      "cell_type": "code",
      "metadata": {
        "colab": {
          "base_uri": "https://localhost:8080/"
        },
        "id": "nqdh8iqMx8Nr",
        "outputId": "c606011a-167a-4627-fca2-e5b8a916470f"
      },
      "source": [
        "print(\"Before main\")\n",
        "def main():\n",
        "  print(\"Welcome to my code\")\n",
        "\n",
        "if __name__ == \"__main__\" :\n",
        "  main()"
      ],
      "execution_count": null,
      "outputs": [
        {
          "output_type": "stream",
          "name": "stdout",
          "text": [
            "Before main\n",
            "Welcome to my code\n"
          ]
        }
      ]
    },
    {
      "cell_type": "code",
      "metadata": {
        "colab": {
          "base_uri": "https://localhost:8080/"
        },
        "id": "_aYT8w9PyVfj",
        "outputId": "3e659ed9-36bd-40fd-a40f-5e7d609eea6a"
      },
      "source": [
        "#save this as file1.py\n",
        "print(\"File1 __name__ = %s\" %__name__)\n",
        "\t\n",
        "if __name__ == \"__main__\":\n",
        "\tprint(\"File1 is being run directly\")\n",
        "else:\n",
        "\tprint(\"File1 is being imported\")\n"
      ],
      "execution_count": null,
      "outputs": [
        {
          "output_type": "stream",
          "name": "stdout",
          "text": [
            "File1 __name__ = __main__\n",
            "File1 is being run directly\n"
          ]
        }
      ]
    },
    {
      "cell_type": "code",
      "metadata": {
        "colab": {
          "base_uri": "https://localhost:8080/"
        },
        "id": "Tf0O1aCxyqRs",
        "outputId": "db42a4ad-a5e8-4d95-e6ad-d48e2a2c65e7"
      },
      "source": [
        "print(\"Demo of main function\")\n",
        "def demo(g):\n",
        "    print(\"Before the split\")\n",
        "    new_g = str.split(g)\n",
        "    print(\"After the split\")\n",
        "    return new_g\n",
        "def main():\n",
        "    g =\"We are cheking main function\"\n",
        "    print(g)\n",
        "    new_g = demo(g)\n",
        "    print(new_g)\n",
        "if __name__ == \"__main__\":\n",
        "    main()"
      ],
      "execution_count": null,
      "outputs": [
        {
          "output_type": "stream",
          "name": "stdout",
          "text": [
            "Demo of main function\n",
            "We are cheking main function\n",
            "Before the split\n",
            "After the split\n",
            "['We', 'are', 'cheking', 'main', 'function']\n"
          ]
        }
      ]
    },
    {
      "cell_type": "code",
      "metadata": {
        "colab": {
          "base_uri": "https://localhost:8080/"
        },
        "id": "nko7i-JU0SkZ",
        "outputId": "8983cfca-0c78-40b2-e70d-c4b0625dd92c"
      },
      "source": [
        "print(\"Demo of main function\")\n",
        "def main():\n",
        "    g =\"We are cheking main function\"\n",
        "    print(g)\n",
        "    new_g = demo(g)\n",
        "    print(new_g)\n",
        "def demo(g):\n",
        "    print(\"Before the split\")\n",
        "    new_g = str.split(g)\n",
        "    print(\"After the split\")\n",
        "    return new_g\n",
        "\n",
        "if __name__ == \"__main__\":\n",
        "    main()"
      ],
      "execution_count": null,
      "outputs": [
        {
          "output_type": "stream",
          "name": "stdout",
          "text": [
            "Demo of main function\n",
            "We are cheking main function\n",
            "Before the split\n",
            "After the split\n",
            "['We', 'are', 'cheking', 'main', 'function']\n"
          ]
        }
      ]
    },
    {
      "cell_type": "code",
      "metadata": {
        "colab": {
          "base_uri": "https://localhost:8080/"
        },
        "id": "s-sQ4OF70iWG",
        "outputId": "1c05ef46-319f-40a7-927e-5179506b0e15"
      },
      "source": [
        "print(\"Demo of main function\")\n",
        "def demo1(g):\n",
        "    print(\"Before the split\")\n",
        "    new_g = str.split(g)\n",
        "    print(\"After the split\")\n",
        "    return new_g\n",
        "def demo2():\n",
        "    print(\"Before the second function\")\n",
        "    g =\"We are cheking main function\"\n",
        "    print(\"After the second function\")\n",
        "    return g\n",
        "def main():\n",
        "    g =demo2()\n",
        "    print(g)\n",
        "    new_g = demo1(g)\n",
        "    print(new_g)\n",
        "if __name__ == \"__main__\":\n",
        "    main()"
      ],
      "execution_count": null,
      "outputs": [
        {
          "output_type": "stream",
          "name": "stdout",
          "text": [
            "Demo of main function\n",
            "Before the second function\n",
            "After the second function\n",
            "We are cheking main function\n",
            "Before the split\n",
            "After the split\n",
            "['We', 'are', 'cheking', 'main', 'function']\n"
          ]
        }
      ]
    },
    {
      "cell_type": "code",
      "metadata": {
        "colab": {
          "base_uri": "https://localhost:8080/"
        },
        "id": "afNL1HaQ1u15",
        "outputId": "c1375ecb-83a2-479a-e03d-dca97a8cf38e"
      },
      "source": [
        "print(\"Value of main = \", repr(__name__))"
      ],
      "execution_count": null,
      "outputs": [
        {
          "output_type": "stream",
          "name": "stdout",
          "text": [
            "Value of main =  '__main__'\n"
          ]
        }
      ]
    },
    {
      "cell_type": "code",
      "metadata": {
        "colab": {
          "base_uri": "https://localhost:8080/"
        },
        "id": "qr8F_-RX2DVE",
        "outputId": "10000ea2-28a3-49e6-f15d-393715771d4b"
      },
      "source": [
        "from time import sleep\n",
        "\n",
        "print(\"This is a demo of sleep\")\n",
        "\n",
        "def process(data):\n",
        "  print(\"Processing .....\")\n",
        "  m = data + \"changed data\"\n",
        "  sleep(3)\n",
        "  print(\"Processing over ...\")\n",
        "  return m\n",
        "\n",
        "d =\"Testing sleep function \"\n",
        "m = process(d)\n",
        "print(m)"
      ],
      "execution_count": null,
      "outputs": [
        {
          "output_type": "stream",
          "name": "stdout",
          "text": [
            "This is a demo of sleep\n",
            "Processing .....\n",
            "Processing over ...\n",
            "Testing sleep function changed data\n"
          ]
        }
      ]
    },
    {
      "cell_type": "code",
      "metadata": {
        "colab": {
          "base_uri": "https://localhost:8080/"
        },
        "id": "cTWYWe4M3G3_",
        "outputId": "96d891c0-0221-4f4f-f63a-da33ee8b462f"
      },
      "source": [
        "import my_process\n",
        "\n",
        "if __name__ == \"__main__\":\n",
        "  data = \"reading from main \"\n",
        "  m = process(data)\n",
        "  print(m)"
      ],
      "execution_count": null,
      "outputs": [
        {
          "output_type": "stream",
          "name": "stdout",
          "text": [
            "This is a demo of sleep\n",
            "Processing .....\n",
            "Processing over ...\n",
            "reading from main changed data\n"
          ]
        }
      ]
    },
    {
      "cell_type": "code",
      "metadata": {
        "colab": {
          "base_uri": "https://localhost:8080/"
        },
        "id": "EG5Ncknl5SaH",
        "outputId": "f34e0f1c-14e4-40d9-f408-6847a4a6e54d"
      },
      "source": [
        "import my_process\n",
        "data = \"reading from main \"\n",
        "m = process(data)\n",
        "print(m)"
      ],
      "execution_count": null,
      "outputs": [
        {
          "output_type": "stream",
          "name": "stdout",
          "text": [
            "Processing .....\n",
            "Processing over ...\n",
            "reading from main changed data\n"
          ]
        }
      ]
    },
    {
      "cell_type": "code",
      "metadata": {
        "colab": {
          "base_uri": "https://localhost:8080/"
        },
        "id": "RJg9j1tE56wU",
        "outputId": "ee488681-4f53-4d89-af43-533aed7a8337"
      },
      "source": [
        "import my_process as pr\n",
        "data = \"reading from main \"\n",
        "m = pr.process(data)\n",
        "print(m)"
      ],
      "execution_count": null,
      "outputs": [
        {
          "output_type": "stream",
          "name": "stdout",
          "text": [
            "Processing .....\n",
            "Processing over ...\n",
            "reading from main changed data\n"
          ]
        }
      ]
    },
    {
      "cell_type": "markdown",
      "metadata": {
        "id": "0hOta_A-8w01"
      },
      "source": [
        "# **my_process2.py**\n",
        "\n",
        "from time import sleep\n",
        "\n",
        "print(\"This is my file to demonstrate best practices.\")\n",
        "\n",
        "def process_data(data):\n",
        "\n",
        "    print(\"Beginning data processing...\")\n",
        "\n",
        "    modified_data = data + \" that has been modified\"\n",
        "\n",
        "    sleep(3)\n",
        "\n",
        "    print(\"Data processing finished.\")\n",
        "\n",
        "    return modified_data\n",
        "\n",
        "def read_data_from_web():\n",
        "\n",
        "    print(\"Reading data from the Web\")\n",
        "\n",
        "    data = \"Data from the web\"\n",
        "\n",
        "    return data\n",
        "\n",
        "def write_data_to_database(data):\n",
        "\n",
        "    print(\"Writing data to a database\")\n",
        "\n",
        "    print(data)\n",
        "\n",
        "def main():\n",
        "\n",
        "    data = read_data_from_web()\n",
        "\n",
        "    modified_data = process_data(data)\n",
        "\n",
        "    write_data_to_database(modified_data)\n",
        "\n",
        "if __name__ == \"__main__\":\n",
        "\n",
        "    main()"
      ]
    },
    {
      "cell_type": "code",
      "metadata": {
        "colab": {
          "base_uri": "https://localhost:8080/"
        },
        "id": "PDinFQ576ZNU",
        "outputId": "6cc38360-8ae4-456a-d8f0-1321ae8352da"
      },
      "source": [
        "import my_process2 as pp\n",
        "\n",
        "data=\"checking batch processing\"\n",
        "m = pp.process_data(data)\n",
        "print(m)\n",
        "\n",
        "pp.write_data_to_database(m)"
      ],
      "execution_count": null,
      "outputs": [
        {
          "output_type": "stream",
          "name": "stdout",
          "text": [
            "This is my file to demonstrate best practices.\n",
            "Beginning data processing...\n",
            "Data processing finished.\n",
            "checking batch processing that has been modified\n",
            "Writing data to a database\n",
            "checking batch processing that has been modified\n"
          ]
        }
      ]
    },
    {
      "cell_type": "markdown",
      "metadata": {
        "id": "Ep6tQjJcOtG7"
      },
      "source": [
        "# **Namespace and scope**\n",
        "\n",
        "A namespace is a set of rules for mapping names to objects. Most namespaces are now implemented as Python dictionaries, although this isn't usually visible (except in terms of performance), and it might change in the future. The collection of built-in names (which includes functions like abs() and built-in exception names), the global names in a module, and the local names in a function invocation are all examples of namespaces.\n",
        "\n",
        "When the Python interpreter runs without any user-defined modules, functions, or classes, it is known as a pure Python interpreter. Some functions, such as print() and id(), are always present since they are part of the built-in namespace. A global namespace is formed when a user builds a module, and a local namespace is generated afterwards when local functions are added. The global namespace is included in the built-in namespace, while the local namespace is included in the global namespace.\n",
        "\n",
        "**Scope**\n",
        "\n",
        "A scope is a textual section of a Python programme that has direct access to a namespace. An unqualified reference to a name that is \"directly accessible\" tries to locate the name in the namespace.\n",
        "\n",
        "Scopes are defined statically but utilised dynamically. There are 3 or 4 hierarchical scopes whose namespaces are immediately available at any point during execution:\n",
        "\n",
        "1. The innermost scope, which is searched first, contains the local names\n",
        "\n",
        "2. The scopes of any enclosing functions, which are searched starting with the nearest enclosing scope, contains non-local, but also non-global names\n",
        "\n",
        "3. The next-to-last scope contains the current module’s global names\n",
        "\n",
        "4. The outermost scope (searched last) is the namespace containing built-in names\n",
        "\n"
      ]
    },
    {
      "cell_type": "code",
      "metadata": {
        "id": "nvuXx55FOsmW",
        "colab": {
          "base_uri": "https://localhost:8080/"
        },
        "outputId": "11f6c858-9599-4555-a076-d0073919b830"
      },
      "source": [
        "def testing_scope():\n",
        "  text=\"Testing scope\"\n",
        "  def my_local():\n",
        "    text =\"My local text\"\n",
        "  def my_non_local():\n",
        "    nonlocal text\n",
        "    text =\"My non local text\"\n",
        "  def my_global():\n",
        "    global text\n",
        "    text =\"My global text\"\n",
        "  \n",
        "  my_local()\n",
        "  print(\"After my local text = \", text)\n",
        "  my_non_local()\n",
        "  print(\"After my non local text = \", text)\n",
        "  my_global()\n",
        "  print(\"After my global text = \", text)\n",
        "\n",
        "testing_scope()\n",
        "print(\"After calling testing scope text = \",text)"
      ],
      "execution_count": 5,
      "outputs": [
        {
          "output_type": "stream",
          "name": "stdout",
          "text": [
            "After my local text =  Testing scope\n",
            "After my non local text =  My non local text\n",
            "After my global text =  My non local text\n",
            "After calling testing scope text =  My global text\n"
          ]
        }
      ]
    },
    {
      "cell_type": "code",
      "metadata": {
        "id": "tdKp1hsAlna7"
      },
      "source": [
        ""
      ],
      "execution_count": null,
      "outputs": []
    }
  ]
}