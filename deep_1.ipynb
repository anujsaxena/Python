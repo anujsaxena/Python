{
  "nbformat": 4,
  "nbformat_minor": 0,
  "metadata": {
    "colab": {
      "name": "deep_1.ipynb",
      "provenance": [],
      "collapsed_sections": [],
      "authorship_tag": "ABX9TyO8nuEftL48mqM4lFWPrdYg",
      "include_colab_link": true
    },
    "kernelspec": {
      "name": "python3",
      "display_name": "Python 3"
    },
    "language_info": {
      "name": "python"
    },
    "accelerator": "GPU",
    "widgets": {
      "application/vnd.jupyter.widget-state+json": {
        "7faa595df65a4179a5802a6ee8dcc3f3": {
          "model_module": "@jupyter-widgets/controls",
          "model_name": "HBoxModel",
          "model_module_version": "1.5.0",
          "state": {
            "_view_name": "HBoxView",
            "_dom_classes": [],
            "_model_name": "HBoxModel",
            "_view_module": "@jupyter-widgets/controls",
            "_model_module_version": "1.5.0",
            "_view_count": null,
            "_view_module_version": "1.5.0",
            "box_style": "",
            "layout": "IPY_MODEL_1fb6d704db8245a2995ebb3d61cb6453",
            "_model_module": "@jupyter-widgets/controls",
            "children": [
              "IPY_MODEL_aa8e8daf8d584c0496b1a6b50e8d961e",
              "IPY_MODEL_137be57a5b7343998d9f8e5ffbc44954",
              "IPY_MODEL_ad8f6846c2f546f3b4019a7e8f65033d"
            ]
          }
        },
        "1fb6d704db8245a2995ebb3d61cb6453": {
          "model_module": "@jupyter-widgets/base",
          "model_name": "LayoutModel",
          "model_module_version": "1.2.0",
          "state": {
            "_view_name": "LayoutView",
            "grid_template_rows": null,
            "right": null,
            "justify_content": null,
            "_view_module": "@jupyter-widgets/base",
            "overflow": null,
            "_model_module_version": "1.2.0",
            "_view_count": null,
            "flex_flow": null,
            "width": null,
            "min_width": null,
            "border": null,
            "align_items": null,
            "bottom": null,
            "_model_module": "@jupyter-widgets/base",
            "top": null,
            "grid_column": null,
            "overflow_y": null,
            "overflow_x": null,
            "grid_auto_flow": null,
            "grid_area": null,
            "grid_template_columns": null,
            "flex": null,
            "_model_name": "LayoutModel",
            "justify_items": null,
            "grid_row": null,
            "max_height": null,
            "align_content": null,
            "visibility": null,
            "align_self": null,
            "height": null,
            "min_height": null,
            "padding": null,
            "grid_auto_rows": null,
            "grid_gap": null,
            "max_width": null,
            "order": null,
            "_view_module_version": "1.2.0",
            "grid_template_areas": null,
            "object_position": null,
            "object_fit": null,
            "grid_auto_columns": null,
            "margin": null,
            "display": null,
            "left": null
          }
        },
        "aa8e8daf8d584c0496b1a6b50e8d961e": {
          "model_module": "@jupyter-widgets/controls",
          "model_name": "HTMLModel",
          "model_module_version": "1.5.0",
          "state": {
            "_view_name": "HTMLView",
            "style": "IPY_MODEL_d4621e8b5c224531b2483d398dfe4f3d",
            "_dom_classes": [],
            "description": "",
            "_model_name": "HTMLModel",
            "placeholder": "​",
            "_view_module": "@jupyter-widgets/controls",
            "_model_module_version": "1.5.0",
            "value": "",
            "_view_count": null,
            "_view_module_version": "1.5.0",
            "description_tooltip": null,
            "_model_module": "@jupyter-widgets/controls",
            "layout": "IPY_MODEL_1481f0afed6648e2ace1e36622b23f2a"
          }
        },
        "137be57a5b7343998d9f8e5ffbc44954": {
          "model_module": "@jupyter-widgets/controls",
          "model_name": "FloatProgressModel",
          "model_module_version": "1.5.0",
          "state": {
            "_view_name": "ProgressView",
            "style": "IPY_MODEL_4787962fd8d14e00b17eb2efa5da1f05",
            "_dom_classes": [],
            "description": "",
            "_model_name": "FloatProgressModel",
            "bar_style": "success",
            "max": 9912422,
            "_view_module": "@jupyter-widgets/controls",
            "_model_module_version": "1.5.0",
            "value": 9912422,
            "_view_count": null,
            "_view_module_version": "1.5.0",
            "orientation": "horizontal",
            "min": 0,
            "description_tooltip": null,
            "_model_module": "@jupyter-widgets/controls",
            "layout": "IPY_MODEL_b639686056444ef6aea1289a8914a2b7"
          }
        },
        "ad8f6846c2f546f3b4019a7e8f65033d": {
          "model_module": "@jupyter-widgets/controls",
          "model_name": "HTMLModel",
          "model_module_version": "1.5.0",
          "state": {
            "_view_name": "HTMLView",
            "style": "IPY_MODEL_77d0512bddbf41f3a06aa620a67751cf",
            "_dom_classes": [],
            "description": "",
            "_model_name": "HTMLModel",
            "placeholder": "​",
            "_view_module": "@jupyter-widgets/controls",
            "_model_module_version": "1.5.0",
            "value": " 9913344/? [00:00&lt;00:00, 40707567.04it/s]",
            "_view_count": null,
            "_view_module_version": "1.5.0",
            "description_tooltip": null,
            "_model_module": "@jupyter-widgets/controls",
            "layout": "IPY_MODEL_324d1897ca044e61982cc75bc96eeff3"
          }
        },
        "d4621e8b5c224531b2483d398dfe4f3d": {
          "model_module": "@jupyter-widgets/controls",
          "model_name": "DescriptionStyleModel",
          "model_module_version": "1.5.0",
          "state": {
            "_view_name": "StyleView",
            "_model_name": "DescriptionStyleModel",
            "description_width": "",
            "_view_module": "@jupyter-widgets/base",
            "_model_module_version": "1.5.0",
            "_view_count": null,
            "_view_module_version": "1.2.0",
            "_model_module": "@jupyter-widgets/controls"
          }
        },
        "1481f0afed6648e2ace1e36622b23f2a": {
          "model_module": "@jupyter-widgets/base",
          "model_name": "LayoutModel",
          "model_module_version": "1.2.0",
          "state": {
            "_view_name": "LayoutView",
            "grid_template_rows": null,
            "right": null,
            "justify_content": null,
            "_view_module": "@jupyter-widgets/base",
            "overflow": null,
            "_model_module_version": "1.2.0",
            "_view_count": null,
            "flex_flow": null,
            "width": null,
            "min_width": null,
            "border": null,
            "align_items": null,
            "bottom": null,
            "_model_module": "@jupyter-widgets/base",
            "top": null,
            "grid_column": null,
            "overflow_y": null,
            "overflow_x": null,
            "grid_auto_flow": null,
            "grid_area": null,
            "grid_template_columns": null,
            "flex": null,
            "_model_name": "LayoutModel",
            "justify_items": null,
            "grid_row": null,
            "max_height": null,
            "align_content": null,
            "visibility": null,
            "align_self": null,
            "height": null,
            "min_height": null,
            "padding": null,
            "grid_auto_rows": null,
            "grid_gap": null,
            "max_width": null,
            "order": null,
            "_view_module_version": "1.2.0",
            "grid_template_areas": null,
            "object_position": null,
            "object_fit": null,
            "grid_auto_columns": null,
            "margin": null,
            "display": null,
            "left": null
          }
        },
        "4787962fd8d14e00b17eb2efa5da1f05": {
          "model_module": "@jupyter-widgets/controls",
          "model_name": "ProgressStyleModel",
          "model_module_version": "1.5.0",
          "state": {
            "_view_name": "StyleView",
            "_model_name": "ProgressStyleModel",
            "description_width": "",
            "_view_module": "@jupyter-widgets/base",
            "_model_module_version": "1.5.0",
            "_view_count": null,
            "_view_module_version": "1.2.0",
            "bar_color": null,
            "_model_module": "@jupyter-widgets/controls"
          }
        },
        "b639686056444ef6aea1289a8914a2b7": {
          "model_module": "@jupyter-widgets/base",
          "model_name": "LayoutModel",
          "model_module_version": "1.2.0",
          "state": {
            "_view_name": "LayoutView",
            "grid_template_rows": null,
            "right": null,
            "justify_content": null,
            "_view_module": "@jupyter-widgets/base",
            "overflow": null,
            "_model_module_version": "1.2.0",
            "_view_count": null,
            "flex_flow": null,
            "width": null,
            "min_width": null,
            "border": null,
            "align_items": null,
            "bottom": null,
            "_model_module": "@jupyter-widgets/base",
            "top": null,
            "grid_column": null,
            "overflow_y": null,
            "overflow_x": null,
            "grid_auto_flow": null,
            "grid_area": null,
            "grid_template_columns": null,
            "flex": null,
            "_model_name": "LayoutModel",
            "justify_items": null,
            "grid_row": null,
            "max_height": null,
            "align_content": null,
            "visibility": null,
            "align_self": null,
            "height": null,
            "min_height": null,
            "padding": null,
            "grid_auto_rows": null,
            "grid_gap": null,
            "max_width": null,
            "order": null,
            "_view_module_version": "1.2.0",
            "grid_template_areas": null,
            "object_position": null,
            "object_fit": null,
            "grid_auto_columns": null,
            "margin": null,
            "display": null,
            "left": null
          }
        },
        "77d0512bddbf41f3a06aa620a67751cf": {
          "model_module": "@jupyter-widgets/controls",
          "model_name": "DescriptionStyleModel",
          "model_module_version": "1.5.0",
          "state": {
            "_view_name": "StyleView",
            "_model_name": "DescriptionStyleModel",
            "description_width": "",
            "_view_module": "@jupyter-widgets/base",
            "_model_module_version": "1.5.0",
            "_view_count": null,
            "_view_module_version": "1.2.0",
            "_model_module": "@jupyter-widgets/controls"
          }
        },
        "324d1897ca044e61982cc75bc96eeff3": {
          "model_module": "@jupyter-widgets/base",
          "model_name": "LayoutModel",
          "model_module_version": "1.2.0",
          "state": {
            "_view_name": "LayoutView",
            "grid_template_rows": null,
            "right": null,
            "justify_content": null,
            "_view_module": "@jupyter-widgets/base",
            "overflow": null,
            "_model_module_version": "1.2.0",
            "_view_count": null,
            "flex_flow": null,
            "width": null,
            "min_width": null,
            "border": null,
            "align_items": null,
            "bottom": null,
            "_model_module": "@jupyter-widgets/base",
            "top": null,
            "grid_column": null,
            "overflow_y": null,
            "overflow_x": null,
            "grid_auto_flow": null,
            "grid_area": null,
            "grid_template_columns": null,
            "flex": null,
            "_model_name": "LayoutModel",
            "justify_items": null,
            "grid_row": null,
            "max_height": null,
            "align_content": null,
            "visibility": null,
            "align_self": null,
            "height": null,
            "min_height": null,
            "padding": null,
            "grid_auto_rows": null,
            "grid_gap": null,
            "max_width": null,
            "order": null,
            "_view_module_version": "1.2.0",
            "grid_template_areas": null,
            "object_position": null,
            "object_fit": null,
            "grid_auto_columns": null,
            "margin": null,
            "display": null,
            "left": null
          }
        },
        "8e8f9597703e49019abb51af3edeed7d": {
          "model_module": "@jupyter-widgets/controls",
          "model_name": "HBoxModel",
          "model_module_version": "1.5.0",
          "state": {
            "_view_name": "HBoxView",
            "_dom_classes": [],
            "_model_name": "HBoxModel",
            "_view_module": "@jupyter-widgets/controls",
            "_model_module_version": "1.5.0",
            "_view_count": null,
            "_view_module_version": "1.5.0",
            "box_style": "",
            "layout": "IPY_MODEL_00450dabba9d4b6cadfc1a17a367a08b",
            "_model_module": "@jupyter-widgets/controls",
            "children": [
              "IPY_MODEL_303756de4baf4f409ff4651f136b0c8a",
              "IPY_MODEL_1807dc7404c94fcc924c438ef0dfe920",
              "IPY_MODEL_01d4235af2ac4dbf93c871182a378913"
            ]
          }
        },
        "00450dabba9d4b6cadfc1a17a367a08b": {
          "model_module": "@jupyter-widgets/base",
          "model_name": "LayoutModel",
          "model_module_version": "1.2.0",
          "state": {
            "_view_name": "LayoutView",
            "grid_template_rows": null,
            "right": null,
            "justify_content": null,
            "_view_module": "@jupyter-widgets/base",
            "overflow": null,
            "_model_module_version": "1.2.0",
            "_view_count": null,
            "flex_flow": null,
            "width": null,
            "min_width": null,
            "border": null,
            "align_items": null,
            "bottom": null,
            "_model_module": "@jupyter-widgets/base",
            "top": null,
            "grid_column": null,
            "overflow_y": null,
            "overflow_x": null,
            "grid_auto_flow": null,
            "grid_area": null,
            "grid_template_columns": null,
            "flex": null,
            "_model_name": "LayoutModel",
            "justify_items": null,
            "grid_row": null,
            "max_height": null,
            "align_content": null,
            "visibility": null,
            "align_self": null,
            "height": null,
            "min_height": null,
            "padding": null,
            "grid_auto_rows": null,
            "grid_gap": null,
            "max_width": null,
            "order": null,
            "_view_module_version": "1.2.0",
            "grid_template_areas": null,
            "object_position": null,
            "object_fit": null,
            "grid_auto_columns": null,
            "margin": null,
            "display": null,
            "left": null
          }
        },
        "303756de4baf4f409ff4651f136b0c8a": {
          "model_module": "@jupyter-widgets/controls",
          "model_name": "HTMLModel",
          "model_module_version": "1.5.0",
          "state": {
            "_view_name": "HTMLView",
            "style": "IPY_MODEL_64f862d0ecbb4fd1920c47db5f6e87d0",
            "_dom_classes": [],
            "description": "",
            "_model_name": "HTMLModel",
            "placeholder": "​",
            "_view_module": "@jupyter-widgets/controls",
            "_model_module_version": "1.5.0",
            "value": "",
            "_view_count": null,
            "_view_module_version": "1.5.0",
            "description_tooltip": null,
            "_model_module": "@jupyter-widgets/controls",
            "layout": "IPY_MODEL_e6d20333b3c24240b32fb41ef68c251a"
          }
        },
        "1807dc7404c94fcc924c438ef0dfe920": {
          "model_module": "@jupyter-widgets/controls",
          "model_name": "FloatProgressModel",
          "model_module_version": "1.5.0",
          "state": {
            "_view_name": "ProgressView",
            "style": "IPY_MODEL_b1baf272b30a47eaba756d47a4470e1c",
            "_dom_classes": [],
            "description": "",
            "_model_name": "FloatProgressModel",
            "bar_style": "success",
            "max": 28881,
            "_view_module": "@jupyter-widgets/controls",
            "_model_module_version": "1.5.0",
            "value": 28881,
            "_view_count": null,
            "_view_module_version": "1.5.0",
            "orientation": "horizontal",
            "min": 0,
            "description_tooltip": null,
            "_model_module": "@jupyter-widgets/controls",
            "layout": "IPY_MODEL_74dd6fa21ae64b33abdc09eb9330b2fe"
          }
        },
        "01d4235af2ac4dbf93c871182a378913": {
          "model_module": "@jupyter-widgets/controls",
          "model_name": "HTMLModel",
          "model_module_version": "1.5.0",
          "state": {
            "_view_name": "HTMLView",
            "style": "IPY_MODEL_9f8cc434d98048778b7292d0aeb4e5d8",
            "_dom_classes": [],
            "description": "",
            "_model_name": "HTMLModel",
            "placeholder": "​",
            "_view_module": "@jupyter-widgets/controls",
            "_model_module_version": "1.5.0",
            "value": " 29696/? [00:00&lt;00:00, 652908.51it/s]",
            "_view_count": null,
            "_view_module_version": "1.5.0",
            "description_tooltip": null,
            "_model_module": "@jupyter-widgets/controls",
            "layout": "IPY_MODEL_e44f983a004e4dcfa865af7973353de1"
          }
        },
        "64f862d0ecbb4fd1920c47db5f6e87d0": {
          "model_module": "@jupyter-widgets/controls",
          "model_name": "DescriptionStyleModel",
          "model_module_version": "1.5.0",
          "state": {
            "_view_name": "StyleView",
            "_model_name": "DescriptionStyleModel",
            "description_width": "",
            "_view_module": "@jupyter-widgets/base",
            "_model_module_version": "1.5.0",
            "_view_count": null,
            "_view_module_version": "1.2.0",
            "_model_module": "@jupyter-widgets/controls"
          }
        },
        "e6d20333b3c24240b32fb41ef68c251a": {
          "model_module": "@jupyter-widgets/base",
          "model_name": "LayoutModel",
          "model_module_version": "1.2.0",
          "state": {
            "_view_name": "LayoutView",
            "grid_template_rows": null,
            "right": null,
            "justify_content": null,
            "_view_module": "@jupyter-widgets/base",
            "overflow": null,
            "_model_module_version": "1.2.0",
            "_view_count": null,
            "flex_flow": null,
            "width": null,
            "min_width": null,
            "border": null,
            "align_items": null,
            "bottom": null,
            "_model_module": "@jupyter-widgets/base",
            "top": null,
            "grid_column": null,
            "overflow_y": null,
            "overflow_x": null,
            "grid_auto_flow": null,
            "grid_area": null,
            "grid_template_columns": null,
            "flex": null,
            "_model_name": "LayoutModel",
            "justify_items": null,
            "grid_row": null,
            "max_height": null,
            "align_content": null,
            "visibility": null,
            "align_self": null,
            "height": null,
            "min_height": null,
            "padding": null,
            "grid_auto_rows": null,
            "grid_gap": null,
            "max_width": null,
            "order": null,
            "_view_module_version": "1.2.0",
            "grid_template_areas": null,
            "object_position": null,
            "object_fit": null,
            "grid_auto_columns": null,
            "margin": null,
            "display": null,
            "left": null
          }
        },
        "b1baf272b30a47eaba756d47a4470e1c": {
          "model_module": "@jupyter-widgets/controls",
          "model_name": "ProgressStyleModel",
          "model_module_version": "1.5.0",
          "state": {
            "_view_name": "StyleView",
            "_model_name": "ProgressStyleModel",
            "description_width": "",
            "_view_module": "@jupyter-widgets/base",
            "_model_module_version": "1.5.0",
            "_view_count": null,
            "_view_module_version": "1.2.0",
            "bar_color": null,
            "_model_module": "@jupyter-widgets/controls"
          }
        },
        "74dd6fa21ae64b33abdc09eb9330b2fe": {
          "model_module": "@jupyter-widgets/base",
          "model_name": "LayoutModel",
          "model_module_version": "1.2.0",
          "state": {
            "_view_name": "LayoutView",
            "grid_template_rows": null,
            "right": null,
            "justify_content": null,
            "_view_module": "@jupyter-widgets/base",
            "overflow": null,
            "_model_module_version": "1.2.0",
            "_view_count": null,
            "flex_flow": null,
            "width": null,
            "min_width": null,
            "border": null,
            "align_items": null,
            "bottom": null,
            "_model_module": "@jupyter-widgets/base",
            "top": null,
            "grid_column": null,
            "overflow_y": null,
            "overflow_x": null,
            "grid_auto_flow": null,
            "grid_area": null,
            "grid_template_columns": null,
            "flex": null,
            "_model_name": "LayoutModel",
            "justify_items": null,
            "grid_row": null,
            "max_height": null,
            "align_content": null,
            "visibility": null,
            "align_self": null,
            "height": null,
            "min_height": null,
            "padding": null,
            "grid_auto_rows": null,
            "grid_gap": null,
            "max_width": null,
            "order": null,
            "_view_module_version": "1.2.0",
            "grid_template_areas": null,
            "object_position": null,
            "object_fit": null,
            "grid_auto_columns": null,
            "margin": null,
            "display": null,
            "left": null
          }
        },
        "9f8cc434d98048778b7292d0aeb4e5d8": {
          "model_module": "@jupyter-widgets/controls",
          "model_name": "DescriptionStyleModel",
          "model_module_version": "1.5.0",
          "state": {
            "_view_name": "StyleView",
            "_model_name": "DescriptionStyleModel",
            "description_width": "",
            "_view_module": "@jupyter-widgets/base",
            "_model_module_version": "1.5.0",
            "_view_count": null,
            "_view_module_version": "1.2.0",
            "_model_module": "@jupyter-widgets/controls"
          }
        },
        "e44f983a004e4dcfa865af7973353de1": {
          "model_module": "@jupyter-widgets/base",
          "model_name": "LayoutModel",
          "model_module_version": "1.2.0",
          "state": {
            "_view_name": "LayoutView",
            "grid_template_rows": null,
            "right": null,
            "justify_content": null,
            "_view_module": "@jupyter-widgets/base",
            "overflow": null,
            "_model_module_version": "1.2.0",
            "_view_count": null,
            "flex_flow": null,
            "width": null,
            "min_width": null,
            "border": null,
            "align_items": null,
            "bottom": null,
            "_model_module": "@jupyter-widgets/base",
            "top": null,
            "grid_column": null,
            "overflow_y": null,
            "overflow_x": null,
            "grid_auto_flow": null,
            "grid_area": null,
            "grid_template_columns": null,
            "flex": null,
            "_model_name": "LayoutModel",
            "justify_items": null,
            "grid_row": null,
            "max_height": null,
            "align_content": null,
            "visibility": null,
            "align_self": null,
            "height": null,
            "min_height": null,
            "padding": null,
            "grid_auto_rows": null,
            "grid_gap": null,
            "max_width": null,
            "order": null,
            "_view_module_version": "1.2.0",
            "grid_template_areas": null,
            "object_position": null,
            "object_fit": null,
            "grid_auto_columns": null,
            "margin": null,
            "display": null,
            "left": null
          }
        },
        "ba90cf249dac4d158804b7eafd54fec2": {
          "model_module": "@jupyter-widgets/controls",
          "model_name": "HBoxModel",
          "model_module_version": "1.5.0",
          "state": {
            "_view_name": "HBoxView",
            "_dom_classes": [],
            "_model_name": "HBoxModel",
            "_view_module": "@jupyter-widgets/controls",
            "_model_module_version": "1.5.0",
            "_view_count": null,
            "_view_module_version": "1.5.0",
            "box_style": "",
            "layout": "IPY_MODEL_b9a435d793574da99690b3a4ff748a09",
            "_model_module": "@jupyter-widgets/controls",
            "children": [
              "IPY_MODEL_9c6d49590b6a44e698cba2d3675c48f4",
              "IPY_MODEL_831cec6f2eab496a92ae2f9bc5520e96",
              "IPY_MODEL_fa199d1d24f048b2bdac66d79fcfe3bf"
            ]
          }
        },
        "b9a435d793574da99690b3a4ff748a09": {
          "model_module": "@jupyter-widgets/base",
          "model_name": "LayoutModel",
          "model_module_version": "1.2.0",
          "state": {
            "_view_name": "LayoutView",
            "grid_template_rows": null,
            "right": null,
            "justify_content": null,
            "_view_module": "@jupyter-widgets/base",
            "overflow": null,
            "_model_module_version": "1.2.0",
            "_view_count": null,
            "flex_flow": null,
            "width": null,
            "min_width": null,
            "border": null,
            "align_items": null,
            "bottom": null,
            "_model_module": "@jupyter-widgets/base",
            "top": null,
            "grid_column": null,
            "overflow_y": null,
            "overflow_x": null,
            "grid_auto_flow": null,
            "grid_area": null,
            "grid_template_columns": null,
            "flex": null,
            "_model_name": "LayoutModel",
            "justify_items": null,
            "grid_row": null,
            "max_height": null,
            "align_content": null,
            "visibility": null,
            "align_self": null,
            "height": null,
            "min_height": null,
            "padding": null,
            "grid_auto_rows": null,
            "grid_gap": null,
            "max_width": null,
            "order": null,
            "_view_module_version": "1.2.0",
            "grid_template_areas": null,
            "object_position": null,
            "object_fit": null,
            "grid_auto_columns": null,
            "margin": null,
            "display": null,
            "left": null
          }
        },
        "9c6d49590b6a44e698cba2d3675c48f4": {
          "model_module": "@jupyter-widgets/controls",
          "model_name": "HTMLModel",
          "model_module_version": "1.5.0",
          "state": {
            "_view_name": "HTMLView",
            "style": "IPY_MODEL_817466a3f36e4923a92f3ebc1dd4c452",
            "_dom_classes": [],
            "description": "",
            "_model_name": "HTMLModel",
            "placeholder": "​",
            "_view_module": "@jupyter-widgets/controls",
            "_model_module_version": "1.5.0",
            "value": "",
            "_view_count": null,
            "_view_module_version": "1.5.0",
            "description_tooltip": null,
            "_model_module": "@jupyter-widgets/controls",
            "layout": "IPY_MODEL_5327ccd196fb42baa0526d92bbec37fe"
          }
        },
        "831cec6f2eab496a92ae2f9bc5520e96": {
          "model_module": "@jupyter-widgets/controls",
          "model_name": "FloatProgressModel",
          "model_module_version": "1.5.0",
          "state": {
            "_view_name": "ProgressView",
            "style": "IPY_MODEL_d104fcd5261f41b6856fb284f9abeab3",
            "_dom_classes": [],
            "description": "",
            "_model_name": "FloatProgressModel",
            "bar_style": "success",
            "max": 1648877,
            "_view_module": "@jupyter-widgets/controls",
            "_model_module_version": "1.5.0",
            "value": 1648877,
            "_view_count": null,
            "_view_module_version": "1.5.0",
            "orientation": "horizontal",
            "min": 0,
            "description_tooltip": null,
            "_model_module": "@jupyter-widgets/controls",
            "layout": "IPY_MODEL_695b240004944297b842fe615eb0ea35"
          }
        },
        "fa199d1d24f048b2bdac66d79fcfe3bf": {
          "model_module": "@jupyter-widgets/controls",
          "model_name": "HTMLModel",
          "model_module_version": "1.5.0",
          "state": {
            "_view_name": "HTMLView",
            "style": "IPY_MODEL_0b46805ca45448e190c56a5a8101b6e1",
            "_dom_classes": [],
            "description": "",
            "_model_name": "HTMLModel",
            "placeholder": "​",
            "_view_module": "@jupyter-widgets/controls",
            "_model_module_version": "1.5.0",
            "value": " 1649664/? [00:00&lt;00:00, 17019624.82it/s]",
            "_view_count": null,
            "_view_module_version": "1.5.0",
            "description_tooltip": null,
            "_model_module": "@jupyter-widgets/controls",
            "layout": "IPY_MODEL_33a1ead5e7e14bb8a548c5628445db29"
          }
        },
        "817466a3f36e4923a92f3ebc1dd4c452": {
          "model_module": "@jupyter-widgets/controls",
          "model_name": "DescriptionStyleModel",
          "model_module_version": "1.5.0",
          "state": {
            "_view_name": "StyleView",
            "_model_name": "DescriptionStyleModel",
            "description_width": "",
            "_view_module": "@jupyter-widgets/base",
            "_model_module_version": "1.5.0",
            "_view_count": null,
            "_view_module_version": "1.2.0",
            "_model_module": "@jupyter-widgets/controls"
          }
        },
        "5327ccd196fb42baa0526d92bbec37fe": {
          "model_module": "@jupyter-widgets/base",
          "model_name": "LayoutModel",
          "model_module_version": "1.2.0",
          "state": {
            "_view_name": "LayoutView",
            "grid_template_rows": null,
            "right": null,
            "justify_content": null,
            "_view_module": "@jupyter-widgets/base",
            "overflow": null,
            "_model_module_version": "1.2.0",
            "_view_count": null,
            "flex_flow": null,
            "width": null,
            "min_width": null,
            "border": null,
            "align_items": null,
            "bottom": null,
            "_model_module": "@jupyter-widgets/base",
            "top": null,
            "grid_column": null,
            "overflow_y": null,
            "overflow_x": null,
            "grid_auto_flow": null,
            "grid_area": null,
            "grid_template_columns": null,
            "flex": null,
            "_model_name": "LayoutModel",
            "justify_items": null,
            "grid_row": null,
            "max_height": null,
            "align_content": null,
            "visibility": null,
            "align_self": null,
            "height": null,
            "min_height": null,
            "padding": null,
            "grid_auto_rows": null,
            "grid_gap": null,
            "max_width": null,
            "order": null,
            "_view_module_version": "1.2.0",
            "grid_template_areas": null,
            "object_position": null,
            "object_fit": null,
            "grid_auto_columns": null,
            "margin": null,
            "display": null,
            "left": null
          }
        },
        "d104fcd5261f41b6856fb284f9abeab3": {
          "model_module": "@jupyter-widgets/controls",
          "model_name": "ProgressStyleModel",
          "model_module_version": "1.5.0",
          "state": {
            "_view_name": "StyleView",
            "_model_name": "ProgressStyleModel",
            "description_width": "",
            "_view_module": "@jupyter-widgets/base",
            "_model_module_version": "1.5.0",
            "_view_count": null,
            "_view_module_version": "1.2.0",
            "bar_color": null,
            "_model_module": "@jupyter-widgets/controls"
          }
        },
        "695b240004944297b842fe615eb0ea35": {
          "model_module": "@jupyter-widgets/base",
          "model_name": "LayoutModel",
          "model_module_version": "1.2.0",
          "state": {
            "_view_name": "LayoutView",
            "grid_template_rows": null,
            "right": null,
            "justify_content": null,
            "_view_module": "@jupyter-widgets/base",
            "overflow": null,
            "_model_module_version": "1.2.0",
            "_view_count": null,
            "flex_flow": null,
            "width": null,
            "min_width": null,
            "border": null,
            "align_items": null,
            "bottom": null,
            "_model_module": "@jupyter-widgets/base",
            "top": null,
            "grid_column": null,
            "overflow_y": null,
            "overflow_x": null,
            "grid_auto_flow": null,
            "grid_area": null,
            "grid_template_columns": null,
            "flex": null,
            "_model_name": "LayoutModel",
            "justify_items": null,
            "grid_row": null,
            "max_height": null,
            "align_content": null,
            "visibility": null,
            "align_self": null,
            "height": null,
            "min_height": null,
            "padding": null,
            "grid_auto_rows": null,
            "grid_gap": null,
            "max_width": null,
            "order": null,
            "_view_module_version": "1.2.0",
            "grid_template_areas": null,
            "object_position": null,
            "object_fit": null,
            "grid_auto_columns": null,
            "margin": null,
            "display": null,
            "left": null
          }
        },
        "0b46805ca45448e190c56a5a8101b6e1": {
          "model_module": "@jupyter-widgets/controls",
          "model_name": "DescriptionStyleModel",
          "model_module_version": "1.5.0",
          "state": {
            "_view_name": "StyleView",
            "_model_name": "DescriptionStyleModel",
            "description_width": "",
            "_view_module": "@jupyter-widgets/base",
            "_model_module_version": "1.5.0",
            "_view_count": null,
            "_view_module_version": "1.2.0",
            "_model_module": "@jupyter-widgets/controls"
          }
        },
        "33a1ead5e7e14bb8a548c5628445db29": {
          "model_module": "@jupyter-widgets/base",
          "model_name": "LayoutModel",
          "model_module_version": "1.2.0",
          "state": {
            "_view_name": "LayoutView",
            "grid_template_rows": null,
            "right": null,
            "justify_content": null,
            "_view_module": "@jupyter-widgets/base",
            "overflow": null,
            "_model_module_version": "1.2.0",
            "_view_count": null,
            "flex_flow": null,
            "width": null,
            "min_width": null,
            "border": null,
            "align_items": null,
            "bottom": null,
            "_model_module": "@jupyter-widgets/base",
            "top": null,
            "grid_column": null,
            "overflow_y": null,
            "overflow_x": null,
            "grid_auto_flow": null,
            "grid_area": null,
            "grid_template_columns": null,
            "flex": null,
            "_model_name": "LayoutModel",
            "justify_items": null,
            "grid_row": null,
            "max_height": null,
            "align_content": null,
            "visibility": null,
            "align_self": null,
            "height": null,
            "min_height": null,
            "padding": null,
            "grid_auto_rows": null,
            "grid_gap": null,
            "max_width": null,
            "order": null,
            "_view_module_version": "1.2.0",
            "grid_template_areas": null,
            "object_position": null,
            "object_fit": null,
            "grid_auto_columns": null,
            "margin": null,
            "display": null,
            "left": null
          }
        },
        "f50482d6731644e3a40ce0bd425ec488": {
          "model_module": "@jupyter-widgets/controls",
          "model_name": "HBoxModel",
          "model_module_version": "1.5.0",
          "state": {
            "_view_name": "HBoxView",
            "_dom_classes": [],
            "_model_name": "HBoxModel",
            "_view_module": "@jupyter-widgets/controls",
            "_model_module_version": "1.5.0",
            "_view_count": null,
            "_view_module_version": "1.5.0",
            "box_style": "",
            "layout": "IPY_MODEL_bc846f1fdb0a48619058882d7d449ba5",
            "_model_module": "@jupyter-widgets/controls",
            "children": [
              "IPY_MODEL_a79b3cd638804574a750956c65b40746",
              "IPY_MODEL_8d946f94f6754d3d8f1a9000ae0c9839",
              "IPY_MODEL_f4619004bc9c4fa8aed9a9cda84fac3e"
            ]
          }
        },
        "bc846f1fdb0a48619058882d7d449ba5": {
          "model_module": "@jupyter-widgets/base",
          "model_name": "LayoutModel",
          "model_module_version": "1.2.0",
          "state": {
            "_view_name": "LayoutView",
            "grid_template_rows": null,
            "right": null,
            "justify_content": null,
            "_view_module": "@jupyter-widgets/base",
            "overflow": null,
            "_model_module_version": "1.2.0",
            "_view_count": null,
            "flex_flow": null,
            "width": null,
            "min_width": null,
            "border": null,
            "align_items": null,
            "bottom": null,
            "_model_module": "@jupyter-widgets/base",
            "top": null,
            "grid_column": null,
            "overflow_y": null,
            "overflow_x": null,
            "grid_auto_flow": null,
            "grid_area": null,
            "grid_template_columns": null,
            "flex": null,
            "_model_name": "LayoutModel",
            "justify_items": null,
            "grid_row": null,
            "max_height": null,
            "align_content": null,
            "visibility": null,
            "align_self": null,
            "height": null,
            "min_height": null,
            "padding": null,
            "grid_auto_rows": null,
            "grid_gap": null,
            "max_width": null,
            "order": null,
            "_view_module_version": "1.2.0",
            "grid_template_areas": null,
            "object_position": null,
            "object_fit": null,
            "grid_auto_columns": null,
            "margin": null,
            "display": null,
            "left": null
          }
        },
        "a79b3cd638804574a750956c65b40746": {
          "model_module": "@jupyter-widgets/controls",
          "model_name": "HTMLModel",
          "model_module_version": "1.5.0",
          "state": {
            "_view_name": "HTMLView",
            "style": "IPY_MODEL_d0fc7911b4bb4d20a2495756b18e4f9b",
            "_dom_classes": [],
            "description": "",
            "_model_name": "HTMLModel",
            "placeholder": "​",
            "_view_module": "@jupyter-widgets/controls",
            "_model_module_version": "1.5.0",
            "value": "",
            "_view_count": null,
            "_view_module_version": "1.5.0",
            "description_tooltip": null,
            "_model_module": "@jupyter-widgets/controls",
            "layout": "IPY_MODEL_bfee5b6a8e0a495ca5c246f4f6f7edcd"
          }
        },
        "8d946f94f6754d3d8f1a9000ae0c9839": {
          "model_module": "@jupyter-widgets/controls",
          "model_name": "FloatProgressModel",
          "model_module_version": "1.5.0",
          "state": {
            "_view_name": "ProgressView",
            "style": "IPY_MODEL_dfdd96bbfbbf40f8b69d51594bc6854d",
            "_dom_classes": [],
            "description": "",
            "_model_name": "FloatProgressModel",
            "bar_style": "success",
            "max": 4542,
            "_view_module": "@jupyter-widgets/controls",
            "_model_module_version": "1.5.0",
            "value": 4542,
            "_view_count": null,
            "_view_module_version": "1.5.0",
            "orientation": "horizontal",
            "min": 0,
            "description_tooltip": null,
            "_model_module": "@jupyter-widgets/controls",
            "layout": "IPY_MODEL_ee8fd1f3f6964ca0ad3e495c82cbdbea"
          }
        },
        "f4619004bc9c4fa8aed9a9cda84fac3e": {
          "model_module": "@jupyter-widgets/controls",
          "model_name": "HTMLModel",
          "model_module_version": "1.5.0",
          "state": {
            "_view_name": "HTMLView",
            "style": "IPY_MODEL_b74d58c6a63f43139e34e458272e83d3",
            "_dom_classes": [],
            "description": "",
            "_model_name": "HTMLModel",
            "placeholder": "​",
            "_view_module": "@jupyter-widgets/controls",
            "_model_module_version": "1.5.0",
            "value": " 5120/? [00:00&lt;00:00, 81667.03it/s]",
            "_view_count": null,
            "_view_module_version": "1.5.0",
            "description_tooltip": null,
            "_model_module": "@jupyter-widgets/controls",
            "layout": "IPY_MODEL_b3561aed7aa942f38fd869a45ecf41da"
          }
        },
        "d0fc7911b4bb4d20a2495756b18e4f9b": {
          "model_module": "@jupyter-widgets/controls",
          "model_name": "DescriptionStyleModel",
          "model_module_version": "1.5.0",
          "state": {
            "_view_name": "StyleView",
            "_model_name": "DescriptionStyleModel",
            "description_width": "",
            "_view_module": "@jupyter-widgets/base",
            "_model_module_version": "1.5.0",
            "_view_count": null,
            "_view_module_version": "1.2.0",
            "_model_module": "@jupyter-widgets/controls"
          }
        },
        "bfee5b6a8e0a495ca5c246f4f6f7edcd": {
          "model_module": "@jupyter-widgets/base",
          "model_name": "LayoutModel",
          "model_module_version": "1.2.0",
          "state": {
            "_view_name": "LayoutView",
            "grid_template_rows": null,
            "right": null,
            "justify_content": null,
            "_view_module": "@jupyter-widgets/base",
            "overflow": null,
            "_model_module_version": "1.2.0",
            "_view_count": null,
            "flex_flow": null,
            "width": null,
            "min_width": null,
            "border": null,
            "align_items": null,
            "bottom": null,
            "_model_module": "@jupyter-widgets/base",
            "top": null,
            "grid_column": null,
            "overflow_y": null,
            "overflow_x": null,
            "grid_auto_flow": null,
            "grid_area": null,
            "grid_template_columns": null,
            "flex": null,
            "_model_name": "LayoutModel",
            "justify_items": null,
            "grid_row": null,
            "max_height": null,
            "align_content": null,
            "visibility": null,
            "align_self": null,
            "height": null,
            "min_height": null,
            "padding": null,
            "grid_auto_rows": null,
            "grid_gap": null,
            "max_width": null,
            "order": null,
            "_view_module_version": "1.2.0",
            "grid_template_areas": null,
            "object_position": null,
            "object_fit": null,
            "grid_auto_columns": null,
            "margin": null,
            "display": null,
            "left": null
          }
        },
        "dfdd96bbfbbf40f8b69d51594bc6854d": {
          "model_module": "@jupyter-widgets/controls",
          "model_name": "ProgressStyleModel",
          "model_module_version": "1.5.0",
          "state": {
            "_view_name": "StyleView",
            "_model_name": "ProgressStyleModel",
            "description_width": "",
            "_view_module": "@jupyter-widgets/base",
            "_model_module_version": "1.5.0",
            "_view_count": null,
            "_view_module_version": "1.2.0",
            "bar_color": null,
            "_model_module": "@jupyter-widgets/controls"
          }
        },
        "ee8fd1f3f6964ca0ad3e495c82cbdbea": {
          "model_module": "@jupyter-widgets/base",
          "model_name": "LayoutModel",
          "model_module_version": "1.2.0",
          "state": {
            "_view_name": "LayoutView",
            "grid_template_rows": null,
            "right": null,
            "justify_content": null,
            "_view_module": "@jupyter-widgets/base",
            "overflow": null,
            "_model_module_version": "1.2.0",
            "_view_count": null,
            "flex_flow": null,
            "width": null,
            "min_width": null,
            "border": null,
            "align_items": null,
            "bottom": null,
            "_model_module": "@jupyter-widgets/base",
            "top": null,
            "grid_column": null,
            "overflow_y": null,
            "overflow_x": null,
            "grid_auto_flow": null,
            "grid_area": null,
            "grid_template_columns": null,
            "flex": null,
            "_model_name": "LayoutModel",
            "justify_items": null,
            "grid_row": null,
            "max_height": null,
            "align_content": null,
            "visibility": null,
            "align_self": null,
            "height": null,
            "min_height": null,
            "padding": null,
            "grid_auto_rows": null,
            "grid_gap": null,
            "max_width": null,
            "order": null,
            "_view_module_version": "1.2.0",
            "grid_template_areas": null,
            "object_position": null,
            "object_fit": null,
            "grid_auto_columns": null,
            "margin": null,
            "display": null,
            "left": null
          }
        },
        "b74d58c6a63f43139e34e458272e83d3": {
          "model_module": "@jupyter-widgets/controls",
          "model_name": "DescriptionStyleModel",
          "model_module_version": "1.5.0",
          "state": {
            "_view_name": "StyleView",
            "_model_name": "DescriptionStyleModel",
            "description_width": "",
            "_view_module": "@jupyter-widgets/base",
            "_model_module_version": "1.5.0",
            "_view_count": null,
            "_view_module_version": "1.2.0",
            "_model_module": "@jupyter-widgets/controls"
          }
        },
        "b3561aed7aa942f38fd869a45ecf41da": {
          "model_module": "@jupyter-widgets/base",
          "model_name": "LayoutModel",
          "model_module_version": "1.2.0",
          "state": {
            "_view_name": "LayoutView",
            "grid_template_rows": null,
            "right": null,
            "justify_content": null,
            "_view_module": "@jupyter-widgets/base",
            "overflow": null,
            "_model_module_version": "1.2.0",
            "_view_count": null,
            "flex_flow": null,
            "width": null,
            "min_width": null,
            "border": null,
            "align_items": null,
            "bottom": null,
            "_model_module": "@jupyter-widgets/base",
            "top": null,
            "grid_column": null,
            "overflow_y": null,
            "overflow_x": null,
            "grid_auto_flow": null,
            "grid_area": null,
            "grid_template_columns": null,
            "flex": null,
            "_model_name": "LayoutModel",
            "justify_items": null,
            "grid_row": null,
            "max_height": null,
            "align_content": null,
            "visibility": null,
            "align_self": null,
            "height": null,
            "min_height": null,
            "padding": null,
            "grid_auto_rows": null,
            "grid_gap": null,
            "max_width": null,
            "order": null,
            "_view_module_version": "1.2.0",
            "grid_template_areas": null,
            "object_position": null,
            "object_fit": null,
            "grid_auto_columns": null,
            "margin": null,
            "display": null,
            "left": null
          }
        }
      }
    }
  },
  "cells": [
    {
      "cell_type": "markdown",
      "metadata": {
        "id": "view-in-github",
        "colab_type": "text"
      },
      "source": [
        "<a href=\"https://colab.research.google.com/github/anujsaxena/Python/blob/main/deep_1.ipynb\" target=\"_parent\"><img src=\"https://colab.research.google.com/assets/colab-badge.svg\" alt=\"Open In Colab\"/></a>"
      ]
    },
    {
      "cell_type": "markdown",
      "metadata": {
        "id": "-kg05Q60y-0D"
      },
      "source": [
        "# **Deep learning**\n",
        "\n",
        "Deep learning is ** *learning from example***. It is an area of machine learning that deals with artificial neural networks, which are algorithms inspired by the structure and function of the brain.\n",
        "\n",
        "The way the human brain filters information is the source of inspiration for deep learning. Its goal is to produce some actual magic by simulating how the human brain functions.\n",
        "\n",
        "There are around 100 billion neurons in the human brain. Each neuron is connected to around 100,000 other neurons. That's what we're aiming for, but in a way and at a level that robots can understand. What does this mean in terms of neurons, axons, dendrites, and other components of the nervous system? The neuron, after all, has a body, dendrites, and an axon. The signal from one neuron goes down the axon to the dendrites of the following neuron. That connection where the signal passes is called a synapse.\n",
        "\n",
        "![neuron.jpeg](data:image/jpeg;base64,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)\n"
      ]
    },
    {
      "cell_type": "markdown",
      "metadata": {
        "id": "rP0vt-LP3F7G"
      },
      "source": [
        "Weights are allocated to each synapses, which are vital in Artificial Neural Networks (ANNs). The way ANNs learn is by weights. The ANN determines how far signals are carried along by altering the weights. You decide how the weights are modified when you're training your network.\n",
        "\n",
        "Neurons aren't really useful on their own. When there are a lot of them, though, they may generate some major magic. That's how a deep learning algorithm works! You collect data from observations and combine it into a single layer. That layer produces an output, which becomes the input for the following layer, and so on. This continues until your final output is obtained!\n",
        "\n",
        "As a result, the neuron (or node) receives a signal or signals (input values) that pass through it. The output signal is sent by that neuron. Consider the input layer to be your senses: the things you see, smell, and feel, for example. For a single observation, they are independent variables. This data is broken down into integers and binary bits that a computer can understand. (You'll need to standardise or normalise these variables to make sure they're all in the same ballpark.)\n",
        "\n",
        "\n"
      ]
    },
    {
      "cell_type": "markdown",
      "metadata": {
        "id": "-mBWdqQv_gx1"
      },
      "source": [
        "# **ANN Learning**\n",
        "\n",
        "There are two methods for getting a programme to perform what you want. The first is a method that is carefully led and pre-programmed. You tell the software exactly what you want it to perform in this method. Then there's the matter of neural networks. In neural networks, you tell the network what inputs to use and what outputs you want, then let it learn on its own. We can avoid having to manually enter all of the rules by enabling the network to learn on its own. You can design the architecture of a neural network and then let it learn on its own. Once it's been taught, you can feed it a fresh data and it'll be able to tell the difference between input and output.\n",
        "\n",
        "There are different kinds of neural networks. They’re generally classified into feedforward and feedback networks.\n"
      ]
    },
    {
      "cell_type": "markdown",
      "metadata": {
        "id": "85m66ADkAVbj"
      },
      "source": [
        "# **Feedforward**\n",
        "\n",
        "Inputs, outputs, and hidden layers all make to a feedforward network. Only one way is possible for the signals to go (forward). The input data is sent to a layer that performs the computations. The weighted total of each processing element's inputs is used to compute the result. The new values are used to feed the following layer's input values (feed-forward). This process is repeated for all levels, and the output is determined. Data mining, for example, frequently utilises feedforward networks.\n"
      ]
    },
    {
      "cell_type": "markdown",
      "metadata": {
        "id": "224cwOzGBbGq"
      },
      "source": [
        "# **Feedback**\n",
        "\n",
        "There are feedback paths in a feedback network (for example, a recurrent neural network). This implies that they can use loops to send messages in both ways. All potential neuron connections are permitted. Because this form of network has loops, it creates a non-linear dynamic system that changes continually until it achieves equilibrium. In optimization issues, feedback networks are frequently employed to find the optimal arrangement of interrelated components."
      ]
    },
    {
      "cell_type": "markdown",
      "metadata": {
        "id": "SbF3K-_p3Wa-"
      },
      "source": [
        "# **Pytorch**\n",
        "\n"
      ]
    },
    {
      "cell_type": "code",
      "metadata": {
        "id": "03SdV--8AUeX",
        "colab": {
          "base_uri": "https://localhost:8080/",
          "height": 423,
          "referenced_widgets": [
            "7faa595df65a4179a5802a6ee8dcc3f3",
            "1fb6d704db8245a2995ebb3d61cb6453",
            "aa8e8daf8d584c0496b1a6b50e8d961e",
            "137be57a5b7343998d9f8e5ffbc44954",
            "ad8f6846c2f546f3b4019a7e8f65033d",
            "d4621e8b5c224531b2483d398dfe4f3d",
            "1481f0afed6648e2ace1e36622b23f2a",
            "4787962fd8d14e00b17eb2efa5da1f05",
            "b639686056444ef6aea1289a8914a2b7",
            "77d0512bddbf41f3a06aa620a67751cf",
            "324d1897ca044e61982cc75bc96eeff3",
            "8e8f9597703e49019abb51af3edeed7d",
            "00450dabba9d4b6cadfc1a17a367a08b",
            "303756de4baf4f409ff4651f136b0c8a",
            "1807dc7404c94fcc924c438ef0dfe920",
            "01d4235af2ac4dbf93c871182a378913",
            "64f862d0ecbb4fd1920c47db5f6e87d0",
            "e6d20333b3c24240b32fb41ef68c251a",
            "b1baf272b30a47eaba756d47a4470e1c",
            "74dd6fa21ae64b33abdc09eb9330b2fe",
            "9f8cc434d98048778b7292d0aeb4e5d8",
            "e44f983a004e4dcfa865af7973353de1",
            "ba90cf249dac4d158804b7eafd54fec2",
            "b9a435d793574da99690b3a4ff748a09",
            "9c6d49590b6a44e698cba2d3675c48f4",
            "831cec6f2eab496a92ae2f9bc5520e96",
            "fa199d1d24f048b2bdac66d79fcfe3bf",
            "817466a3f36e4923a92f3ebc1dd4c452",
            "5327ccd196fb42baa0526d92bbec37fe",
            "d104fcd5261f41b6856fb284f9abeab3",
            "695b240004944297b842fe615eb0ea35",
            "0b46805ca45448e190c56a5a8101b6e1",
            "33a1ead5e7e14bb8a548c5628445db29",
            "f50482d6731644e3a40ce0bd425ec488",
            "bc846f1fdb0a48619058882d7d449ba5",
            "a79b3cd638804574a750956c65b40746",
            "8d946f94f6754d3d8f1a9000ae0c9839",
            "f4619004bc9c4fa8aed9a9cda84fac3e",
            "d0fc7911b4bb4d20a2495756b18e4f9b",
            "bfee5b6a8e0a495ca5c246f4f6f7edcd",
            "dfdd96bbfbbf40f8b69d51594bc6854d",
            "ee8fd1f3f6964ca0ad3e495c82cbdbea",
            "b74d58c6a63f43139e34e458272e83d3",
            "b3561aed7aa942f38fd869a45ecf41da"
          ]
        },
        "outputId": "56819619-00cd-41c8-aa1b-4b636bbc5173"
      },
      "source": [
        "import torch \n",
        "import torchvision\n",
        "import numpy as np \n",
        "import matplotlib.pyplot as plt \n",
        "EPOCH = 10 \n",
        "BATCH_SIZE= 64\n",
        "\n",
        "xy_trainPT = torchvision.datasets.MNIST(root='./data', train=True, download=True,transform=\n",
        "             torchvision.transforms.Compose([torchvision.transforms.ToTensor()]))"
      ],
      "execution_count": null,
      "outputs": [
        {
          "output_type": "stream",
          "name": "stdout",
          "text": [
            "Downloading http://yann.lecun.com/exdb/mnist/train-images-idx3-ubyte.gz\n",
            "Downloading http://yann.lecun.com/exdb/mnist/train-images-idx3-ubyte.gz to ./data/MNIST/raw/train-images-idx3-ubyte.gz\n"
          ]
        },
        {
          "output_type": "display_data",
          "data": {
            "application/vnd.jupyter.widget-view+json": {
              "model_id": "7faa595df65a4179a5802a6ee8dcc3f3",
              "version_minor": 0,
              "version_major": 2
            },
            "text/plain": [
              "  0%|          | 0/9912422 [00:00<?, ?it/s]"
            ]
          },
          "metadata": {}
        },
        {
          "output_type": "stream",
          "name": "stdout",
          "text": [
            "Extracting ./data/MNIST/raw/train-images-idx3-ubyte.gz to ./data/MNIST/raw\n",
            "\n",
            "Downloading http://yann.lecun.com/exdb/mnist/train-labels-idx1-ubyte.gz\n",
            "Downloading http://yann.lecun.com/exdb/mnist/train-labels-idx1-ubyte.gz to ./data/MNIST/raw/train-labels-idx1-ubyte.gz\n"
          ]
        },
        {
          "output_type": "display_data",
          "data": {
            "application/vnd.jupyter.widget-view+json": {
              "model_id": "8e8f9597703e49019abb51af3edeed7d",
              "version_minor": 0,
              "version_major": 2
            },
            "text/plain": [
              "  0%|          | 0/28881 [00:00<?, ?it/s]"
            ]
          },
          "metadata": {}
        },
        {
          "output_type": "stream",
          "name": "stdout",
          "text": [
            "Extracting ./data/MNIST/raw/train-labels-idx1-ubyte.gz to ./data/MNIST/raw\n",
            "\n",
            "Downloading http://yann.lecun.com/exdb/mnist/t10k-images-idx3-ubyte.gz\n",
            "Downloading http://yann.lecun.com/exdb/mnist/t10k-images-idx3-ubyte.gz to ./data/MNIST/raw/t10k-images-idx3-ubyte.gz\n"
          ]
        },
        {
          "output_type": "display_data",
          "data": {
            "application/vnd.jupyter.widget-view+json": {
              "model_id": "ba90cf249dac4d158804b7eafd54fec2",
              "version_minor": 0,
              "version_major": 2
            },
            "text/plain": [
              "  0%|          | 0/1648877 [00:00<?, ?it/s]"
            ]
          },
          "metadata": {}
        },
        {
          "output_type": "stream",
          "name": "stdout",
          "text": [
            "Extracting ./data/MNIST/raw/t10k-images-idx3-ubyte.gz to ./data/MNIST/raw\n",
            "\n",
            "Downloading http://yann.lecun.com/exdb/mnist/t10k-labels-idx1-ubyte.gz\n",
            "Downloading http://yann.lecun.com/exdb/mnist/t10k-labels-idx1-ubyte.gz to ./data/MNIST/raw/t10k-labels-idx1-ubyte.gz\n"
          ]
        },
        {
          "output_type": "display_data",
          "data": {
            "application/vnd.jupyter.widget-view+json": {
              "model_id": "f50482d6731644e3a40ce0bd425ec488",
              "version_minor": 0,
              "version_major": 2
            },
            "text/plain": [
              "  0%|          | 0/4542 [00:00<?, ?it/s]"
            ]
          },
          "metadata": {}
        },
        {
          "output_type": "stream",
          "name": "stdout",
          "text": [
            "Extracting ./data/MNIST/raw/t10k-labels-idx1-ubyte.gz to ./data/MNIST/raw\n",
            "\n"
          ]
        }
      ]
    },
    {
      "cell_type": "markdown",
      "metadata": {
        "id": "235CVApBNq2l"
      },
      "source": [
        "# **Epochs**\n",
        "\n",
        "The number of epochs is a hyperparameter that defines the number times that the learning algorithm will work through the entire training dataset.\n",
        "\n",
        "One epoch means that each sample in the training dataset has had an opportunity to update the internal model parameters. An epoch is comprised of one or more batches. For example, as above, an epoch that has one batch is called the batch gradient descent learning algorithm.\n",
        "\n",
        "# **Batch Size**\n",
        "The batch size is a number of samples processed before the model is updated."
      ]
    },
    {
      "cell_type": "code",
      "metadata": {
        "id": "E64lmWeezk-3",
        "colab": {
          "base_uri": "https://localhost:8080/",
          "height": 226
        },
        "outputId": "5ed3e104-2fbd-471a-e5d8-793f48239d58"
      },
      "source": [
        "xy_trainPT_loader = torch.utils.data.DataLoader(xy_trainPT, batch_size=BATCH_SIZE)\n",
        "\n",
        "fig = plt.figure(figsize=(25, 4)) \n",
        "for idx in np.arange(20):\n",
        "   image, label = xy_trainPT [idx]\n",
        "   ax = fig.add_subplot(2, 20/2, idx+1, xticks=[], yticks=[])\n",
        "   ax.imshow(torch.squeeze(image, dim = 0).numpy(), \n",
        "             cmap=plt.cm.binary)\n",
        "   ax.set_title(str(label))"
      ],
      "execution_count": null,
      "outputs": [
        {
          "output_type": "display_data",
          "data": {
            "image/png": "[encoded data removed]",
            "text/plain": [
              "<Figure size 1800x288 with 20 Axes>"
            ]
          },
          "metadata": {}
        }
      ]
    },
    {
      "cell_type": "code",
      "metadata": {
        "colab": {
          "base_uri": "https://localhost:8080/"
        },
        "id": "b0PQvNrPOo2n",
        "outputId": "562c8e35-c558-4dfe-d3a5-c6c1462bf672"
      },
      "source": [
        "image, _ = xy_trainPT[0] \n",
        "print(image.size())\n",
        "image_flatten = image.view(image.shape[0], -1)\n",
        "print (image_flatten.size())\n",
        "torch.Size([1, 28, 28]) \n",
        "torch.Size([1, 784])"
      ],
      "execution_count": null,
      "outputs": [
        {
          "output_type": "stream",
          "name": "stdout",
          "text": [
            "torch.Size([1, 28, 28])\n",
            "torch.Size([1, 784])\n"
          ]
        },
        {
          "output_type": "execute_result",
          "data": {
            "text/plain": [
              "torch.Size([1, 784])"
            ]
          },
          "metadata": {},
          "execution_count": 5
        }
      ]
    },
    {
      "cell_type": "markdown",
      "metadata": {
        "id": "gB0fDi4VO5So"
      },
      "source": [
        "# **Tensor**\n",
        "\n",
        "Kind of multi-dimensional array"
      ]
    },
    {
      "cell_type": "code",
      "metadata": {
        "colab": {
          "base_uri": "https://localhost:8080/"
        },
        "id": "MkW7XG49OwWK",
        "outputId": "84e56a8d-b12a-4e3a-a478-d6886064ec98"
      },
      "source": [
        "a = torch.randn(2, 3)\n",
        "print(a)\n",
        "torch.Tensor([[ 1.1049, 0.2676, -0.4528],\n",
        "        [ 0.0105, -0.5095, 0.7777]])"
      ],
      "execution_count": null,
      "outputs": [
        {
          "output_type": "stream",
          "name": "stdout",
          "text": [
            "tensor([[-1.5902,  0.9496,  1.7374],\n",
            "        [-0.0535,  0.6504,  0.2524]])\n"
          ]
        },
        {
          "output_type": "execute_result",
          "data": {
            "text/plain": [
              "tensor([[ 1.1049,  0.2676, -0.4528],\n",
              "        [ 0.0105, -0.5095,  0.7777]])"
            ]
          },
          "metadata": {},
          "execution_count": 7
        }
      ]
    },
    {
      "cell_type": "code",
      "metadata": {
        "colab": {
          "base_uri": "https://localhost:8080/"
        },
        "id": "XXvoLXXOPhFQ",
        "outputId": "91fd7304-eae8-4333-d3a3-5cbf59d754d4"
      },
      "source": [
        "print(a.size())\n",
        "print(a.dim())"
      ],
      "execution_count": null,
      "outputs": [
        {
          "output_type": "stream",
          "name": "stdout",
          "text": [
            "torch.Size([2, 3])\n",
            "2\n"
          ]
        }
      ]
    },
    {
      "cell_type": "code",
      "metadata": {
        "colab": {
          "base_uri": "https://localhost:8080/"
        },
        "id": "N0z6FlJdPr8w",
        "outputId": "8fc09803-7edd-429d-84bb-e0bef0d18597"
      },
      "source": [
        "matrix=torch.zeros([2, 4], dtype=torch.int32)\n",
        "print(matrix)\n",
        "torch.Tensor([[0, 0, 0, 0],[0, 0, 0, 0]])\n",
        "\n",
        "print(matrix.dtype)"
      ],
      "execution_count": null,
      "outputs": [
        {
          "output_type": "stream",
          "name": "stdout",
          "text": [
            "tensor([[0, 0, 0, 0],\n",
            "        [0, 0, 0, 0]], dtype=torch.int32)\n",
            "torch.int32\n"
          ]
        }
      ]
    },
    {
      "cell_type": "code",
      "metadata": {
        "colab": {
          "base_uri": "https://localhost:8080/"
        },
        "id": "th6aAf7SQBFt",
        "outputId": "f5184718-d462-433a-9404-ca2e9b4f2652"
      },
      "source": [
        "b = torch.zeros(2, 3)\n",
        "print(b)\n",
        "torch.Tensor([[0., 0., 0.],\n",
        "        [0., 0., 0.]])\n",
        "\n",
        "c = torch.ones(2, 3)\n",
        "print(c)"
      ],
      "execution_count": null,
      "outputs": [
        {
          "output_type": "stream",
          "name": "stdout",
          "text": [
            "tensor([[0., 0., 0.],\n",
            "        [0., 0., 0.]])\n",
            "tensor([[1., 1., 1.],\n",
            "        [1., 1., 1.]])\n"
          ]
        }
      ]
    },
    {
      "cell_type": "code",
      "metadata": {
        "colab": {
          "base_uri": "https://localhost:8080/"
        },
        "id": "eYoI1w56QSYW",
        "outputId": "76160e9c-df43-4162-ab7f-94d53795061b"
      },
      "source": [
        "c[0,0]=222 \n",
        "print(c)"
      ],
      "execution_count": null,
      "outputs": [
        {
          "output_type": "stream",
          "name": "stdout",
          "text": [
            "tensor([[222.,   1.,   1.],\n",
            "        [  1.,   1.,   1.]])\n"
          ]
        }
      ]
    },
    {
      "cell_type": "code",
      "metadata": {
        "colab": {
          "base_uri": "https://localhost:8080/"
        },
        "id": "HtXLDJhaQYCm",
        "outputId": "e11de501-f9e4-468e-ef20-c38567e944ab"
      },
      "source": [
        "x = torch.Tensor([[1,2,3,4], [5,6,7,8], [9,10,11,12]]) \n",
        "print (x)\n",
        "torch.Tensor([[ 1., 2., 3., 4.],\n",
        "        [ 5., 6., 7., 8.],\n",
        "        [ 9., 10., 11., 12.]])\n",
        "\n",
        "print (\"x column 1: \", x[:, 1])\n",
        "print (\"x row 0: \", x[0, :])\n",
        "print (\"x rows 0,1 & cols 1,2: \\n\", x[0:2, 1:3])"
      ],
      "execution_count": null,
      "outputs": [
        {
          "output_type": "stream",
          "name": "stdout",
          "text": [
            "tensor([[ 1.,  2.,  3.,  4.],\n",
            "        [ 5.,  6.,  7.,  8.],\n",
            "        [ 9., 10., 11., 12.]])\n",
            "x column 1:  tensor([ 2.,  6., 10.])\n",
            "x row 0:  tensor([1., 2., 3., 4.])\n",
            "x rows 0,1 & cols 1,2: \n",
            " tensor([[2., 3.],\n",
            "        [6., 7.]])\n"
          ]
        }
      ]
    },
    {
      "cell_type": "code",
      "metadata": {
        "colab": {
          "base_uri": "https://localhost:8080/"
        },
        "id": "qcxmBt5PQxso",
        "outputId": "354f3a84-35bb-4907-c217-b2b6c29e1c0b"
      },
      "source": [
        "x = np.array([[1,2], [3,4], [5,6]])\n",
        "print (x)"
      ],
      "execution_count": null,
      "outputs": [
        {
          "output_type": "stream",
          "name": "stdout",
          "text": [
            "[[1 2]\n",
            " [3 4]\n",
            " [5 6]]\n"
          ]
        }
      ]
    },
    {
      "cell_type": "code",
      "metadata": {
        "colab": {
          "base_uri": "https://localhost:8080/"
        },
        "id": "b0h6ORTCQ3XZ",
        "outputId": "33f03c8b-5340-4022-b358-1fd315a6d65b"
      },
      "source": [
        "y=torch.from_numpy(x)\n",
        "print(y)"
      ],
      "execution_count": null,
      "outputs": [
        {
          "output_type": "stream",
          "name": "stdout",
          "text": [
            "tensor([[1, 2],\n",
            "        [3, 4],\n",
            "        [5, 6]])\n"
          ]
        }
      ]
    },
    {
      "cell_type": "code",
      "metadata": {
        "colab": {
          "base_uri": "https://localhost:8080/"
        },
        "id": "sQhZhWbUQ9ps",
        "outputId": "a19d101e-ae05-45aa-b78b-b3593f4bdd1d"
      },
      "source": [
        "z = y.numpy()\n",
        "print (z)"
      ],
      "execution_count": null,
      "outputs": [
        {
          "output_type": "stream",
          "name": "stdout",
          "text": [
            "[[1 2]\n",
            " [3 4]\n",
            " [5 6]]\n"
          ]
        }
      ]
    },
    {
      "cell_type": "code",
      "metadata": {
        "colab": {
          "base_uri": "https://localhost:8080/"
        },
        "id": "3ZX1UcGpRFft",
        "outputId": "8c4d3dfa-56d3-48ff-a328-8a1831530f19"
      },
      "source": [
        "modelPT= torch.nn.Sequential(            \n",
        "         torch.nn.Linear(784,10),\n",
        "         torch.nn.Sigmoid(), \n",
        "         torch.nn.Linear(10,10), \n",
        "         torch.nn.LogSoftmax(dim=1) \n",
        "         )\n",
        "xy_testPT = torchvision.datasets.MNIST(root='./data', \n",
        "            train=False, download=True, \n",
        "            transform=torchvision.transforms.\n",
        "            Compose([torchvision.transforms.ToTensor()]))\n",
        "xy_test_loaderPT = torch.utils.data.DataLoader(xy_testPT)\n",
        "correct_count, all_count = 0, 0\n",
        "for images,labels in xy_test_loaderPT:\n",
        "  for i in range(len(labels)):\n",
        "    img = images[i].view(1, 784)\n",
        "    logps = modelPT(img)\n",
        "    ps = torch.exp(logps)\n",
        "    probab = list(ps.detach().numpy()[0])\n",
        "    pred_label = probab.index(max(probab))\n",
        "    true_label = labels.numpy()[i]\n",
        "    if(true_label == pred_label):\n",
        "        correct_count += 1\n",
        "    all_count += 1\n",
        "print(\"\\nAccuracy of the model =\", (correct_count/all_count))         \n"
      ],
      "execution_count": null,
      "outputs": [
        {
          "output_type": "stream",
          "name": "stdout",
          "text": [
            "\n",
            "Accuracy of the model = 0.0974\n"
          ]
        }
      ]
    },
    {
      "cell_type": "code",
      "metadata": {
        "id": "NiUu9-K84H7R"
      },
      "source": [
        "import torch\n",
        "from torch import nn\n",
        "from torch.utils.data import DataLoader\n",
        "from torchvision import datasets\n",
        "from torchvision.transforms import ToTensor, Lambda, Compose\n",
        "import matplotlib.pyplot as plt\n",
        "\n",
        "training_data = datasets.FashionMNIST(\n",
        "    root=\"data\",\n",
        "    train=True,\n",
        "    download=True,\n",
        "    transform=ToTensor(),\n",
        ")\n",
        "# Download test data from open datasets.\n",
        "test_data = datasets.FashionMNIST(\n",
        "    root=\"data\",\n",
        "    train=False,\n",
        "    download=True,\n",
        "    transform=ToTensor(),\n",
        ")\n"
      ],
      "execution_count": null,
      "outputs": []
    },
    {
      "cell_type": "code",
      "metadata": {
        "colab": {
          "base_uri": "https://localhost:8080/"
        },
        "id": "O9H4dZg24_U8",
        "outputId": "5ca20aa4-e8e0-4770-d99c-e6bf88c0c19c"
      },
      "source": [
        "batch_size=64\n",
        "#create data loader\n",
        "train_dataloader = DataLoader(training_data, batch_size=batch_size)\n",
        "test_dataloader = DataLoader(test_data, batch_size=batch_size)\n",
        "\n",
        "for X,y in test_dataloader:\n",
        "  print(\"Shape of X \", X.shape)\n",
        "  print(\"Shape of y \", y.shape)\n",
        "  break"
      ],
      "execution_count": null,
      "outputs": [
        {
          "output_type": "stream",
          "name": "stdout",
          "text": [
            "Shape of X  torch.Size([64, 1, 28, 28])\n",
            "Shape of y  torch.Size([64])\n"
          ]
        }
      ]
    },
    {
      "cell_type": "code",
      "metadata": {
        "colab": {
          "base_uri": "https://localhost:8080/"
        },
        "id": "x7Zp1Njc53CH",
        "outputId": "363a1eb3-3c25-4432-ea82-42d205225c09"
      },
      "source": [
        "device = \"cuda\" if torch.cuda.is_available() else \"cpu\"\n",
        "print(f\"Using {device} device\")"
      ],
      "execution_count": null,
      "outputs": [
        {
          "output_type": "stream",
          "name": "stdout",
          "text": [
            "Using cuda device\n"
          ]
        }
      ]
    },
    {
      "cell_type": "code",
      "metadata": {
        "colab": {
          "base_uri": "https://localhost:8080/"
        },
        "id": "BDYl2wQq9Cgp",
        "outputId": "d822978e-543d-4de8-91d5-883b642deb9b"
      },
      "source": [
        "# Get cpu or gpu device for training.\n",
        "device = \"cuda\" if torch.cuda.is_available() else \"cpu\"\n",
        "print(f\"Using {device} device\")\n",
        "\n",
        "# Define model\n",
        "class NeuralNetwork(nn.Module):\n",
        "    def __init__(self):\n",
        "        super(NeuralNetwork, self).__init__()\n",
        "        self.flatten = nn.Flatten()\n",
        "        self.linear_relu_stack = nn.Sequential(\n",
        "            nn.Linear(28*28, 512),\n",
        "            nn.ReLU(),\n",
        "            nn.Linear(512, 512),\n",
        "            nn.ReLU(),\n",
        "            nn.Linear(512, 10)\n",
        "        )\n",
        "\n",
        "    def forward(self, x):\n",
        "        x = self.flatten(x)\n",
        "        logits = self.linear_relu_stack(x)\n",
        "        return logits\n",
        "\n",
        "model = NeuralNetwork().to(device)\n",
        "print(model)"
      ],
      "execution_count": null,
      "outputs": [
        {
          "output_type": "stream",
          "name": "stdout",
          "text": [
            "Using cuda device\n",
            "NeuralNetwork(\n",
            "  (flatten): Flatten(start_dim=1, end_dim=-1)\n",
            "  (linear_relu_stack): Sequential(\n",
            "    (0): Linear(in_features=784, out_features=512, bias=True)\n",
            "    (1): ReLU()\n",
            "    (2): Linear(in_features=512, out_features=512, bias=True)\n",
            "    (3): ReLU()\n",
            "    (4): Linear(in_features=512, out_features=10, bias=True)\n",
            "  )\n",
            ")\n"
          ]
        }
      ]
    },
    {
      "cell_type": "code",
      "metadata": {
        "id": "ipQlqBmK8k_w"
      },
      "source": [
        "loss_fn = nn.CrossEntropyLoss()\n",
        "optimizer = torch.optim.SGD(model.parameters(), lr=1e-3)"
      ],
      "execution_count": null,
      "outputs": []
    },
    {
      "cell_type": "code",
      "metadata": {
        "id": "02jjO2j39Qd2"
      },
      "source": [
        "def train(dataloader, model, loss_fn, optimizer):\n",
        "    size = len(dataloader.dataset)\n",
        "    model.train()\n",
        "    for batch, (X, y) in enumerate(dataloader):\n",
        "        X, y = X.to(device), y.to(device)\n",
        "\n",
        "        # Compute prediction error\n",
        "        pred = model(X)\n",
        "        loss = loss_fn(pred, y)\n",
        "\n",
        "        # Backpropagation\n",
        "        optimizer.zero_grad()\n",
        "        loss.backward()\n",
        "        optimizer.step()\n",
        "\n",
        "        if batch % 100 == 0:\n",
        "            loss, current = loss.item(), batch * len(X)\n",
        "            print(f\"loss: {loss:>7f}  [{current:>5d}/{size:>5d}]\")"
      ],
      "execution_count": null,
      "outputs": []
    },
    {
      "cell_type": "code",
      "metadata": {
        "id": "B8oKjpLs9hPF"
      },
      "source": [
        "def test(dataloader, model, loss_fn):\n",
        "    size = len(dataloader.dataset)\n",
        "    num_batches = len(dataloader)\n",
        "    model.eval()\n",
        "    test_loss, correct = 0, 0\n",
        "    with torch.no_grad():\n",
        "        for X, y in dataloader:\n",
        "            X, y = X.to(device), y.to(device)\n",
        "            pred = model(X)\n",
        "            test_loss += loss_fn(pred, y).item()\n",
        "            correct += (pred.argmax(1) == y).type(torch.float).sum().item()\n",
        "    test_loss /= num_batches\n",
        "    correct /= size\n",
        "    print(f\"Test Error: \\n Accuracy: {(100*correct):>0.1f}%, Avg loss: {test_loss:>8f} \\n\")"
      ],
      "execution_count": null,
      "outputs": []
    },
    {
      "cell_type": "code",
      "metadata": {
        "colab": {
          "base_uri": "https://localhost:8080/"
        },
        "id": "q3pt8Qbd9v90",
        "outputId": "a5bf8f36-672b-4cde-842a-1bd3a2c7239c"
      },
      "source": [
        "epochs = 5\n",
        "for t in range(epochs):\n",
        "    print(f\"Epoch {t+1}\\n-------------------------------\")\n",
        "    train(train_dataloader, model, loss_fn, optimizer)\n",
        "    test(test_dataloader, model, loss_fn)\n",
        "print(\"Done!\")"
      ],
      "execution_count": null,
      "outputs": [
        {
          "output_type": "stream",
          "name": "stdout",
          "text": [
            "Epoch 1\n",
            "-------------------------------\n",
            "loss: 2.309782  [    0/60000]\n",
            "loss: 2.298069  [ 6400/60000]\n",
            "loss: 2.278857  [12800/60000]\n",
            "loss: 2.267946  [19200/60000]\n",
            "loss: 2.259516  [25600/60000]\n",
            "loss: 2.226895  [32000/60000]\n",
            "loss: 2.239701  [38400/60000]\n",
            "loss: 2.212608  [44800/60000]\n",
            "loss: 2.193668  [51200/60000]\n",
            "loss: 2.168442  [57600/60000]\n",
            "Test Error: \n",
            " Accuracy: 34.4%, Avg loss: 2.165068 \n",
            "\n",
            "Epoch 2\n",
            "-------------------------------\n",
            "loss: 2.175314  [    0/60000]\n",
            "loss: 2.165704  [ 6400/60000]\n",
            "loss: 2.115302  [12800/60000]\n",
            "loss: 2.127384  [19200/60000]\n",
            "loss: 2.086933  [25600/60000]\n",
            "loss: 2.026367  [32000/60000]\n",
            "loss: 2.053204  [38400/60000]\n",
            "loss: 1.986487  [44800/60000]\n",
            "loss: 1.977207  [51200/60000]\n",
            "loss: 1.916320  [57600/60000]\n",
            "Test Error: \n",
            " Accuracy: 58.5%, Avg loss: 1.912213 \n",
            "\n",
            "Epoch 3\n",
            "-------------------------------\n",
            "loss: 1.941302  [    0/60000]\n",
            "loss: 1.913200  [ 6400/60000]\n",
            "loss: 1.807207  [12800/60000]\n",
            "loss: 1.840997  [19200/60000]\n",
            "loss: 1.743019  [25600/60000]\n",
            "loss: 1.691177  [32000/60000]\n",
            "loss: 1.706440  [38400/60000]\n",
            "loss: 1.616166  [44800/60000]\n",
            "loss: 1.629664  [51200/60000]\n",
            "loss: 1.533044  [57600/60000]\n",
            "Test Error: \n",
            " Accuracy: 62.5%, Avg loss: 1.542822 \n",
            "\n",
            "Epoch 4\n",
            "-------------------------------\n",
            "loss: 1.606205  [    0/60000]\n",
            "loss: 1.570441  [ 6400/60000]\n",
            "loss: 1.425129  [12800/60000]\n",
            "loss: 1.493073  [19200/60000]\n",
            "loss: 1.377491  [25600/60000]\n",
            "loss: 1.371162  [32000/60000]\n",
            "loss: 1.381630  [38400/60000]\n",
            "loss: 1.309951  [44800/60000]\n",
            "loss: 1.340438  [51200/60000]\n",
            "loss: 1.250209  [57600/60000]\n",
            "Test Error: \n",
            " Accuracy: 63.6%, Avg loss: 1.266164 \n",
            "\n",
            "Epoch 5\n",
            "-------------------------------\n",
            "loss: 1.340775  [    0/60000]\n",
            "loss: 1.322730  [ 6400/60000]\n",
            "loss: 1.159145  [12800/60000]\n",
            "loss: 1.264915  [19200/60000]\n",
            "loss: 1.139634  [25600/60000]\n",
            "loss: 1.162894  [32000/60000]\n",
            "loss: 1.182145  [38400/60000]\n",
            "loss: 1.123234  [44800/60000]\n",
            "loss: 1.157522  [51200/60000]\n",
            "loss: 1.086060  [57600/60000]\n",
            "Test Error: \n",
            " Accuracy: 65.0%, Avg loss: 1.096142 \n",
            "\n",
            "Done!\n"
          ]
        }
      ]
    },
    {
      "cell_type": "code",
      "metadata": {
        "colab": {
          "base_uri": "https://localhost:8080/"
        },
        "id": "4dwPXGZF-Hiy",
        "outputId": "03e97a89-6ff3-4474-a9d8-4fa5fe19ae1b"
      },
      "source": [
        "torch.save(model.state_dict(), \"model.pth\")\n",
        "print(\"Saved PyTorch Model State to model.pth\")"
      ],
      "execution_count": null,
      "outputs": [
        {
          "output_type": "stream",
          "name": "stdout",
          "text": [
            "Saved PyTorch Model State to model.pth\n"
          ]
        }
      ]
    },
    {
      "cell_type": "code",
      "metadata": {
        "colab": {
          "base_uri": "https://localhost:8080/"
        },
        "id": "UcUBEbsH-M91",
        "outputId": "c4604877-9c06-49e1-e1eb-230d95a5293e"
      },
      "source": [
        "model = NeuralNetwork()\n",
        "model.load_state_dict(torch.load(\"model.pth\"))"
      ],
      "execution_count": null,
      "outputs": [
        {
          "output_type": "execute_result",
          "data": {
            "text/plain": [
              "<All keys matched successfully>"
            ]
          },
          "metadata": {},
          "execution_count": 21
        }
      ]
    },
    {
      "cell_type": "code",
      "metadata": {
        "colab": {
          "base_uri": "https://localhost:8080/"
        },
        "id": "Tdv7j-Bw-Rf1",
        "outputId": "e496c82b-3392-412a-80bc-a07505d7965c"
      },
      "source": [
        "classes = [\n",
        "    \"T-shirt/top\",\n",
        "    \"Trouser\",\n",
        "    \"Pullover\",\n",
        "    \"Dress\",\n",
        "    \"Coat\",\n",
        "    \"Sandal\",\n",
        "    \"Shirt\",\n",
        "    \"Sneaker\",\n",
        "    \"Bag\",\n",
        "    \"Ankle boot\",\n",
        "]\n",
        "\n",
        "model.eval()\n",
        "x, y = test_data[0][0], test_data[0][1]\n",
        "print(x)\n",
        "print(y)\n",
        "with torch.no_grad():\n",
        "    pred = model(x)\n",
        "    predicted, actual = classes[pred[0].argmax(0)], classes[y]\n",
        "    print(f'Predicted: \"{predicted}\", Actual: \"{actual}\"')"
      ],
      "execution_count": null,
      "outputs": [
        {
          "output_type": "stream",
          "name": "stdout",
          "text": [
            "tensor([[[0.0000, 0.0000, 0.0000, 0.0000, 0.0000, 0.0000, 0.0000, 0.0000,\n",
            "          0.0000, 0.0000, 0.0000, 0.0000, 0.0000, 0.0000, 0.0000, 0.0000,\n",
            "          0.0000, 0.0000, 0.0000, 0.0000, 0.0000, 0.0000, 0.0000, 0.0000,\n",
            "          0.0000, 0.0000, 0.0000, 0.0000],\n",
            "         [0.0000, 0.0000, 0.0000, 0.0000, 0.0000, 0.0000, 0.0000, 0.0000,\n",
            "          0.0000, 0.0000, 0.0000, 0.0000, 0.0000, 0.0000, 0.0000, 0.0000,\n",
            "          0.0000, 0.0000, 0.0000, 0.0000, 0.0000, 0.0000, 0.0000, 0.0000,\n",
            "          0.0000, 0.0000, 0.0000, 0.0000],\n",
            "         [0.0000, 0.0000, 0.0000, 0.0000, 0.0000, 0.0000, 0.0000, 0.0000,\n",
            "          0.0000, 0.0000, 0.0000, 0.0000, 0.0000, 0.0000, 0.0000, 0.0000,\n",
            "          0.0000, 0.0000, 0.0000, 0.0000, 0.0000, 0.0000, 0.0000, 0.0000,\n",
            "          0.0000, 0.0000, 0.0000, 0.0000],\n",
            "         [0.0000, 0.0000, 0.0000, 0.0000, 0.0000, 0.0000, 0.0000, 0.0000,\n",
            "          0.0000, 0.0000, 0.0000, 0.0000, 0.0000, 0.0000, 0.0000, 0.0000,\n",
            "          0.0000, 0.0000, 0.0000, 0.0000, 0.0000, 0.0000, 0.0000, 0.0000,\n",
            "          0.0000, 0.0000, 0.0000, 0.0000],\n",
            "         [0.0000, 0.0000, 0.0000, 0.0000, 0.0000, 0.0000, 0.0000, 0.0000,\n",
            "          0.0000, 0.0000, 0.0000, 0.0000, 0.0000, 0.0000, 0.0000, 0.0000,\n",
            "          0.0000, 0.0000, 0.0000, 0.0000, 0.0000, 0.0000, 0.0000, 0.0000,\n",
            "          0.0000, 0.0000, 0.0000, 0.0000],\n",
            "         [0.0000, 0.0000, 0.0000, 0.0000, 0.0000, 0.0000, 0.0000, 0.0000,\n",
            "          0.0000, 0.0000, 0.0000, 0.0000, 0.0000, 0.0000, 0.0000, 0.0000,\n",
            "          0.0000, 0.0000, 0.0000, 0.0000, 0.0000, 0.0000, 0.0000, 0.0000,\n",
            "          0.0000, 0.0000, 0.0000, 0.0000],\n",
            "         [0.0000, 0.0000, 0.0000, 0.0000, 0.0000, 0.0000, 0.0000, 0.0000,\n",
            "          0.0000, 0.0000, 0.0000, 0.0000, 0.0000, 0.0000, 0.0000, 0.0000,\n",
            "          0.0000, 0.0000, 0.0000, 0.0000, 0.0000, 0.0000, 0.0000, 0.0000,\n",
            "          0.0000, 0.0000, 0.0000, 0.0000],\n",
            "         [0.0000, 0.0000, 0.0000, 0.0000, 0.0000, 0.0000, 0.0000, 0.0000,\n",
            "          0.0000, 0.0000, 0.0000, 0.0000, 0.0000, 0.0000, 0.0000, 0.0000,\n",
            "          0.0000, 0.0000, 0.0000, 0.0118, 0.0039, 0.0000, 0.0000, 0.0275,\n",
            "          0.0000, 0.1451, 0.0000, 0.0000],\n",
            "         [0.0000, 0.0000, 0.0000, 0.0000, 0.0000, 0.0000, 0.0000, 0.0000,\n",
            "          0.0000, 0.0000, 0.0000, 0.0000, 0.0000, 0.0039, 0.0078, 0.0000,\n",
            "          0.1059, 0.3294, 0.0431, 0.0000, 0.0000, 0.0000, 0.0000, 0.0000,\n",
            "          0.0000, 0.4667, 0.0000, 0.0000],\n",
            "         [0.0000, 0.0000, 0.0000, 0.0000, 0.0000, 0.0000, 0.0000, 0.0000,\n",
            "          0.0000, 0.0000, 0.0000, 0.0000, 0.0000, 0.0039, 0.0000, 0.0000,\n",
            "          0.3451, 0.5608, 0.4314, 0.0000, 0.0000, 0.0000, 0.0000, 0.0863,\n",
            "          0.3647, 0.4157, 0.0000, 0.0000],\n",
            "         [0.0000, 0.0000, 0.0000, 0.0000, 0.0000, 0.0000, 0.0000, 0.0000,\n",
            "          0.0000, 0.0000, 0.0000, 0.0000, 0.0000, 0.0157, 0.0000, 0.2078,\n",
            "          0.5059, 0.4706, 0.5765, 0.6863, 0.6157, 0.6510, 0.5294, 0.6039,\n",
            "          0.6588, 0.5490, 0.0000, 0.0000],\n",
            "         [0.0000, 0.0000, 0.0000, 0.0000, 0.0000, 0.0000, 0.0000, 0.0000,\n",
            "          0.0000, 0.0000, 0.0000, 0.0000, 0.0078, 0.0000, 0.0431, 0.5373,\n",
            "          0.5098, 0.5020, 0.6275, 0.6902, 0.6235, 0.6549, 0.6980, 0.5843,\n",
            "          0.5922, 0.5647, 0.0000, 0.0000],\n",
            "         [0.0000, 0.0000, 0.0000, 0.0000, 0.0000, 0.0000, 0.0039, 0.0000,\n",
            "          0.0078, 0.0039, 0.0000, 0.0118, 0.0000, 0.0000, 0.4510, 0.4471,\n",
            "          0.4157, 0.5373, 0.6588, 0.6000, 0.6118, 0.6471, 0.6549, 0.5608,\n",
            "          0.6157, 0.6196, 0.0431, 0.0000],\n",
            "         [0.0000, 0.0000, 0.0000, 0.0000, 0.0039, 0.0000, 0.0000, 0.0000,\n",
            "          0.0000, 0.0000, 0.0118, 0.0000, 0.0000, 0.3490, 0.5451, 0.3529,\n",
            "          0.3686, 0.6000, 0.5843, 0.5137, 0.5922, 0.6627, 0.6745, 0.5608,\n",
            "          0.6235, 0.6627, 0.1882, 0.0000],\n",
            "         [0.0000, 0.0000, 0.0000, 0.0000, 0.0000, 0.0000, 0.0078, 0.0157,\n",
            "          0.0039, 0.0000, 0.0000, 0.0000, 0.3843, 0.5333, 0.4314, 0.4275,\n",
            "          0.4314, 0.6353, 0.5294, 0.5647, 0.5843, 0.6235, 0.6549, 0.5647,\n",
            "          0.6196, 0.6627, 0.4667, 0.0000],\n",
            "         [0.0000, 0.0000, 0.0078, 0.0078, 0.0039, 0.0078, 0.0000, 0.0000,\n",
            "          0.0000, 0.0000, 0.1020, 0.4235, 0.4588, 0.3882, 0.4353, 0.4588,\n",
            "          0.5333, 0.6118, 0.5255, 0.6039, 0.6039, 0.6118, 0.6275, 0.5529,\n",
            "          0.5765, 0.6118, 0.6980, 0.0000],\n",
            "         [0.0118, 0.0000, 0.0000, 0.0000, 0.0000, 0.0000, 0.0000, 0.0824,\n",
            "          0.2078, 0.3608, 0.4588, 0.4353, 0.4039, 0.4510, 0.5059, 0.5255,\n",
            "          0.5608, 0.6039, 0.6471, 0.6667, 0.6039, 0.5922, 0.6039, 0.5608,\n",
            "          0.5412, 0.5882, 0.6471, 0.1686],\n",
            "         [0.0000, 0.0000, 0.0902, 0.2118, 0.2549, 0.2980, 0.3333, 0.4627,\n",
            "          0.5020, 0.4824, 0.4353, 0.4431, 0.4627, 0.4980, 0.4902, 0.5451,\n",
            "          0.5216, 0.5333, 0.6275, 0.5490, 0.6078, 0.6314, 0.5647, 0.6078,\n",
            "          0.6745, 0.6314, 0.7412, 0.2431],\n",
            "         [0.0000, 0.2667, 0.3686, 0.3529, 0.4353, 0.4471, 0.4353, 0.4471,\n",
            "          0.4510, 0.4980, 0.5294, 0.5333, 0.5608, 0.4941, 0.4980, 0.5922,\n",
            "          0.6039, 0.5608, 0.5804, 0.4902, 0.6353, 0.6353, 0.5647, 0.5412,\n",
            "          0.6000, 0.6353, 0.7686, 0.2275],\n",
            "         [0.2745, 0.6627, 0.5059, 0.4078, 0.3843, 0.3922, 0.3686, 0.3804,\n",
            "          0.3843, 0.4000, 0.4235, 0.4157, 0.4667, 0.4706, 0.5059, 0.5843,\n",
            "          0.6118, 0.6549, 0.7451, 0.7451, 0.7686, 0.7765, 0.7765, 0.7333,\n",
            "          0.7725, 0.7412, 0.7216, 0.1412],\n",
            "         [0.0627, 0.4941, 0.6706, 0.7373, 0.7373, 0.7216, 0.6706, 0.6000,\n",
            "          0.5294, 0.4706, 0.4941, 0.4980, 0.5725, 0.7255, 0.7647, 0.8196,\n",
            "          0.8157, 1.0000, 0.8196, 0.6941, 0.9608, 0.9882, 0.9843, 0.9843,\n",
            "          0.9686, 0.8627, 0.8078, 0.1922],\n",
            "         [0.0000, 0.0000, 0.0000, 0.0471, 0.2627, 0.4157, 0.6431, 0.7255,\n",
            "          0.7804, 0.8235, 0.8275, 0.8235, 0.8157, 0.7451, 0.5882, 0.3216,\n",
            "          0.0314, 0.0000, 0.0000, 0.0000, 0.6980, 0.8157, 0.7373, 0.6863,\n",
            "          0.6353, 0.6196, 0.5922, 0.0431],\n",
            "         [0.0000, 0.0000, 0.0000, 0.0000, 0.0000, 0.0000, 0.0000, 0.0000,\n",
            "          0.0000, 0.0000, 0.0000, 0.0000, 0.0000, 0.0000, 0.0000, 0.0000,\n",
            "          0.0000, 0.0000, 0.0000, 0.0000, 0.0000, 0.0000, 0.0000, 0.0000,\n",
            "          0.0000, 0.0000, 0.0000, 0.0000],\n",
            "         [0.0000, 0.0000, 0.0000, 0.0000, 0.0000, 0.0000, 0.0000, 0.0000,\n",
            "          0.0000, 0.0000, 0.0000, 0.0000, 0.0000, 0.0000, 0.0000, 0.0000,\n",
            "          0.0000, 0.0000, 0.0000, 0.0000, 0.0000, 0.0000, 0.0000, 0.0000,\n",
            "          0.0000, 0.0000, 0.0000, 0.0000],\n",
            "         [0.0000, 0.0000, 0.0000, 0.0000, 0.0000, 0.0000, 0.0000, 0.0000,\n",
            "          0.0000, 0.0000, 0.0000, 0.0000, 0.0000, 0.0000, 0.0000, 0.0000,\n",
            "          0.0000, 0.0000, 0.0000, 0.0000, 0.0000, 0.0000, 0.0000, 0.0000,\n",
            "          0.0000, 0.0000, 0.0000, 0.0000],\n",
            "         [0.0000, 0.0000, 0.0000, 0.0000, 0.0000, 0.0000, 0.0000, 0.0000,\n",
            "          0.0000, 0.0000, 0.0000, 0.0000, 0.0000, 0.0000, 0.0000, 0.0000,\n",
            "          0.0000, 0.0000, 0.0000, 0.0000, 0.0000, 0.0000, 0.0000, 0.0000,\n",
            "          0.0000, 0.0000, 0.0000, 0.0000],\n",
            "         [0.0000, 0.0000, 0.0000, 0.0000, 0.0000, 0.0000, 0.0000, 0.0000,\n",
            "          0.0000, 0.0000, 0.0000, 0.0000, 0.0000, 0.0000, 0.0000, 0.0000,\n",
            "          0.0000, 0.0000, 0.0000, 0.0000, 0.0000, 0.0000, 0.0000, 0.0000,\n",
            "          0.0000, 0.0000, 0.0000, 0.0000],\n",
            "         [0.0000, 0.0000, 0.0000, 0.0000, 0.0000, 0.0000, 0.0000, 0.0000,\n",
            "          0.0000, 0.0000, 0.0000, 0.0000, 0.0000, 0.0000, 0.0000, 0.0000,\n",
            "          0.0000, 0.0000, 0.0000, 0.0000, 0.0000, 0.0000, 0.0000, 0.0000,\n",
            "          0.0000, 0.0000, 0.0000, 0.0000]]])\n",
            "9\n",
            "Predicted: \"Ankle boot\", Actual: \"Ankle boot\"\n"
          ]
        }
      ]
    }
  ]
}