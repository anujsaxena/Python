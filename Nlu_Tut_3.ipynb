{
  "nbformat": 4,
  "nbformat_minor": 0,
  "metadata": {
    "colab": {
      "name": "Nlu_Tut_3.ipynb",
      "provenance": [],
      "authorship_tag": "ABX9TyOIgzdvFaAtbqOotgdWacdE",
      "include_colab_link": true
    },
    "kernelspec": {
      "name": "python3",
      "display_name": "Python 3"
    },
    "language_info": {
      "name": "python"
    }
  },
  "cells": [
    {
      "cell_type": "markdown",
      "metadata": {
        "id": "view-in-github",
        "colab_type": "text"
      },
      "source": [
        "<a href=\"https://colab.research.google.com/github/anujsaxena/Python/blob/main/Nlu_Tut_3.ipynb\" target=\"_parent\"><img src=\"https://colab.research.google.com/assets/colab-badge.svg\" alt=\"Open In Colab\"/></a>"
      ]
    },
    {
      "cell_type": "markdown",
      "source": [
        "# **General commands - NLU**"
      ],
      "metadata": {
        "id": "9FCVnE2BDNvK"
      }
    },
    {
      "cell_type": "code",
      "source": [
        "#Install\n",
        "!wget https://setup.johnsnowlabs.com/nlu/colab.sh -O - | bash"
      ],
      "metadata": {
        "colab": {
          "base_uri": "https://localhost:8080/"
        },
        "id": "AxF0wH5zDpa8",
        "outputId": "6963b9e0-c4d4-4481-908d-23cfbd8afe8c"
      },
      "execution_count": 2,
      "outputs": [
        {
          "output_type": "stream",
          "name": "stdout",
          "text": [
            "--2022-01-05 07:05:59--  https://setup.johnsnowlabs.com/nlu/colab.sh\n",
            "Resolving setup.johnsnowlabs.com (setup.johnsnowlabs.com)... 51.158.130.125\n",
            "Connecting to setup.johnsnowlabs.com (setup.johnsnowlabs.com)|51.158.130.125|:443... connected.\n",
            "HTTP request sent, awaiting response... 302 Moved Temporarily\n",
            "Location: https://raw.githubusercontent.com/JohnSnowLabs/nlu/master/scripts/colab_setup.sh [following]\n",
            "--2022-01-05 07:05:59--  https://raw.githubusercontent.com/JohnSnowLabs/nlu/master/scripts/colab_setup.sh\n",
            "Resolving raw.githubusercontent.com (raw.githubusercontent.com)... 185.199.109.133, 185.199.110.133, 185.199.111.133, ...\n",
            "Connecting to raw.githubusercontent.com (raw.githubusercontent.com)|185.199.109.133|:443... connected.\n",
            "HTTP request sent, awaiting response... 200 OK\n",
            "Length: 1662 (1.6K) [text/plain]\n",
            "Saving to: ‘STDOUT’\n",
            "\n",
            "-                   100%[===================>]   1.62K  --.-KB/s    in 0s      \n",
            "\n",
            "2022-01-05 07:06:00 (27.6 MB/s) - written to stdout [1662/1662]\n",
            "\n",
            "Installing  NLU 3.3.1 with  PySpark 3.0.3 and Spark NLP 3.3.4 for Google Colab ...\n",
            "Ign:1 https://developer.download.nvidia.com/compute/cuda/repos/ubuntu1804/x86_64  InRelease\n",
            "Ign:2 https://developer.download.nvidia.com/compute/machine-learning/repos/ubuntu1804/x86_64  InRelease\n",
            "Hit:3 https://developer.download.nvidia.com/compute/cuda/repos/ubuntu1804/x86_64  Release\n",
            "Get:4 https://cloud.r-project.org/bin/linux/ubuntu bionic-cran40/ InRelease [3,626 B]\n",
            "Hit:5 https://developer.download.nvidia.com/compute/machine-learning/repos/ubuntu1804/x86_64  Release\n",
            "Get:6 http://security.ubuntu.com/ubuntu bionic-security InRelease [88.7 kB]\n",
            "Get:7 http://ppa.launchpad.net/c2d4u.team/c2d4u4.0+/ubuntu bionic InRelease [15.9 kB]\n",
            "Hit:9 http://archive.ubuntu.com/ubuntu bionic InRelease\n",
            "Get:10 http://archive.ubuntu.com/ubuntu bionic-updates InRelease [88.7 kB]\n",
            "Hit:11 http://ppa.launchpad.net/cran/libgit2/ubuntu bionic InRelease\n",
            "Get:13 http://ppa.launchpad.net/deadsnakes/ppa/ubuntu bionic InRelease [15.9 kB]\n",
            "Hit:14 http://archive.ubuntu.com/ubuntu bionic-backports InRelease\n",
            "Get:15 http://security.ubuntu.com/ubuntu bionic-security/multiverse amd64 Packages [26.8 kB]\n",
            "Get:16 http://security.ubuntu.com/ubuntu bionic-security/main amd64 Packages [2,484 kB]\n",
            "Get:17 http://ppa.launchpad.net/graphics-drivers/ppa/ubuntu bionic InRelease [21.3 kB]\n",
            "Get:18 http://security.ubuntu.com/ubuntu bionic-security/restricted amd64 Packages [712 kB]\n",
            "Get:19 http://security.ubuntu.com/ubuntu bionic-security/universe amd64 Packages [1,459 kB]\n",
            "Get:20 http://ppa.launchpad.net/c2d4u.team/c2d4u4.0+/ubuntu bionic/main Sources [1,822 kB]\n",
            "Get:21 http://archive.ubuntu.com/ubuntu bionic-updates/restricted amd64 Packages [749 kB]\n",
            "Get:22 http://archive.ubuntu.com/ubuntu bionic-updates/multiverse amd64 Packages [34.5 kB]\n",
            "Get:23 http://archive.ubuntu.com/ubuntu bionic-updates/main amd64 Packages [2,927 kB]\n",
            "Get:24 http://archive.ubuntu.com/ubuntu bionic-updates/universe amd64 Packages [2,238 kB]\n",
            "Get:25 http://ppa.launchpad.net/c2d4u.team/c2d4u4.0+/ubuntu bionic/main amd64 Packages [934 kB]\n",
            "Get:26 http://ppa.launchpad.net/deadsnakes/ppa/ubuntu bionic/main amd64 Packages [45.3 kB]\n",
            "Get:27 http://ppa.launchpad.net/graphics-drivers/ppa/ubuntu bionic/main amd64 Packages [44.7 kB]\n",
            "Fetched 13.7 MB in 5s (2,705 kB/s)\n",
            "Reading package lists... Done\n",
            "tar: spark-3.0.2-bin-hadoop2.7.tgz: Cannot open: No such file or directory\n",
            "tar: Error is not recoverable: exiting now\n",
            "\u001b[K     |████████████████████████████████| 209.1 MB 61 kB/s \n",
            "\u001b[K     |████████████████████████████████| 133 kB 64.4 MB/s \n",
            "\u001b[K     |████████████████████████████████| 478 kB 69.2 MB/s \n",
            "\u001b[K     |████████████████████████████████| 198 kB 63.2 MB/s \n",
            "\u001b[?25h  Building wheel for pyspark (setup.py) ... \u001b[?25l\u001b[?25hdone\n"
          ]
        }
      ]
    },
    {
      "cell_type": "code",
      "source": [
        "pipe = nlu.load('norm_document')\n",
        "data = '<!DOCTYPE html> <html> <head> <title>Example</title> </head> <body> <p>This is an example of a simple HTML page with one paragraph.</p> </body> </html>'\n",
        "df = pipe.predict(data,output_level='document')\n",
        "df"
      ],
      "metadata": {
        "colab": {
          "base_uri": "https://localhost:8080/",
          "height": 81
        },
        "id": "KcuOtCSIDT3F",
        "outputId": "5e1a6de2-9207-4841-af4d-61dd9a6fcfa1"
      },
      "execution_count": 6,
      "outputs": [
        {
          "output_type": "execute_result",
          "data": {
            "text/html": [
              "\n",
              "  <div id=\"df-e36188ab-1936-4123-93f5-3c72b11b5760\">\n",
              "    <div class=\"colab-df-container\">\n",
              "      <div>\n",
              "<style scoped>\n",
              "    .dataframe tbody tr th:only-of-type {\n",
              "        vertical-align: middle;\n",
              "    }\n",
              "\n",
              "    .dataframe tbody tr th {\n",
              "        vertical-align: top;\n",
              "    }\n",
              "\n",
              "    .dataframe thead th {\n",
              "        text-align: right;\n",
              "    }\n",
              "</style>\n",
              "<table border=\"1\" class=\"dataframe\">\n",
              "  <thead>\n",
              "    <tr style=\"text-align: right;\">\n",
              "      <th></th>\n",
              "      <th>doc_norm</th>\n",
              "      <th>document</th>\n",
              "    </tr>\n",
              "  </thead>\n",
              "  <tbody>\n",
              "    <tr>\n",
              "      <th>0</th>\n",
              "      <td>Example This is an example of a simple HTML p...</td>\n",
              "      <td>&lt;!DOCTYPE html&gt; &lt;html&gt; &lt;head&gt; &lt;title&gt;Example&lt;/...</td>\n",
              "    </tr>\n",
              "  </tbody>\n",
              "</table>\n",
              "</div>\n",
              "      <button class=\"colab-df-convert\" onclick=\"convertToInteractive('df-e36188ab-1936-4123-93f5-3c72b11b5760')\"\n",
              "              title=\"Convert this dataframe to an interactive table.\"\n",
              "              style=\"display:none;\">\n",
              "        \n",
              "  <svg xmlns=\"http://www.w3.org/2000/svg\" height=\"24px\"viewBox=\"0 0 24 24\"\n",
              "       width=\"24px\">\n",
              "    <path d=\"M0 0h24v24H0V0z\" fill=\"none\"/>\n",
              "    <path d=\"M18.56 5.44l.94 2.06.94-2.06 2.06-.94-2.06-.94-.94-2.06-.94 2.06-2.06.94zm-11 1L8.5 8.5l.94-2.06 2.06-.94-2.06-.94L8.5 2.5l-.94 2.06-2.06.94zm10 10l.94 2.06.94-2.06 2.06-.94-2.06-.94-.94-2.06-.94 2.06-2.06.94z\"/><path d=\"M17.41 7.96l-1.37-1.37c-.4-.4-.92-.59-1.43-.59-.52 0-1.04.2-1.43.59L10.3 9.45l-7.72 7.72c-.78.78-.78 2.05 0 2.83L4 21.41c.39.39.9.59 1.41.59.51 0 1.02-.2 1.41-.59l7.78-7.78 2.81-2.81c.8-.78.8-2.07 0-2.86zM5.41 20L4 18.59l7.72-7.72 1.47 1.35L5.41 20z\"/>\n",
              "  </svg>\n",
              "      </button>\n",
              "      \n",
              "  <style>\n",
              "    .colab-df-container {\n",
              "      display:flex;\n",
              "      flex-wrap:wrap;\n",
              "      gap: 12px;\n",
              "    }\n",
              "\n",
              "    .colab-df-convert {\n",
              "      background-color: #E8F0FE;\n",
              "      border: none;\n",
              "      border-radius: 50%;\n",
              "      cursor: pointer;\n",
              "      display: none;\n",
              "      fill: #1967D2;\n",
              "      height: 32px;\n",
              "      padding: 0 0 0 0;\n",
              "      width: 32px;\n",
              "    }\n",
              "\n",
              "    .colab-df-convert:hover {\n",
              "      background-color: #E2EBFA;\n",
              "      box-shadow: 0px 1px 2px rgba(60, 64, 67, 0.3), 0px 1px 3px 1px rgba(60, 64, 67, 0.15);\n",
              "      fill: #174EA6;\n",
              "    }\n",
              "\n",
              "    [theme=dark] .colab-df-convert {\n",
              "      background-color: #3B4455;\n",
              "      fill: #D2E3FC;\n",
              "    }\n",
              "\n",
              "    [theme=dark] .colab-df-convert:hover {\n",
              "      background-color: #434B5C;\n",
              "      box-shadow: 0px 1px 3px 1px rgba(0, 0, 0, 0.15);\n",
              "      filter: drop-shadow(0px 1px 2px rgba(0, 0, 0, 0.3));\n",
              "      fill: #FFFFFF;\n",
              "    }\n",
              "  </style>\n",
              "\n",
              "      <script>\n",
              "        const buttonEl =\n",
              "          document.querySelector('#df-e36188ab-1936-4123-93f5-3c72b11b5760 button.colab-df-convert');\n",
              "        buttonEl.style.display =\n",
              "          google.colab.kernel.accessAllowed ? 'block' : 'none';\n",
              "\n",
              "        async function convertToInteractive(key) {\n",
              "          const element = document.querySelector('#df-e36188ab-1936-4123-93f5-3c72b11b5760');\n",
              "          const dataTable =\n",
              "            await google.colab.kernel.invokeFunction('convertToInteractive',\n",
              "                                                     [key], {});\n",
              "          if (!dataTable) return;\n",
              "\n",
              "          const docLinkHtml = 'Like what you see? Visit the ' +\n",
              "            '<a target=\"_blank\" href=https://colab.research.google.com/notebooks/data_table.ipynb>data table notebook</a>'\n",
              "            + ' to learn more about interactive tables.';\n",
              "          element.innerHTML = '';\n",
              "          dataTable['output_type'] = 'display_data';\n",
              "          await google.colab.output.renderOutput(dataTable, element);\n",
              "          const docLink = document.createElement('div');\n",
              "          docLink.innerHTML = docLinkHtml;\n",
              "          element.appendChild(docLink);\n",
              "        }\n",
              "      </script>\n",
              "    </div>\n",
              "  </div>\n",
              "  "
            ],
            "text/plain": [
              "                                            doc_norm                                           document\n",
              "0   Example This is an example of a simple HTML p...  <!DOCTYPE html> <html> <head> <title>Example</..."
            ]
          },
          "metadata": {},
          "execution_count": 6
        }
      ]
    },
    {
      "cell_type": "code",
      "source": [
        "pipe = nlu.load('ja.segment_words')\n",
        "# japanese for 'Donald Trump and Angela Merkel dont share many opinions'\n",
        "ja_data = ['ドナルド・トランプとアンゲラ・メルケルは多くの意見を共有していません']\n",
        "df = pipe.predict(ja_data, output_level='token')\n",
        "df"
      ],
      "metadata": {
        "colab": {
          "base_uri": "https://localhost:8080/",
          "height": 666
        },
        "id": "jj9FGgshFEPO",
        "outputId": "33408d43-55b5-4fc4-a15b-78becb757175"
      },
      "execution_count": 7,
      "outputs": [
        {
          "output_type": "stream",
          "name": "stdout",
          "text": [
            "wordseg_gsd_ud download started this may take some time.\n",
            "Approximate size to download 979 KB\n",
            "[OK!]\n"
          ]
        },
        {
          "output_type": "execute_result",
          "data": {
            "text/html": [
              "\n",
              "  <div id=\"df-ea55acf2-8c6f-43a9-899c-041a08417039\">\n",
              "    <div class=\"colab-df-container\">\n",
              "      <div>\n",
              "<style scoped>\n",
              "    .dataframe tbody tr th:only-of-type {\n",
              "        vertical-align: middle;\n",
              "    }\n",
              "\n",
              "    .dataframe tbody tr th {\n",
              "        vertical-align: top;\n",
              "    }\n",
              "\n",
              "    .dataframe thead th {\n",
              "        text-align: right;\n",
              "    }\n",
              "</style>\n",
              "<table border=\"1\" class=\"dataframe\">\n",
              "  <thead>\n",
              "    <tr style=\"text-align: right;\">\n",
              "      <th></th>\n",
              "      <th>words_seg</th>\n",
              "    </tr>\n",
              "  </thead>\n",
              "  <tbody>\n",
              "    <tr>\n",
              "      <th>0</th>\n",
              "      <td>ドナルド</td>\n",
              "    </tr>\n",
              "    <tr>\n",
              "      <th>0</th>\n",
              "      <td>・</td>\n",
              "    </tr>\n",
              "    <tr>\n",
              "      <th>0</th>\n",
              "      <td>トランプ</td>\n",
              "    </tr>\n",
              "    <tr>\n",
              "      <th>0</th>\n",
              "      <td>と</td>\n",
              "    </tr>\n",
              "    <tr>\n",
              "      <th>0</th>\n",
              "      <td>アンゲラ</td>\n",
              "    </tr>\n",
              "    <tr>\n",
              "      <th>0</th>\n",
              "      <td>・</td>\n",
              "    </tr>\n",
              "    <tr>\n",
              "      <th>0</th>\n",
              "      <td>メルケル</td>\n",
              "    </tr>\n",
              "    <tr>\n",
              "      <th>0</th>\n",
              "      <td>は</td>\n",
              "    </tr>\n",
              "    <tr>\n",
              "      <th>0</th>\n",
              "      <td>多く</td>\n",
              "    </tr>\n",
              "    <tr>\n",
              "      <th>0</th>\n",
              "      <td>の</td>\n",
              "    </tr>\n",
              "    <tr>\n",
              "      <th>0</th>\n",
              "      <td>意見</td>\n",
              "    </tr>\n",
              "    <tr>\n",
              "      <th>0</th>\n",
              "      <td>を</td>\n",
              "    </tr>\n",
              "    <tr>\n",
              "      <th>0</th>\n",
              "      <td>共有</td>\n",
              "    </tr>\n",
              "    <tr>\n",
              "      <th>0</th>\n",
              "      <td>し</td>\n",
              "    </tr>\n",
              "    <tr>\n",
              "      <th>0</th>\n",
              "      <td>て</td>\n",
              "    </tr>\n",
              "    <tr>\n",
              "      <th>0</th>\n",
              "      <td>い</td>\n",
              "    </tr>\n",
              "    <tr>\n",
              "      <th>0</th>\n",
              "      <td>ませ</td>\n",
              "    </tr>\n",
              "    <tr>\n",
              "      <th>0</th>\n",
              "      <td>ん</td>\n",
              "    </tr>\n",
              "  </tbody>\n",
              "</table>\n",
              "</div>\n",
              "      <button class=\"colab-df-convert\" onclick=\"convertToInteractive('df-ea55acf2-8c6f-43a9-899c-041a08417039')\"\n",
              "              title=\"Convert this dataframe to an interactive table.\"\n",
              "              style=\"display:none;\">\n",
              "        \n",
              "  <svg xmlns=\"http://www.w3.org/2000/svg\" height=\"24px\"viewBox=\"0 0 24 24\"\n",
              "       width=\"24px\">\n",
              "    <path d=\"M0 0h24v24H0V0z\" fill=\"none\"/>\n",
              "    <path d=\"M18.56 5.44l.94 2.06.94-2.06 2.06-.94-2.06-.94-.94-2.06-.94 2.06-2.06.94zm-11 1L8.5 8.5l.94-2.06 2.06-.94-2.06-.94L8.5 2.5l-.94 2.06-2.06.94zm10 10l.94 2.06.94-2.06 2.06-.94-2.06-.94-.94-2.06-.94 2.06-2.06.94z\"/><path d=\"M17.41 7.96l-1.37-1.37c-.4-.4-.92-.59-1.43-.59-.52 0-1.04.2-1.43.59L10.3 9.45l-7.72 7.72c-.78.78-.78 2.05 0 2.83L4 21.41c.39.39.9.59 1.41.59.51 0 1.02-.2 1.41-.59l7.78-7.78 2.81-2.81c.8-.78.8-2.07 0-2.86zM5.41 20L4 18.59l7.72-7.72 1.47 1.35L5.41 20z\"/>\n",
              "  </svg>\n",
              "      </button>\n",
              "      \n",
              "  <style>\n",
              "    .colab-df-container {\n",
              "      display:flex;\n",
              "      flex-wrap:wrap;\n",
              "      gap: 12px;\n",
              "    }\n",
              "\n",
              "    .colab-df-convert {\n",
              "      background-color: #E8F0FE;\n",
              "      border: none;\n",
              "      border-radius: 50%;\n",
              "      cursor: pointer;\n",
              "      display: none;\n",
              "      fill: #1967D2;\n",
              "      height: 32px;\n",
              "      padding: 0 0 0 0;\n",
              "      width: 32px;\n",
              "    }\n",
              "\n",
              "    .colab-df-convert:hover {\n",
              "      background-color: #E2EBFA;\n",
              "      box-shadow: 0px 1px 2px rgba(60, 64, 67, 0.3), 0px 1px 3px 1px rgba(60, 64, 67, 0.15);\n",
              "      fill: #174EA6;\n",
              "    }\n",
              "\n",
              "    [theme=dark] .colab-df-convert {\n",
              "      background-color: #3B4455;\n",
              "      fill: #D2E3FC;\n",
              "    }\n",
              "\n",
              "    [theme=dark] .colab-df-convert:hover {\n",
              "      background-color: #434B5C;\n",
              "      box-shadow: 0px 1px 3px 1px rgba(0, 0, 0, 0.15);\n",
              "      filter: drop-shadow(0px 1px 2px rgba(0, 0, 0, 0.3));\n",
              "      fill: #FFFFFF;\n",
              "    }\n",
              "  </style>\n",
              "\n",
              "      <script>\n",
              "        const buttonEl =\n",
              "          document.querySelector('#df-ea55acf2-8c6f-43a9-899c-041a08417039 button.colab-df-convert');\n",
              "        buttonEl.style.display =\n",
              "          google.colab.kernel.accessAllowed ? 'block' : 'none';\n",
              "\n",
              "        async function convertToInteractive(key) {\n",
              "          const element = document.querySelector('#df-ea55acf2-8c6f-43a9-899c-041a08417039');\n",
              "          const dataTable =\n",
              "            await google.colab.kernel.invokeFunction('convertToInteractive',\n",
              "                                                     [key], {});\n",
              "          if (!dataTable) return;\n",
              "\n",
              "          const docLinkHtml = 'Like what you see? Visit the ' +\n",
              "            '<a target=\"_blank\" href=https://colab.research.google.com/notebooks/data_table.ipynb>data table notebook</a>'\n",
              "            + ' to learn more about interactive tables.';\n",
              "          element.innerHTML = '';\n",
              "          dataTable['output_type'] = 'display_data';\n",
              "          await google.colab.output.renderOutput(dataTable, element);\n",
              "          const docLink = document.createElement('div');\n",
              "          docLink.innerHTML = docLinkHtml;\n",
              "          element.appendChild(docLink);\n",
              "        }\n",
              "      </script>\n",
              "    </div>\n",
              "  </div>\n",
              "  "
            ],
            "text/plain": [
              "  words_seg\n",
              "0      ドナルド\n",
              "0         ・\n",
              "0      トランプ\n",
              "0         と\n",
              "0      アンゲラ\n",
              "0         ・\n",
              "0      メルケル\n",
              "0         は\n",
              "0        多く\n",
              "0         の\n",
              "0        意見\n",
              "0         を\n",
              "0        共有\n",
              "0         し\n",
              "0         て\n",
              "0         い\n",
              "0        ませ\n",
              "0         ん"
            ]
          },
          "metadata": {},
          "execution_count": 7
        }
      ]
    },
    {
      "cell_type": "code",
      "source": [
        "import pandas as pd\n",
        "!wget http://ckl-it.de/wp-content/uploads/2020/12/small_btc.csv \n",
        "df = pd.read_csv('/content/small_btc.csv')"
      ],
      "metadata": {
        "colab": {
          "base_uri": "https://localhost:8080/"
        },
        "id": "Ig0UzjaxFPRx",
        "outputId": "c559382e-6d6d-46c4-ab84-66c26ad91730"
      },
      "execution_count": 9,
      "outputs": [
        {
          "output_type": "stream",
          "name": "stdout",
          "text": [
            "--2022-01-05 07:15:18--  http://ckl-it.de/wp-content/uploads/2020/12/small_btc.csv\n",
            "Resolving ckl-it.de (ckl-it.de)... 217.160.0.108, 2001:8d8:100f:f000::209\n",
            "Connecting to ckl-it.de (ckl-it.de)|217.160.0.108|:80... connected.\n",
            "HTTP request sent, awaiting response... 200 OK\n",
            "Length: 22244914 (21M) [text/csv]\n",
            "Saving to: ‘small_btc.csv’\n",
            "\n",
            "small_btc.csv       100%[===================>]  21.21M  9.91MB/s    in 2.1s    \n",
            "\n",
            "2022-01-05 07:15:21 (9.91 MB/s) - ‘small_btc.csv’ saved [22244914/22244914]\n",
            "\n"
          ]
        }
      ]
    },
    {
      "cell_type": "code",
      "source": [
        "from sparknlp.pretrained import PretrainedPipeline \n",
        "pipeline = PretrainedPipeline(\"translate_hi_en\", lang = \"xx\") \n",
        "pipeline.annotate(\"कोडिंग में आपका स्वागत है\")"
      ],
      "metadata": {
        "colab": {
          "base_uri": "https://localhost:8080/"
        },
        "id": "k3dY7yM0HJJ0",
        "outputId": "e2df75e8-9f2a-4c23-e472-0d67b202182f"
      },
      "execution_count": 17,
      "outputs": [
        {
          "output_type": "stream",
          "name": "stdout",
          "text": [
            "translate_hi_en download started this may take some time.\n",
            "Approx size to download 273.8 MB\n",
            "[OK!]\n"
          ]
        },
        {
          "output_type": "execute_result",
          "data": {
            "text/plain": [
              "{'document': ['कोडिंग में आपका स्वागत है'],\n",
              " 'sentence': ['कोडिंग में आपका स्वागत है'],\n",
              " 'translation': ['Welcome to Coding']}"
            ]
          },
          "metadata": {},
          "execution_count": 17
        }
      ]
    },
    {
      "cell_type": "markdown",
      "source": [
        "https://nlu.johnsnowlabs.com/docs/en/release_notes\n",
        "\n",
        "https://nlp.johnsnowlabs.com/2021/01/03/translate_grk_en_xx.html"
      ],
      "metadata": {
        "id": "PFa70GBzKJG1"
      }
    },
    {
      "cell_type": "code",
      "source": [
        "for i in range(0,10):\n",
        "  txt=df.title.iloc[i]\n",
        "  print(txt)\n",
        "  de_df = pipeline.annotate(txt)\n",
        "  print(de_df)"
      ],
      "metadata": {
        "colab": {
          "base_uri": "https://localhost:8080/"
        },
        "id": "_KG_82ufGAci",
        "outputId": "05cef3f4-e803-462a-8640-259242cc967e"
      },
      "execution_count": 21,
      "outputs": [
        {
          "output_type": "stream",
          "name": "stdout",
          "text": [
            "Bitcoin Price Update: Will China Lead us Down?\n",
            "{'document': ['Bitcoin Price Update: Will China Lead us Down?'], 'sentence': ['Bitcoin Price Update: Will China Lead us Down?'], 'translation': ['Brecoin Péreice: Will Michael Lein Wein?']}\n",
            "Key Bitcoin Price Levels for Week 51 (15 – 22 Dec)\n",
            "{'document': ['Key Bitcoin Price Levels for Week 51 (15 – 22 Dec)'], 'sentence': ['Key Bitcoin Price Levels for Week 51 (15 – 22 Dec)'], 'translation': ['French Breitin Pérez']}\n",
            "National Australia Bank, Citing Highly Flawed Data, Calls Bitcoin a Bubble\n",
            "{'document': ['National Australia Bank, Citing Highly Flawed Data, Calls Bitcoin a Bubble'], 'sentence': ['National Australia Bank, Citing Highly Flawed Data, Calls Bitcoin a Bubble'], 'translation': ['National Australian Brank, Citting Highly Favata, Calls Brechin a BBale']}\n",
            "Chinese Bitcoin Ban Driven by  Chinese Banking Crisis ?\n",
            "{'document': ['Chinese Bitcoin Ban Driven by  Chinese Banking Crisis ?'], 'sentence': ['Chinese Bitcoin Ban Driven by  Chinese Banking Crisis ?'], 'translation': ['Chetuckin Benningn by Chris Branberis?']}\n",
            "Bitcoin Trade Update: Opened Position\n",
            "{'document': ['Bitcoin Trade Update: Opened Position'], 'sentence': ['Bitcoin Trade Update: Opened Position'], 'translation': ['Breitin Trade']}\n",
            "Key Bitcoin Price Levels for Week 52 (22 – 28 Dec) – My Trading Plan\n",
            "{'document': ['Key Bitcoin Price Levels for Week 52 (22 – 28 Dec) – My Trading Plan'], 'sentence': ['Key Bitcoin Price Levels for Week 52 (22 – 28 Dec) – My Trading Plan'], 'translation': ['Key Bincoin Pérez']}\n",
            "Bitcoin Survival\n",
            "{'document': ['Bitcoin Survival'], 'sentence': ['Bitcoin Survival'], 'translation': ['Brecoin Survial']}\n",
            "Massive Bitcoin Sell Going On\n",
            "{'document': ['Massive Bitcoin Sell Going On'], 'sentence': ['Massive Bitcoin Sell Going On'], 'translation': ['Masive Bretcoin Selling on the White House']}\n",
            "Why Bitcoin will rise on Monday 23rd by more than 10%\n",
            "{'document': ['Why Bitcoin will rise on Monday 23rd by more than 10%'], 'sentence': ['Why Bitcoin will rise on Monday 23rd by more than 10%'], 'translation': ['Why would you do it on 23rd by one of 10%']}\n",
            "Why Bitcoin is falling, and will rise again\n",
            "{'document': ['Why Bitcoin is falling, and will rise again'], 'sentence': ['Why Bitcoin is falling, and will rise again'], 'translation': ['Why should we not try to do that?']}\n"
          ]
        }
      ]
    },
    {
      "cell_type": "code",
      "source": [
        "#language classification\n",
        "nlu.load('lang').predict(['NLU is an open-source text processing library for advanced natural language processing for the Python.','NLU est une bibliothèque de traitement de texte open source pour le traitement avancé du langage naturel pour les langages de programmation Python.'])"
      ],
      "metadata": {
        "colab": {
          "base_uri": "https://localhost:8080/",
          "height": 164
        },
        "id": "GlwGbzVMLOPY",
        "outputId": "b11abf32-8c0f-4d6f-a6ec-ca946318ece1"
      },
      "execution_count": 22,
      "outputs": [
        {
          "output_type": "stream",
          "name": "stdout",
          "text": [
            "detect_language_375 download started this may take some time.\n",
            "Approx size to download 9.4 MB\n",
            "[OK!]\n"
          ]
        },
        {
          "output_type": "execute_result",
          "data": {
            "text/html": [
              "\n",
              "  <div id=\"df-045d3319-be0a-4d99-9685-5cb0bdb9687f\">\n",
              "    <div class=\"colab-df-container\">\n",
              "      <div>\n",
              "<style scoped>\n",
              "    .dataframe tbody tr th:only-of-type {\n",
              "        vertical-align: middle;\n",
              "    }\n",
              "\n",
              "    .dataframe tbody tr th {\n",
              "        vertical-align: top;\n",
              "    }\n",
              "\n",
              "    .dataframe thead th {\n",
              "        text-align: right;\n",
              "    }\n",
              "</style>\n",
              "<table border=\"1\" class=\"dataframe\">\n",
              "  <thead>\n",
              "    <tr style=\"text-align: right;\">\n",
              "      <th></th>\n",
              "      <th>language_results</th>\n",
              "      <th>meta_language_confidence</th>\n",
              "      <th>sentence</th>\n",
              "    </tr>\n",
              "  </thead>\n",
              "  <tbody>\n",
              "    <tr>\n",
              "      <th>0</th>\n",
              "      <td>en</td>\n",
              "      <td>0.867529</td>\n",
              "      <td>NLU is an open-source text processing library ...</td>\n",
              "    </tr>\n",
              "    <tr>\n",
              "      <th>1</th>\n",
              "      <td>fr</td>\n",
              "      <td>0.999713</td>\n",
              "      <td>NLU est une bibliothèque de traitement de text...</td>\n",
              "    </tr>\n",
              "  </tbody>\n",
              "</table>\n",
              "</div>\n",
              "      <button class=\"colab-df-convert\" onclick=\"convertToInteractive('df-045d3319-be0a-4d99-9685-5cb0bdb9687f')\"\n",
              "              title=\"Convert this dataframe to an interactive table.\"\n",
              "              style=\"display:none;\">\n",
              "        \n",
              "  <svg xmlns=\"http://www.w3.org/2000/svg\" height=\"24px\"viewBox=\"0 0 24 24\"\n",
              "       width=\"24px\">\n",
              "    <path d=\"M0 0h24v24H0V0z\" fill=\"none\"/>\n",
              "    <path d=\"M18.56 5.44l.94 2.06.94-2.06 2.06-.94-2.06-.94-.94-2.06-.94 2.06-2.06.94zm-11 1L8.5 8.5l.94-2.06 2.06-.94-2.06-.94L8.5 2.5l-.94 2.06-2.06.94zm10 10l.94 2.06.94-2.06 2.06-.94-2.06-.94-.94-2.06-.94 2.06-2.06.94z\"/><path d=\"M17.41 7.96l-1.37-1.37c-.4-.4-.92-.59-1.43-.59-.52 0-1.04.2-1.43.59L10.3 9.45l-7.72 7.72c-.78.78-.78 2.05 0 2.83L4 21.41c.39.39.9.59 1.41.59.51 0 1.02-.2 1.41-.59l7.78-7.78 2.81-2.81c.8-.78.8-2.07 0-2.86zM5.41 20L4 18.59l7.72-7.72 1.47 1.35L5.41 20z\"/>\n",
              "  </svg>\n",
              "      </button>\n",
              "      \n",
              "  <style>\n",
              "    .colab-df-container {\n",
              "      display:flex;\n",
              "      flex-wrap:wrap;\n",
              "      gap: 12px;\n",
              "    }\n",
              "\n",
              "    .colab-df-convert {\n",
              "      background-color: #E8F0FE;\n",
              "      border: none;\n",
              "      border-radius: 50%;\n",
              "      cursor: pointer;\n",
              "      display: none;\n",
              "      fill: #1967D2;\n",
              "      height: 32px;\n",
              "      padding: 0 0 0 0;\n",
              "      width: 32px;\n",
              "    }\n",
              "\n",
              "    .colab-df-convert:hover {\n",
              "      background-color: #E2EBFA;\n",
              "      box-shadow: 0px 1px 2px rgba(60, 64, 67, 0.3), 0px 1px 3px 1px rgba(60, 64, 67, 0.15);\n",
              "      fill: #174EA6;\n",
              "    }\n",
              "\n",
              "    [theme=dark] .colab-df-convert {\n",
              "      background-color: #3B4455;\n",
              "      fill: #D2E3FC;\n",
              "    }\n",
              "\n",
              "    [theme=dark] .colab-df-convert:hover {\n",
              "      background-color: #434B5C;\n",
              "      box-shadow: 0px 1px 3px 1px rgba(0, 0, 0, 0.15);\n",
              "      filter: drop-shadow(0px 1px 2px rgba(0, 0, 0, 0.3));\n",
              "      fill: #FFFFFF;\n",
              "    }\n",
              "  </style>\n",
              "\n",
              "      <script>\n",
              "        const buttonEl =\n",
              "          document.querySelector('#df-045d3319-be0a-4d99-9685-5cb0bdb9687f button.colab-df-convert');\n",
              "        buttonEl.style.display =\n",
              "          google.colab.kernel.accessAllowed ? 'block' : 'none';\n",
              "\n",
              "        async function convertToInteractive(key) {\n",
              "          const element = document.querySelector('#df-045d3319-be0a-4d99-9685-5cb0bdb9687f');\n",
              "          const dataTable =\n",
              "            await google.colab.kernel.invokeFunction('convertToInteractive',\n",
              "                                                     [key], {});\n",
              "          if (!dataTable) return;\n",
              "\n",
              "          const docLinkHtml = 'Like what you see? Visit the ' +\n",
              "            '<a target=\"_blank\" href=https://colab.research.google.com/notebooks/data_table.ipynb>data table notebook</a>'\n",
              "            + ' to learn more about interactive tables.';\n",
              "          element.innerHTML = '';\n",
              "          dataTable['output_type'] = 'display_data';\n",
              "          await google.colab.output.renderOutput(dataTable, element);\n",
              "          const docLink = document.createElement('div');\n",
              "          docLink.innerHTML = docLinkHtml;\n",
              "          element.appendChild(docLink);\n",
              "        }\n",
              "      </script>\n",
              "    </div>\n",
              "  </div>\n",
              "  "
            ],
            "text/plain": [
              "  language_results  ...                                           sentence\n",
              "0               en  ...  NLU is an open-source text processing library ...\n",
              "1               fr  ...  NLU est une bibliothèque de traitement de text...\n",
              "\n",
              "[2 rows x 3 columns]"
            ]
          },
          "metadata": {},
          "execution_count": 22
        }
      ]
    },
    {
      "cell_type": "code",
      "source": [
        "#BERT\n",
        "nlu.load('bert').predict('NLU offers the latest embeddings in one line ')"
      ],
      "metadata": {
        "colab": {
          "base_uri": "https://localhost:8080/",
          "height": 404
        },
        "id": "TMZu9nRWL2SW",
        "outputId": "e7968f59-7c38-40da-964b-dc99c4cc35e1"
      },
      "execution_count": 23,
      "outputs": [
        {
          "output_type": "stream",
          "name": "stdout",
          "text": [
            "small_bert_L2_128 download started this may take some time.\n",
            "Approximate size to download 16.1 MB\n",
            "[OK!]\n",
            "sentence_detector_dl download started this may take some time.\n",
            "Approximate size to download 354.6 KB\n",
            "[OK!]\n"
          ]
        },
        {
          "output_type": "execute_result",
          "data": {
            "text/html": [
              "\n",
              "  <div id=\"df-40633b97-27d7-4eff-9b12-3f9c8195c69b\">\n",
              "    <div class=\"colab-df-container\">\n",
              "      <div>\n",
              "<style scoped>\n",
              "    .dataframe tbody tr th:only-of-type {\n",
              "        vertical-align: middle;\n",
              "    }\n",
              "\n",
              "    .dataframe tbody tr th {\n",
              "        vertical-align: top;\n",
              "    }\n",
              "\n",
              "    .dataframe thead th {\n",
              "        text-align: right;\n",
              "    }\n",
              "</style>\n",
              "<table border=\"1\" class=\"dataframe\">\n",
              "  <thead>\n",
              "    <tr style=\"text-align: right;\">\n",
              "      <th></th>\n",
              "      <th>token</th>\n",
              "    </tr>\n",
              "  </thead>\n",
              "  <tbody>\n",
              "    <tr>\n",
              "      <th>0</th>\n",
              "      <td>NLU</td>\n",
              "    </tr>\n",
              "    <tr>\n",
              "      <th>0</th>\n",
              "      <td>offers</td>\n",
              "    </tr>\n",
              "    <tr>\n",
              "      <th>0</th>\n",
              "      <td>the</td>\n",
              "    </tr>\n",
              "    <tr>\n",
              "      <th>0</th>\n",
              "      <td>latest</td>\n",
              "    </tr>\n",
              "    <tr>\n",
              "      <th>0</th>\n",
              "      <td>embeddings</td>\n",
              "    </tr>\n",
              "    <tr>\n",
              "      <th>0</th>\n",
              "      <td>in</td>\n",
              "    </tr>\n",
              "    <tr>\n",
              "      <th>0</th>\n",
              "      <td>one</td>\n",
              "    </tr>\n",
              "    <tr>\n",
              "      <th>0</th>\n",
              "      <td>line</td>\n",
              "    </tr>\n",
              "  </tbody>\n",
              "</table>\n",
              "</div>\n",
              "      <button class=\"colab-df-convert\" onclick=\"convertToInteractive('df-40633b97-27d7-4eff-9b12-3f9c8195c69b')\"\n",
              "              title=\"Convert this dataframe to an interactive table.\"\n",
              "              style=\"display:none;\">\n",
              "        \n",
              "  <svg xmlns=\"http://www.w3.org/2000/svg\" height=\"24px\"viewBox=\"0 0 24 24\"\n",
              "       width=\"24px\">\n",
              "    <path d=\"M0 0h24v24H0V0z\" fill=\"none\"/>\n",
              "    <path d=\"M18.56 5.44l.94 2.06.94-2.06 2.06-.94-2.06-.94-.94-2.06-.94 2.06-2.06.94zm-11 1L8.5 8.5l.94-2.06 2.06-.94-2.06-.94L8.5 2.5l-.94 2.06-2.06.94zm10 10l.94 2.06.94-2.06 2.06-.94-2.06-.94-.94-2.06-.94 2.06-2.06.94z\"/><path d=\"M17.41 7.96l-1.37-1.37c-.4-.4-.92-.59-1.43-.59-.52 0-1.04.2-1.43.59L10.3 9.45l-7.72 7.72c-.78.78-.78 2.05 0 2.83L4 21.41c.39.39.9.59 1.41.59.51 0 1.02-.2 1.41-.59l7.78-7.78 2.81-2.81c.8-.78.8-2.07 0-2.86zM5.41 20L4 18.59l7.72-7.72 1.47 1.35L5.41 20z\"/>\n",
              "  </svg>\n",
              "      </button>\n",
              "      \n",
              "  <style>\n",
              "    .colab-df-container {\n",
              "      display:flex;\n",
              "      flex-wrap:wrap;\n",
              "      gap: 12px;\n",
              "    }\n",
              "\n",
              "    .colab-df-convert {\n",
              "      background-color: #E8F0FE;\n",
              "      border: none;\n",
              "      border-radius: 50%;\n",
              "      cursor: pointer;\n",
              "      display: none;\n",
              "      fill: #1967D2;\n",
              "      height: 32px;\n",
              "      padding: 0 0 0 0;\n",
              "      width: 32px;\n",
              "    }\n",
              "\n",
              "    .colab-df-convert:hover {\n",
              "      background-color: #E2EBFA;\n",
              "      box-shadow: 0px 1px 2px rgba(60, 64, 67, 0.3), 0px 1px 3px 1px rgba(60, 64, 67, 0.15);\n",
              "      fill: #174EA6;\n",
              "    }\n",
              "\n",
              "    [theme=dark] .colab-df-convert {\n",
              "      background-color: #3B4455;\n",
              "      fill: #D2E3FC;\n",
              "    }\n",
              "\n",
              "    [theme=dark] .colab-df-convert:hover {\n",
              "      background-color: #434B5C;\n",
              "      box-shadow: 0px 1px 3px 1px rgba(0, 0, 0, 0.15);\n",
              "      filter: drop-shadow(0px 1px 2px rgba(0, 0, 0, 0.3));\n",
              "      fill: #FFFFFF;\n",
              "    }\n",
              "  </style>\n",
              "\n",
              "      <script>\n",
              "        const buttonEl =\n",
              "          document.querySelector('#df-40633b97-27d7-4eff-9b12-3f9c8195c69b button.colab-df-convert');\n",
              "        buttonEl.style.display =\n",
              "          google.colab.kernel.accessAllowed ? 'block' : 'none';\n",
              "\n",
              "        async function convertToInteractive(key) {\n",
              "          const element = document.querySelector('#df-40633b97-27d7-4eff-9b12-3f9c8195c69b');\n",
              "          const dataTable =\n",
              "            await google.colab.kernel.invokeFunction('convertToInteractive',\n",
              "                                                     [key], {});\n",
              "          if (!dataTable) return;\n",
              "\n",
              "          const docLinkHtml = 'Like what you see? Visit the ' +\n",
              "            '<a target=\"_blank\" href=https://colab.research.google.com/notebooks/data_table.ipynb>data table notebook</a>'\n",
              "            + ' to learn more about interactive tables.';\n",
              "          element.innerHTML = '';\n",
              "          dataTable['output_type'] = 'display_data';\n",
              "          await google.colab.output.renderOutput(dataTable, element);\n",
              "          const docLink = document.createElement('div');\n",
              "          docLink.innerHTML = docLinkHtml;\n",
              "          element.appendChild(docLink);\n",
              "        }\n",
              "      </script>\n",
              "    </div>\n",
              "  </div>\n",
              "  "
            ],
            "text/plain": [
              "        token\n",
              "0         NLU\n",
              "0      offers\n",
              "0         the\n",
              "0      latest\n",
              "0  embeddings\n",
              "0          in\n",
              "0         one\n",
              "0        line"
            ]
          },
          "metadata": {},
          "execution_count": 23
        }
      ]
    },
    {
      "cell_type": "code",
      "source": [
        "nlu.load('biobert').predict('Biobert was pretrained on a medical dataset')"
      ],
      "metadata": {
        "colab": {
          "base_uri": "https://localhost:8080/",
          "height": 373
        },
        "id": "GYcqkemcMGyD",
        "outputId": "b17e94ab-344c-4c33-9ab3-f27038c9f8fd"
      },
      "execution_count": 24,
      "outputs": [
        {
          "output_type": "stream",
          "name": "stdout",
          "text": [
            "biobert_pubmed_base_cased download started this may take some time.\n",
            "Approximate size to download 386.4 MB\n",
            "[OK!]\n",
            "sentence_detector_dl download started this may take some time.\n",
            "Approximate size to download 354.6 KB\n",
            "[OK!]\n"
          ]
        },
        {
          "output_type": "execute_result",
          "data": {
            "text/html": [
              "\n",
              "  <div id=\"df-93fd29c0-2118-4217-b98c-05c4809001b6\">\n",
              "    <div class=\"colab-df-container\">\n",
              "      <div>\n",
              "<style scoped>\n",
              "    .dataframe tbody tr th:only-of-type {\n",
              "        vertical-align: middle;\n",
              "    }\n",
              "\n",
              "    .dataframe tbody tr th {\n",
              "        vertical-align: top;\n",
              "    }\n",
              "\n",
              "    .dataframe thead th {\n",
              "        text-align: right;\n",
              "    }\n",
              "</style>\n",
              "<table border=\"1\" class=\"dataframe\">\n",
              "  <thead>\n",
              "    <tr style=\"text-align: right;\">\n",
              "      <th></th>\n",
              "      <th>token</th>\n",
              "    </tr>\n",
              "  </thead>\n",
              "  <tbody>\n",
              "    <tr>\n",
              "      <th>0</th>\n",
              "      <td>Biobert</td>\n",
              "    </tr>\n",
              "    <tr>\n",
              "      <th>0</th>\n",
              "      <td>was</td>\n",
              "    </tr>\n",
              "    <tr>\n",
              "      <th>0</th>\n",
              "      <td>pretrained</td>\n",
              "    </tr>\n",
              "    <tr>\n",
              "      <th>0</th>\n",
              "      <td>on</td>\n",
              "    </tr>\n",
              "    <tr>\n",
              "      <th>0</th>\n",
              "      <td>a</td>\n",
              "    </tr>\n",
              "    <tr>\n",
              "      <th>0</th>\n",
              "      <td>medical</td>\n",
              "    </tr>\n",
              "    <tr>\n",
              "      <th>0</th>\n",
              "      <td>dataset</td>\n",
              "    </tr>\n",
              "  </tbody>\n",
              "</table>\n",
              "</div>\n",
              "      <button class=\"colab-df-convert\" onclick=\"convertToInteractive('df-93fd29c0-2118-4217-b98c-05c4809001b6')\"\n",
              "              title=\"Convert this dataframe to an interactive table.\"\n",
              "              style=\"display:none;\">\n",
              "        \n",
              "  <svg xmlns=\"http://www.w3.org/2000/svg\" height=\"24px\"viewBox=\"0 0 24 24\"\n",
              "       width=\"24px\">\n",
              "    <path d=\"M0 0h24v24H0V0z\" fill=\"none\"/>\n",
              "    <path d=\"M18.56 5.44l.94 2.06.94-2.06 2.06-.94-2.06-.94-.94-2.06-.94 2.06-2.06.94zm-11 1L8.5 8.5l.94-2.06 2.06-.94-2.06-.94L8.5 2.5l-.94 2.06-2.06.94zm10 10l.94 2.06.94-2.06 2.06-.94-2.06-.94-.94-2.06-.94 2.06-2.06.94z\"/><path d=\"M17.41 7.96l-1.37-1.37c-.4-.4-.92-.59-1.43-.59-.52 0-1.04.2-1.43.59L10.3 9.45l-7.72 7.72c-.78.78-.78 2.05 0 2.83L4 21.41c.39.39.9.59 1.41.59.51 0 1.02-.2 1.41-.59l7.78-7.78 2.81-2.81c.8-.78.8-2.07 0-2.86zM5.41 20L4 18.59l7.72-7.72 1.47 1.35L5.41 20z\"/>\n",
              "  </svg>\n",
              "      </button>\n",
              "      \n",
              "  <style>\n",
              "    .colab-df-container {\n",
              "      display:flex;\n",
              "      flex-wrap:wrap;\n",
              "      gap: 12px;\n",
              "    }\n",
              "\n",
              "    .colab-df-convert {\n",
              "      background-color: #E8F0FE;\n",
              "      border: none;\n",
              "      border-radius: 50%;\n",
              "      cursor: pointer;\n",
              "      display: none;\n",
              "      fill: #1967D2;\n",
              "      height: 32px;\n",
              "      padding: 0 0 0 0;\n",
              "      width: 32px;\n",
              "    }\n",
              "\n",
              "    .colab-df-convert:hover {\n",
              "      background-color: #E2EBFA;\n",
              "      box-shadow: 0px 1px 2px rgba(60, 64, 67, 0.3), 0px 1px 3px 1px rgba(60, 64, 67, 0.15);\n",
              "      fill: #174EA6;\n",
              "    }\n",
              "\n",
              "    [theme=dark] .colab-df-convert {\n",
              "      background-color: #3B4455;\n",
              "      fill: #D2E3FC;\n",
              "    }\n",
              "\n",
              "    [theme=dark] .colab-df-convert:hover {\n",
              "      background-color: #434B5C;\n",
              "      box-shadow: 0px 1px 3px 1px rgba(0, 0, 0, 0.15);\n",
              "      filter: drop-shadow(0px 1px 2px rgba(0, 0, 0, 0.3));\n",
              "      fill: #FFFFFF;\n",
              "    }\n",
              "  </style>\n",
              "\n",
              "      <script>\n",
              "        const buttonEl =\n",
              "          document.querySelector('#df-93fd29c0-2118-4217-b98c-05c4809001b6 button.colab-df-convert');\n",
              "        buttonEl.style.display =\n",
              "          google.colab.kernel.accessAllowed ? 'block' : 'none';\n",
              "\n",
              "        async function convertToInteractive(key) {\n",
              "          const element = document.querySelector('#df-93fd29c0-2118-4217-b98c-05c4809001b6');\n",
              "          const dataTable =\n",
              "            await google.colab.kernel.invokeFunction('convertToInteractive',\n",
              "                                                     [key], {});\n",
              "          if (!dataTable) return;\n",
              "\n",
              "          const docLinkHtml = 'Like what you see? Visit the ' +\n",
              "            '<a target=\"_blank\" href=https://colab.research.google.com/notebooks/data_table.ipynb>data table notebook</a>'\n",
              "            + ' to learn more about interactive tables.';\n",
              "          element.innerHTML = '';\n",
              "          dataTable['output_type'] = 'display_data';\n",
              "          await google.colab.output.renderOutput(dataTable, element);\n",
              "          const docLink = document.createElement('div');\n",
              "          docLink.innerHTML = docLinkHtml;\n",
              "          element.appendChild(docLink);\n",
              "        }\n",
              "      </script>\n",
              "    </div>\n",
              "  </div>\n",
              "  "
            ],
            "text/plain": [
              "        token\n",
              "0     Biobert\n",
              "0         was\n",
              "0  pretrained\n",
              "0          on\n",
              "0           a\n",
              "0     medical\n",
              "0     dataset"
            ]
          },
          "metadata": {},
          "execution_count": 24
        }
      ]
    },
    {
      "cell_type": "code",
      "source": [
        "nlu.load('covidbert').predict('Albert uses a collection of many berts to generate embeddings')"
      ],
      "metadata": {
        "colab": {
          "base_uri": "https://localhost:8080/"
        },
        "id": "xz6A9rkRMZe7",
        "outputId": "fb6e3158-cc46-49dd-c51f-1516fad2f480"
      },
      "execution_count": null,
      "outputs": [
        {
          "output_type": "stream",
          "name": "stdout",
          "text": [
            "covidbert_large_uncased download started this may take some time.\n",
            "Approximate size to download 1.2 GB\n",
            "[ — ]"
          ]
        }
      ]
    },
    {
      "cell_type": "code",
      "source": [
        "#visualization\n",
        "import nlu\n",
        "nlu.load('ner').viz(\"Donald Trump from America and Angela Merkel from Germany don't share many oppinions.\")"
      ],
      "metadata": {
        "colab": {
          "base_uri": "https://localhost:8080/",
          "height": 611
        },
        "id": "Nx7Xz0gwNF0T",
        "outputId": "8f303ff2-d71d-40e5-a822-c55298b8e056"
      },
      "execution_count": 2,
      "outputs": [
        {
          "output_type": "stream",
          "name": "stdout",
          "text": [
            "onto_recognize_entities_sm download started this may take some time.\n",
            "Approx size to download 160.1 MB\n",
            "[OK!]\n"
          ]
        },
        {
          "output_type": "stream",
          "name": "stderr",
          "text": [
            "WARNING: pip is being invoked by an old script wrapper. This will fail in a future version of pip.\n",
            "Please see https://github.com/pypa/pip/issues/5599 for advice on fixing the underlying issue.\n",
            "To avoid this problem you can invoke Python with '-m pip' instead of running pip directly.\n"
          ]
        },
        {
          "output_type": "stream",
          "name": "stdout",
          "text": [
            "Collecting spark-nlp-display\n",
            "  Downloading spark_nlp_display-1.8-py3-none-any.whl (95 kB)\n",
            "Requirement already satisfied: numpy in /usr/local/lib/python3.7/dist-packages (from spark-nlp-display) (1.19.5)\n",
            "Requirement already satisfied: ipython in /usr/local/lib/python3.7/dist-packages (from spark-nlp-display) (5.5.0)\n",
            "Requirement already satisfied: pandas in /usr/local/lib/python3.7/dist-packages (from spark-nlp-display) (1.1.5)\n",
            "Collecting svgwrite==1.4\n",
            "  Downloading svgwrite-1.4-py3-none-any.whl (66 kB)\n",
            "Requirement already satisfied: spark-nlp in /usr/local/lib/python3.7/dist-packages (from spark-nlp-display) (3.3.4)\n",
            "Requirement already satisfied: setuptools>=18.5 in /usr/local/lib/python3.7/dist-packages (from ipython->spark-nlp-display) (57.4.0)\n",
            "Requirement already satisfied: pygments in /usr/local/lib/python3.7/dist-packages (from ipython->spark-nlp-display) (2.6.1)\n",
            "Requirement already satisfied: prompt-toolkit<2.0.0,>=1.0.4 in /usr/local/lib/python3.7/dist-packages (from ipython->spark-nlp-display) (1.0.18)\n",
            "Requirement already satisfied: decorator in /usr/local/lib/python3.7/dist-packages (from ipython->spark-nlp-display) (4.4.2)\n",
            "Requirement already satisfied: pickleshare in /usr/local/lib/python3.7/dist-packages (from ipython->spark-nlp-display) (0.7.5)\n",
            "Requirement already satisfied: simplegeneric>0.8 in /usr/local/lib/python3.7/dist-packages (from ipython->spark-nlp-display) (0.8.1)\n",
            "Requirement already satisfied: pexpect in /usr/local/lib/python3.7/dist-packages (from ipython->spark-nlp-display) (4.8.0)\n",
            "Requirement already satisfied: traitlets>=4.2 in /usr/local/lib/python3.7/dist-packages (from ipython->spark-nlp-display) (5.1.1)\n",
            "Requirement already satisfied: wcwidth in /usr/local/lib/python3.7/dist-packages (from prompt-toolkit<2.0.0,>=1.0.4->ipython->spark-nlp-display) (0.2.5)\n",
            "Requirement already satisfied: six>=1.9.0 in /usr/local/lib/python3.7/dist-packages (from prompt-toolkit<2.0.0,>=1.0.4->ipython->spark-nlp-display) (1.15.0)\n",
            "Requirement already satisfied: pytz>=2017.2 in /usr/local/lib/python3.7/dist-packages (from pandas->spark-nlp-display) (2018.9)\n",
            "Requirement already satisfied: python-dateutil>=2.7.3 in /usr/local/lib/python3.7/dist-packages (from pandas->spark-nlp-display) (2.8.2)\n",
            "Requirement already satisfied: ptyprocess>=0.5 in /usr/local/lib/python3.7/dist-packages (from pexpect->ipython->spark-nlp-display) (0.7.0)\n",
            "Installing collected packages: svgwrite, spark-nlp-display\n",
            "Successfully installed spark-nlp-display-1.8 svgwrite-1.4\n"
          ]
        },
        {
          "output_type": "display_data",
          "data": {
            "text/html": [
              "\n",
              "<style>\n",
              "    @import url('https://fonts.googleapis.com/css2?family=Montserrat:wght@300;400;500;600;700&display=swap');\n",
              "    @import url('https://fonts.googleapis.com/css2?family=Vistol Regular:wght@300;400;500;600;700&display=swap');\n",
              "    \n",
              "    .spark-nlp-display-scroll-entities {\n",
              "        border: 1px solid #E7EDF0;\n",
              "        border-radius: 3px;\n",
              "        text-align: justify;\n",
              "        \n",
              "    }\n",
              "    .spark-nlp-display-scroll-entities span {  \n",
              "        font-size: 14px;\n",
              "        line-height: 24px;\n",
              "        color: #536B76;\n",
              "        font-family: 'Montserrat', sans-serif !important;\n",
              "    }\n",
              "    \n",
              "    .spark-nlp-display-entity-wrapper{\n",
              "    \n",
              "        display: inline-grid;\n",
              "        text-align: center;\n",
              "        border-radius: 4px;\n",
              "        margin: 0 2px 5px 2px;\n",
              "        padding: 1px\n",
              "    }\n",
              "    .spark-nlp-display-entity-name{\n",
              "        font-size: 14px;\n",
              "        line-height: 24px;\n",
              "        font-family: 'Montserrat', sans-serif !important;\n",
              "        \n",
              "        background: #f1f2f3;\n",
              "        border-width: medium;\n",
              "        text-align: center;\n",
              "        \n",
              "        font-weight: 400;\n",
              "        \n",
              "        border-radius: 5px;\n",
              "        padding: 2px 5px;\n",
              "        display: block;\n",
              "        margin: 3px 2px;\n",
              "    \n",
              "    }\n",
              "    .spark-nlp-display-entity-type{\n",
              "        font-size: 14px;\n",
              "        line-height: 24px;\n",
              "        color: #ffffff;\n",
              "        font-family: 'Montserrat', sans-serif !important;\n",
              "        \n",
              "        text-transform: uppercase;\n",
              "        \n",
              "        font-weight: 500;\n",
              "\n",
              "        display: block;\n",
              "        padding: 3px 5px;\n",
              "    }\n",
              "    \n",
              "    .spark-nlp-display-entity-resolution{\n",
              "        font-size: 14px;\n",
              "        line-height: 24px;\n",
              "        color: #ffffff;\n",
              "        font-family: 'Vistol Regular', sans-serif !important;\n",
              "        \n",
              "        text-transform: uppercase;\n",
              "        \n",
              "        font-weight: 500;\n",
              "\n",
              "        display: block;\n",
              "        padding: 3px 5px;\n",
              "    }\n",
              "    \n",
              "    .spark-nlp-display-others{\n",
              "        font-size: 14px;\n",
              "        line-height: 24px;\n",
              "        font-family: 'Montserrat', sans-serif !important;\n",
              "        \n",
              "        font-weight: 400;\n",
              "    }\n",
              "\n",
              "</style>\n",
              " <span class=\"spark-nlp-display-entity-wrapper\" style=\"background-color: #6C6F72\"><span class=\"spark-nlp-display-entity-name\">Donald Trump </span><span class=\"spark-nlp-display-entity-type\">PERSON</span></span><span class=\"spark-nlp-display-others\" style=\"background-color: white\"> from </span><span class=\"spark-nlp-display-entity-wrapper\" style=\"background-color: #2BB077\"><span class=\"spark-nlp-display-entity-name\">America </span><span class=\"spark-nlp-display-entity-type\">GPE</span></span><span class=\"spark-nlp-display-others\" style=\"background-color: white\"> and </span><span class=\"spark-nlp-display-entity-wrapper\" style=\"background-color: #6C6F72\"><span class=\"spark-nlp-display-entity-name\">Angela Merkel </span><span class=\"spark-nlp-display-entity-type\">PERSON</span></span><span class=\"spark-nlp-display-others\" style=\"background-color: white\"> from </span><span class=\"spark-nlp-display-entity-wrapper\" style=\"background-color: #2BB077\"><span class=\"spark-nlp-display-entity-name\">Germany </span><span class=\"spark-nlp-display-entity-type\">GPE</span></span><span class=\"spark-nlp-display-others\" style=\"background-color: white\"> don't share many oppinions.</span></div>"
            ],
            "text/plain": [
              "<IPython.core.display.HTML object>"
            ]
          },
          "metadata": {}
        }
      ]
    },
    {
      "cell_type": "code",
      "source": [
        "nlu.load('dep.typed').viz(\"Billy went to the mall\")\n"
      ],
      "metadata": {
        "colab": {
          "base_uri": "https://localhost:8080/",
          "height": 579
        },
        "id": "RyTzM4tFOCd9",
        "outputId": "b3ecd5df-89ea-44ff-8a02-ef7366986089"
      },
      "execution_count": 3,
      "outputs": [
        {
          "output_type": "stream",
          "name": "stdout",
          "text": [
            "dependency_typed_conllu download started this may take some time.\n",
            "Approximate size to download 2.3 MB\n",
            "[OK!]\n",
            "pos_anc download started this may take some time.\n",
            "Approximate size to download 3.9 MB\n",
            "[OK!]\n",
            "dependency_conllu download started this may take some time.\n",
            "Approximate size to download 16.7 MB\n",
            "[OK!]\n",
            "sentence_detector_dl download started this may take some time.\n",
            "Approximate size to download 354.6 KB\n",
            "[OK!]\n"
          ]
        },
        {
          "output_type": "display_data",
          "data": {
            "text/html": [
              "<svg baseProfile=\"full\" height=\"350\" version=\"1.1\" width=\"626\" xmlns=\"http://www.w3.org/2000/svg\" xmlns:ev=\"http://www.w3.org/2001/xml-events\" xmlns:xlink=\"http://www.w3.org/1999/xlink\"><defs><style type=\"text/css\"><![CDATA[@font-face{ \n",
              "    font-family: \"Lucida\"; \n",
              "    src: url(\"data:application/x-font-ttf;charset=utf-8;base64,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\"); \n",
              "}\n",
              "]]></style></defs><text fill=\"gray\" font-family=\"Lucida\" font-size=\"20\" x=\"50\" y=\"250\">Billy</text><text fill=\"#AE1783\" font-size=\"14\" x=\"65\" y=\"280\">NNP</text><text fill=\"gray\" font-family=\"Lucida\" font-size=\"20\" x=\"172\" y=\"250\">went</text><rect fill=\"none\" height=\"35\" rx=\"5\" ry=\"5\" stroke=\"#800080\" stroke-width=\"1\" width=\"60\" x=\"167\" y=\"225\" /><text fill=\"#3C8596\" font-size=\"14\" x=\"181\" y=\"280\">VBD</text><text fill=\"gray\" font-family=\"Lucida\" font-size=\"20\" x=\"282\" y=\"250\">to</text><text fill=\"#345063\" font-size=\"14\" x=\"284\" y=\"280\">TO</text><text fill=\"gray\" font-family=\"Lucida\" font-size=\"20\" x=\"368\" y=\"250\">the</text><text fill=\"#237144\" font-size=\"14\" x=\"376\" y=\"280\">DT</text><text fill=\"gray\" font-family=\"Lucida\" font-size=\"20\" x=\"466\" y=\"250\">mall</text><text fill=\"#1B8014\" font-size=\"14\" x=\"480\" y=\"280\">NN</text><polyline fill=\"none\" points=\"392,220 394,220 392,224 390,220 392,220\" stroke=\"black\" stroke-width=\"2\" /><path d=\"M485,224 v-64 a10,10 0 0 0 -10,-10 h-73 a10,10 0 0 0 -10 10 v60\" fill=\"none\" stroke=\"black\" stroke-width=\"1\" /><text fill=\"#A342A4\" font-family=\"Lucida\" font-size=\"14\" x=\"414.5\" y=\"146\">nsubj</text><polyline fill=\"none\" points=\"86,220 88,220 86,224 84,220 86,220\" stroke=\"black\" stroke-width=\"2\" /><path d=\"M195,224 v-64 a10,10 0 0 0 -10,-10 h-89 a10,10 0 0 0 -10 10 v60\" fill=\"none\" stroke=\"black\" stroke-width=\"1\" /><text fill=\"#A342A4\" font-family=\"Lucida\" font-size=\"14\" x=\"116.5\" y=\"146\">nsubj</text><polyline fill=\"none\" points=\"300,220 302,220 300,224 298,220 300,220\" stroke=\"black\" stroke-width=\"2\" /><path d=\"M492,224 v-114 a10,10 0 0 0 -10,-10 h-172 a10,10 0 0 0 -10 10 v110\" fill=\"none\" stroke=\"black\" stroke-width=\"1\" /><text fill=\"#C348B6\" font-family=\"Lucida\" font-size=\"14\" x=\"376.0\" y=\"96\">mark</text><polyline fill=\"none\" points=\"499,220 501,220 499,224 497,220 499,220\" stroke=\"black\" stroke-width=\"2\" /><path d=\"M202,224 v-164 a10,10 0 0 1 10,-10 h277 a10,10 0 0 1 10,10 v160\" fill=\"none\" stroke=\"black\" stroke-width=\"1\" /><text fill=\"#A342A4\" font-family=\"Lucida\" font-size=\"14\" x=\"326.5\" y=\"46\">nsubj</text></svg>"
            ],
            "text/plain": [
              "<IPython.core.display.HTML object>"
            ]
          },
          "metadata": {}
        }
      ]
    },
    {
      "cell_type": "markdown",
      "source": [
        "# **Detect Fake news**\n",
        "\n",
        "https://nlu.johnsnowlabs.com/docs/en/install"
      ],
      "metadata": {
        "id": "fAdJZzYsBhr6"
      }
    },
    {
      "cell_type": "code",
      "execution_count": 4,
      "metadata": {
        "colab": {
          "base_uri": "https://localhost:8080/"
        },
        "id": "L2FczhpSBTjX",
        "outputId": "4b5f8b4c-f9ab-458e-da27-82da85c7922e"
      },
      "outputs": [
        {
          "output_type": "stream",
          "name": "stdout",
          "text": [
            "classifierdl_use_fakenews download started this may take some time.\n",
            "Approximate size to download 21.4 MB\n",
            "[OK!]\n",
            "tfhub_use download started this may take some time.\n",
            "Approximate size to download 923.7 MB\n",
            "[OK!]\n",
            "sentence_detector_dl download started this may take some time.\n",
            "Approximate size to download 354.6 KB\n",
            "[OK!]\n"
          ]
        }
      ],
      "source": [
        "import nlu\n",
        "news_pipe = nlu.load('en.classify.fakenews')\n",
        "news =['Unicorns have been sighted on Mars!', '5G and Bill Gates cause COVID', 'Trump to Visit California After Criticism Over Silence on Wildfires' ]\n",
        "pred = news_pipe.predict(news)"
      ]
    },
    {
      "cell_type": "code",
      "source": [
        "print(pred)"
      ],
      "metadata": {
        "colab": {
          "base_uri": "https://localhost:8080/"
        },
        "id": "tKRPSAEGO_CW",
        "outputId": "88b2ada4-5369-4e4f-cc18-67ea1710c2f1"
      },
      "execution_count": 5,
      "outputs": [
        {
          "output_type": "stream",
          "name": "stdout",
          "text": [
            "  fakenews  ...                                           sentence\n",
            "0     FAKE  ...                Unicorns have been sighted on Mars!\n",
            "1     FAKE  ...                      5G and Bill Gates cause COVID\n",
            "2     FAKE  ...  Trump to Visit California After Criticism Over...\n",
            "\n",
            "[3 rows x 3 columns]\n"
          ]
        }
      ]
    },
    {
      "cell_type": "code",
      "source": [
        "news_pipe.print_info()"
      ],
      "metadata": {
        "colab": {
          "base_uri": "https://localhost:8080/"
        },
        "id": "6526SRmFPBzg",
        "outputId": "1d1f0400-aa1f-4f14-f2fa-01b0ce05e385"
      },
      "execution_count": 6,
      "outputs": [
        {
          "output_type": "stream",
          "name": "stdout",
          "text": [
            "The following parameters are configurable for this NLU pipeline (You can copy paste the examples) :\n",
            ">>> pipe['classifier_dl@tfhub_use'] has settable params:\n",
            "pipe['classifier_dl@tfhub_use'].setClasses(['FAKE', 'REAL'])  | Info: get the tags used to trained this ClassifierDLModel | Currently set to : ['FAKE', 'REAL']\n",
            "pipe['classifier_dl@tfhub_use'].setStorageRef('tfhub_use')  | Info: unique reference name for identification | Currently set to : tfhub_use\n",
            ">>> pipe['use@tfhub_use'] has settable params:\n",
            "pipe['use@tfhub_use'].setDimension(512)              | Info: Number of embedding dimensions | Currently set to : 512\n",
            "pipe['use@tfhub_use'].setLoadSP(False)               | Info: Whether to load SentencePiece ops file which is required only by multi-lingual models. This is not changeable after it's set with a pretrained model nor it is compatible with Windows. | Currently set to : False\n",
            "pipe['use@tfhub_use'].setStorageRef('tfhub_use')     | Info: unique reference name for identification | Currently set to : tfhub_use\n",
            ">>> pipe['deep_sentence_detector@SentenceDetectorDLModel_c83c27f46b97'] has settable params:\n",
            "pipe['deep_sentence_detector@SentenceDetectorDLModel_c83c27f46b97'].setExplodeSentences(False)  | Info: whether to explode each sentence into a different row, for better parallelization. Defaults to false. | Currently set to : False\n",
            "pipe['deep_sentence_detector@SentenceDetectorDLModel_c83c27f46b97'].setStorageRef('SentenceDetectorDLModel_c83c27f46b97')  | Info: storage unique identifier | Currently set to : SentenceDetectorDLModel_c83c27f46b97\n",
            "pipe['deep_sentence_detector@SentenceDetectorDLModel_c83c27f46b97'].setEncoder(com.johnsnowlabs.nlp.annotators.sentence_detector_dl.SentenceDetectorDLEncoder@5b10e1ce)  | Info: Data encoder | Currently set to : com.johnsnowlabs.nlp.annotators.sentence_detector_dl.SentenceDetectorDLEncoder@5b10e1ce\n",
            "pipe['deep_sentence_detector@SentenceDetectorDLModel_c83c27f46b97'].setImpossiblePenultimates(['Bros', 'No', 'al', 'vs', 'etc', 'Fig', 'Dr', 'Prof', 'PhD', 'MD', 'Co', 'Corp', 'Inc', 'bros', 'VS', 'Vs', 'ETC', 'fig', 'dr', 'prof', 'PHD', 'phd', 'md', 'co', 'corp', 'inc', 'Jan', 'Feb', 'Mar', 'Apr', 'Jul', 'Aug', 'Sep', 'Sept', 'Oct', 'Nov', 'Dec', 'St', 'st', 'AM', 'PM', 'am', 'pm', 'e.g', 'f.e', 'i.e'])  | Info: Impossible penultimates | Currently set to : ['Bros', 'No', 'al', 'vs', 'etc', 'Fig', 'Dr', 'Prof', 'PhD', 'MD', 'Co', 'Corp', 'Inc', 'bros', 'VS', 'Vs', 'ETC', 'fig', 'dr', 'prof', 'PHD', 'phd', 'md', 'co', 'corp', 'inc', 'Jan', 'Feb', 'Mar', 'Apr', 'Jul', 'Aug', 'Sep', 'Sept', 'Oct', 'Nov', 'Dec', 'St', 'st', 'AM', 'PM', 'am', 'pm', 'e.g', 'f.e', 'i.e']\n",
            "pipe['deep_sentence_detector@SentenceDetectorDLModel_c83c27f46b97'].setModelArchitecture('cnn')  | Info: Model architecture (CNN) | Currently set to : cnn\n",
            ">>> pipe['document_assembler'] has settable params:\n",
            "pipe['document_assembler'].setCleanupMode('shrink')  | Info: possible values: disabled, inplace, inplace_full, shrink, shrink_full, each, each_full, delete_full | Currently set to : shrink\n"
          ]
        }
      ]
    },
    {
      "cell_type": "code",
      "source": [
        "news =['''To strengthen its presence in the EV market, Tata Motors has formed a new entity called Tata Passenger Electric Mobility Limited (TPEML). Incorporated with an initial capital of 700 crore, the new subsidiary of the Indian carmaker received its Certificate of Incorporation from the Ministry of Corporate Affairs on 21 December, 2021. ,\n",
        "Kerala Police To Book Social Media Admins Spreading Hate,\n",
        "The Union Ministry of Civil Aviation (MoCA) on Thursday issued fresh guidelines for domestic and international passengers travelling to Delhi amid surge in Omicron cases. MoCA asked all passengers to go through latest state-wise quarantine norms and take all precautionary measures,\n",
        "''' ]\n",
        "pred = news_pipe.predict(news)\n",
        "print(pred)"
      ],
      "metadata": {
        "colab": {
          "base_uri": "https://localhost:8080/"
        },
        "id": "-YIw17HhPIAs",
        "outputId": "8e802349-52aa-4f3e-ee02-735c8871a509"
      },
      "execution_count": 7,
      "outputs": [
        {
          "output_type": "stream",
          "name": "stdout",
          "text": [
            "  fakenews  ...                                           sentence\n",
            "0     FAKE  ...  To strengthen its presence in the EV market, T...\n",
            "0     FAKE  ...  Incorporated with an initial capital of 700 cr...\n",
            "0     FAKE  ...   MoCA asked all passengers to go through lates...\n",
            "\n",
            "[3 rows x 3 columns]\n"
          ]
        }
      ]
    },
    {
      "cell_type": "code",
      "source": [
        "news_pipe = nlu.load('en.classify.fakenews')\n",
        "news =['World witnessing fourth Covid surge', 'Pakistani terror groups continue to target Kashmir, data reveals how', 'DRDO successfully tests Pralay missile for second day in a row', 'Delmicron chatter while world faces Omicron threat. Is it even a thing?']\n",
        "pred=news_pipe.predict(news)\n",
        "print(pred)"
      ],
      "metadata": {
        "colab": {
          "base_uri": "https://localhost:8080/"
        },
        "id": "Iz1hT7hQPU_O",
        "outputId": "78c94fa7-ee01-4667-e945-32c577b25205"
      },
      "execution_count": 8,
      "outputs": [
        {
          "output_type": "stream",
          "name": "stdout",
          "text": [
            "classifierdl_use_fakenews download started this may take some time.\n",
            "Approximate size to download 21.4 MB\n",
            "[OK!]\n",
            "tfhub_use download started this may take some time.\n",
            "Approximate size to download 923.7 MB\n",
            "[OK!]\n",
            "sentence_detector_dl download started this may take some time.\n",
            "Approximate size to download 354.6 KB\n",
            "[OK!]\n",
            "  fakenews  ...                                           sentence\n",
            "0     FAKE  ...                World witnessing fourth Covid surge\n",
            "1     FAKE  ...  Pakistani terror groups continue to target Kas...\n",
            "2     FAKE  ...  DRDO successfully tests Pralay missile for sec...\n",
            "3     FAKE  ...  Delmicron chatter while world faces Omicron th...\n",
            "3     FAKE  ...                                Is it even a thing?\n",
            "\n",
            "[5 rows x 3 columns]\n"
          ]
        }
      ]
    },
    {
      "cell_type": "code",
      "source": [
        "news_pipe  = nlu.load('en.classify.spam')\n",
        "news_pipe.predict(['Please sign up for this FREE membership it costs $$NO MONEY$$ just your mobile number!', 'Order our AMAZING product now, instant weight loss and hair gain!', 'Bill please be at the meeeting in the lunch room at 2PM.'])"
      ],
      "metadata": {
        "colab": {
          "base_uri": "https://localhost:8080/",
          "height": 299
        },
        "id": "bEIV3oYFPaHT",
        "outputId": "e9567579-5b0e-4901-d7b0-667659454afe"
      },
      "execution_count": 9,
      "outputs": [
        {
          "output_type": "stream",
          "name": "stdout",
          "text": [
            "classifierdl_use_spam download started this may take some time.\n",
            "Approximate size to download 21.3 MB\n",
            "[OK!]\n",
            "tfhub_use download started this may take some time.\n",
            "Approximate size to download 923.7 MB\n",
            "[OK!]\n",
            "sentence_detector_dl download started this may take some time.\n",
            "Approximate size to download 354.6 KB\n",
            "[OK!]\n"
          ]
        },
        {
          "output_type": "execute_result",
          "data": {
            "text/html": [
              "\n",
              "  <div id=\"df-46cd86e3-bcf3-4cf6-b6c4-88a0a1bed68e\">\n",
              "    <div class=\"colab-df-container\">\n",
              "      <div>\n",
              "<style scoped>\n",
              "    .dataframe tbody tr th:only-of-type {\n",
              "        vertical-align: middle;\n",
              "    }\n",
              "\n",
              "    .dataframe tbody tr th {\n",
              "        vertical-align: top;\n",
              "    }\n",
              "\n",
              "    .dataframe thead th {\n",
              "        text-align: right;\n",
              "    }\n",
              "</style>\n",
              "<table border=\"1\" class=\"dataframe\">\n",
              "  <thead>\n",
              "    <tr style=\"text-align: right;\">\n",
              "      <th></th>\n",
              "      <th>sentence</th>\n",
              "      <th>spam</th>\n",
              "      <th>spam_confidence_confidence</th>\n",
              "    </tr>\n",
              "  </thead>\n",
              "  <tbody>\n",
              "    <tr>\n",
              "      <th>0</th>\n",
              "      <td>Please sign up for this FREE membership it cos...</td>\n",
              "      <td>spam</td>\n",
              "      <td>1</td>\n",
              "    </tr>\n",
              "    <tr>\n",
              "      <th>1</th>\n",
              "      <td>Order our AMAZING product now, instant weight ...</td>\n",
              "      <td>spam</td>\n",
              "      <td>0.999979</td>\n",
              "    </tr>\n",
              "    <tr>\n",
              "      <th>2</th>\n",
              "      <td>Bill please be at the meeeting in the lunch ro...</td>\n",
              "      <td>ham</td>\n",
              "      <td>1</td>\n",
              "    </tr>\n",
              "  </tbody>\n",
              "</table>\n",
              "</div>\n",
              "      <button class=\"colab-df-convert\" onclick=\"convertToInteractive('df-46cd86e3-bcf3-4cf6-b6c4-88a0a1bed68e')\"\n",
              "              title=\"Convert this dataframe to an interactive table.\"\n",
              "              style=\"display:none;\">\n",
              "        \n",
              "  <svg xmlns=\"http://www.w3.org/2000/svg\" height=\"24px\"viewBox=\"0 0 24 24\"\n",
              "       width=\"24px\">\n",
              "    <path d=\"M0 0h24v24H0V0z\" fill=\"none\"/>\n",
              "    <path d=\"M18.56 5.44l.94 2.06.94-2.06 2.06-.94-2.06-.94-.94-2.06-.94 2.06-2.06.94zm-11 1L8.5 8.5l.94-2.06 2.06-.94-2.06-.94L8.5 2.5l-.94 2.06-2.06.94zm10 10l.94 2.06.94-2.06 2.06-.94-2.06-.94-.94-2.06-.94 2.06-2.06.94z\"/><path d=\"M17.41 7.96l-1.37-1.37c-.4-.4-.92-.59-1.43-.59-.52 0-1.04.2-1.43.59L10.3 9.45l-7.72 7.72c-.78.78-.78 2.05 0 2.83L4 21.41c.39.39.9.59 1.41.59.51 0 1.02-.2 1.41-.59l7.78-7.78 2.81-2.81c.8-.78.8-2.07 0-2.86zM5.41 20L4 18.59l7.72-7.72 1.47 1.35L5.41 20z\"/>\n",
              "  </svg>\n",
              "      </button>\n",
              "      \n",
              "  <style>\n",
              "    .colab-df-container {\n",
              "      display:flex;\n",
              "      flex-wrap:wrap;\n",
              "      gap: 12px;\n",
              "    }\n",
              "\n",
              "    .colab-df-convert {\n",
              "      background-color: #E8F0FE;\n",
              "      border: none;\n",
              "      border-radius: 50%;\n",
              "      cursor: pointer;\n",
              "      display: none;\n",
              "      fill: #1967D2;\n",
              "      height: 32px;\n",
              "      padding: 0 0 0 0;\n",
              "      width: 32px;\n",
              "    }\n",
              "\n",
              "    .colab-df-convert:hover {\n",
              "      background-color: #E2EBFA;\n",
              "      box-shadow: 0px 1px 2px rgba(60, 64, 67, 0.3), 0px 1px 3px 1px rgba(60, 64, 67, 0.15);\n",
              "      fill: #174EA6;\n",
              "    }\n",
              "\n",
              "    [theme=dark] .colab-df-convert {\n",
              "      background-color: #3B4455;\n",
              "      fill: #D2E3FC;\n",
              "    }\n",
              "\n",
              "    [theme=dark] .colab-df-convert:hover {\n",
              "      background-color: #434B5C;\n",
              "      box-shadow: 0px 1px 3px 1px rgba(0, 0, 0, 0.15);\n",
              "      filter: drop-shadow(0px 1px 2px rgba(0, 0, 0, 0.3));\n",
              "      fill: #FFFFFF;\n",
              "    }\n",
              "  </style>\n",
              "\n",
              "      <script>\n",
              "        const buttonEl =\n",
              "          document.querySelector('#df-46cd86e3-bcf3-4cf6-b6c4-88a0a1bed68e button.colab-df-convert');\n",
              "        buttonEl.style.display =\n",
              "          google.colab.kernel.accessAllowed ? 'block' : 'none';\n",
              "\n",
              "        async function convertToInteractive(key) {\n",
              "          const element = document.querySelector('#df-46cd86e3-bcf3-4cf6-b6c4-88a0a1bed68e');\n",
              "          const dataTable =\n",
              "            await google.colab.kernel.invokeFunction('convertToInteractive',\n",
              "                                                     [key], {});\n",
              "          if (!dataTable) return;\n",
              "\n",
              "          const docLinkHtml = 'Like what you see? Visit the ' +\n",
              "            '<a target=\"_blank\" href=https://colab.research.google.com/notebooks/data_table.ipynb>data table notebook</a>'\n",
              "            + ' to learn more about interactive tables.';\n",
              "          element.innerHTML = '';\n",
              "          dataTable['output_type'] = 'display_data';\n",
              "          await google.colab.output.renderOutput(dataTable, element);\n",
              "          const docLink = document.createElement('div');\n",
              "          docLink.innerHTML = docLinkHtml;\n",
              "          element.appendChild(docLink);\n",
              "        }\n",
              "      </script>\n",
              "    </div>\n",
              "  </div>\n",
              "  "
            ],
            "text/plain": [
              "                                            sentence  ... spam_confidence_confidence\n",
              "0  Please sign up for this FREE membership it cos...  ...                          1\n",
              "1  Order our AMAZING product now, instant weight ...  ...                   0.999979\n",
              "2  Bill please be at the meeeting in the lunch ro...  ...                          1\n",
              "\n",
              "[3 rows x 3 columns]"
            ]
          },
          "metadata": {},
          "execution_count": 9
        }
      ]
    },
    {
      "cell_type": "code",
      "source": [
        "import nlu\n",
        "lang_pipe  = nlu.load('lang')\n",
        "txt=['Welcome to coding','कोडिंग में आपका स्वागत है','కోడింగ్‌కు స్వాగతం','குறியீட்டுக்கு வரவேற்கிறோம்','کوڈنگ میں خوش آمدید']\n",
        "lang_pipe.predict(txt)"
      ],
      "metadata": {
        "colab": {
          "base_uri": "https://localhost:8080/",
          "height": 258
        },
        "id": "nCz0XIloPmVY",
        "outputId": "2761fd48-563b-4389-f00a-0df9624e5e4a"
      },
      "execution_count": 11,
      "outputs": [
        {
          "output_type": "stream",
          "name": "stdout",
          "text": [
            "detect_language_375 download started this may take some time.\n",
            "Approx size to download 9.4 MB\n",
            "[OK!]\n"
          ]
        },
        {
          "output_type": "execute_result",
          "data": {
            "text/html": [
              "\n",
              "  <div id=\"df-72e61f5e-edcf-4498-b459-5aec38c36a7a\">\n",
              "    <div class=\"colab-df-container\">\n",
              "      <div>\n",
              "<style scoped>\n",
              "    .dataframe tbody tr th:only-of-type {\n",
              "        vertical-align: middle;\n",
              "    }\n",
              "\n",
              "    .dataframe tbody tr th {\n",
              "        vertical-align: top;\n",
              "    }\n",
              "\n",
              "    .dataframe thead th {\n",
              "        text-align: right;\n",
              "    }\n",
              "</style>\n",
              "<table border=\"1\" class=\"dataframe\">\n",
              "  <thead>\n",
              "    <tr style=\"text-align: right;\">\n",
              "      <th></th>\n",
              "      <th>language_results</th>\n",
              "      <th>meta_language_confidence</th>\n",
              "      <th>sentence</th>\n",
              "    </tr>\n",
              "  </thead>\n",
              "  <tbody>\n",
              "    <tr>\n",
              "      <th>0</th>\n",
              "      <td>en</td>\n",
              "      <td>0.999825</td>\n",
              "      <td>Welcome to coding</td>\n",
              "    </tr>\n",
              "    <tr>\n",
              "      <th>1</th>\n",
              "      <td>hi</td>\n",
              "      <td>1.000000</td>\n",
              "      <td>कोडिंग में आपका स्वागत है</td>\n",
              "    </tr>\n",
              "    <tr>\n",
              "      <th>2</th>\n",
              "      <td>te</td>\n",
              "      <td>1.000000</td>\n",
              "      <td>కోడింగ్‌కు స్వాగతం</td>\n",
              "    </tr>\n",
              "    <tr>\n",
              "      <th>3</th>\n",
              "      <td>ta</td>\n",
              "      <td>1.000000</td>\n",
              "      <td>குறியீட்டுக்கு வரவேற்கிறோம்</td>\n",
              "    </tr>\n",
              "    <tr>\n",
              "      <th>4</th>\n",
              "      <td>fa</td>\n",
              "      <td>0.792728</td>\n",
              "      <td>کوڈنگ میں خوش آمدید</td>\n",
              "    </tr>\n",
              "  </tbody>\n",
              "</table>\n",
              "</div>\n",
              "      <button class=\"colab-df-convert\" onclick=\"convertToInteractive('df-72e61f5e-edcf-4498-b459-5aec38c36a7a')\"\n",
              "              title=\"Convert this dataframe to an interactive table.\"\n",
              "              style=\"display:none;\">\n",
              "        \n",
              "  <svg xmlns=\"http://www.w3.org/2000/svg\" height=\"24px\"viewBox=\"0 0 24 24\"\n",
              "       width=\"24px\">\n",
              "    <path d=\"M0 0h24v24H0V0z\" fill=\"none\"/>\n",
              "    <path d=\"M18.56 5.44l.94 2.06.94-2.06 2.06-.94-2.06-.94-.94-2.06-.94 2.06-2.06.94zm-11 1L8.5 8.5l.94-2.06 2.06-.94-2.06-.94L8.5 2.5l-.94 2.06-2.06.94zm10 10l.94 2.06.94-2.06 2.06-.94-2.06-.94-.94-2.06-.94 2.06-2.06.94z\"/><path d=\"M17.41 7.96l-1.37-1.37c-.4-.4-.92-.59-1.43-.59-.52 0-1.04.2-1.43.59L10.3 9.45l-7.72 7.72c-.78.78-.78 2.05 0 2.83L4 21.41c.39.39.9.59 1.41.59.51 0 1.02-.2 1.41-.59l7.78-7.78 2.81-2.81c.8-.78.8-2.07 0-2.86zM5.41 20L4 18.59l7.72-7.72 1.47 1.35L5.41 20z\"/>\n",
              "  </svg>\n",
              "      </button>\n",
              "      \n",
              "  <style>\n",
              "    .colab-df-container {\n",
              "      display:flex;\n",
              "      flex-wrap:wrap;\n",
              "      gap: 12px;\n",
              "    }\n",
              "\n",
              "    .colab-df-convert {\n",
              "      background-color: #E8F0FE;\n",
              "      border: none;\n",
              "      border-radius: 50%;\n",
              "      cursor: pointer;\n",
              "      display: none;\n",
              "      fill: #1967D2;\n",
              "      height: 32px;\n",
              "      padding: 0 0 0 0;\n",
              "      width: 32px;\n",
              "    }\n",
              "\n",
              "    .colab-df-convert:hover {\n",
              "      background-color: #E2EBFA;\n",
              "      box-shadow: 0px 1px 2px rgba(60, 64, 67, 0.3), 0px 1px 3px 1px rgba(60, 64, 67, 0.15);\n",
              "      fill: #174EA6;\n",
              "    }\n",
              "\n",
              "    [theme=dark] .colab-df-convert {\n",
              "      background-color: #3B4455;\n",
              "      fill: #D2E3FC;\n",
              "    }\n",
              "\n",
              "    [theme=dark] .colab-df-convert:hover {\n",
              "      background-color: #434B5C;\n",
              "      box-shadow: 0px 1px 3px 1px rgba(0, 0, 0, 0.15);\n",
              "      filter: drop-shadow(0px 1px 2px rgba(0, 0, 0, 0.3));\n",
              "      fill: #FFFFFF;\n",
              "    }\n",
              "  </style>\n",
              "\n",
              "      <script>\n",
              "        const buttonEl =\n",
              "          document.querySelector('#df-72e61f5e-edcf-4498-b459-5aec38c36a7a button.colab-df-convert');\n",
              "        buttonEl.style.display =\n",
              "          google.colab.kernel.accessAllowed ? 'block' : 'none';\n",
              "\n",
              "        async function convertToInteractive(key) {\n",
              "          const element = document.querySelector('#df-72e61f5e-edcf-4498-b459-5aec38c36a7a');\n",
              "          const dataTable =\n",
              "            await google.colab.kernel.invokeFunction('convertToInteractive',\n",
              "                                                     [key], {});\n",
              "          if (!dataTable) return;\n",
              "\n",
              "          const docLinkHtml = 'Like what you see? Visit the ' +\n",
              "            '<a target=\"_blank\" href=https://colab.research.google.com/notebooks/data_table.ipynb>data table notebook</a>'\n",
              "            + ' to learn more about interactive tables.';\n",
              "          element.innerHTML = '';\n",
              "          dataTable['output_type'] = 'display_data';\n",
              "          await google.colab.output.renderOutput(dataTable, element);\n",
              "          const docLink = document.createElement('div');\n",
              "          docLink.innerHTML = docLinkHtml;\n",
              "          element.appendChild(docLink);\n",
              "        }\n",
              "      </script>\n",
              "    </div>\n",
              "  </div>\n",
              "  "
            ],
            "text/plain": [
              "  language_results  meta_language_confidence                     sentence\n",
              "0               en                  0.999825            Welcome to coding\n",
              "1               hi                  1.000000    कोडिंग में आपका स्वागत है\n",
              "2               te                  1.000000           కోడింగ్‌కు స్వాగతం\n",
              "3               ta                  1.000000  குறியீட்டுக்கு வரவேற்கிறோம்\n",
              "4               fa                  0.792728          کوڈنگ میں خوش آمدید"
            ]
          },
          "metadata": {},
          "execution_count": 11
        }
      ]
    },
    {
      "cell_type": "markdown",
      "source": [
        "https://reposhub.com/python/natural-language-processing/JohnSnowLabs-nlu.html#google_vignette"
      ],
      "metadata": {
        "id": "-yKrmACwP_VP"
      }
    }
  ]
}