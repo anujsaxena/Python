{
  "nbformat": 4,
  "nbformat_minor": 0,
  "metadata": {
    "colab": {
      "name": "String_fn.ipynb",
      "provenance": [],
      "collapsed_sections": [],
      "authorship_tag": "ABX9TyNNo1YPOPKu0crNo0gIO1Q3",
      "include_colab_link": true
    },
    "kernelspec": {
      "name": "python3",
      "display_name": "Python 3"
    },
    "language_info": {
      "name": "python"
    }
  },
  "cells": [
    {
      "cell_type": "markdown",
      "metadata": {
        "id": "view-in-github",
        "colab_type": "text"
      },
      "source": [
        "<a href=\"https://colab.research.google.com/github/anujsaxena/Python/blob/main/String_fn.ipynb\" target=\"_parent\"><img src=\"https://colab.research.google.com/assets/colab-badge.svg\" alt=\"Open In Colab\"/></a>"
      ]
    },
    {
      "cell_type": "markdown",
      "metadata": {
        "id": "2dJWhN0Lb-mz"
      },
      "source": [
        "# **String Functions**"
      ]
    },
    {
      "cell_type": "code",
      "metadata": {
        "id": "UV1KDI-kcOQa"
      },
      "source": [
        "str = \"welcome to the world of computing\"\n",
        "cstr = str.capitalize()\n",
        "print(\"Original string: {}\".format(str))\n",
        "print(\"Capitalized string: {}\".format(cstr))"
      ],
      "execution_count": null,
      "outputs": []
    },
    {
      "cell_type": "code",
      "metadata": {
        "id": "T6m-ebXNcyuA"
      },
      "source": [
        "str = \"welcome to the world of computing. we are working on string functions\"\n",
        "cstr = str.capitalize()\n",
        "print(\"Original string: {}\".format(str))\n",
        "print(\"Capitalized string: {}\".format(cstr))"
      ],
      "execution_count": null,
      "outputs": []
    },
    {
      "cell_type": "code",
      "metadata": {
        "id": "l4CT2X02c_M3"
      },
      "source": [
        "str = \"#welcome to the world of computing. we are working on string functions\"\n",
        "cstr = str.capitalize()\n",
        "print(\"Original string: {}\".format(str))\n",
        "print(\"Capitalized string: {}\".format(cstr))"
      ],
      "execution_count": null,
      "outputs": []
    },
    {
      "cell_type": "markdown",
      "metadata": {
        "id": "NDXEtS-FdLbg"
      },
      "source": [
        "# **Center**\n",
        "The function is used to center the text. Centring depends on the number of character given as the parameters."
      ]
    },
    {
      "cell_type": "code",
      "metadata": {
        "id": "EKlbEFrJdO4l"
      },
      "source": [
        "str = \"python is awesome\" \n",
        "new_string = str.center(24) \n",
        "print(len(str)) \n",
        "print(len(new_string)) \n",
        "print(str) \n",
        "print(new_string) "
      ],
      "execution_count": null,
      "outputs": []
    },
    {
      "cell_type": "code",
      "metadata": {
        "id": "11_chVIGdbCh"
      },
      "source": [
        "str = \"python is awesome\" \n",
        "new_string = str.center(19) \n",
        "print(len(str)) \n",
        "print(len(new_string)) \n",
        "print(str) \n",
        "print(new_string) "
      ],
      "execution_count": null,
      "outputs": []
    },
    {
      "cell_type": "code",
      "metadata": {
        "id": "YEo1b2izdgRO"
      },
      "source": [
        "str = \"python is awesome\" \n",
        "new_string = str.center(80) \n",
        "print(len(str)) \n",
        "print(len(new_string)) \n",
        "print(str) \n",
        "print(new_string) "
      ],
      "execution_count": null,
      "outputs": []
    },
    {
      "cell_type": "code",
      "metadata": {
        "id": "eoX0mMNhdoUf"
      },
      "source": [
        "str = \"python is awesome\" \n",
        "new_string = str.center(80,'*') \n",
        "print(len(str)) \n",
        "print(len(new_string)) \n",
        "print(str) \n",
        "print(new_string) "
      ],
      "execution_count": null,
      "outputs": []
    },
    {
      "cell_type": "markdown",
      "metadata": {
        "id": "kk6Dg08hee3I"
      },
      "source": [
        "# **Casefold**\n",
        "Convert the text to lower case"
      ]
    },
    {
      "cell_type": "code",
      "metadata": {
        "id": "fiO2aF7Cdx6x"
      },
      "source": [
        "s = \"Welcome to the World of Computing. We are Working on String Functions\"\n",
        "cstr = s.casefold()\n",
        "print(\"Original string: {}\".format(s))\n",
        "print(\"Casefold string: {}\".format(cstr))"
      ],
      "execution_count": null,
      "outputs": []
    },
    {
      "cell_type": "markdown",
      "metadata": {
        "id": "KZBkHmKgeqX1"
      },
      "source": [
        "# **Count**\n",
        "Returns number of times subtring appears in a string"
      ]
    },
    {
      "cell_type": "code",
      "metadata": {
        "id": "cYuZT-Swepxh"
      },
      "source": [
        "s = \"Welcome to the World of Computing. We are Working on String Functions\"\n",
        "cstr = s.count(\"World\")\n",
        "print(\"Original string: {}\".format(s))\n",
        "print(\"Count string: {}\".format(cstr))"
      ],
      "execution_count": null,
      "outputs": []
    },
    {
      "cell_type": "code",
      "metadata": {
        "id": "Shqw1oMyfdKC"
      },
      "source": [
        "s = \"football hockey cricket football hockey football cricket football\"\n",
        "cstr = s.count(\"football\")\n",
        "print(\"Original string: {}\".format(s))\n",
        "print(\"Count string: {}\".format(cstr))"
      ],
      "execution_count": null,
      "outputs": []
    },
    {
      "cell_type": "markdown",
      "metadata": {
        "id": "wxe80QbMfzO1"
      },
      "source": [
        "# **endswith**()\n",
        "The function examines a string to see whether it contains the string specified in the argument (parenthesis)."
      ]
    },
    {
      "cell_type": "code",
      "metadata": {
        "id": "gibRx4OvfubY"
      },
      "source": [
        "s=\"football\"\n",
        "c = s.endswith(\"ball\")\n",
        "print(c)"
      ],
      "execution_count": null,
      "outputs": []
    },
    {
      "cell_type": "code",
      "metadata": {
        "id": "5FaXkXUagEBL"
      },
      "source": [
        "s = \"football hockey cricket football hockey football cricket football\"\n",
        "c= s.endswith(\"football\")\n",
        "print(c)\n",
        "c= s.endswith(\"ball\")\n",
        "print(c)"
      ],
      "execution_count": null,
      "outputs": []
    },
    {
      "cell_type": "code",
      "metadata": {
        "id": "WJrdoI65gcqz"
      },
      "source": [
        "s = \"football hockey cricket football hockey football cricket football.\"\n",
        "c= s.endswith(\"football\")\n",
        "print(c)"
      ],
      "execution_count": null,
      "outputs": []
    },
    {
      "cell_type": "code",
      "metadata": {
        "id": "REmG3po8gqaG"
      },
      "source": [
        "s = \"football hockey cricket football hockey football cricket football \"\n",
        "c= s.endswith(\"football\")\n",
        "print(c)"
      ],
      "execution_count": null,
      "outputs": []
    },
    {
      "cell_type": "markdown",
      "metadata": {
        "id": "o0MMNIsPg2xn"
      },
      "source": [
        "# **expandtabs()**\n",
        "\n",
        "The function expands the escape sequences if present in a text. escape sequences are:\n",
        "\n",
        "\\t : tab\n",
        "\n",
        "\\n : new line\n",
        "\n",
        "\\r : carriage return\n",
        "\n",
        "\\b : backspace\n",
        "\n",
        "\\f : formfeed\n",
        "\n",
        "\\ooo : octal value\n",
        "\n",
        "\\' : single quote\n",
        "\n",
        "\\\\ : backslash\n",
        "\n",
        "\\uxxxx : 16 bit hex value # not supported by expand\n",
        "\n",
        "\\uxxxxxxxx : 32 bit hex value # not supported by expand\n",
        "\n"
      ]
    },
    {
      "cell_type": "code",
      "metadata": {
        "id": "LL16erbAg1s6"
      },
      "source": [
        "s = \"football hockey cricket \\t football \\n hockey football cricket football \"\n",
        "c=s.expandtabs()\n",
        "print(c)"
      ],
      "execution_count": null,
      "outputs": []
    },
    {
      "cell_type": "code",
      "metadata": {
        "id": "wqTPVuCL3xg2"
      },
      "source": [
        "s = \"football hockey cricket \\f football hockey football \\r cricket \\\\ football \"\n",
        "c=s.expandtabs()\n",
        "print(c)"
      ],
      "execution_count": null,
      "outputs": []
    },
    {
      "cell_type": "markdown",
      "metadata": {
        "id": "u9nzq8RzhoHE"
      },
      "source": [
        "# **encode()**\n",
        "\n",
        "The function encodes a string using the encoding given.\n",
        "\n",
        "The syntax is:\n",
        "\n",
        "giventstring.encode(encoding=encoding, errors=errors)\n",
        "\n",
        "The paramters encoding and erros are optional.\n",
        "\n",
        "if no encoding is gen then it takes UTF-8 by default. Erros could be :\n",
        "\n",
        "'backslashreplace' : uses a backslash instead of the character that could not be encoded\n",
        "\n",
        "'ignore': ignores the characters that cannot be encoded\n",
        "\n",
        "'namereplace': replaces the character with a text explaining the character\n",
        "\n",
        "'strict' : Default, raises an error on failure\n",
        "\n",
        "'replace'\t: replaces the character with a questionmark\n",
        "\n",
        "'xmlcharrefreplace'\t: replaces the character with an xml character\n"
      ]
    },
    {
      "cell_type": "code",
      "metadata": {
        "id": "hnzQref0hbY-"
      },
      "source": [
        "s=\"python is good\"\n",
        "en = s.encode()\n",
        "print(en)"
      ],
      "execution_count": null,
      "outputs": []
    },
    {
      "cell_type": "code",
      "metadata": {
        "id": "VHshHd2XivbV"
      },
      "source": [
        "s=\"python is awesome\"\n",
        "en = s.encode(encoding='UTF-8',errors='strict')\n",
        "print(en)"
      ],
      "execution_count": null,
      "outputs": []
    },
    {
      "cell_type": "code",
      "metadata": {
        "id": "C7e5sl0JjEvQ"
      },
      "source": [
        "# unicode string\n",
        "string = 'pythön!'\n",
        "\n",
        "# print string\n",
        "print('The string is:', string)\n",
        "\n",
        "# default encoding to utf-8\n",
        "string_utf = string.encode()\n",
        "\n",
        "# print result\n",
        "print('The encoded version is:', string_utf)"
      ],
      "execution_count": null,
      "outputs": []
    },
    {
      "cell_type": "code",
      "metadata": {
        "id": "UlFrF6xa-jAv"
      },
      "source": [
        "string = 'pythön!'\n",
        "print(string.encode(encoding=\"ascii\",errors=\"backslashreplace\"))\n",
        "print(string.encode(encoding=\"ascii\",errors=\"ignore\"))\n",
        "print(string.encode(encoding=\"ascii\",errors=\"namereplace\"))\n",
        "print(string.encode(encoding=\"ascii\",errors=\"replace\"))\n",
        "print(string.encode(encoding=\"ascii\",errors=\"xmlcharrefreplace\"))"
      ],
      "execution_count": null,
      "outputs": []
    },
    {
      "cell_type": "markdown",
      "metadata": {
        "id": "RASaxLq7jULj"
      },
      "source": [
        "# **find()**'\n",
        "\n",
        "The function searched for substring in a string. Returns boolean"
      ]
    },
    {
      "cell_type": "code",
      "metadata": {
        "id": "dPxKU-PKjSyZ"
      },
      "source": [
        "s= \"Python is an aweswome language\"\n",
        "f = s.find(\"an\")\n",
        "print(f)\n"
      ],
      "execution_count": null,
      "outputs": []
    },
    {
      "cell_type": "code",
      "metadata": {
        "id": "gQUSoHBvjwb-"
      },
      "source": [
        "quote = 'Let it be, let it be, let it be'\n",
        "\n",
        "# first occurance of 'let it'(case sensitive)\n",
        "result = quote.find('let it')\n",
        "print(\"Substring 'let it':\", result)\n",
        "\n",
        "# find returns -1 if substring not found\n",
        "result = quote.find('small')\n",
        "print(\"Substring 'small ':\", result)\n",
        "\n",
        "# How to use find()\n",
        "if (quote.find('be,') != -1):\n",
        "    print(\"Contains substring 'be,'\")\n",
        "else:\n",
        "    print(\"Doesn't contain substring\")"
      ],
      "execution_count": null,
      "outputs": []
    },
    {
      "cell_type": "markdown",
      "metadata": {
        "id": "OM-kdMHUkShX"
      },
      "source": [
        "# **format()**\n",
        "\n",
        "The function is used for a formatted output."
      ]
    },
    {
      "cell_type": "code",
      "metadata": {
        "id": "bAOu6w7BkNQo"
      },
      "source": [
        "s=\"hello\"\n",
        "n=10\n",
        "print(\"Output string is {0} , number is {1}\".format(s,n))"
      ],
      "execution_count": null,
      "outputs": []
    },
    {
      "cell_type": "code",
      "metadata": {
        "id": "2buKPBItlfDC"
      },
      "source": [
        "s=\"hello\"\n",
        "n=10\n",
        "print(\"Output string is {0} , number is {1}\".format(n,s))"
      ],
      "execution_count": null,
      "outputs": []
    },
    {
      "cell_type": "code",
      "metadata": {
        "id": "eD5-8IqLBMjL"
      },
      "source": [
        "print('{0}, {1}, {2}'.format('a', 'b', 'c'))\n",
        "\n",
        "print('{}, {}, {}'.format('a', 'b', 'c'))  # 3.1+ only\n",
        "\n",
        "print('{2}, {1}, {0}'.format('a', 'b', 'c'))\n",
        "\n",
        "print('{2}, {1}, {0}'.format(*'abc'))      # unpacking argument sequence\n",
        "\n",
        "print('{0}{1}{0}'.format('abra', 'cad'))   # arguments' indices can be repeated\n"
      ],
      "execution_count": null,
      "outputs": []
    },
    {
      "cell_type": "code",
      "metadata": {
        "id": "1p8x0EkWBtAH"
      },
      "source": [
        "print('Coordinates: {latitude}, {longitude}'.format(latitude='37.24N', longitude='-115.81W'))\n"
      ],
      "execution_count": null,
      "outputs": []
    },
    {
      "cell_type": "code",
      "metadata": {
        "id": "XSGzEzcrCHAS"
      },
      "source": [
        "coord = {'latitude': '37.24N', 'longitude': '-115.81W'}\n",
        "print('Coordinates: {latitude}, {longitude}'.format(**coord))"
      ],
      "execution_count": null,
      "outputs": []
    },
    {
      "cell_type": "code",
      "metadata": {
        "id": "2_lFNYw0CZ9y"
      },
      "source": [
        "c=5.7j\n",
        "print('The complex number {0} is formed from the real part {0.real} ''and the imaginary part {0.imag}.'.format(c))"
      ],
      "execution_count": null,
      "outputs": []
    },
    {
      "cell_type": "markdown",
      "metadata": {
        "id": "pJ6nX6k1_bKB"
      },
      "source": [
        "# **index()**\n",
        "\n",
        "The function finds a substring a string and returns the index value (the position at which first character of the substring is located)."
      ]
    },
    {
      "cell_type": "code",
      "metadata": {
        "id": "SyJ_UdQglr4p"
      },
      "source": [
        "sentence = 'Python programming is fun.' \n",
        "result = sentence.index('is fun') \n",
        "print(\"Substring 'is fun':\", result) \n",
        "result = sentence.index('Python') \n",
        "print(\"Substring 'Python':\", result) \n",
        "\n",
        " "
      ],
      "execution_count": null,
      "outputs": []
    },
    {
      "cell_type": "code",
      "metadata": {
        "id": "Yl8tSkF9mMwi"
      },
      "source": [
        "sentence = 'Python programming is fun.' \n",
        "l=len(sentence)\n",
        "print(\"lenght of sentence : {}\".format(l))\n",
        "# Substring is searched in 'gramming is fun.' \n",
        "print(sentence.index('ing', 10)) \n",
        "# Substring is searched in 'gramming is ' \n",
        "print(sentence.index('g is', 10, -4)) \n",
        "# Substring is searched in 'programming' \n",
        "print(sentence.index('fun', 7, 26)) "
      ],
      "execution_count": null,
      "outputs": []
    },
    {
      "cell_type": "markdown",
      "metadata": {
        "id": "VkK0tAEWm_36"
      },
      "source": [
        "# **isalnum()**\n",
        "\n",
        "The fucntion checks if the given string is alphanumeric or not. It returns boolean."
      ]
    },
    {
      "cell_type": "code",
      "metadata": {
        "colab": {
          "base_uri": "https://localhost:8080/"
        },
        "id": "K00ahEmAnHh2",
        "outputId": "d18b230b-7241-4184-acd2-039826c87c21"
      },
      "source": [
        "s=\"python is fun\"\n",
        "ch= s.isalnum()\n",
        "print(ch)"
      ],
      "execution_count": null,
      "outputs": [
        {
          "output_type": "stream",
          "name": "stdout",
          "text": [
            "False\n"
          ]
        }
      ]
    },
    {
      "cell_type": "code",
      "metadata": {
        "colab": {
          "base_uri": "https://localhost:8080/"
        },
        "id": "jfYqP0iInTmO",
        "outputId": "fff72fba-2ac6-442f-e30b-2dd27ec96688"
      },
      "source": [
        "s=\"A1234Hen5\"\n",
        "ch = s.isalnum()\n",
        "print(ch)"
      ],
      "execution_count": null,
      "outputs": [
        {
          "output_type": "stream",
          "name": "stdout",
          "text": [
            "True\n"
          ]
        }
      ]
    },
    {
      "cell_type": "markdown",
      "metadata": {
        "id": "VbUALUEOC1xb"
      },
      "source": [
        "# **isalpha()**\n",
        "\n",
        "The function checks if the entered character is an alpabet or not."
      ]
    },
    {
      "cell_type": "code",
      "metadata": {
        "colab": {
          "base_uri": "https://localhost:8080/"
        },
        "id": "feRukFCSAI34",
        "outputId": "3e376bf5-693f-4440-ebe9-91beb76dedba"
      },
      "source": [
        "s =\"F\"\n",
        "if s.isalpha():\n",
        "  print(\"It is an alphabet\")\n",
        "else:\n",
        "  print(\"Not an alphabet\")"
      ],
      "execution_count": null,
      "outputs": [
        {
          "output_type": "stream",
          "name": "stdout",
          "text": [
            "It is an alphabet\n"
          ]
        }
      ]
    },
    {
      "cell_type": "code",
      "metadata": {
        "colab": {
          "base_uri": "https://localhost:8080/"
        },
        "id": "U68q8DRulJDg",
        "outputId": "ffb9af60-75d0-4a2f-d90f-c2a6e087caf5"
      },
      "source": [
        "s =\"Python\"\n",
        "if s.isalpha():\n",
        "  print(\"It is an alphabet\")\n",
        "else:\n",
        "  print(\"Not an alphabet\")"
      ],
      "execution_count": null,
      "outputs": [
        {
          "output_type": "stream",
          "name": "stdout",
          "text": [
            "It is an alphabet\n"
          ]
        }
      ]
    },
    {
      "cell_type": "code",
      "metadata": {
        "colab": {
          "base_uri": "https://localhost:8080/"
        },
        "id": "FvkrPWwMlTD3",
        "outputId": "76f2cdaf-59ca-4457-ec0d-d05f8b383ccc"
      },
      "source": [
        "s =\"99Python\"\n",
        "if s.isalpha():\n",
        "  print(\"It is an alphabet\")\n",
        "else:\n",
        "  print(\"Not an alphabet\")"
      ],
      "execution_count": null,
      "outputs": [
        {
          "output_type": "stream",
          "name": "stdout",
          "text": [
            "Not an alphabet\n"
          ]
        }
      ]
    },
    {
      "cell_type": "code",
      "metadata": {
        "colab": {
          "base_uri": "https://localhost:8080/"
        },
        "id": "xHJB2tWMD6JM",
        "outputId": "361ca43d-c710-4dee-9d88-84ac37e9e1de"
      },
      "source": [
        "s=\"9\"\n",
        "if s.isalpha():\n",
        "  print(\"It is an alphabet\")\n",
        "else:\n",
        "  print(\"Not an alphabet\")"
      ],
      "execution_count": null,
      "outputs": [
        {
          "output_type": "stream",
          "name": "stdout",
          "text": [
            "Not an alphabet\n"
          ]
        }
      ]
    },
    {
      "cell_type": "markdown",
      "metadata": {
        "id": "pwXgH7mVEFg4"
      },
      "source": [
        "# **isdecimal()**\n",
        "\n",
        "The fucntion checks if the given input has only decimal values or not."
      ]
    },
    {
      "cell_type": "code",
      "metadata": {
        "colab": {
          "base_uri": "https://localhost:8080/"
        },
        "id": "ZIQ1qn6YEQt4",
        "outputId": "b0d12f17-2ad2-42c4-8535-2862f426ba4e"
      },
      "source": [
        "n=\"434266\"\n",
        "if n.isdecimal() :\n",
        "  print(\"It is a decimal value\")\n",
        "else:\n",
        "  print(\"Not a decimal value\")\n"
      ],
      "execution_count": null,
      "outputs": [
        {
          "output_type": "stream",
          "name": "stdout",
          "text": [
            "It is a decimal value\n"
          ]
        }
      ]
    },
    {
      "cell_type": "code",
      "metadata": {
        "colab": {
          "base_uri": "https://localhost:8080/"
        },
        "id": "8SIOQ-qwFGeT",
        "outputId": "352ab995-1fb3-4472-b851-5f1c5ee6e8a5"
      },
      "source": [
        "n=\"434266qwert\"\n",
        "if n.isdecimal() :\n",
        "  print(\"It is a decimal value\")\n",
        "else:\n",
        "  print(\"Not a decimal value\")\n"
      ],
      "execution_count": null,
      "outputs": [
        {
          "output_type": "stream",
          "name": "stdout",
          "text": [
            "Not a decimal value\n"
          ]
        }
      ]
    },
    {
      "cell_type": "markdown",
      "metadata": {
        "id": "PaAKaDHbFQkX"
      },
      "source": [
        "# **isdigit()**\n",
        "\n",
        "similar to decimal. Checks if the input string has numbers only or not."
      ]
    },
    {
      "cell_type": "code",
      "metadata": {
        "colab": {
          "base_uri": "https://localhost:8080/"
        },
        "id": "WafHpwRDEAUR",
        "outputId": "4a21a405-ea51-40de-8dc3-fe8e7cea9dcb"
      },
      "source": [
        "n=\"434266\"\n",
        "if n.isdigit() :\n",
        "  print(\"It is a digit\")\n",
        "else:\n",
        "  print(\"Not a digit\")\n"
      ],
      "execution_count": null,
      "outputs": [
        {
          "output_type": "stream",
          "name": "stdout",
          "text": [
            "It is a digit\n"
          ]
        }
      ]
    },
    {
      "cell_type": "code",
      "metadata": {
        "colab": {
          "base_uri": "https://localhost:8080/"
        },
        "id": "dc63KrfPFrtH",
        "outputId": "ad655b32-c17a-48bd-c248-a3d44e464e03"
      },
      "source": [
        "n=\"4-34-266\"\n",
        "if n.isdigit() :\n",
        "  print(\"It is a digit\")\n",
        "else:\n",
        "  print(\"Not a digit\")\n"
      ],
      "execution_count": null,
      "outputs": [
        {
          "output_type": "stream",
          "name": "stdout",
          "text": [
            "Not a digit\n"
          ]
        }
      ]
    },
    {
      "cell_type": "markdown",
      "metadata": {
        "id": "Xyg3gFhJGHKW"
      },
      "source": [
        "# **isidentifier()**\n",
        "\n",
        "The function checks if the input string is an identifier or not."
      ]
    },
    {
      "cell_type": "code",
      "metadata": {
        "colab": {
          "base_uri": "https://localhost:8080/"
        },
        "id": "yi7qC36QGF5o",
        "outputId": "d55e2c43-aed8-4268-cff8-93c20b26608c"
      },
      "source": [
        "n=\"institute\"\n",
        "print(\"The inpiut string is an identifier : {}\".format(n.isidentifier()))"
      ],
      "execution_count": null,
      "outputs": [
        {
          "output_type": "stream",
          "name": "stdout",
          "text": [
            "The inpiut string is an identifier : True\n"
          ]
        }
      ]
    },
    {
      "cell_type": "code",
      "metadata": {
        "colab": {
          "base_uri": "https://localhost:8080/"
        },
        "id": "p052nJE2G82B",
        "outputId": "c2835688-02f3-41ef-e0bf-f8c050918d34"
      },
      "source": [
        "n=\"institute de informatica\"\n",
        "print(\"The inpiut string is an identifier : {}\".format(n.isidentifier()))"
      ],
      "execution_count": null,
      "outputs": [
        {
          "output_type": "stream",
          "name": "stdout",
          "text": [
            "The inpiut string is an identifier : False\n"
          ]
        }
      ]
    },
    {
      "cell_type": "code",
      "metadata": {
        "colab": {
          "base_uri": "https://localhost:8080/"
        },
        "id": "pXbMFQSMHDEQ",
        "outputId": "8f403475-edb2-4009-b194-25bde9468bb1"
      },
      "source": [
        "n=\"institute-de-informatica\"\n",
        "print(\"The inpiut string is an identifier : {}\".format(n.isidentifier()))"
      ],
      "execution_count": null,
      "outputs": [
        {
          "output_type": "stream",
          "name": "stdout",
          "text": [
            "The inpiut string is an identifier : False\n"
          ]
        }
      ]
    },
    {
      "cell_type": "code",
      "metadata": {
        "colab": {
          "base_uri": "https://localhost:8080/"
        },
        "id": "RSfIUGZfHIIL",
        "outputId": "71ad4ac6-aacb-4d64-864c-0f278eb959f5"
      },
      "source": [
        "n=\"institute!!\"\n",
        "print(\"The inpiut string is an identifier : {}\".format(n.isidentifier()))"
      ],
      "execution_count": null,
      "outputs": [
        {
          "output_type": "stream",
          "name": "stdout",
          "text": [
            "The inpiut string is an identifier : False\n"
          ]
        }
      ]
    },
    {
      "cell_type": "code",
      "metadata": {
        "colab": {
          "base_uri": "https://localhost:8080/"
        },
        "id": "LKbZpX_GHHeC",
        "outputId": "4eebc60c-a7f0-441f-bf2a-d1d0b12810ec"
      },
      "source": [
        "n=\" \"\n",
        "print(\"The inpiut string is an identifier : {}\".format(n.isidentifier()))"
      ],
      "execution_count": null,
      "outputs": [
        {
          "output_type": "stream",
          "name": "stdout",
          "text": [
            "The inpiut string is an identifier : False\n"
          ]
        }
      ]
    },
    {
      "cell_type": "markdown",
      "metadata": {
        "id": "Q3Fv4caOHTsp"
      },
      "source": [
        "# **islower()**\n",
        "\n",
        "The function checks if the input string is in lower case or not."
      ]
    },
    {
      "cell_type": "code",
      "metadata": {
        "colab": {
          "base_uri": "https://localhost:8080/"
        },
        "id": "zje-Vbr0Hfvo",
        "outputId": "652a13fa-040a-43f9-d76d-3bc9a81339a0"
      },
      "source": [
        "s=\"institue\"\n",
        "print(\"{0} is in lower case :{1}\".format(s, s.islower()))"
      ],
      "execution_count": null,
      "outputs": [
        {
          "output_type": "stream",
          "name": "stdout",
          "text": [
            "institue is in lower case :True\n"
          ]
        }
      ]
    },
    {
      "cell_type": "code",
      "metadata": {
        "colab": {
          "base_uri": "https://localhost:8080/"
        },
        "id": "7qXhogVBH3WZ",
        "outputId": "35005976-221b-4554-fac7-df44736030a7"
      },
      "source": [
        "s=\"Institue\"\n",
        "print(\"{0} is in lower case :{1}\".format(s, s.islower()))"
      ],
      "execution_count": null,
      "outputs": [
        {
          "output_type": "stream",
          "name": "stdout",
          "text": [
            "Institue is in lower case :False\n"
          ]
        }
      ]
    },
    {
      "cell_type": "markdown",
      "metadata": {
        "id": "R5V070vrH-8C"
      },
      "source": [
        "# **isnumeric()**\n",
        "\n",
        "The function checks iof the input is numeric or not"
      ]
    },
    {
      "cell_type": "code",
      "metadata": {
        "colab": {
          "base_uri": "https://localhost:8080/"
        },
        "id": "GpdNm8-1H6wZ",
        "outputId": "8b48ff3e-ccaa-4ae4-86b5-65d4d8bab97a"
      },
      "source": [
        "n=\"1234\"\n",
        "print(\"{0} is numeric :{1}\".format(n, n.isnumeric()))"
      ],
      "execution_count": null,
      "outputs": [
        {
          "output_type": "stream",
          "name": "stdout",
          "text": [
            "1234 is numeric :True\n"
          ]
        }
      ]
    },
    {
      "cell_type": "code",
      "metadata": {
        "colab": {
          "base_uri": "https://localhost:8080/"
        },
        "id": "xMI7EUTuITeC",
        "outputId": "42092d03-6716-418e-b299-ba13191ee11f"
      },
      "source": [
        "n=\"A1234\"\n",
        "print(\"{0} is numeric :{1}\".format(n, n.isnumeric()))"
      ],
      "execution_count": null,
      "outputs": [
        {
          "output_type": "stream",
          "name": "stdout",
          "text": [
            "A1234 is numeric :False\n"
          ]
        }
      ]
    },
    {
      "cell_type": "markdown",
      "metadata": {
        "id": "TcNp5AzXIgQr"
      },
      "source": [
        "# **isprintable()**\n",
        "The function checks if the input string is printable or not"
      ]
    },
    {
      "cell_type": "code",
      "metadata": {
        "colab": {
          "base_uri": "https://localhost:8080/"
        },
        "id": "mLD-0SxhJLQX",
        "outputId": "06f16387-cb39-4665-eed7-b01c597a8055"
      },
      "source": [
        "s=\"hello\"\n",
        "print(\"{0} is printable :{1}\".format(s, s.isprintable()))\n",
        "s=\"\\nhello\"\n",
        "print(\"{0} is printable :{1}\".format(s, s.isprintable()))\n",
        "s=\"\\thello\"\n",
        "print(\"{0} is printable :{1}\".format(s, s.isprintable()))\n",
        "s=\" \"\n",
        "print(\"{0} is printable :{1}\".format(s, s.isprintable()))\n",
        "s=\"123Python \"\n",
        "print(\"{0} is printable :{1}\".format(s, s.isprintable()))\n",
        "s=\"Python is a very easy language\"\n",
        "print(\"{0} is printable :{1}\".format(s, s.isprintable()))\n"
      ],
      "execution_count": null,
      "outputs": [
        {
          "output_type": "stream",
          "name": "stdout",
          "text": [
            "hello is printable :True\n",
            "\n",
            "hello is printable :False\n",
            "\thello is printable :False\n",
            "  is printable :True\n",
            "123Python  is printable :True\n",
            "Python is a very easy language is printable :True\n"
          ]
        }
      ]
    },
    {
      "cell_type": "markdown",
      "metadata": {
        "id": "Cypjafs1KTA1"
      },
      "source": [
        "# **isspace()**\n",
        "\n",
        "The function checks if the input string has only white spaces in it."
      ]
    },
    {
      "cell_type": "code",
      "metadata": {
        "colab": {
          "base_uri": "https://localhost:8080/"
        },
        "id": "qPJUk7YFJXlZ",
        "outputId": "32bbf408-af6d-461e-b019-d40cd2c7dc80"
      },
      "source": [
        "s=\" \"\n",
        "print(\"Input is a space :{}\".format(s.isspace()))\n",
        "s=\"       \\t\"\n",
        "print(\"Input is a space :{}\".format(s.isspace()))\n",
        "s=\"      \\n\"\n",
        "print(\"Input is a space :{}\".format(s.isspace()))\n",
        "s=\" \\n a \\t\"\n",
        "print(\"Input is a space :{}\".format(s.isspace()))"
      ],
      "execution_count": null,
      "outputs": [
        {
          "output_type": "stream",
          "name": "stdout",
          "text": [
            "Input is a space :True\n",
            "Input is a space :True\n",
            "Input is a space :True\n",
            "Input is a space :False\n"
          ]
        }
      ]
    },
    {
      "cell_type": "markdown",
      "metadata": {
        "id": "Ahh3OmXCLBO1"
      },
      "source": [
        "# **istitle**\n",
        "\n",
        "The functions checks if the input string is in title case or not"
      ]
    },
    {
      "cell_type": "code",
      "metadata": {
        "colab": {
          "base_uri": "https://localhost:8080/"
        },
        "id": "3DvL_62KLAel",
        "outputId": "c59050a1-7dcd-4fb0-9e33-c981d4c6e8ac"
      },
      "source": [
        "s=\"Python Is An awesome language\"\n",
        "print(\"{0} is in title case:{1}\".format(s,s.istitle()))"
      ],
      "execution_count": null,
      "outputs": [
        {
          "output_type": "stream",
          "name": "stdout",
          "text": [
            "Python Is An awesome language is in title case:False\n"
          ]
        }
      ]
    },
    {
      "cell_type": "code",
      "metadata": {
        "colab": {
          "base_uri": "https://localhost:8080/"
        },
        "id": "Ntbz9hFDLoj2",
        "outputId": "9729c481-fa31-4c6d-c9fe-0d7496c453fa"
      },
      "source": [
        "s=\"Python Is An Awesome language\"\n",
        "print(\"{0} is in title case:{1}\".format(s,s.istitle()))"
      ],
      "execution_count": null,
      "outputs": [
        {
          "output_type": "stream",
          "name": "stdout",
          "text": [
            "Python Is An Awesome language is in title case:False\n"
          ]
        }
      ]
    },
    {
      "cell_type": "code",
      "metadata": {
        "colab": {
          "base_uri": "https://localhost:8080/"
        },
        "id": "7PO-5AknLrp6",
        "outputId": "59f9aca0-c5a1-4fa3-aed7-2c3632110784"
      },
      "source": [
        "s=\"Python Is An Awesome Language\"\n",
        "print(\"{0} is in title case:{1}\".format(s,s.istitle()))"
      ],
      "execution_count": null,
      "outputs": [
        {
          "output_type": "stream",
          "name": "stdout",
          "text": [
            "Python Is An Awesome Language is in title case:True\n"
          ]
        }
      ]
    },
    {
      "cell_type": "code",
      "metadata": {
        "colab": {
          "base_uri": "https://localhost:8080/"
        },
        "id": "BK1hHXU-L8NU",
        "outputId": "66361c9c-3aea-4aac-ae5b-26abec1f1471"
      },
      "source": [
        "s=\"Python Is An Awesome Language !!!\"\n",
        "print(\"{0} is in title case:{1}\".format(s,s.istitle()))"
      ],
      "execution_count": null,
      "outputs": [
        {
          "output_type": "stream",
          "name": "stdout",
          "text": [
            "Python Is An Awesome Language !!! is in title case:True\n"
          ]
        }
      ]
    },
    {
      "cell_type": "code",
      "metadata": {
        "colab": {
          "base_uri": "https://localhost:8080/"
        },
        "id": "mCfJt46qMHCP",
        "outputId": "1275f8f9-5c20-4313-d347-e4b67a900ebf"
      },
      "source": [
        "s=\"956 Python Is An Awesome Language\"\n",
        "print(\"{0} is in title case:{1}\".format(s,s.istitle()))"
      ],
      "execution_count": null,
      "outputs": [
        {
          "output_type": "stream",
          "name": "stdout",
          "text": [
            "956 Python Is An Awesome Language is in title case:True\n"
          ]
        }
      ]
    },
    {
      "cell_type": "code",
      "metadata": {
        "colab": {
          "base_uri": "https://localhost:8080/"
        },
        "id": "cuhcKjVVMNXZ",
        "outputId": "12ab2872-ae64-41cc-ed7c-9f816b148e50"
      },
      "source": [
        "s=\"PYTHON\"\n",
        "print(\"{0} is in title case:{1}\".format(s,s.istitle()))"
      ],
      "execution_count": null,
      "outputs": [
        {
          "output_type": "stream",
          "name": "stdout",
          "text": [
            "PYTHON is in title case:False\n"
          ]
        }
      ]
    },
    {
      "cell_type": "markdown",
      "metadata": {
        "id": "J1R2Tz7SMVHH"
      },
      "source": [
        "# **isupper()**\n",
        "\n",
        "The function checks if the input string is in upper case of not."
      ]
    },
    {
      "cell_type": "code",
      "metadata": {
        "colab": {
          "base_uri": "https://localhost:8080/"
        },
        "id": "r-AqEVvNMfak",
        "outputId": "2fdfb207-4338-40a9-88f4-798a4f796f2d"
      },
      "source": [
        "s=\"PYTHON\"\n",
        "print(\"{0} is in title case:{1}\".format(s,s.isupper()))"
      ],
      "execution_count": null,
      "outputs": [
        {
          "output_type": "stream",
          "name": "stdout",
          "text": [
            "PYTHON is in title case:True\n"
          ]
        }
      ]
    },
    {
      "cell_type": "code",
      "metadata": {
        "colab": {
          "base_uri": "https://localhost:8080/"
        },
        "id": "V1y0hkGlMojE",
        "outputId": "4b61956b-5b8b-4544-ed31-0454998009f0"
      },
      "source": [
        "s=\"Python Is Fun\"\n",
        "print(\"{0} is in title case:{1}\".format(s,s.isupper()))"
      ],
      "execution_count": null,
      "outputs": [
        {
          "output_type": "stream",
          "name": "stdout",
          "text": [
            "Python Is Fun is in title case:False\n"
          ]
        }
      ]
    },
    {
      "cell_type": "markdown",
      "metadata": {
        "id": "ln7WHiiSNS2w"
      },
      "source": [
        "# **String functions**\n",
        "\n",
        "join():\tReturns a Concatenated String\n",
        "\n",
        "ljust():\treturns left-justified string of given width\n",
        "\n",
        "rjust():\treturns right-justified string of given width\n",
        "\n",
        "lower():\treturns lowercased string\n",
        "\n",
        "upper():\treturns uppercased string\n",
        "\n",
        "swapcase():\tswap uppercase characters to lowercase; vice versa\n",
        "\n",
        "lstrip():\tRemoves Leading Characters\n",
        "\n",
        "rstrip():\tRemoves Trailing Characters\n",
        "\n",
        "strip():\tRemoves Both Leading and Trailing Characters\n",
        "\n",
        "partition():\tReturns a Tuple\n",
        "\n",
        "maketrans():\treturns a translation table\n",
        "\n",
        "rpartition():\tReturns a Tuple\n",
        "\n",
        "translate():\treturns mapped character string\n",
        "\n",
        "replace():\tReplaces Substring Inside\n",
        "\n",
        "rfind():\tReturns the Highest Index of Substring\n",
        "\n",
        "rindex():\tReturns Highest Index of Substring\n",
        "\n",
        "split():\tSplits String from Left\n",
        "\n",
        "rsplit():\tSplits String From Right\n",
        "\n",
        "splitlines():\tSplits String at Line Boundaries\n",
        "\n",
        "startswith():\tChecks if String Starts with the Specified String\n",
        "\n",
        "title():\tReturns a Title Cased String\n",
        "\n",
        "zfill():\tReturns a Copy of The String Padded With Zeros\n",
        "format_map():\tFormats the String Using Dictionary\n",
        "\n",
        "any():\tChecks if any Element of an Iterable is True\n",
        "\n",
        "all():\treturns true when all elements in iterable is true\n",
        "\n",
        "ascii():\tReturns String Containing Printable Representation\n",
        "\n",
        "bool():\tConverts a Value to Boolean\n",
        "\n",
        "bytearray():\treturns array of given byte size\n",
        "\n",
        "bytes():\treturns immutable bytes object\n",
        "\n",
        "compile():\tReturns a Python code object\n",
        "\n",
        "complex():\tCreates a Complex Number\n",
        "\n",
        "enumerate():\tReturns an Enumerate Object\n",
        "\n",
        "filter():\tconstructs iterator from elements which are true\n",
        "\n",
        "float():\treturns floating point number from number, string\n",
        "\n",
        "input():\treads and returns a line of string\n",
        "\n",
        "int():\treturns integer from a number or string\n",
        "\n",
        "iter():\treturns iterator for an object\n",
        "\n",
        "len():\tReturns Length of an Object\n",
        "\n",
        "max():\treturns largest element\n",
        "\n",
        "min():\treturns smallest element\n",
        "\n",
        "map():\tApplies Function and Returns a List\n",
        "\n",
        "ord():\treturns Unicode code point for Unicode character\n",
        "\n",
        "reversed():\treturns reversed iterator of a sequence\n",
        "\n",
        "slice():\tcreates a slice object specified by range()\n",
        "\n",
        "sorted():\treturns sorted list from a given iterable\n",
        "\n",
        "sum():\tAdd items of an Iterable\n",
        "\n",
        "zip():\tReturns an Iterator of Tuples\n"
      ]
    },
    {
      "cell_type": "code",
      "metadata": {
        "colab": {
          "base_uri": "https://localhost:8080/"
        },
        "id": "aX_zTayXOL1j",
        "outputId": "aa1e1baa-15fb-4919-a6fc-bfa48091ef41"
      },
      "source": [
        "a=\"Python is \"\n",
        "b= \"easy to learn \"\n",
        "s = a+b\n",
        "print(s)"
      ],
      "execution_count": null,
      "outputs": [
        {
          "output_type": "stream",
          "name": "stdout",
          "text": [
            "Python is easy to learn \n"
          ]
        }
      ]
    },
    {
      "cell_type": "code",
      "metadata": {
        "colab": {
          "base_uri": "https://localhost:8080/"
        },
        "id": "5dXfk8_XObzj",
        "outputId": "e39a4425-e34c-4b62-a9ea-c1bac209bf93"
      },
      "source": [
        "a=\"Python is \"\n",
        "b= \" \"\n",
        "s = b.join(a)\n",
        "print(s)"
      ],
      "execution_count": null,
      "outputs": [
        {
          "output_type": "stream",
          "name": "stdout",
          "text": [
            "P y t h o n   i s  \n"
          ]
        }
      ]
    },
    {
      "cell_type": "code",
      "metadata": {
        "colab": {
          "base_uri": "https://localhost:8080/"
        },
        "id": "VsZLT5ugpWvv",
        "outputId": "f0638ab3-c3e0-485d-9e32-0f6945030437"
      },
      "source": [
        "a=\"Python is\"\n",
        "b= \"#\"\n",
        "s = b.join(a)\n",
        "print(s)"
      ],
      "execution_count": null,
      "outputs": [
        {
          "output_type": "stream",
          "name": "stdout",
          "text": [
            "P#y#t#h#o#n# #i#s\n"
          ]
        }
      ]
    },
    {
      "cell_type": "code",
      "metadata": {
        "colab": {
          "base_uri": "https://localhost:8080/"
        },
        "id": "Z_0NyS8apf2y",
        "outputId": "b7c95643-3f48-411f-d7b3-7a3c8a525fce"
      },
      "source": [
        "a=\"Python is\"\n",
        "b= \"###\"\n",
        "s = a.join(b)\n",
        "print(s)"
      ],
      "execution_count": null,
      "outputs": [
        {
          "output_type": "stream",
          "name": "stdout",
          "text": [
            "#Python is#Python is#\n"
          ]
        }
      ]
    },
    {
      "cell_type": "code",
      "metadata": {
        "colab": {
          "base_uri": "https://localhost:8080/"
        },
        "id": "zVYX2zn3p1PJ",
        "outputId": "b52d59e2-f2d2-4e3a-c2d1-11e039fd741a"
      },
      "source": [
        "a=\"Python is\"\n",
        "b= \"welcome*\"\n",
        "s = a.join(b)\n",
        "print(s)"
      ],
      "execution_count": null,
      "outputs": [
        {
          "output_type": "stream",
          "name": "stdout",
          "text": [
            "wPython isePython islPython iscPython isoPython ismPython isePython is*\n"
          ]
        }
      ]
    },
    {
      "cell_type": "code",
      "metadata": {
        "colab": {
          "base_uri": "https://localhost:8080/"
        },
        "id": "FZLG1xfEO33Z",
        "outputId": "a3ee1e1b-703d-4fe9-d25b-828edf325f00"
      },
      "source": [
        "s =\"  Python \"\n",
        "print(len(s))\n",
        "c=s.lstrip()\n",
        "print(len(c))\n",
        "print(c)"
      ],
      "execution_count": null,
      "outputs": [
        {
          "output_type": "stream",
          "name": "stdout",
          "text": [
            "9\n",
            "7\n",
            "Python \n"
          ]
        }
      ]
    },
    {
      "cell_type": "code",
      "metadata": {
        "colab": {
          "base_uri": "https://localhost:8080/"
        },
        "id": "vWhiDqCKPMf9",
        "outputId": "018a3bec-09bc-45eb-ce15-4373f480da1b"
      },
      "source": [
        "s =\"  Python \"\n",
        "print(len(s))\n",
        "c=s.rstrip()\n",
        "print(len(c))\n",
        "print(c)"
      ],
      "execution_count": null,
      "outputs": [
        {
          "output_type": "stream",
          "name": "stdout",
          "text": [
            "9\n",
            "8\n",
            "  Python\n"
          ]
        }
      ]
    },
    {
      "cell_type": "code",
      "metadata": {
        "colab": {
          "base_uri": "https://localhost:8080/"
        },
        "id": "qzbgwscSPR0z",
        "outputId": "c56c6aa4-9d12-4bb9-de04-78edfec838d6"
      },
      "source": [
        "s =\"  Python \"\n",
        "print(len(s))\n",
        "c=s.strip()\n",
        "print(len(c))\n",
        "print(c)"
      ],
      "execution_count": null,
      "outputs": [
        {
          "output_type": "stream",
          "name": "stdout",
          "text": [
            "9\n",
            "6\n",
            "Python\n"
          ]
        }
      ]
    },
    {
      "cell_type": "code",
      "metadata": {
        "colab": {
          "base_uri": "https://localhost:8080/"
        },
        "id": "SIdv8dObPWWy",
        "outputId": "09b8d711-0dc3-4853-a71e-59be2b5075a7"
      },
      "source": [
        "import numpy as np\n",
        "s = \"Python is an interesting language\"\n",
        "print(type(s))\n",
        "l= s.split()\n",
        "print(l)\n",
        "print(type(l))\n",
        "print(np.shape(l))"
      ],
      "execution_count": null,
      "outputs": [
        {
          "output_type": "stream",
          "name": "stdout",
          "text": [
            "<class 'str'>\n",
            "['Python', 'is', 'an', 'interesting', 'language']\n",
            "<class 'list'>\n",
            "(5,)\n"
          ]
        }
      ]
    },
    {
      "cell_type": "code",
      "metadata": {
        "colab": {
          "base_uri": "https://localhost:8080/"
        },
        "id": "D7MSYwtHP2r6",
        "outputId": "7299b251-b492-46e0-d96d-c46810430802"
      },
      "source": [
        "print(s.title())"
      ],
      "execution_count": null,
      "outputs": [
        {
          "output_type": "stream",
          "name": "stdout",
          "text": [
            "Python Is An Interesting Language\n"
          ]
        }
      ]
    },
    {
      "cell_type": "code",
      "metadata": {
        "colab": {
          "base_uri": "https://localhost:8080/"
        },
        "id": "L_nDAjODQUvE",
        "outputId": "0e7d1f0e-cc3a-4998-9b14-8a926767946f"
      },
      "source": [
        "sp=list(reversed(s))\n",
        "print(sp)\n",
        "print(type(sp))"
      ],
      "execution_count": null,
      "outputs": [
        {
          "output_type": "stream",
          "name": "stdout",
          "text": [
            "['e', 'g', 'a', 'u', 'g', 'n', 'a', 'l', ' ', 'g', 'n', 'i', 't', 's', 'e', 'r', 'e', 't', 'n', 'i', ' ', 'n', 'a', ' ', 's', 'i', ' ', 'n', 'o', 'h', 't', 'y', 'P']\n",
            "<class 'list'>\n"
          ]
        }
      ]
    },
    {
      "cell_type": "code",
      "metadata": {
        "colab": {
          "base_uri": "https://localhost:8080/"
        },
        "id": "vbSJZ48cQ4RL",
        "outputId": "c9324133-9048-4d30-aa4e-5ac9aee4fbb1"
      },
      "source": [
        "s=\"Python\"\n",
        "print(sorted(s))"
      ],
      "execution_count": null,
      "outputs": [
        {
          "output_type": "stream",
          "name": "stdout",
          "text": [
            "['P', 'h', 'n', 'o', 't', 'y']\n"
          ]
        }
      ]
    },
    {
      "cell_type": "code",
      "metadata": {
        "colab": {
          "base_uri": "https://localhost:8080/"
        },
        "id": "0O3ychdDsFsj",
        "outputId": "6b8bc269-77f6-406d-bb51-e36c0e9aa193"
      },
      "source": [
        "s=\"342517869\"\n",
        "st=sorted(s)\n",
        "print(st)"
      ],
      "execution_count": null,
      "outputs": [
        {
          "output_type": "stream",
          "name": "stdout",
          "text": [
            "['1', '2', '3', '4', '5', '6', '7', '8', '9']\n"
          ]
        }
      ]
    },
    {
      "cell_type": "code",
      "metadata": {
        "colab": {
          "base_uri": "https://localhost:8080/"
        },
        "id": "Jq32737ZsT9w",
        "outputId": "052e02d9-edde-4df2-ca8b-69ba893def04"
      },
      "source": [
        "s=\"welocme to the world of computing\"\n",
        "st=sorted(s)\n",
        "print(st)\n",
        "print(type(st))"
      ],
      "execution_count": null,
      "outputs": [
        {
          "output_type": "stream",
          "name": "stdout",
          "text": [
            "[' ', ' ', ' ', ' ', ' ', 'c', 'c', 'd', 'e', 'e', 'e', 'f', 'g', 'h', 'i', 'l', 'l', 'm', 'm', 'n', 'o', 'o', 'o', 'o', 'o', 'p', 'r', 't', 't', 't', 'u', 'w', 'w']\n",
            "<class 'list'>\n"
          ]
        }
      ]
    },
    {
      "cell_type": "code",
      "metadata": {
        "colab": {
          "base_uri": "https://localhost:8080/"
        },
        "id": "nJkF3JjGswUI",
        "outputId": "22407ed0-c634-43ff-bf71-13c32d14a6aa"
      },
      "source": [
        "s=\"413 of computing\"\n",
        "st=sorted(s)\n",
        "print(st)\n",
        "print(type(st))"
      ],
      "execution_count": null,
      "outputs": [
        {
          "output_type": "stream",
          "name": "stdout",
          "text": [
            "[' ', ' ', '1', '3', '4', 'c', 'f', 'g', 'i', 'm', 'n', 'o', 'o', 'p', 't', 'u']\n",
            "<class 'list'>\n"
          ]
        }
      ]
    },
    {
      "cell_type": "code",
      "metadata": {
        "colab": {
          "base_uri": "https://localhost:8080/"
        },
        "id": "u5BNjdhfRKb6",
        "outputId": "875d12b1-7946-41e5-c2d8-992650e2ec5f"
      },
      "source": [
        "a=[1,2,3,4]\n",
        "b=[\"one\",\"two\",\"three\",\"four\"]\n",
        "c = zip(a,b)\n",
        "print(c)\n",
        "lc=list(c)\n",
        "print(lc)\n",
        "print(type(lc))\n",
        "print(np.shape(lc))"
      ],
      "execution_count": null,
      "outputs": [
        {
          "output_type": "stream",
          "name": "stdout",
          "text": [
            "<zip object at 0x7fbb95664f00>\n",
            "[(1, 'one'), (2, 'two'), (3, 'three'), (4, 'four')]\n",
            "<class 'list'>\n",
            "(4, 2)\n"
          ]
        }
      ]
    },
    {
      "cell_type": "code",
      "metadata": {
        "colab": {
          "base_uri": "https://localhost:8080/"
        },
        "id": "r2C5O7ECuEGq",
        "outputId": "69a57ce4-436c-49d0-ceb5-8e22fa517fed"
      },
      "source": [
        "a=[1,2,3]\n",
        "b=[\"one\",\"two\",\"three\",\"four\"]\n",
        "c = zip(a,b)\n",
        "print(c)\n",
        "lc=list(c)\n",
        "print(lc)\n",
        "print(type(lc))\n",
        "print(np.shape(lc))"
      ],
      "execution_count": null,
      "outputs": [
        {
          "output_type": "stream",
          "name": "stdout",
          "text": [
            "<zip object at 0x7fbb954d9370>\n",
            "[(1, 'one'), (2, 'two'), (3, 'three')]\n",
            "<class 'list'>\n",
            "(3, 2)\n"
          ]
        }
      ]
    },
    {
      "cell_type": "code",
      "metadata": {
        "colab": {
          "base_uri": "https://localhost:8080/"
        },
        "id": "RG1OCYKvuSjr",
        "outputId": "deb0a85d-cabe-4f5b-82bf-28fdcde4760c"
      },
      "source": [
        "a=(1,2,3,4)\n",
        "b=(\"one\",\"two\",\"three\",\"four\")\n",
        "c = zip(a,b)\n",
        "print(c)\n",
        "lc=list(c)\n",
        "print(lc)\n",
        "print(type(lc))\n",
        "print(np.shape(lc))"
      ],
      "execution_count": null,
      "outputs": [
        {
          "output_type": "stream",
          "name": "stdout",
          "text": [
            "<zip object at 0x7fbb9542f870>\n",
            "[(1, 'one'), (2, 'two'), (3, 'three'), (4, 'four')]\n",
            "<class 'list'>\n",
            "(4, 2)\n"
          ]
        }
      ]
    },
    {
      "cell_type": "code",
      "metadata": {
        "colab": {
          "base_uri": "https://localhost:8080/"
        },
        "id": "4DsfQ_s9ucZX",
        "outputId": "feda0361-d096-4f64-9538-8553a140ed3c"
      },
      "source": [
        "a=[1,2,3]\n",
        "b=[\"one\",\"two\",\"three\",\"four\"]\n",
        "c = zip(b,a)\n",
        "print(c)\n",
        "lc=list(c)\n",
        "print(lc)\n",
        "print(type(lc))\n",
        "print(np.shape(lc))"
      ],
      "execution_count": null,
      "outputs": [
        {
          "output_type": "stream",
          "name": "stdout",
          "text": [
            "<zip object at 0x7fbb95637690>\n",
            "[('one', 1), ('two', 2), ('three', 3)]\n",
            "<class 'list'>\n",
            "(3, 2)\n"
          ]
        }
      ]
    },
    {
      "cell_type": "code",
      "metadata": {
        "colab": {
          "base_uri": "https://localhost:8080/"
        },
        "id": "LP-Qstrhum6x",
        "outputId": "254497f7-cc88-417d-c851-3f23c26aa88f"
      },
      "source": [
        "a=[1,2,3,4]\n",
        "b=(\"one\",\"two\",\"three\",\"four\")\n",
        "c = zip(a,b)\n",
        "print(c)\n",
        "lc=list(c)\n",
        "print(lc)\n",
        "print(type(lc))\n",
        "print(np.shape(lc))"
      ],
      "execution_count": null,
      "outputs": [
        {
          "output_type": "stream",
          "name": "stdout",
          "text": [
            "<zip object at 0x7fbb954d9190>\n",
            "[(1, 'one'), (2, 'two'), (3, 'three'), (4, 'four')]\n",
            "<class 'list'>\n",
            "(4, 2)\n"
          ]
        }
      ]
    },
    {
      "cell_type": "code",
      "metadata": {
        "colab": {
          "base_uri": "https://localhost:8080/"
        },
        "id": "cVOhg-ORvObz",
        "outputId": "df75ece6-55cd-4fee-ae64-dce0dfe28f07"
      },
      "source": [
        "s = \"Python is an interesting language\"\n",
        "l=list(s)\n",
        "print(l)\n",
        "ss=\"Python\"\n",
        "if ss in l:\n",
        "  print(\"found\")\n",
        "else:\n",
        "  print(\"not found\")\n",
        "l=list(s.split())\n",
        "print(l)\n",
        "if ss in l:\n",
        "  print(\"found\")\n",
        "else:\n",
        "  print(\"not found\")"
      ],
      "execution_count": null,
      "outputs": [
        {
          "output_type": "stream",
          "name": "stdout",
          "text": [
            "['P', 'y', 't', 'h', 'o', 'n', ' ', 'i', 's', ' ', 'a', 'n', ' ', 'i', 'n', 't', 'e', 'r', 'e', 's', 't', 'i', 'n', 'g', ' ', 'l', 'a', 'n', 'g', 'u', 'a', 'g', 'e']\n",
            "not found\n",
            "['Python', 'is', 'an', 'interesting', 'language']\n",
            "found\n"
          ]
        }
      ]
    },
    {
      "cell_type": "code",
      "metadata": {
        "colab": {
          "base_uri": "https://localhost:8080/"
        },
        "id": "5qiMegaJwARM",
        "outputId": "31acf519-e2ec-448e-8454-54666d86a6d2"
      },
      "source": [
        "print(l[0])"
      ],
      "execution_count": null,
      "outputs": [
        {
          "output_type": "stream",
          "name": "stdout",
          "text": [
            "Python\n"
          ]
        }
      ]
    },
    {
      "cell_type": "markdown",
      "metadata": {
        "id": "rS_RDXFYDXxp"
      },
      "source": [
        "# **Copy**"
      ]
    },
    {
      "cell_type": "code",
      "metadata": {
        "id": "RZ9GP2EGDbbX"
      },
      "source": [
        ""
      ],
      "execution_count": null,
      "outputs": []
    }
  ]
}