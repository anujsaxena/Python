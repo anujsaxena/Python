{
  "nbformat": 4,
  "nbformat_minor": 0,
  "metadata": {
    "colab": {
      "name": "ML_Tut_1.ipynb",
      "provenance": [],
      "collapsed_sections": [],
      "authorship_tag": "ABX9TyM0UtBwtHf2vXACGHiKW8ED",
      "include_colab_link": true
    },
    "kernelspec": {
      "name": "python3",
      "display_name": "Python 3"
    },
    "language_info": {
      "name": "python"
    }
  },
  "cells": [
    {
      "cell_type": "markdown",
      "metadata": {
        "id": "view-in-github",
        "colab_type": "text"
      },
      "source": [
        "<a href=\"https://colab.research.google.com/github/anujsaxena/Python/blob/main/ML_Tut_1.ipynb\" target=\"_parent\"><img src=\"https://colab.research.google.com/assets/colab-badge.svg\" alt=\"Open In Colab\"/></a>"
      ]
    },
    {
      "cell_type": "markdown",
      "metadata": {
        "id": "mDAiPCBwvKeJ"
      },
      "source": [
        "## **Machine Leanring**\n",
        "\n",
        "The goal of machine learning is to extract knowledge from data. It's also known as predictive analytics or statistical learning, and it's a study field that combines statistics, artificial intelligence, and computer science.\n",
        "\n",
        "There are four types of machine learning algorithms: supervised, semi-supervised, unsupervised and reinforcement.\n",
        "\n",
        "# **Supervised learning**\n",
        "\n",
        "The machine is taught by example in supervised learning. The operator gives the machine learning algorithm a known dataset including desired inputs and outputs, and the computer must figure out how to get to those inputs and outputs. The algorithm finds patterns in data, learns from observations, and produces predictions while the operator knows the proper answers to the issue. The operator corrects the algorithm's predictions, and the process repeats until the algorithm achieves a high degree of accuracy/performance.\n",
        "\n",
        "Classification, regression, and forecasting all fall under the supervised learning.\n",
        "\n",
        "**1. Classification:** In classification tasks, the machine learning program must draw a conclusion from observed values and determine to\n",
        "what category new observations belong. For example, when filtering emails as ‘spam’ or ‘not spam’, the program must look at existing observational data and filter the emails accordingly.\n",
        "\n",
        "**2. Regression:** In regression tasks, the machine learning program must estimate – and understand – the relationships among variables. Regression analysis focuses on one dependent variable and a series of other changing variables making it particularly useful for prediction and forecasting. \n",
        "\n",
        "**3. Forecasting:** Forecasting is the process of making predictions about the future based on the past and present data, and is commonly used to analyse trends.\n",
        "\n",
        "##**Essential Tools for Python Machine Learning**##\n",
        "\n",
        "\n"
      ]
    },
    {
      "cell_type": "code",
      "metadata": {
        "colab": {
          "base_uri": "https://localhost:8080/"
        },
        "id": "BjrgAb-HvP6o",
        "outputId": "7ed4e97e-032c-4ed8-8073-7cf9f225d4de"
      },
      "source": [
        "#Numpy\n",
        "\n",
        "import numpy as np\n",
        "\n",
        "x = np.array([[1,2,3],[4,5,6]])\n",
        "print(\"x:\\n{}\".format(x))"
      ],
      "execution_count": null,
      "outputs": [
        {
          "output_type": "stream",
          "name": "stdout",
          "text": [
            "x:\n",
            "[[1 2 3]\n",
            " [4 5 6]]\n"
          ]
        }
      ]
    },
    {
      "cell_type": "code",
      "metadata": {
        "colab": {
          "base_uri": "https://localhost:8080/"
        },
        "id": "zKpq_WWozntd",
        "outputId": "fd5fe52a-57bb-45f8-f056-dd39ec3e0d67"
      },
      "source": [
        "#Scipy\n",
        "from scipy import sparse\n",
        "\n",
        "# Create a 2D NumPy array with a diagonal of ones,\n",
        "# and zeros everywhere else\n",
        "eye = np.eye(6)\n",
        "print(\"\\nNumPy array:\\n{}\".format(eye))\n",
        "\n",
        "# Convert the NumPy array to a SciPy sparse matrix in Compressed sparse row (CSR) format\n",
        "# Only the nonzero entries are stored\n",
        "sparse_matrix = sparse.csr_matrix(eye)\n",
        "print(\"\\nSciPy sparse CSR matrix:\\n{}\".format(sparse_matrix))\n",
        "# string[with{a},{b},{c}].format('a','b','c')"
      ],
      "execution_count": null,
      "outputs": [
        {
          "output_type": "stream",
          "name": "stdout",
          "text": [
            "\n",
            "NumPy array:\n",
            "[[1. 0. 0. 0. 0. 0.]\n",
            " [0. 1. 0. 0. 0. 0.]\n",
            " [0. 0. 1. 0. 0. 0.]\n",
            " [0. 0. 0. 1. 0. 0.]\n",
            " [0. 0. 0. 0. 1. 0.]\n",
            " [0. 0. 0. 0. 0. 1.]]\n",
            "\n",
            "SciPy sparse CSR matrix:\n",
            "  (0, 0)\t1.0\n",
            "  (1, 1)\t1.0\n",
            "  (2, 2)\t1.0\n",
            "  (3, 3)\t1.0\n",
            "  (4, 4)\t1.0\n",
            "  (5, 5)\t1.0\n"
          ]
        }
      ]
    },
    {
      "cell_type": "code",
      "metadata": {
        "colab": {
          "base_uri": "https://localhost:8080/"
        },
        "id": "Q0RLnUPN5ByE",
        "outputId": "b63e05fc-4eb7-4802-cf8c-78304ba829fb"
      },
      "source": [
        "# Create the same sparse matrix using the Coordinate format(COO) format\n",
        "data = np.ones(6)\n",
        "row_indices = np.arange(6)\n",
        "col_indices = np.arange(6)\n",
        "eye_coo = sparse.coo_matrix((data, (row_indices, col_indices)))\n",
        "print(\"\\nCOO representation:\\n{}\".format(eye_coo))\n",
        "print(eye_coo.todense())"
      ],
      "execution_count": null,
      "outputs": [
        {
          "output_type": "stream",
          "name": "stdout",
          "text": [
            "\n",
            "COO representation:\n",
            "  (0, 0)\t1.0\n",
            "  (1, 1)\t1.0\n",
            "  (2, 2)\t1.0\n",
            "  (3, 3)\t1.0\n",
            "  (4, 4)\t1.0\n",
            "  (5, 5)\t1.0\n",
            "[[1. 0. 0. 0. 0. 0.]\n",
            " [0. 1. 0. 0. 0. 0.]\n",
            " [0. 0. 1. 0. 0. 0.]\n",
            " [0. 0. 0. 1. 0. 0.]\n",
            " [0. 0. 0. 0. 1. 0.]\n",
            " [0. 0. 0. 0. 0. 1.]]\n"
          ]
        }
      ]
    },
    {
      "cell_type": "code",
      "metadata": {
        "colab": {
          "base_uri": "https://localhost:8080/"
        },
        "id": "Xqm3K4Q-9lHr",
        "outputId": "8e0aac27-021c-4125-b209-27235ec7fe7a"
      },
      "source": [
        "r = np.array([0, 3, 1, 0])\n",
        "c = np.array([0, 1, 3, 2])\n",
        "d = np.array([4, 5, 7, 9])\n",
        "mt = sparse.coo_matrix((d, (r, c)), shape=(4, 4))\n",
        "print(mt)\n",
        "print(mt.todense())"
      ],
      "execution_count": null,
      "outputs": [
        {
          "output_type": "stream",
          "name": "stdout",
          "text": [
            "  (0, 0)\t4\n",
            "  (3, 1)\t5\n",
            "  (1, 3)\t7\n",
            "  (0, 2)\t9\n",
            "[[4 0 9 0]\n",
            " [0 0 0 7]\n",
            " [0 0 0 0]\n",
            " [0 5 0 0]]\n"
          ]
        }
      ]
    },
    {
      "cell_type": "markdown",
      "metadata": {
        "id": "zzQaM4HBOX7H"
      },
      "source": [
        "Duplicate entries are summed up. In the following example (0,0) has 3 entries and (1,1) 2. the values are summed up"
      ]
    },
    {
      "cell_type": "code",
      "metadata": {
        "colab": {
          "base_uri": "https://localhost:8080/"
        },
        "id": "iRCM-5_nBtt3",
        "outputId": "72dccb1c-10a8-4961-92cd-a601947d1780"
      },
      "source": [
        "r = np.array([0, 0, 1, 3, 1, 0, 0])\n",
        "c = np.array([0, 2, 1, 3, 1, 0, 0])\n",
        "d = np.array([1, 1, 1, 1, 1, 1, 1])\n",
        "m = sparse.coo_matrix((d, (r, c)), shape=(4, 4))\n",
        "print(m)\n",
        "print(m.todense())"
      ],
      "execution_count": null,
      "outputs": [
        {
          "output_type": "stream",
          "name": "stdout",
          "text": [
            "  (0, 0)\t1\n",
            "  (0, 2)\t1\n",
            "  (1, 1)\t1\n",
            "  (3, 3)\t1\n",
            "  (1, 1)\t1\n",
            "  (0, 0)\t1\n",
            "  (0, 0)\t1\n",
            "[[3 0 1 0]\n",
            " [0 2 0 0]\n",
            " [0 0 0 0]\n",
            " [0 0 0 1]]\n"
          ]
        }
      ]
    },
    {
      "cell_type": "markdown",
      "metadata": {
        "id": "xEpCaGymTv9S"
      },
      "source": [
        "# **Matplotlib**"
      ]
    },
    {
      "cell_type": "code",
      "metadata": {
        "colab": {
          "base_uri": "https://localhost:8080/",
          "height": 283
        },
        "id": "lecd8aL9OUQ9",
        "outputId": "067fe1b2-c5f5-4f0f-db03-01c5fb89d856"
      },
      "source": [
        "import matplotlib.pyplot as plt\n",
        "\n",
        "# Generate a sequence of numbers from -10 to 10 with 100 steps\n",
        "# in between\n",
        "x = np.linspace(-10, 10, 100)\n",
        "# Create a second array using sine\n",
        "y = np.sin(x)\n",
        "# The plot function makes a line chart of one array against another\n",
        "plt.plot(x, y, marker=\"*\")"
      ],
      "execution_count": null,
      "outputs": [
        {
          "output_type": "execute_result",
          "data": {
            "text/plain": [
              "[<matplotlib.lines.Line2D at 0x7f6a22273b90>]"
            ]
          },
          "metadata": {},
          "execution_count": 6
        },
        {
          "output_type": "display_data",
          "data": {
            "image/png": "[encoded data removed]",
            "text/plain": [
              "<Figure size 432x288 with 1 Axes>"
            ]
          },
          "metadata": {
            "needs_background": "light"
          }
        }
      ]
    },
    {
      "cell_type": "markdown",
      "metadata": {
        "id": "s76NBVadj3-2"
      },
      "source": [
        "# **Pandas**\n",
        "\n",
        "When we read a datafile the data has headers and the data below them. The file has to be converted to dataframe to further apply machine learning algorithms. One can conver list into a dataframe. A list is within {} brackets. It has labels which act as title of the column and the data in the [] brackets. You can give **pd.DataFrame** command to convert the list into a dataframe. One can add a column in the dataframe whenever required even if the header does not exist. For example if I have to add **Profession** colum all I have to do give the following command:\n",
        "\n",
        "data['Profession']=[\"Programmer\",\"Student\",\"Teacger\",\"Advocate\"]"
      ]
    },
    {
      "cell_type": "code",
      "metadata": {
        "colab": {
          "base_uri": "https://localhost:8080/"
        },
        "id": "LPgG0XMkj7c7",
        "outputId": "4f31e12c-e9e5-4b05-c20a-d249c318c75a"
      },
      "source": [
        "import pandas as pd\n",
        "# create a simple dataset of people\n",
        "data = {'Name': [\"Amit\", \"Shreya\", \"Himani\", \"Vivek\"],\n",
        "'Location' : [\"USA\", \"Dehradun\", \"Delhi\", \"Meerut\"],\n",
        "'Age' : [42, 23, 27, 51]\n",
        "}\n",
        "data_pandas = pd.DataFrame(data)\n",
        "\n",
        "print(data_pandas)"
      ],
      "execution_count": null,
      "outputs": [
        {
          "output_type": "stream",
          "name": "stdout",
          "text": [
            "     Name  Location  Age\n",
            "0    Amit       USA   42\n",
            "1  Shreya  Dehradun   23\n",
            "2  Himani     Delhi   27\n",
            "3   Vivek    Meerut   51\n"
          ]
        }
      ]
    },
    {
      "cell_type": "code",
      "metadata": {
        "colab": {
          "base_uri": "https://localhost:8080/"
        },
        "id": "LczT5tuvnV2q",
        "outputId": "1f71eb5e-f2c4-4313-90fa-3fc201e127a3"
      },
      "source": [
        "data_pandas['Profession']=[\"Programmer\",\"Student\",\"Teacher\",\"Advocate\"]\n",
        "print(data_pandas)"
      ],
      "execution_count": null,
      "outputs": [
        {
          "output_type": "stream",
          "name": "stdout",
          "text": [
            "     Name  Location  Age  Profession\n",
            "0    Amit       USA   42  Programmer\n",
            "1  Shreya  Dehradun   23     Student\n",
            "2  Himani     Delhi   27     Teacher\n",
            "3   Vivek    Meerut   51    Advocate\n"
          ]
        }
      ]
    },
    {
      "cell_type": "markdown",
      "metadata": {
        "id": "2OQ86ydsn-4T"
      },
      "source": [
        "In the above example we have easily added a column Profession in the existing dataframe."
      ]
    },
    {
      "cell_type": "markdown",
      "metadata": {
        "id": "ciX5cxPPoHIT"
      },
      "source": [
        "# **mglearn**\n",
        "\n",
        "mglearn is a package developed for the book title \"Introduction to machine learning with python\". The package can be used for loading the databses, plotting, calssification and more.You install mglearn using\n",
        "\n",
        "!pip install mglearn\n",
        "\n",
        "For details click on this link https://github.com/amueller/mglearn "
      ]
    },
    {
      "cell_type": "code",
      "metadata": {
        "colab": {
          "base_uri": "https://localhost:8080/"
        },
        "id": "sN056xfEvF8W",
        "outputId": "1da78252-e5e0-4ccb-a76f-6a42832fe3a9"
      },
      "source": [
        "!pip install mglearn"
      ],
      "execution_count": null,
      "outputs": [
        {
          "output_type": "stream",
          "name": "stdout",
          "text": [
            "Collecting mglearn\n",
            "  Downloading mglearn-0.1.9.tar.gz (540 kB)\n",
            "\u001b[?25l\r\u001b[K     |▋                               | 10 kB 23.3 MB/s eta 0:00:01\r\u001b[K     |█▏                              | 20 kB 27.9 MB/s eta 0:00:01\r\u001b[K     |█▉                              | 30 kB 31.4 MB/s eta 0:00:01\r\u001b[K     |██▍                             | 40 kB 34.9 MB/s eta 0:00:01\r\u001b[K     |███                             | 51 kB 37.0 MB/s eta 0:00:01\r\u001b[K     |███▋                            | 61 kB 37.9 MB/s eta 0:00:01\r\u001b[K     |████▎                           | 71 kB 35.6 MB/s eta 0:00:01\r\u001b[K     |████▉                           | 81 kB 35.9 MB/s eta 0:00:01\r\u001b[K     |█████▌                          | 92 kB 33.6 MB/s eta 0:00:01\r\u001b[K     |██████                          | 102 kB 30.4 MB/s eta 0:00:01\r\u001b[K     |██████▊                         | 112 kB 30.4 MB/s eta 0:00:01\r\u001b[K     |███████▎                        | 122 kB 30.4 MB/s eta 0:00:01\r\u001b[K     |███████▉                        | 133 kB 30.4 MB/s eta 0:00:01\r\u001b[K     |████████▌                       | 143 kB 30.4 MB/s eta 0:00:01\r\u001b[K     |█████████                       | 153 kB 30.4 MB/s eta 0:00:01\r\u001b[K     |█████████▊                      | 163 kB 30.4 MB/s eta 0:00:01\r\u001b[K     |██████████▎                     | 174 kB 30.4 MB/s eta 0:00:01\r\u001b[K     |███████████                     | 184 kB 30.4 MB/s eta 0:00:01\r\u001b[K     |███████████▌                    | 194 kB 30.4 MB/s eta 0:00:01\r\u001b[K     |████████████▏                   | 204 kB 30.4 MB/s eta 0:00:01\r\u001b[K     |████████████▊                   | 215 kB 30.4 MB/s eta 0:00:01\r\u001b[K     |█████████████▍                  | 225 kB 30.4 MB/s eta 0:00:01\r\u001b[K     |██████████████                  | 235 kB 30.4 MB/s eta 0:00:01\r\u001b[K     |██████████████▋                 | 245 kB 30.4 MB/s eta 0:00:01\r\u001b[K     |███████████████▏                | 256 kB 30.4 MB/s eta 0:00:01\r\u001b[K     |███████████████▊                | 266 kB 30.4 MB/s eta 0:00:01\r\u001b[K     |████████████████▍               | 276 kB 30.4 MB/s eta 0:00:01\r\u001b[K     |█████████████████               | 286 kB 30.4 MB/s eta 0:00:01\r\u001b[K     |█████████████████▋              | 296 kB 30.4 MB/s eta 0:00:01\r\u001b[K     |██████████████████▏             | 307 kB 30.4 MB/s eta 0:00:01\r\u001b[K     |██████████████████▉             | 317 kB 30.4 MB/s eta 0:00:01\r\u001b[K     |███████████████████▍            | 327 kB 30.4 MB/s eta 0:00:01\r\u001b[K     |████████████████████            | 337 kB 30.4 MB/s eta 0:00:01\r\u001b[K     |████████████████████▋           | 348 kB 30.4 MB/s eta 0:00:01\r\u001b[K     |█████████████████████▎          | 358 kB 30.4 MB/s eta 0:00:01\r\u001b[K     |█████████████████████▉          | 368 kB 30.4 MB/s eta 0:00:01\r\u001b[K     |██████████████████████▌         | 378 kB 30.4 MB/s eta 0:00:01\r\u001b[K     |███████████████████████         | 389 kB 30.4 MB/s eta 0:00:01\r\u001b[K     |███████████████████████▋        | 399 kB 30.4 MB/s eta 0:00:01\r\u001b[K     |████████████████████████▎       | 409 kB 30.4 MB/s eta 0:00:01\r\u001b[K     |████████████████████████▉       | 419 kB 30.4 MB/s eta 0:00:01\r\u001b[K     |█████████████████████████▌      | 430 kB 30.4 MB/s eta 0:00:01\r\u001b[K     |██████████████████████████      | 440 kB 30.4 MB/s eta 0:00:01\r\u001b[K     |██████████████████████████▊     | 450 kB 30.4 MB/s eta 0:00:01\r\u001b[K     |███████████████████████████▎    | 460 kB 30.4 MB/s eta 0:00:01\r\u001b[K     |████████████████████████████    | 471 kB 30.4 MB/s eta 0:00:01\r\u001b[K     |████████████████████████████▌   | 481 kB 30.4 MB/s eta 0:00:01\r\u001b[K     |█████████████████████████████▏  | 491 kB 30.4 MB/s eta 0:00:01\r\u001b[K     |█████████████████████████████▊  | 501 kB 30.4 MB/s eta 0:00:01\r\u001b[K     |██████████████████████████████▍ | 512 kB 30.4 MB/s eta 0:00:01\r\u001b[K     |███████████████████████████████ | 522 kB 30.4 MB/s eta 0:00:01\r\u001b[K     |███████████████████████████████▌| 532 kB 30.4 MB/s eta 0:00:01\r\u001b[K     |████████████████████████████████| 540 kB 30.4 MB/s \n",
            "\u001b[?25hRequirement already satisfied: numpy in /usr/local/lib/python3.7/dist-packages (from mglearn) (1.19.5)\n",
            "Requirement already satisfied: matplotlib in /usr/local/lib/python3.7/dist-packages (from mglearn) (3.2.2)\n",
            "Requirement already satisfied: scikit-learn in /usr/local/lib/python3.7/dist-packages (from mglearn) (1.0.1)\n",
            "Requirement already satisfied: pandas in /usr/local/lib/python3.7/dist-packages (from mglearn) (1.1.5)\n",
            "Requirement already satisfied: pillow in /usr/local/lib/python3.7/dist-packages (from mglearn) (7.1.2)\n",
            "Requirement already satisfied: cycler in /usr/local/lib/python3.7/dist-packages (from mglearn) (0.11.0)\n",
            "Requirement already satisfied: imageio in /usr/local/lib/python3.7/dist-packages (from mglearn) (2.4.1)\n",
            "Requirement already satisfied: joblib in /usr/local/lib/python3.7/dist-packages (from mglearn) (1.1.0)\n",
            "Requirement already satisfied: pyparsing!=2.0.4,!=2.1.2,!=2.1.6,>=2.0.1 in /usr/local/lib/python3.7/dist-packages (from matplotlib->mglearn) (3.0.6)\n",
            "Requirement already satisfied: python-dateutil>=2.1 in /usr/local/lib/python3.7/dist-packages (from matplotlib->mglearn) (2.8.2)\n",
            "Requirement already satisfied: kiwisolver>=1.0.1 in /usr/local/lib/python3.7/dist-packages (from matplotlib->mglearn) (1.3.2)\n",
            "Requirement already satisfied: six>=1.5 in /usr/local/lib/python3.7/dist-packages (from python-dateutil>=2.1->matplotlib->mglearn) (1.15.0)\n",
            "Requirement already satisfied: pytz>=2017.2 in /usr/local/lib/python3.7/dist-packages (from pandas->mglearn) (2018.9)\n",
            "Requirement already satisfied: scipy>=1.1.0 in /usr/local/lib/python3.7/dist-packages (from scikit-learn->mglearn) (1.4.1)\n",
            "Requirement already satisfied: threadpoolctl>=2.0.0 in /usr/local/lib/python3.7/dist-packages (from scikit-learn->mglearn) (3.0.0)\n",
            "Building wheels for collected packages: mglearn\n",
            "  Building wheel for mglearn (setup.py) ... \u001b[?25l\u001b[?25hdone\n",
            "  Created wheel for mglearn: filename=mglearn-0.1.9-py2.py3-none-any.whl size=582637 sha256=0194b13f465d586dde727b497c11c4abc5cb53f26968c6539266d2b804d30cbc\n",
            "  Stored in directory: /root/.cache/pip/wheels/f1/17/e1/1720d6dcd70187b6b6c3750cb3508798f2b1d57c9d3214b08b\n",
            "Successfully built mglearn\n",
            "Installing collected packages: mglearn\n",
            "Successfully installed mglearn-0.1.9\n"
          ]
        }
      ]
    },
    {
      "cell_type": "code",
      "metadata": {
        "colab": {
          "base_uri": "https://localhost:8080/",
          "height": 962
        },
        "id": "6cNQwbU1oLcU",
        "outputId": "0188ced1-6ce4-4b85-83b2-b7c8001df6bc"
      },
      "source": [
        "import mglearn\n",
        "X, y = mglearn.datasets.load_extended_boston()\n",
        "print(\"X.shape: {}\".format(X.shape))\n",
        "mglearn.plots.plot_knn_classification(n_neighbors=1)\n"
      ],
      "execution_count": null,
      "outputs": [
        {
          "output_type": "stream",
          "name": "stderr",
          "text": [
            "/usr/local/lib/python3.7/dist-packages/sklearn/utils/deprecation.py:87: FutureWarning: Function load_boston is deprecated; `load_boston` is deprecated in 1.0 and will be removed in 1.2.\n",
            "\n",
            "    The Boston housing prices dataset has an ethical problem. You can refer to\n",
            "    the documentation of this function for further details.\n",
            "\n",
            "    The scikit-learn maintainers therefore strongly discourage the use of this\n",
            "    dataset unless the purpose of the code is to study and educate about\n",
            "    ethical issues in data science and machine learning.\n",
            "\n",
            "    In this special case, you can fetch the dataset from the original\n",
            "    source::\n",
            "\n",
            "        import pandas as pd\n",
            "        import numpy as np\n",
            "\n",
            "\n",
            "        data_url = \"http://lib.stat.cmu.edu/datasets/boston\"\n",
            "        raw_df = pd.read_csv(data_url, sep=\"\\s+\", skiprows=22, header=None)\n",
            "        data = np.hstack([raw_df.values[::2, :], raw_df.values[1::2, :2]])\n",
            "        target = raw_df.values[1::2, 2]\n",
            "\n",
            "    Alternative datasets include the California housing dataset (i.e.\n",
            "    :func:`~sklearn.datasets.fetch_california_housing`) and the Ames housing\n",
            "    dataset. You can load the datasets as follows::\n",
            "\n",
            "        from sklearn.datasets import fetch_california_housing\n",
            "        housing = fetch_california_housing()\n",
            "\n",
            "    for the California housing dataset and::\n",
            "\n",
            "        from sklearn.datasets import fetch_openml\n",
            "        housing = fetch_openml(name=\"house_prices\", as_frame=True)\n",
            "\n",
            "    for the Ames housing dataset.\n",
            "    \n",
            "  warnings.warn(msg, category=FutureWarning)\n",
            "/usr/local/lib/python3.7/dist-packages/sklearn/utils/deprecation.py:87: FutureWarning: Function make_blobs is deprecated; Please import make_blobs directly from scikit-learn\n",
            "  warnings.warn(msg, category=FutureWarning)\n"
          ]
        },
        {
          "output_type": "stream",
          "name": "stdout",
          "text": [
            "X.shape: (506, 104)\n"
          ]
        },
        {
          "output_type": "display_data",
          "data": {
            "image/png": "[encoded data removed]",
            "text/plain": [
              "<Figure size 432x288 with 1 Axes>"
            ]
          },
          "metadata": {
            "needs_background": "light"
          }
        }
      ]
    },
    {
      "cell_type": "markdown",
      "metadata": {
        "id": "XrIipMSevgpR"
      },
      "source": [
        "In the above example data is imported from the repository using mglearn. The example uses machine leanring algorithm knn to plot a prediction.\n",
        "\n",
        "The k-NN algorithm is arguably the simplest machine learning algorithm. Building the model consists only of storing the training dataset. To make a prediction for a new data point, the algorithm finds the closest data points in the training dataset—its **nearest neighbors**."
      ]
    },
    {
      "cell_type": "markdown",
      "metadata": {
        "id": "B6DFWY6Fz__5"
      },
      "source": [
        "# **Parameters of knn**\n",
        "\n",
        "In principle, there are two important parameters to the KNeighbors classifier: the number of neighbors and how you measure distance between data points. In practice, using a small number of neighbors like three or five often works well, but you should certainly adjust this parameter.\n",
        "\n",
        "**Advantages of knn**\n",
        "\n",
        "One of the strengths of k-NN is that the model is very easy to understand, and often gives reasonable performance without a lot of adjustments. Using this algorithm is a good baseline method to try before considering more advanced techniques.\n",
        "\n",
        "**Disadvantages**\n",
        "\n",
        "1. Building the nearest neighbors model is usually very fast, but when your \n",
        "training set is very large (either in number of features or in number of samples) prediction can be slow.\n",
        "\n",
        "2. This approach often does not perform well on datasets with many features (hundreds or more), and it does particularly badly with datasets where most features are 0 most of the time (so-called sparse datasets). Therefore this model is not good for practices such as text mining.\n",
        "\n",
        "\n"
      ]
    },
    {
      "cell_type": "markdown",
      "metadata": {
        "id": "aD40a0sUZhU_"
      },
      "source": [
        "# **Semi-Supervised Learning**\n",
        "\n",
        "Semi-supervised learning is similar to supervised learning, except it works with both labelled and unlabeled data. Unlabeled data is information that does not have relevant tags so that the algorithm can comprehend it, whereas labelled data does. Using this combination, machine learning systems can learn to identify unlabeled data.\n",
        "\n",
        "# **Unsupervised Learning**\n",
        "\n",
        "Here, the machine learning algorithm studies data to identify patterns. There is no answer key or human operator to provide instruction. Instead, the machine determines the correlations and relationships by analysing available data. In an unsupervised learning process, the machine learning algorithm is left to interpret large data sets and address that data accordingly. The algorithm tries to organise that data in some way to describe its structure. This might mean grouping the data into clusters or arranging it in a way that looks more organised.\n",
        "\n",
        "As it assesses more data, its ability to make decisions on that data gradually improves and becomes more refined.\n",
        "\n",
        "Here, we have:\n",
        "\n",
        "1. Clustering: Clustering involves grouping sets of similar data (based on defined criteria). It’s useful for segmenting data into several groups and performing analysis on each data set to find patterns.\n",
        "\n",
        "2. Dimension reduction: Dimension reduction reduces the number of variables being considered to find the exact information required.\n",
        "\n"
      ]
    },
    {
      "cell_type": "markdown",
      "metadata": {
        "id": "2t4eBqm8bO9p"
      },
      "source": [
        "\n",
        "# **Reinforcement learning**\n",
        "\n",
        "Reinforcement learning focuses on regimented learning processes, where a machine learning algorithm is provided with a set of actions, parameters and end values. By defining the rules, the machine learning algorithm then tries to explore different options and possibilities, monitoring and evaluating each result to determine which one is optimal. Reinforcement learning teaches the machine trial and error. It learns from past experiences and begins to adapt its approach in response to the situation to achieve the best possible result.\n",
        "\n",
        "\n",
        "\n"
      ]
    },
    {
      "cell_type": "markdown",
      "metadata": {
        "id": "GkP3kRf_bncM"
      },
      "source": [
        "# **Different types of Algorithms**\n",
        "\n",
        "**Naïve Bayes Classifier Algorithm (Supervised Learning - Classification)**\n",
        "\n",
        "The Naïve Bayes classifier is based on Bayes’ theorem and classifies every value as independent of any other value. It allows us to predict a class/category, based on a given set of features, using probability.\n",
        "\n",
        "Despite its simplicity, the classifier does surprisingly well and is often used due to the fact it outperforms more sophisticated classification methods.\n",
        "\n",
        "\n",
        "**K Means Clustering Algorithm (Unsupervised Learning - Clustering)**\n",
        "\n",
        "The K Means Clustering algorithm is a type of unsupervised learning, which is used to categorise unlabelled data, i.e. data without defined categories or groups. The algorithm works by finding groups within the data, with the number of groups represented by the variable K. It then works iteratively to assign each data point to one of K groups based on the features provided.\n",
        "\n",
        "**Support Vector Machine Algorithm (Supervised Learning - Classification)**\n",
        "\n",
        "Support Vector Machine algorithms are supervised learning models that analyse data used for classification and regression analysis. They essentially filter data into categories, which is achieved by providing a set of training examples, each set marked as belonging to one or the other of the two categories. The algorithm then works to build a model that assigns new values to one category or the other.\n",
        "\n",
        "**Linear Regression (Supervised Learning/Regression)**\n",
        "\n",
        "Linear regression is the most basic type of regression. Simple linear regression allows us to understand the relationships between two continuous variables. \n",
        "\n",
        "**Logistic Regression (Supervised learning – Classification)**\n",
        "\n",
        "Logistic regression focuses on estimating the probability of an event occurring based on the previous data provided. It is used to cover a binary dependent variable, that is where only two values, 0 and 1, represent outcomes.\n",
        "\n",
        "**Artificial Neural Networks (Reinforcement Learning)**\n",
        "\n",
        "An artificial neural network (ANN) comprises ‘units’ arranged in a series of layers, each of which connects to layers on either side. ANNs are inspired by biological systems, such as the brain, and how they process information. ANNs are essentially a large number of interconnected processing elements, working in unison to solve specific problems.\n",
        "\n",
        "ANNs also learn by example and through experience, and they are extremely useful for modelling non-linear relationships in high-dimensional data or where the relationship amongst the input variables is difficult to understand.\n",
        "\n",
        "**Decision Trees (Supervised Learning – Classification/Regression)**\n",
        "\n",
        "A decision tree is a flow-chart-like tree structure that uses a branching method to illustrate every possible outcome of a decision. Each node within the tree represents a test on a specific variable – and each branch is the outcome of that test.\n",
        "\n",
        "**Random Forests (Supervised Learning – Classification/Regression)**\n",
        "Random forests or ‘random decision forests’ is an ensemble learning method, combining multiple algorithms to generate better results for classification, regression and other tasks. Each individual classifier is weak, but when combined with others, can produce excellent results. The algorithm starts with a ‘decision tree’ (a tree-like graph or model of decisions) and an input is entered at the top. It then travels down the tree, with data being segmented into smaller and smaller sets, based on specific variables.\n",
        "\n",
        "**Nearest Neighbours (Supervised Learning)**\n",
        "The K-Nearest-Neighbour algorithm estimates how likely a data point is to be a member of one group or another. It essentially looks at the data points around a single data point to determine what group it is actually in. For example, if one point is on a grid and the algorithm is trying to determine what group that data point is in (Group A or Group B, for example) it would look at the data points near it to see what group the majority of the points are in."
      ]
    },
    {
      "cell_type": "code",
      "metadata": {
        "id": "GPk5GsEChUZl"
      },
      "source": [
        ""
      ],
      "execution_count": null,
      "outputs": []
    }
  ]
}