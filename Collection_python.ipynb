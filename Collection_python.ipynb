{
  "nbformat": 4,
  "nbformat_minor": 0,
  "metadata": {
    "colab": {
      "name": "Collection_python.ipynb",
      "provenance": [],
      "collapsed_sections": [],
      "authorship_tag": "ABX9TyN3GJpiIJxy/eUMk9bLvR9+",
      "include_colab_link": true
    },
    "kernelspec": {
      "name": "python3",
      "display_name": "Python 3"
    },
    "language_info": {
      "name": "python"
    }
  },
  "cells": [
    {
      "cell_type": "markdown",
      "metadata": {
        "id": "view-in-github",
        "colab_type": "text"
      },
      "source": [
        "<a href=\"https://colab.research.google.com/github/anujsaxena/Python/blob/main/Collection_python.ipynb\" target=\"_parent\"><img src=\"https://colab.research.google.com/assets/colab-badge.svg\" alt=\"Open In Colab\"/></a>"
      ]
    },
    {
      "cell_type": "markdown",
      "metadata": {
        "id": "jodo7aR-vuvd"
      },
      "source": [
        "# **Python Collections**\n",
        "\n",
        "**Tuple**\n",
        "\n",
        "Tuple can store multiple items in a single variable. It is immutable and supports duplicates also"
      ]
    },
    {
      "cell_type": "code",
      "metadata": {
        "id": "P6tWjW_NwCWG"
      },
      "source": [
        "t=(\"delhi\",\"noida\",\"dehradun\",\"mumbai\")\n",
        "print(t)\n",
        "print(type(t))"
      ],
      "execution_count": null,
      "outputs": []
    },
    {
      "cell_type": "code",
      "metadata": {
        "id": "shB7WnyUwdeh"
      },
      "source": [
        "print(len(t))"
      ],
      "execution_count": null,
      "outputs": []
    },
    {
      "cell_type": "code",
      "metadata": {
        "id": "MMQ4ZvZXwgwb"
      },
      "source": [
        "print(t[0])"
      ],
      "execution_count": null,
      "outputs": []
    },
    {
      "cell_type": "code",
      "metadata": {
        "id": "goiL1B35wjke"
      },
      "source": [
        "t1=t[0]\n",
        "print(type(t1))\n",
        "print(len(t1))"
      ],
      "execution_count": null,
      "outputs": []
    },
    {
      "cell_type": "code",
      "metadata": {
        "id": "A795p2ggwtRT"
      },
      "source": [
        "t=(1,2,3,4,5,6,7,8,9)\n",
        "print(t)\n",
        "print(type(t))\n",
        "print(len(t))"
      ],
      "execution_count": null,
      "outputs": []
    },
    {
      "cell_type": "code",
      "metadata": {
        "id": "Ydq1nfKpw5Tj"
      },
      "source": [
        "t=(True, False, False, True)\n",
        "print(t)\n",
        "print(type(t))\n",
        "print(len(t))"
      ],
      "execution_count": null,
      "outputs": []
    },
    {
      "cell_type": "markdown",
      "metadata": {
        "id": "CQo96e0hxQjV"
      },
      "source": [
        "# A tuple can store numbers, strings, boolean or a mix of all"
      ]
    },
    {
      "cell_type": "code",
      "metadata": {
        "id": "2q3VY9c5xB1Z"
      },
      "source": [
        "t=(True,1,2,3,4,\"Delhi\",\"Mumbai\",6,7,False)\n",
        "print(t)\n",
        "print(type(t))\n",
        "print(len(t))"
      ],
      "execution_count": null,
      "outputs": []
    },
    {
      "cell_type": "code",
      "metadata": {
        "id": "yPf9aatVxfBq"
      },
      "source": [
        "t=(1,2,3,4,5,6,7)\n",
        "t[0]=9\n",
        "print(t)"
      ],
      "execution_count": null,
      "outputs": []
    },
    {
      "cell_type": "code",
      "metadata": {
        "id": "8wlp8G_XxsEm"
      },
      "source": [
        "t+=(2,3,4,5,6,7,8)\n",
        "print(t)"
      ],
      "execution_count": null,
      "outputs": []
    },
    {
      "cell_type": "code",
      "metadata": {
        "id": "2nSDCuHfy4C0"
      },
      "source": [
        "t1=t[0:3]\n",
        "print(t1)"
      ],
      "execution_count": null,
      "outputs": []
    },
    {
      "cell_type": "code",
      "metadata": {
        "id": "1aC3w43aHZsE"
      },
      "source": [
        "t1=t[3:]\n",
        "print(t1)"
      ],
      "execution_count": null,
      "outputs": []
    },
    {
      "cell_type": "markdown",
      "metadata": {
        "id": "G_UZwWZp6orl"
      },
      "source": [
        "# **Delete Tuple**\n"
      ]
    },
    {
      "cell_type": "code",
      "metadata": {
        "id": "WKKeIUOM6uwT"
      },
      "source": [
        "print(t1)\n",
        "del t1"
      ],
      "execution_count": null,
      "outputs": []
    },
    {
      "cell_type": "code",
      "metadata": {
        "id": "J8eeb_so7Sh4"
      },
      "source": [
        "print(t1)"
      ],
      "execution_count": null,
      "outputs": []
    },
    {
      "cell_type": "code",
      "metadata": {
        "id": "Zfiyawkh7V11"
      },
      "source": [
        "print(t)"
      ],
      "execution_count": null,
      "outputs": []
    },
    {
      "cell_type": "code",
      "metadata": {
        "id": "V4_In7_O7Y7H"
      },
      "source": [
        "t1=t\n",
        "t=[]\n"
      ],
      "execution_count": null,
      "outputs": []
    },
    {
      "cell_type": "code",
      "metadata": {
        "id": "i0ntSmW37shU"
      },
      "source": [
        "print(t)"
      ],
      "execution_count": null,
      "outputs": []
    },
    {
      "cell_type": "code",
      "metadata": {
        "id": "6P8Qpf2h7vAv"
      },
      "source": [
        "t=t1\n",
        "print(t)"
      ],
      "execution_count": null,
      "outputs": []
    },
    {
      "cell_type": "code",
      "metadata": {
        "id": "B5XTcDOz70Qd"
      },
      "source": [
        "print(t[2])\n",
        "t[2]=[]"
      ],
      "execution_count": null,
      "outputs": []
    },
    {
      "cell_type": "code",
      "metadata": {
        "id": "ah4bmnA3IGrh"
      },
      "source": [
        "del t[2]\n",
        "print(t)"
      ],
      "execution_count": null,
      "outputs": []
    },
    {
      "cell_type": "code",
      "metadata": {
        "id": "kh8gAymNITu4"
      },
      "source": [
        "del t\n",
        "print(t)"
      ],
      "execution_count": null,
      "outputs": []
    },
    {
      "cell_type": "code",
      "metadata": {
        "id": "1tx6yvZgITVh"
      },
      "source": [
        "t=t1\n",
        "print(t)"
      ],
      "execution_count": null,
      "outputs": []
    },
    {
      "cell_type": "code",
      "metadata": {
        "id": "xIRnog0mIn80"
      },
      "source": [
        "t=t[0:3]\n",
        "print(t)"
      ],
      "execution_count": null,
      "outputs": []
    },
    {
      "cell_type": "markdown",
      "metadata": {
        "id": "aRQmgB15yG3d"
      },
      "source": [
        "# **List**\n",
        "\n",
        "This article was published as a part of the Data Science Blogathon.\n",
        "Python Lists Refresher\n",
        "The list is one of the most widely used data types in Python. A Python List can be easily identified by square brackets [ ]. Lists are used to store the data items where each data item is separated by a comma (,). A Python List can have data items of any data type, be it an integer type or a boolean type.\n",
        "\n",
        "One of the leading reasons why lists are being widely used is that Lists are mutable. Being mutable means, any data item of a List can be replaced by any other data item. This makes Lists different from Tuples, which are also used for storing data items but are immutable."
      ]
    },
    {
      "cell_type": "code",
      "metadata": {
        "id": "kR5WQCNQybTJ"
      },
      "source": [
        "l=[2,3,4,5,1,6,7,8,9]\n",
        "print(l)\n",
        "print(type(l))"
      ],
      "execution_count": null,
      "outputs": []
    },
    {
      "cell_type": "markdown",
      "metadata": {
        "id": "8Q5AE1ezypeN"
      },
      "source": [
        "# Indexing in a List are of two types:\n",
        "\n",
        "1. Positive Indexing – Here the indexing starts from 0, moving from left to right.\n",
        "\n",
        "2. Negative Indexing – In this, the indexing starts from right to left and the rightmost element has an index value of -1."
      ]
    },
    {
      "cell_type": "code",
      "metadata": {
        "id": "hkH4vTT44v5e"
      },
      "source": [
        "l=[4,3,5,6,2,1,7,9,8,10]\n",
        "print(l[0])\n",
        "\n",
        "for i in l:\n",
        "  print(i)\n"
      ],
      "execution_count": null,
      "outputs": []
    },
    {
      "cell_type": "markdown",
      "metadata": {
        "id": "FBhvXy4p5PL5"
      },
      "source": [
        "# **Negative indexing**"
      ]
    },
    {
      "cell_type": "code",
      "metadata": {
        "id": "e-ykHXKq5Vh9"
      },
      "source": [
        "print(\"First element: {}\".format(l[-1]))\n",
        "for i in range(-1,-(len(l)+1),-1):\n",
        "  print(l[i], end=\",\")\n",
        "  "
      ],
      "execution_count": null,
      "outputs": []
    },
    {
      "cell_type": "markdown",
      "metadata": {
        "id": "_16zOoXg8Iym"
      },
      "source": [
        "# **Deleting**"
      ]
    },
    {
      "cell_type": "code",
      "metadata": {
        "id": "EZjhsQur8Hsd"
      },
      "source": [
        "l1=l\n",
        "del l\n",
        "print(l)"
      ],
      "execution_count": null,
      "outputs": []
    },
    {
      "cell_type": "code",
      "metadata": {
        "id": "DfhUR73q8XGO"
      },
      "source": [
        "l=l1\n",
        "l=[]\n",
        "print(l)"
      ],
      "execution_count": null,
      "outputs": []
    },
    {
      "cell_type": "code",
      "metadata": {
        "id": "3e5LgyY58k2s"
      },
      "source": [
        "l=l1\n",
        "print(l)\n",
        "l[2]=[]\n",
        "print(l)"
      ],
      "execution_count": null,
      "outputs": []
    },
    {
      "cell_type": "code",
      "metadata": {
        "id": "8WFCu7LY9HIO"
      },
      "source": [
        "l.remove([])\n",
        "print(l)"
      ],
      "execution_count": null,
      "outputs": []
    },
    {
      "cell_type": "code",
      "metadata": {
        "id": "BLX0bXAA9MNv"
      },
      "source": [
        "n=int(input(\"Enter a number to be removed from the list\"))\n",
        "if n in l:\n",
        "  l.remove(n)\n",
        "print(l)"
      ],
      "execution_count": null,
      "outputs": []
    },
    {
      "cell_type": "markdown",
      "metadata": {
        "id": "1exzMs3y-UEt"
      },
      "source": [
        "#**Remove all the occurances of an element from a list**"
      ]
    },
    {
      "cell_type": "code",
      "metadata": {
        "id": "P2SIB4CD-TYv"
      },
      "source": [
        "l=[1,2,3,2,4,5,7,6,8,1,4,5,7,6,8,9,2]\n",
        "print(l)\n",
        "n=int(input(\"Enter a number to be removed from the list \"))\n",
        "while n in l:\n",
        "  l.remove(n)\n",
        "print(l)"
      ],
      "execution_count": null,
      "outputs": []
    },
    {
      "cell_type": "code",
      "metadata": {
        "id": "SfP2J3Cd-2Hn"
      },
      "source": [
        "l=[1,2,3,2,4,5,7,6,8,1,4,5,7,6,8,9,2]\n",
        "print(l)\n",
        "ls = set(l)\n",
        "print(ls)\n",
        "l=list(ls)\n",
        "print(l)"
      ],
      "execution_count": null,
      "outputs": []
    },
    {
      "cell_type": "markdown",
      "metadata": {
        "id": "KvBFE-GB_Yyp"
      },
      "source": [
        "**# Delete using index**"
      ]
    },
    {
      "cell_type": "code",
      "metadata": {
        "id": "q-_5prvU_Wnc"
      },
      "source": [
        "l=[1,2,3,2,4,5,7,6,8,1,4,5,7,6,8,9,2]\n",
        "print(l)\n",
        "l1=l[1]\n",
        "del l[1]\n",
        "print(\"Delete element at index 1 : {0},\\n{1}\".format(l1,l))\n",
        "del l[-1]\n",
        "print(\"Delete element at index -1 : {}\".format(l))"
      ],
      "execution_count": null,
      "outputs": []
    },
    {
      "cell_type": "markdown",
      "metadata": {
        "id": "sLONtZ8IAaox"
      },
      "source": [
        "# Pop out the element"
      ]
    },
    {
      "cell_type": "code",
      "metadata": {
        "id": "zUEceoJaAec-"
      },
      "source": [
        "print(l)\n",
        "l.pop(0)\n",
        "print(l)\n",
        "l.pop(-1)\n",
        "print(l)"
      ],
      "execution_count": null,
      "outputs": []
    },
    {
      "cell_type": "markdown",
      "metadata": {
        "id": "4FsMQegiA25R"
      },
      "source": [
        "# Removing a slice\n",
        "\n",
        "Elemements can be removed in a range by either giving a start and stop range with : in between (example - l(2:4)). All the elemnts from a starting point can be removved by omitting the stop range (example: l(2:)).\n",
        "The indexing can be from reverse order also like: l(-2:)"
      ]
    },
    {
      "cell_type": "code",
      "metadata": {
        "id": "v7bOKGMQA6aW"
      },
      "source": [
        "l=[1,2,3,2,4,5,7,6,8,1,4,5,7,6,8,9,2]\n",
        "print(l)\n",
        "ls=l[0:3]\n",
        "print(ls)\n",
        "del l[0:3]\n",
        "print(\"Delete from 0 to 3 :{}\".format(l))\n",
        "del l[6:]\n",
        "print(\"Delete from 6 till end :{}\".format(l))\n",
        "del l[-3:]\n",
        "print(\"Delete from -3 till beginning :{}\".format(l))"
      ],
      "execution_count": null,
      "outputs": []
    },
    {
      "cell_type": "markdown",
      "metadata": {
        "id": "Wjmykt_QC85v"
      },
      "source": [
        "# Remove all the elements"
      ]
    },
    {
      "cell_type": "code",
      "metadata": {
        "id": "h0LZGHX0C8IC"
      },
      "source": [
        "l=[1,2,3,2,4,5,7,6,8,1,4,5,7,6,8,9,2]\n",
        "print(l)\n",
        "l.clear()\n",
        "print(l)"
      ],
      "execution_count": null,
      "outputs": []
    },
    {
      "cell_type": "markdown",
      "metadata": {
        "id": "DvS522SlMwRV"
      },
      "source": [
        "Append"
      ]
    },
    {
      "cell_type": "code",
      "metadata": {
        "id": "b9E0reFMMxlQ"
      },
      "source": [
        ""
      ],
      "execution_count": null,
      "outputs": []
    },
    {
      "cell_type": "code",
      "metadata": {
        "id": "YxHIG89AMx20"
      },
      "source": [
        "a = [0, 1, 1, 2, 3, 5, 8, 13]\n",
        "b = [5., \"girl\", 2+0j, \"horse\", 21]\n",
        "c =a+b\n",
        "print(c)"
      ],
      "execution_count": null,
      "outputs": []
    },
    {
      "cell_type": "code",
      "metadata": {
        "id": "sHRtw3WEM_7g"
      },
      "source": [
        "c[0]=c[0]+4\n",
        "print(c)"
      ],
      "execution_count": null,
      "outputs": []
    },
    {
      "cell_type": "markdown",
      "metadata": {
        "id": "zzDW96JyNPcJ"
      },
      "source": [
        "# **Range**"
      ]
    },
    {
      "cell_type": "code",
      "metadata": {
        "id": "AgueWa9cNOsv"
      },
      "source": [
        "a=range(3,10)\n",
        "print(a)"
      ],
      "execution_count": null,
      "outputs": []
    },
    {
      "cell_type": "code",
      "metadata": {
        "id": "UJXVhgg1NG0a"
      },
      "source": [
        "for i in a:\n",
        "  print(i, end=\",\")"
      ],
      "execution_count": null,
      "outputs": []
    },
    {
      "cell_type": "code",
      "metadata": {
        "id": "R4alykAINmzj"
      },
      "source": [
        "for i in range(1,10,3):\n",
        "  print(i, end=\",\")"
      ],
      "execution_count": null,
      "outputs": []
    },
    {
      "cell_type": "markdown",
      "metadata": {
        "id": "fer_AXPlONaG"
      },
      "source": [
        "Exchange the element"
      ]
    },
    {
      "cell_type": "code",
      "metadata": {
        "id": "sGb8jBKdOPpz"
      },
      "source": [
        "l=[1,3,4,5,6,7,8,9,10,11,12]\n",
        "print(l)"
      ],
      "execution_count": null,
      "outputs": []
    },
    {
      "cell_type": "code",
      "metadata": {
        "id": "ulX8GsPQOX3u"
      },
      "source": [
        "l[0],l[-1]=l[-1],l[0]\n",
        "print(l)"
      ],
      "execution_count": null,
      "outputs": []
    },
    {
      "cell_type": "markdown",
      "metadata": {
        "id": "agpvbf2uPAeT"
      },
      "source": [
        "# **Multidimensional list**"
      ]
    },
    {
      "cell_type": "code",
      "metadata": {
        "id": "UC_7jazWPGYj"
      },
      "source": [
        "l=[[1,2,3,4],[\"a\",\"b\",\"c\"],[True, False, True]]\n",
        "print(l)"
      ],
      "execution_count": null,
      "outputs": []
    },
    {
      "cell_type": "code",
      "metadata": {
        "id": "92lw4IMuPbc9"
      },
      "source": [
        "l.append([\"hello\",\"how are\",\"you\"])\n",
        "print(l)"
      ],
      "execution_count": null,
      "outputs": []
    },
    {
      "cell_type": "code",
      "metadata": {
        "id": "e30TkxZQPpYT"
      },
      "source": [
        "print(l[0][0])"
      ],
      "execution_count": null,
      "outputs": []
    },
    {
      "cell_type": "code",
      "metadata": {
        "id": "sjq2xmz5P4ND"
      },
      "source": [
        "print(l[0][1])"
      ],
      "execution_count": null,
      "outputs": []
    },
    {
      "cell_type": "code",
      "metadata": {
        "id": "GtZEtN9tP8os"
      },
      "source": [
        "print(l[1][0])"
      ],
      "execution_count": null,
      "outputs": []
    },
    {
      "cell_type": "code",
      "metadata": {
        "id": "BZ3XirPUQbNv"
      },
      "source": [
        "print(l[3][2])"
      ],
      "execution_count": null,
      "outputs": []
    },
    {
      "cell_type": "markdown",
      "metadata": {
        "id": "NsapYU8eQ4QD"
      },
      "source": [
        "# **Extend**"
      ]
    },
    {
      "cell_type": "code",
      "metadata": {
        "id": "mkJY2iH_Q3sW"
      },
      "source": [
        "l[0].extend([7,4,9,10])\n",
        "print(l)"
      ],
      "execution_count": null,
      "outputs": []
    },
    {
      "cell_type": "code",
      "metadata": {
        "id": "eHmj3AGnRMh5"
      },
      "source": [
        "l[0].extend([\"piyush\",\"nikki\"])\n",
        "print(l)"
      ],
      "execution_count": null,
      "outputs": []
    },
    {
      "cell_type": "code",
      "metadata": {
        "id": "WSiX_QCDRjrS"
      },
      "source": [
        "print(l[0][10])"
      ],
      "execution_count": null,
      "outputs": []
    },
    {
      "cell_type": "code",
      "metadata": {
        "id": "rH7SsEtPScKh"
      },
      "source": [
        "print(len(l[0]))"
      ],
      "execution_count": null,
      "outputs": []
    },
    {
      "cell_type": "code",
      "metadata": {
        "id": "5LU1iGx9R7Aa"
      },
      "source": [
        "for i in range(len(l)):\n",
        "  for j in range(len(l[i])):\n",
        "    print(l[i][j],end=\" \")\n",
        "  print()"
      ],
      "execution_count": null,
      "outputs": []
    },
    {
      "cell_type": "markdown",
      "metadata": {
        "id": "6m0pMdCLOFQm"
      },
      "source": [
        "# **Arrays**\n",
        "From the prvious knolwedge of arrays we know that \"Arrays are a linear collection of similar data types\". In python Array are like lists only which hold a group of items. Array stores items within square brackets and can store non-unique values. To create an array we need a module. One can use Numpy or array module for the same.\n",
        "\n",
        "To create an array using array module one has to give the value type. The syntax is :\n",
        "\n",
        "ar = array.array(<'value type'>, <[data]>)"
      ]
    },
    {
      "cell_type": "code",
      "metadata": {
        "id": "84kWMWr-QwQ6"
      },
      "source": [
        "import array\n",
        "ar = array.array('i',[1,2,3,4,5])\n",
        "print(ar)\n",
        "for i in ar:\n",
        "  print(i)\n"
      ],
      "execution_count": null,
      "outputs": []
    },
    {
      "cell_type": "code",
      "metadata": {
        "id": "tGgANg8XSgA8"
      },
      "source": [
        "import array\n",
        "ar = array.array('u',['a','b','c'])\n",
        "print(ar)\n",
        "for j in ar:\n",
        "  print(j)\n"
      ],
      "execution_count": null,
      "outputs": []
    },
    {
      "cell_type": "code",
      "metadata": {
        "id": "vTmUB9xcTQQl"
      },
      "source": [
        "import array\n",
        "ar = array.array('d',[2,4,5,6,7])\n",
        "print(ar)\n",
        "for i in ar:\n",
        "  print(i)\n"
      ],
      "execution_count": null,
      "outputs": []
    },
    {
      "cell_type": "code",
      "metadata": {
        "id": "qmrdSeTRTcIR"
      },
      "source": [
        "import array\n",
        "ar = array.array('b',[0,1,0,0,1])\n",
        "print(ar)\n",
        "for i in ar:\n",
        "  print(i)"
      ],
      "execution_count": null,
      "outputs": []
    },
    {
      "cell_type": "code",
      "metadata": {
        "id": "OJf1OizdTnWd"
      },
      "source": [
        "import array\n",
        "ar = array.array('b',[True,False,True,True,False])\n",
        "print(ar)\n",
        "for i in ar:\n",
        "  print(i)"
      ],
      "execution_count": null,
      "outputs": []
    },
    {
      "cell_type": "code",
      "metadata": {
        "id": "O-7jXwRQUBwE"
      },
      "source": [
        "l=[1,2,3,4,5,6,7,8,9,10]\n",
        "ar = array.array('i',l)\n",
        "print(ar)\n",
        "for i in ar:\n",
        "  print(i)"
      ],
      "execution_count": null,
      "outputs": []
    },
    {
      "cell_type": "markdown",
      "metadata": {
        "id": "XNXo3eiFUhGJ"
      },
      "source": [
        "# **Creating array using Numpy**\n",
        "\n"
      ]
    },
    {
      "cell_type": "code",
      "metadata": {
        "id": "mMw_m5B98LbR"
      },
      "source": [
        "import numpy as np\n",
        "\n",
        "ar = np.array([2,3,5,1,6,8,7,9])\n",
        "print(ar)\n",
        "print(type(ar))"
      ],
      "execution_count": null,
      "outputs": []
    },
    {
      "cell_type": "markdown",
      "metadata": {
        "id": "2Mq5OjQp9WmM"
      },
      "source": [
        "# **Converting a list into an array**"
      ]
    },
    {
      "cell_type": "code",
      "metadata": {
        "id": "HI1NA1569a_m"
      },
      "source": [
        "l =[3,1,8,9,10]\n",
        "print(l)\n",
        "print(type(l))\n",
        "ar= np.array(l)\n",
        "print(ar)\n",
        "print(type(ar))"
      ],
      "execution_count": null,
      "outputs": []
    },
    {
      "cell_type": "markdown",
      "metadata": {
        "id": "ueO-Njov8MRW"
      },
      "source": [
        "# **linspace**\n",
        "\n",
        "The linspace function creates an array of   evenly spaced points between a starting point and an ending point. \n",
        "\n",
        "The form of the function is linspace(start, stop, N). If the third argument N is omitted, then N=50.\n"
      ]
    },
    {
      "cell_type": "code",
      "metadata": {
        "id": "18KuhKkJUuCq"
      },
      "source": [
        "import numpy as np\n",
        "l =np.linspace(1,10)\n",
        "print(l)"
      ],
      "execution_count": null,
      "outputs": []
    },
    {
      "cell_type": "code",
      "metadata": {
        "id": "SCEcNeRYVEBU"
      },
      "source": [
        "import numpy as np\n",
        "l =np.linspace(1,10,10)\n",
        "print(l)"
      ],
      "execution_count": null,
      "outputs": []
    },
    {
      "cell_type": "code",
      "metadata": {
        "id": "LX7p9wp4VLqT"
      },
      "source": [
        "ar = array.array('d',l)\n",
        "print(ar)"
      ],
      "execution_count": null,
      "outputs": []
    },
    {
      "cell_type": "code",
      "metadata": {
        "id": "nnMdnqQlVVsF"
      },
      "source": [
        "for i in ar:\n",
        "  print(i, end=\",\")"
      ],
      "execution_count": null,
      "outputs": []
    },
    {
      "cell_type": "markdown",
      "metadata": {
        "id": "euZeHCkfVm8y"
      },
      "source": [
        "# **logspace**\n",
        "\n",
        "NumPy also has a closely related function logspace that produces evenly spaced points on a logarithmically spaced scale. The arguments are the same as those for linspace except that start and stop refer to a power of 10. That is, the array starts at 10^start  and 10^stop ."
      ]
    },
    {
      "cell_type": "code",
      "metadata": {
        "id": "pPyAf_o2Vja7"
      },
      "source": [
        "lg = np.logspace(1,3,10)\n",
        "print(lg)"
      ],
      "execution_count": null,
      "outputs": []
    },
    {
      "cell_type": "code",
      "metadata": {
        "id": "WezMGQJYWX2Q"
      },
      "source": [
        "ar = array.array('d',lg)\n",
        "print(ar)"
      ],
      "execution_count": null,
      "outputs": []
    },
    {
      "cell_type": "code",
      "metadata": {
        "id": "mN2pcdurWh8g"
      },
      "source": [
        "for i in ar:\n",
        "  print(i)"
      ],
      "execution_count": null,
      "outputs": []
    },
    {
      "cell_type": "code",
      "metadata": {
        "id": "HkpihElQWyIo"
      },
      "source": [
        "print(ar[2:5])"
      ],
      "execution_count": null,
      "outputs": []
    },
    {
      "cell_type": "code",
      "metadata": {
        "id": "72g8fTzPW6pd"
      },
      "source": [
        "arr= ar[2:5]\n",
        "for i in arr:\n",
        "  print(i)"
      ],
      "execution_count": null,
      "outputs": []
    },
    {
      "cell_type": "markdown",
      "metadata": {
        "id": "zEvlEZIlXbEV"
      },
      "source": [
        "# **arange**\n",
        "\n",
        "The third way arrays can be created is using the NumPy arange function, which is similar to the Python range function for creating lists. The form of the function is arange(start, stop, step). If the third argument is omitted step=1. If the first and third arguments are omitted, then start=0and step=1."
      ]
    },
    {
      "cell_type": "code",
      "metadata": {
        "id": "UJrk3BwlXagj"
      },
      "source": [
        "n=np.arange(1,10,2)\n",
        "print(n)"
      ],
      "execution_count": null,
      "outputs": []
    },
    {
      "cell_type": "code",
      "metadata": {
        "id": "Cg-WUQptXzI9"
      },
      "source": [
        "print(type(n))"
      ],
      "execution_count": null,
      "outputs": []
    },
    {
      "cell_type": "code",
      "metadata": {
        "id": "Dzhmj6IRYDC5"
      },
      "source": [
        "arr=array.array('i',n)\n",
        "print(arr)"
      ],
      "execution_count": null,
      "outputs": []
    },
    {
      "cell_type": "code",
      "metadata": {
        "id": "dzdfilVOYMOj"
      },
      "source": [
        "for i in arr:\n",
        "  print(i)"
      ],
      "execution_count": null,
      "outputs": []
    },
    {
      "cell_type": "code",
      "metadata": {
        "id": "H3pq_0icYZ0t"
      },
      "source": [
        "z=np.zeros(6)\n",
        "print(z)"
      ],
      "execution_count": null,
      "outputs": []
    },
    {
      "cell_type": "code",
      "metadata": {
        "id": "4my4WIt7Ynoh"
      },
      "source": [
        "print(type(z))"
      ],
      "execution_count": null,
      "outputs": []
    },
    {
      "cell_type": "code",
      "metadata": {
        "id": "XZlPLMVrYtcF"
      },
      "source": [
        "o=np.ones(9)\n",
        "print(o,end=\",\")\n",
        "print(type(o))"
      ],
      "execution_count": null,
      "outputs": []
    },
    {
      "cell_type": "markdown",
      "metadata": {
        "id": "CLD-IYZuZMxw"
      },
      "source": [
        "# **Mathematical operations**"
      ]
    },
    {
      "cell_type": "code",
      "metadata": {
        "id": "yKvM0X1UZSJK"
      },
      "source": [
        "a = np.linspace(-1., 5, 7)\n",
        "print(a)\n"
      ],
      "execution_count": null,
      "outputs": []
    },
    {
      "cell_type": "code",
      "metadata": {
        "id": "skcZq3mxZeGw"
      },
      "source": [
        "ar= a*2\n",
        "print(ar)"
      ],
      "execution_count": null,
      "outputs": []
    },
    {
      "cell_type": "code",
      "metadata": {
        "id": "K4EZCn_EZmkb"
      },
      "source": [
        "ar = a+2\n",
        "print(ar)"
      ],
      "execution_count": null,
      "outputs": []
    },
    {
      "cell_type": "code",
      "metadata": {
        "id": "NbHWTyDVZucu"
      },
      "source": [
        "ar = a/2\n",
        "print(ar)"
      ],
      "execution_count": null,
      "outputs": []
    },
    {
      "cell_type": "code",
      "metadata": {
        "id": "ftRZRbqtZyxW"
      },
      "source": [
        "ar = a**2\n",
        "print(ar)"
      ],
      "execution_count": null,
      "outputs": []
    },
    {
      "cell_type": "markdown",
      "metadata": {
        "id": "87mghTPZBRNf"
      },
      "source": [
        "# **Multidimensioanl arrays**\n",
        "We can use vertical stack to create an n-dimensional array"
      ]
    },
    {
      "cell_type": "code",
      "metadata": {
        "colab": {
          "base_uri": "https://localhost:8080/"
        },
        "id": "unICOD5PBO8O",
        "outputId": "92536fab-3020-4aa0-e37f-5fea7bf82f38"
      },
      "source": [
        "a = np.array([1,2,3])\n",
        "print(a)\n",
        "b = np.array([4,5,6])\n",
        "print(b)\n",
        "print()\n",
        "c = np.vstack((a, b))\n",
        "print(c)\n",
        "print(c.shape)"
      ],
      "execution_count": null,
      "outputs": [
        {
          "output_type": "stream",
          "name": "stdout",
          "text": [
            "[1 2 3]\n",
            "[4 5 6]\n",
            "\n",
            "[[1 2 3]\n",
            " [4 5 6]]\n",
            "(2, 3)\n"
          ]
        }
      ]
    },
    {
      "cell_type": "markdown",
      "metadata": {
        "id": "Dj5pr-HJCTCs"
      },
      "source": [
        "# **Concatinating array**\n",
        "We can use horizontal stack to concatenate the arrays"
      ]
    },
    {
      "cell_type": "code",
      "metadata": {
        "colab": {
          "base_uri": "https://localhost:8080/"
        },
        "id": "bI_CSv0ZBOgI",
        "outputId": "08a2a440-798b-4f25-9baa-636ea91f2665"
      },
      "source": [
        "a = np.array([1,2,3])\n",
        "print(a)\n",
        "b = np.array([4,5,6])\n",
        "print(b)\n",
        "print()\n",
        "c = np.hstack((a, b))\n",
        "print(c)\n",
        "print(c.shape)"
      ],
      "execution_count": null,
      "outputs": [
        {
          "output_type": "stream",
          "name": "stdout",
          "text": [
            "[1 2 3]\n",
            "[4 5 6]\n",
            "\n",
            "[1 2 3 4 5 6]\n",
            "(6,)\n"
          ]
        }
      ]
    },
    {
      "cell_type": "markdown",
      "metadata": {
        "id": "EaOszgj297hq"
      },
      "source": [
        "# **Difference btween List and array**\n",
        "\n",
        "For an array we need a seperate module but List is inbuilt, it does not require a seperate module.\n",
        "\n",
        "Array can store data more efficiently than List\n",
        "\n",
        "Arrays are good for mathematical opeartions. A List cannot direclty handle a mathematical operation. Let us see with an example:"
      ]
    },
    {
      "cell_type": "code",
      "metadata": {
        "id": "34cgXKNQ-ydB"
      },
      "source": [
        "l=[3,6,8,9,10]\n",
        "ar = np.array([2,7,8,9,10])\n",
        "opr = ar/2\n",
        "print(opr)\n",
        "opl=l/2\n",
        "print(op1)\n"
      ],
      "execution_count": null,
      "outputs": []
    },
    {
      "cell_type": "markdown",
      "metadata": {
        "id": "O9E6uyjqaSzh"
      },
      "source": [
        "# **Strings**"
      ]
    },
    {
      "cell_type": "code",
      "metadata": {
        "id": "Ldpxc2p-aQj_"
      },
      "source": [
        "S=\"welcome\"\n",
        "print(S)"
      ],
      "execution_count": null,
      "outputs": []
    },
    {
      "cell_type": "code",
      "metadata": {
        "id": "3RC0v_tVae3h"
      },
      "source": [
        "for i in S:\n",
        "  print(i)"
      ],
      "execution_count": null,
      "outputs": []
    },
    {
      "cell_type": "code",
      "metadata": {
        "id": "nGGnIeUJamGw"
      },
      "source": [
        "print(type(S))"
      ],
      "execution_count": null,
      "outputs": []
    },
    {
      "cell_type": "code",
      "metadata": {
        "id": "S100dp7tap5_"
      },
      "source": [
        "print(len(S))"
      ],
      "execution_count": null,
      "outputs": []
    },
    {
      "cell_type": "code",
      "metadata": {
        "id": "WIcq9x2da5rK"
      },
      "source": [
        "if 'o' in S:\n",
        "  print('Found')\n",
        "else:\n",
        "  print('Not present')"
      ],
      "execution_count": null,
      "outputs": []
    },
    {
      "cell_type": "markdown",
      "metadata": {
        "id": "sqSsdZq3bxX2"
      },
      "source": [
        "# **Multiple lines**\n",
        "\n"
      ]
    },
    {
      "cell_type": "code",
      "metadata": {
        "id": "6Fx5aGQhcA7h"
      },
      "source": [
        "s ='''Welcome to the world pf computing\n",
        "let us learn python.\n",
        "join us today'''\n",
        "print(s)\n",
        "print(type(s))"
      ],
      "execution_count": null,
      "outputs": []
    },
    {
      "cell_type": "code",
      "metadata": {
        "id": "slUfMuSucPps"
      },
      "source": [
        "if 'join' in s:\n",
        "  print('join us')\n",
        "else:\n",
        "  print('no issues')"
      ],
      "execution_count": null,
      "outputs": []
    },
    {
      "cell_type": "code",
      "metadata": {
        "id": "dcd5XrvRcqwJ"
      },
      "source": [
        "print(len(s))"
      ],
      "execution_count": null,
      "outputs": []
    }
  ]
}